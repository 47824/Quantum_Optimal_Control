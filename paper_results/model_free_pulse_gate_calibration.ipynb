{
 "cells": [
  {
   "cell_type": "markdown",
   "id": "66ee09f1-80da-4b9f-b724-c8288fceaf5a",
   "metadata": {},
   "source": [
    "# Model-free Pulse Gate Calibration using Reinforcement Learning\n",
    "\n",
    "In this notebook, we adjust the definition of the gate to be a custom pulse sequence to be simulated by Qiskit-Dynamics package.\n",
    "\n",
    "This notebook combines previously introduced modules of Qiskit and Tensorflow, combined to the usage of Qiskit-Dynamics to handle a pulse level simulation."
   ]
  },
  {
   "cell_type": "code",
   "execution_count": 1,
   "id": "51684300-b733-4ac6-bfbc-512f027e7ec4",
   "metadata": {},
   "outputs": [
    {
     "name": "stdout",
     "output_type": "stream",
     "text": [
      "WARNING:tensorflow:Please fix your imports. Module tensorflow.python.training.tracking.base has been moved to tensorflow.python.trackable.base. The old module will be deleted in version 2.11.\n"
     ]
    }
   ],
   "source": [
    "import numpy as np\n",
    "import os\n",
    "import sys\n",
    "module_path = os.path.abspath(os.path.join('/Users/arthurstrauss/Library/CloudStorage/OneDrive-NationalUniversityofSingapore/Coding_projects/Quantum_Optimal_Control'))\n",
    "if module_path not in sys.path:\n",
    "    sys.path.append(module_path)\n",
    "from quantumenvironment import QuantumEnvironment, get_solver_and_freq_from_backend\n",
    "from helper_functions import select_optimizer, generate_model, custom_pulse_schedule\n",
    "\n",
    "# Qiskit imports for building RL environment (circuit level)\n",
    "from qiskit import pulse, transpile\n",
    "from qiskit.providers.options import Options\n",
    "from qiskit.providers.fake_provider import FakeHanoi, FakeJakarta\n",
    "from qiskit.providers import QubitProperties\n",
    "from qiskit_ibm_runtime import QiskitRuntimeService\n",
    "from qiskit_dynamics import DynamicsBackend\n",
    "from qiskit_dynamics.array import Array\n",
    "from qiskit.circuit import ParameterVector, Parameter, ParameterExpression, QuantumCircuit, Gate\n",
    "from qiskit.extensions import CXGate, XGate, SXGate, RZGate\n",
    "from qiskit.opflow import H, I, X, S\n",
    "from qiskit_ibm_provider import IBMBackend, IBMProvider\n",
    "\n",
    "# Tensorflow imports for building RL agent and framework\n",
    "import tensorflow as tf\n",
    "from tensorflow_probability.python.distributions import MultivariateNormalDiag\n",
    "\n",
    "from tf_agents.specs import array_spec, tensor_spec\n",
    "\n",
    "# Additional imports\n",
    "from tqdm import tqdm\n",
    "from IPython.display import clear_output\n",
    "import matplotlib.pyplot as plt\n",
    "from typing import Optional\n",
    "# configure jax to use 64 bit mode\n",
    "import jax\n",
    "\n",
    "jax.config.update(\"jax_enable_x64\", True)\n",
    "# tell JAX we are using CPU\n",
    "jax.config.update(\"jax_platform_name\", \"cpu\")\n",
    "# import Array and set default backend\n",
    "\n",
    "Array.set_default_backend('jax')\n"
   ]
  },
  {
   "cell_type": "code",
   "execution_count": 2,
   "id": "af3f2aef-6244-4604-92a9-db67e1243cc8",
   "metadata": {},
   "outputs": [],
   "source": [
    "# Pulse gate ansatz\n",
    "\n",
    "def apply_parametrized_circuit(qc: QuantumCircuit):\n",
    "    \"\"\"\n",
    "    Define ansatz circuit to be played on Quantum Computer. Should be parametrized with Qiskit ParameterVector\n",
    "    This function is used to run the QuantumCircuit instance on a Runtime backend\n",
    "    :param qc: Quantum Circuit instance to add the gate on\n",
    "    :return:\n",
    "    \"\"\"\n",
    "    # qc.num_qubits\n",
    "    global n_actions, fake_backend, backend, qubit_tgt_register, target\n",
    "\n",
    "    # x_pulse = backend.defaults().instruction_schedule_map.get('x', (qubit_tgt_register,)).instructions[0][1].pulse\n",
    "    params = ParameterVector('theta', n_actions)\n",
    "\n",
    "    # original_calibration = backend.instruction_schedule_map.get(target[\"name\"])\n",
    "\n",
    "    parametrized_gate = Gate(f\"custom_{target['gate'].name}\", 1, params=[params[0]])\n",
    "    default_schedule = fake_backend.defaults().instruction_schedule_map.get(target[\"gate\"].name, qubit_tgt_register)\n",
    "    parametrized_schedule = custom_pulse_schedule(backend=backend, target=target, qubit_tgt_register=qubit_tgt_register,\n",
    "                                                  params=params, default_schedule=default_schedule)\n",
    "    qc.add_calibration(parametrized_gate, qubit_tgt_register, parametrized_schedule)\n",
    "    qc.append(parametrized_gate, qubit_tgt_register)"
   ]
  },
  {
   "cell_type": "markdown",
   "id": "fee8f687-75a9-46ff-b7e6-fc21498abc97",
   "metadata": {},
   "source": [
    "# Defining the QuantumEnvironment\n",
    "\n",
    "We provide below the details of our custom Quantum Processing Unit (QPU) we are controlling."
   ]
  },
  {
   "cell_type": "code",
   "execution_count": 3,
   "id": "18a1ade6-8fca-4635-98e8-0322e7a024f2",
   "metadata": {},
   "outputs": [],
   "source": [
    "qubit_tgt_register = [0]  # Choose which qubits of the QPU you want to address \n",
    "n_qubits = len(qubit_tgt_register)  # Set number of qubits to set the simulation details\n",
    "sampling_Paulis = 10\n",
    "N_shots = 1  # Number of shots for sampling the quantum computer for each action vector\n",
    "n_actions = 1  # Choose how many control parameters in pulse/circuit parametrization\n",
    "time_steps = 1  # Number of time steps within an episode (1 means you do one readout and assign right away the reward)\n",
    "\n",
    "estimator_options = {'resilience_level': 0}"
   ]
  },
  {
   "cell_type": "markdown",
   "id": "3b086066-11bd-40de-a362-e1b8e969364f",
   "metadata": {},
   "source": [
    "Choose below which IBM Backend to use. As we are dealing with pulse level implementation, we can either simulate a backend using QiskitDynamics, or use a real backend that supports OpenPulse features."
   ]
  },
  {
   "cell_type": "code",
   "execution_count": 4,
   "id": "3b95cba2-bcf0-4137-9b15-45c348b5e5bc",
   "metadata": {},
   "outputs": [],
   "source": [
    "\"\"\"\n",
    "Real backend initialization:\n",
    "Run this cell only if intending to use a real backend\n",
    "\"\"\"\n",
    "backend_name = 'ibm_perth'\n",
    "#provider = IBMProvider()\n",
    "#service = QiskitRuntimeService(channel='ibm_quantum')\n",
    "\n",
    "#runtime_backend = service.get_backend(backend_name)\n",
    "#real_backend = provider.get_backend(backend_name)\n"
   ]
  },
  {
   "cell_type": "markdown",
   "id": "8f19e9cf-d1ad-497d-b916-7967bbd1b589",
   "metadata": {},
   "source": [
    "Fake backend initialization:\n",
    "Run this cell only if intending to use a a simulation backend.\n",
    "Here we choose to get the Hamiltonian details of our simulated backend from an IBM FakeBackend,\n",
    "it could also be a user defined custom Hamiltonian/Linblad that could be used to feed the Qiskit DynamicsBackend object.\n",
    "cf. QiskitDynamics documentation\n"
   ]
  },
  {
   "cell_type": "code",
   "execution_count": 5,
   "id": "29f3ae17-fc3a-43ba-bdf2-eb82dafb947e",
   "metadata": {},
   "outputs": [],
   "source": [
    "from qiskit.providers.fake_provider import FakeHanoi, FakeJakarta, FakeJakartaV2\n",
    "service = None\n",
    "fake_backend = FakeJakarta()\n",
    "fake_backend_v2 = FakeJakartaV2()\n",
    "control_channel_map = {}\n",
    "control_channel_map_backend = {\n",
    "    **{qubits: fake_backend.configuration().control_channels[qubits][0].index for qubits in fake_backend.configuration().control_channels}}\n",
    "for qubits in control_channel_map_backend:\n",
    "    if qubits[0] in qubit_tgt_register and qubits[1] in qubit_tgt_register:\n",
    "        control_channel_map[qubits] = control_channel_map_backend[qubits]\n"
   ]
  },
  {
   "cell_type": "code",
   "execution_count": 6,
   "id": "bc10f9bd-92db-4f17-91f9-f9164a816290",
   "metadata": {},
   "outputs": [],
   "source": [
    "dynamics_options = {'seed_simulator': 5000, #\"configuration\": fake_backend.configuration(),\n",
    "                    'control_channel_map': control_channel_map,\n",
    "                    # Control channels to play CR tones, should match connectivity of device\n",
    "                    \"solver_options\": {\"method\": \"jax_odeint\", \"atol\": 1e-6, \"rtol\": 1e-8}\n",
    "                    }\n",
    "dynamics_backend = DynamicsBackend.from_backend(fake_backend, subsystem_list=qubit_tgt_register, **dynamics_options)\n",
    "\n",
    "target = dynamics_backend.target\n",
    "target.qubit_properties = fake_backend_v2.qubit_properties(qubit_tgt_register)\n",
    "\n",
    "# Extract channel frequencies and Solver instance from backend to provide a pulse level simulation enabling\n",
    "# fidelity benchmarking\n",
    "channel_freq, solver = get_solver_and_freq_from_backend(\n",
    "    backend=fake_backend,\n",
    "    subsystem_list=qubit_tgt_register,\n",
    "    rotating_frame=\"auto\",\n",
    "    evaluation_mode=\"dense\",\n",
    "    rwa_cutoff_freq=None,\n",
    "    static_dissipators=None,\n",
    "    dissipator_channels=None,\n",
    "    dissipator_operators=None\n",
    ")"
   ]
  },
  {
   "cell_type": "code",
   "execution_count": 7,
   "id": "e26d15c8-bdb0-4dbb-a3c3-ff18f6002aba",
   "metadata": {},
   "outputs": [],
   "source": [
    "# Choose backend among the set defined above: {runtime_backend, real_backend, dynamics_backend}\n",
    "backend = dynamics_backend"
   ]
  },
  {
   "cell_type": "code",
   "execution_count": 8,
   "id": "acb03d23-d682-4ff1-b6af-1adb3061b4a9",
   "metadata": {},
   "outputs": [],
   "source": [
    "# Define target gate\n",
    "X_tgt = {\n",
    "    \"target_type\": 'gate',\n",
    "    \"gate\": XGate(\"X\"),\n",
    "    \"register\": qubit_tgt_register,\n",
    "    \"input_states\": [\n",
    "        {\"name\": '|0>',\n",
    "         \"circuit\": I},\n",
    "\n",
    "        {\"name\": '|1>',\n",
    "         \"circuit\": X},\n",
    "\n",
    "        {\"name\": '|+>',\n",
    "         \"circuit\": H},\n",
    "        {\"name\": '|->',\n",
    "         \"circuit\": H @ X},\n",
    "    ]\n",
    "\n",
    "}\n",
    "\n",
    "target = X_tgt"
   ]
  },
  {
   "cell_type": "code",
   "execution_count": 9,
   "id": "d6fe7beb-22f9-4213-afc9-330789acf9ba",
   "metadata": {},
   "outputs": [],
   "source": [
    "# Wrap all info in one dict Qiskit_setup\n",
    "Qiskit_setup = {\n",
    "    \"backend\": backend,\n",
    "    \"parametrized_circuit\": apply_parametrized_circuit,\n",
    "    \"estimator_options\": estimator_options,\n",
    "    \"service\": service,\n",
    "    \"target_register\": qubit_tgt_register,\n",
    "    \"channel_freq\": channel_freq,\n",
    "    \"solver\": solver\n",
    "}\n",
    "\n",
    "action_spec = tensor_spec.BoundedTensorSpec(shape=(n_actions,), dtype=tf.float32, minimum=-1., maximum=1.)\n",
    "observation_spec = array_spec.ArraySpec(shape=(time_steps,), dtype=np.int32)"
   ]
  },
  {
   "cell_type": "markdown",
   "id": "2eb21e5f-ccb6-43c9-90e9-1fbe2f41e30d",
   "metadata": {},
   "source": [
    "Running the box below declares the QuantumEnvironment instance.\n",
    "\n",
    "If chosen backend is a simulated backend (through Qiskit Dynamics), this declaration launches a series of single qubit gate calibrations (to calibrate X and SX gate). The reason for this is that the Estimator primitive, which enables the easy calculation of Pauli expectation values, needs to append gates for doing Pauli basis rotations (SX and Rz gate)."
   ]
  },
  {
   "cell_type": "code",
   "execution_count": 10,
   "id": "67ab0679-3481-4feb-aeb4-8d5232898419",
   "metadata": {},
   "outputs": [
    {
     "name": "stdout",
     "output_type": "stream",
     "text": [
      "Starting initial single qubit gates calibrations...\n",
      "Backend Initial Target\n",
      "Number of qubits: 1\n",
      "Instructions:\n",
      "\tmeasure\n",
      "\t\t(0,):\n",
      "\t\t\tWith pulse schedule calibration\n",
      "\trz\n",
      "\t\t(0,):\n",
      "\t\t\tError Rate: 0.0\n",
      "\t\t\tWith pulse schedule calibration\n",
      "\tid\n",
      "\t\t(0,):\n",
      "\t\t\tError Rate: 0.0\n",
      "\t\t\tWith pulse schedule calibration\n",
      "\tx\n",
      "\t\t(0,)\n",
      "\tsx\n",
      "\t\t(0,)\n",
      "\n",
      "Starting Rabi experiments...\n",
      "Starting Rabi experiment for qubit 0...\n",
      "Rabi experiment for qubit 0 done.\n",
      "Starting Drag experiment for qubit 0...\n",
      "Drag experiments done for qubit 0 done.\n",
      "All calibrations are done\n",
      "Calibration <qiskit_experiments.calibration_management.calibrations.Calibrations object at 0x7ff04f03db20>\n",
      "Updated Target\n",
      "Number of qubits: 1\n",
      "Instructions:\n",
      "\tmeasure\n",
      "\t\t(0,):\n",
      "\t\t\tWith pulse schedule calibration\n",
      "\trz\n",
      "\t\t(0,):\n",
      "\t\t\tError Rate: 0.0\n",
      "\t\t\tWith pulse schedule calibration\n",
      "\tid\n",
      "\t\t(0,):\n",
      "\t\t\tError Rate: 0.0\n",
      "\t\t\tWith pulse schedule calibration\n",
      "\tx\n",
      "\t\t(0,):\n",
      "\t\t\tDuration: 3.5555555555555554e-08 sec.\n",
      "\t\t\tError Rate: 0.01\n",
      "\t\t\tWith pulse schedule calibration\n",
      "\tsx\n",
      "\t\t(0,):\n",
      "\t\t\tDuration: 3.5555555555555554e-08 sec.\n",
      "\t\t\tError Rate: 0.01\n",
      "\t\t\tWith pulse schedule calibration\n",
      "\th\n",
      "\t\t(0,):\n",
      "\t\t\tError Rate: 0.01\n",
      "\t\t\tWith pulse schedule calibration\n",
      "\n",
      "Provided backend is <class 'qiskit_dynamics.backend.dynamics_backend.DynamicsBackend'>\n",
      "CPU times: user 13.8 s, sys: 148 ms, total: 13.9 s\n",
      "Wall time: 14.2 s\n"
     ]
    }
   ],
   "source": [
    "%%time\n",
    "q_env = QuantumEnvironment(n_qubits=n_qubits, target=target, abstraction_level=\"pulse\",\n",
    "                           action_spec=action_spec, observation_spec=observation_spec,\n",
    "                           Qiskit_config=Qiskit_setup,\n",
    "                           sampling_Pauli_space=sampling_Paulis, n_shots=N_shots, c_factor=0.5)"
   ]
  },
  {
   "cell_type": "markdown",
   "id": "0e4d62cd-aece-4d1f-822b-d262cd254134",
   "metadata": {},
   "source": [
    "# Defining the RL agent: PPO"
   ]
  },
  {
   "cell_type": "code",
   "execution_count": 11,
   "id": "f8dda7fc-da3f-41ca-bdc1-300880c078c5",
   "metadata": {},
   "outputs": [
    {
     "name": "stdout",
     "output_type": "stream",
     "text": [
      "CPU times: user 2 µs, sys: 2 µs, total: 4 µs\n",
      "Wall time: 5.96 µs\n"
     ]
    }
   ],
   "source": [
    "\"\"\"\n",
    "-----------------------------------------------------------------------------------------------------\n",
    "Hyperparameters for RL agent\n",
    "-----------------------------------------------------------------------------------------------------\n",
    "\"\"\"\n",
    "%time\n",
    "# Hyperparameters for the agent\n",
    "n_epochs = 200  # Number of epochs\n",
    "batchsize = 50  # Batch size (iterate over a bunch of actions per policy to estimate expected return)\n",
    "opti = \"Adam\"\n",
    "eta = 0.001  # Learning rate for policy update step\n",
    "eta_2 = None  # Learning rate for critic (value function) update step\n",
    "\n",
    "use_PPO = True\n",
    "epsilon = 0.1  # Parameter for clipping value (PPO)\n",
    "grad_clip = 0.01\n",
    "critic_loss_coeff = 0.5\n",
    "optimizer = select_optimizer(lr=eta, optimizer=opti, grad_clip=grad_clip, concurrent_optimization=True, lr2=eta_2)\n",
    "sigma_eps = 1e-3  # for numerical stability"
   ]
  },
  {
   "cell_type": "code",
   "execution_count": 12,
   "id": "8f5df469-a5a3-441f-a58c-e63a78e1e803",
   "metadata": {},
   "outputs": [
    {
     "name": "stdout",
     "output_type": "stream",
     "text": [
      "Model: \"model\"\n",
      "__________________________________________________________________________________________________\n",
      "Layer (type)                    Output Shape         Param #     Connected to                     \n",
      "==================================================================================================\n",
      "input_1 (InputLayer)            [(None, 2)]          0                                            \n",
      "__________________________________________________________________________________________________\n",
      "hidden_0 (Dense)                (None, 82)           246         input_1[0][0]                    \n",
      "__________________________________________________________________________________________________\n",
      "hidden_1 (Dense)                (None, 82)           6806        hidden_0[0][0]                   \n",
      "__________________________________________________________________________________________________\n",
      "mean_vec (Dense)                (None, 1)            83          hidden_1[0][0]                   \n",
      "__________________________________________________________________________________________________\n",
      "sigma_vec (Dense)               (None, 1)            83          hidden_1[0][0]                   \n",
      "__________________________________________________________________________________________________\n",
      "critic_output (Dense)           (None, 1)            83          hidden_1[0][0]                   \n",
      "==================================================================================================\n",
      "Total params: 7,301\n",
      "Trainable params: 7,301\n",
      "Non-trainable params: 0\n",
      "__________________________________________________________________________________________________\n"
     ]
    }
   ],
   "source": [
    "\"\"\"\n",
    "-----------------------------------------------------------------------------------------------------\n",
    "Policy parameters\n",
    "-----------------------------------------------------------------------------------------------------\n",
    "\"\"\"\n",
    "# Policy parameters\n",
    "N_in = n_qubits + 1  # One input for each measured qubit state (0 or 1 input for each neuron)\n",
    "hidden_units = [82, 82]  # List containing number of units in each hidden layer\n",
    "\n",
    "network = generate_model((N_in,), hidden_units, n_actions, actor_critic_together=True)\n",
    "network.summary()\n",
    "init_msmt = np.zeros((1, N_in))  # Here no feedback involved, so measurement sequence is always the same"
   ]
  },
  {
   "cell_type": "code",
   "execution_count": 13,
   "id": "597d3ca1-9f9b-4b27-940d-7688f48e47a8",
   "metadata": {},
   "outputs": [],
   "source": [
    "# Plotting tools\n",
    "plt.rcParams['figure.dpi'] = 300\n",
    "plt.rcParams['savefig.dpi'] = 300\n",
    "avg_return = np.zeros(n_epochs)\n",
    "fidelities = np.zeros(n_epochs)\n",
    "visualization_steps = 20\n",
    "%matplotlib inline"
   ]
  },
  {
   "cell_type": "code",
   "execution_count": 14,
   "id": "cf1166d2-87fe-4c5e-a8d6-3376ef96bdcb",
   "metadata": {},
   "outputs": [
    {
     "data": {
      "image/png": "[encoded data removed]",
      "text/plain": [
       "<Figure size 1920x1440 with 1 Axes>"
      ]
     },
     "metadata": {},
     "output_type": "display_data"
    },
    {
     "name": "stderr",
     "output_type": "stream",
     "text": [
      " 90%|█████████████████████████████████████    | 181/200 [58:43<12:01, 37.99s/it]"
     ]
    },
    {
     "name": "stdout",
     "output_type": "stream",
     "text": [
      "Maximum return reached so far: 1.0 at Epoch 0\n",
      "Calibrations of quantum circuit {'custom_x': {((0,), (ParameterVectorElement(theta[0]),)): ScheduleBlock(Play(Drag(duration=160, sigma=40, beta=-1.0205387662332952, amp=theta[0], angle=0.0), DriveChannel(0)), name=\"param_schedule\", transform=AlignLeft())}}\n",
      "Sending job to Estimator...\n"
     ]
    },
    {
     "name": "stderr",
     "output_type": "stream",
     "text": [
      " 91%|█████████████████████████████████████▎   | 182/200 [59:17<11:03, 36.86s/it]"
     ]
    },
    {
     "name": "stdout",
     "output_type": "stream",
     "text": [
      "Job done\n",
      "\n",
      " Epoch 181\n",
      "Average reward 0.99\n",
      "Calibrations of quantum circuit {'custom_x': {((0,), (ParameterVectorElement(theta[0]),)): ScheduleBlock(Play(Drag(duration=160, sigma=40, beta=-1.0205387662332952, amp=theta[0], angle=0.0), DriveChannel(0)), name=\"param_schedule\", transform=AlignLeft())}}\n",
      "Sending job to Estimator...\n"
     ]
    },
    {
     "name": "stderr",
     "output_type": "stream",
     "text": [
      " 92%|█████████████████████████████████████▌   | 183/200 [59:54<10:27, 36.93s/it]"
     ]
    },
    {
     "name": "stdout",
     "output_type": "stream",
     "text": [
      "Job done\n",
      "\n",
      " Epoch 182\n",
      "Average reward 0.9940000000000001\n",
      "Calibrations of quantum circuit {'custom_x': {((0,), (ParameterVectorElement(theta[0]),)): ScheduleBlock(Play(Drag(duration=160, sigma=40, beta=-1.0205387662332952, amp=theta[0], angle=0.0), DriveChannel(0)), name=\"param_schedule\", transform=AlignLeft())}}\n",
      "Sending job to Estimator...\n"
     ]
    },
    {
     "name": "stderr",
     "output_type": "stream",
     "text": [
      " 92%|███████████████████████████████████▉   | 184/200 [1:00:32<09:52, 37.04s/it]"
     ]
    },
    {
     "name": "stdout",
     "output_type": "stream",
     "text": [
      "Job done\n",
      "\n",
      " Epoch 183\n",
      "Average reward 0.0\n",
      "Calibrations of quantum circuit {'custom_x': {((0,), (ParameterVectorElement(theta[0]),)): ScheduleBlock(Play(Drag(duration=160, sigma=40, beta=-1.0205387662332952, amp=theta[0], angle=0.0), DriveChannel(0)), name=\"param_schedule\", transform=AlignLeft())}}\n",
      "Sending job to Estimator...\n"
     ]
    },
    {
     "name": "stderr",
     "output_type": "stream",
     "text": [
      " 92%|████████████████████████████████████   | 185/200 [1:01:09<09:16, 37.10s/it]"
     ]
    },
    {
     "name": "stdout",
     "output_type": "stream",
     "text": [
      "Job done\n",
      "\n",
      " Epoch 184\n",
      "Average reward 0.992\n",
      "Calibrations of quantum circuit {'custom_x': {((0,), (ParameterVectorElement(theta[0]),)): ScheduleBlock(Play(Drag(duration=160, sigma=40, beta=-1.0205387662332952, amp=theta[0], angle=0.0), DriveChannel(0)), name=\"param_schedule\", transform=AlignLeft())}}\n",
      "Sending job to Estimator...\n"
     ]
    },
    {
     "name": "stderr",
     "output_type": "stream",
     "text": [
      " 93%|████████████████████████████████████▎  | 186/200 [1:01:47<08:42, 37.32s/it]"
     ]
    },
    {
     "name": "stdout",
     "output_type": "stream",
     "text": [
      "Job done\n",
      "\n",
      " Epoch 185\n",
      "Average reward 0.0\n",
      "Calibrations of quantum circuit {'custom_x': {((0,), (ParameterVectorElement(theta[0]),)): ScheduleBlock(Play(Drag(duration=160, sigma=40, beta=-1.0205387662332952, amp=theta[0], angle=0.0), DriveChannel(0)), name=\"param_schedule\", transform=AlignLeft())}}\n",
      "Sending job to Estimator...\n"
     ]
    },
    {
     "name": "stderr",
     "output_type": "stream",
     "text": [
      " 94%|████████████████████████████████████▍  | 187/200 [1:02:21<07:54, 36.52s/it]"
     ]
    },
    {
     "name": "stdout",
     "output_type": "stream",
     "text": [
      "Job done\n",
      "\n",
      " Epoch 186\n",
      "Average reward 0.99\n",
      "Calibrations of quantum circuit {'custom_x': {((0,), (ParameterVectorElement(theta[0]),)): ScheduleBlock(Play(Drag(duration=160, sigma=40, beta=-1.0205387662332952, amp=theta[0], angle=0.0), DriveChannel(0)), name=\"param_schedule\", transform=AlignLeft())}}\n",
      "Sending job to Estimator...\n"
     ]
    },
    {
     "name": "stderr",
     "output_type": "stream",
     "text": [
      " 94%|████████████████████████████████████▋  | 188/200 [1:03:00<07:24, 37.05s/it]"
     ]
    },
    {
     "name": "stdout",
     "output_type": "stream",
     "text": [
      "Job done\n",
      "\n",
      " Epoch 187\n",
      "Average reward 0.0\n",
      "Calibrations of quantum circuit {'custom_x': {((0,), (ParameterVectorElement(theta[0]),)): ScheduleBlock(Play(Drag(duration=160, sigma=40, beta=-1.0205387662332952, amp=theta[0], angle=0.0), DriveChannel(0)), name=\"param_schedule\", transform=AlignLeft())}}\n",
      "Sending job to Estimator...\n"
     ]
    },
    {
     "name": "stderr",
     "output_type": "stream",
     "text": [
      " 94%|████████████████████████████████████▊  | 189/200 [1:03:38<06:51, 37.45s/it]"
     ]
    },
    {
     "name": "stdout",
     "output_type": "stream",
     "text": [
      "Job done\n",
      "\n",
      " Epoch 188\n",
      "Average reward 1.0\n",
      "Calibrations of quantum circuit {'custom_x': {((0,), (ParameterVectorElement(theta[0]),)): ScheduleBlock(Play(Drag(duration=160, sigma=40, beta=-1.0205387662332952, amp=theta[0], angle=0.0), DriveChannel(0)), name=\"param_schedule\", transform=AlignLeft())}}\n",
      "Sending job to Estimator...\n"
     ]
    },
    {
     "name": "stderr",
     "output_type": "stream",
     "text": [
      " 95%|█████████████████████████████████████  | 190/200 [1:04:16<06:15, 37.52s/it]"
     ]
    },
    {
     "name": "stdout",
     "output_type": "stream",
     "text": [
      "Job done\n",
      "\n",
      " Epoch 189\n",
      "Average reward 1.0\n",
      "Calibrations of quantum circuit {'custom_x': {((0,), (ParameterVectorElement(theta[0]),)): ScheduleBlock(Play(Drag(duration=160, sigma=40, beta=-1.0205387662332952, amp=theta[0], angle=0.0), DriveChannel(0)), name=\"param_schedule\", transform=AlignLeft())}}\n",
      "Sending job to Estimator...\n"
     ]
    },
    {
     "name": "stderr",
     "output_type": "stream",
     "text": [
      " 96%|█████████████████████████████████████▏ | 191/200 [1:04:55<05:42, 38.04s/it]"
     ]
    },
    {
     "name": "stdout",
     "output_type": "stream",
     "text": [
      "Job done\n",
      "\n",
      " Epoch 190\n",
      "Average reward 0.9840000000000001\n",
      "Calibrations of quantum circuit {'custom_x': {((0,), (ParameterVectorElement(theta[0]),)): ScheduleBlock(Play(Drag(duration=160, sigma=40, beta=-1.0205387662332952, amp=theta[0], angle=0.0), DriveChannel(0)), name=\"param_schedule\", transform=AlignLeft())}}\n",
      "Sending job to Estimator...\n"
     ]
    },
    {
     "name": "stderr",
     "output_type": "stream",
     "text": [
      " 96%|█████████████████████████████████████▍ | 192/200 [1:05:33<05:03, 37.93s/it]"
     ]
    },
    {
     "name": "stdout",
     "output_type": "stream",
     "text": [
      "Job done\n",
      "\n",
      " Epoch 191\n",
      "Average reward 0.97\n",
      "Calibrations of quantum circuit {'custom_x': {((0,), (ParameterVectorElement(theta[0]),)): ScheduleBlock(Play(Drag(duration=160, sigma=40, beta=-1.0205387662332952, amp=theta[0], angle=0.0), DriveChannel(0)), name=\"param_schedule\", transform=AlignLeft())}}\n",
      "Sending job to Estimator...\n"
     ]
    },
    {
     "name": "stderr",
     "output_type": "stream",
     "text": [
      " 96%|█████████████████████████████████████▋ | 193/200 [1:06:15<04:34, 39.26s/it]"
     ]
    },
    {
     "name": "stdout",
     "output_type": "stream",
     "text": [
      "Job done\n",
      "\n",
      " Epoch 192\n",
      "Average reward 0.9940000000000001\n",
      "Calibrations of quantum circuit {'custom_x': {((0,), (ParameterVectorElement(theta[0]),)): ScheduleBlock(Play(Drag(duration=160, sigma=40, beta=-1.0205387662332952, amp=theta[0], angle=0.0), DriveChannel(0)), name=\"param_schedule\", transform=AlignLeft())}}\n",
      "Sending job to Estimator...\n"
     ]
    },
    {
     "name": "stderr",
     "output_type": "stream",
     "text": [
      " 97%|█████████████████████████████████████▊ | 194/200 [1:06:57<03:59, 39.92s/it]"
     ]
    },
    {
     "name": "stdout",
     "output_type": "stream",
     "text": [
      "Job done\n",
      "\n",
      " Epoch 193\n",
      "Average reward 0.982\n",
      "Calibrations of quantum circuit {'custom_x': {((0,), (ParameterVectorElement(theta[0]),)): ScheduleBlock(Play(Drag(duration=160, sigma=40, beta=-1.0205387662332952, amp=theta[0], angle=0.0), DriveChannel(0)), name=\"param_schedule\", transform=AlignLeft())}}\n",
      "Sending job to Estimator...\n"
     ]
    },
    {
     "name": "stderr",
     "output_type": "stream",
     "text": [
      " 98%|██████████████████████████████████████ | 195/200 [1:07:35<03:17, 39.46s/it]"
     ]
    },
    {
     "name": "stdout",
     "output_type": "stream",
     "text": [
      "Job done\n",
      "\n",
      " Epoch 194\n",
      "Average reward 0.0\n",
      "Calibrations of quantum circuit {'custom_x': {((0,), (ParameterVectorElement(theta[0]),)): ScheduleBlock(Play(Drag(duration=160, sigma=40, beta=-1.0205387662332952, amp=theta[0], angle=0.0), DriveChannel(0)), name=\"param_schedule\", transform=AlignLeft())}}\n",
      "Sending job to Estimator...\n"
     ]
    },
    {
     "name": "stderr",
     "output_type": "stream",
     "text": [
      " 98%|██████████████████████████████████████▏| 196/200 [1:08:15<02:38, 39.64s/it]"
     ]
    },
    {
     "name": "stdout",
     "output_type": "stream",
     "text": [
      "Job done\n",
      "\n",
      " Epoch 195\n",
      "Average reward 0.0\n",
      "Calibrations of quantum circuit {'custom_x': {((0,), (ParameterVectorElement(theta[0]),)): ScheduleBlock(Play(Drag(duration=160, sigma=40, beta=-1.0205387662332952, amp=theta[0], angle=0.0), DriveChannel(0)), name=\"param_schedule\", transform=AlignLeft())}}\n",
      "Sending job to Estimator...\n"
     ]
    },
    {
     "name": "stderr",
     "output_type": "stream",
     "text": [
      " 98%|██████████████████████████████████████▍| 197/200 [1:08:56<02:00, 40.13s/it]"
     ]
    },
    {
     "name": "stdout",
     "output_type": "stream",
     "text": [
      "Job done\n",
      "\n",
      " Epoch 196\n",
      "Average reward 0.9760000000000001\n",
      "Calibrations of quantum circuit {'custom_x': {((0,), (ParameterVectorElement(theta[0]),)): ScheduleBlock(Play(Drag(duration=160, sigma=40, beta=-1.0205387662332952, amp=theta[0], angle=0.0), DriveChannel(0)), name=\"param_schedule\", transform=AlignLeft())}}\n",
      "Sending job to Estimator...\n"
     ]
    },
    {
     "name": "stderr",
     "output_type": "stream",
     "text": [
      " 99%|██████████████████████████████████████▌| 198/200 [1:09:33<01:18, 39.25s/it]"
     ]
    },
    {
     "name": "stdout",
     "output_type": "stream",
     "text": [
      "Job done\n",
      "\n",
      " Epoch 197\n",
      "Average reward 0.9800000000000001\n",
      "Calibrations of quantum circuit {'custom_x': {((0,), (ParameterVectorElement(theta[0]),)): ScheduleBlock(Play(Drag(duration=160, sigma=40, beta=-1.0205387662332952, amp=theta[0], angle=0.0), DriveChannel(0)), name=\"param_schedule\", transform=AlignLeft())}}\n",
      "Sending job to Estimator...\n"
     ]
    },
    {
     "name": "stderr",
     "output_type": "stream",
     "text": [
      "100%|██████████████████████████████████████▊| 199/200 [1:10:13<00:39, 39.47s/it]"
     ]
    },
    {
     "name": "stdout",
     "output_type": "stream",
     "text": [
      "Job done\n",
      "\n",
      " Epoch 198\n",
      "Average reward 0.0\n",
      "Calibrations of quantum circuit {'custom_x': {((0,), (ParameterVectorElement(theta[0]),)): ScheduleBlock(Play(Drag(duration=160, sigma=40, beta=-1.0205387662332952, amp=theta[0], angle=0.0), DriveChannel(0)), name=\"param_schedule\", transform=AlignLeft())}}\n",
      "Sending job to Estimator...\n"
     ]
    },
    {
     "name": "stderr",
     "output_type": "stream",
     "text": [
      "100%|███████████████████████████████████████| 200/200 [1:10:56<00:00, 21.28s/it]"
     ]
    },
    {
     "name": "stdout",
     "output_type": "stream",
     "text": [
      "Job done\n",
      "\n",
      " Epoch 199\n",
      "Average reward 1.0\n"
     ]
    },
    {
     "name": "stderr",
     "output_type": "stream",
     "text": [
      "\n"
     ]
    }
   ],
   "source": [
    "\"\"\"\n",
    "-----------------------------------------------------------------------------------------------------\n",
    "Training loop\n",
    "-----------------------------------------------------------------------------------------------------\n",
    "\"\"\"\n",
    "%time\n",
    "mu_old = tf.Variable(initial_value=network(init_msmt)[0][0], trainable=False)\n",
    "sigma_old = tf.Variable(initial_value=network(init_msmt)[1][0], trainable=False)\n",
    "\n",
    "for i in tqdm(range(n_epochs)):\n",
    "\n",
    "    Old_distrib = MultivariateNormalDiag(loc=mu_old, scale_diag=sigma_old,\n",
    "                                         validate_args=True, allow_nan_stats=False)\n",
    "\n",
    "    with tf.GradientTape(persistent=True) as tape:\n",
    "\n",
    "        mu, sigma, b = network(init_msmt, training=True)\n",
    "        mu = tf.squeeze(mu, axis=0)\n",
    "        sigma = tf.squeeze(sigma, axis=0)\n",
    "        b = tf.squeeze(b, axis=0)\n",
    "\n",
    "        Policy_distrib = MultivariateNormalDiag(loc=mu, scale_diag=sigma,\n",
    "                                                validate_args=True, allow_nan_stats=False)\n",
    "\n",
    "        action_vector = tf.stop_gradient(tf.clip_by_value(Policy_distrib.sample(batchsize), 0, 1.))\n",
    "\n",
    "        # Adjust the action vector according to params physical significance\n",
    "\n",
    "        reward = q_env.perform_action(action_vector)\n",
    "        advantage = reward - b\n",
    "\n",
    "        if use_PPO:\n",
    "            ratio = Policy_distrib.prob(action_vector) / (tf.stop_gradient(Old_distrib.prob(action_vector)) + 1e-6)\n",
    "            actor_loss = - tf.reduce_mean(tf.minimum(advantage * ratio,\n",
    "                                                     advantage * tf.clip_by_value(ratio, 1 - epsilon, 1 + epsilon)))\n",
    "        else:  # REINFORCE algorithm\n",
    "            actor_loss = - tf.reduce_mean(advantage * Policy_distrib.log_prob(action_vector))\n",
    "\n",
    "        critic_loss = tf.reduce_mean(advantage ** 2)\n",
    "        combined_loss = actor_loss + critic_loss_coeff * critic_loss\n",
    "\n",
    "    grads = tape.gradient(combined_loss, network.trainable_variables)\n",
    "\n",
    "    # For PPO, update old parameters to have access to \"old\" policy\n",
    "    if use_PPO:\n",
    "        mu_old.assign(mu)\n",
    "        sigma_old.assign(sigma)\n",
    "    \n",
    "    avg_return[i] = np.mean(q_env.reward_history, axis =1)[i]\n",
    "    # fidelities[i] = q_env.avg_fidelity_history[i]\n",
    "    print('\\n Epoch', i)\n",
    "    print(\"Average reward\", np.mean(q_env.reward_history[i]))\n",
    "    \n",
    "    if i%visualization_steps == 0:\n",
    "        clear_output(wait=True) # for animation\n",
    "        fig, ax = plt.subplots()\n",
    "        ax.plot(np.arange(1, n_epochs, 20),avg_return[0:-1:visualization_steps], '-.', label='Average return')\n",
    "       # ax.plot(np.arange(1, n_epochs, 20),fidelities[0:-1:visualization_steps], label='Average Gate Fidelity')\n",
    "        ax.set_xlabel(\"Epoch\")\n",
    "        ax.set_ylabel(\"Reward/State Fidelity\")\n",
    "        ax.legend()\n",
    "        plt.show()\n",
    "        # print(\"Maximum fidelity reached so far:\", np.max(fidelities), \"at Epoch\", np.argmax(fidelities))\n",
    "        print(\"Maximum return reached so far:\", np.max(avg_return), \"at Epoch\", np.argmax(avg_return))\n",
    "        # Apply gradients\n",
    "    optimizer.apply_gradients(zip(grads, network.trainable_variables))"
   ]
  },
  {
   "cell_type": "code",
   "execution_count": null,
   "id": "5144d309-e57a-4ea8-9b0b-59e0ea246e5a",
   "metadata": {},
   "outputs": [],
   "source": []
  }
 ],
 "metadata": {
  "kernelspec": {
   "display_name": "Python 3 (ipykernel)",
   "language": "python",
   "name": "python3"
  },
  "language_info": {
   "codemirror_mode": {
    "name": "ipython",
    "version": 3
   },
   "file_extension": ".py",
   "mimetype": "text/x-python",
   "name": "python",
   "nbconvert_exporter": "python",
   "pygments_lexer": "ipython3",
   "version": "3.9.13"
  }
 },
 "nbformat": 4,
 "nbformat_minor": 5
}
