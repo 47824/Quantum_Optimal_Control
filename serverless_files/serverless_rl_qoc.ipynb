{
 "cells": [
  {
   "cell_type": "code",
   "id": "initial_id",
   "metadata": {
    "collapsed": true,
    "ExecuteTime": {
     "end_time": "2024-05-21T06:04:26.033752Z",
     "start_time": "2024-05-21T06:04:17.381498Z"
    }
   },
   "source": [
    "from qiskit_serverless import QiskitFunction, IBMServerlessProvider\n",
    "\n",
    "# Define a Pattern\n",
    "pattern = QiskitFunction(\n",
    "    title=\"rl_qoc\",\n",
    "    description=\"Reinforcement Learning for Quantum Optimal Control\",\n",
    "    entrypoint=\"pattern.py\",\n",
    "    dependencies=[\n",
    "        \"qiskit>1.0\",\n",
    "        \"numpy>1.0\",\n",
    "        \"scipy>1.0\",\n",
    "        \"gymnasium\",\n",
    "        \"qiskit-experiments\",\n",
    "        \"qiskit-dynamics\",\n",
    "        \"qiskit-ibm-runtime\",\n",
    "        \"qiskit-ibm-provider\",\n",
    "        \"torch\",\n",
    "        \"optuna\",\n",
    "        \"pyyaml\",\n",
    "        \"jax\",\n",
    "        \"qiskit-algorithms\",\n",
    "        \"qiskit-aer\",\n",
    "        \"tqdm\",\n",
    "        \"chardet\",\n",
    "    ],\n",
    ")\n",
    "\n",
    "# Create a serverless provider\n",
    "provider = IBMServerlessProvider()\n",
    "\n",
    "provider.upload(pattern)\n",
    "\n",
    "args = {\"use_context\": False, \"abstraction_level\": \"circuit\", \"num_updates\": 300}\n",
    "job = provider.run(pattern, args)\n",
    "\n",
    "print(job.result())"
   ],
   "outputs": [
    {
     "ename": "QiskitServerlessException",
     "evalue": "\n| Message: Http bad request.\n| Code: 403",
     "output_type": "error",
     "traceback": [
      "\u001B[0;31m---------------------------------------------------------------------------\u001B[0m",
      "\u001B[0;31mQiskitServerlessException\u001B[0m                 Traceback (most recent call last)",
      "Cell \u001B[0;32mIn[1], line 31\u001B[0m\n\u001B[1;32m     28\u001B[0m \u001B[38;5;66;03m# Create a serverless provider\u001B[39;00m\n\u001B[1;32m     29\u001B[0m provider \u001B[38;5;241m=\u001B[39m IBMServerlessProvider()\n\u001B[0;32m---> 31\u001B[0m \u001B[43mprovider\u001B[49m\u001B[38;5;241;43m.\u001B[39;49m\u001B[43mupload\u001B[49m\u001B[43m(\u001B[49m\u001B[43mpattern\u001B[49m\u001B[43m)\u001B[49m\n\u001B[1;32m     33\u001B[0m args \u001B[38;5;241m=\u001B[39m {\u001B[38;5;124m\"\u001B[39m\u001B[38;5;124muse_context\u001B[39m\u001B[38;5;124m\"\u001B[39m: \u001B[38;5;28;01mFalse\u001B[39;00m, \u001B[38;5;124m\"\u001B[39m\u001B[38;5;124mabstraction_level\u001B[39m\u001B[38;5;124m\"\u001B[39m: \u001B[38;5;124m\"\u001B[39m\u001B[38;5;124mcircuit\u001B[39m\u001B[38;5;124m\"\u001B[39m, \u001B[38;5;124m\"\u001B[39m\u001B[38;5;124mnum_updates\u001B[39m\u001B[38;5;124m\"\u001B[39m: \u001B[38;5;241m300\u001B[39m}\n\u001B[1;32m     34\u001B[0m job \u001B[38;5;241m=\u001B[39m provider\u001B[38;5;241m.\u001B[39mrun(pattern, args)\n",
      "File \u001B[0;32m~/anaconda3/envs/rl_qoc/lib/python3.11/site-packages/qiskit_serverless/core/client.py:466\u001B[0m, in \u001B[0;36mServerlessClient.upload\u001B[0;34m(self, program)\u001B[0m\n\u001B[1;32m    464\u001B[0m tracer \u001B[38;5;241m=\u001B[39m trace\u001B[38;5;241m.\u001B[39mget_tracer(\u001B[38;5;124m\"\u001B[39m\u001B[38;5;124mclient.tracer\u001B[39m\u001B[38;5;124m\"\u001B[39m)\n\u001B[1;32m    465\u001B[0m \u001B[38;5;28;01mwith\u001B[39;00m tracer\u001B[38;5;241m.\u001B[39mstart_as_current_span(\u001B[38;5;124m\"\u001B[39m\u001B[38;5;124mProvider.upload\u001B[39m\u001B[38;5;124m\"\u001B[39m):\n\u001B[0;32m--> 466\u001B[0m     response \u001B[38;5;241m=\u001B[39m \u001B[38;5;28;43mself\u001B[39;49m\u001B[38;5;241;43m.\u001B[39;49m\u001B[43m_job_client\u001B[49m\u001B[38;5;241;43m.\u001B[39;49m\u001B[43mupload\u001B[49m\u001B[43m(\u001B[49m\u001B[43mprogram\u001B[49m\u001B[43m)\u001B[49m\n\u001B[1;32m    467\u001B[0m \u001B[38;5;28;01mreturn\u001B[39;00m response\n",
      "File \u001B[0;32m~/anaconda3/envs/rl_qoc/lib/python3.11/site-packages/qiskit_serverless/core/job.py:398\u001B[0m, in \u001B[0;36mGatewayJobClient.upload\u001B[0;34m(self, program)\u001B[0m\n\u001B[1;32m    393\u001B[0m     program_title \u001B[38;5;241m=\u001B[39m _upload_with_docker_image(\n\u001B[1;32m    394\u001B[0m         program\u001B[38;5;241m=\u001B[39mprogram, url\u001B[38;5;241m=\u001B[39murl, token\u001B[38;5;241m=\u001B[39m\u001B[38;5;28mself\u001B[39m\u001B[38;5;241m.\u001B[39m_token, span\u001B[38;5;241m=\u001B[39mspan\n\u001B[1;32m    395\u001B[0m     )\n\u001B[1;32m    396\u001B[0m \u001B[38;5;28;01melif\u001B[39;00m program\u001B[38;5;241m.\u001B[39mentrypoint \u001B[38;5;129;01mis\u001B[39;00m \u001B[38;5;129;01mnot\u001B[39;00m \u001B[38;5;28;01mNone\u001B[39;00m:\n\u001B[1;32m    397\u001B[0m     \u001B[38;5;66;03m# upload funciton with artifact\u001B[39;00m\n\u001B[0;32m--> 398\u001B[0m     program_title \u001B[38;5;241m=\u001B[39m \u001B[43m_upload_with_artifact\u001B[49m\u001B[43m(\u001B[49m\n\u001B[1;32m    399\u001B[0m \u001B[43m        \u001B[49m\u001B[43mprogram\u001B[49m\u001B[38;5;241;43m=\u001B[39;49m\u001B[43mprogram\u001B[49m\u001B[43m,\u001B[49m\u001B[43m \u001B[49m\u001B[43murl\u001B[49m\u001B[38;5;241;43m=\u001B[39;49m\u001B[43murl\u001B[49m\u001B[43m,\u001B[49m\u001B[43m \u001B[49m\u001B[43mtoken\u001B[49m\u001B[38;5;241;43m=\u001B[39;49m\u001B[38;5;28;43mself\u001B[39;49m\u001B[38;5;241;43m.\u001B[39;49m\u001B[43m_token\u001B[49m\u001B[43m,\u001B[49m\u001B[43m \u001B[49m\u001B[43mspan\u001B[49m\u001B[38;5;241;43m=\u001B[39;49m\u001B[43mspan\u001B[49m\n\u001B[1;32m    400\u001B[0m \u001B[43m    \u001B[49m\u001B[43m)\u001B[49m\n\u001B[1;32m    401\u001B[0m \u001B[38;5;28;01melse\u001B[39;00m:\n\u001B[1;32m    402\u001B[0m     \u001B[38;5;28;01mraise\u001B[39;00m QiskitServerlessException(\n\u001B[1;32m    403\u001B[0m         \u001B[38;5;124m\"\u001B[39m\u001B[38;5;124mFunction must either have `entryoint` or `image` specified.\u001B[39m\u001B[38;5;124m\"\u001B[39m\n\u001B[1;32m    404\u001B[0m     )\n",
      "File \u001B[0;32m~/anaconda3/envs/rl_qoc/lib/python3.11/site-packages/qiskit_serverless/core/job.py:783\u001B[0m, in \u001B[0;36m_upload_with_artifact\u001B[0;34m(program, url, token, span)\u001B[0m\n\u001B[1;32m    776\u001B[0m     \u001B[38;5;28;01mraise\u001B[39;00m QiskitServerlessException(\n\u001B[1;32m    777\u001B[0m         \u001B[38;5;124mf\u001B[39m\u001B[38;5;124m\"\u001B[39m\u001B[38;5;132;01m{\u001B[39;00martifact_file_path\u001B[38;5;132;01m}\u001B[39;00m\u001B[38;5;124m is \u001B[39m\u001B[38;5;132;01m{\u001B[39;00m\u001B[38;5;28mint\u001B[39m(size_in_mb)\u001B[38;5;132;01m}\u001B[39;00m\u001B[38;5;124m Mb, \u001B[39m\u001B[38;5;124m\"\u001B[39m\n\u001B[1;32m    778\u001B[0m         \u001B[38;5;124mf\u001B[39m\u001B[38;5;124m\"\u001B[39m\u001B[38;5;124mwhich is greater than \u001B[39m\u001B[38;5;132;01m{\u001B[39;00mMAX_ARTIFACT_FILE_SIZE_MB\u001B[38;5;132;01m}\u001B[39;00m\u001B[38;5;124m allowed. \u001B[39m\u001B[38;5;124m\"\u001B[39m\n\u001B[1;32m    779\u001B[0m         \u001B[38;5;124mf\u001B[39m\u001B[38;5;124m\"\u001B[39m\u001B[38;5;124mTry to reduce size of `working_dir`.\u001B[39m\u001B[38;5;124m\"\u001B[39m\n\u001B[1;32m    780\u001B[0m     )\n\u001B[1;32m    782\u001B[0m \u001B[38;5;28;01mwith\u001B[39;00m \u001B[38;5;28mopen\u001B[39m(artifact_file_path, \u001B[38;5;124m\"\u001B[39m\u001B[38;5;124mrb\u001B[39m\u001B[38;5;124m\"\u001B[39m) \u001B[38;5;28;01mas\u001B[39;00m file:\n\u001B[0;32m--> 783\u001B[0m     response_data \u001B[38;5;241m=\u001B[39m \u001B[43msafe_json_request\u001B[49m\u001B[43m(\u001B[49m\n\u001B[1;32m    784\u001B[0m \u001B[43m        \u001B[49m\u001B[43mrequest\u001B[49m\u001B[38;5;241;43m=\u001B[39;49m\u001B[38;5;28;43;01mlambda\u001B[39;49;00m\u001B[43m:\u001B[49m\u001B[43m \u001B[49m\u001B[43mrequests\u001B[49m\u001B[38;5;241;43m.\u001B[39;49m\u001B[43mpost\u001B[49m\u001B[43m(\u001B[49m\n\u001B[1;32m    785\u001B[0m \u001B[43m            \u001B[49m\u001B[43murl\u001B[49m\u001B[38;5;241;43m=\u001B[39;49m\u001B[43murl\u001B[49m\u001B[43m,\u001B[49m\n\u001B[1;32m    786\u001B[0m \u001B[43m            \u001B[49m\u001B[43mdata\u001B[49m\u001B[38;5;241;43m=\u001B[39;49m\u001B[43m{\u001B[49m\n\u001B[1;32m    787\u001B[0m \u001B[43m                \u001B[49m\u001B[38;5;124;43m\"\u001B[39;49m\u001B[38;5;124;43mtitle\u001B[39;49m\u001B[38;5;124;43m\"\u001B[39;49m\u001B[43m:\u001B[49m\u001B[43m \u001B[49m\u001B[43mprogram\u001B[49m\u001B[38;5;241;43m.\u001B[39;49m\u001B[43mtitle\u001B[49m\u001B[43m,\u001B[49m\n\u001B[1;32m    788\u001B[0m \u001B[43m                \u001B[49m\u001B[38;5;124;43m\"\u001B[39;49m\u001B[38;5;124;43mentrypoint\u001B[39;49m\u001B[38;5;124;43m\"\u001B[39;49m\u001B[43m:\u001B[49m\u001B[43m \u001B[49m\u001B[43mprogram\u001B[49m\u001B[38;5;241;43m.\u001B[39;49m\u001B[43mentrypoint\u001B[49m\u001B[43m,\u001B[49m\n\u001B[1;32m    789\u001B[0m \u001B[43m                \u001B[49m\u001B[38;5;124;43m\"\u001B[39;49m\u001B[38;5;124;43marguments\u001B[39;49m\u001B[38;5;124;43m\"\u001B[39;49m\u001B[43m:\u001B[49m\u001B[43m \u001B[49m\u001B[43mjson\u001B[49m\u001B[38;5;241;43m.\u001B[39;49m\u001B[43mdumps\u001B[49m\u001B[43m(\u001B[49m\u001B[43m{\u001B[49m\u001B[43m}\u001B[49m\u001B[43m)\u001B[49m\u001B[43m,\u001B[49m\n\u001B[1;32m    790\u001B[0m \u001B[43m                \u001B[49m\u001B[38;5;124;43m\"\u001B[39;49m\u001B[38;5;124;43mdependencies\u001B[39;49m\u001B[38;5;124;43m\"\u001B[39;49m\u001B[43m:\u001B[49m\u001B[43m \u001B[49m\u001B[43mjson\u001B[49m\u001B[38;5;241;43m.\u001B[39;49m\u001B[43mdumps\u001B[49m\u001B[43m(\u001B[49m\u001B[43mprogram\u001B[49m\u001B[38;5;241;43m.\u001B[39;49m\u001B[43mdependencies\u001B[49m\u001B[43m \u001B[49m\u001B[38;5;129;43;01mor\u001B[39;49;00m\u001B[43m \u001B[49m\u001B[43m[\u001B[49m\u001B[43m]\u001B[49m\u001B[43m)\u001B[49m\u001B[43m,\u001B[49m\n\u001B[1;32m    791\u001B[0m \u001B[43m                \u001B[49m\u001B[38;5;124;43m\"\u001B[39;49m\u001B[38;5;124;43menv_vars\u001B[39;49m\u001B[38;5;124;43m\"\u001B[39;49m\u001B[43m:\u001B[49m\u001B[43m \u001B[49m\u001B[43mjson\u001B[49m\u001B[38;5;241;43m.\u001B[39;49m\u001B[43mdumps\u001B[49m\u001B[43m(\u001B[49m\u001B[43mprogram\u001B[49m\u001B[38;5;241;43m.\u001B[39;49m\u001B[43menv_vars\u001B[49m\u001B[43m \u001B[49m\u001B[38;5;129;43;01mor\u001B[39;49;00m\u001B[43m \u001B[49m\u001B[43m{\u001B[49m\u001B[43m}\u001B[49m\u001B[43m)\u001B[49m\u001B[43m,\u001B[49m\n\u001B[1;32m    792\u001B[0m \u001B[43m            \u001B[49m\u001B[43m}\u001B[49m\u001B[43m,\u001B[49m\n\u001B[1;32m    793\u001B[0m \u001B[43m            \u001B[49m\u001B[43mfiles\u001B[49m\u001B[38;5;241;43m=\u001B[39;49m\u001B[43m{\u001B[49m\u001B[38;5;124;43m\"\u001B[39;49m\u001B[38;5;124;43martifact\u001B[39;49m\u001B[38;5;124;43m\"\u001B[39;49m\u001B[43m:\u001B[49m\u001B[43m \u001B[49m\u001B[43mfile\u001B[49m\u001B[43m}\u001B[49m\u001B[43m,\u001B[49m\n\u001B[1;32m    794\u001B[0m \u001B[43m            \u001B[49m\u001B[43mheaders\u001B[49m\u001B[38;5;241;43m=\u001B[39;49m\u001B[43m{\u001B[49m\u001B[38;5;124;43m\"\u001B[39;49m\u001B[38;5;124;43mAuthorization\u001B[39;49m\u001B[38;5;124;43m\"\u001B[39;49m\u001B[43m:\u001B[49m\u001B[43m \u001B[49m\u001B[38;5;124;43mf\u001B[39;49m\u001B[38;5;124;43m\"\u001B[39;49m\u001B[38;5;124;43mBearer \u001B[39;49m\u001B[38;5;132;43;01m{\u001B[39;49;00m\u001B[43mtoken\u001B[49m\u001B[38;5;132;43;01m}\u001B[39;49;00m\u001B[38;5;124;43m\"\u001B[39;49m\u001B[43m}\u001B[49m\u001B[43m,\u001B[49m\n\u001B[1;32m    795\u001B[0m \u001B[43m            \u001B[49m\u001B[43mtimeout\u001B[49m\u001B[38;5;241;43m=\u001B[39;49m\u001B[43mREQUESTS_TIMEOUT\u001B[49m\u001B[43m,\u001B[49m\n\u001B[1;32m    796\u001B[0m \u001B[43m        \u001B[49m\u001B[43m)\u001B[49m\n\u001B[1;32m    797\u001B[0m \u001B[43m    \u001B[49m\u001B[43m)\u001B[49m\n\u001B[1;32m    798\u001B[0m     program_title \u001B[38;5;241m=\u001B[39m response_data\u001B[38;5;241m.\u001B[39mget(\u001B[38;5;124m\"\u001B[39m\u001B[38;5;124mtitle\u001B[39m\u001B[38;5;124m\"\u001B[39m, \u001B[38;5;124m\"\u001B[39m\u001B[38;5;124mna\u001B[39m\u001B[38;5;124m\"\u001B[39m)\n\u001B[1;32m    799\u001B[0m     span\u001B[38;5;241m.\u001B[39mset_attribute(\u001B[38;5;124m\"\u001B[39m\u001B[38;5;124mprogram.title\u001B[39m\u001B[38;5;124m\"\u001B[39m, program_title)\n",
      "File \u001B[0;32m~/anaconda3/envs/rl_qoc/lib/python3.11/site-packages/qiskit_serverless/utils/json.py:104\u001B[0m, in \u001B[0;36msafe_json_request\u001B[0;34m(request, verbose)\u001B[0m\n\u001B[1;32m    101\u001B[0m     \u001B[38;5;28;01mraise\u001B[39;00m QiskitServerlessException(error_message)\n\u001B[1;32m    103\u001B[0m \u001B[38;5;28;01mif\u001B[39;00m response \u001B[38;5;129;01mis\u001B[39;00m \u001B[38;5;129;01mnot\u001B[39;00m \u001B[38;5;28;01mNone\u001B[39;00m \u001B[38;5;129;01mand\u001B[39;00m \u001B[38;5;129;01mnot\u001B[39;00m response\u001B[38;5;241m.\u001B[39mok:\n\u001B[0;32m--> 104\u001B[0m     \u001B[38;5;28;01mraise\u001B[39;00m QiskitServerlessException(\n\u001B[1;32m    105\u001B[0m         format_err_msg(\n\u001B[1;32m    106\u001B[0m             response\u001B[38;5;241m.\u001B[39mstatus_code,\n\u001B[1;32m    107\u001B[0m             \u001B[38;5;28mstr\u001B[39m(response\u001B[38;5;241m.\u001B[39mtext) \u001B[38;5;28;01mif\u001B[39;00m verbose \u001B[38;5;28;01melse\u001B[39;00m \u001B[38;5;28;01mNone\u001B[39;00m,\n\u001B[1;32m    108\u001B[0m         )\n\u001B[1;32m    109\u001B[0m     )\n\u001B[1;32m    111\u001B[0m decoding_error_message: Optional[\u001B[38;5;28mstr\u001B[39m] \u001B[38;5;241m=\u001B[39m \u001B[38;5;28;01mNone\u001B[39;00m\n\u001B[1;32m    112\u001B[0m \u001B[38;5;28;01mtry\u001B[39;00m:\n",
      "\u001B[0;31mQiskitServerlessException\u001B[0m: \n| Message: Http bad request.\n| Code: 403"
     ]
    }
   ],
   "execution_count": 1
  },
  {
   "metadata": {},
   "cell_type": "code",
   "outputs": [],
   "execution_count": null,
   "source": "",
   "id": "1d8583c60bf7a9b0"
  }
 ],
 "metadata": {
  "kernelspec": {
   "display_name": "Python 3",
   "language": "python",
   "name": "python3"
  },
  "language_info": {
   "codemirror_mode": {
    "name": "ipython",
    "version": 2
   },
   "file_extension": ".py",
   "mimetype": "text/x-python",
   "name": "python",
   "nbconvert_exporter": "python",
   "pygments_lexer": "ipython2",
   "version": "2.7.6"
  }
 },
 "nbformat": 4,
 "nbformat_minor": 5
}
