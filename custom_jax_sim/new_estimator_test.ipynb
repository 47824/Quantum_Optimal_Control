{
 "cells": [
  {
   "cell_type": "code",
   "execution_count": null,
   "id": "initial_id",
   "metadata": {
    "collapsed": true,
    "is_executing": true,
    "ExecuteTime": {
     "start_time": "2023-12-09T10:26:26.332818Z"
    }
   },
   "outputs": [
    {
     "name": "stderr",
     "output_type": "stream",
     "text": [
      "/Users/arthurostrauss/anaconda3/envs/rl_qoc/lib/python3.11/site-packages/qiskit_dynamics/dispatch/backends/jax.py:34: UserWarning: The functionality in the perturbation module of Qiskit Dynamics requires a JAX version <= 0.4.6, due to a bug in JAX versions > 0.4.6. For versions 0.4.4, 0.4.5, and 0.4.6, using the perturbation module functionality requires setting os.environ['JAX_JIT_PJIT_API_MERGE'] = '0' before importing JAX or Dynamics.\n",
      "  warnings.warn(\n"
     ]
    }
   ],
   "source": [
    "from qiskit_dynamics import DynamicsBackend, Solver\n",
    "from qiskit.circuit import QuantumCircuit, Parameter, ParameterVector\n",
    "from qiskit.quantum_info import Statevector, Operator, SparsePauliOp\n",
    "from qiskit.primitives import BackendEstimator\n",
    "from custom_jax_sim import JaxSolver, DynamicsBackendEstimator\n",
    "import numpy as np\n",
    "from helper_functions import perform_standard_calibrations\n",
    "from qiskit_dynamics.array import Array\n",
    "import jax\n",
    "\n",
    "jax.config.update(\"jax_enable_x64\", True)\n",
    "# tell JAX we are using CPU\n",
    "jax.config.update(\"jax_platform_name\", \"cpu\")\n",
    "Array.set_default_backend('jax')"
   ]
  },
  {
   "cell_type": "code",
   "execution_count": null,
   "outputs": [],
   "source": [
    "# define the system\n",
    "dim = 3\n",
    "\n",
    "v0, v1 = 4.86e9, 4.97e9\n",
    "anharm0, anharm1 = -0.32e9, -0.32e9\n",
    "r0, r1 = 0.22e9, 0.26e9\n",
    "\n",
    "J = 0.002e9\n",
    "\n",
    "a = np.diag(np.sqrt(np.arange(1, dim)), 1)\n",
    "adag = np.diag(np.sqrt(np.arange(1, dim)), -1)\n",
    "N = np.diag(np.arange(dim))\n",
    "\n",
    "ident = np.eye(dim, dtype=complex)\n",
    "full_ident = np.eye(dim ** 2, dtype=complex)\n",
    "\n",
    "N0, N1 = np.kron(ident, N), np.kron(N, ident)\n",
    "a0, a1 = np.kron(ident, a), np.kron(a, ident)\n",
    "a0dag, a1dag = np.kron(ident, adag), np.kron(adag, ident)\n",
    "\n",
    "static_ham0 = 2 * np.pi * v0 * N0 + np.pi * anharm0 * N0 * (N0 - full_ident)\n",
    "static_ham1 = 2 * np.pi * v1 * N1 + np.pi * anharm1 * N1 * (N1 - full_ident)\n",
    "\n",
    "static_ham_full = static_ham0 + static_ham1 + 2 * np.pi * J * ((a0 + a0dag) @ (a1 + a1dag))\n",
    "\n",
    "drive_op0 = 2 * np.pi * r0 * (a0 + a0dag)\n",
    "drive_op1 = 2 * np.pi * r1 * (a1 + a1dag)\n",
    "\n",
    "# build solver\n",
    "dt = 1 / 4.5e9\n",
    "\n",
    "solver_2q_jax = JaxSolver(\n",
    "    static_hamiltonian=static_ham_full,\n",
    "    hamiltonian_operators=[drive_op0, drive_op1, drive_op0, drive_op1],\n",
    "    rotating_frame=static_ham_full,\n",
    "    hamiltonian_channels=[\"d0\", \"d1\", \"u0\", \"u1\"],\n",
    "    channel_carrier_freqs={\"d0\": v0, \"d1\": v1, \"u0\": v1, \"u1\": v0},\n",
    "    dt=dt\n",
    ")\n",
    "solver_2q = Solver(\n",
    "    static_hamiltonian=static_ham_full,\n",
    "    hamiltonian_operators=[drive_op0, drive_op1, drive_op0, drive_op1],\n",
    "    rotating_frame=static_ham_full,\n",
    "    hamiltonian_channels=[\"d0\", \"d1\", \"u0\", \"u1\"],\n",
    "    channel_carrier_freqs={\"d0\": v0, \"d1\": v1, \"u0\": v1, \"u1\": v0},\n",
    "    dt=dt\n",
    ")\n",
    "# Consistent solver option to use throughout notebook\n",
    "\n",
    "solver_options = {\"method\": \"jax_odeint\", \"atol\": 1e-6, \"rtol\": 1e-8, 'hmax': dt}\n",
    "solver = solver_2q_jax\n",
    "custom_backend = DynamicsBackend(\n",
    "    solver=solver,\n",
    "    #target = fake_backend_v2.target,\n",
    "    subsystem_dims=[dim, dim],  # for computing measurement data\n",
    "    solver_options=solver_options,  # to be used every time run is called\n",
    ")"
   ],
   "metadata": {
    "collapsed": false,
    "is_executing": true
   },
   "id": "ff3fe19652d4d922"
  },
  {
   "cell_type": "code",
   "execution_count": null,
   "outputs": [],
   "source": [
    "cals, results = perform_standard_calibrations(backend=custom_backend)"
   ],
   "metadata": {
    "collapsed": false,
    "is_executing": true
   },
   "id": "1a248705055bd160"
  },
  {
   "cell_type": "code",
   "execution_count": null,
   "outputs": [],
   "source": [
    "results[0][1].figure(0)"
   ],
   "metadata": {
    "collapsed": false,
    "is_executing": true
   },
   "id": "2c03038e98d782f9"
  },
  {
   "cell_type": "code",
   "execution_count": null,
   "outputs": [],
   "source": [
    "observable = SparsePauliOp.from_list([(\"IZ\", 1.0)])\n",
    "estimator = BackendEstimator(backend=custom_backend)\n",
    "dynamicsestimator = DynamicsBackendEstimator(backend=custom_backend)\n"
   ],
   "metadata": {
    "collapsed": false,
    "is_executing": true
   },
   "id": "ee6db3697772dc56"
  },
  {
   "cell_type": "code",
   "execution_count": null,
   "outputs": [],
   "source": [
    "from qiskit import transpile\n",
    "\n",
    "qc = QuantumCircuit(2)\n",
    "qc.x(0)\n",
    "qc.x(1)\n",
    "qc.measure_all()\n",
    "qc = transpile(qc, custom_backend)\n",
    "qc.draw('mpl')"
   ],
   "metadata": {
    "collapsed": false,
    "is_executing": true
   },
   "id": "4f55b0956ea69f2f"
  },
  {
   "cell_type": "code",
   "execution_count": null,
   "outputs": [],
   "source": [
    "custom_backend.run(qc, shots=1000).result().get_counts()"
   ],
   "metadata": {
    "collapsed": false,
    "is_executing": true
   },
   "id": "532d2fe10b384b48"
  },
  {
   "cell_type": "code",
   "execution_count": null,
   "outputs": [],
   "source": [
    "qc.remove_final_measurements(inplace=False).draw('mpl')"
   ],
   "metadata": {
    "collapsed": false,
    "is_executing": true
   },
   "id": "f598ac53fe893068"
  },
  {
   "cell_type": "code",
   "execution_count": null,
   "outputs": [],
   "source": [
    "estimator.run(qc.remove_final_measurements(inplace=False), observable, shots=1000).result()"
   ],
   "metadata": {
    "collapsed": false,
    "is_executing": true
   },
   "id": "95fd5f77d984f006"
  },
  {
   "cell_type": "code",
   "execution_count": null,
   "outputs": [],
   "source": [
    "from qiskit import schedule as build_schedule\n",
    "\n",
    "\n",
    "def get_schedule(qc, backend):\n",
    "    def macro():\n",
    "        return build_schedule(qc, backend)\n",
    "\n",
    "    return macro"
   ],
   "metadata": {
    "collapsed": false,
    "is_executing": true
   },
   "id": "ce55978fcf4d9dc7"
  },
  {
   "cell_type": "code",
   "execution_count": null,
   "outputs": [],
   "source": [
    "solver_2q_jax.circuit_macro = get_schedule(qc, custom_backend)\n",
    "dynamicsestimator.run(qc.remove_final_measurements(inplace=False), observable, shots=1000).result()"
   ],
   "metadata": {
    "collapsed": false,
    "is_executing": true
   },
   "id": "bb83387425e9889f"
  },
  {
   "cell_type": "code",
   "execution_count": null,
   "outputs": [],
   "source": [],
   "metadata": {
    "collapsed": false,
    "is_executing": true
   },
   "id": "438a2d5aa0225ab0"
  }
 ],
 "metadata": {
  "kernelspec": {
   "display_name": "Python 3",
   "language": "python",
   "name": "python3"
  },
  "language_info": {
   "codemirror_mode": {
    "name": "ipython",
    "version": 2
   },
   "file_extension": ".py",
   "mimetype": "text/x-python",
   "name": "python",
   "nbconvert_exporter": "python",
   "pygments_lexer": "ipython2",
   "version": "2.7.6"
  }
 },
 "nbformat": 4,
 "nbformat_minor": 5
}
