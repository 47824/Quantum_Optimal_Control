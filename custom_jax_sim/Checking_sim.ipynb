{
 "cells": [
  {
   "cell_type": "code",
   "execution_count": 1,
   "id": "66af5f79-792d-4aaa-b42f-78ecf4cc33aa",
   "metadata": {
    "tags": []
   },
   "outputs": [],
   "source": [
    "import os\n",
    "os.environ['KMP_DUPLICATE_LIB_OK'] = 'True'\n",
    "import sys\n",
    "module_path = os.path.abspath(os.path.join('/Users/arthurstrauss/Library/CloudStorage/OneDrive-NationalUniversityofSingapore/Coding_projects/Quantum_Optimal_Control'))\n",
    "if module_path not in sys.path:\n",
    "    sys.path.append(module_path)"
   ]
  },
  {
   "cell_type": "code",
   "execution_count": 2,
   "id": "3c22f8af-4fe1-4f1d-b646-586e5d00e3de",
   "metadata": {
    "tags": []
   },
   "outputs": [
    {
     "name": "stderr",
     "output_type": "stream",
     "text": [
      "/Users/arthurstrauss/opt/anaconda3/envs/qiskit_env/lib/python3.9/site-packages/qiskit_dynamics/dispatch/backends/jax.py:34: UserWarning: The functionality in the perturbation module of Qiskit Dynamics requires a JAX version <= 0.4.6, due to a bug in JAX versions > 0.4.6. For versions 0.4.4, 0.4.5, and 0.4.6, using the perturbation module functionality requires setting os.environ['JAX_JIT_PJIT_API_MERGE'] = '0' before importing JAX or Dynamics.\n",
      "  warnings.warn(\n"
     ]
    }
   ],
   "source": [
    "# Qiskit imports\n",
    "from qiskit import pulse, transpile\n",
    "from qiskit.transpiler import InstructionDurations, InstructionProperties\n",
    "from qiskit.circuit import ParameterVector, QuantumCircuit, QuantumRegister, Gate, CircuitInstruction, Parameter\n",
    "from qiskit.circuit.library import get_standard_gate_name_mapping\n",
    "\n",
    "from qiskit.providers.fake_provider import FakeHanoi, FakeJakarta, FakeJakartaV2\n",
    "from qiskit_dynamics import DynamicsBackend, Solver\n",
    "from qiskit_experiments.calibration_management import Calibrations\n",
    "from qiskit_experiments.library import RoughXSXAmplitudeCal, RoughDragCal\n",
    "from qiskit_experiments.calibration_management.basis_gate_library import FixedFrequencyTransmon, EchoedCrossResonance\n",
    "\n",
    "from itertools import permutations\n",
    "import numpy as np\n",
    "import tqdm\n",
    "import time\n",
    "from typing import Union, Optional, List, Sequence, Dict\n",
    "from IPython.display import clear_output\n",
    "import jax\n",
    "jax.config.update(\"jax_enable_x64\", True)\n",
    "# tell JAX we are using CPU\n",
    "jax.config.update(\"jax_platform_name\", \"cpu\")\n",
    "# import Array and set default backend\n",
    "from qiskit_dynamics.array import Array\n",
    "Array.set_default_backend('jax')"
   ]
  },
  {
   "cell_type": "code",
   "execution_count": 3,
   "id": "2ccdcd48-1b63-438e-a3c6-a52223a37c61",
   "metadata": {
    "tags": []
   },
   "outputs": [],
   "source": [
    "def perform_standard_calibrations(\n",
    "    backend: DynamicsBackend, calibration_files: Optional[List[str]] = None\n",
    "):\n",
    "    \"\"\"\n",
    "    Generate baseline single qubit gates (X, SX, RZ, H) for all qubits using traditional calibration experiments\n",
    "    :param backend: Dynamics Backend on which calibrations should be run\n",
    "    :param calibration_files: Optional calibration files containing single qubit gate calibrations for provided\n",
    "        DynamicsBackend instance (Qiskit Experiments does not support this feature yet)\n",
    "\n",
    "    \"\"\"\n",
    "\n",
    "    target, qubits = backend.target, []\n",
    "    for i, dim in enumerate(backend.options.subsystem_dims):\n",
    "        if dim > 1:\n",
    "            qubits.append(i)\n",
    "    num_qubits = len(qubits)\n",
    "    single_qubit_properties = {(qubit,): None for qubit in range(num_qubits)}\n",
    "    single_qubit_errors = {(qubit,): 0.0 for qubit in qubits}\n",
    "\n",
    "    control_channel_map = backend.options.control_channel_map or {\n",
    "        (qubits[0], qubits[1]): index\n",
    "        for index, qubits in enumerate(tuple(permutations(qubits, 2)))\n",
    "    }\n",
    "    if backend.options.control_channel_map:\n",
    "        physical_control_channel_map = {\n",
    "            (qubit_pair[0], qubit_pair[1]): backend.control_channel(\n",
    "                (qubit_pair[0], qubit_pair[1])\n",
    "            )\n",
    "            for qubit_pair in backend.options.control_channel_map\n",
    "        }\n",
    "    else:\n",
    "        physical_control_channel_map = {\n",
    "            (qubit_pair[0], qubit_pair[1]): [pulse.ControlChannel(index)]\n",
    "            for index, qubit_pair in enumerate(tuple(permutations(qubits, 2)))\n",
    "        }\n",
    "    backend.set_options(control_channel_map=control_channel_map)\n",
    "    coupling_map = [list(qubit_pair) for qubit_pair in control_channel_map]\n",
    "    two_qubit_properties = {qubits: None for qubits in control_channel_map}\n",
    "    two_qubit_errors = {qubits: 0.0 for qubits in control_channel_map}\n",
    "    standard_gates: Dict[\n",
    "        str, Gate\n",
    "    ] = get_standard_gate_name_mapping()  # standard gate library\n",
    "    fixed_phase_gates, fixed_phases = [\"z\", \"s\", \"sdg\", \"t\", \"tdg\"], np.pi * np.array(\n",
    "        [1, 0.5, -0.5, 0.25, -0.25]\n",
    "    )\n",
    "    other_gates = [\"rz\", \"id\", \"h\", \"x\", \"sx\", \"reset\"]\n",
    "    single_qubit_gates = fixed_phase_gates + other_gates\n",
    "    two_qubit_gates = [\"ecr\"]\n",
    "    exp_results = {}\n",
    "    existing_cals = calibration_files is not None\n",
    "\n",
    "    phi: Parameter = standard_gates[\"rz\"].params[0]\n",
    "    if existing_cals:\n",
    "        cals = Calibrations.load(files=calibration_files)\n",
    "    else:\n",
    "        cals = Calibrations(\n",
    "            coupling_map=coupling_map,\n",
    "            control_channel_map=physical_control_channel_map,\n",
    "            libraries=[\n",
    "                FixedFrequencyTransmon(basis_gates=[\"x\", \"sx\"]),\n",
    "                EchoedCrossResonance(basis_gates=[\"cr45p\", \"cr45m\", \"ecr\"]),\n",
    "            ],\n",
    "            backend_name=backend.name,\n",
    "            backend_version=backend.backend_version,\n",
    "        )\n",
    "    if (\n",
    "        len(target.instruction_schedule_map().instructions) <= 1\n",
    "    ):  # Check if instructions have already been added\n",
    "        for gate in single_qubit_gates:\n",
    "            target.add_instruction(\n",
    "                standard_gates[gate], properties=single_qubit_properties\n",
    "            )\n",
    "        if num_qubits > 1:\n",
    "            for gate in two_qubit_gates:\n",
    "                target.add_instruction(\n",
    "                    standard_gates[gate], properties=two_qubit_properties\n",
    "                )\n",
    "            target.build_coupling_map(two_q_gate=two_qubit_gates[0])\n",
    "\n",
    "    for qubit in qubits:  # Add calibrations for each qubit\n",
    "        control_channels = list(\n",
    "            filter(\n",
    "                lambda x: x is not None,\n",
    "                [control_channel_map.get((i, qubit), None) for i in qubits],\n",
    "            )\n",
    "        )\n",
    "        # Calibration of RZ gate, virtual Z-rotation\n",
    "        with pulse.build(backend, name=f\"rz{qubit}\") as rz_cal:\n",
    "            pulse.shift_phase(-phi, pulse.DriveChannel(qubit))\n",
    "            for q in control_channels:\n",
    "                pulse.shift_phase(-phi, pulse.ControlChannel(q))\n",
    "        # Identity gate\n",
    "        id_cal = pulse.Schedule(\n",
    "            pulse.Delay(20, pulse.DriveChannel(qubit))\n",
    "        )  # Wait 20 cycles for identity gate\n",
    "\n",
    "        # Update backend Target by adding calibrations for all phase gates (fixed angle virtual Z-rotations)\n",
    "        target.update_instruction_properties(\n",
    "            \"rz\", (qubit,), InstructionProperties(calibration=rz_cal, error=0.0)\n",
    "        )\n",
    "        target.update_instruction_properties(\n",
    "            \"id\", (qubit,), InstructionProperties(calibration=id_cal, error=0.0)\n",
    "        )\n",
    "        target.update_instruction_properties(\n",
    "            \"reset\", (qubit,), InstructionProperties(calibration=id_cal, error=0.0)\n",
    "        )\n",
    "        for phase, gate in zip(fixed_phases, fixed_phase_gates):\n",
    "            gate_cal = rz_cal.assign_parameters({phi: phase}, inplace=False)\n",
    "            instruction_prop = InstructionProperties(calibration=gate_cal, error=0.0)\n",
    "            target.update_instruction_properties(gate, (qubit,), instruction_prop)\n",
    "\n",
    "        # Perform calibration experiments (Rabi/Drag) for calibrating X and SX gates\n",
    "        if not existing_cals:\n",
    "            rabi_exp = RoughXSXAmplitudeCal(\n",
    "                [qubit], cals, backend=backend, amplitudes=np.linspace(-0.2, 0.2, 100)\n",
    "            )\n",
    "            drag_exp = RoughDragCal(\n",
    "                [qubit], cals, backend=backend, betas=np.linspace(-20, 20, 15)\n",
    "            )\n",
    "            drag_exp.set_experiment_options(reps=[3, 5, 7])\n",
    "            print(f\"Starting Rabi experiment for qubit {qubit}...\")\n",
    "            rabi_result = rabi_exp.run().block_for_results()\n",
    "            print(f\"Rabi experiment for qubit {qubit} done.\")\n",
    "            print(f\"Starting Drag experiment for qubit {qubit}...\")\n",
    "            drag_result = drag_exp.run().block_for_results()\n",
    "            print(f\"Drag experiments done for qubit {qubit} done.\")\n",
    "            exp_results[qubit] = [rabi_result, drag_result]\n",
    "\n",
    "        # Build Hadamard gate schedule from following equivalence: H = S @ SX @ S\n",
    "\n",
    "        # sx_schedule = block_to_schedule(cals.get_schedule(\"sx\", (qubit,)))\n",
    "        # s_schedule = block_to_schedule(target.get_calibration(\"s\", (qubit,)))\n",
    "        # h_schedule = pulse.Schedule(s_schedule, sx_schedule, s_schedule, name=\"h\")\n",
    "        sx_schedule = cals.get_schedule(\"sx\", (qubit,))\n",
    "        s_schedule = target.get_calibration(\"s\", (qubit,))\n",
    "        with pulse.build(backend, name=\"h\") as h_schedule:\n",
    "            pulse.call(s_schedule)\n",
    "            pulse.call(sx_schedule)\n",
    "            pulse.call(s_schedule)\n",
    "\n",
    "        target.update_instruction_properties(\n",
    "            \"h\",\n",
    "            (qubit,),\n",
    "            properties=InstructionProperties(calibration=h_schedule, error=0.0),\n",
    "        )\n",
    "\n",
    "    print(\"All single qubit calibrations are done\")\n",
    "    # cals.save(file_type=\"csv\", overwrite=True, file_prefix=\"Custom\" + backend.name)\n",
    "    error_dict = {\"x\": single_qubit_errors, \"sx\": single_qubit_errors}\n",
    "    target.update_from_instruction_schedule_map(\n",
    "        cals.get_inst_map(), error_dict=error_dict\n",
    "    )\n",
    "    print(control_channel_map)\n",
    "    # for qubit_pair in control_channel_map:\n",
    "    #     print(qubit_pair)\n",
    "    #     cr_ham_exp = CrossResonanceHamiltonian(physical_qubits=qubit_pair, flat_top_widths=np.linspace(0, 5000, 17),\n",
    "    #                                            backend=backend)\n",
    "    #     print(\"Calibrating CR for qubits\", qubit_pair, \"...\")\n",
    "    #     data_cr = cr_ham_exp.run().block_for_results()\n",
    "    #     exp_results[qubit_pair] = data_cr\n",
    "\n",
    "    print(\"Updated Instruction Schedule Map\", target.instruction_schedule_map())\n",
    "\n",
    "    return cals, exp_results"
   ]
  },
  {
   "cell_type": "code",
   "execution_count": 4,
   "id": "f1286f3c-2462-4517-baff-2d15303dd3c4",
   "metadata": {
    "tags": []
   },
   "outputs": [],
   "source": [
    "from qiskit.quantum_info import Operator\n",
    "from qiskit_dynamics import Solver, Signal\n",
    "dim = 2\n",
    "dt = 1/4.5e9\n",
    "v0 = 4.86e9\n",
    "anharm0 = -0.32e9\n",
    "r0 = 0.22e9\n",
    "\n",
    "X = Operator.from_label('X')\n",
    "Z = Operator.from_label('Z')\n",
    "\n",
    "solver = Solver(\n",
    "    static_hamiltonian=.5 * 2 * np.pi * v0 * Z,\n",
    "    hamiltonian_operators=[2 * np.pi * r0 * X],\n",
    "    rotating_frame = .5 * 2 * np.pi * v0 * Z,\n",
    "    hamiltonian_channels=[\"d0\"],\n",
    "    channel_carrier_freqs={\"d0\": v0},\n",
    "    dt=dt,\n",
    "    evaluation_mode=\"dense\"\n",
    "    \n",
    ")"
   ]
  },
  {
   "cell_type": "code",
   "execution_count": 5,
   "id": "07136254-ab5a-415c-8f88-1bc9d48ef754",
   "metadata": {
    "tags": []
   },
   "outputs": [
    {
     "name": "stdout",
     "output_type": "stream",
     "text": [
      "Starting Rabi experiment for qubit 0...\n",
      "Rabi experiment for qubit 0 done.\n",
      "Starting Drag experiment for qubit 0...\n",
      "Drag experiments done for qubit 0 done.\n",
      "All single qubit calibrations are done\n",
      "{}\n",
      "Updated Instruction Schedule Map <InstructionScheduleMap(1Q instructions:\n",
      "  q0: {'rz', 'id', 't', 'sx', 'tdg', 'sdg', 'x', 'measure', 'z', 'h', 's', 'reset'}\n",
      "Multi qubit instructions:\n",
      ")>\n"
     ]
    }
   ],
   "source": [
    "solver_options = {\"method\": \"jax_odeint\", \"atol\": 1e-6, \"rtol\": 1e-8, 'hmax':dt}\n",
    "\n",
    "backend = DynamicsBackend(\n",
    "    solver=solver,\n",
    "    subsystem_dims=[dim], # for computing measurement data\n",
    "    solver_options=solver_options, # to be used every time run is called\n",
    ")\n",
    "cals, exp_results = perform_standard_calibrations(backend)"
   ]
  },
  {
   "cell_type": "code",
   "execution_count": 6,
   "id": "c24cd7dd-68fb-4cc7-98f3-90333dbb7f5c",
   "metadata": {
    "tags": []
   },
   "outputs": [
    {
     "name": "stdout",
     "output_type": "stream",
     "text": [
      "320\n"
     ]
    }
   ],
   "source": [
    "from qiskit.quantum_info import Statevector\n",
    "from qiskit.circuit import ParameterVector\n",
    "y0 = Array(Statevector(np.array([1.0, 0.0])))\n",
    "dt = 2.222e-10\n",
    "rtol = 1e-8\n",
    "atol = 1e-6\n",
    "phase_params = ParameterVector('phase', 3)\n",
    "h_sched = backend.target.get_calibration(\"h\", (0,))\n",
    "x_sched = backend.target.get_calibration(\"x\", (0,))\n",
    "meas_sched = backend.target.get_calibration(\"measure\", (0,))\n",
    "# build a pulse schedule\n",
    "with pulse.build(default_alignment=\"sequential\") as sched_ext:\n",
    "    #pulse.call(x_sched)\n",
    "    pulse.call(h_sched)\n",
    "    pulse.shift_phase(phase_params[0], pulse.DriveChannel(0))\n",
    "    pulse.call(h_sched)\n",
    "    \n",
    "t_linspace = np.linspace(0.0, sched_ext.duration*dt, 100)\n",
    "print(sched_ext.duration)"
   ]
  },
  {
   "cell_type": "code",
   "execution_count": 12,
   "id": "1dcfe34e-842b-4cbd-a6e2-a907802f60df",
   "metadata": {
    "tags": []
   },
   "outputs": [
    {
     "data": {
      "image/png": "[encoded data removed]",
      "text/plain": [
       "<Figure size 1300x194.553 with 1 Axes>"
      ]
     },
     "execution_count": 12,
     "metadata": {},
     "output_type": "execute_result"
    }
   ],
   "source": [
    "def my_sched():\n",
    "    with pulse.build(default_alignment=\"sequential\") as sched_ext:\n",
    "        #pulse.call(x_sched)\n",
    "        pulse.call(h_sched)\n",
    "        pulse.shift_phase(phase_params[0], pulse.DriveChannel(0))\n",
    "        pulse.shift_phase(phase_params[1], pulse.DriveChannel(0))\n",
    "        pulse.shift_phase(phase_params[2], pulse.DriveChannel(0))\n",
    "        pulse.play(pulse.Drag(amp=phase_params[2], duration=120, sigma=20, angle=0., beta=0.), pulse.DriveChannel(0))\n",
    "        pulse.call(h_sched)\n",
    "    return sched_ext\n",
    "\n",
    "def my_clean_sched(param):\n",
    "    with pulse.build(default_alignment=\"sequential\") as sched_ext:\n",
    "        #pulse.call(x_sched)\n",
    "        pulse.call(h_sched)\n",
    "        pulse.shift_phase(0.4, pulse.DriveChannel(0))\n",
    "        pulse.play(pulse.Drag(amp=param, duration=120, sigma=20, angle=0., beta=0.), pulse.DriveChannel(0))\n",
    "        pulse.call(h_sched)\n",
    "    return sched_ext\n",
    "my_clean_sched(0.2).draw()"
   ]
  },
  {
   "cell_type": "code",
   "execution_count": 10,
   "id": "301a90d0-e5d3-44b3-897b-912bc1ee1bf4",
   "metadata": {
    "tags": []
   },
   "outputs": [],
   "source": [
    "# Inside jit function method\n",
    "import jax.numpy as jnp\n",
    "from jax import block_until_ready, vmap\n",
    "from qiskit_dynamics.array import wrap\n",
    "jit = wrap(jax.jit, decorator=True)\n",
    "qd_vmap = wrap(vmap, decorator=True)\n",
    "\n",
    "\n",
    "def get_sched(phases):\n",
    "    #sched_in = my_sched().assign_parameters({param:phase for (param, phase) in zip(phase_params, phases)}, inplace = False)\n",
    "    with pulse.build(default_alignment=\"sequential\") as sched_in:\n",
    "        #pulse.call(x_sched)\n",
    "        pulse.call(h_sched)\n",
    "        pulse.shift_phase(0.4, pulse.DriveChannel(0))\n",
    "        pulse.play(pulse.Drag(amp=0.2, duration=160, sigma=phases, angle=0., beta=0.), pulse.DriveChannel(0))\n",
    "        pulse.call(h_sched)\n",
    "        \n",
    "    t_linspace = jnp.linspace(0, 320*dt, 20)\n",
    "    results = solver.solve(t_span=[t_linspace[0], t_linspace[-1]],\n",
    "        y0=y0,\n",
    "        signals=sched_in,\n",
    "        #signals=sched,\n",
    "        #t_eval=t_linspace[-1],\n",
    "        method='jax_odeint',\n",
    "        atol=atol,\n",
    "        rtol=rtol,\n",
    "        hmax = dt\n",
    "    )\n",
    "    \n",
    "    return results.y\n",
    "sched_fast = jit(get_sched)"
   ]
  },
  {
   "cell_type": "code",
   "execution_count": 11,
   "id": "84d5a98e-eb72-4a4f-acc0-95ddc2b01dc9",
   "metadata": {
    "tags": []
   },
   "outputs": [
    {
     "ename": "TracerArrayConversionError",
     "evalue": "The numpy.ndarray conversion method __array__() was called on traced array with shape int64[].\nThe error occurred while tracing the function get_sched at /var/folders/82/30qkl1t503n87c1769x88frm0000gp/T/ipykernel_1687/1116097504.py:9 for jit. This concrete value was not available in Python because it depends on the value of the argument phases.\nSee https://jax.readthedocs.io/en/latest/errors.html#jax.errors.TracerArrayConversionError",
     "output_type": "error",
     "traceback": [
      "\u001b[0;31m---------------------------------------------------------------------------\u001b[0m",
      "\u001b[0;31mTracerArrayConversionError\u001b[0m                Traceback (most recent call last)",
      "Input \u001b[0;32mIn [11]\u001b[0m, in \u001b[0;36m<cell line: 2>\u001b[0;34m()\u001b[0m\n\u001b[1;32m      1\u001b[0m \u001b[38;5;66;03m#sched_fast([np.pi, np.pi/2, 0.3])\u001b[39;00m\n\u001b[0;32m----> 2\u001b[0m \u001b[43msched_fast\u001b[49m\u001b[43m(\u001b[49m\u001b[38;5;241;43m20\u001b[39;49m\u001b[43m)\u001b[49m\n",
      "File \u001b[0;32m~/opt/anaconda3/envs/qiskit_env/lib/python3.9/site-packages/qiskit_dynamics/array/wrap.py:163\u001b[0m, in \u001b[0;36m_wrap_decorator.<locals>.wrapped_func.<locals>.wrapped_decorated\u001b[0;34m(*f_args, **f_kwargs)\u001b[0m\n\u001b[1;32m    161\u001b[0m f_args \u001b[38;5;241m=\u001b[39m _wrap_args(f_args)\n\u001b[1;32m    162\u001b[0m f_kwargs \u001b[38;5;241m=\u001b[39m _wrap_kwargs(f_kwargs)\n\u001b[0;32m--> 163\u001b[0m result \u001b[38;5;241m=\u001b[39m \u001b[43m_wrap_function\u001b[49m\u001b[43m(\u001b[49m\u001b[43mdecorated\u001b[49m\u001b[43m)\u001b[49m\u001b[43m(\u001b[49m\u001b[38;5;241;43m*\u001b[39;49m\u001b[43mf_args\u001b[49m\u001b[43m,\u001b[49m\u001b[43m \u001b[49m\u001b[38;5;241;43m*\u001b[39;49m\u001b[38;5;241;43m*\u001b[39;49m\u001b[43mf_kwargs\u001b[49m\u001b[43m)\u001b[49m\n\u001b[1;32m    164\u001b[0m \u001b[38;5;28;01mreturn\u001b[39;00m Array\u001b[38;5;241m.\u001b[39m_wrap(result)\n",
      "File \u001b[0;32m~/opt/anaconda3/envs/qiskit_env/lib/python3.9/site-packages/qiskit_dynamics/array/wrap.py:105\u001b[0m, in \u001b[0;36m_wrap_function.<locals>.wrapped_func\u001b[0;34m(*args, **kwargs)\u001b[0m\n\u001b[1;32m    103\u001b[0m args \u001b[38;5;241m=\u001b[39m _wrap_args(args)\n\u001b[1;32m    104\u001b[0m kwargs \u001b[38;5;241m=\u001b[39m _wrap_kwargs(kwargs)\n\u001b[0;32m--> 105\u001b[0m result \u001b[38;5;241m=\u001b[39m \u001b[43m_wrap_array_function\u001b[49m\u001b[43m(\u001b[49m\u001b[43mfunc\u001b[49m\u001b[43m)\u001b[49m\u001b[43m(\u001b[49m\u001b[38;5;241;43m*\u001b[39;49m\u001b[43margs\u001b[49m\u001b[43m,\u001b[49m\u001b[43m \u001b[49m\u001b[38;5;241;43m*\u001b[39;49m\u001b[38;5;241;43m*\u001b[39;49m\u001b[43mkwargs\u001b[49m\u001b[43m)\u001b[49m\n\u001b[1;32m    106\u001b[0m \u001b[38;5;28;01mreturn\u001b[39;00m Array\u001b[38;5;241m.\u001b[39m_wrap(result)\n",
      "File \u001b[0;32m~/opt/anaconda3/envs/qiskit_env/lib/python3.9/site-packages/qiskit_dynamics/array/wrap.py:59\u001b[0m, in \u001b[0;36m_wrap_array_function.<locals>.wrapped_function\u001b[0;34m(*args, **kwargs)\u001b[0m\n\u001b[1;32m     53\u001b[0m kwargs \u001b[38;5;241m=\u001b[39m \u001b[38;5;28mdict\u001b[39m(\n\u001b[1;32m     54\u001b[0m     (key, val\u001b[38;5;241m.\u001b[39m__qiskit_array__()\u001b[38;5;241m.\u001b[39mdata) \u001b[38;5;28;01mif\u001b[39;00m \u001b[38;5;28mhasattr\u001b[39m(val, \u001b[38;5;124m\"\u001b[39m\u001b[38;5;124m__qiskit_array__\u001b[39m\u001b[38;5;124m\"\u001b[39m) \u001b[38;5;28;01melse\u001b[39;00m (key, val)\n\u001b[1;32m     55\u001b[0m     \u001b[38;5;28;01mfor\u001b[39;00m key, val \u001b[38;5;129;01min\u001b[39;00m kwargs\u001b[38;5;241m.\u001b[39mitems()\n\u001b[1;32m     56\u001b[0m )\n\u001b[1;32m     58\u001b[0m \u001b[38;5;66;03m# Evaluate function with unwrapped inputs\u001b[39;00m\n\u001b[0;32m---> 59\u001b[0m result \u001b[38;5;241m=\u001b[39m \u001b[43mfunc\u001b[49m\u001b[43m(\u001b[49m\u001b[38;5;241;43m*\u001b[39;49m\u001b[43margs\u001b[49m\u001b[43m,\u001b[49m\u001b[43m \u001b[49m\u001b[38;5;241;43m*\u001b[39;49m\u001b[38;5;241;43m*\u001b[39;49m\u001b[43mkwargs\u001b[49m\u001b[43m)\u001b[49m\n\u001b[1;32m     61\u001b[0m \u001b[38;5;66;03m# Unwrap result\u001b[39;00m\n\u001b[1;32m     62\u001b[0m \u001b[38;5;28;01mif\u001b[39;00m \u001b[38;5;28misinstance\u001b[39m(result, \u001b[38;5;28mtuple\u001b[39m):\n",
      "    \u001b[0;31m[... skipping hidden 12 frame]\u001b[0m\n",
      "File \u001b[0;32m~/opt/anaconda3/envs/qiskit_env/lib/python3.9/site-packages/qiskit_dynamics/array/wrap.py:59\u001b[0m, in \u001b[0;36m_wrap_array_function.<locals>.wrapped_function\u001b[0;34m(*args, **kwargs)\u001b[0m\n\u001b[1;32m     53\u001b[0m kwargs \u001b[38;5;241m=\u001b[39m \u001b[38;5;28mdict\u001b[39m(\n\u001b[1;32m     54\u001b[0m     (key, val\u001b[38;5;241m.\u001b[39m__qiskit_array__()\u001b[38;5;241m.\u001b[39mdata) \u001b[38;5;28;01mif\u001b[39;00m \u001b[38;5;28mhasattr\u001b[39m(val, \u001b[38;5;124m\"\u001b[39m\u001b[38;5;124m__qiskit_array__\u001b[39m\u001b[38;5;124m\"\u001b[39m) \u001b[38;5;28;01melse\u001b[39;00m (key, val)\n\u001b[1;32m     55\u001b[0m     \u001b[38;5;28;01mfor\u001b[39;00m key, val \u001b[38;5;129;01min\u001b[39;00m kwargs\u001b[38;5;241m.\u001b[39mitems()\n\u001b[1;32m     56\u001b[0m )\n\u001b[1;32m     58\u001b[0m \u001b[38;5;66;03m# Evaluate function with unwrapped inputs\u001b[39;00m\n\u001b[0;32m---> 59\u001b[0m result \u001b[38;5;241m=\u001b[39m \u001b[43mfunc\u001b[49m\u001b[43m(\u001b[49m\u001b[38;5;241;43m*\u001b[39;49m\u001b[43margs\u001b[49m\u001b[43m,\u001b[49m\u001b[43m \u001b[49m\u001b[38;5;241;43m*\u001b[39;49m\u001b[38;5;241;43m*\u001b[39;49m\u001b[43mkwargs\u001b[49m\u001b[43m)\u001b[49m\n\u001b[1;32m     61\u001b[0m \u001b[38;5;66;03m# Unwrap result\u001b[39;00m\n\u001b[1;32m     62\u001b[0m \u001b[38;5;28;01mif\u001b[39;00m \u001b[38;5;28misinstance\u001b[39m(result, \u001b[38;5;28mtuple\u001b[39m):\n",
      "Input \u001b[0;32mIn [10]\u001b[0m, in \u001b[0;36mget_sched\u001b[0;34m(phases)\u001b[0m\n\u001b[1;32m     13\u001b[0m     pulse\u001b[38;5;241m.\u001b[39mcall(h_sched)\n\u001b[1;32m     14\u001b[0m     pulse\u001b[38;5;241m.\u001b[39mshift_phase(\u001b[38;5;241m0.4\u001b[39m, pulse\u001b[38;5;241m.\u001b[39mDriveChannel(\u001b[38;5;241m0\u001b[39m))\n\u001b[0;32m---> 15\u001b[0m     pulse\u001b[38;5;241m.\u001b[39mplay(\u001b[43mpulse\u001b[49m\u001b[38;5;241;43m.\u001b[39;49m\u001b[43mDrag\u001b[49m\u001b[43m(\u001b[49m\u001b[43mamp\u001b[49m\u001b[38;5;241;43m=\u001b[39;49m\u001b[38;5;241;43m0.2\u001b[39;49m\u001b[43m,\u001b[49m\u001b[43m \u001b[49m\u001b[43mduration\u001b[49m\u001b[38;5;241;43m=\u001b[39;49m\u001b[38;5;241;43m120\u001b[39;49m\u001b[43m,\u001b[49m\u001b[43m \u001b[49m\u001b[43msigma\u001b[49m\u001b[38;5;241;43m=\u001b[39;49m\u001b[43mphases\u001b[49m\u001b[43m,\u001b[49m\u001b[43m \u001b[49m\u001b[43mangle\u001b[49m\u001b[38;5;241;43m=\u001b[39;49m\u001b[38;5;241;43m0.\u001b[39;49m\u001b[43m,\u001b[49m\u001b[43m \u001b[49m\u001b[43mbeta\u001b[49m\u001b[38;5;241;43m=\u001b[39;49m\u001b[38;5;241;43m0.\u001b[39;49m\u001b[43m)\u001b[49m, pulse\u001b[38;5;241m.\u001b[39mDriveChannel(\u001b[38;5;241m0\u001b[39m))\n\u001b[1;32m     16\u001b[0m     pulse\u001b[38;5;241m.\u001b[39mcall(h_sched)\n\u001b[1;32m     18\u001b[0m t_linspace \u001b[38;5;241m=\u001b[39m jnp\u001b[38;5;241m.\u001b[39mlinspace(\u001b[38;5;241m0\u001b[39m, \u001b[38;5;241m320\u001b[39m\u001b[38;5;241m*\u001b[39mdt, \u001b[38;5;241m20\u001b[39m)\n",
      "File \u001b[0;32m~/opt/anaconda3/envs/qiskit_env/lib/python3.9/site-packages/qiskit/pulse/library/symbolic_pulses.py:1433\u001b[0m, in \u001b[0;36mDrag.__new__\u001b[0;34m(cls, duration, amp, sigma, beta, angle, name, limit_amplitude)\u001b[0m\n\u001b[1;32m   1419\u001b[0m valid_amp_conditions_expr \u001b[38;5;241m=\u001b[39m sym\u001b[38;5;241m.\u001b[39mAnd(sym\u001b[38;5;241m.\u001b[39mAbs(_amp) \u001b[38;5;241m<\u001b[39m\u001b[38;5;241m=\u001b[39m \u001b[38;5;241m1.0\u001b[39m, sym\u001b[38;5;241m.\u001b[39mAbs(_beta) \u001b[38;5;241m<\u001b[39m _sigma)\n\u001b[1;32m   1421\u001b[0m instance \u001b[38;5;241m=\u001b[39m ScalableSymbolicPulse(\n\u001b[1;32m   1422\u001b[0m     pulse_type\u001b[38;5;241m=\u001b[39m\u001b[38;5;124m\"\u001b[39m\u001b[38;5;124mDrag\u001b[39m\u001b[38;5;124m\"\u001b[39m,\n\u001b[1;32m   1423\u001b[0m     duration\u001b[38;5;241m=\u001b[39mduration,\n\u001b[0;32m   (...)\u001b[0m\n\u001b[1;32m   1431\u001b[0m     valid_amp_conditions\u001b[38;5;241m=\u001b[39mvalid_amp_conditions_expr,\n\u001b[1;32m   1432\u001b[0m )\n\u001b[0;32m-> 1433\u001b[0m \u001b[43minstance\u001b[49m\u001b[38;5;241;43m.\u001b[39;49m\u001b[43mvalidate_parameters\u001b[49m\u001b[43m(\u001b[49m\u001b[43m)\u001b[49m\n\u001b[1;32m   1435\u001b[0m \u001b[38;5;28;01mreturn\u001b[39;00m instance\n",
      "File \u001b[0;32m~/opt/anaconda3/envs/qiskit_env/lib/python3.9/site-packages/qiskit/pulse/library/symbolic_pulses.py:509\u001b[0m, in \u001b[0;36mSymbolicPulse.validate_parameters\u001b[0;34m(self)\u001b[0m\n\u001b[1;32m    507\u001b[0m \u001b[38;5;28;01mif\u001b[39;00m \u001b[38;5;28mself\u001b[39m\u001b[38;5;241m.\u001b[39m_constraints \u001b[38;5;129;01mis\u001b[39;00m \u001b[38;5;129;01mnot\u001b[39;00m \u001b[38;5;28;01mNone\u001b[39;00m:\n\u001b[1;32m    508\u001b[0m     fargs \u001b[38;5;241m=\u001b[39m _get_expression_args(\u001b[38;5;28mself\u001b[39m\u001b[38;5;241m.\u001b[39m_constraints, \u001b[38;5;28mself\u001b[39m\u001b[38;5;241m.\u001b[39mparameters)\n\u001b[0;32m--> 509\u001b[0m     \u001b[38;5;28;01mif\u001b[39;00m \u001b[38;5;129;01mnot\u001b[39;00m \u001b[38;5;28mbool\u001b[39m(\u001b[38;5;28;43mself\u001b[39;49m\u001b[38;5;241;43m.\u001b[39;49m\u001b[43m_constraints_lam\u001b[49m\u001b[43m(\u001b[49m\u001b[38;5;241;43m*\u001b[39;49m\u001b[43mfargs\u001b[49m\u001b[43m)\u001b[49m):\n\u001b[1;32m    510\u001b[0m         param_repr \u001b[38;5;241m=\u001b[39m \u001b[38;5;124m\"\u001b[39m\u001b[38;5;124m, \u001b[39m\u001b[38;5;124m\"\u001b[39m\u001b[38;5;241m.\u001b[39mjoin(\u001b[38;5;124mf\u001b[39m\u001b[38;5;124m\"\u001b[39m\u001b[38;5;132;01m{\u001b[39;00mp\u001b[38;5;132;01m}\u001b[39;00m\u001b[38;5;124m=\u001b[39m\u001b[38;5;132;01m{\u001b[39;00mv\u001b[38;5;132;01m}\u001b[39;00m\u001b[38;5;124m\"\u001b[39m \u001b[38;5;28;01mfor\u001b[39;00m p, v \u001b[38;5;129;01min\u001b[39;00m \u001b[38;5;28mself\u001b[39m\u001b[38;5;241m.\u001b[39mparameters\u001b[38;5;241m.\u001b[39mitems())\n\u001b[1;32m    511\u001b[0m         const_repr \u001b[38;5;241m=\u001b[39m \u001b[38;5;28mstr\u001b[39m(\u001b[38;5;28mself\u001b[39m\u001b[38;5;241m.\u001b[39m_constraints)\n",
      "File \u001b[0;32m<lambdifygenerated-1>:2\u001b[0m, in \u001b[0;36m_lambdifygenerated\u001b[0;34m(sigma)\u001b[0m\n\u001b[1;32m      1\u001b[0m \u001b[38;5;28;01mdef\u001b[39;00m \u001b[38;5;21m_lambdifygenerated\u001b[39m(sigma):\n\u001b[0;32m----> 2\u001b[0m     \u001b[38;5;28;01mreturn\u001b[39;00m \u001b[43mless\u001b[49m\u001b[43m(\u001b[49m\u001b[38;5;241;43m0\u001b[39;49m\u001b[43m,\u001b[49m\u001b[43m \u001b[49m\u001b[43msigma\u001b[49m\u001b[43m)\u001b[49m\n",
      "File \u001b[0;32m~/opt/anaconda3/envs/qiskit_env/lib/python3.9/site-packages/jax/_src/core.py:640\u001b[0m, in \u001b[0;36mTracer.__array__\u001b[0;34m(self, *args, **kw)\u001b[0m\n\u001b[1;32m    639\u001b[0m \u001b[38;5;28;01mdef\u001b[39;00m \u001b[38;5;21m__array__\u001b[39m(\u001b[38;5;28mself\u001b[39m, \u001b[38;5;241m*\u001b[39margs, \u001b[38;5;241m*\u001b[39m\u001b[38;5;241m*\u001b[39mkw):\n\u001b[0;32m--> 640\u001b[0m   \u001b[38;5;28;01mraise\u001b[39;00m TracerArrayConversionError(\u001b[38;5;28mself\u001b[39m)\n",
      "\u001b[0;31mTracerArrayConversionError\u001b[0m: The numpy.ndarray conversion method __array__() was called on traced array with shape int64[].\nThe error occurred while tracing the function get_sched at /var/folders/82/30qkl1t503n87c1769x88frm0000gp/T/ipykernel_1687/1116097504.py:9 for jit. This concrete value was not available in Python because it depends on the value of the argument phases.\nSee https://jax.readthedocs.io/en/latest/errors.html#jax.errors.TracerArrayConversionError"
     ]
    }
   ],
   "source": [
    "#sched_fast([np.pi, np.pi/2, 0.3])\n",
    "sched_fast(20)"
   ]
  },
  {
   "cell_type": "code",
   "execution_count": null,
   "id": "9bd108dd-31e4-4358-b997-fce8bac11513",
   "metadata": {
    "tags": []
   },
   "outputs": [],
   "source": [
    "param = Parameter(\"theta\")\n",
    "with pulse.build(default_alignment=\"sequential\") as sched:\n",
    "    #pulse.call(x_sched)\n",
    "    #pulse.call(h_sched)\n",
    "    pulse.play(pulse.Drag(amp=0.2, duration=120, sigma = 20, beta =0, angle= param), pulse.DriveChannel(0))\n",
    "s = jnp.float64(0.2)\n",
    "sched"
   ]
  },
  {
   "cell_type": "code",
   "execution_count": null,
   "id": "6399f5fa-7213-4b54-b159-ce0d7fda9649",
   "metadata": {
    "tags": []
   },
   "outputs": [],
   "source": [
    "s"
   ]
  },
  {
   "cell_type": "code",
   "execution_count": null,
   "id": "7a6b98a6-1027-41fb-9d56-3a769475b22e",
   "metadata": {
    "tags": []
   },
   "outputs": [],
   "source": [
    "import sympy2jax\n",
    "import sympy\n",
    "import jax.numpy as jnp\n",
    "\n",
    "x_sym = sympy.symbols(\"x_sym\")\n",
    "y_sym = sympy.symbols(\"y_sym\")\n",
    "cosx = 1.0 * sympy.cos(x_sym) + 1.0 * sympy.cos(y_sym)\n",
    "sinx = 2.0 * sympy.sin(x_sym) + 2.0 * sympy.sin(y_sym)\n",
    "mod = sympy2jax.SymbolicModule([cosx, sinx])  # PyTree of input expressions\n",
    "type(cosx)\n",
    "info = {x_sym.name: x, y_sym.name: y}"
   ]
  },
  {
   "cell_type": "code",
   "execution_count": null,
   "id": "145a9ce8-6051-44db-a145-57fbfa09d2a5",
   "metadata": {
    "tags": []
   },
   "outputs": [],
   "source": [
    "x_sym.name"
   ]
  },
  {
   "cell_type": "code",
   "execution_count": null,
   "id": "b638b81f-95a8-4971-9d80-52d395ca2954",
   "metadata": {
    "tags": []
   },
   "outputs": [],
   "source": [
    "x = jnp.zeros(3)\n",
    "y = jnp.ones(3)\n",
    "out = mod(**info)\n",
    "out"
   ]
  },
  {
   "cell_type": "code",
   "execution_count": null,
   "id": "e8f32f59-dc5b-4776-950a-2218325cb7e3",
   "metadata": {
    "tags": []
   },
   "outputs": [],
   "source": [
    "param = Parameter(\"amp\")\n",
    "param2 = Parameter(\"amp2\")\n",
    "param3 = 2*param\n",
    "param3._parameter_symbols\n",
    "type(param3._symbol_expr)\n",
    "param4 = sympy.sympify(param3._symbol_expr)\n",
    "type(param4)"
   ]
  },
  {
   "cell_type": "code",
   "execution_count": null,
   "id": "92006f34-216b-4c01-bdf3-aad3692fa0e2",
   "metadata": {
    "tags": []
   },
   "outputs": [],
   "source": [
    "for key, value in param2._parameter_symbols.items():\n",
    "    print(type(key), type(value))"
   ]
  },
  {
   "cell_type": "code",
   "execution_count": null,
   "id": "a51ee99d-ae06-4785-b0eb-2ab2adf8159f",
   "metadata": {
    "tags": []
   },
   "outputs": [],
   "source": [
    "qc = QuantumCircuit(1)\n",
    "phi = Parameter(\"phi\")\n",
    "qc.rx(2*phi, 0)\n",
    "qc.draw(\"mpl\")"
   ]
  },
  {
   "cell_type": "code",
   "execution_count": null,
   "id": "e2aa55c0-2e0d-4065-a58a-06845eef11c7",
   "metadata": {
    "tags": []
   },
   "outputs": [],
   "source": [
    "qc.bind_parameters([0.5]).draw(\"mpl\")"
   ]
  },
  {
   "cell_type": "code",
   "execution_count": null,
   "id": "1b9a4750-3902-4232-b8f6-50a4b344436d",
   "metadata": {},
   "outputs": [],
   "source": []
  },
  {
   "cell_type": "code",
   "execution_count": null,
   "id": "ef631105-96c8-468b-9346-117deab562fa",
   "metadata": {
    "tags": []
   },
   "outputs": [],
   "source": [
    "x_pulse = backend.target.get_calibration(\"x\", (0,)).instructions[0][1].pulse\n",
    "x_pulse"
   ]
  },
  {
   "cell_type": "code",
   "execution_count": null,
   "id": "6183945c-68f4-424e-9df2-28041aba6781",
   "metadata": {
    "tags": []
   },
   "outputs": [],
   "source": [
    "setattr(x_pulse, 'amp', 0.3)\n",
    "x_pulse"
   ]
  },
  {
   "cell_type": "code",
   "execution_count": null,
   "id": "54b2de04-69c6-4f18-9276-09eb94fe97c5",
   "metadata": {},
   "outputs": [],
   "source": []
  }
 ],
 "metadata": {
  "kernelspec": {
   "display_name": "Python 3 (ipykernel)",
   "language": "python",
   "name": "python3"
  },
  "language_info": {
   "codemirror_mode": {
    "name": "ipython",
    "version": 3
   },
   "file_extension": ".py",
   "mimetype": "text/x-python",
   "name": "python",
   "nbconvert_exporter": "python",
   "pygments_lexer": "ipython3",
   "version": "3.9.16"
  }
 },
 "nbformat": 4,
 "nbformat_minor": 5
}
