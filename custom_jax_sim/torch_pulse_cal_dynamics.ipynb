{
 "cells": [
  {
   "cell_type": "markdown",
   "id": "b12bc6a1-4343-44e0-87d0-382f37d93d81",
   "metadata": {
    "tags": []
   },
   "source": [
    "# Context aware pulse gate calibration with Reinforcement Learning\n",
    "\n",
    "This notebook takes advantage of pulse level simulation through Qiskit Dynamics module to perform context aware pulse gate calibration. The main difference with the other notebook that works for both ```DynamicsBackend``` and real backends is that we take advantage of JAX to increase significantly the simulation speed, which turns out to be a limiting factor when dealing with the way ```DynamicsBackend``` is originally designed."
   ]
  },
  {
   "cell_type": "code",
   "execution_count": 39,
   "id": "0b888496-4b36-4a63-817e-2ca4137e6ad7",
   "metadata": {
    "tags": [],
    "ExecuteTime": {
     "end_time": "2023-12-07T09:41:57.265470Z",
     "start_time": "2023-12-07T09:41:57.070525Z"
    }
   },
   "outputs": [],
   "source": [
    "from __future__ import annotations\n",
    "\n",
    "import os\n",
    "\n",
    "os.environ['KMP_DUPLICATE_LIB_OK'] = 'True'\n",
    "import sys\n",
    "\n",
    "module_path = os.path.abspath(os.path.join(\n",
    "    '/Users/arthurstrauss/Library/CloudStorage/OneDrive-NationalUniversityofSingapore/Coding_projects/Quantum_Optimal_Control'))\n",
    "if module_path not in sys.path:\n",
    "    sys.path.append(module_path)\n",
    "sys.path.append(os.path.abspath(os.path.join(\n",
    "    '/Users/arthurstrauss/Library/CloudStorage/OneDrive-NationalUniversityofSingapore/Coding_projects/Quantum_Optimal_Control')))"
   ]
  },
  {
   "cell_type": "code",
   "execution_count": 40,
   "id": "cc45931e-f117-412a-b9ca-c65738633a7b",
   "metadata": {
    "tags": [],
    "ExecuteTime": {
     "end_time": "2023-12-07T09:41:57.275435Z",
     "start_time": "2023-12-07T09:41:57.267720Z"
    }
   },
   "outputs": [],
   "source": [
    "# Qiskit imports\n",
    "from qiskit import pulse, transpile, schedule\n",
    "from qiskit.transpiler import InstructionDurations\n",
    "from qiskit.circuit import ParameterVector, QuantumCircuit, QuantumRegister, Gate, CircuitInstruction\n",
    "from qiskit.providers import Backend\n",
    "from qconfig import QiskitConfig\n",
    "from quantumenvironment import QuantumEnvironment\n",
    "from torch.distributions import Normal\n",
    "\n",
    "import numpy as np\n",
    "import tqdm\n",
    "import time\n",
    "from typing import Union, Optional, List, Sequence\n",
    "from IPython.display import clear_output\n",
    "import jax\n",
    "\n",
    "jax.config.update(\"jax_enable_x64\", True)\n",
    "# tell JAX we are using CPU\n",
    "jax.config.update(\"jax_platform_name\", \"cpu\")\n",
    "# import Array and set default backend\n",
    "from qiskit_dynamics.array import Array\n",
    "\n",
    "Array.set_default_backend('jax')"
   ]
  },
  {
   "cell_type": "code",
   "execution_count": 41,
   "id": "b04ee246-a0dd-4e62-b822-1ef9e30336c9",
   "metadata": {
    "ExecuteTime": {
     "end_time": "2023-12-07T09:41:57.281494Z",
     "start_time": "2023-12-07T09:41:57.277620Z"
    }
   },
   "outputs": [],
   "source": [
    "from qiskit.providers import Backend, BackendV1, BackendV2\n",
    "from qiskit_experiments.calibration_management import Calibrations\n",
    "from basis_gate_library import FixedFrequencyTransmon, EchoedCrossResonance\n",
    "from helper_functions import determine_ecr_params\n",
    "\n",
    "\n",
    "def custom_schedule(backend: BackendV1 | BackendV2, physical_qubits: list, params: ParameterVector,\n",
    "                    keep_symmetry: bool = True):\n",
    "    \"\"\"\n",
    "    Define parametrization of the pulse schedule characterizing the target gate.\n",
    "    This function can be customized at will, however one shall recall to make sure that number of actions match the \n",
    "    number of pulse parameters used within the function (throught the params argument).\n",
    "        :param backend: IBM Backend on which schedule shall be added\n",
    "        :param physical_qubits: Physical qubits on which custom gate is applied on\n",
    "        :param params: Parameters of the Schedule/Custom gate\n",
    "        :param keep_symmetry: Choose if the two parts of the ECR tone shall be jointly parametrized or not\n",
    "\n",
    "        :return: Parametrized Schedule\n",
    "    \"\"\"\n",
    "    # Load here all pulse parameters names that should be tuned during model-free calibration.\n",
    "    # Here we focus on real time tunable pulse parameters (amp, angle, duration)\n",
    "    pulse_features = [\"amp\", \"angle\", \"tgt_amp\", \"tgt_angle\"]\n",
    "\n",
    "    # Uncomment line below to include pulse duration as tunable parameter\n",
    "    # pulse_features.append(\"duration\")\n",
    "    duration_window = 0\n",
    "\n",
    "    global n_actions\n",
    "    assert n_actions == len(\n",
    "        params), f\"Number of actions ({n_actions}) does not match length of ParameterVector {params.name} ({len(params)})\"\n",
    "\n",
    "    new_params, _, _ = determine_ecr_params(backend, physical_qubits)\n",
    "\n",
    "    qubits = tuple(physical_qubits)\n",
    "\n",
    "    if keep_symmetry:  # Maintain symmetry between the two GaussianSquare pulses\n",
    "        for sched in [\"cr45p\", \"cr45m\"]:\n",
    "            for i, feature in enumerate(pulse_features):\n",
    "                if feature != \"duration\":\n",
    "                    new_params[(feature, qubits, sched)] += params[i]\n",
    "                else:\n",
    "                    new_params[(feature, qubits, sched)] += pulse.builder.seconds_to_samples(\n",
    "                        duration_window * params[i])\n",
    "    else:\n",
    "        num_features = len(pulse_features)\n",
    "        for i, sched in enumerate([\"cr45p\", \"cr45m\"]):\n",
    "            for j, feature in enumerate(pulse_features):\n",
    "                if feature != \"duration\":\n",
    "                    new_params[(feature, qubits, sched)] += params[i * num_features + j]\n",
    "                else:\n",
    "                    new_params[(feature, qubits, sched)] += pulse.builder.seconds_to_samples(\n",
    "                        duration_window * params[i * num_features + j])\n",
    "\n",
    "    cals = Calibrations.from_backend(backend, [FixedFrequencyTransmon([\"x\", \"sx\"]),\n",
    "                                               EchoedCrossResonance([\"cr45p\", \"cr45m\", \"ecr\"])],\n",
    "                                     add_parameter_defaults=True)\n",
    "\n",
    "    # Retrieve schedule (for now, works only with ECRGate(), as no library yet available for CX)\n",
    "    parametrized_schedule = cals.get_schedule(\"ecr\", physical_qubits, assign_params=new_params)\n",
    "    return parametrized_schedule"
   ]
  },
  {
   "cell_type": "code",
   "execution_count": 42,
   "id": "d2994f36-46ef-407b-bb18-888c6d6c8d1e",
   "metadata": {
    "tags": [],
    "ExecuteTime": {
     "end_time": "2023-12-07T09:41:57.290879Z",
     "start_time": "2023-12-07T09:41:57.281507Z"
    }
   },
   "outputs": [],
   "source": [
    "# Pulse gate ansatz\n",
    "\n",
    "def apply_parametrized_circuit(qc: QuantumCircuit, params: Optional[ParameterVector] = None,\n",
    "                               tgt_register: Optional[QuantumRegister] = None):\n",
    "    \"\"\"\n",
    "    Define ansatz circuit to be played on Quantum Computer. Should be parametrized with Qiskit ParameterVector\n",
    "    This function is used to run the QuantumCircuit instance on a Runtime backend\n",
    "    :param qc: Quantum Circuit instance to add the gate on\n",
    "    :param params: Parameters of the custom Gate\n",
    "    :param tgt_register: Quantum Register formed of target qubits\n",
    "    :return:\n",
    "    \"\"\"\n",
    "    # qc.num_qubits\n",
    "    global n_actions, backend, target\n",
    "\n",
    "    gate, physical_qubits = target[\"gate\"], target[\"register\"]\n",
    "    # x_pulse = backend.defaults().instruction_schedule_map.get('x', (qubit_tgt_register,)).instructions[0][1].pulse\n",
    "    if params is None:\n",
    "        params = ParameterVector('theta', n_actions)\n",
    "    if tgt_register is None:\n",
    "        tgt_register = qc.qregs[0]\n",
    "\n",
    "    # Choose below which target gate you'd like to calibrate \n",
    "    parametrized_gate = Gate(\"custom_ecr\", 2, params=params.params)\n",
    "    # parametrized_gate = gate.copy()\n",
    "    # parametrized_gate.params = params.params\n",
    "    parametrized_schedule = custom_schedule(backend=backend, physical_qubits=physical_qubits, params=params)\n",
    "    qc.add_calibration(parametrized_gate, physical_qubits, parametrized_schedule)\n",
    "    qc.append(parametrized_gate, tgt_register)"
   ]
  },
  {
   "cell_type": "code",
   "execution_count": 43,
   "id": "de25fe83-dfc2-4c0b-bb55-b8e8294b6a52",
   "metadata": {
    "tags": [],
    "ExecuteTime": {
     "end_time": "2023-12-07T09:41:57.349117Z",
     "start_time": "2023-12-07T09:41:57.290649Z"
    }
   },
   "outputs": [],
   "source": [
    "physical_qubits = [0, 1]\n",
    "sampling_Paulis = 50\n",
    "N_shots = 200\n",
    "n_actions = 4  # Cf number of parameters in custom_schedule function above\n",
    "abstraction_level = 'pulse'"
   ]
  },
  {
   "cell_type": "code",
   "execution_count": 44,
   "id": "e79698c6-81bb-4944-9005-af13e6f4a028",
   "metadata": {
    "tags": [],
    "ExecuteTime": {
     "end_time": "2023-12-07T09:41:57.364670Z",
     "start_time": "2023-12-07T09:41:57.343223Z"
    }
   },
   "outputs": [
    {
     "name": "stdout",
     "output_type": "stream",
     "text": [
      "{'gate': Instruction(name='ecr', num_qubits=2, num_clbits=0, params=[]), 'register': [0, 1]}\n"
     ]
    }
   ],
   "source": [
    "# Example of target gate\n",
    "from qiskit.circuit.library.standard_gates import ECRGate, XGate\n",
    "\n",
    "ECR_tgt = {\"gate\": ECRGate(), \"register\": physical_qubits}\n",
    "target = ECR_tgt\n",
    "print(target)"
   ]
  },
  {
   "cell_type": "code",
   "execution_count": 45,
   "id": "808099ff-2e30-4b65-8c71-02bad5bc9c1e",
   "metadata": {
    "tags": [],
    "ExecuteTime": {
     "end_time": "2023-12-07T09:41:57.368722Z",
     "start_time": "2023-12-07T09:41:57.355288Z"
    }
   },
   "outputs": [],
   "source": [
    "#target = {\"gate\": XGate(), \"register\": [0]}"
   ]
  },
  {
   "cell_type": "markdown",
   "id": "6e1b1243-037e-4b3b-81ce-05d14cebcf15",
   "metadata": {},
   "source": [
    "## Setting up Quantum Backend"
   ]
  },
  {
   "cell_type": "markdown",
   "id": "01b7c1b5-c62d-4b1d-a7e7-2ab0c2cce461",
   "metadata": {
    "tags": []
   },
   "source": [
    "### Simulation backend initialization: Qiskit Dynamics\n",
    "If you want to run the algorithm over a simulation, one can use Qiskit Dynamics for pulse level simulation of quantum circuits. Below we set the ground for declaring a ```DynamicsBackend```.\n",
    "\n",
    "This can be done in two ways: \n",
    "\n",
    "1. Declare a ```DynamicsBackend``` from a ```FakeBackend``` or ```IBMBackend``` instance and use the ```from_backend()``` method to retrieve the Hamiltonian description of such backend.\n",
    "2. Alternatively, you can define your own custom Hamiltonian/Linblad that should be used to simulate the multiqubit system of interest, and feed it to a ```Solver``` instance which can be used to declare the ```DynamicsBackend```.\n",
    "For more information you can check Qiskit Dynamics documentation (https://qiskit.org/documentation/dynamics/apidocs/backend.html)\n"
   ]
  },
  {
   "cell_type": "code",
   "execution_count": 46,
   "id": "457e920c-18a1-4f2f-bd07-540a99481655",
   "metadata": {
    "tags": [],
    "ExecuteTime": {
     "end_time": "2023-12-07T09:41:57.403235Z",
     "start_time": "2023-12-07T09:41:57.369838Z"
    }
   },
   "outputs": [
    {
     "name": "stdout",
     "output_type": "stream",
     "text": [
      "Coupling Map:  [(5, 4), (4, 5), (1, 3), (3, 1), (6, 5), (5, 6), (3, 5), (5, 3), (2, 1), (1, 2), (0, 1), (1, 0)]\n"
     ]
    }
   ],
   "source": [
    "from qiskit.providers.fake_provider import FakeHanoi, FakeJakarta, FakeJakartaV2\n",
    "from helper_functions import get_control_channel_map\n",
    "from qiskit_dynamics import DynamicsBackend, Solver\n",
    "from helper_functions import get_solver_and_freq_from_backend\n",
    "\n",
    "fake_backend = FakeJakarta()\n",
    "fake_backend_v2 = FakeJakartaV2()\n",
    "control_channel_map = get_control_channel_map(fake_backend, physical_qubits)\n",
    "dt = fake_backend_v2.target.dt\n",
    "print(\"Coupling Map: \", list(fake_backend_v2.coupling_map.get_edges()))"
   ]
  },
  {
   "cell_type": "code",
   "execution_count": 47,
   "id": "c8e89761-f64a-4823-86df-4012f87ce562",
   "metadata": {
    "tags": [],
    "ExecuteTime": {
     "end_time": "2023-12-07T09:41:57.415250Z",
     "start_time": "2023-12-07T09:41:57.381396Z"
    }
   },
   "outputs": [],
   "source": [
    "solver_options = {\"method\": \"jax_odeint\", \"atol\": 1e-6, \"rtol\": 1e-8, \"hmax\": dt}\n",
    "dynamics_options = {'seed_simulator': None,  #\"configuration\": fake_backend.configuration(),\n",
    "                    'control_channel_map': control_channel_map,\n",
    "                    \"solver_options\": solver_options\n",
    "                    }\n",
    "qubit_properties = fake_backend_v2.qubit_properties(physical_qubits)"
   ]
  },
  {
   "cell_type": "code",
   "execution_count": 48,
   "id": "2d3aa1de-b048-41fc-a4e0-872ec14bb528",
   "metadata": {
    "tags": [],
    "ExecuteTime": {
     "end_time": "2023-12-07T09:41:57.500613Z",
     "start_time": "2023-12-07T09:41:57.411723Z"
    }
   },
   "outputs": [],
   "source": [
    "from qiskit.quantum_info import Operator\n",
    "from qiskit_dynamics import Solver, Signal\n",
    "from custom_jax_sim import JaxSolver\n",
    "\n",
    "dt, v0, r0 = 1 / 4.5e9, 4.86e9, 0.22e9\n",
    "\n",
    "X = Operator.from_label('X')\n",
    "Y = Operator.from_label('Y')\n",
    "Z = Operator.from_label('Z')\n",
    "s_p = 0.5 * (X + 1j * Y)\n",
    "\n",
    "solver_1q = JaxSolver(\n",
    "    static_hamiltonian=.5 * 2 * np.pi * v0 * Z,\n",
    "    hamiltonian_operators=[2 * np.pi * r0 * X],\n",
    "    rotating_frame=.5 * 2 * np.pi * v0 * Z,\n",
    "    hamiltonian_channels=[\"d0\"],\n",
    "    channel_carrier_freqs={\"d0\": v0},\n",
    "    dt=dt,\n",
    "    evaluation_mode=\"dense\"\n",
    "\n",
    ")\n"
   ]
  },
  {
   "cell_type": "code",
   "execution_count": 49,
   "id": "06dceddd-7276-4f7d-9ade-6b0ba7198bab",
   "metadata": {
    "tags": [],
    "ExecuteTime": {
     "end_time": "2023-12-07T09:41:57.857657Z",
     "start_time": "2023-12-07T09:41:57.499234Z"
    }
   },
   "outputs": [],
   "source": [
    "dim = 3\n",
    "\n",
    "v0, v1 = 4.86e9, 4.97e9\n",
    "anharm0, anharm1 = -0.32e9, -0.32e9\n",
    "r0, r1 = 0.22e9, 0.26e9\n",
    "\n",
    "J = 0.002e9\n",
    "\n",
    "a = np.diag(np.sqrt(np.arange(1, dim)), 1)\n",
    "adag = np.diag(np.sqrt(np.arange(1, dim)), -1)\n",
    "N = np.diag(np.arange(dim))\n",
    "\n",
    "ident = np.eye(dim, dtype=complex)\n",
    "full_ident = np.eye(dim ** 2, dtype=complex)\n",
    "\n",
    "N0, N1 = np.kron(ident, N), np.kron(N, ident)\n",
    "a0, a1 = np.kron(ident, a), np.kron(a, ident)\n",
    "a0dag, a1dag = np.kron(ident, adag), np.kron(adag, ident)\n",
    "\n",
    "static_ham0 = 2 * np.pi * v0 * N0 + np.pi * anharm0 * N0 * (N0 - full_ident)\n",
    "static_ham1 = 2 * np.pi * v1 * N1 + np.pi * anharm1 * N1 * (N1 - full_ident)\n",
    "\n",
    "static_ham_full = static_ham0 + static_ham1 + 2 * np.pi * J * ((a0 + a0dag) @ (a1 + a1dag))\n",
    "\n",
    "drive_op0 = 2 * np.pi * r0 * (a0 + a0dag)\n",
    "drive_op1 = 2 * np.pi * r1 * (a1 + a1dag)\n",
    "\n",
    "# build solver\n",
    "dt = 1 / 4.5e9\n",
    "\n",
    "solver_2q_jax = JaxSolver(\n",
    "    static_hamiltonian=static_ham_full,\n",
    "    hamiltonian_operators=[drive_op0, drive_op1, drive_op0, drive_op1, drive_op1, drive_op0],\n",
    "    rotating_frame=static_ham_full,\n",
    "    hamiltonian_channels=[\"d0\", \"d1\", \"u0\", \"u1\", \"u2\", \"u3\"],\n",
    "    channel_carrier_freqs={\"d0\": v0, \"d1\": v1, \"u0\": v1, \"u1\": v0, \"u2\": v0, \"u3\": v1},\n",
    "    dt=dt,\n",
    "    evaluation_mode=\"dense\"\n",
    ")\n",
    "solver_2q = Solver(\n",
    "    static_hamiltonian=static_ham_full,\n",
    "    hamiltonian_operators=[drive_op0, drive_op1, drive_op0, drive_op1, drive_op1, drive_op0],\n",
    "    rotating_frame=static_ham_full,\n",
    "    hamiltonian_channels=[\"d0\", \"d1\", \"u0\", \"u1\", \"u2\", \"u3\"],\n",
    "    channel_carrier_freqs={\"d0\": v0, \"d1\": v1, \"u0\": v1, \"u1\": v0, \"u2\": v0, \"u3\": v1},\n",
    "    dt=dt,\n",
    "    evaluation_mode=\"dense\"\n",
    ")\n",
    "# Consistent solver option to use throughout notebook\n"
   ]
  },
  {
   "cell_type": "code",
   "execution_count": 50,
   "id": "72de966f-dad5-4127-b854-f33735ac2da4",
   "metadata": {
    "tags": [],
    "ExecuteTime": {
     "end_time": "2023-12-07T09:41:57.889421Z",
     "start_time": "2023-12-07T09:41:57.760545Z"
    }
   },
   "outputs": [],
   "source": [
    "solver_options = {\"method\": \"jax_odeint\", \"atol\": 1e-6, \"rtol\": 1e-8, 'hmax': dt}\n",
    "solver = solver_2q\n",
    "custom_backend = DynamicsBackend(\n",
    "    solver=solver,\n",
    "    #target = fake_backend_v2.target,\n",
    "    subsystem_dims=[dim, dim],  # for computing measurement data\n",
    "    solver_options=solver_options,  # to be used every time run is called\n",
    ")\n",
    "backend_target = custom_backend.target\n",
    "channel_freq = None\n",
    "calibration_files = None\n",
    "do_calibrations = True\n",
    "# qubit properties"
   ]
  },
  {
   "cell_type": "code",
   "execution_count": 51,
   "id": "5ba466aa-1c9a-4939-b099-b793176acb01",
   "metadata": {
    "tags": [],
    "ExecuteTime": {
     "end_time": "2023-12-07T09:41:57.903230Z",
     "start_time": "2023-12-07T09:41:57.829793Z"
    }
   },
   "outputs": [
    {
     "name": "stdout",
     "output_type": "stream",
     "text": [
      "Target\n",
      "Number of qubits: 2\n",
      "Instructions:\n",
      "\tmeasure\n",
      "\t\t(0,):\n",
      "\t\t\tWith pulse schedule calibration\n",
      "\t\t(1,):\n",
      "\t\t\tWith pulse schedule calibration\n"
     ]
    }
   ],
   "source": [
    "print(custom_backend.target)"
   ]
  },
  {
   "cell_type": "markdown",
   "id": "613f2921-8c47-438e-a764-801de470670e",
   "metadata": {},
   "source": [
    "## Select backend"
   ]
  },
  {
   "cell_type": "code",
   "execution_count": 52,
   "id": "8c5dc2e6-aaea-48ab-ae95-4e39bdd5d52e",
   "metadata": {
    "tags": [],
    "ExecuteTime": {
     "end_time": "2023-12-07T09:41:57.904372Z",
     "start_time": "2023-12-07T09:41:57.842514Z"
    }
   },
   "outputs": [
    {
     "name": "stdout",
     "output_type": "stream",
     "text": [
      "Selected Backend:  <qiskit_dynamics.backend.dynamics_backend.DynamicsBackend object at 0x301e21b90>\n",
      "Subsystem dims:  [3, 3]\n",
      "Backend options Options(shots=1024, solver=<qiskit_dynamics.solvers.solver_classes.Solver object at 0x2be1b7950>, solver_options={'method': 'jax_odeint', 'atol': 1e-06, 'rtol': 1e-08, 'hmax': 2.2222222222222221e-10}, subsystem_dims=[3, 3], meas_map=[[0], [1]], control_channel_map=None, normalize_states=True, initial_state='ground_state', meas_level=<MeasLevel.CLASSIFIED: 2>, meas_return=<MeasReturnType.AVERAGE: 'avg'>, iq_centers=None, iq_width=0.2, max_outcome_level=1, memory=True, seed_simulator=None, experiment_result_function=<function default_experiment_result_function at 0x17f37b380>, configuration=None, defaults=None)\n"
     ]
    }
   ],
   "source": [
    "# Choose backend among the set defined above\n",
    "backend = custom_backend\n",
    "\n",
    "print('Selected Backend: ', backend)\n",
    "if isinstance(backend, DynamicsBackend):\n",
    "    print(\"Subsystem dims: \", backend.options.subsystem_dims)\n",
    "print('Backend options', backend.options)"
   ]
  },
  {
   "cell_type": "code",
   "execution_count": 53,
   "outputs": [
    {
     "data": {
      "text/plain": "[3, 3]"
     },
     "execution_count": 53,
     "metadata": {},
     "output_type": "execute_result"
    }
   ],
   "source": [
    "backend.options.subsystem_dims"
   ],
   "metadata": {
    "collapsed": false,
    "ExecuteTime": {
     "end_time": "2023-12-07T09:41:57.905484Z",
     "start_time": "2023-12-07T09:41:57.847685Z"
    }
   },
   "id": "35c6df050dc9e7e1"
  },
  {
   "cell_type": "code",
   "execution_count": 54,
   "id": "44902345-749f-4014-8103-94a851804e20",
   "metadata": {
    "tags": [],
    "ExecuteTime": {
     "end_time": "2023-12-07T09:41:57.907749Z",
     "start_time": "2023-12-07T09:41:57.856591Z"
    }
   },
   "outputs": [
    {
     "data": {
      "text/plain": "QiskitConfig(parametrized_circuit=<function apply_parametrized_circuit at 0x2c2050400>, backend=<qiskit_dynamics.backend.dynamics_backend.DynamicsBackend object at 0x301e21b90>, estimator_options=None, solver=None, channel_freq=None, do_calibrations=True, calibration_files=None)"
     },
     "execution_count": 54,
     "metadata": {},
     "output_type": "execute_result"
    }
   ],
   "source": [
    "# Wrap all info in one QiskitConfig\n",
    "Qiskit_setup = QiskitConfig(parametrized_circuit=apply_parametrized_circuit, backend=backend)\n",
    "#Qiskit_setup = QiskitConfig(backend=backend)\n",
    "Qiskit_setup"
   ]
  },
  {
   "cell_type": "markdown",
   "id": "75dd6b2e-a20a-4867-915e-1501d7c7fcbf",
   "metadata": {
    "tags": []
   },
   "source": [
    "## Declare QuantumEnvironment object\n",
    "Running the box below declares the QuantumEnvironment instance.\n",
    "\n",
    "If selected backend is a ```DynamicsBackend```, this declaration launches a series of single qubit gate calibrations (to calibrate X and SX gate). The reason for this is that the Estimator primitive, which enables the computation of Pauli expectation values, requires calibrated single qubit gates for doing Pauli basis rotations (SX and RZ, to perform Hadamard and S gates)."
   ]
  },
  {
   "cell_type": "code",
   "execution_count": 55,
   "id": "4c73677c-1a71-4ace-8409-a42383f5c172",
   "metadata": {
    "tags": [],
    "ExecuteTime": {
     "end_time": "2023-12-07T09:42:15.407130Z",
     "start_time": "2023-12-07T09:41:57.882454Z"
    }
   },
   "outputs": [
    {
     "name": "stdout",
     "output_type": "stream",
     "text": [
      "Starting Rabi experiment for qubit 0...\n",
      "Rabi experiment for qubit 0 done.\n",
      "Starting Drag experiment for qubit 0...\n",
      "Drag experiments done for qubit 0 done.\n",
      "Starting Rabi experiment for qubit 1...\n",
      "Rabi experiment for qubit 1 done.\n",
      "Starting Drag experiment for qubit 1...\n",
      "Drag experiments done for qubit 1 done.\n",
      "All single qubit calibrations are done\n",
      "Updated Instruction Schedule Map <InstructionScheduleMap(1Q instructions:\n",
      "  q0: {'id', 'reset', 's', 't', 'delay', 'h', 'sx', 'x', 'measure', 'z', 'rz', 'sdg', 'tdg'}\n",
      "  q1: {'id', 'reset', 's', 't', 'delay', 'h', 'sx', 'x', 'measure', 'z', 'rz', 'sdg', 'tdg'}\n",
      "Multi qubit instructions:\n",
      "  (0, 1): {'cr45p', 'cr45m', 'ecr'}\n",
      "  (1, 0): {'cr45p', 'cr45m', 'ecr'}\n",
      ")>\n",
      "CPU times: user 23.6 s, sys: 7.99 s, total: 31.6 s\n",
      "Wall time: 17.5 s\n"
     ]
    }
   ],
   "source": [
    "\n",
    "%%time\n",
    "q_env = QuantumEnvironment(target=target, abstraction_level=abstraction_level,\n",
    "                           Qiskit_config=Qiskit_setup,\n",
    "                           sampling_Pauli_space=sampling_Paulis, n_shots=N_shots, c_factor=0.5)"
   ]
  },
  {
   "cell_type": "code",
   "execution_count": 56,
   "id": "9c6f2f3b-4338-4ff2-8539-de8fe475d60d",
   "metadata": {
    "tags": [],
    "ExecuteTime": {
     "end_time": "2023-12-07T09:42:15.409304Z",
     "start_time": "2023-12-07T09:42:15.406932Z"
    }
   },
   "outputs": [
    {
     "name": "stdout",
     "output_type": "stream",
     "text": [
      "QuantumEnvironment composed of 2 qubits, \n",
      "Defined target: gate (Instruction(name='ecr', num_qubits=2, num_clbits=0, params=[]))\n",
      "Physical qubits: [0, 1]\n",
      "Backend: <qiskit_dynamics.backend.dynamics_backend.DynamicsBackend object at 0x301e21b90>,\n",
      "Abstraction level: pulse,\n",
      "Run options: N_shots (200), Sampling_Pauli_space (50), \n"
     ]
    }
   ],
   "source": [
    "print(q_env)"
   ]
  },
  {
   "cell_type": "code",
   "execution_count": 57,
   "outputs": [
    {
     "data": {
      "text/plain": "<qiskit_dynamics.backend.dynamics_backend.DynamicsBackend at 0x301e21b90>"
     },
     "execution_count": 57,
     "metadata": {},
     "output_type": "execute_result"
    }
   ],
   "source": [
    "q_env.backend"
   ],
   "metadata": {
    "collapsed": false,
    "ExecuteTime": {
     "end_time": "2023-12-07T09:42:15.413730Z",
     "start_time": "2023-12-07T09:42:15.411035Z"
    }
   },
   "id": "8ad882b6b22d96d3"
  },
  {
   "cell_type": "code",
   "execution_count": 58,
   "id": "1cd875bd-832e-44fc-a846-89ccd54229e4",
   "metadata": {
    "tags": [],
    "ExecuteTime": {
     "end_time": "2023-12-07T09:42:15.415647Z",
     "start_time": "2023-12-07T09:42:15.413478Z"
    }
   },
   "outputs": [
    {
     "data": {
      "text/plain": "<qiskit.primitives.backend_estimator.BackendEstimator at 0x301c1fe10>"
     },
     "execution_count": 58,
     "metadata": {},
     "output_type": "execute_result"
    }
   ],
   "source": [
    "from qiskit.primitives import BackendEstimator\n",
    "\n",
    "q_env.estimator"
   ]
  },
  {
   "cell_type": "code",
   "execution_count": 59,
   "id": "7aa24025-5af0-4879-8fcd-0279286a1d48",
   "metadata": {
    "tags": [],
    "ExecuteTime": {
     "end_time": "2023-12-07T09:42:15.421523Z",
     "start_time": "2023-12-07T09:42:15.416073Z"
    }
   },
   "outputs": [],
   "source": [
    "from qiskit.visualization import plot_coupling_map, plot_circuit_layout, gate_map, plot_gate_map\n",
    "from qiskit.visualization.pulse_v2 import IQXDebugging\n",
    "\n",
    "#plot_gate_map(backend)"
   ]
  },
  {
   "cell_type": "code",
   "execution_count": 60,
   "id": "4db83a9d-5d9d-4367-8e5f-343f7806ad96",
   "metadata": {
    "tags": [],
    "ExecuteTime": {
     "end_time": "2023-12-07T09:42:15.423408Z",
     "start_time": "2023-12-07T09:42:15.419820Z"
    }
   },
   "outputs": [],
   "source": [
    "from qiskit.quantum_info import Statevector\n",
    "\n",
    "y0 = Array(Statevector(np.array([1.0, 0.0])))\n",
    "dt = 2.222e-10\n",
    "rtol = 1e-5\n",
    "atol = 1e-3\n",
    "\n",
    "h_sched = backend.target.get_calibration(\"h\", (0,))\n",
    "x_sched = backend.target.get_calibration(\"x\", (0,))\n",
    "meas_sched = backend.target.get_calibration(\"measure\", (0,))\n",
    "# build a pulse schedule\n",
    "with pulse.build(default_alignment=\"sequential\") as schedule:\n",
    "    pulse.call(x_sched)\n",
    "    #pulse.call(h_sched)\n",
    "    #pulse.shift_phase(np.pi, pulse.DriveChannel(0))\n",
    "    #pulse.call(h_sched)\n",
    "\n",
    "t_linspace = np.linspace(0.0, schedule.duration, 21)\n",
    "\n",
    "\n",
    "def get_sched(param_values, observables, y0, options):\n",
    "    sched = my_sched_function(params)  # Load parameter\n",
    "    x_sched = backend.target.get_calibration(\"x\", (0,))\n",
    "    h_sched = backend.target.get_calibration(\"h\", (0,))\n",
    "    meas_sched = backend.target.get_calibration(\"measure\", (0,))\n",
    "    # build a pulse schedule\n",
    "    with pulse.build(default_alignment=\"sequential\") as schedule:\n",
    "        pulse.call(x_sched)\n",
    "        #pulse.shift_phase(phase, pulse.DriveChannel(0))\n",
    "        #pulse.call(h_sched)\n",
    "        #pulse.call(meas_sched)\n",
    "    results = solver.solve(t_span=[t_linspace[0], t_linspace[-1]],\n",
    "                           y0=y0,\n",
    "                           signals=schedule,\n",
    "                           t_eval=t_linspace,\n",
    "                           method='jax_odeint',\n",
    "                           atol=atol,\n",
    "                           rtol=rtol\n",
    "                           )\n",
    "\n",
    "    return results.y\n"
   ]
  },
  {
   "cell_type": "code",
   "execution_count": 60,
   "id": "9338fe4f-e821-47bf-81e8-d4d406af7054",
   "metadata": {
    "ExecuteTime": {
     "end_time": "2023-12-07T09:42:15.425242Z",
     "start_time": "2023-12-07T09:42:15.422777Z"
    }
   },
   "outputs": [],
   "source": []
  },
  {
   "cell_type": "code",
   "execution_count": 61,
   "id": "65194fa1-d461-4f04-a5ab-ef05207429eb",
   "metadata": {
    "tags": [],
    "ExecuteTime": {
     "end_time": "2023-12-07T09:42:15.427407Z",
     "start_time": "2023-12-07T09:42:15.424910Z"
    }
   },
   "outputs": [],
   "source": [
    "import jax.numpy as jnp\n",
    "from jax import block_until_ready, vmap\n",
    "from qiskit_dynamics.array import wrap\n",
    "\n",
    "jit = wrap(jax.jit, decorator=True)\n",
    "qd_vmap = wrap(vmap, decorator=True)\n",
    "\n",
    "sched_fast = jit(get_sched)"
   ]
  },
  {
   "cell_type": "code",
   "execution_count": 62,
   "id": "e92da7ac-0fa6-4d90-8166-7b09c375df24",
   "metadata": {
    "tags": [],
    "ExecuteTime": {
     "end_time": "2023-12-07T09:42:15.429254Z",
     "start_time": "2023-12-07T09:42:15.426892Z"
    }
   },
   "outputs": [],
   "source": [
    "# x_sched = backend.target.get_calibration(\"x\", (0,))\n",
    "# h_sched = backend.target.get_calibration(\"h\", (0,))\n",
    "# meas_sched = backend.target.get_calibration(\"measure\", (0,))\n",
    "# # build a pulse schedule\n",
    "# with pulse.build(default_alignment=\"sequential\") as schedule:\n",
    "#     pulse.call(x_sched)\n",
    "#     #pulse.shift_phase(phase, pulse.DriveChannel(0))\n",
    "#     #pulse.call(h_sched)\n",
    "#     #pulse.call(meas_sched)\n",
    "# results = backend.options.solver.solve(t_span=[t_linspace[0], t_linspace[-1]],\n",
    "#                                        y0=Statevector.from_label(\"0\"),\n",
    "#                                        signals=schedule,\n",
    "#                                        t_eval=t_linspace,\n",
    "#                                        method='jax_odeint',\n",
    "#                                        atol=atol,\n",
    "#                                        rtol=rtol\n",
    "#                                        )\n"
   ]
  },
  {
   "cell_type": "markdown",
   "id": "f4659345-6834-4400-953b-7544f8ee1214",
   "metadata": {},
   "source": [
    "# Definition of Circuit context"
   ]
  },
  {
   "cell_type": "markdown",
   "id": "50f8b8cf-31f3-4484-84b5-d6b21c8f7814",
   "metadata": {},
   "source": [
    "Now that we have established our ```QuantumEnvironment```, we will now focus on the main research point of this paper, which is to calibrate the target gate based on its location within a specific circuit context. As we will use PyTorch to build the interface between our agent and our environment, we will wrap up our original environment within a ```TorchQuantumEnvironment``` object, which will build a suitable environment for dynamical and contextual gate calibration. But first, we define the quantum circuit in which our target operation will appear."
   ]
  },
  {
   "cell_type": "code",
   "execution_count": 63,
   "id": "ae893112-7c4c-484b-9477-8bee469cb033",
   "metadata": {
    "tags": [],
    "ExecuteTime": {
     "end_time": "2023-12-07T09:42:15.473604Z",
     "start_time": "2023-12-07T09:42:15.430410Z"
    }
   },
   "outputs": [
    {
     "name": "stderr",
     "output_type": "stream",
     "text": [
      "/Users/arthurostrauss/anaconda3/envs/rl_qoc/lib/python3.11/site-packages/qiskit/visualization/circuit/matplotlib.py:266: FutureWarning: The default matplotlib drawer scheme will be changed to \"iqp\" in a following release. To silence this warning, specify the current default explicitly as style=\"clifford\", or the new default as style=\"iqp\".\n",
      "  self._style, def_font_ratio = load_style(self._style)\n"
     ]
    },
    {
     "data": {
      "text/plain": "<Figure size 454.517x200.667 with 1 Axes>",
      "image/png": "[encoded data removed]"
     },
     "execution_count": 63,
     "metadata": {},
     "output_type": "execute_result"
    }
   ],
   "source": [
    "target_circuit = QuantumCircuit(2)\n",
    "target_circuit.h(0)\n",
    "target_circuit.cx(0, 1)\n",
    "target_circuit.x([0, 1])\n",
    "target_circuit.cx(0, 1)\n",
    "target_circuit.draw(\"mpl\")"
   ]
  },
  {
   "cell_type": "markdown",
   "id": "3d2b6b7e-5132-41d2-a8a7-99ccfa7bf6b3",
   "metadata": {},
   "source": [
    "To be able to see where our ECR gate shall appear in the circuit, we have to transpile this logical circuit to the backend. To ease the visualization, we add small functions to see the circuit only on relevant physical qubits."
   ]
  },
  {
   "cell_type": "code",
   "execution_count": 64,
   "id": "7c90c369-7c67-48e8-be60-6a8a4ac7e9b8",
   "metadata": {
    "tags": [],
    "ExecuteTime": {
     "end_time": "2023-12-07T09:42:15.540474Z",
     "start_time": "2023-12-07T09:42:15.479643Z"
    }
   },
   "outputs": [
    {
     "data": {
      "text/plain": "<Figure size 1343.11x200.667 with 1 Axes>",
      "image/png": "[encoded data removed]"
     },
     "execution_count": 64,
     "metadata": {},
     "output_type": "execute_result"
    }
   ],
   "source": [
    "from helper_functions import remove_unused_wires\n",
    "\n",
    "transpiled_circ = transpile(target_circuit, backend,\n",
    "                            initial_layout=physical_qubits,\n",
    "                            basis_gates=[\"sx\", \"rz\", \"ecr\", \"x\"],\n",
    "                            optimization_level=1)\n",
    "remove_unused_wires(transpiled_circ).draw(\"mpl\")"
   ]
  },
  {
   "cell_type": "code",
   "execution_count": 65,
   "id": "6469f970-fe76-403c-9867-848e8ed2e0cd",
   "metadata": {
    "tags": [],
    "ExecuteTime": {
     "end_time": "2023-12-07T09:42:15.648784Z",
     "start_time": "2023-12-07T09:42:15.544423Z"
    }
   },
   "outputs": [
    {
     "name": "stdout",
     "output_type": "stream",
     "text": [
      "2.2222222222222221e-10\n"
     ]
    },
    {
     "data": {
      "text/plain": "<Figure size 1300x900 with 1 Axes>",
      "image/png": "[encoded data removed]"
     },
     "execution_count": 65,
     "metadata": {},
     "output_type": "execute_result"
    }
   ],
   "source": [
    "from qiskit import schedule\n",
    "\n",
    "print(backend.dt)\n",
    "schedule(transpiled_circ, backend).draw()"
   ]
  },
  {
   "cell_type": "code",
   "execution_count": 66,
   "outputs": [],
   "source": [
    "def schedule_from_qc(qc: QuantumCircuit, backend: Backend):\n",
    "    def my_sched():\n",
    "        sched = schedule(qc, backend)\n",
    "\n",
    "        return sched\n",
    "\n",
    "    return my_sched\n"
   ],
   "metadata": {
    "collapsed": false,
    "ExecuteTime": {
     "end_time": "2023-12-07T09:42:15.651033Z",
     "start_time": "2023-12-07T09:42:15.648361Z"
    }
   },
   "id": "e4b8d488c0362837"
  },
  {
   "cell_type": "markdown",
   "id": "f0728780-bee0-4fc5-9522-cedb5977fd18",
   "metadata": {},
   "source": [
    "# Definition of TorchQuantumEnvironment"
   ]
  },
  {
   "cell_type": "markdown",
   "id": "4e189855-f1d3-4cc9-9d86-e80ef7db3b13",
   "metadata": {},
   "source": [
    "To define the ```TorchQuantumEnvironment``` wrapper, we follow the Gym like definition, where we provide the structure of the observation and action spaces.\n",
    "\n",
    "The class takes the following inputs:\n",
    "- ```q_env: QuantumEnvironment```: the baseline object where the information about the backend and the target gate is\n",
    "- ```circuit_context: QuantumCircuit```: The circuit in which the previously defined target operation is applied. Note that the class will automatically look for all instances of the gate within the circuit and build dedicated subcircuits (truncations) enabling the successive calibration of each gate instance. To be noted here: the gate calibration focuses only on the target qubits defined in the ```QuantumEnvironment```. In Qiskit, we typically look for the ```CircuitInstruction``` object composed of a ```Gate``` object and a set of target qubits on which the gate is applied (both defined in target).\n",
    "- ```action_space```/```observation_space```: Spaces defining the range and shapes of possible actions/observations.\n",
    "For now, the observation space is fixed to a set of two integers:\n",
    "    - the first one indicates which random input state was selected at the beginning of the episode, so that the network have an extra information on the randomness source coming from the reward.\n",
    "    - the second one indicates which instance of the gate it will calibrate. In the real-time use case, we would like the agent to generate on the fly random actions that will be applied directly for the next gate within the circuit execution. With Qiskit Runtime however, we are not able to generate those actions on the fly and will therefore load all actions associated to each instance of the gate prior to execution.\n",
    "\n",
    "\n",
    "Moreover, we apply for now a sequential training loop, meaning that we will force the agent to focus on the calibration of the first gate (truncating the circuit just behind its execution) before starting to calibrate the second one (and so forth). The number of iterations per gate instance must be provided with the number ```training_steps_per_gate```."
   ]
  },
  {
   "cell_type": "markdown",
   "id": "788ee29b-3840-40ec-8915-808d4d3607e8",
   "metadata": {},
   "source": [
    "Since we want to run a contextual gate calibration, we need to know exactly how the circuit will be transpiled on the backend. There is therefore an internal transpilation (without any optimization) that enables the retrieval of all timings of the logical gates indicated above. We also account for the local context happening on nearest neighbor qubits on the chip.\n",
    "\n",
    "Moreover, as we run this sequential gate calibration for each instance of the target gate within the circuit, one can check the different circuit truncations the agent will go over.\n",
    "\n",
    "Important note: The target type of the calibration must be a quantum Gate instance (it will not work if target is a quantum state)."
   ]
  },
  {
   "cell_type": "code",
   "execution_count": 67,
   "id": "e20355a7-6530-4459-9e03-d4bbf69daf3b",
   "metadata": {
    "tags": [],
    "ExecuteTime": {
     "end_time": "2023-12-07T09:42:16.048311Z",
     "start_time": "2023-12-07T09:42:15.652208Z"
    }
   },
   "outputs": [
    {
     "name": "stderr",
     "output_type": "stream",
     "text": [
      "/Users/arthurostrauss/anaconda3/envs/rl_qoc/lib/python3.11/site-packages/gymnasium/spaces/box.py:130: UserWarning: \u001B[33mWARN: Box bound precision lowered by casting to float32\u001B[0m\n",
      "  gym.logger.warn(f\"Box bound precision lowered by casting to {self.dtype}\")\n"
     ]
    },
    {
     "name": "stdout",
     "output_type": "stream",
     "text": [
      "CPU times: user 706 ms, sys: 18.9 ms, total: 725 ms\n",
      "Wall time: 393 ms\n"
     ]
    }
   ],
   "source": [
    "%%time\n",
    "# Circuit context\n",
    "from torch_contextual_gate_calibration.torch_quantum_environment import TorchQuantumEnvironment\n",
    "from gymnasium.spaces import Box, Space\n",
    "\n",
    "seed = 10\n",
    "training_steps_per_gate = 2000\n",
    "benchmark_cycle = 100\n",
    "# tgt_instruction_counts = target_circuit.data.count(CircuitInstruction(target_gate, tgt_qubits))\n",
    "tgt_instruction_counts = 2  # Number of times target Instruction is applied in Circuit\n",
    "batchsize = 200  # Batch size (iterate over a bunch of actions per policy to estimate expected return) default 100\n",
    "n_actions = 4  # Choose how many control parameters in pulse/circuit parametrization\n",
    "min_bound_actions = - 0.1\n",
    "max_bound_actions = 0.1\n",
    "scale_factor = 0.1\n",
    "observation_space = Box(low=np.array([0, 0]), high=np.array([1, tgt_instruction_counts]), shape=(2,),\n",
    "                        seed=seed)\n",
    "action_space = Box(low=min_bound_actions, high=max_bound_actions, shape=(n_actions,), seed=seed)\n",
    "\n",
    "torch_env = TorchQuantumEnvironment(q_env, target_circuit, action_space,\n",
    "                                    observation_space, batch_size=batchsize,\n",
    "                                    training_steps_per_gate=training_steps_per_gate,\n",
    "                                    benchmark_cycle=benchmark_cycle,\n",
    "                                    intermediate_rewards=False,\n",
    "                                    seed=None, )\n"
   ]
  },
  {
   "cell_type": "code",
   "execution_count": 68,
   "id": "2925d82f-a472-4358-ae46-20bb426dc85f",
   "metadata": {
    "tags": [],
    "ExecuteTime": {
     "end_time": "2023-12-07T09:42:16.088089Z",
     "start_time": "2023-12-07T09:42:16.047392Z"
    }
   },
   "outputs": [
    {
     "name": "stderr",
     "output_type": "stream",
     "text": [
      "/Users/arthurostrauss/anaconda3/envs/rl_qoc/lib/python3.11/site-packages/qiskit/visualization/circuit/matplotlib.py:266: FutureWarning: The default matplotlib drawer scheme will be changed to \"iqp\" in a following release. To silence this warning, specify the current default explicitly as style=\"clifford\", or the new default as style=\"iqp\".\n",
      "  self._style, def_font_ratio = load_style(self._style)\n"
     ]
    },
    {
     "data": {
      "text/plain": "<Figure size 644.181x200.667 with 1 Axes>",
      "image/png": "[encoded data removed]"
     },
     "execution_count": 68,
     "metadata": {},
     "output_type": "execute_result"
    }
   ],
   "source": [
    "torch_env.circuit_truncations[0].draw(\"mpl\")"
   ]
  },
  {
   "cell_type": "code",
   "execution_count": 69,
   "id": "c6087449-9dbf-4f2f-b083-40fe217a6d7f",
   "metadata": {
    "tags": [],
    "ExecuteTime": {
     "end_time": "2023-12-07T09:42:16.136075Z",
     "start_time": "2023-12-07T09:42:16.095279Z"
    }
   },
   "outputs": [
    {
     "data": {
      "text/plain": "<Figure size 1229.46x200.667 with 1 Axes>",
      "image/png": "[encoded data removed]"
     },
     "execution_count": 69,
     "metadata": {},
     "output_type": "execute_result"
    }
   ],
   "source": [
    "torch_env.circuit_truncations[1].draw(\"mpl\")"
   ]
  },
  {
   "cell_type": "code",
   "execution_count": 70,
   "id": "1ac343b9-3338-4c66-b169-18a0a4901afc",
   "metadata": {
    "tags": [],
    "ExecuteTime": {
     "end_time": "2023-12-07T09:42:16.177530Z",
     "start_time": "2023-12-07T09:42:16.144982Z"
    }
   },
   "outputs": [
    {
     "data": {
      "text/plain": "<Figure size 895.014x200.667 with 1 Axes>",
      "image/png": "[encoded data removed]"
     },
     "execution_count": 70,
     "metadata": {},
     "output_type": "execute_result"
    }
   ],
   "source": [
    "torch_env.baseline_truncations[1].draw(\"mpl\")"
   ]
  },
  {
   "cell_type": "code",
   "execution_count": 71,
   "id": "51f78006-11ab-4d8a-9ce9-1b1283fd7481",
   "metadata": {
    "tags": [],
    "ExecuteTime": {
     "end_time": "2023-12-07T09:42:16.180351Z",
     "start_time": "2023-12-07T09:42:16.177824Z"
    }
   },
   "outputs": [
    {
     "data": {
      "text/plain": "Options()"
     },
     "execution_count": 71,
     "metadata": {},
     "output_type": "execute_result"
    }
   ],
   "source": [
    "torch_env.estimator.options"
   ]
  },
  {
   "cell_type": "code",
   "execution_count": 72,
   "id": "2e55231e-a11c-4d90-95c5-fef944fbbd0a",
   "metadata": {
    "tags": [],
    "ExecuteTime": {
     "end_time": "2023-12-07T09:42:16.187698Z",
     "start_time": "2023-12-07T09:42:16.185490Z"
    }
   },
   "outputs": [
    {
     "data": {
      "text/plain": "Schedule((0, ShiftPhase(-1.5707963268, DriveChannel(0))), (0, ShiftPhase(-1.5707963268, DriveChannel(1))), (0, ShiftPhase(-1.5707963268, DriveChannel(1))), (0, ShiftPhase(-1.5707963268, ControlChannel(0))), (0, ShiftPhase(-1.5707963268, ControlChannel(0))), (0, ShiftPhase(-1.5707963268, ControlChannel(1))), (0, Play(Drag(duration=160, sigma=40, beta=0, amp=0.05944148, angle=0), DriveChannel(0))), (0, Play(Drag(duration=160, sigma=40, beta=0, amp=0.05029727, angle=0), DriveChannel(1))), (160, ShiftPhase(-1.5707963268, DriveChannel(0))), (160, ShiftPhase(1.5707963268, DriveChannel(0))), (160, ShiftPhase(-1.5707963268, DriveChannel(1))), (160, ShiftPhase(-1.5707963268, DriveChannel(1))), (160, ShiftPhase(-1.5707963268, ControlChannel(0))), (160, ShiftPhase(-1.5707963268, ControlChannel(0))), (160, ShiftPhase(-1.5707963268, ControlChannel(1))), (160, ShiftPhase(1.5707963268, ControlChannel(1))), (160, Play(GaussianSquare(duration=1168, sigma=64, width=912, amp=a_0[2], angle=a_0[3]), DriveChannel(1))), (160, Play(GaussianSquare(duration=1168, sigma=64, width=912, amp=a_0[0] + 0.5, angle=a_0[1]), ControlChannel(0))), (1328, Play(Drag(duration=160, sigma=40, beta=6.2939870509, amp=0.11888295, angle=0), DriveChannel(0))), (1488, Play(GaussianSquare(duration=1168, sigma=64, width=912, amp=a_0[2], angle=a_0[3] + 3.14159265358979), DriveChannel(1))), (1488, Play(GaussianSquare(duration=1168, sigma=64, width=912, amp=a_0[0] + 0.5, angle=a_0[1] + 3.14159265358979), ControlChannel(0))), name=\"c_circ_trunc_0\")"
     },
     "execution_count": 72,
     "metadata": {},
     "output_type": "execute_result"
    }
   ],
   "source": [
    "schedule(torch_env.circuit_truncations[0], backend)"
   ]
  },
  {
   "cell_type": "markdown",
   "id": "5b4b6bdf-18c0-4695-b040-811d3c96a498",
   "metadata": {},
   "source": [
    "# Definition of the Agent"
   ]
  },
  {
   "cell_type": "code",
   "execution_count": 73,
   "id": "b3aee453-8139-47dd-8409-88aa72c31181",
   "metadata": {
    "tags": [],
    "ExecuteTime": {
     "end_time": "2023-12-07T09:42:16.191970Z",
     "start_time": "2023-12-07T09:42:16.188496Z"
    }
   },
   "outputs": [],
   "source": [
    "import torch\n",
    "import torch.nn as nn\n",
    "\n",
    "from agent import ActorNetwork, CriticNetwork, Agent\n",
    "\n",
    "#device = torch.device(\"cuda\" if torch.cuda.is_available() else \"cpu\")\n",
    "device = torch.device(\"cpu\")\n",
    "hidden_units = [64, 64]\n",
    "activation_functions = [nn.Tanh(), nn.Tanh(), nn.Tanh()]\n",
    "include_critic = False\n",
    "chkpt_dir = 'tmp/ppo'\n",
    "chkpt_dir_critic = 'tmp/critic_ppo'\n",
    "\n",
    "actor_net = ActorNetwork(observation_space, hidden_units, n_actions, activation_functions, include_critic,\n",
    "                         chkpt_dir).to(device)\n",
    "critic_net = CriticNetwork(observation_space, hidden_units, activation_functions, chkpt_dir_critic).to(device)\n",
    "agent = Agent(actor_net, critic_net=critic_net).to(device)"
   ]
  },
  {
   "cell_type": "markdown",
   "id": "f4c979c9-8d16-42fa-88d3-8810dc0f5758",
   "metadata": {},
   "source": [
    "## Hyperparameters for training"
   ]
  },
  {
   "cell_type": "code",
   "execution_count": 74,
   "id": "aa0544ad-7134-41f4-bc5e-4197c5750d4d",
   "metadata": {
    "tags": [],
    "ExecuteTime": {
     "end_time": "2023-12-07T09:42:16.199210Z",
     "start_time": "2023-12-07T09:42:16.195297Z"
    }
   },
   "outputs": [],
   "source": [
    "\"\"\"\n",
    "-----------------------------------------------------------------------------------------------------\n",
    "Hyperparameters for RL agent\n",
    "-----------------------------------------------------------------------------------------------------\n",
    "\"\"\"\n",
    "from torch.utils.tensorboard import SummaryWriter\n",
    "import torch.optim as optim\n",
    "\n",
    "run_name = \"test\"\n",
    "writer = SummaryWriter(f\"runs/{run_name}\")\n",
    "# writer.add_text(\n",
    "#     \"hyperparameters\",\n",
    "#     \"|param|value|\\n|-|-|\\n%s\" % (\"\\n\".join([f\"|{key}|{value}|\" for key, value in vars(args).items()])),\n",
    "# )\n",
    "# Hyperparameters for the agent\n",
    "n_epochs = 10  # Number of epochs : default 1500\n",
    "num_updates = 700\n",
    "lr_actor = 0.001  # Learning rate for policy update step\n",
    "lr_critic = 0.001  # Learning rate for critic (value function) update step\n",
    "\n",
    "epsilon = 0.2  # Parameter for clipping value (PPO)\n",
    "critic_loss_coeff = 0.5\n",
    "optimizer = optim.Adam(agent.parameters(), lr=lr_actor, eps=1e-5)\n",
    "actor_optimizer = optim.Adam(actor_net.parameters(), lr=lr_actor, eps=1e-5)\n",
    "critic_optimizer = optim.Adam(critic_net.parameters(), lr=lr_critic, eps=1e-5)\n",
    "minibatch_size = 40\n",
    "gamma = 1.\n",
    "gae_lambda = 0.95\n",
    "\n",
    "# Clipping\n",
    "clip_vloss = True\n",
    "grad_clip = 0.5\n",
    "clip_coef = 0.5\n",
    "normalize_advantage = False\n",
    "\n",
    "# other coefficients\n",
    "ent_coef = 0."
   ]
  },
  {
   "cell_type": "markdown",
   "id": "fce12ee7-d62f-471a-8596-ef884dfa2a46",
   "metadata": {},
   "source": [
    "# Training\n",
    "## Storage setup"
   ]
  },
  {
   "cell_type": "code",
   "execution_count": 75,
   "id": "c0df2e66-a289-4e87-8df6-bf9b5a7419c6",
   "metadata": {
    "tags": [],
    "ExecuteTime": {
     "end_time": "2023-12-07T09:42:16.224100Z",
     "start_time": "2023-12-07T09:42:16.200021Z"
    }
   },
   "outputs": [],
   "source": [
    "global_step = 0\n",
    "torch_env.clear_history()\n",
    "obs = torch.zeros((tgt_instruction_counts, batchsize) + torch_env.observation_space.shape).to(device)\n",
    "actions = torch.zeros((tgt_instruction_counts, batchsize) + torch_env.action_space.shape).to(device)\n",
    "logprobs = torch.zeros((tgt_instruction_counts, batchsize)).to(device)\n",
    "rewards = torch.zeros((tgt_instruction_counts, batchsize)).to(device)\n",
    "dones = torch.zeros((tgt_instruction_counts, batchsize)).to(device)\n",
    "values = torch.zeros((tgt_instruction_counts, batchsize)).to(device)\n",
    "\n",
    "train_obs = torch.zeros((batchsize,) + torch_env.observation_space.shape, requires_grad=True).to(device)\n",
    "visualization_steps = 10"
   ]
  },
  {
   "cell_type": "markdown",
   "id": "10306c6a-de03-4ead-bc32-ffdcb1c0da20",
   "metadata": {},
   "source": [
    "## Main loop"
   ]
  },
  {
   "cell_type": "code",
   "execution_count": 76,
   "outputs": [
    {
     "name": "stderr",
     "output_type": "stream",
     "text": [
      "  3%|▎         | 20/700 [12:59<7:17:57, 38.64s/it]"
     ]
    },
    {
     "name": "stdout",
     "output_type": "stream",
     "text": [
      "Sending job...\n",
      "SparsePauliOp(['II', 'IZ', 'ZI', 'ZZ'],\n",
      "              coeffs=[ 0.5+0.j, -0.5+0.j,  0.5+0.j, -0.5+0.j])\n"
     ]
    },
    {
     "name": "stderr",
     "output_type": "stream",
     "text": [
      "  3%|▎         | 21/700 [13:17<6:03:53, 32.15s/it]"
     ]
    },
    {
     "name": "stdout",
     "output_type": "stream",
     "text": [
      "Job done\n",
      "mean tensor([ 0.0126,  0.0057, -0.0121,  0.0095])\n",
      "sigma tensor([0.5042, 0.4726, 0.4703, 0.5100])\n",
      "Average return: 0.1146846811969615\n",
      "{'reset_stage': False, 'step': 21, 'average return': 0.1146846811969615, 'max return': 0.2833028464202691, 'arg_max return': 9, 'best action': array([-0.00270945,  0.00690651,  0.00882784, -0.01156329]), 'truncation_index': 0, 'input_state': 'PauliPreparationBasis[2, 0]', 'observable': SparsePauliOp(['II', 'IZ', 'ZI', 'ZZ'],\n",
      "              coeffs=[ 0.5+0.j, -0.5+0.j,  0.5+0.j, -0.5+0.j])}\n",
      "Sending job...\n",
      "SparsePauliOp(['II', 'XX', 'YZ', 'ZY'],\n",
      "              coeffs=[ 0.5+0.j, -0.5+0.j, -0.5+0.j,  0.5+0.j])\n"
     ]
    },
    {
     "name": "stderr",
     "output_type": "stream",
     "text": [
      "  3%|▎         | 22/700 [14:14<7:29:51, 39.81s/it]"
     ]
    },
    {
     "name": "stdout",
     "output_type": "stream",
     "text": [
      "Job done\n",
      "mean tensor([ 0.0123,  0.0061, -0.0114,  0.0093])\n",
      "sigma tensor([0.5047, 0.4733, 0.4706, 0.5084])\n",
      "Average return: 0.11549300240110962\n",
      "{'reset_stage': False, 'step': 22, 'average return': 0.11549300240110962, 'max return': 0.2833028464202691, 'arg_max return': 9, 'best action': array([-0.00270945,  0.00690651,  0.00882784, -0.01156329]), 'truncation_index': 0, 'input_state': 'PauliPreparationBasis[1, 3]', 'observable': SparsePauliOp(['II', 'XX', 'YZ', 'ZY'],\n",
      "              coeffs=[ 0.5+0.j, -0.5+0.j, -0.5+0.j,  0.5+0.j])}\n",
      "Sending job...\n",
      "SparsePauliOp(['II', 'XY', 'YZ', 'ZX'],\n",
      "              coeffs=[ 0.5+0.j,  0.5+0.j, -0.5+0.j,  0.5+0.j])\n"
     ]
    },
    {
     "name": "stderr",
     "output_type": "stream",
     "text": [
      "  3%|▎         | 23/700 [15:11<8:27:59, 45.02s/it]"
     ]
    },
    {
     "name": "stdout",
     "output_type": "stream",
     "text": [
      "Job done\n",
      "mean tensor([ 0.0144,  0.0032, -0.0163,  0.0114])\n",
      "sigma tensor([0.5000, 0.4670, 0.4679, 0.5208])\n",
      "Average return: 0.1124229180726548\n",
      "{'reset_stage': False, 'step': 23, 'average return': 0.1124229180726548, 'max return': 0.2833028464202691, 'arg_max return': 9, 'best action': array([-0.00270945,  0.00690651,  0.00882784, -0.01156329]), 'truncation_index': 0, 'input_state': 'PauliPreparationBasis[3, 3]', 'observable': SparsePauliOp(['II', 'XY', 'YZ', 'ZX'],\n",
      "              coeffs=[ 0.5+0.j,  0.5+0.j, -0.5+0.j,  0.5+0.j])}\n",
      "Sending job...\n",
      "SparsePauliOp(['II', 'IZ', 'ZI', 'ZZ'],\n",
      "              coeffs=[ 0.5+0.j, -0.5+0.j,  0.5+0.j, -0.5+0.j])\n"
     ]
    },
    {
     "name": "stderr",
     "output_type": "stream",
     "text": [
      "  3%|▎         | 24/700 [15:28<6:52:15, 36.59s/it]"
     ]
    },
    {
     "name": "stdout",
     "output_type": "stream",
     "text": [
      "Job done\n",
      "mean tensor([ 0.0125,  0.0057, -0.0120,  0.0095])\n",
      "sigma tensor([0.5041, 0.4725, 0.4703, 0.5099])\n",
      "Average return: 0.10816543093699524\n",
      "{'reset_stage': False, 'step': 24, 'average return': 0.10816543093699524, 'max return': 0.2833028464202691, 'arg_max return': 9, 'best action': array([-0.00270945,  0.00690651,  0.00882784, -0.01156329]), 'truncation_index': 0, 'input_state': 'PauliPreparationBasis[2, 0]', 'observable': SparsePauliOp(['II', 'IZ', 'ZI', 'ZZ'],\n",
      "              coeffs=[ 0.5+0.j, -0.5+0.j,  0.5+0.j, -0.5+0.j])}\n",
      "Sending job...\n",
      "SparsePauliOp(['II', 'IX', 'XI', 'XX'],\n",
      "              coeffs=[0.5+0.j, 0.5+0.j, 0.5+0.j, 0.5+0.j])\n"
     ]
    },
    {
     "name": "stderr",
     "output_type": "stream",
     "text": [
      "  4%|▎         | 25/700 [15:47<5:49:54, 31.10s/it]"
     ]
    },
    {
     "name": "stdout",
     "output_type": "stream",
     "text": [
      "Job done\n",
      "mean tensor([ 0.0109,  0.0079, -0.0082,  0.0078])\n",
      "sigma tensor([0.5077, 0.4771, 0.4722, 0.5002])\n",
      "Average return: 0.1167190478554616\n",
      "{'reset_stage': False, 'step': 25, 'average return': 0.1167190478554616, 'max return': 0.2833028464202691, 'arg_max return': 9, 'best action': array([-0.00270945,  0.00690651,  0.00882784, -0.01156329]), 'truncation_index': 0, 'input_state': 'PauliPreparationBasis[0, 2]', 'observable': SparsePauliOp(['II', 'IX', 'XI', 'XX'],\n",
      "              coeffs=[0.5+0.j, 0.5+0.j, 0.5+0.j, 0.5+0.j])}\n",
      "Sending job...\n",
      "SparsePauliOp(['II', 'XX', 'YY', 'ZZ'],\n",
      "              coeffs=[ 0.5+0.j, -0.5+0.j,  0.5+0.j,  0.5+0.j])\n"
     ]
    },
    {
     "name": "stderr",
     "output_type": "stream",
     "text": [
      "  4%|▎         | 26/700 [16:44<7:16:40, 38.87s/it]"
     ]
    },
    {
     "name": "stdout",
     "output_type": "stream",
     "text": [
      "Job done\n",
      "mean tensor([ 0.0117,  0.0068, -0.0101,  0.0087])\n",
      "sigma tensor([0.5059, 0.4748, 0.4712, 0.5050])\n",
      "Average return: 0.10423733674601099\n",
      "{'reset_stage': False, 'step': 26, 'average return': 0.10423733674601099, 'max return': 0.2833028464202691, 'arg_max return': 9, 'best action': array([-0.00270945,  0.00690651,  0.00882784, -0.01156329]), 'truncation_index': 0, 'input_state': 'PauliPreparationBasis[1, 1]', 'observable': SparsePauliOp(['II', 'XX', 'YY', 'ZZ'],\n",
      "              coeffs=[ 0.5+0.j, -0.5+0.j,  0.5+0.j,  0.5+0.j])}\n",
      "Sending job...\n",
      "SparsePauliOp(['II', 'IZ', 'XI', 'XZ'],\n",
      "              coeffs=[ 0.5+0.j, -0.5+0.j,  0.5+0.j, -0.5+0.j])\n"
     ]
    },
    {
     "name": "stderr",
     "output_type": "stream",
     "text": [
      "  4%|▎         | 26/700 [16:49<7:16:03, 38.82s/it]\n"
     ]
    },
    {
     "ename": "KeyboardInterrupt",
     "evalue": "",
     "output_type": "error",
     "traceback": [
      "\u001B[0;31m---------------------------------------------------------------------------\u001B[0m",
      "\u001B[0;31mKeyboardInterrupt\u001B[0m                         Traceback (most recent call last)",
      "Cell \u001B[0;32mIn[76], line 26\u001B[0m\n\u001B[1;32m     24\u001B[0m logprobs[step] \u001B[38;5;241m=\u001B[39m logprob\n\u001B[1;32m     25\u001B[0m \u001B[38;5;66;03m# next_obs, reward, terminated, truncated, infos = torch_env.step(action.cpu().numpy())\u001B[39;00m\n\u001B[0;32m---> 26\u001B[0m next_obs, reward, terminated, truncated, infos \u001B[38;5;241m=\u001B[39m torch_env\u001B[38;5;241m.\u001B[39mstep(action\u001B[38;5;241m.\u001B[39mcpu()\u001B[38;5;241m.\u001B[39mnumpy())\n\u001B[1;32m     27\u001B[0m done \u001B[38;5;241m=\u001B[39m np\u001B[38;5;241m.\u001B[39mlogical_or(terminated, truncated)\n\u001B[1;32m     28\u001B[0m rewards[step] \u001B[38;5;241m=\u001B[39m torch\u001B[38;5;241m.\u001B[39mtensor(reward)\u001B[38;5;241m.\u001B[39mto(device)\n",
      "File \u001B[0;32m~/Library/CloudStorage/OneDrive-NationalUniversityofSingapore/Coding_projects/Quantum_Optimal_Control/torch_contextual_gate_calibration/torch_quantum_environment.py:1026\u001B[0m, in \u001B[0;36mTorchQuantumEnvironment.step\u001B[0;34m(self, action)\u001B[0m\n\u001B[1;32m   1024\u001B[0m terminated \u001B[38;5;241m=\u001B[39m \u001B[38;5;28;01mTrue\u001B[39;00m\n\u001B[1;32m   1025\u001B[0m \u001B[38;5;28mself\u001B[39m\u001B[38;5;241m.\u001B[39m_episode_ended \u001B[38;5;241m=\u001B[39m terminated\n\u001B[0;32m-> 1026\u001B[0m reward_table \u001B[38;5;241m=\u001B[39m \u001B[38;5;28mself\u001B[39m\u001B[38;5;241m.\u001B[39mcompute_reward()\n\u001B[1;32m   1027\u001B[0m \u001B[38;5;28;01mif\u001B[39;00m \u001B[38;5;28mself\u001B[39m\u001B[38;5;241m.\u001B[39m_intermediate_rewards:\n\u001B[1;32m   1028\u001B[0m     obs \u001B[38;5;241m=\u001B[39m reward_table\n",
      "File \u001B[0;32m~/Library/CloudStorage/OneDrive-NationalUniversityofSingapore/Coding_projects/Quantum_Optimal_Control/torch_contextual_gate_calibration/torch_quantum_environment.py:913\u001B[0m, in \u001B[0;36mTorchQuantumEnvironment.compute_reward\u001B[0;34m(self, fidelity_access)\u001B[0m\n\u001B[1;32m    905\u001B[0m     \u001B[38;5;28mprint\u001B[39m(observables)\n\u001B[1;32m    906\u001B[0m     job \u001B[38;5;241m=\u001B[39m \u001B[38;5;28mself\u001B[39m\u001B[38;5;241m.\u001B[39mestimator\u001B[38;5;241m.\u001B[39mrun(\n\u001B[1;32m    907\u001B[0m         circuits\u001B[38;5;241m=\u001B[39m[training_circ] \u001B[38;5;241m*\u001B[39m \u001B[38;5;28mself\u001B[39m\u001B[38;5;241m.\u001B[39mbatch_size,\n\u001B[1;32m    908\u001B[0m         observables\u001B[38;5;241m=\u001B[39m[observables] \u001B[38;5;241m*\u001B[39m \u001B[38;5;28mself\u001B[39m\u001B[38;5;241m.\u001B[39mbatch_size,\n\u001B[1;32m    909\u001B[0m         parameter_values\u001B[38;5;241m=\u001B[39mreshaped_params,\n\u001B[1;32m    910\u001B[0m         shots\u001B[38;5;241m=\u001B[39m\u001B[38;5;28mint\u001B[39m(np\u001B[38;5;241m.\u001B[39mmax(pauli_shots) \u001B[38;5;241m*\u001B[39m \u001B[38;5;28mself\u001B[39m\u001B[38;5;241m.\u001B[39mn_shots),\n\u001B[1;32m    911\u001B[0m     )\n\u001B[0;32m--> 913\u001B[0m     reward_table \u001B[38;5;241m=\u001B[39m job\u001B[38;5;241m.\u001B[39mresult()\u001B[38;5;241m.\u001B[39mvalues\n\u001B[1;32m    914\u001B[0m \u001B[38;5;28;01mexcept\u001B[39;00m \u001B[38;5;167;01mException\u001B[39;00m \u001B[38;5;28;01mas\u001B[39;00m exc:\n\u001B[1;32m    915\u001B[0m     \u001B[38;5;28mself\u001B[39m\u001B[38;5;241m.\u001B[39mclose()\n",
      "File \u001B[0;32m~/anaconda3/envs/rl_qoc/lib/python3.11/site-packages/qiskit/primitives/primitive_job.py:55\u001B[0m, in \u001B[0;36mPrimitiveJob.result\u001B[0;34m(self)\u001B[0m\n\u001B[1;32m     53\u001B[0m \u001B[38;5;250m\u001B[39m\u001B[38;5;124;03m\"\"\"Return the results of the job.\"\"\"\u001B[39;00m\n\u001B[1;32m     54\u001B[0m \u001B[38;5;28mself\u001B[39m\u001B[38;5;241m.\u001B[39m_check_submitted()\n\u001B[0;32m---> 55\u001B[0m \u001B[38;5;28;01mreturn\u001B[39;00m \u001B[38;5;28mself\u001B[39m\u001B[38;5;241m.\u001B[39m_future\u001B[38;5;241m.\u001B[39mresult()\n",
      "File \u001B[0;32m~/anaconda3/envs/rl_qoc/lib/python3.11/concurrent/futures/_base.py:451\u001B[0m, in \u001B[0;36mFuture.result\u001B[0;34m(self, timeout)\u001B[0m\n\u001B[1;32m    448\u001B[0m \u001B[38;5;28;01melif\u001B[39;00m \u001B[38;5;28mself\u001B[39m\u001B[38;5;241m.\u001B[39m_state \u001B[38;5;241m==\u001B[39m FINISHED:\n\u001B[1;32m    449\u001B[0m     \u001B[38;5;28;01mreturn\u001B[39;00m \u001B[38;5;28mself\u001B[39m\u001B[38;5;241m.\u001B[39m__get_result()\n\u001B[0;32m--> 451\u001B[0m \u001B[38;5;28mself\u001B[39m\u001B[38;5;241m.\u001B[39m_condition\u001B[38;5;241m.\u001B[39mwait(timeout)\n\u001B[1;32m    453\u001B[0m \u001B[38;5;28;01mif\u001B[39;00m \u001B[38;5;28mself\u001B[39m\u001B[38;5;241m.\u001B[39m_state \u001B[38;5;129;01min\u001B[39;00m [CANCELLED, CANCELLED_AND_NOTIFIED]:\n\u001B[1;32m    454\u001B[0m     \u001B[38;5;28;01mraise\u001B[39;00m CancelledError()\n",
      "File \u001B[0;32m~/anaconda3/envs/rl_qoc/lib/python3.11/threading.py:320\u001B[0m, in \u001B[0;36mCondition.wait\u001B[0;34m(self, timeout)\u001B[0m\n\u001B[1;32m    318\u001B[0m \u001B[38;5;28;01mtry\u001B[39;00m:    \u001B[38;5;66;03m# restore state no matter what (e.g., KeyboardInterrupt)\u001B[39;00m\n\u001B[1;32m    319\u001B[0m     \u001B[38;5;28;01mif\u001B[39;00m timeout \u001B[38;5;129;01mis\u001B[39;00m \u001B[38;5;28;01mNone\u001B[39;00m:\n\u001B[0;32m--> 320\u001B[0m         waiter\u001B[38;5;241m.\u001B[39macquire()\n\u001B[1;32m    321\u001B[0m         gotit \u001B[38;5;241m=\u001B[39m \u001B[38;5;28;01mTrue\u001B[39;00m\n\u001B[1;32m    322\u001B[0m     \u001B[38;5;28;01melse\u001B[39;00m:\n",
      "\u001B[0;31mKeyboardInterrupt\u001B[0m: "
     ]
    }
   ],
   "source": [
    "for update in tqdm.tqdm(range(1, num_updates + 1)):\n",
    "    next_obs, _ = torch_env.reset(seed=seed)\n",
    "    num_steps = torch_env.episode_length(global_step)\n",
    "    next_obs = torch.Tensor(np.array([next_obs] * batchsize)).to(device)\n",
    "    next_done = torch.zeros(batchsize).to(device)\n",
    "\n",
    "    # print(\"episode length:\", num_steps)\n",
    "\n",
    "    for step in range(num_steps):\n",
    "        global_step += 1\n",
    "        obs[step] = next_obs\n",
    "        dones[step] = next_done\n",
    "\n",
    "        with torch.no_grad():\n",
    "            mean_action, std_action, critic_value = agent(next_obs)\n",
    "            mean_action *= scale_factor\n",
    "            probs = Normal(mean_action, std_action)\n",
    "            action = torch.clip(probs.sample(), torch.Tensor(np.array(min_bound_actions)),\n",
    "                                torch.Tensor(np.array(max_bound_actions)))\n",
    "            logprob = probs.log_prob(action).sum(1)\n",
    "            values[step] = critic_value.flatten()\n",
    "\n",
    "        actions[step] = action\n",
    "        logprobs[step] = logprob\n",
    "        # next_obs, reward, terminated, truncated, infos = torch_env.step(action.cpu().numpy())\n",
    "        next_obs, reward, terminated, truncated, infos = torch_env.step(action.cpu().numpy())\n",
    "        done = np.logical_or(terminated, truncated)\n",
    "        rewards[step] = torch.tensor(reward).to(device)\n",
    "        next_obs = torch.Tensor(np.array([next_obs] * batchsize)).to(device)\n",
    "        next_done = torch.Tensor(np.array([int(done)] * batchsize)).to(device)\n",
    "        # Only print when at least 1 env is done\n",
    "\n",
    "        # print(f\"global_step={global_step}, episodic_return={np.mean(reward)}\")\n",
    "        writer.add_scalar(\"charts/episodic_return\", np.mean(reward), global_step)\n",
    "        writer.add_scalar(\"charts/episodic_length\", num_steps, global_step)\n",
    "\n",
    "    # bootstrap value if not done\n",
    "    with torch.no_grad():\n",
    "        next_value = agent.get_value(next_obs).reshape(1, -1)\n",
    "        advantages = torch.zeros_like(rewards).to(device)\n",
    "        lastgaelam = 0\n",
    "        for t in reversed(range(num_steps)):\n",
    "            if t == num_steps - 1:\n",
    "                nextnonterminal = 1.0 - next_done\n",
    "                nextvalues = next_value\n",
    "            else:\n",
    "                nextnonterminal = 1.0 - dones[t + 1]\n",
    "                nextvalues = values[t + 1]\n",
    "            delta = rewards[t] + gamma * nextvalues * nextnonterminal - values[t]\n",
    "            advantages[t] = lastgaelam = delta + gamma * gae_lambda * nextnonterminal * lastgaelam\n",
    "        returns = advantages + values\n",
    "\n",
    "    # flatten the batch\n",
    "    b_obs = obs.reshape((-1,) + torch_env.observation_space.shape)\n",
    "    b_logprobs = logprobs.reshape(-1)\n",
    "    b_actions = actions.reshape((-1,) + torch_env.action_space.shape)\n",
    "    b_advantages = advantages.reshape(-1)\n",
    "    b_returns = returns.reshape(-1)\n",
    "    b_values = values.reshape(-1)\n",
    "\n",
    "    # Optimizing the policy and value network\n",
    "    b_inds = np.arange(batchsize)\n",
    "    clipfracs = []\n",
    "    for epoch in range(n_epochs):\n",
    "        np.random.shuffle(b_inds)\n",
    "        for start in range(0, batchsize, minibatch_size):\n",
    "            end = start + minibatch_size\n",
    "            mb_inds = b_inds[start:end]\n",
    "            new_mean, new_sigma, new_value = agent(b_obs[mb_inds])\n",
    "            new_dist = Normal(new_mean, new_sigma)\n",
    "            new_logprob, entropy = new_dist.log_prob(b_actions[mb_inds]).sum(1), new_dist.entropy().sum(1)\n",
    "            logratio = new_logprob - b_logprobs[mb_inds] + torch.log(torch.Tensor([1e-6]))\n",
    "            ratio = logratio.exp()\n",
    "            with torch.no_grad():\n",
    "                # calculate approx_kl http://joschu.net/blog/kl-approx.html\n",
    "                old_approx_kl = (-logratio).mean()\n",
    "                approx_kl = ((ratio - 1) - logratio).mean()\n",
    "                clipfracs += [((ratio - 1.0).abs() > epsilon).float().mean().item()]\n",
    "\n",
    "            mb_advantages = b_advantages[mb_inds]\n",
    "            if normalize_advantage:  # Normalize advantage\n",
    "                mb_advantages = (mb_advantages - mb_advantages.mean()) / (mb_advantages.std() + 1e-8)\n",
    "\n",
    "            # Policy loss\n",
    "            pg_loss1 = -mb_advantages * ratio\n",
    "            pg_loss2 = -mb_advantages * torch.clamp(ratio, 1 - epsilon, 1 + epsilon)\n",
    "            pg_loss = torch.max(pg_loss1, pg_loss2).mean()\n",
    "\n",
    "            # Value loss\n",
    "            newvalue = new_value.view(-1)\n",
    "            if clip_vloss:\n",
    "                v_loss_unclipped = (newvalue - b_returns[mb_inds]) ** 2\n",
    "                v_clipped = b_values[mb_inds] + torch.clamp(\n",
    "                    newvalue - b_values[mb_inds],\n",
    "                    -clip_coef,\n",
    "                    clip_coef,\n",
    "                )\n",
    "                v_loss_clipped = (v_clipped - b_returns[mb_inds]) ** 2\n",
    "                v_loss_max = torch.max(v_loss_unclipped, v_loss_clipped)\n",
    "                v_loss = 0.5 * v_loss_max.mean()\n",
    "            else:\n",
    "                v_loss = 0.5 * ((newvalue - b_returns[mb_inds]) ** 2).mean()\n",
    "\n",
    "            entropy_loss = entropy.mean()\n",
    "            loss = pg_loss - ent_coef * entropy_loss + v_loss * critic_loss_coeff\n",
    "\n",
    "            optimizer.zero_grad()\n",
    "            loss.backward()\n",
    "            nn.utils.clip_grad_norm_(agent.parameters(), grad_clip)\n",
    "            optimizer.step()\n",
    "\n",
    "    y_pred, y_true = b_values.cpu().numpy(), b_returns.cpu().numpy()\n",
    "    var_y = np.var(y_true)\n",
    "    explained_var = np.nan if var_y == 0 else 1 - np.var(y_true - y_pred) / var_y\n",
    "    print(\"mean\", mean_action[0])\n",
    "    print(\"sigma\", std_action[0])\n",
    "    print(\"Average return:\", np.mean(torch_env.reward_history, axis=1)[-1])\n",
    "    # print(np.mean(torch_env.reward_history, axis =1)[-1])\n",
    "    #print(\"Circuit fidelity:\", torch_env.circuit_fidelity_history[-1])\n",
    "    #print(\"Avg gate fidelity:\", torch_env.avg_fidelity_history[-1])   \n",
    "    print(torch_env._get_info())\n",
    "    # TRY NOT TO MODIFY: record rewards for plotting purposes\n",
    "    writer.add_scalar(\"charts/learning_rate\", optimizer.param_groups[0][\"lr\"], global_step)\n",
    "    writer.add_scalar(\"losses/value_loss\", v_loss.item(), global_step)\n",
    "    writer.add_scalar(\"losses/avg_return\", np.mean(torch_env.reward_history, axis=1)[-1], global_step)\n",
    "    #for i in range(num_steps):\n",
    "    #   writer.add_scalar(f\"losses/avg_gate_{i}_fidelity\", torch_env.avg_fidelity_history[-1][i], global_step)\n",
    "    #writer.add_scalar(\"losses/circuit_fidelity\", torch_env.circuit_fidelity_history[-1], global_step)\n",
    "    writer.add_scalar(\"losses/policy_loss\", pg_loss.item(), global_step)\n",
    "    writer.add_scalar(\"losses/entropy\", entropy_loss.item(), global_step)\n",
    "    writer.add_scalar(\"losses/old_approx_kl\", old_approx_kl.item(), global_step)\n",
    "    writer.add_scalar(\"losses/approx_kl\", approx_kl.item(), global_step)\n",
    "    writer.add_scalar(\"losses/clipfrac\", np.mean(clipfracs), global_step)\n",
    "    writer.add_scalar(\"losses/explained_variance\", explained_var, global_step)\n",
    "    if global_step % visualization_steps == 0:\n",
    "        clear_output(wait=True)  # for animation\n",
    "\n",
    "torch_env.close()\n",
    "writer.close()\n"
   ],
   "metadata": {
    "collapsed": false
   },
   "id": "c98ce6ee-b798-42aa-826d-eb773d051bbb"
  },
  {
   "cell_type": "code",
   "execution_count": null,
   "id": "6cfbbb8c-a6fa-430e-b3c8-1db14cf8f8ef",
   "metadata": {
    "ExecuteTime": {
     "end_time": "2023-12-07T09:59:05.583372Z",
     "start_time": "2023-12-07T09:59:05.570378Z"
    }
   },
   "outputs": [],
   "source": [
    "torch_env.close()\n",
    "writer.close()"
   ]
  },
  {
   "cell_type": "code",
   "execution_count": null,
   "id": "eea0e566-e5f1-41b5-8c4f-b02d5b6fb3bd",
   "metadata": {
    "tags": [],
    "ExecuteTime": {
     "start_time": "2023-12-07T09:59:05.571141Z"
    }
   },
   "outputs": [],
   "source": [
    "import matplotlib.pyplot as plt\n",
    "\n",
    "plt.plot(torch_env.circuit_fidelity_history)"
   ]
  },
  {
   "cell_type": "code",
   "execution_count": null,
   "id": "7c51ed63-ec4d-4516-af1e-5920908109a5",
   "metadata": {
    "tags": [],
    "ExecuteTime": {
     "start_time": "2023-12-07T09:59:05.571793Z"
    }
   },
   "outputs": [],
   "source": [
    "plt.plot(torch_env.avg_fidelity_history)"
   ]
  },
  {
   "cell_type": "code",
   "execution_count": null,
   "id": "9b4df81d-506d-49cb-9127-3597b16745f0",
   "metadata": {
    "tags": [],
    "ExecuteTime": {
     "start_time": "2023-12-07T09:59:05.572666Z"
    }
   },
   "outputs": [],
   "source": [
    "plt.plot(np.mean(torch_env.reward_history, axis=1))"
   ]
  },
  {
   "cell_type": "markdown",
   "id": "f01c4c8e-3d12-418d-b179-ffd5ffe5ab8a",
   "metadata": {},
   "source": [
    "What is below is not relevant to this notebook"
   ]
  },
  {
   "cell_type": "code",
   "execution_count": null,
   "id": "a3d2a326-4ff6-49c4-b784-ceda85b095be",
   "metadata": {
    "tags": [],
    "ExecuteTime": {
     "start_time": "2023-12-07T09:59:05.573596Z"
    }
   },
   "outputs": [],
   "source": [
    "from qiskit.quantum_info import Operator, average_gate_fidelity\n",
    "from qiskit.circuit.library.standard_gates import CXGate\n",
    "\n",
    "my_qc = QuantumCircuit(2, name=\"custom_cx\")\n",
    "optimal_params = [0., 0., 0.5, 0.5, -0.5, 0.5, -0.5]\n",
    "params = [-0.0062, 0.2190, 0.9921, 0.9924, -0.9921, 0.9910, -0.9907]\n",
    "my_qc.u(np.pi * params[0], np.pi * params[1], np.pi * params[2], 0)\n",
    "my_qc.u(np.pi * params[3], np.pi * params[4], np.pi * params[5], 1)\n",
    "my_qc.rzx(np.pi * params[6], 0, 1)\n",
    "average_gate_fidelity(Operator(my_qc), Operator(CXGate()))"
   ]
  },
  {
   "cell_type": "code",
   "execution_count": null,
   "id": "621e1523-ca70-4080-8252-3172f14326ef",
   "metadata": {
    "tags": [],
    "ExecuteTime": {
     "start_time": "2023-12-07T09:59:05.574399Z"
    }
   },
   "outputs": [],
   "source": [
    "from qiskit import QuantumCircuit\n",
    "from qiskit.providers.fake_provider import FakePerth\n",
    "from qiskit_aer import AerSimulator\n",
    "from qiskit_experiments.library import ProcessTomography\n",
    "from qiskit_experiments.framework import BatchExperiment\n",
    "\n",
    "backend = AerSimulator.from_backend(FakePerth())\n",
    "qc = QuantumCircuit(1)\n",
    "qc.x(0)\n",
    "\n",
    "result = BatchExperiment([ProcessTomography(qc), ProcessTomography(qc)],\n",
    "                         backend=backend, flatten_results=True).run().block_for_results()\n",
    "print(result.analysis_results(\"process_fidelity\"))"
   ]
  },
  {
   "cell_type": "code",
   "execution_count": null,
   "id": "1f15f8f7-f2cb-4cbf-b651-903d1c8b88c5",
   "metadata": {
    "tags": [],
    "ExecuteTime": {
     "start_time": "2023-12-07T09:59:05.575091Z"
    }
   },
   "outputs": [],
   "source": [
    "result.analysis_results(\"process_fidelity\")[0].value"
   ]
  },
  {
   "cell_type": "code",
   "execution_count": null,
   "id": "1fcc3268-e2f5-4ba3-aa64-74d45a60ce41",
   "metadata": {
    "tags": [],
    "ExecuteTime": {
     "start_time": "2023-12-07T09:59:05.576131Z"
    }
   },
   "outputs": [],
   "source": [
    "result.analysis_results(\"process_fidelity\")[1].value"
   ]
  },
  {
   "cell_type": "code",
   "execution_count": null,
   "id": "60a61533-15e9-404b-98f7-13b4a5db609c",
   "metadata": {
    "ExecuteTime": {
     "start_time": "2023-12-07T09:59:05.576701Z"
    }
   },
   "outputs": [],
   "source": []
  }
 ],
 "metadata": {
  "kernelspec": {
   "display_name": "Python 3 (ipykernel)",
   "language": "python",
   "name": "python3"
  },
  "language_info": {
   "codemirror_mode": {
    "name": "ipython",
    "version": 3
   },
   "file_extension": ".py",
   "mimetype": "text/x-python",
   "name": "python",
   "nbconvert_exporter": "python",
   "pygments_lexer": "ipython3",
   "version": "3.9.16"
  },
  "toc-autonumbering": true
 },
 "nbformat": 4,
 "nbformat_minor": 5
}
