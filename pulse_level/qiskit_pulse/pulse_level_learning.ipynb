{
 "cells": [
  {
   "attachments": {},
   "cell_type": "markdown",
   "metadata": {
    "collapsed": false,
    "jupyter": {
     "outputs_hidden": false
    }
   },
   "source": [
    "# Pulse Level Learning\n",
    "\n",
    "In this notebook, we will train a reinforcement learning agent to learn pulse level control of a quantum system. The configuration is drawn from two dedicated yaml files respectively describing the quantum environment and the agent. The quantum environment is a `QuantumEnvironment` object, which is a subclass of `gym.Env ` and is designed to be compatible with standard RL libraries. The agent on the other hand, is specifically hard coded for our need because of the need to be able to send to the same resource (the Estimator primitive) a batch of quantum circuits (in contrast with usual RL frameworks where actions can be evaluated in parallel).\n",
    "\n",
    "For this notebook, we take all necessary inputs from the `pulse_config.py` file. This python file contains all elements necessary to create a pulse-level quantum environment. The file contains the following elements:\n",
    "- a parametrized gate function, coded through Qiskit; leveraging behind the scenes a custom parametrized pulse schedule, to be inserted in the quantum circuit. The function needs to modify an input parametrized quantum circuit, by adding the parametrized gate.\n",
    "- a Qiskit backend object, which is the quantum hardware or simulator on which the quantum circuits will be run. The backend is retrieved through another template function called get_backend.\n",
    "- A circuit context, which is a `QuantumCircuit` object that contains the quantum circuit in which the target gate operation should be optimized. The context is used to create the `ContextAwareQuantumEnvironment` object, which is a subclass of `BaseQuantumEnvironment` that takes into account the context of the quantum circuit in which the gate is to be optimized.\n",
    "\n",
    "We provide a dedicated template for IBM devices working through ECR, X, and SX basis gates. The user can adapt this to the platform and basis gates of his choice."
   ]
  },
  {
   "cell_type": "code",
   "metadata": {
    "ExecuteTime": {
     "end_time": "2024-09-06T01:53:52.316513Z",
     "start_time": "2024-09-06T01:53:40.717280Z"
    }
   },
   "source": [
    "from pulse_level.qiskit_pulse.custom_jax_notebooks.pulse_config import custom_schedule\n",
    "\n",
    "%matplotlib inline\n",
    "from pulse_config import (\n",
    "    q_env_config as pulse_q_env_config,\n",
    "    circuit_context,\n",
    ")\n",
    "from rl_qoc import ContextAwareQuantumEnvironment, QuantumEnvironment, CustomPPO\n",
    "from gymnasium.wrappers import RescaleAction, ClipAction\n",
    "from qiskit.circuit import QuantumCircuit\n",
    "from rl_qoc.helper_functions import simulate_pulse_schedule, load_from_yaml_file\n",
    "from qiskit.quantum_info import Operator, Statevector\n",
    "from qiskit import pulse\n",
    "import numpy as np"
   ],
   "outputs": [
    {
     "name": "stdout",
     "output_type": "stream",
     "text": [
      "Custom backend used\n",
      "Starting Rabi experiment for qubit 0...\n",
      "Rabi experiment for qubit 0 done.\n",
      "Starting Drag experiment for qubit 0...\n",
      "Drag experiments done for qubit 0 done.\n",
      "All single qubit calibrations are done\n",
      "Updated Instruction Schedule Map <InstructionScheduleMap(1Q instructions:\n",
      "  q0: {'z', 'delay', 'sx', 'sdg', 'x', 'reset', 't', 's', 'rz', 'tdg', 'id', 'h', 'measure'}\n",
      "Multi qubit instructions:\n",
      ")>\n",
      "Circuit context: \n",
      "     ┌───┐ ░      ┌───┐     \n",
      "q_0: ┤ H ├─░───■──┤ H ├──■──\n",
      "     └───┘ ░ ┌─┴─┐└───┘┌─┴─┐\n",
      "q_1: ──────░─┤ X ├─────┤ X ├\n",
      "           ░ └───┘     └───┘\n"
     ]
    }
   ],
   "execution_count": 1
  },
  {
   "cell_type": "code",
   "metadata": {
    "ExecuteTime": {
     "end_time": "2024-09-06T01:55:55.816180Z",
     "start_time": "2024-09-06T01:55:55.788484Z"
    }
   },
   "source": [
    "use_context = False\n",
    "\n",
    "if use_context:\n",
    "    q_env = ContextAwareQuantumEnvironment(\n",
    "        pulse_q_env_config, circuit_context, training_steps_per_gate=250\n",
    "    )\n",
    "else:\n",
    "    q_env = QuantumEnvironment(pulse_q_env_config)\n",
    "rescaled_env = RescaleAction(ClipAction(q_env), -1.0, 1.0)"
   ],
   "outputs": [],
   "execution_count": 2
  },
  {
   "cell_type": "code",
   "metadata": {
    "ExecuteTime": {
     "end_time": "2024-09-06T01:55:56.351636Z",
     "start_time": "2024-09-06T01:55:56.349687Z"
    }
   },
   "source": [
    "from qiskit.visualization import plot_gate_map, plot_circuit_layout\n",
    "from qiskit.transpiler import Target\n",
    "\n",
    "print(q_env.backend.operation_names)\n",
    "try:\n",
    "    plot_circuit_layout(circuit_context, backend=q_env.backend)\n",
    "except:\n",
    "    print(\"No layout available\")"
   ],
   "outputs": [
    {
     "name": "stdout",
     "output_type": "stream",
     "text": [
      "['measure', 'z', 's', 'sdg', 't', 'tdg', 'rz', 'id', 'h', 'x', 'sx', 'reset', 'delay', 'x_cal']\n",
      "No layout available\n"
     ]
    }
   ],
   "execution_count": 3
  },
  {
   "metadata": {
    "ExecuteTime": {
     "end_time": "2024-09-06T01:55:56.962353Z",
     "start_time": "2024-09-06T01:55:56.957477Z"
    }
   },
   "cell_type": "code",
   "source": [
    "from qiskit.primitives import BackendEstimatorV2\n",
    "\n",
    "q_env.estimator = BackendEstimatorV2(backend=q_env.backend)"
   ],
   "outputs": [],
   "execution_count": 4
  },
  {
   "metadata": {
    "ExecuteTime": {
     "end_time": "2024-09-06T01:55:57.564521Z",
     "start_time": "2024-09-06T01:55:57.560113Z"
    }
   },
   "cell_type": "code",
   "source": [
    "from pathlib import Path\n",
    "\n",
    "# Change the file_name to the name of the agent configuration file and specify the file location\n",
    "file_name = \"agent_config.yaml\"\n",
    "file_location = Path.cwd() / file_name\n",
    "\n",
    "agent_config = load_from_yaml_file(file_location)"
   ],
   "outputs": [],
   "execution_count": 5
  },
  {
   "metadata": {
    "ExecuteTime": {
     "end_time": "2024-09-06T01:55:59.459215Z",
     "start_time": "2024-09-06T01:55:59.224966Z"
    }
   },
   "cell_type": "code",
   "source": "ppo_agent = CustomPPO(agent_config, rescaled_env)",
   "outputs": [],
   "execution_count": 6
  },
  {
   "metadata": {
    "ExecuteTime": {
     "end_time": "2024-09-06T01:55:59.682462Z",
     "start_time": "2024-09-06T01:55:59.587667Z"
    }
   },
   "cell_type": "code",
   "source": "circuit_context.draw(\"mpl\")",
   "outputs": [
    {
     "data": {
      "text/plain": [
       "<Figure size 538.128x200.667 with 1 Axes>"
      ],
      "image/png": "[encoded data removed]"
     },
     "execution_count": 7,
     "metadata": {},
     "output_type": "execute_result"
    }
   ],
   "execution_count": 7
  },
  {
   "metadata": {
    "ExecuteTime": {
     "end_time": "2024-09-06T01:56:00.204177Z",
     "start_time": "2024-09-06T01:56:00.200783Z"
    }
   },
   "cell_type": "code",
   "source": "q_env.baseline_circuits[0]",
   "outputs": [
    {
     "data": {
      "text/plain": [
       "<qiskit.circuit.quantumcircuit.QuantumCircuit at 0x36a7b22d0>"
      ]
     },
     "execution_count": 8,
     "metadata": {},
     "output_type": "execute_result"
    }
   ],
   "execution_count": 8
  },
  {
   "metadata": {
    "ExecuteTime": {
     "end_time": "2024-09-06T01:56:01.127767Z",
     "start_time": "2024-09-06T01:56:01.091800Z"
    }
   },
   "cell_type": "code",
   "source": [
    "circuit = q_env.circuits[0]\n",
    "circuit.draw(\"mpl\")"
   ],
   "outputs": [
    {
     "data": {
      "text/plain": [
       "<Figure size 291.506x117.056 with 1 Axes>"
      ],
      "image/png": "[encoded data removed]"
     },
     "execution_count": 9,
     "metadata": {},
     "output_type": "execute_result"
    }
   ],
   "execution_count": 9
  },
  {
   "metadata": {
    "ExecuteTime": {
     "end_time": "2024-09-06T01:56:01.744074Z",
     "start_time": "2024-09-06T01:56:01.637327Z"
    }
   },
   "cell_type": "code",
   "source": [
    "from qiskit import transpile, schedule\n",
    "\n",
    "circ = transpile(circuit, q_env.backend)\n",
    "circ.draw(\"mpl\")"
   ],
   "outputs": [
    {
     "data": {
      "text/plain": [
       "<Figure size 269.064x117.056 with 1 Axes>"
      ],
      "image/png": "[encoded data removed]"
     },
     "execution_count": 10,
     "metadata": {},
     "output_type": "execute_result"
    }
   ],
   "execution_count": 10
  },
  {
   "metadata": {
    "ExecuteTime": {
     "end_time": "2024-09-06T01:56:02.570860Z",
     "start_time": "2024-09-06T01:56:02.567182Z"
    }
   },
   "cell_type": "code",
   "source": "q_env.backend.target.get_calibration(\"x\", (0,))",
   "outputs": [
    {
     "data": {
      "text/plain": [
       "ScheduleBlock(Play(Drag(duration=160, sigma=40, beta=5.8050975706, amp=0.1188001, angle=0), DriveChannel(0)), name=\"x\", transform=AlignLeft())"
      ]
     },
     "execution_count": 11,
     "metadata": {},
     "output_type": "execute_result"
    }
   ],
   "execution_count": 11
  },
  {
   "metadata": {
    "ExecuteTime": {
     "end_time": "2024-09-06T01:56:03.367668Z",
     "start_time": "2024-09-06T01:56:03.082979Z"
    }
   },
   "cell_type": "code",
   "source": [
    "qc = QuantumCircuit(1)\n",
    "qc.sx(0)\n",
    "qc.measure_all()\n",
    "q_env.backend.run(qc).result().get_counts()"
   ],
   "outputs": [
    {
     "data": {
      "text/plain": [
       "{'0': 475, '1': 549}"
      ]
     },
     "execution_count": 12,
     "metadata": {},
     "output_type": "execute_result"
    }
   ],
   "execution_count": 12
  },
  {
   "metadata": {
    "ExecuteTime": {
     "end_time": "2024-09-06T01:56:04.431151Z",
     "start_time": "2024-09-06T01:56:04.427571Z"
    }
   },
   "cell_type": "code",
   "source": "print(q_env.backend.target)",
   "outputs": [
    {
     "name": "stdout",
     "output_type": "stream",
     "text": [
      "Target\n",
      "Number of qubits: 1\n",
      "Instructions:\n",
      "\tmeasure\n",
      "\t\t(0,):\n",
      "\t\t\tDuration: 2.2222000000000001e-07 sec.\n",
      "\t\t\tError Rate: 0.0\n",
      "\t\t\tWith pulse schedule calibration\n",
      "\tz\n",
      "\t\t(0,):\n",
      "\t\t\tDuration: 0.0 sec.\n",
      "\t\t\tError Rate: 0.0\n",
      "\t\t\tWith pulse schedule calibration\n",
      "\ts\n",
      "\t\t(0,):\n",
      "\t\t\tDuration: 0.0 sec.\n",
      "\t\t\tError Rate: 0.0\n",
      "\t\t\tWith pulse schedule calibration\n",
      "\tsdg\n",
      "\t\t(0,):\n",
      "\t\t\tDuration: 0.0 sec.\n",
      "\t\t\tError Rate: 0.0\n",
      "\t\t\tWith pulse schedule calibration\n",
      "\tt\n",
      "\t\t(0,):\n",
      "\t\t\tDuration: 0.0 sec.\n",
      "\t\t\tError Rate: 0.0\n",
      "\t\t\tWith pulse schedule calibration\n",
      "\ttdg\n",
      "\t\t(0,):\n",
      "\t\t\tDuration: 0.0 sec.\n",
      "\t\t\tError Rate: 0.0\n",
      "\t\t\tWith pulse schedule calibration\n",
      "\trz\n",
      "\t\t(0,):\n",
      "\t\t\tDuration: 0 sec.\n",
      "\t\t\tError Rate: 0.0\n",
      "\t\t\tWith pulse schedule calibration\n",
      "\tid\n",
      "\t\t(0,):\n",
      "\t\t\tDuration: 4.4444e-09 sec.\n",
      "\t\t\tError Rate: 0.0\n",
      "\t\t\tWith pulse schedule calibration\n",
      "\th\n",
      "\t\t(0,):\n",
      "\t\t\tDuration: 3.55552e-08 sec.\n",
      "\t\t\tError Rate: 0.0\n",
      "\t\t\tWith pulse schedule calibration\n",
      "\tx\n",
      "\t\t(0,):\n",
      "\t\t\tDuration: 3.55552e-08 sec.\n",
      "\t\t\tError Rate: 0.0\n",
      "\t\t\tWith pulse schedule calibration\n",
      "\tsx\n",
      "\t\t(0,):\n",
      "\t\t\tDuration: 3.55552e-08 sec.\n",
      "\t\t\tError Rate: 0.0\n",
      "\t\t\tWith pulse schedule calibration\n",
      "\treset\n",
      "\t\t(0,):\n",
      "\t\t\tDuration: 2.2222000000000001e-07 sec.\n",
      "\t\t\tError Rate: 0.0\n",
      "\t\t\tWith pulse schedule calibration\n",
      "\tdelay\n",
      "\t\t(0,):\n",
      "\t\t\tError Rate: 0.0\n",
      "\t\t\tWith pulse schedule calibration\n",
      "\tx_cal\n",
      "\t\t(0,):\n",
      "\t\t\tDuration: 3.55552e-08 sec.\n",
      "\t\t\tWith pulse schedule calibration\n",
      "\n"
     ]
    }
   ],
   "execution_count": 13
  },
  {
   "metadata": {
    "ExecuteTime": {
     "end_time": "2024-09-06T01:56:07.492783Z",
     "start_time": "2024-09-06T01:56:07.490651Z"
    }
   },
   "cell_type": "code",
   "source": [
    "from rl_qoc.ppo_config import TotalUpdates, TrainFunctionSettings, TrainingConfig\n",
    "\n",
    "total_updates = TotalUpdates(500)\n",
    "# hardware_runtime = HardwareRuntime(300)\n",
    "training_config = TrainingConfig(\n",
    "    training_constraint=total_updates,\n",
    "    target_fidelities=[0.999, 0.9999],\n",
    "    lookback_window=10,\n",
    "    anneal_learning_rate=False,\n",
    "    std_actions_eps=1e-2,\n",
    ")\n",
    "\n",
    "train_function_settings = TrainFunctionSettings(\n",
    "    plot_real_time=True,\n",
    "    print_debug=True,\n",
    "    num_prints=1,\n",
    "    hpo_mode=False,\n",
    "    clear_history=True,\n",
    ")"
   ],
   "outputs": [],
   "execution_count": 14
  },
  {
   "metadata": {
    "ExecuteTime": {
     "end_time": "2024-09-06T01:56:08.202322Z",
     "start_time": "2024-09-06T01:56:08.200050Z"
    }
   },
   "cell_type": "code",
   "source": "ppo_agent.lr = 1e-5",
   "outputs": [],
   "execution_count": 15
  },
  {
   "metadata": {
    "jupyter": {
     "is_executing": true
    }
   },
   "cell_type": "code",
   "source": [
    "ppo_agent.train(\n",
    "    training_config=training_config, train_function_settings=train_function_settings\n",
    ")"
   ],
   "execution_count": null,
   "outputs": []
  },
  {
   "metadata": {
    "ExecuteTime": {
     "end_time": "2024-09-06T00:38:31.820642Z",
     "start_time": "2024-09-06T00:38:31.775251Z"
    }
   },
   "cell_type": "code",
   "source": [
    "import matplotlib.pyplot as plt\n",
    "\n",
    "plt.plot(ppo_agent.training_results[\"std_action\"])"
   ],
   "outputs": [
    {
     "data": {
      "text/plain": [
       "[<matplotlib.lines.Line2D at 0x3c33c1b90>]"
      ]
     },
     "execution_count": 18,
     "metadata": {},
     "output_type": "execute_result"
    },
    {
     "data": {
      "text/plain": [
       "<Figure size 640x480 with 1 Axes>"
      ],
      "image/png": "[encoded data removed]"
     },
     "metadata": {},
     "output_type": "display_data"
    }
   ],
   "execution_count": 18
  },
  {
   "metadata": {
    "ExecuteTime": {
     "end_time": "2024-09-06T00:38:32.409724Z",
     "start_time": "2024-09-06T00:38:32.342075Z"
    }
   },
   "cell_type": "code",
   "source": [
    "from rl_qoc import GateTarget\n",
    "\n",
    "reward_history = np.array(q_env.reward_history)\n",
    "mean_rewards = np.mean(reward_history, axis=-1)\n",
    "max_mean = int(np.max(mean_rewards) * 1e4) / 1e4\n",
    "n_epochs = len(mean_rewards)\n",
    "if q_env.benchmark_cycle != 0:\n",
    "    fidelity_range = np.arange(0, n_epochs, q_env.benchmark_cycle)\n",
    "    plt.plot(\n",
    "        # fidelity_range,\n",
    "        np.array(q_env.fidelity_history),\n",
    "        label=\"Average Fidelity (mean over batch)\",\n",
    "    )\n",
    "plt.plot(mean_rewards / 2, label=f\"Mean Batch Rewards, max: {max_mean}\")\n",
    "\n",
    "plt.xlabel(\"Updates\")\n",
    "plt.ylabel(\"Reward\")\n",
    "plt.title(\n",
    "    f\"{q_env.target.gate.name if isinstance(q_env.target, GateTarget) else ''} Learning Curve\"\n",
    ")\n",
    "plt.legend()\n",
    "plt.show()"
   ],
   "outputs": [
    {
     "data": {
      "text/plain": [
       "<Figure size 640x480 with 1 Axes>"
      ],
      "image/png": "[encoded data removed]"
     },
     "metadata": {},
     "output_type": "display_data"
    }
   ],
   "execution_count": 19
  },
  {
   "metadata": {
    "ExecuteTime": {
     "end_time": "2024-09-06T00:38:34.689268Z",
     "start_time": "2024-09-06T00:38:34.687141Z"
    }
   },
   "cell_type": "code",
   "source": [
    "print(\"Optimal action\", q_env.optimal_action)\n",
    "print(\"Best fidelity:\", np.max(q_env.fidelity_history))"
   ],
   "outputs": [
    {
     "name": "stdout",
     "output_type": "stream",
     "text": [
      "Optimal action [-0.11300832]\n",
      "Best fidelity: 0.9605344783471842\n"
     ]
    }
   ],
   "execution_count": 20
  },
  {
   "metadata": {
    "ExecuteTime": {
     "end_time": "2024-09-06T00:38:43.144738Z",
     "start_time": "2024-09-06T00:38:42.851364Z"
    }
   },
   "cell_type": "code",
   "source": [
    "cal = q_env.backend.target.get_calibration(\"x\", (0,))\n",
    "from qiskit.circuit.library import CXGate, HGate, RZGate, ECRGate\n",
    "from qiskit.quantum_info import average_gate_fidelity, Operator, Statevector\n",
    "from pulse_config import custom_schedule\n",
    "\n",
    "cal = custom_schedule(\n",
    "    q_env.backend, q_env.physical_target_qubits, q_env.parameters\n",
    ").assign_parameters({q_env.parameters: q_env.optimal_action.tolist()})\n",
    "data = simulate_pulse_schedule(q_env.backend, cal, target_state=q_env.target.dm)\n",
    "\n",
    "print(data)"
   ],
   "outputs": [
    {
     "name": "stdout",
     "output_type": "stream",
     "text": [
      "{'unitary': Operator([[ 0.08489223+0.16857807j,  0.03577338+0.97492191j,\n",
      "            0.00870156+0.0269607j ],\n",
      "          [ 0.04329545+0.9742706j ,  0.06594045-0.17504798j,\n",
      "           -0.00421545+0.00305463j],\n",
      "          [-0.0085099 +0.00421769j, -0.02532714-0.00984411j,\n",
      "            0.99017709+0.08137295j]],\n",
      "         input_dims=(3,), output_dims=(3,)), 'statevector': Statevector([ 0.08489223+0.16857807j,  0.04329545+0.9742706j ,\n",
      "             -0.0085099 +0.00421769j],\n",
      "            dims=(3,)), 'projected_unitary': SuperOp([[ 0.03562526-4.85032748e-19j,  0.16738734+7.67326840e-02j,\n",
      "           0.16738734-7.67326840e-02j,  0.95175247+2.88532595e-18j],\n",
      "         [ 0.16791611+7.54093369e-02j, -0.02391142-2.59763270e-02j,\n",
      "           0.95138658-7.35673127e-03j, -0.1682992 -7.05488483e-02j],\n",
      "         [ 0.16791611-7.54093369e-02j,  0.95138658+7.35673127e-03j,\n",
      "          -0.02391142+2.59763270e-02j, -0.1682992 +7.05488483e-02j],\n",
      "         [ 0.95107771+1.62716680e-18j, -0.16768918-7.18226241e-02j,\n",
      "          -0.16768918+7.18226241e-02j,  0.03498994-1.55461116e-19j]],\n",
      "        input_dims=(2,), output_dims=(2,)), 'projected_statevector': Statevector([0.08546233+0.16971017j, 0.0435862 +0.98081338j],\n",
      "            dims=(2,)), 'state_fidelity': {'raw': 0.9638946486096779, 'optimal': None, 'rotated_state': None}}\n"
     ]
    }
   ],
   "execution_count": 21
  },
  {
   "metadata": {
    "ExecuteTime": {
     "end_time": "2024-09-06T00:15:00.568705Z",
     "start_time": "2024-09-06T00:15:00.564130Z"
    }
   },
   "cell_type": "code",
   "source": "data[\"statevector\"]",
   "outputs": [
    {
     "name": "stdout",
     "output_type": "stream",
     "text": [
      "Statevector([-0.0615374 -0.11379324j, -0.3986783 -0.8973232j ,\n",
      "             -0.00391718+0.01550582j],\n",
      "            dims=(3,))\n"
     ]
    }
   ],
   "execution_count": 34
  },
  {
   "metadata": {
    "ExecuteTime": {
     "end_time": "2024-09-05T10:55:21.002899Z",
     "start_time": "2024-09-05T10:55:20.780392Z"
    }
   },
   "cell_type": "code",
   "source": [
    "# Update the gate calibration in the backend target and retrieve the calibration\n",
    "optimal_calibration = q_env.update_gate_calibration()\n",
    "q_env.backend.target.get_calibration(\"x\", (0,)).draw()"
   ],
   "outputs": [
    {
     "ename": "ValueError",
     "evalue": "Target type should be a gate for gate calibration task.",
     "output_type": "error",
     "traceback": [
      "\u001B[0;31m---------------------------------------------------------------------------\u001B[0m",
      "\u001B[0;31mValueError\u001B[0m                                Traceback (most recent call last)",
      "Cell \u001B[0;32mIn[20], line 2\u001B[0m\n\u001B[1;32m      1\u001B[0m \u001B[38;5;66;03m# Update the gate calibration in the backend target and retrieve the calibration\u001B[39;00m\n\u001B[0;32m----> 2\u001B[0m optimal_calibration \u001B[38;5;241m=\u001B[39m q_env\u001B[38;5;241m.\u001B[39mupdate_gate_calibration()\n\u001B[1;32m      3\u001B[0m q_env\u001B[38;5;241m.\u001B[39mbackend\u001B[38;5;241m.\u001B[39mtarget\u001B[38;5;241m.\u001B[39mget_calibration(\u001B[38;5;124m\"\u001B[39m\u001B[38;5;124mx\u001B[39m\u001B[38;5;124m\"\u001B[39m, (\u001B[38;5;241m0\u001B[39m,))\u001B[38;5;241m.\u001B[39mdraw()\n",
      "File \u001B[0;32m~/Library/CloudStorage/OneDrive-NationalUniversityofSingapore/Coding_projects/Quantum_Optimal_Control/rl_qoc/base_q_env.py:1793\u001B[0m, in \u001B[0;36mBaseQuantumEnvironment.update_gate_calibration\u001B[0;34m(self)\u001B[0m\n\u001B[1;32m   1787\u001B[0m \u001B[38;5;250m\u001B[39m\u001B[38;5;124;03m\"\"\"\u001B[39;00m\n\u001B[1;32m   1788\u001B[0m \u001B[38;5;124;03mUpdate backend target with the optimal action found during training\u001B[39;00m\n\u001B[1;32m   1789\u001B[0m \n\u001B[1;32m   1790\u001B[0m \u001B[38;5;124;03m:return: Pulse calibration for the target gate\u001B[39;00m\n\u001B[1;32m   1791\u001B[0m \u001B[38;5;124;03m\"\"\"\u001B[39;00m\n\u001B[1;32m   1792\u001B[0m \u001B[38;5;28;01mif\u001B[39;00m \u001B[38;5;129;01mnot\u001B[39;00m \u001B[38;5;28misinstance\u001B[39m(\u001B[38;5;28mself\u001B[39m\u001B[38;5;241m.\u001B[39mtarget, GateTarget):\n\u001B[0;32m-> 1793\u001B[0m     \u001B[38;5;28;01mraise\u001B[39;00m \u001B[38;5;167;01mValueError\u001B[39;00m(\u001B[38;5;124m\"\u001B[39m\u001B[38;5;124mTarget type should be a gate for gate calibration task.\u001B[39m\u001B[38;5;124m\"\u001B[39m)\n\u001B[1;32m   1795\u001B[0m \u001B[38;5;28;01mif\u001B[39;00m \u001B[38;5;28mself\u001B[39m\u001B[38;5;241m.\u001B[39mabstraction_level \u001B[38;5;241m==\u001B[39m \u001B[38;5;124m\"\u001B[39m\u001B[38;5;124mpulse\u001B[39m\u001B[38;5;124m\"\u001B[39m:\n\u001B[1;32m   1796\u001B[0m     schedule_ \u001B[38;5;241m=\u001B[39m schedule(\u001B[38;5;28mself\u001B[39m\u001B[38;5;241m.\u001B[39mcircuits[\u001B[38;5;241m0\u001B[39m], \u001B[38;5;28mself\u001B[39m\u001B[38;5;241m.\u001B[39mbackend)\u001B[38;5;241m.\u001B[39massign_parameters(\n\u001B[1;32m   1797\u001B[0m         {\n\u001B[1;32m   1798\u001B[0m             param: action\n\u001B[0;32m   (...)\u001B[0m\n\u001B[1;32m   1801\u001B[0m         inplace\u001B[38;5;241m=\u001B[39m\u001B[38;5;28;01mFalse\u001B[39;00m,\n\u001B[1;32m   1802\u001B[0m     )\n",
      "\u001B[0;31mValueError\u001B[0m: Target type should be a gate for gate calibration task."
     ]
    }
   ],
   "execution_count": 20
  },
  {
   "metadata": {
    "ExecuteTime": {
     "end_time": "2024-09-05T11:38:01.651313Z",
     "start_time": "2024-09-05T11:38:01.601545Z"
    }
   },
   "cell_type": "code",
   "source": [
    "from qiskit.circuit.library import CXGate, HGate, RZGate, ECRGate\n",
    "from qiskit.quantum_info import average_gate_fidelity, Operator, Statevector\n",
    "\n",
    "data = simulate_pulse_schedule(\n",
    "    q_env.backend,\n",
    "    optimal_calibration,\n",
    "    target_unitary=Operator(q_env.target[\"gate\"]),\n",
    ")\n",
    "\n",
    "print(data)"
   ],
   "outputs": [
    {
     "ename": "NameError",
     "evalue": "name 'optimal_calibration' is not defined",
     "output_type": "error",
     "traceback": [
      "\u001B[0;31m---------------------------------------------------------------------------\u001B[0m",
      "\u001B[0;31mNameError\u001B[0m                                 Traceback (most recent call last)",
      "Cell \u001B[0;32mIn[23], line 6\u001B[0m\n\u001B[1;32m      1\u001B[0m \u001B[38;5;28;01mfrom\u001B[39;00m \u001B[38;5;21;01mqiskit\u001B[39;00m\u001B[38;5;21;01m.\u001B[39;00m\u001B[38;5;21;01mcircuit\u001B[39;00m\u001B[38;5;21;01m.\u001B[39;00m\u001B[38;5;21;01mlibrary\u001B[39;00m \u001B[38;5;28;01mimport\u001B[39;00m CXGate, HGate, RZGate, ECRGate\n\u001B[1;32m      2\u001B[0m \u001B[38;5;28;01mfrom\u001B[39;00m \u001B[38;5;21;01mqiskit\u001B[39;00m\u001B[38;5;21;01m.\u001B[39;00m\u001B[38;5;21;01mquantum_info\u001B[39;00m \u001B[38;5;28;01mimport\u001B[39;00m average_gate_fidelity, Operator, Statevector\n\u001B[1;32m      4\u001B[0m data \u001B[38;5;241m=\u001B[39m simulate_pulse_schedule(\n\u001B[1;32m      5\u001B[0m     q_env\u001B[38;5;241m.\u001B[39mbackend,\n\u001B[0;32m----> 6\u001B[0m     optimal_calibration,\n\u001B[1;32m      7\u001B[0m     target_unitary\u001B[38;5;241m=\u001B[39mOperator(q_env\u001B[38;5;241m.\u001B[39mtarget[\u001B[38;5;124m\"\u001B[39m\u001B[38;5;124mgate\u001B[39m\u001B[38;5;124m\"\u001B[39m]),\n\u001B[1;32m      8\u001B[0m )\n\u001B[1;32m     10\u001B[0m \u001B[38;5;28mprint\u001B[39m(data)\n",
      "\u001B[0;31mNameError\u001B[0m: name 'optimal_calibration' is not defined"
     ]
    }
   ],
   "execution_count": 23
  },
  {
   "metadata": {},
   "cell_type": "code",
   "source": "q_env.estimator",
   "outputs": [],
   "execution_count": null
  },
  {
   "metadata": {},
   "cell_type": "code",
   "source": [
    "# Testing gate in a quantum circuit\n",
    "from qiskit.providers.basic_provider import BasicSimulator\n",
    "from qiskit import transpile\n",
    "\n",
    "qc = QuantumCircuit(2)\n",
    "qc.h(0)\n",
    "qc.cx(0, 1)\n",
    "qc.measure_all()\n",
    "qc.draw(\"mpl\")\n",
    "\n",
    "basic_simulator = BasicSimulator()\n",
    "basic_result = basic_simulator.run(qc).result()\n",
    "\n",
    "pulse_circ = transpile(qc, q_env.backend)\n",
    "q_env.backend.options.shots = 1000\n",
    "pulse_results = q_env.backend.run(pulse_circ).result()\n",
    "\n",
    "print(\"BasicProvider: \", basic_result.get_counts())\n",
    "print(\"Custom Backend:\", pulse_results.get_counts())"
   ],
   "outputs": [],
   "execution_count": null
  },
  {
   "metadata": {},
   "cell_type": "code",
   "source": "pulse_circ.draw(\"mpl\")",
   "outputs": [],
   "execution_count": null
  },
  {
   "metadata": {},
   "cell_type": "code",
   "source": [
    "# Testing the pulse schedule\n",
    "from qiskit import schedule\n",
    "\n",
    "pulse_schedule = schedule(\n",
    "    pulse_circ.remove_final_measurements(inplace=False), q_env.backend\n",
    ")\n",
    "pulse_schedule.draw()"
   ],
   "outputs": [],
   "execution_count": null
  },
  {
   "metadata": {},
   "cell_type": "code",
   "source": [
    "# Testing the pulse schedule\n",
    "pulse_sim_results = simulate_pulse_schedule(\n",
    "    q_env.backend,\n",
    "    pulse_schedule,\n",
    "    target_unitary=Operator(pulse_circ.remove_final_measurements(inplace=False)),\n",
    "    target_state=(Statevector.from_label(\"00\") + Statevector.from_label(\"11\"))\n",
    "                 / np.sqrt(2),\n",
    ")\n",
    "print(pulse_sim_results)"
   ],
   "outputs": [],
   "execution_count": null
  },
  {
   "cell_type": "code",
   "metadata": {
    "collapsed": false,
    "jupyter": {
     "outputs_hidden": false
    }
   },
   "source": [
    "new_circ = transpile(\n",
    "    pulse_circ.remove_final_measurements(inplace=False),\n",
    "    q_env.backend,\n",
    "    scheduling_method=\"asap\",\n",
    ")\n",
    "new_circ.draw(\"mpl\")"
   ],
   "outputs": [],
   "execution_count": null
  },
  {
   "cell_type": "code",
   "metadata": {
    "collapsed": false,
    "jupyter": {
     "outputs_hidden": false
    }
   },
   "source": [
    "new_circ.op_start_times"
   ],
   "outputs": [],
   "execution_count": null
  },
  {
   "cell_type": "code",
   "metadata": {
    "collapsed": false,
    "jupyter": {
     "outputs_hidden": false
    }
   },
   "source": [
    "instruction_list = []\n",
    "for instruction in new_circ.data:\n",
    "    instruction_list.append(instruction.operation.name)\n",
    "instruction_list"
   ],
   "outputs": [],
   "execution_count": null
  },
  {
   "cell_type": "code",
   "metadata": {
    "collapsed": false,
    "jupyter": {
     "outputs_hidden": false
    }
   },
   "source": [
    "from rl_qoc.helper_functions import new_params_ecr\n",
    "from pulse_config import custom_schedule\n",
    "\n",
    "new_params_ecr(\n",
    "    q_env.parameters[0],\n",
    "    tuple(q_env.physical_target_qubits),\n",
    "    q_env.backend,\n",
    "    [\"amp\", \"tgt_amp\", \"angle\", \"tgt_angle\"],\n",
    ")\n",
    "\n",
    "custom_schedule(q_env.backend, q_env.physical_target_qubits, q_env.parameters[0])"
   ],
   "outputs": [],
   "execution_count": null
  },
  {
   "metadata": {},
   "cell_type": "code",
   "source": "",
   "outputs": [],
   "execution_count": null
  }
 ],
 "metadata": {
  "kernelspec": {
   "display_name": "Python 3 (ipykernel)",
   "language": "python",
   "name": "python3"
  },
  "language_info": {
   "codemirror_mode": {
    "name": "ipython",
    "version": 3
   },
   "file_extension": ".py",
   "mimetype": "text/x-python",
   "name": "python",
   "nbconvert_exporter": "python",
   "pygments_lexer": "ipython3",
   "version": "3.11.9"
  }
 },
 "nbformat": 4,
 "nbformat_minor": 4
}
