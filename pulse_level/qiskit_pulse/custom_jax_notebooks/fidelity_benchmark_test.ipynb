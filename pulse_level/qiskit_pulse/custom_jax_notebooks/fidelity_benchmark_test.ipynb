{
 "cells": [
  {
   "cell_type": "code",
   "execution_count": 1,
   "id": "initial_id",
   "metadata": {
    "collapsed": true,
    "ExecuteTime": {
     "end_time": "2024-02-01T06:38:28.899509Z",
     "start_time": "2024-02-01T06:38:23.260277Z"
    }
   },
   "source": [
    "from qiskit import QuantumCircuit, QuantumRegister\n",
    "from qiskit.circuit import Parameter\n",
    "from qiskit_dynamics import Solver, DynamicsBackend\n",
    "from qiskit_dynamics.array import Array\n",
    "from pulse_level.qiskit_pulse.custom_jax_sim import DynamicsBackendEstimator, JaxSolver\n",
    "from qiskit import transpile, pulse\n",
    "from qiskit.compiler import schedule as build_schedule\n",
    "import numpy as np\n",
    "from qiskit.quantum_info import Statevector, Operator\n",
    "from rl_qoc.helper_functions import perform_standard_calibrations\n",
    "import jax\n",
    "import jax.numpy as jnp\n",
    "\n",
    "jax.config.update(\"jax_enable_x64\", True)\n",
    "# tell JAX we are using CPU\n",
    "jax.config.update(\"jax_platform_name\", \"cpu\")\n",
    "Array.set_default_backend(\"jax\")"
   ],
   "outputs": []
  },
  {
   "cell_type": "code",
   "source": [
    "# Define the system\n",
    "dim = 3\n",
    "\n",
    "v0, v1 = 4.86e9, 4.97e9\n",
    "anharm0, anharm1 = -0.32e9, -0.32e9\n",
    "r0, r1 = 0.22e9, 0.26e9\n",
    "\n",
    "J = 0.002e9\n",
    "\n",
    "a = np.diag(np.sqrt(np.arange(1, dim)), 1)\n",
    "adag = np.diag(np.sqrt(np.arange(1, dim)), -1)\n",
    "N = np.diag(np.arange(dim))\n",
    "\n",
    "ident = np.eye(dim, dtype=complex)\n",
    "full_ident = np.eye(dim**2, dtype=complex)\n",
    "\n",
    "N0, N1 = np.kron(ident, N), np.kron(N, ident)\n",
    "a0, a1 = np.kron(ident, a), np.kron(a, ident)\n",
    "a0dag, a1dag = np.kron(ident, adag), np.kron(adag, ident)\n",
    "\n",
    "static_ham0 = 2 * np.pi * v0 * N0 + np.pi * anharm0 * N0 * (N0 - full_ident)\n",
    "static_ham1 = 2 * np.pi * v1 * N1 + np.pi * anharm1 * N1 * (N1 - full_ident)\n",
    "\n",
    "static_ham_full = (\n",
    "    static_ham0 + static_ham1 + 2 * np.pi * J * ((a0 + a0dag) @ (a1 + a1dag))\n",
    ")\n",
    "\n",
    "drive_op0 = 2 * np.pi * r0 * (a0 + a0dag)\n",
    "drive_op1 = 2 * np.pi * r1 * (a1 + a1dag)\n",
    "\n",
    "# build solver\n",
    "dt = 1 / 4.5e9\n",
    "\n",
    "solver_2q_jax = JaxSolver(\n",
    "    static_hamiltonian=static_ham_full,\n",
    "    hamiltonian_operators=[drive_op0, drive_op1, drive_op0, drive_op1],\n",
    "    rotating_frame=static_ham_full,\n",
    "    hamiltonian_channels=[\"d0\", \"d1\", \"u0\", \"u1\"],\n",
    "    channel_carrier_freqs={\"d0\": v0, \"d1\": v1, \"u0\": v1, \"u1\": v0},\n",
    "    dt=dt,\n",
    ")\n",
    "solver_2q = Solver(\n",
    "    static_hamiltonian=static_ham_full,\n",
    "    hamiltonian_operators=[drive_op0, drive_op1, drive_op0, drive_op1],\n",
    "    rotating_frame=static_ham_full,\n",
    "    hamiltonian_channels=[\"d0\", \"d1\", \"u0\", \"u1\"],\n",
    "    channel_carrier_freqs={\"d0\": v0, \"d1\": v1, \"u0\": v1, \"u1\": v0},\n",
    "    dt=dt,\n",
    ")\n",
    "# Consistent solver option to use throughout notebook\n",
    "\n",
    "solver_options = [\n",
    "    {\"method\": \"jax_odeint\", \"atol\": 1e-6, \"rtol\": 1e-8, \"hmax\": dt} for _ in range(2)\n",
    "]\n",
    "solver = solver_2q_jax\n",
    "jax_backend = DynamicsBackend(\n",
    "    solver=solver_2q_jax,\n",
    "    # target = fake_backend_v2.target,\n",
    "    subsystem_dims=[dim, dim],  # for computing measurement data\n",
    "    solver_options=solver_options[0],  # to be used every time run is called\n",
    ")\n",
    "\n",
    "standard_backend = DynamicsBackend(\n",
    "    solver=solver_2q,\n",
    "    # target = fake_backend_v2.target,\n",
    "    subsystem_dims=[dim, dim],  # for computing measurement data\n",
    "    solver_options=solver_options[1],  # to be used every time run is called\n",
    ")"
   ],
   "metadata": {
    "collapsed": false,
    "ExecuteTime": {
     "end_time": "2024-02-01T06:38:29.333353Z",
     "start_time": "2024-02-01T06:38:28.903020Z"
    }
   },
   "id": "9cdce27bb4bff8b0",
   "execution_count": 2,
   "outputs": []
  },
  {
   "cell_type": "code",
   "source": [
    "jax_cals, jax_results = perform_standard_calibrations(backend=jax_backend)\n",
    "standard_cals, standard_results = perform_standard_calibrations(\n",
    "    backend=standard_backend\n",
    ")"
   ],
   "metadata": {
    "collapsed": false,
    "ExecuteTime": {
     "end_time": "2024-02-01T06:38:57.399934Z",
     "start_time": "2024-02-01T06:38:29.325523Z"
    }
   },
   "id": "2342e0661e36daf4",
   "execution_count": 3,
   "outputs": []
  },
  {
   "cell_type": "code",
   "source": [
    "x_amp_ref = jax_backend.target.get_calibration(\"sx\", (0,)).instructions[0][1].pulse.amp\n",
    "jax_backend.target.get_calibration(\"x\", (0,)).instructions[0][1].pulse.draw()"
   ],
   "metadata": {
    "collapsed": false,
    "ExecuteTime": {
     "end_time": "2024-02-01T06:38:57.468117Z",
     "start_time": "2024-02-01T06:38:57.398852Z"
    }
   },
   "id": "b14742d85c1a6a91",
   "execution_count": 4,
   "outputs": []
  },
  {
   "cell_type": "code",
   "source": [
    "# use amplitude as the function argument\n",
    "from qiskit import pulse\n",
    "from qiskit_dynamics.pulse import InstructionToSignals\n",
    "import sympy as sym\n",
    "from qiskit_dynamics.array import wrap\n",
    "\n",
    "jit = wrap(jax.jit, decorator=True)\n",
    "qd_vmap = wrap(jax.vmap, decorator=True)\n",
    "qc = QuantumCircuit(1)\n",
    "param = Parameter(\"amp\")\n",
    "qc.x(0)\n",
    "\n",
    "\n",
    "def jit_func(amp):\n",
    "    drag_pulse = pulse.Drag(duration=160, amp=amp, sigma=40, angle=0, beta=6.6166741255)\n",
    "\n",
    "    # build a pulse schedule\n",
    "    with pulse.build(backend=jax_backend) as schedule:\n",
    "        pulse.call(qc)\n",
    "        # pulse.play(gaussian_pulse, pulse.DriveChannel(0))\n",
    "        # pulse.play(drag_pulse, pulse.DriveChannel(0))\n",
    "    # convert from a pulse schedule to a list of signals\n",
    "\n",
    "    results = solver_2q_jax.solve(\n",
    "        t_span=Array([0, 300 * dt]),\n",
    "        y0=jnp.eye(9),\n",
    "        signals=schedule,\n",
    "        **solver_options[0]\n",
    "    )\n",
    "    return Array(results.t).data, Array(results.y).data\n",
    "\n",
    "\n",
    "sim_func = jax.jit(jit_func)\n",
    "results = sim_func(x_amp_ref)"
   ],
   "metadata": {
    "collapsed": false,
    "ExecuteTime": {
     "end_time": "2024-02-01T07:25:39.513696Z",
     "start_time": "2024-02-01T07:25:38.820584Z"
    }
   },
   "id": "2381a6c4f2edbd1d",
   "execution_count": 71,
   "outputs": []
  },
  {
   "cell_type": "code",
   "source": [
    "Statevector.from_int(0, 9).evolve(Operator(np.array(results[1][1])))"
   ],
   "metadata": {
    "collapsed": false,
    "ExecuteTime": {
     "end_time": "2024-02-01T07:25:40.274273Z",
     "start_time": "2024-02-01T07:25:40.269959Z"
    }
   },
   "id": "bf23a4aefbc28556",
   "execution_count": 72,
   "outputs": []
  },
  {
   "cell_type": "code",
   "source": [
    "from rl_qoc.helper_functions import projected_statevector, qubit_projection\n",
    "\n",
    "print(\n",
    "    projected_statevector(\n",
    "        Statevector.from_int(0, 9).evolve(Operator(np.array(results[1][1]))).data,\n",
    "        [3, 3],\n",
    "    )\n",
    ")\n",
    "qubit_projection(np.array(results[1][1]), [3, 3])"
   ],
   "metadata": {
    "collapsed": false,
    "ExecuteTime": {
     "end_time": "2024-02-01T07:25:44.058807Z",
     "start_time": "2024-02-01T07:25:44.054960Z"
    }
   },
   "id": "8dab0625a6cf407d",
   "execution_count": 73,
   "outputs": []
  },
  {
   "cell_type": "code",
   "source": [
    "from qiskit.quantum_info import state_fidelity, average_gate_fidelity\n",
    "from qiskit.circuit.library import HGate\n",
    "\n",
    "print(\n",
    "    state_fidelity(\n",
    "        projected_statevector(\n",
    "            Statevector.from_int(1, 9).evolve(Operator(np.array(results[1][1]))).data,\n",
    "            [3, 3],\n",
    "        ),\n",
    "        Statevector.from_label(\"00\"),\n",
    "        validate=False,\n",
    "    )\n",
    ")\n",
    "\n",
    "gate_fid = average_gate_fidelity(\n",
    "    qubit_projection(np.array(results[1][1]), [3, 3]), Operator.from_label(\"IH\")\n",
    ")\n",
    "gate_fid"
   ],
   "metadata": {
    "collapsed": false,
    "ExecuteTime": {
     "end_time": "2024-02-01T07:51:03.686375Z",
     "start_time": "2024-02-01T07:51:03.679614Z"
    }
   },
   "id": "232efda1fbf2c30e",
   "execution_count": 76,
   "outputs": []
  },
  {
   "cell_type": "code",
   "source": [
    "s1 = Statevector.from_int(0, 3)\n",
    "s2 = Statevector.from_int(0, 3)\n",
    "s = s1.tensor(s2)\n",
    "print(s)\n",
    "state_fidelity(\n",
    "    projected_statevector(\n",
    "        s.evolve(\n",
    "            Operator(np.array(results[1][1]), input_dims=(3, 3), output_dims=(3, 3))\n",
    "        ).data,\n",
    "        [3, 3],\n",
    "    ),\n",
    "    Statevector.from_label(\"01\"),\n",
    "    validate=False,\n",
    ")"
   ],
   "metadata": {
    "collapsed": false,
    "ExecuteTime": {
     "end_time": "2024-02-01T07:53:18.325880Z",
     "start_time": "2024-02-01T07:53:18.316998Z"
    }
   },
   "id": "ea946ab357a5136b",
   "execution_count": 85,
   "outputs": []
  },
  {
   "cell_type": "code",
   "source": [
    "average_gate_fidelity(Operator.from_label(\"I\"), Operator.from_label(\"Z\"))"
   ],
   "metadata": {
    "collapsed": false,
    "ExecuteTime": {
     "end_time": "2024-02-01T07:51:13.578918Z",
     "start_time": "2024-02-01T07:51:13.576846Z"
    }
   },
   "id": "754043598e5ac904",
   "execution_count": 77,
   "outputs": []
  },
  {
   "cell_type": "code",
   "source": [
    "Operator.from_label(\"IH\")"
   ],
   "metadata": {
    "collapsed": false,
    "ExecuteTime": {
     "end_time": "2024-02-01T07:24:04.905059Z",
     "start_time": "2024-02-01T07:24:04.895546Z"
    }
   },
   "id": "350959fb932c605a",
   "execution_count": 68,
   "outputs": []
  },
  {
   "cell_type": "code",
   "source": [],
   "metadata": {
    "collapsed": false
   },
   "id": "7004f50eaedf4d50",
   "execution_count": null,
   "outputs": []
  }
 ],
 "metadata": {
  "kernelspec": {
   "display_name": "Python 3",
   "language": "python",
   "name": "python3"
  },
  "language_info": {
   "codemirror_mode": {
    "name": "ipython",
    "version": 2
   },
   "file_extension": ".py",
   "mimetype": "text/x-python",
   "name": "python",
   "nbconvert_exporter": "python",
   "pygments_lexer": "ipython2",
   "version": "2.7.6"
  }
 },
 "nbformat": 4,
 "nbformat_minor": 5
}
