{
 "cells": [
  {
   "cell_type": "code",
   "execution_count": 1,
   "id": "cc45931e-f117-412a-b9ca-c65738633a7b",
   "metadata": {
    "tags": []
   },
   "outputs": [],
   "source": [
    "# Qiskit imports\n",
    "import os\n",
    "os.environ['KMP_DUPLICATE_LIB_OK'] = 'True'\n",
    "import sys\n",
    "module_path = os.path.abspath(os.path.join('/Users/arthurstrauss/Library/CloudStorage/OneDrive-NationalUniversityofSingapore/Coding_projects/Quantum_Optimal_Control'))\n",
    "if module_path not in sys.path:\n",
    "    sys.path.append(module_path)\n",
    "# Qiskit imports\n",
    "from qiskit import pulse, transpile\n",
    "from qiskit.transpiler import InstructionDurations\n",
    "from qiskit.circuit import ParameterVector, QuantumCircuit, QuantumRegister, Gate, \\\n",
    "    ParameterExpression, CircuitInstruction\n",
    "# from qiskit.circuit.random import random_circuit\n",
    "# from qiskit_ibm_provider import IBMProvider\n",
    "from qiskit_ibm_runtime import QiskitRuntimeService, Options\n",
    "from qiskit_ibm_runtime.options import SimulatorOptions, TranspilationOptions\n",
    "from qiskit.providers import Backend\n",
    "from qiskit.providers.fake_provider import FakeJakartaV2, FakeJakarta, FakeHanoi, FakePerth\n",
    "from qiskit_aer import AerSimulator\n",
    "from qiskit.circuit.library import XGate, CXGate\n",
    "\n",
    "from qconfig import QiskitConfig\n",
    "from quantumenvironment import QuantumEnvironment\n",
    "from torch_quantum_environment import TorchQuantumEnvironment\n",
    "from gymnasium.spaces import Box, Space\n",
    "import torch\n",
    "import torch.nn as nn\n",
    "from torch.utils.tensorboard import SummaryWriter\n",
    "import torch.optim as optim\n",
    "from torch.distributions import Normal\n",
    "\n",
    "import numpy as np\n",
    "import tqdm\n",
    "import time\n",
    "from typing import Union, Optional, List, Sequence\n",
    "from IPython.display import clear_output"
   ]
  },
  {
   "cell_type": "markdown",
   "id": "c9e1b780-6e09-4b4f-8f0c-b1709942392c",
   "metadata": {},
   "source": [
    "# Circuit macros for environment"
   ]
  },
  {
   "cell_type": "code",
   "execution_count": 2,
   "id": "6d868a9f-014c-4842-9168-93fd2efa69bf",
   "metadata": {
    "tags": []
   },
   "outputs": [],
   "source": [
    "def custom_pulse_schedule(backend: Backend, qubit_tgt_register: Union[List[int], QuantumRegister],\n",
    "                          params: Union[Sequence[ParameterExpression], ParameterVector],\n",
    "                          default_schedule: Optional[Union[pulse.ScheduleBlock, pulse.Schedule]] = None):\n",
    "    \"\"\"\n",
    "    Define parametrization of the pulse schedule characterizing the target gate\n",
    "        :param backend: IBM Backend on which schedule shall be added\n",
    "        :param qubit_tgt_register: Qubit register on which\n",
    "        :param params: Parameters of the Schedule\n",
    "        :param default_schedule:  baseline from which one can customize the pulse parameters\n",
    "\n",
    "        :return: Parametrized Schedule\n",
    "    \"\"\"\n",
    "\n",
    "    if default_schedule is None:  # No baseline pulse, full waveform builder\n",
    "        pass\n",
    "    else:\n",
    "\n",
    "        # Look here for the pulse features to specifically optimize upon, for the x gate here, simply retrieve relevant\n",
    "        # parameters for the Drag pulse\n",
    "        pulse_ref = default_schedule.instructions[0][1].pulse\n",
    "\n",
    "        with pulse.build(backend=backend, name='param_schedule') as parametrized_schedule:\n",
    "\n",
    "            pulse.play(pulse.Drag(duration=pulse_ref.duration, amp=params[0], sigma=pulse_ref.sigma,\n",
    "                                  beta=pulse_ref.beta, angle=pulse_ref.angle),\n",
    "                       channel=pulse.DriveChannel(qubit_tgt_register[0]))\n",
    "\n",
    "        return parametrized_schedule"
   ]
  },
  {
   "cell_type": "code",
   "execution_count": 3,
   "id": "47a42969-7541-4c0d-8415-e4b83408dbc6",
   "metadata": {
    "tags": []
   },
   "outputs": [],
   "source": [
    "def param_circuit(qc: QuantumCircuit,\n",
    "              params: Optional[ParameterVector]=None, q_reg: Optional[QuantumRegister] = None):\n",
    "# To build a unique gate identifier, choose the name based on the input circuit name (by default and if used\n",
    "# with TFQuantumEnvironment class, this circuit name is of the form c_circ_trunc_{i})\n",
    "# custom_gate_name = f\"{target['gate'].name}_{qc.name[-1]}\"\n",
    "# custom_gate = Gate(custom_gate_name, len(target[\"register\"]), params=params.params)\n",
    "# custom_sched = custom_pulse_schedule(backend=backend, qubit_tgt_register=physical_qubits, params=params,\n",
    "#                                      default_schedule=backend.target.get_calibration(target[\"gate\"].name,\n",
    "#                                                                                      tuple(physical_qubits)))\n",
    "# qc.add_calibration(custom_gate, physical_qubits, custom_sched)\n",
    "# qc.append(custom_gate, physical_qubits)\n",
    "    if params is None:\n",
    "        params = ParameterVector(\"a\", n_actions)\n",
    "    my_qc = QuantumCircuit(2, name=\"custom_cx\")\n",
    "    optimal_params = np.pi * np.array([0., 0., 0.5, 0.5, -0.5, 0.5, -0.5])\n",
    "    \n",
    "    my_qc.u(optimal_params[0]+params[0], optimal_params[1]+params[1], optimal_params[2]+params[2], 0)\n",
    "    my_qc.u(optimal_params[3]+params[3], optimal_params[4]+params[4], optimal_params[5]+params[5], 1)\n",
    "    my_qc.rzx(optimal_params[6]+params[6], 0, 1)\n",
    "    #my_qc.u(np.pi *params[0], np.pi *params[1], np.pi *params[2], 0)\n",
    "    #my_qc.u(np.pi *params[3], np.pi *params[4], np.pi *params[5], 1)\n",
    "    #my_qc.rzx(np.pi * params[6], 0, 1)\n",
    "    qc.append(my_qc.to_instruction(label=\"custom_cx\"), physical_qubits)\n",
    "    # qc.rx(2 * np.pi * params[0], physical_qubits)"
   ]
  },
  {
   "cell_type": "markdown",
   "id": "296601c4-aa0e-4e8b-9092-290ed0cf1e0b",
   "metadata": {},
   "source": [
    "# Definition of QuantumEnvironment"
   ]
  },
  {
   "cell_type": "code",
   "execution_count": 4,
   "id": "9c6f2f3b-4338-4ff2-8539-de8fe475d60d",
   "metadata": {
    "tags": []
   },
   "outputs": [
    {
     "data": {
      "text/plain": [
       "QuantumEnvironment composed of 2, \n",
       "Defined target: gate (Instruction(name='cx', num_qubits=2, num_clbits=0, params=[]))\n",
       "Defined backend: <IBMBackend('ibmq_qasm_simulator')>,\n",
       "Abstraction level: circuit,"
      ]
     },
     "execution_count": 4,
     "metadata": {},
     "output_type": "execute_result"
    }
   ],
   "source": [
    "#device = torch.device(\"cuda\" if torch.cuda.is_available() else \"cpu\")\n",
    "device = torch.device(\"cpu\")\n",
    "sampling_Paulis = 100\n",
    "N_shots = 20 # Number of shots for sampling the quantum computer for each action vector\n",
    "fake_backend = FakeJakartaV2()\n",
    "service = QiskitRuntimeService(channel='ibm_quantum', instance='ibm-q-nus/default/default')\n",
    "runtime_backend = service.backend(\"ibmq_qasm_simulator\")\n",
    "runtime_backend.instruction_durations.update(fake_backend.instruction_durations)\n",
    "estimator_options = Options(simulator= SimulatorOptions().set_backend(fake_backend))\n",
    "backend = runtime_backend\n",
    "target_gate = CXGate()\n",
    "physical_qubits = [0, 1]\n",
    "n_qubits = len(physical_qubits)\n",
    "target = {\"gate\": target_gate, 'register': physical_qubits}\n",
    "config = QiskitConfig(parametrized_circuit=param_circuit, backend=backend, estimator_options=estimator_options)\n",
    "\n",
    "q_env = QuantumEnvironment(target, \"circuit\", config)\n",
    "q_env"
   ]
  },
  {
   "cell_type": "code",
   "execution_count": 5,
   "id": "7aa24025-5af0-4879-8fcd-0279286a1d48",
   "metadata": {
    "tags": []
   },
   "outputs": [
    {
     "data": {
      "image/png": "[encoded data removed]",
      "text/plain": [
       "<Figure size 500x500 with 1 Axes>"
      ]
     },
     "execution_count": 5,
     "metadata": {},
     "output_type": "execute_result"
    }
   ],
   "source": [
    "from qiskit.visualization import plot_coupling_map, plot_circuit_layout, gate_map, plot_gate_map\n",
    "from qiskit.visualization.pulse_v2 import IQXDebugging\n",
    "plot_gate_map(fake_backend)"
   ]
  },
  {
   "cell_type": "markdown",
   "id": "f0728780-bee0-4fc5-9522-cedb5977fd18",
   "metadata": {},
   "source": [
    "# Definition of TorchQuantumEnvironment"
   ]
  },
  {
   "cell_type": "code",
   "execution_count": 6,
   "id": "e20355a7-6530-4459-9e03-d4bbf69daf3b",
   "metadata": {
    "tags": []
   },
   "outputs": [
    {
     "name": "stderr",
     "output_type": "stream",
     "text": [
      "/Users/arthurstrauss/opt/anaconda3/envs/rl_qoc/lib/python3.9/site-packages/gymnasium/spaces/box.py:130: UserWarning: \u001b[33mWARN: Box bound precision lowered by casting to float32\u001b[0m\n",
      "  gym.logger.warn(f\"Box bound precision lowered by casting to {self.dtype}\")\n"
     ]
    }
   ],
   "source": [
    "# Circuit context\n",
    "seed = 10\n",
    "training_steps_per_gate = 3\n",
    "# target_circuit = transpile(random_circuit(4, depth=2, max_operands=2, seed=seed), backend)\n",
    "target_circuit = QuantumCircuit(2)\n",
    "target_circuit.cx(0,1)\n",
    "\n",
    "# target_circuit = transpile(target_circuit, backend, optimization_level=0)\n",
    "# tgt_qubits = [target_circuit.qubits[i] for i in physical_qubits]\n",
    "\n",
    "# tgt_instruction_counts = target_circuit.data.count(CircuitInstruction(target_gate, tgt_qubits))\n",
    "tgt_instruction_counts = 1\n",
    "batchsize = 500  # Batch size (iterate over a bunch of actions per policy to estimate expected return) default 100\n",
    "n_actions = 7  # Choose how many control parameters in pulse/circuit parametrization\n",
    "optimal_params = np.pi * np.array([0., 0., 0.5, 0.5, -0.5, 0.5, -0.5])\n",
    "min_bound_actions =  - 0.05\n",
    "max_bound_actions =  0.05\n",
    "scale_factor = 0.05\n",
    "observation_space = Box(low=np.array([0, 0]), high=np.array([1, tgt_instruction_counts]), shape=(2,),\n",
    "                        seed=seed)\n",
    "action_space = Box(low=min_bound_actions, high=max_bound_actions, shape=(n_actions,), seed=seed)\n",
    "\n",
    "torch_env = TorchQuantumEnvironment(q_env, target_circuit, action_space, observation_space, batch_size=batchsize,\n",
    "                                    training_steps_per_gate=training_steps_per_gate, intermediate_rewards=False,\n",
    "                                    seed=None)\n"
   ]
  },
  {
   "cell_type": "markdown",
   "id": "5b4b6bdf-18c0-4695-b040-811d3c96a498",
   "metadata": {},
   "source": [
    "# Definition of the Agent"
   ]
  },
  {
   "cell_type": "code",
   "execution_count": 7,
   "id": "19c5e633-252f-4efe-8490-b82edafd5781",
   "metadata": {
    "tags": []
   },
   "outputs": [],
   "source": [
    "class ActorNetwork(nn.Module):\n",
    "    def __init__(self, observation_space: Space, hidden_layers: Sequence[int],\n",
    "                 n_actions: int,\n",
    "                 hidden_activation_functions: Optional[Sequence[nn.Module]] = None,\n",
    "                 include_critic=True,\n",
    "                 chkpt_dir: str = 'tmp/ppo'):\n",
    "        super(ActorNetwork, self).__init__()\n",
    "\n",
    "        self.checkpoint_dir = chkpt_dir\n",
    "        # Define a list to hold the layer sizes including input and output sizes\n",
    "        layer_sizes = [observation_space.shape[0]] + list(hidden_layers)\n",
    "        if hidden_activation_functions is None:\n",
    "            hidden_activation_functions = [nn.ReLU() for _ in range(len(layer_sizes))]\n",
    "\n",
    "        assert len(hidden_activation_functions) == len(layer_sizes)\n",
    "        # Define a list to hold the layers of the network\n",
    "        layers = []\n",
    "\n",
    "        # Iterate over the layer sizes to create the network layers\n",
    "        for i in range(len(layer_sizes) - 1):\n",
    "            # Add a linear layer with the current and next layer sizes\n",
    "            layers.append(nn.Linear(layer_sizes[i], layer_sizes[i + 1]))\n",
    "\n",
    "            layers.append(hidden_activation_functions[i])\n",
    "\n",
    "        # Create the actor network using Sequential container\n",
    "        self.layers = layers\n",
    "        self.mean_action = nn.Linear(hidden_layers[-1], n_actions)\n",
    "        self.mean_activation = nn.Tanh()\n",
    "        self.std_action = nn.Linear(hidden_layers[-1], n_actions)\n",
    "        self.std_activation = nn.Sigmoid()\n",
    "\n",
    "        self.include_critic = include_critic\n",
    "        self.critic_output = nn.Linear(hidden_layers[-1], 1)\n",
    "\n",
    "        self.base_network = nn.Sequential(*layers)\n",
    "\n",
    "        # Initialize the weights of the network\n",
    "        for layer in self.base_network.modules():\n",
    "            if isinstance(layer, nn.Linear):\n",
    "                nn.init.orthogonal_(layer.weight)\n",
    "                nn.init.constant_(layer.bias, 0.)\n",
    "\n",
    "    def forward(self, x):\n",
    "        x = self.base_network(x)\n",
    "        mean_action = self.mean_action(x)\n",
    "        mean_action = self.mean_activation(mean_action)\n",
    "        std_action = self.std_action(x)\n",
    "        std_action = self.std_activation(std_action)\n",
    "        critic_output = self.critic_output(x)\n",
    "\n",
    "        if self.critic_output:\n",
    "            return mean_action, std_action, critic_output\n",
    "        else:\n",
    "            return mean_action, std_action\n",
    "\n",
    "    def get_value(self, x):\n",
    "        x = self.base_network(x)\n",
    "        x = self.critic_output(x)\n",
    "        return x\n",
    "\n",
    "    def save_checkpoint(self):\n",
    "        torch.save(self, self.checkpoint_dir)\n",
    "\n",
    "    def load_checkpoint(self):\n",
    "        torch.load(self.checkpoint_dir)\n",
    "\n",
    "\n",
    "class CriticNetwork(nn.Module):\n",
    "    def __init__(self, observation_space: Space, hidden_layers: Sequence[int],\n",
    "                 hidden_activation_functions: Optional[Sequence[nn.Module]] = None,\n",
    "                 chkpt_dir: str = 'tmp/critic_ppo'):\n",
    "        super(CriticNetwork, self).__init__()\n",
    "        self.checkpoint_dir = chkpt_dir\n",
    "        # Define a list to hold the layer sizes including input and output sizes\n",
    "        layer_sizes = [observation_space.shape[0]] + list(hidden_layers)\n",
    "        if hidden_activation_functions is None:\n",
    "            hidden_activation_functions = [nn.ReLU() for _ in range(len(layer_sizes))]\n",
    "\n",
    "        assert len(hidden_activation_functions) == len(layer_sizes)\n",
    "        # Define a list to hold the layers of the network\n",
    "        layers = []\n",
    "\n",
    "        # Iterate over the layer sizes to create the network layers\n",
    "        for i in range(len(layer_sizes) - 1):\n",
    "            # Add a linear layer with the current and next layer sizes\n",
    "            layers.append(nn.Linear(layer_sizes[i], layer_sizes[i + 1]))\n",
    "\n",
    "            # Add a ReLU activation function for all layers except the output layer\n",
    "\n",
    "            layers.append(hidden_activation_functions[i])\n",
    "\n",
    "        # Create the actor network using Sequential container\n",
    "        self.layers = layers\n",
    "        self.critic_output = nn.Linear(hidden_layers[-1], 1)\n",
    "        self.layers.append(self.critic_output)\n",
    "        self.critic_network = nn.Sequential(*self.layers)\n",
    "\n",
    "        # Initialize the weights of the network\n",
    "        for layer in self.critic_network.modules():\n",
    "            if isinstance(layer, nn.Linear):\n",
    "                nn.init.orthogonal_(layer.weight)\n",
    "                nn.init.constant_(layer.bias, 0.)\n",
    "\n",
    "    def forward(self, x):\n",
    "        return self.critic_network(x)\n",
    "\n",
    "    def save_checkpoint(self):\n",
    "        torch.save(self, self.checkpoint_dir)\n",
    "\n",
    "    def load_checkpoint(self):\n",
    "        torch.load(self.checkpoint_dir)\n",
    "\n",
    "\n",
    "class Agent(nn.Module):\n",
    "    def __init__(self, actor_net: ActorNetwork, critic_net: Optional[CriticNetwork]=None):\n",
    "        super().__init__()\n",
    "\n",
    "        self.actor_net = actor_net\n",
    "        self.critic_net = critic_net\n",
    "\n",
    "        if self.critic_net is not None:\n",
    "            assert not self.actor_net.include_critic, \"Critic already included in Actor Network\"\n",
    "\n",
    "    def forward(self, x):\n",
    "        if self.actor_net.include_critic:\n",
    "            return self.actor_net(x)\n",
    "        else:\n",
    "            assert self.critic_net is not None, 'Critic Network not provided and not included in ActorNetwork'\n",
    "            mean_action, std_action = self.actor_net(x)\n",
    "            value = self.critic_net(x)\n",
    "            return mean_action, std_action, value\n",
    "\n",
    "    def get_value(self, x):\n",
    "        if self.actor_net.include_critic:\n",
    "            return self.actor_net.get_value(x)\n",
    "        else:\n",
    "            assert self.critic_net is not None, 'Critic Network not provided and not included in ActorNetwork'\n",
    "            return self.critic_net(x)\n",
    "\n",
    "    def save_checkpoint(self):\n",
    "        self.actor_net.save_checkpoint()\n",
    "        if self.critic_net is not None:\n",
    "            self.critic_net.save_checkpoint()\n"
   ]
  },
  {
   "cell_type": "code",
   "execution_count": 8,
   "id": "b3aee453-8139-47dd-8409-88aa72c31181",
   "metadata": {
    "tags": []
   },
   "outputs": [],
   "source": [
    "activation_functions = [nn.Tanh(), nn.Tanh(), nn.Tanh()]\n",
    "actor_net = ActorNetwork(observation_space, [64, 64], n_actions, activation_functions).to(device)\n",
    "#actor_net = ActorNetwork(observation_space, [128, 128], n_actions).to(device)\n",
    "critic_net = CriticNetwork(observation_space, [128, 128], [nn.ELU(), nn.ELU(), nn.ELU()]).to(device)\n",
    "agent = Agent(actor_net, critic_net=None).to(device)"
   ]
  },
  {
   "cell_type": "markdown",
   "id": "f4c979c9-8d16-42fa-88d3-8810dc0f5758",
   "metadata": {},
   "source": [
    "## Hyperparameters for training"
   ]
  },
  {
   "cell_type": "code",
   "execution_count": 9,
   "id": "aa0544ad-7134-41f4-bc5e-4197c5750d4d",
   "metadata": {
    "tags": []
   },
   "outputs": [],
   "source": [
    "\"\"\"\n",
    "-----------------------------------------------------------------------------------------------------\n",
    "Hyperparameters for RL agent\n",
    "-----------------------------------------------------------------------------------------------------\n",
    "\"\"\"\n",
    "run_name = \"test\"\n",
    "writer = SummaryWriter(f\"runs/{run_name}\")\n",
    "# writer.add_text(\n",
    "#     \"hyperparameters\",\n",
    "#     \"|param|value|\\n|-|-|\\n%s\" % (\"\\n\".join([f\"|{key}|{value}|\" for key, value in vars(args).items()])),\n",
    "# )\n",
    "# Hyperparameters for the agent\n",
    "n_epochs = 10  # Number of epochs : default 1500\n",
    "num_updates = 3000\n",
    "opti = \"Adam\"\n",
    "lr_actor = 0.0001  # Learning rate for policy update step\n",
    "lr_critic = 0.0018  # Learning rate for critic (value function) update step\n",
    "\n",
    "epsilon = 0.2  # Parameter for clipping value (PPO)\n",
    "critic_loss_coeff = 0.5\n",
    "optimizer = optim.Adam(agent.parameters(), lr=lr_actor, eps=1e-5)\n",
    "actor_optimizer = optim.Adam(actor_net.parameters(), lr=lr_actor, eps=1e-5)\n",
    "critic_optimizer = optim.Adam(critic_net.parameters(), lr=lr_critic, eps=1e-5)\n",
    "minibatch_size = 40\n",
    "gamma = 1.\n",
    "gae_lambda = 0.95\n",
    "\n",
    "# Clipping\n",
    "clip_vloss = True\n",
    "grad_clip = 0.5\n",
    "clip_coef = 0.5\n",
    "normalize_advantage = False\n",
    "\n",
    "# other coefficients\n",
    "ent_coef = 0."
   ]
  },
  {
   "cell_type": "markdown",
   "id": "fce12ee7-d62f-471a-8596-ef884dfa2a46",
   "metadata": {},
   "source": [
    "# Training\n",
    "## Storage setup"
   ]
  },
  {
   "cell_type": "code",
   "execution_count": 10,
   "id": "c0df2e66-a289-4e87-8df6-bf9b5a7419c6",
   "metadata": {
    "tags": []
   },
   "outputs": [],
   "source": [
    "global_step = 0\n",
    "torch_env.clear_history()\n",
    "obs = torch.zeros((tgt_instruction_counts, batchsize) + torch_env.observation_space.shape).to(device)\n",
    "actions = torch.zeros((tgt_instruction_counts, batchsize) + torch_env.action_space.shape).to(device)\n",
    "logprobs = torch.zeros((tgt_instruction_counts, batchsize)).to(device)\n",
    "rewards = torch.zeros((tgt_instruction_counts, batchsize)).to(device)\n",
    "dones = torch.zeros((tgt_instruction_counts, batchsize)).to(device)\n",
    "values = torch.zeros((tgt_instruction_counts, batchsize)).to(device)\n",
    "\n",
    "train_obs = torch.zeros((batchsize,) + torch_env.observation_space.shape, requires_grad=True).to(device)\n",
    "visualization_steps = 10"
   ]
  },
  {
   "cell_type": "markdown",
   "id": "10306c6a-de03-4ead-bc32-ffdcb1c0da20",
   "metadata": {},
   "source": [
    "## Main loop"
   ]
  },
  {
   "cell_type": "code",
   "execution_count": 11,
   "id": "c98ce6ee-b798-42aa-826d-eb773d051bbb",
   "metadata": {
    "tags": []
   },
   "outputs": [
    {
     "name": "stderr",
     "output_type": "stream",
     "text": [
      "  1%|▍                                     | 30/3000 [12:51<24:53:42, 30.18s/it]"
     ]
    },
    {
     "name": "stdout",
     "output_type": "stream",
     "text": [
      "Sending job...\n",
      "Job done\n"
     ]
    },
    {
     "name": "stderr",
     "output_type": "stream",
     "text": [
      "  1%|▍                                     | 31/3000 [13:20<24:28:27, 29.68s/it]"
     ]
    },
    {
     "name": "stdout",
     "output_type": "stream",
     "text": [
      "mean tensor([ 0.0087, -0.0053, -0.0210,  0.0143,  0.0217,  0.0001, -0.0218])\n",
      "sigma tensor([0.0282, 0.0239, 0.0276, 0.0240, 0.0246, 0.0254, 0.0337])\n",
      "Average return: 4.000000000000001\n",
      "Circuit fidelity: 0.9992310216458781\n",
      "Avg gate fidelity: [0.99885253]\n",
      "{'reset_stage': False, 'step': 31, 'average gate fidelity': array([0.99885253]), 'average return': 4.000000000000001, 'circuit fidelity': 0.9992310216458781, 'max return': 5.333333333333335, 'max circuit fidelity': 0.9994018111685592, 'max avg gate fidelity': [0.9992006505769201], 'arg max avg gate fidelity': [1], 'arg max return': 15, 'arg max circuit fidelity': 1, 'best action': array([ 0.00715834, -0.00630317, -0.01835124,  0.0133325 ,  0.01729651,\n",
      "        0.00021029, -0.01743464]), 'truncation_index': 0, 'input_state': 'PauliPreparationBasis[3, 3]', 'observable': SparsePauliOp(['II', 'XY', 'YZ', 'ZX'],\n",
      "              coeffs=[ 0.5+0.j,  0.5+0.j,  0.5+0.j, -0.5+0.j])}\n",
      "Sending job...\n",
      "Job done\n"
     ]
    },
    {
     "name": "stderr",
     "output_type": "stream",
     "text": [
      "  1%|▍                                     | 32/3000 [13:43<22:44:36, 27.59s/it]"
     ]
    },
    {
     "name": "stdout",
     "output_type": "stream",
     "text": [
      "mean tensor([ 0.0050, -0.0060, -0.0154,  0.0117,  0.0198, -0.0018, -0.0173])\n",
      "sigma tensor([0.0278, 0.0242, 0.0268, 0.0237, 0.0250, 0.0251, 0.0319])\n",
      "Average return: 3.999999999999999\n",
      "Circuit fidelity: 0.9992719218386465\n",
      "Avg gate fidelity: [0.99893534]\n",
      "{'reset_stage': False, 'step': 32, 'average gate fidelity': array([0.99893534]), 'average return': 3.999999999999999, 'circuit fidelity': 0.9992719218386465, 'max return': 5.333333333333335, 'max circuit fidelity': 0.9994018111685592, 'max avg gate fidelity': [0.9992006505769201], 'arg max avg gate fidelity': [1], 'arg max return': 15, 'arg max circuit fidelity': 1, 'best action': array([ 0.00715834, -0.00630317, -0.01835124,  0.0133325 ,  0.01729651,\n",
      "        0.00021029, -0.01743464]), 'truncation_index': 0, 'input_state': 'PauliPreparationBasis[1, 3]', 'observable': SparsePauliOp(['II', 'IZ', 'YI', 'YZ'],\n",
      "              coeffs=[ 0.5+0.j, -0.5+0.j, -0.5+0.j,  0.5+0.j])}\n",
      "Sending job...\n",
      "Job done\n"
     ]
    },
    {
     "name": "stderr",
     "output_type": "stream",
     "text": [
      "  1%|▍                                     | 33/3000 [14:05<21:21:32, 25.92s/it]"
     ]
    },
    {
     "name": "stdout",
     "output_type": "stream",
     "text": [
      "mean tensor([ 0.0060, -0.0058, -0.0173,  0.0125,  0.0209, -0.0015, -0.0188])\n",
      "sigma tensor([0.0280, 0.0240, 0.0270, 0.0236, 0.0250, 0.0250, 0.0325])\n",
      "Average return: 3.999999999999999\n",
      "Circuit fidelity: 0.9992780543635283\n",
      "Avg gate fidelity: [0.99893377]\n",
      "{'reset_stage': False, 'step': 33, 'average gate fidelity': array([0.99893377]), 'average return': 3.999999999999999, 'circuit fidelity': 0.9992780543635283, 'max return': 5.333333333333335, 'max circuit fidelity': 0.9994018111685592, 'max avg gate fidelity': [0.9992006505769201], 'arg max avg gate fidelity': [1], 'arg max return': 15, 'arg max circuit fidelity': 1, 'best action': array([ 0.00715834, -0.00630317, -0.01835124,  0.0133325 ,  0.01729651,\n",
      "        0.00021029, -0.01743464]), 'truncation_index': 0, 'input_state': 'PauliPreparationBasis[2, 2]', 'observable': SparsePauliOp(['II', 'IX', 'XI', 'XX'],\n",
      "              coeffs=[0.5+0.j, 0.5+0.j, 0.5+0.j, 0.5+0.j])}\n",
      "Sending job...\n",
      "Job done\n"
     ]
    },
    {
     "name": "stderr",
     "output_type": "stream",
     "text": [
      "  1%|▍                                     | 34/3000 [14:28<20:48:38, 25.26s/it]"
     ]
    },
    {
     "name": "stdout",
     "output_type": "stream",
     "text": [
      "mean tensor([ 0.0055, -0.0059, -0.0168,  0.0122,  0.0211, -0.0020, -0.0183])\n",
      "sigma tensor([0.0281, 0.0240, 0.0268, 0.0234, 0.0252, 0.0248, 0.0323])\n",
      "Average return: 4.000000000000001\n",
      "Circuit fidelity: 0.9993014434351782\n",
      "Avg gate fidelity: [0.9989187]\n",
      "{'reset_stage': False, 'step': 34, 'average gate fidelity': array([0.9989187]), 'average return': 4.000000000000001, 'circuit fidelity': 0.9993014434351782, 'max return': 5.333333333333335, 'max circuit fidelity': 0.9994018111685592, 'max avg gate fidelity': [0.9992006505769201], 'arg max avg gate fidelity': [1], 'arg max return': 15, 'arg max circuit fidelity': 1, 'best action': array([ 0.00715834, -0.00630317, -0.01835124,  0.0133325 ,  0.01729651,\n",
      "        0.00021029, -0.01743464]), 'truncation_index': 0, 'input_state': 'PauliPreparationBasis[2, 3]', 'observable': SparsePauliOp(['II', 'XX', 'YZ', 'ZY'],\n",
      "              coeffs=[0.5+0.j, 0.5+0.j, 0.5+0.j, 0.5+0.j])}\n",
      "Sending job...\n",
      "Job done\n"
     ]
    },
    {
     "name": "stderr",
     "output_type": "stream",
     "text": [
      "  1%|▍                                     | 35/3000 [15:04<23:17:31, 28.28s/it]"
     ]
    },
    {
     "name": "stdout",
     "output_type": "stream",
     "text": [
      "mean tensor([ 0.0051, -0.0060, -0.0161,  0.0119,  0.0207, -0.0022, -0.0177])\n",
      "sigma tensor([0.0280, 0.0241, 0.0267, 0.0234, 0.0252, 0.0248, 0.0320])\n",
      "Average return: 3.999999999999999\n",
      "Circuit fidelity: 0.9992918432339475\n",
      "Avg gate fidelity: [0.99896989]\n",
      "{'reset_stage': False, 'step': 35, 'average gate fidelity': array([0.99896989]), 'average return': 3.999999999999999, 'circuit fidelity': 0.9992918432339475, 'max return': 5.333333333333335, 'max circuit fidelity': 0.9994018111685592, 'max avg gate fidelity': [0.9992006505769201], 'arg max avg gate fidelity': [1], 'arg max return': 15, 'arg max circuit fidelity': 1, 'best action': array([ 0.00715834, -0.00630317, -0.01835124,  0.0133325 ,  0.01729651,\n",
      "        0.00021029, -0.01743464]), 'truncation_index': 0, 'input_state': 'PauliPreparationBasis[2, 2]', 'observable': SparsePauliOp(['II', 'IX', 'XI', 'XX'],\n",
      "              coeffs=[0.5+0.j, 0.5+0.j, 0.5+0.j, 0.5+0.j])}\n",
      "Sending job...\n",
      "Job done\n"
     ]
    },
    {
     "name": "stderr",
     "output_type": "stream",
     "text": [
      "  1%|▍                                     | 36/3000 [15:40<25:13:51, 30.64s/it]"
     ]
    },
    {
     "name": "stdout",
     "output_type": "stream",
     "text": [
      "mean tensor([ 0.0038, -0.0062, -0.0132,  0.0109,  0.0184, -0.0021, -0.0154])\n",
      "sigma tensor([0.0276, 0.0244, 0.0266, 0.0238, 0.0250, 0.0251, 0.0312])\n",
      "Average return: 3.999999999999999\n",
      "Circuit fidelity: 0.9993160790104669\n",
      "Avg gate fidelity: [0.99898544]\n",
      "{'reset_stage': False, 'step': 36, 'average gate fidelity': array([0.99898544]), 'average return': 3.999999999999999, 'circuit fidelity': 0.9993160790104669, 'max return': 5.333333333333335, 'max circuit fidelity': 0.9994018111685592, 'max avg gate fidelity': [0.9992006505769201], 'arg max avg gate fidelity': [1], 'arg max return': 15, 'arg max circuit fidelity': 1, 'best action': array([ 0.00715834, -0.00630317, -0.01835124,  0.0133325 ,  0.01729651,\n",
      "        0.00021029, -0.01743464]), 'truncation_index': 0, 'input_state': 'PauliPreparationBasis[1, 0]', 'observable': SparsePauliOp(['II', 'IZ', 'ZI', 'ZZ'],\n",
      "              coeffs=[ 0.5+0.j, -0.5+0.j, -0.5+0.j,  0.5+0.j])}\n",
      "Sending job...\n",
      "Job done\n"
     ]
    },
    {
     "name": "stderr",
     "output_type": "stream",
     "text": [
      "  1%|▍                                     | 37/3000 [16:03<23:18:35, 28.32s/it]"
     ]
    },
    {
     "name": "stdout",
     "output_type": "stream",
     "text": [
      "mean tensor([ 0.0067, -0.0058, -0.0180,  0.0128,  0.0209, -0.0009, -0.0195])\n",
      "sigma tensor([0.0280, 0.0240, 0.0271, 0.0238, 0.0249, 0.0253, 0.0327])\n",
      "Average return: 5.333333333333332\n",
      "Circuit fidelity: 0.9992694010102249\n",
      "Avg gate fidelity: [0.99892084]\n",
      "{'reset_stage': False, 'step': 37, 'average gate fidelity': array([0.99892084]), 'average return': 5.333333333333332, 'circuit fidelity': 0.9992694010102249, 'max return': 5.333333333333335, 'max circuit fidelity': 0.9994018111685592, 'max avg gate fidelity': [0.9992006505769201], 'arg max avg gate fidelity': [1], 'arg max return': 15, 'arg max circuit fidelity': 1, 'best action': array([ 0.00715834, -0.00630317, -0.01835124,  0.0133325 ,  0.01729651,\n",
      "        0.00021029, -0.01743464]), 'truncation_index': 0, 'input_state': 'PauliPreparationBasis[2, 1]', 'observable': SparsePauliOp(['II', 'XX', 'YY'],\n",
      "              coeffs=[0.5+0.j, 0.5+0.j, 0.5+0.j])}\n",
      "Sending job...\n",
      "Job done\n"
     ]
    },
    {
     "name": "stderr",
     "output_type": "stream",
     "text": [
      "  1%|▍                                     | 38/3000 [16:24<21:34:45, 26.23s/it]"
     ]
    },
    {
     "name": "stdout",
     "output_type": "stream",
     "text": [
      "mean tensor([ 0.0051, -0.0061, -0.0143,  0.0115,  0.0174, -0.0007, -0.0166])\n",
      "sigma tensor([0.0274, 0.0245, 0.0271, 0.0245, 0.0245, 0.0258, 0.0317])\n",
      "Average return: 3.999999999999999\n",
      "Circuit fidelity: 0.9992650351367836\n",
      "Avg gate fidelity: [0.99895881]\n",
      "{'reset_stage': False, 'step': 38, 'average gate fidelity': array([0.99895881]), 'average return': 3.999999999999999, 'circuit fidelity': 0.9992650351367836, 'max return': 5.333333333333335, 'max circuit fidelity': 0.9994018111685592, 'max avg gate fidelity': [0.9992006505769201], 'arg max avg gate fidelity': [1], 'arg max return': 15, 'arg max circuit fidelity': 1, 'best action': array([ 0.00715834, -0.00630317, -0.01835124,  0.0133325 ,  0.01729651,\n",
      "        0.00021029, -0.01743464]), 'truncation_index': 0, 'input_state': 'PauliPreparationBasis[0, 0]', 'observable': SparsePauliOp(['II', 'IZ', 'ZI', 'ZZ'],\n",
      "              coeffs=[0.5+0.j, 0.5+0.j, 0.5+0.j, 0.5+0.j])}\n",
      "Sending job...\n",
      "Job done\n"
     ]
    },
    {
     "name": "stderr",
     "output_type": "stream",
     "text": [
      "  1%|▍                                     | 39/3000 [16:46<20:29:26, 24.91s/it]"
     ]
    },
    {
     "name": "stdout",
     "output_type": "stream",
     "text": [
      "mean tensor([ 0.0054, -0.0061, -0.0149,  0.0117,  0.0179, -0.0007, -0.0171])\n",
      "sigma tensor([0.0275, 0.0245, 0.0271, 0.0244, 0.0245, 0.0258, 0.0318])\n",
      "Average return: 4.000000000000001\n",
      "Circuit fidelity: 0.999281165725429\n",
      "Avg gate fidelity: [0.99897957]\n",
      "{'reset_stage': False, 'step': 39, 'average gate fidelity': array([0.99897957]), 'average return': 4.000000000000001, 'circuit fidelity': 0.999281165725429, 'max return': 5.333333333333335, 'max circuit fidelity': 0.9994018111685592, 'max avg gate fidelity': [0.9992006505769201], 'arg max avg gate fidelity': [1], 'arg max return': 15, 'arg max circuit fidelity': 1, 'best action': array([ 0.00715834, -0.00630317, -0.01835124,  0.0133325 ,  0.01729651,\n",
      "        0.00021029, -0.01743464]), 'truncation_index': 0, 'input_state': 'PauliPreparationBasis[0, 1]', 'observable': SparsePauliOp(['II', 'IZ', 'ZI', 'ZZ'],\n",
      "              coeffs=[ 0.5+0.j,  0.5+0.j, -0.5+0.j, -0.5+0.j])}\n",
      "Sending job...\n"
     ]
    },
    {
     "name": "stderr",
     "output_type": "stream",
     "text": [
      "  1%|▍                                     | 39/3000 [17:01<21:32:35, 26.19s/it]\n"
     ]
    },
    {
     "ename": "KeyboardInterrupt",
     "evalue": "",
     "output_type": "error",
     "traceback": [
      "\u001b[0;31m---------------------------------------------------------------------------\u001b[0m",
      "\u001b[0;31mKeyboardInterrupt\u001b[0m                         Traceback (most recent call last)",
      "Cell \u001b[0;32mIn[11], line 26\u001b[0m\n\u001b[1;32m     24\u001b[0m logprobs[step] \u001b[38;5;241m=\u001b[39m logprob\n\u001b[1;32m     25\u001b[0m \u001b[38;5;66;03m# next_obs, reward, terminated, truncated, infos = torch_env.step(action.cpu().numpy())\u001b[39;00m\n\u001b[0;32m---> 26\u001b[0m next_obs, reward, terminated, truncated, infos \u001b[38;5;241m=\u001b[39m \u001b[43mtorch_env\u001b[49m\u001b[38;5;241;43m.\u001b[39;49m\u001b[43mstep\u001b[49m\u001b[43m(\u001b[49m\u001b[43maction\u001b[49m\u001b[38;5;241;43m.\u001b[39;49m\u001b[43mcpu\u001b[49m\u001b[43m(\u001b[49m\u001b[43m)\u001b[49m\u001b[38;5;241;43m.\u001b[39;49m\u001b[43mnumpy\u001b[49m\u001b[43m(\u001b[49m\u001b[43m)\u001b[49m\u001b[43m)\u001b[49m\n\u001b[1;32m     27\u001b[0m done \u001b[38;5;241m=\u001b[39m np\u001b[38;5;241m.\u001b[39mlogical_or(terminated, truncated)\n\u001b[1;32m     28\u001b[0m rewards[step] \u001b[38;5;241m=\u001b[39m torch\u001b[38;5;241m.\u001b[39mtensor(reward)\u001b[38;5;241m.\u001b[39mto(device)\n",
      "File \u001b[0;32m~/Library/CloudStorage/OneDrive-NationalUniversityofSingapore/Coding_projects/Quantum_Optimal_Control/torch_gate_calibration/torch_quantum_environment.py:529\u001b[0m, in \u001b[0;36mTorchQuantumEnvironment.step\u001b[0;34m(self, action)\u001b[0m\n\u001b[1;32m    527\u001b[0m terminated \u001b[38;5;241m=\u001b[39m \u001b[38;5;28;01mTrue\u001b[39;00m\n\u001b[1;32m    528\u001b[0m \u001b[38;5;28mself\u001b[39m\u001b[38;5;241m.\u001b[39m_episode_ended \u001b[38;5;241m=\u001b[39m terminated\n\u001b[0;32m--> 529\u001b[0m reward_table \u001b[38;5;241m=\u001b[39m \u001b[38;5;28;43mself\u001b[39;49m\u001b[38;5;241;43m.\u001b[39;49m\u001b[43mcompute_reward\u001b[49m\u001b[43m(\u001b[49m\u001b[43m)\u001b[49m\n\u001b[1;32m    530\u001b[0m \u001b[38;5;28;01mif\u001b[39;00m \u001b[38;5;28mself\u001b[39m\u001b[38;5;241m.\u001b[39m_intermediate_rewards:\n\u001b[1;32m    531\u001b[0m     obs \u001b[38;5;241m=\u001b[39m reward_table\n",
      "File \u001b[0;32m~/Library/CloudStorage/OneDrive-NationalUniversityofSingapore/Coding_projects/Quantum_Optimal_Control/torch_gate_calibration/torch_quantum_environment.py:445\u001b[0m, in \u001b[0;36mTorchQuantumEnvironment.compute_reward\u001b[0;34m(self, fidelity_access)\u001b[0m\n\u001b[1;32m    438\u001b[0m \u001b[38;5;28mprint\u001b[39m(\u001b[38;5;124m\"\u001b[39m\u001b[38;5;124mSending job...\u001b[39m\u001b[38;5;124m\"\u001b[39m)\n\u001b[1;32m    439\u001b[0m job \u001b[38;5;241m=\u001b[39m \u001b[38;5;28mself\u001b[39m\u001b[38;5;241m.\u001b[39mestimator\u001b[38;5;241m.\u001b[39mrun(circuits\u001b[38;5;241m=\u001b[39m[training_circ] \u001b[38;5;241m*\u001b[39m \u001b[38;5;28mself\u001b[39m\u001b[38;5;241m.\u001b[39mbatch_size,\n\u001b[1;32m    440\u001b[0m                          observables\u001b[38;5;241m=\u001b[39m[observables] \u001b[38;5;241m*\u001b[39m \u001b[38;5;28mself\u001b[39m\u001b[38;5;241m.\u001b[39mbatch_size,\n\u001b[1;32m    441\u001b[0m                          parameter_values\u001b[38;5;241m=\u001b[39mreshaped_params,\n\u001b[1;32m    442\u001b[0m                          shots\u001b[38;5;241m=\u001b[39m\u001b[38;5;28mself\u001b[39m\u001b[38;5;241m.\u001b[39msampling_Pauli_space \u001b[38;5;241m*\u001b[39m \u001b[38;5;28mself\u001b[39m\u001b[38;5;241m.\u001b[39mn_shots,\n\u001b[1;32m    443\u001b[0m                          job_tags\u001b[38;5;241m=\u001b[39m[\u001b[38;5;124mf\u001b[39m\u001b[38;5;124m\"\u001b[39m\u001b[38;5;124mrl_qoc_step\u001b[39m\u001b[38;5;132;01m{\u001b[39;00m\u001b[38;5;28mself\u001b[39m\u001b[38;5;241m.\u001b[39m_step_tracker\u001b[38;5;132;01m}\u001b[39;00m\u001b[38;5;124m\"\u001b[39m])\n\u001b[0;32m--> 445\u001b[0m reward_table \u001b[38;5;241m=\u001b[39m \u001b[43mjob\u001b[49m\u001b[38;5;241;43m.\u001b[39;49m\u001b[43mresult\u001b[49m\u001b[43m(\u001b[49m\u001b[43m)\u001b[49m\u001b[38;5;241m.\u001b[39mvalues\n\u001b[1;32m    446\u001b[0m scaling_reward_factor \u001b[38;5;241m=\u001b[39m \u001b[38;5;28mlen\u001b[39m(observables) \u001b[38;5;241m/\u001b[39m \u001b[38;5;241m4\u001b[39m\u001b[38;5;241m*\u001b[39m\u001b[38;5;241m*\u001b[39m\u001b[38;5;28mlen\u001b[39m(\u001b[38;5;28mself\u001b[39m\u001b[38;5;241m.\u001b[39mtgt_register)\n\u001b[1;32m    447\u001b[0m reward_table \u001b[38;5;241m/\u001b[39m\u001b[38;5;241m=\u001b[39m (scaling_reward_factor \u001b[38;5;241m*\u001b[39m np\u001b[38;5;241m.\u001b[39mmean(reward_table))\n",
      "File \u001b[0;32m~/opt/anaconda3/envs/rl_qoc/lib/python3.9/site-packages/qiskit_ibm_runtime/runtime_job.py:216\u001b[0m, in \u001b[0;36mRuntimeJob.result\u001b[0;34m(self, timeout, decoder)\u001b[0m\n\u001b[1;32m    214\u001b[0m _decoder \u001b[38;5;241m=\u001b[39m decoder \u001b[38;5;129;01mor\u001b[39;00m \u001b[38;5;28mself\u001b[39m\u001b[38;5;241m.\u001b[39m_final_result_decoder\n\u001b[1;32m    215\u001b[0m \u001b[38;5;28;01mif\u001b[39;00m \u001b[38;5;28mself\u001b[39m\u001b[38;5;241m.\u001b[39m_results \u001b[38;5;129;01mis\u001b[39;00m \u001b[38;5;28;01mNone\u001b[39;00m \u001b[38;5;129;01mor\u001b[39;00m (_decoder \u001b[38;5;241m!=\u001b[39m \u001b[38;5;28mself\u001b[39m\u001b[38;5;241m.\u001b[39m_final_result_decoder):\n\u001b[0;32m--> 216\u001b[0m     \u001b[38;5;28;43mself\u001b[39;49m\u001b[38;5;241;43m.\u001b[39;49m\u001b[43mwait_for_final_state\u001b[49m\u001b[43m(\u001b[49m\u001b[43mtimeout\u001b[49m\u001b[38;5;241;43m=\u001b[39;49m\u001b[43mtimeout\u001b[49m\u001b[43m)\u001b[49m\n\u001b[1;32m    217\u001b[0m     \u001b[38;5;28;01mif\u001b[39;00m \u001b[38;5;28mself\u001b[39m\u001b[38;5;241m.\u001b[39m_status \u001b[38;5;241m==\u001b[39m JobStatus\u001b[38;5;241m.\u001b[39mERROR:\n\u001b[1;32m    218\u001b[0m         error_message \u001b[38;5;241m=\u001b[39m \u001b[38;5;28mself\u001b[39m\u001b[38;5;241m.\u001b[39m_reason \u001b[38;5;28;01mif\u001b[39;00m \u001b[38;5;28mself\u001b[39m\u001b[38;5;241m.\u001b[39m_reason \u001b[38;5;28;01melse\u001b[39;00m \u001b[38;5;28mself\u001b[39m\u001b[38;5;241m.\u001b[39m_error_message\n",
      "File \u001b[0;32m~/opt/anaconda3/envs/rl_qoc/lib/python3.9/site-packages/qiskit_ibm_runtime/runtime_job.py:304\u001b[0m, in \u001b[0;36mRuntimeJob.wait_for_final_state\u001b[0;34m(self, timeout)\u001b[0m\n\u001b[1;32m    302\u001b[0m     \u001b[38;5;28mself\u001b[39m\u001b[38;5;241m.\u001b[39m_ws_client_future \u001b[38;5;241m=\u001b[39m \u001b[38;5;28mself\u001b[39m\u001b[38;5;241m.\u001b[39m_executor\u001b[38;5;241m.\u001b[39msubmit(\u001b[38;5;28mself\u001b[39m\u001b[38;5;241m.\u001b[39m_start_websocket_client)\n\u001b[1;32m    303\u001b[0m \u001b[38;5;28;01mif\u001b[39;00m \u001b[38;5;28mself\u001b[39m\u001b[38;5;241m.\u001b[39m_is_streaming():\n\u001b[0;32m--> 304\u001b[0m     \u001b[38;5;28;43mself\u001b[39;49m\u001b[38;5;241;43m.\u001b[39;49m\u001b[43m_ws_client_future\u001b[49m\u001b[38;5;241;43m.\u001b[39;49m\u001b[43mresult\u001b[49m\u001b[43m(\u001b[49m\u001b[43mtimeout\u001b[49m\u001b[43m)\u001b[49m\n\u001b[1;32m    305\u001b[0m \u001b[38;5;66;03m# poll for status after stream has closed until status is final\u001b[39;00m\n\u001b[1;32m    306\u001b[0m \u001b[38;5;66;03m# because status doesn't become final as soon as stream closes\u001b[39;00m\n\u001b[1;32m    307\u001b[0m status \u001b[38;5;241m=\u001b[39m \u001b[38;5;28mself\u001b[39m\u001b[38;5;241m.\u001b[39mstatus()\n",
      "File \u001b[0;32m~/opt/anaconda3/envs/rl_qoc/lib/python3.9/concurrent/futures/_base.py:441\u001b[0m, in \u001b[0;36mFuture.result\u001b[0;34m(self, timeout)\u001b[0m\n\u001b[1;32m    438\u001b[0m \u001b[38;5;28;01melif\u001b[39;00m \u001b[38;5;28mself\u001b[39m\u001b[38;5;241m.\u001b[39m_state \u001b[38;5;241m==\u001b[39m FINISHED:\n\u001b[1;32m    439\u001b[0m     \u001b[38;5;28;01mreturn\u001b[39;00m \u001b[38;5;28mself\u001b[39m\u001b[38;5;241m.\u001b[39m__get_result()\n\u001b[0;32m--> 441\u001b[0m \u001b[38;5;28;43mself\u001b[39;49m\u001b[38;5;241;43m.\u001b[39;49m\u001b[43m_condition\u001b[49m\u001b[38;5;241;43m.\u001b[39;49m\u001b[43mwait\u001b[49m\u001b[43m(\u001b[49m\u001b[43mtimeout\u001b[49m\u001b[43m)\u001b[49m\n\u001b[1;32m    443\u001b[0m \u001b[38;5;28;01mif\u001b[39;00m \u001b[38;5;28mself\u001b[39m\u001b[38;5;241m.\u001b[39m_state \u001b[38;5;129;01min\u001b[39;00m [CANCELLED, CANCELLED_AND_NOTIFIED]:\n\u001b[1;32m    444\u001b[0m     \u001b[38;5;28;01mraise\u001b[39;00m CancelledError()\n",
      "File \u001b[0;32m~/opt/anaconda3/envs/rl_qoc/lib/python3.9/threading.py:312\u001b[0m, in \u001b[0;36mCondition.wait\u001b[0;34m(self, timeout)\u001b[0m\n\u001b[1;32m    310\u001b[0m \u001b[38;5;28;01mtry\u001b[39;00m:    \u001b[38;5;66;03m# restore state no matter what (e.g., KeyboardInterrupt)\u001b[39;00m\n\u001b[1;32m    311\u001b[0m     \u001b[38;5;28;01mif\u001b[39;00m timeout \u001b[38;5;129;01mis\u001b[39;00m \u001b[38;5;28;01mNone\u001b[39;00m:\n\u001b[0;32m--> 312\u001b[0m         \u001b[43mwaiter\u001b[49m\u001b[38;5;241;43m.\u001b[39;49m\u001b[43macquire\u001b[49m\u001b[43m(\u001b[49m\u001b[43m)\u001b[49m\n\u001b[1;32m    313\u001b[0m         gotit \u001b[38;5;241m=\u001b[39m \u001b[38;5;28;01mTrue\u001b[39;00m\n\u001b[1;32m    314\u001b[0m     \u001b[38;5;28;01melse\u001b[39;00m:\n",
      "\u001b[0;31mKeyboardInterrupt\u001b[0m: "
     ]
    }
   ],
   "source": [
    "for update in tqdm.tqdm(range(1, num_updates + 1)):\n",
    "    next_obs, _ = torch_env.reset(seed=seed)\n",
    "    num_steps = torch_env.episode_length(global_step)\n",
    "    next_obs = torch.Tensor(np.array([next_obs] * batchsize)).to(device)\n",
    "    next_done = torch.zeros(batchsize).to(device)\n",
    "\n",
    "    # print(\"episode length:\", num_steps)\n",
    "\n",
    "    for step in range(num_steps):\n",
    "        global_step += 1\n",
    "        obs[step] = next_obs\n",
    "        dones[step] = next_done\n",
    "\n",
    "        with torch.no_grad():\n",
    "            mean_action, std_action, critic_value = agent(next_obs)\n",
    "            mean_action*=scale_factor\n",
    "            std_action*=scale_factor\n",
    "            probs = Normal(mean_action, std_action)\n",
    "            action = torch.clip(probs.sample(), torch.Tensor(np.array(min_bound_actions)), torch.Tensor(np.array(max_bound_actions)))\n",
    "            logprob = probs.log_prob(action).sum(1)\n",
    "            values[step] = critic_value.flatten()\n",
    "\n",
    "        actions[step] = action\n",
    "        logprobs[step] = logprob\n",
    "        # next_obs, reward, terminated, truncated, infos = torch_env.step(action.cpu().numpy())\n",
    "        next_obs, reward, terminated, truncated, infos = torch_env.step(action.cpu().numpy())\n",
    "        done = np.logical_or(terminated, truncated)\n",
    "        rewards[step] = torch.tensor(reward).to(device)\n",
    "        next_obs = torch.Tensor(np.array([next_obs] * batchsize)).to(device)\n",
    "        next_done = torch.Tensor(np.array([int(done)] * batchsize)).to(device)\n",
    "        # Only print when at least 1 env is done\n",
    "\n",
    "        # print(f\"global_step={global_step}, episodic_return={np.mean(reward)}\")\n",
    "        writer.add_scalar(\"charts/episodic_return\", np.mean(reward), global_step)\n",
    "        writer.add_scalar(\"charts/episodic_length\", num_steps, global_step)\n",
    "\n",
    "    # bootstrap value if not done\n",
    "    with torch.no_grad():\n",
    "        next_value = agent.get_value(next_obs).reshape(1, -1)\n",
    "        advantages = torch.zeros_like(rewards).to(device)\n",
    "        lastgaelam = 0\n",
    "        for t in reversed(range(num_steps)):\n",
    "            if t == num_steps - 1:\n",
    "                nextnonterminal = 1.0 - next_done\n",
    "                nextvalues = next_value\n",
    "            else:\n",
    "                nextnonterminal = 1.0 - dones[t + 1]\n",
    "                nextvalues = values[t + 1]\n",
    "            delta = rewards[t] + gamma * nextvalues * nextnonterminal - values[t]\n",
    "            advantages[t] = lastgaelam = delta + gamma * gae_lambda * nextnonterminal * lastgaelam\n",
    "        returns = advantages + values\n",
    "\n",
    "    # flatten the batch\n",
    "    b_obs = obs.reshape((-1,) + torch_env.observation_space.shape)\n",
    "    b_logprobs = logprobs.reshape(-1)\n",
    "    b_actions = actions.reshape((-1,) + torch_env.action_space.shape)\n",
    "    b_advantages = advantages.reshape(-1)\n",
    "    b_returns = returns.reshape(-1)\n",
    "    b_values = values.reshape(-1)\n",
    "\n",
    "    # Optimizing the policy and value network\n",
    "    b_inds = np.arange(batchsize)\n",
    "    clipfracs = []\n",
    "    for epoch in range(n_epochs):\n",
    "        np.random.shuffle(b_inds)\n",
    "        for start in range(0, batchsize, minibatch_size):\n",
    "            end = start + minibatch_size\n",
    "            mb_inds = b_inds[start:end]\n",
    "            new_mean, new_sigma, new_value = agent(b_obs[mb_inds])\n",
    "            new_dist = Normal(new_mean, new_sigma)\n",
    "            new_logprob, entropy = new_dist.log_prob(b_actions[mb_inds]).sum(1), new_dist.entropy().sum(1)\n",
    "            logratio = new_logprob - b_logprobs[mb_inds] + torch.log(torch.Tensor([1e-6]))\n",
    "            ratio = logratio.exp()\n",
    "            #print('new_logprob', new_logprob)\n",
    "            #print('b_logprobs[mb_inds]', b_logprobs[mb_inds])\n",
    "            #print(\"logratio\", logratio)\n",
    "            #print('ratio', ratio)\n",
    "            with torch.no_grad():\n",
    "                # calculate approx_kl http://joschu.net/blog/kl-approx.html\n",
    "                old_approx_kl = (-logratio).mean()\n",
    "                approx_kl = ((ratio - 1) - logratio).mean()\n",
    "                clipfracs += [((ratio - 1.0).abs() > epsilon).float().mean().item()]\n",
    "\n",
    "            mb_advantages = b_advantages[mb_inds]\n",
    "            if normalize_advantage:  # Normalize advantage\n",
    "                mb_advantages = (mb_advantages - mb_advantages.mean()) / (mb_advantages.std() + 1e-8)\n",
    "\n",
    "            # Policy loss\n",
    "            pg_loss1 = -mb_advantages * ratio\n",
    "            pg_loss2 = -mb_advantages * torch.clamp(ratio, 1 - epsilon, 1 + epsilon)\n",
    "            pg_loss = torch.max(pg_loss1, pg_loss2).mean()\n",
    "\n",
    "            # Value loss\n",
    "            newvalue = new_value.view(-1)\n",
    "            if clip_vloss:\n",
    "                v_loss_unclipped = (newvalue - b_returns[mb_inds]) ** 2\n",
    "                v_clipped = b_values[mb_inds] + torch.clamp(\n",
    "                    newvalue - b_values[mb_inds],\n",
    "                    -clip_coef,\n",
    "                    clip_coef,\n",
    "                )\n",
    "                v_loss_clipped = (v_clipped - b_returns[mb_inds]) ** 2\n",
    "                v_loss_max = torch.max(v_loss_unclipped, v_loss_clipped)\n",
    "                v_loss = 0.5 * v_loss_max.mean()\n",
    "            else:\n",
    "                v_loss = 0.5 * ((newvalue - b_returns[mb_inds]) ** 2).mean()\n",
    "\n",
    "            entropy_loss = entropy.mean()\n",
    "            loss = pg_loss - ent_coef * entropy_loss + v_loss * critic_loss_coeff\n",
    "\n",
    "            optimizer.zero_grad()\n",
    "            loss.backward()\n",
    "            nn.utils.clip_grad_norm_(agent.parameters(), grad_clip)\n",
    "            optimizer.step()\n",
    "\n",
    "    y_pred, y_true = b_values.cpu().numpy(), b_returns.cpu().numpy()\n",
    "    var_y = np.var(y_true)\n",
    "    explained_var = np.nan if var_y == 0 else 1 - np.var(y_true - y_pred) / var_y\n",
    "    print(\"mean\", mean_action[0])\n",
    "    print(\"sigma\", std_action[0])\n",
    "    print(\"Average return:\", np.mean(torch_env.reward_history, axis=1)[-1])\n",
    "    # print(np.mean(torch_env.reward_history, axis =1)[-1])\n",
    "    print(\"Circuit fidelity:\", torch_env.circuit_fidelity_history[-1])\n",
    "    print(\"Avg gate fidelity:\", torch_env.avg_fidelity_history[-1])   \n",
    "    print(torch_env._get_info())\n",
    "    # TRY NOT TO MODIFY: record rewards for plotting purposes\n",
    "    writer.add_scalar(\"charts/learning_rate\", optimizer.param_groups[0][\"lr\"], global_step)\n",
    "    writer.add_scalar(\"losses/value_loss\", v_loss.item(), global_step)\n",
    "    writer.add_scalar(\"losses/avg_return\", np.mean(torch_env.reward_history, axis=1)[-1], global_step)\n",
    "    for i in range(num_steps):\n",
    "        writer.add_scalar(f\"losses/avg_gate_{i}_fidelity\", torch_env.avg_fidelity_history[-1][i], global_step)\n",
    "    writer.add_scalar(\"losses/circuit_fidelity\", torch_env.circuit_fidelity_history[-1], global_step)\n",
    "    writer.add_scalar(\"losses/policy_loss\", pg_loss.item(), global_step)\n",
    "    writer.add_scalar(\"losses/entropy\", entropy_loss.item(), global_step)\n",
    "    writer.add_scalar(\"losses/old_approx_kl\", old_approx_kl.item(), global_step)\n",
    "    writer.add_scalar(\"losses/approx_kl\", approx_kl.item(), global_step)\n",
    "    writer.add_scalar(\"losses/clipfrac\", np.mean(clipfracs), global_step)\n",
    "    writer.add_scalar(\"losses/explained_variance\", explained_var, global_step)\n",
    "    if global_step%visualization_steps == 0:\n",
    "        clear_output(wait=True) # for animation\n",
    "\n",
    "torch_env.close()\n",
    "writer.close()\n"
   ]
  },
  {
   "cell_type": "code",
   "execution_count": 12,
   "id": "6cfbbb8c-a6fa-430e-b3c8-1db14cf8f8ef",
   "metadata": {},
   "outputs": [],
   "source": [
    "torch_env.close()\n",
    "writer.close()"
   ]
  },
  {
   "cell_type": "code",
   "execution_count": 13,
   "id": "eea0e566-e5f1-41b5-8c4f-b02d5b6fb3bd",
   "metadata": {
    "tags": []
   },
   "outputs": [
    {
     "data": {
      "text/plain": [
       "[<matplotlib.lines.Line2D at 0x7fd886289160>]"
      ]
     },
     "execution_count": 13,
     "metadata": {},
     "output_type": "execute_result"
    },
    {
     "data": {
      "image/png": "[encoded data removed]",
      "text/plain": [
       "<Figure size 640x480 with 1 Axes>"
      ]
     },
     "metadata": {},
     "output_type": "display_data"
    }
   ],
   "source": [
    "import matplotlib.pyplot as plt\n",
    "plt.plot(torch_env.circuit_fidelity_history)"
   ]
  },
  {
   "cell_type": "code",
   "execution_count": 14,
   "id": "7c51ed63-ec4d-4516-af1e-5920908109a5",
   "metadata": {
    "tags": []
   },
   "outputs": [
    {
     "data": {
      "text/plain": [
       "[<matplotlib.lines.Line2D at 0x7fd88737a070>]"
      ]
     },
     "execution_count": 14,
     "metadata": {},
     "output_type": "execute_result"
    },
    {
     "data": {
      "image/png": "[encoded data removed]",
      "text/plain": [
       "<Figure size 640x480 with 1 Axes>"
      ]
     },
     "metadata": {},
     "output_type": "display_data"
    }
   ],
   "source": [
    "plt.plot(torch_env.avg_fidelity_history)"
   ]
  },
  {
   "cell_type": "code",
   "execution_count": 15,
   "id": "9b4df81d-506d-49cb-9127-3597b16745f0",
   "metadata": {
    "tags": []
   },
   "outputs": [
    {
     "data": {
      "text/plain": [
       "[<matplotlib.lines.Line2D at 0x7fd8878078b0>]"
      ]
     },
     "execution_count": 15,
     "metadata": {},
     "output_type": "execute_result"
    },
    {
     "data": {
      "image/png": "[encoded data removed]",
      "text/plain": [
       "<Figure size 640x480 with 1 Axes>"
      ]
     },
     "metadata": {},
     "output_type": "display_data"
    }
   ],
   "source": [
    "plt.plot(np.mean(torch_env.reward_history, axis=1))"
   ]
  },
  {
   "cell_type": "code",
   "execution_count": 16,
   "id": "a3d2a326-4ff6-49c4-b784-ceda85b095be",
   "metadata": {
    "tags": []
   },
   "outputs": [
    {
     "data": {
      "text/plain": [
       "0.20009201464808402"
      ]
     },
     "execution_count": 16,
     "metadata": {},
     "output_type": "execute_result"
    }
   ],
   "source": [
    "from qiskit.quantum_info import Operator, average_gate_fidelity\n",
    "from qiskit.circuit.library.standard_gates import CXGate\n",
    "my_qc = QuantumCircuit(2, name=\"custom_cx\")\n",
    "optimal_params = [0., 0., 0.5, 0.5, -0.5, 0.5, -0.5]\n",
    "params = [-0.0062,  0.2190,  0.9921,  0.9924, -0.9921,  0.9910, -0.9907]\n",
    "my_qc.u(np.pi * params[0], np.pi * params[1], np.pi * params[2], 0)\n",
    "my_qc.u(np.pi * params[3], np.pi * params[4], np.pi * params[5], 1)\n",
    "my_qc.rzx(np.pi * params[6], 0, 1)\n",
    "average_gate_fidelity(Operator(my_qc), Operator(CXGate()))"
   ]
  },
  {
   "cell_type": "code",
   "execution_count": 17,
   "id": "fd51fc83-70de-403c-add0-8f62497f4d75",
   "metadata": {
    "tags": []
   },
   "outputs": [
    {
     "ename": "SyntaxError",
     "evalue": "invalid syntax (2427439725.py, line 1)",
     "output_type": "error",
     "traceback": [
      "\u001b[0;36m  Cell \u001b[0;32mIn[17], line 1\u001b[0;36m\u001b[0m\n\u001b[0;31m    mean tensor([ 0.0706, -0.0553,  0.0329,  0.0496, -0.1285,  0.1071,  0.1628])\u001b[0m\n\u001b[0m         ^\u001b[0m\n\u001b[0;31mSyntaxError\u001b[0m\u001b[0;31m:\u001b[0m invalid syntax\n"
     ]
    }
   ],
   "source": [
    "mean tensor([ 0.0706, -0.0553,  0.0329,  0.0496, -0.1285,  0.1071,  0.1628])\n",
    "sigma tensor([0.4565, 0.4977, 0.5308, 0.5297, 0.4840, 0.5090, 0.5176])"
   ]
  }
 ],
 "metadata": {
  "kernelspec": {
   "display_name": "Python 3 (ipykernel)",
   "language": "python",
   "name": "python3"
  },
  "language_info": {
   "codemirror_mode": {
    "name": "ipython",
    "version": 3
   },
   "file_extension": ".py",
   "mimetype": "text/x-python",
   "name": "python",
   "nbconvert_exporter": "python",
   "pygments_lexer": "ipython3",
   "version": "3.9.16"
  },
  "toc-autonumbering": true
 },
 "nbformat": 4,
 "nbformat_minor": 5
}
