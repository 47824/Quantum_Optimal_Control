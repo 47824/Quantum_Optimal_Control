{
 "cells": [
  {
   "cell_type": "markdown",
   "id": "b12bc6a1-4343-44e0-87d0-382f37d93d81",
   "metadata": {},
   "source": [
    "# Context aware pulse gate calibration with Reinforcement Learning"
   ]
  },
  {
   "cell_type": "code",
   "execution_count": 1,
   "id": "0b888496-4b36-4a63-817e-2ca4137e6ad7",
   "metadata": {
    "tags": []
   },
   "outputs": [],
   "source": [
    "import os\n",
    "os.environ['KMP_DUPLICATE_LIB_OK'] = 'True'\n",
    "import sys\n",
    "module_path = os.path.abspath(os.path.join('/Users/arthurstrauss/Library/CloudStorage/OneDrive-NationalUniversityofSingapore/Coding_projects/Quantum_Optimal_Control'))\n",
    "if module_path not in sys.path:\n",
    "    sys.path.append(module_path)"
   ]
  },
  {
   "cell_type": "code",
   "execution_count": 2,
   "id": "cc45931e-f117-412a-b9ca-c65738633a7b",
   "metadata": {
    "tags": []
   },
   "outputs": [
    {
     "name": "stderr",
     "output_type": "stream",
     "text": [
      "/Users/arthurstrauss/opt/anaconda3/envs/rl_qoc/lib/python3.9/site-packages/qiskit_dynamics/dispatch/backends/jax.py:34: UserWarning: The functionality in the perturbation module of Qiskit Dynamics requires a JAX version <= 0.4.6, due to a bug in JAX versions > 0.4.6. For versions 0.4.4, 0.4.5, and 0.4.6, using the perturbation module functionality requires setting os.environ['JAX_JIT_PJIT_API_MERGE'] = '0' before importing JAX or Dynamics.\n",
      "  warnings.warn(\n"
     ]
    }
   ],
   "source": [
    "# Qiskit imports\n",
    "from qiskit import pulse, transpile\n",
    "from qiskit.transpiler import InstructionDurations\n",
    "from qiskit.circuit import ParameterVector, QuantumCircuit, QuantumRegister, Gate, CircuitInstruction\n",
    "\n",
    "from qconfig import QiskitConfig\n",
    "from quantumenvironment import QuantumEnvironment\n",
    "from torch.distributions import Normal\n",
    "\n",
    "import numpy as np\n",
    "import tqdm\n",
    "import time\n",
    "from typing import Union, Optional, List, Sequence\n",
    "from IPython.display import clear_output"
   ]
  },
  {
   "cell_type": "markdown",
   "id": "c9e1b780-6e09-4b4f-8f0c-b1709942392c",
   "metadata": {
    "tags": []
   },
   "source": [
    "# Circuit macros for environment"
   ]
  },
  {
   "cell_type": "code",
   "execution_count": 3,
   "id": "dde4d71b-054b-4e0e-8b27-5efdde149fc5",
   "metadata": {
    "tags": []
   },
   "outputs": [],
   "source": [
    "from qiskit.providers import Backend, BackendV1, BackendV2\n",
    "from qiskit_experiments.calibration_management import Calibrations\n",
    "from basis_gate_library import FixedFrequencyTransmon, EchoedCrossResonance\n",
    "from copy import deepcopy\n",
    "from helper_functions import determine_ecr_params\n",
    "def custom_schedule(backend: Backend, physical_qubits: list, params: ParameterVector, keep_symmetry:bool=True):\n",
    "    \"\"\"\n",
    "    Define parametrization of the pulse schedule characterizing the target gate\n",
    "        :param backend: IBM Backend on which schedule shall be added\n",
    "        :param physical_qubits: Physical qubits on which custom gate is applied on\n",
    "        :param params: Parameters of the Schedule/Custom gate\n",
    "        :param keep_symmetry: Choose if the two parts of the ECR tone shall be jointly parametrized or not\n",
    "\n",
    "        :return: Parametrized Schedule\n",
    "    \"\"\"\n",
    "    basis_gates = basis_gate = None\n",
    "    if isinstance(backend, BackendV1):\n",
    "        basis_gates = backend.configuration().basis_gates\n",
    "    elif isinstance(backend, BackendV2):\n",
    "        basis_gates = backend.operation_names\n",
    "        \n",
    "    if \"cx\" in basis_gates:\n",
    "        basis_gate = \"cx\"\n",
    "    elif \"ecr\" in basis_gates:\n",
    "        basis_gate = \"ecr\"\n",
    "    else:\n",
    "        raise ValueError(\"No identifiable two-qubit gate found, must be 'cx' or 'ecr'\")\n",
    "    default_params, instructions, pulses = determine_ecr_params(backend, physical_qubits, basis_gate=basis_gate)\n",
    "    new_params = deepcopy(default_params)\n",
    "    duration_window = 0\n",
    "    qubits = tuple(physical_qubits)\n",
    "    # Load here all parameters that should be tuned during model-free calibration\n",
    "    # Here we focus on real time tunable pulse parameters (amp, angle, duration)\n",
    "    \n",
    "    if keep_symmetry: # Maintain symmetry between the two GaussianSquare pulses\n",
    "        for sched in [\"cr45p\", \"cr45m\"]: \n",
    "            new_params[(\"amp\", qubits, sched)] += params[0]\n",
    "            new_params[(\"angle\", qubits, sched)] += params[1]\n",
    "            new_params[(\"tgt_amp\", qubits, sched)] += params[2]\n",
    "            new_params[(\"tgt_angle\", qubits, sched)] += params[3]\n",
    "    else:\n",
    "        num_params_per_pulse = 4 # To be changed if parametrization below changes as well\n",
    "        for i, sched in enumerate([\"cr45p\", \"cr45m\"]): \n",
    "            new_params[(\"amp\", qubits, sched)] += params[i*num_params_per_pulse]\n",
    "            new_params[(\"angle\", qubits, sched)] += params[i*num_params_per_pulse + 1]\n",
    "            new_params[(\"tgt_amp\", qubits, sched)] += params[i*num_params_per_pulse + 2]\n",
    "            new_params[(\"tgt_angle\", qubits, sched)] += params[i*num_params_per_pulse + 3]\n",
    "    #new_params[(\"duration\", qubits, \"ecr\")] += pulse.builder.seconds_to_samples(duration_window * params[4])\n",
    "    \n",
    "    cals = Calibrations.from_backend(backend, \n",
    "                                     [FixedFrequencyTransmon([\"x\", \"sx\"]),\n",
    "                                      EchoedCrossResonance([\"cr45p\", \"cr45m\", \"ecr\"])],\n",
    "                                     add_parameter_defaults=True)\n",
    "\n",
    "    \n",
    "    # Retrieve schedule (for now, works only with ECRGate(), as no library yet available for CX)\n",
    "    if basis_gate == \"cx\":\n",
    "        raise Warning(\"Basis gate Library for CX gate not yet available, will be transpiled over ECR basis gate\")\n",
    "    \n",
    "    parametrized_schedule = cals.get_schedule(\"ecr\", physical_qubits, assign_params=new_params)\n",
    "    return parametrized_schedule"
   ]
  },
  {
   "cell_type": "code",
   "execution_count": 4,
   "id": "2d7a1c23-b32a-49e6-b50a-a9007e4cb4cc",
   "metadata": {
    "tags": []
   },
   "outputs": [],
   "source": [
    "# Pulse gate ansatz\n",
    "\n",
    "def apply_parametrized_circuit(qc: QuantumCircuit, params: Optional[ParameterVector]=None, tgt_register: Optional[QuantumRegister]=None):\n",
    "    \"\"\"\n",
    "    Define ansatz circuit to be played on Quantum Computer. Should be parametrized with Qiskit ParameterVector\n",
    "    This function is used to run the QuantumCircuit instance on a Runtime backend\n",
    "    :param qc: Quantum Circuit instance to add the gate on\n",
    "    :param params: Parameters of the custom Gate\n",
    "    :param tgt_register: Quantum Register formed of target qubits\n",
    "    :return:\n",
    "    \"\"\"\n",
    "    # qc.num_qubits\n",
    "    global n_actions, backend, physical_qubits, default_params, cx_instructions\n",
    "    \n",
    "    # x_pulse = backend.defaults().instruction_schedule_map.get('x', (qubit_tgt_register,)).instructions[0][1].pulse\n",
    "    if params is None:\n",
    "        params = ParameterVector('theta', n_actions)\n",
    "    if tgt_register is None:\n",
    "        tgt_register = qc.qregs[0]\n",
    "    # original_calibration = backend.instruction_schedule_map.get(target[\"name\"])\n",
    "\n",
    "    parametrized_gate = Gate(\"custom_ecr\", 2, params=params.params)\n",
    "    parametrized_schedule = custom_schedule(backend=backend, physical_qubits=physical_qubits, params=params)\n",
    "    qc.add_calibration(parametrized_gate, physical_qubits, parametrized_schedule)\n",
    "    qc.append(parametrized_gate, tgt_register)"
   ]
  },
  {
   "cell_type": "markdown",
   "id": "296601c4-aa0e-4e8b-9092-290ed0cf1e0b",
   "metadata": {},
   "source": [
    "# Definition of QuantumEnvironment"
   ]
  },
  {
   "cell_type": "markdown",
   "id": "b1499dc1-1bbd-4ce9-bfc8-c794c1f97a2f",
   "metadata": {},
   "source": [
    "## Generic information characterizing the quantum system\n",
    "\n",
    "The algorithm is built upon Qiskit modules. To specify how to address our quantum system of interest, we therefore adopt the IBM approach to define a quantum backend, on which qubits are defined and can be accessed via control actions and measurements.\n",
    "\n",
    "The cell below specifies:\n",
    "- ```physical_qubits```: List of qubit indices which are specifically addressed by controls , namely the ones for which we intend to calibrate a gate upon or steer them in a specific quantum state. Note that this list could include less qubits than the total number of qubits, which can be useful when one wants to take into account crosstalk effects emerging from nearest-neigbor coupling.\n",
    "- ```sampling_Paulis```: number of Pauli observables  to be sampled from the system: the algorithm relies on the ability to process measurement outcomes to estimate the expectation value of different Pauli operators. The more observables we provide for sampling, the more properties we are able to deduce with accuracy about the actual state that was created when applying our custom controls. For a single qubit, the possible Pauli operators are $\\sigma_0=I$, $\\sigma_x=X$, $\\sigma_y=Y$, $\\sigma_z=Z$. For a general multiqubit system, the Pauli observables are tensor products of those single qubit Pauli operators. The algorithm will automatically estimate which observables are the most relevant to sample based on the provided target. The probability distribution from which those observables are sampled is derived from the Direct Fidelity Estimation (equation 3, https://link.aps.org/doi/10.1103/PhysRevLett.106.230501) algorithm. \n",
    "- ```N_shots```: Indicates how many measurements shall be done for each provided circuit (that is a specific combination of an action vector and a Pauli observable to be sampled)\n",
    "- ```n_actions```: Indicates the number of pulse/circuit parameters that characterize our parametrized quantum circuit. For our pulse level ansatz, this number will depend on the number of parameters we are willing to tune in the original two-qubit gate calibration. \n",
    "- ```estimator_options```: Options of the Qiskit Estimator primitive. The Estimator is the Qiskit module enabling an easy computation of Pauli expectation values. One can set options to make this process more reliable (typically by doing some error mitigation techniques in post-processing). Works only with Runtime Backend at the moment\n",
    "- ```abstraction_level``` chosen to encode our quantum circuit. One can choose here to stick to the usual circuit model of quantum computing, by using the ```QuantumCircuit``` objects from Qiskit and therefore set the ```abstraction_level``` to ```\"circuit\"```. However, depending on the task at hand, one can also prefer to use a pulse description of all the operations in our circuit. This is possible for both real backends and simulators by using respectively Qiskit Runtime and Qiskit Dynamics. In this case, one should define the ansatz circuit above in a pulse level fashion, and the simulation done at the Hamiltonian level, and not only via statevector calculations. In this notebook we set the ```abstraction_level``` to ```\"pulse\"```. Another notebook at the gate level is available in the repo."
   ]
  },
  {
   "cell_type": "code",
   "execution_count": 5,
   "id": "de25fe83-dfc2-4c0b-bb55-b8e8294b6a52",
   "metadata": {
    "tags": []
   },
   "outputs": [],
   "source": [
    "physical_qubits = [0, 1]\n",
    "sampling_Paulis = 10\n",
    "N_shots = 200\n",
    "n_actions = 4  # Cf number of parameters in custom_schedule function above\n",
    "abstraction_level = 'pulse'"
   ]
  },
  {
   "cell_type": "code",
   "execution_count": 6,
   "id": "484b4b97-42dd-4c20-b111-4755ff0e34ad",
   "metadata": {
    "tags": []
   },
   "outputs": [],
   "source": [
    "# Define below Runtime Options of your choice (relevant only for real backends)\n",
    "from qiskit_ibm_runtime.options import Options, ExecutionOptions, EnvironmentOptions\n",
    "estimator_options = Options(resilience_level=0, optimization_level=0, \n",
    "                            execution= ExecutionOptions(shots=N_shots*sampling_Paulis))"
   ]
  },
  {
   "cell_type": "markdown",
   "id": "6e1b1243-037e-4b3b-81ce-05d14cebcf15",
   "metadata": {},
   "source": [
    "## Setting up Quantum Backend"
   ]
  },
  {
   "cell_type": "markdown",
   "id": "81cf3ce4-bedd-4611-a247-9abfcade4b6f",
   "metadata": {
    "tags": []
   },
   "source": [
    "### Real backend initialization\n",
    "\n",
    "Uncomment the cell below to declare a Qiskit Runtime backend. You need an internet connection and an IBM Id  to access this."
   ]
  },
  {
   "cell_type": "code",
   "execution_count": 11,
   "id": "84a06c94-5b5d-476a-996c-7cea996d562d",
   "metadata": {
    "tags": []
   },
   "outputs": [],
   "source": [
    "\"\"\"\n",
    "Real backend initialization:\n",
    "Run this cell only if intending to use a real backend, where Qiskit Runtime is enabled\n",
    "\"\"\"\n",
    "from qiskit_ibm_runtime import QiskitRuntimeService\n",
    "backend_name = 'ibm_nazca'\n",
    "\n",
    "service = QiskitRuntimeService(channel='ibm_quantum', instance='ibm-q-nus/default/default')\n",
    "runtime_backend = service.get_backend(backend_name)"
   ]
  },
  {
   "cell_type": "markdown",
   "id": "01b7c1b5-c62d-4b1d-a7e7-2ab0c2cce461",
   "metadata": {
    "tags": []
   },
   "source": [
    "### Simulation backend initialization\n",
    "If you want to run the algorithm over a simulation, you can rely on Qiskit Dynamics for pulse level simulation of quantum circuits. Below we set the ground for declaring a ```DynamicsBackend```.\n",
    "\n",
    "This can be done in two ways: \n",
    "\n",
    "1. Declare a ```DynamicsBackend``` from a ```FakeBackend``` or ```IBMBackend``` instance and use the ```from_backend()``` method to retrieve the Hamiltonian description of such backend.\n",
    "2. Alternatively, you can define your own custom Hamiltonian/Linblad that should be used to simulate the multiqubit system of interest, and feed it to a ```Solver``` instance which can be used to declare the ```DynamicsBackend```.\n",
    "For more information you can check Qiskit Dynamics documentation (https://qiskit.org/documentation/dynamics/apidocs/backend.html)\n"
   ]
  },
  {
   "cell_type": "markdown",
   "id": "56cd1cf5-61e8-4744-8a07-7c0e4c36b047",
   "metadata": {
    "tags": []
   },
   "source": [
    "#### Using ```FakeBackend``` as starting point"
   ]
  },
  {
   "cell_type": "code",
   "execution_count": 12,
   "id": "457e920c-18a1-4f2f-bd07-540a99481655",
   "metadata": {},
   "outputs": [
    {
     "name": "stdout",
     "output_type": "stream",
     "text": [
      "Coupling Map:  [(5, 4), (4, 5), (1, 3), (3, 1), (6, 5), (5, 6), (3, 5), (5, 3), (2, 1), (1, 2), (0, 1), (1, 0)]\n"
     ]
    }
   ],
   "source": [
    "from qiskit.providers.fake_provider import FakeHanoi, FakeJakarta, FakeJakartaV2\n",
    "from helper_functions import get_control_channel_map\n",
    "fake_backend = FakeJakarta()\n",
    "fake_backend_v2 = FakeJakartaV2()\n",
    "control_channel_map = get_control_channel_map(fake_backend, physical_qubits)\n",
    "dt = fake_backend_v2.target.dt\n",
    "print(\"Coupling Map: \",list(fake_backend_v2.coupling_map.get_edges()))"
   ]
  },
  {
   "cell_type": "code",
   "execution_count": 13,
   "id": "c8e89761-f64a-4823-86df-4012f87ce562",
   "metadata": {},
   "outputs": [],
   "source": [
    "from qiskit_dynamics import DynamicsBackend, Solver\n",
    "from helper_functions import get_solver_and_freq_from_backend\n",
    "from qiskit_dynamics.array import Array\n",
    "import jax\n",
    "\n",
    "jax.config.update(\"jax_enable_x64\", True)\n",
    "# tell JAX we are using CPU\n",
    "jax.config.update(\"jax_platform_name\", \"cpu\")\n",
    "# import Array and set default backend\n",
    "\n",
    "Array.set_default_backend('jax')\n",
    "\n",
    "dynamics_options = {'seed_simulator': None, #\"configuration\": fake_backend.configuration(),\n",
    "                    'control_channel_map': control_channel_map,\n",
    "                    # Control channels to play CR tones, should match connectivity of device\n",
    "                    \"solver_options\": {\"method\": \"jax_odeint\", \"atol\": 1e-6, \"rtol\": 1e-8, \"hmax\":dt},\n",
    "                    }\n",
    "dynamics_backend = DynamicsBackend.from_backend(fake_backend, subsystem_list=physical_qubits, **dynamics_options)\n",
    "\n",
    "target = dynamics_backend.target\n",
    "target.qubit_properties = fake_backend_v2.qubit_properties(physical_qubits)\n",
    "\n",
    "# Extract channel frequencies and Solver instance from backend to provide a pulse level simulation enabling\n",
    "# fidelity benchmarking\n",
    "channel_freq, solver = get_solver_and_freq_from_backend(\n",
    "    backend=fake_backend,\n",
    "    subsystem_list=physical_qubits,\n",
    "    rotating_frame=\"auto\",\n",
    "    evaluation_mode=\"dense\",\n",
    "    rwa_cutoff_freq=None,\n",
    "    static_dissipators=None,\n",
    "    dissipator_channels=None,\n",
    "    dissipator_operators=None\n",
    ")\n",
    "calibration_files=None"
   ]
  },
  {
   "cell_type": "markdown",
   "id": "93ffaf7e-778d-49c3-910d-a1d0949ac6eb",
   "metadata": {},
   "source": [
    "#### Using a custom Hamiltonian model\n",
    "\n",
    "TODO"
   ]
  },
  {
   "cell_type": "code",
   "execution_count": 14,
   "id": "06dceddd-7276-4f7d-9ade-6b0ba7198bab",
   "metadata": {
    "tags": []
   },
   "outputs": [],
   "source": [
    "from qiskit_dynamics import DynamicsBackend, Solver\n",
    "from qiskit_dynamics.array import Array\n",
    "import jax\n",
    "jax.config.update(\"jax_enable_x64\", True)\n",
    "# tell JAX we are using CPU\n",
    "jax.config.update(\"jax_platform_name\", \"cpu\")\n",
    "# import Array and set default backend\n",
    "\n",
    "Array.set_default_backend('jax')\n",
    "dynamics_options = {'seed_simulator': None, #\"configuration\": fake_backend.configuration(),\n",
    "                    'control_channel_map': control_channel_map,\n",
    "                    # Control channels to play CR tones, should match connectivity of device\n",
    "                    \"solver_options\": {\"method\": \"jax_odeint\", \"atol\": 1e-6, \"rtol\": 1e-8, \"hmax\":dt},\n",
    "                    }"
   ]
  },
  {
   "cell_type": "code",
   "execution_count": 15,
   "id": "8c5dc2e6-aaea-48ab-ae95-4e39bdd5d52e",
   "metadata": {
    "tags": []
   },
   "outputs": [
    {
     "name": "stdout",
     "output_type": "stream",
     "text": [
      "Chosen Backend:  <IBMBackend('ibm_nazca')>\n",
      "Is Backend a Simulator backend: False\n",
      "Backend options Options(shots=4000, memory=False, qubit_lo_freq=None, meas_lo_freq=None, schedule_los=None, meas_level=<MeasLevel.CLASSIFIED: 2>, meas_return=<MeasReturnType.AVERAGE: 'avg'>, memory_slots=None, memory_slot_size=100, rep_time=None, rep_delay=None, init_qubits=True, use_measure_esp=None, noise_model=None, seed_simulator=None)\n",
      "Where:\n",
      "\tnoise_model is of type <class 'NoneType'>\n",
      "\tseed_simulator is of type <class 'NoneType'>\n",
      "\tshots is >= 1 and <= 100000\n",
      "\trep_delay is >= 0.0 and <= 0.0005\n",
      "\n",
      "[0.0, 0.0005]\n"
     ]
    },
    {
     "data": {
      "text/plain": [
       "qiskit_ibm_runtime.ibm_backend.IBMBackend"
      ]
     },
     "execution_count": 15,
     "metadata": {},
     "output_type": "execute_result"
    }
   ],
   "source": [
    "# Choose backend among the set defined above: {runtime_backend, dynamics_backend, custom_backend}\n",
    "from qiskit_ibm_runtime import Estimator, IBMBackend as RuntimeBackend\n",
    "backend = runtime_backend\n",
    "print('Chosen Backend: ',backend)\n",
    "if isinstance(backend, DynamicsBackend):\n",
    "    print(\"Subsystem dims: \", backend.options.subsystem_dims)\n",
    "elif isinstance(backend, RuntimeBackend):\n",
    "    print(\"Is Backend a Simulator backend:\", backend.simulator)\n",
    "print('Backend options', backend.options)\n",
    "print(backend.rep_delay_range)\n",
    "type(backend)"
   ]
  },
  {
   "cell_type": "code",
   "execution_count": 16,
   "id": "44902345-749f-4014-8103-94a851804e20",
   "metadata": {
    "tags": []
   },
   "outputs": [
    {
     "data": {
      "text/plain": [
       "QiskitConfig(parametrized_circuit=<function apply_parametrized_circuit at 0x7f9b76ea51f0>, backend=<IBMBackend('ibm_nazca')>, estimator_options=Options(optimization_level=0, resilience_level=0, max_execution_time=None, transpilation=TranspilationOptions(skip_transpilation=False, initial_layout=None, layout_method=None, routing_method=None, approximation_degree=None), resilience=ResilienceOptions(noise_amplifier=None, noise_factors=(1, 3, 5), extrapolator='LinearExtrapolator'), execution=ExecutionOptions(shots=2000, init_qubits=True), environment=EnvironmentOptions(log_level='WARNING', callback=None, job_tags=[]), simulator=SimulatorOptions(noise_model=None, seed_simulator=None, coupling_map=None, basis_gates=None)), solver=<qiskit_dynamics.solvers.solver_classes.Solver object at 0x7f9b7a3cfdf0>, channel_freq={'d0': 5236351487.460436, 'd1': 5014160311.321986, 'u0': (5014160311.321986+0j), 'u1': (5236351487.460436+0j), 'u2': (5107731140.852676+0j), 'u3': (5178396450.32767+0j)}, do_calibrations=True, calibration_files=None)"
      ]
     },
     "execution_count": 16,
     "metadata": {},
     "output_type": "execute_result"
    }
   ],
   "source": [
    "# Wrap all info in one QiskitConfig\n",
    "# Qiskit_setup = QiskitConfig(parametrized_circuit=apply_parametrized_circuit, backend=backend)\n",
    "Qiskit_setup = QiskitConfig(parametrized_circuit=apply_parametrized_circuit, backend=backend,\n",
    "                            estimator_options=estimator_options, channel_freq=channel_freq,\n",
    "                           solver=solver)\n",
    "Qiskit_setup"
   ]
  },
  {
   "cell_type": "markdown",
   "id": "fcc07dcc-049b-4ea3-88f7-aa6723647ae4",
   "metadata": {
    "tags": []
   },
   "source": [
    "## Define quantum target: State preparation or Gate calibration\n",
    "\n",
    "The target of our optimal control task can be of two different types:\n",
    "1.  An arbitrary quantum state to prepare with high accuracy\n",
    "2. A Quantum Gate to be calibrated in a noise-robust manner\n",
    "\n",
    "Both targets are dictionaries that are identified with a key stating their ```target_type```, which can be either ```\"state\"``` or ```\"gate\"```. The type is inferred by the target provided.\n",
    "\n",
    "For a gate target $G$, one can add the target quantum gate with a ```\"gate\"``` key specifying a specific instance of a Qiskit ```Gate``` object. Here, we settle for calibrating a ```ECRGate```, which is the two-qubit basis gate of latest IBM devices.\n",
    "Moreover, a gate calibration requires a set of input states $\\{|s_i\\rangle \\}$ to be provided, such that the agent can try to set the actions such that the fidelity between the anticipated ideal target state (calculated as  $G|s_i\\rangle$) and the output state are simultaneously maximized. To ensure a correlation between the average reward computed from the measurement outcomes and the average gate fidelity, the provided set of input states must be tomographically complete. Note that providing the set of ```input_states```as depicted below is optional and should be done only if you have a specific set to implement, by default it is internally set to the Pauli basis preparation stage.\n",
    "\n",
    "For a state target, one can provide, similarly to an input state, an ideal circuit to prepare it (```\"circuit\": QuantumCircuit```, or a density matrix (```\"dm\": DensityMatrix```)..\n",
    "\n",
    "Another important key that should figure in the dictionary is the ```\"register\"``` indicating the physical qubits that should be addressed by this target, i.e. upon which qubits should the target be engineered. The register can be a list of indices for qubits to be addressed in the circuit, or a ```QuantumRegister```object. If register is not provided, then by default the target register will be the list of all qubits defined up to ```Gate().num_qubits```."
   ]
  },
  {
   "cell_type": "code",
   "execution_count": 17,
   "id": "e79698c6-81bb-4944-9005-af13e6f4a028",
   "metadata": {
    "tags": []
   },
   "outputs": [
    {
     "name": "stdout",
     "output_type": "stream",
     "text": [
      "{'gate': Instruction(name='ecr', num_qubits=2, num_clbits=0, params=[]), 'register': [0, 1]}\n"
     ]
    }
   ],
   "source": [
    "# Example of target gate\n",
    "from qiskit.circuit.library.standard_gates import ECRGate\n",
    "ECR_tgt = {\"gate\": ECRGate(), \"register\": physical_qubits}\n",
    "target = ECR_tgt\n",
    "print(target)"
   ]
  },
  {
   "cell_type": "code",
   "execution_count": 18,
   "id": "238d116a-0418-48ef-910a-3805cbb28ad3",
   "metadata": {
    "tags": []
   },
   "outputs": [
    {
     "data": {
      "image/png": "[encoded data removed]",
      "text/plain": [
       "<Figure size 1300x765 with 1 Axes>"
      ]
     },
     "execution_count": 18,
     "metadata": {},
     "output_type": "execute_result"
    }
   ],
   "source": [
    "from qiskit.visualization.pulse_v2 import IQXStandard\n",
    "\n",
    "default_params, instructions, pulses = determine_ecr_params(fake_backend, \n",
    "                                                                 physical_qubits=physical_qubits,\n",
    "                                                                 basis_gate=\"cx\")\n",
    "\n",
    "instructions.draw(backend=fake_backend, style=IQXStandard())"
   ]
  },
  {
   "cell_type": "markdown",
   "id": "75dd6b2e-a20a-4867-915e-1501d7c7fcbf",
   "metadata": {
    "tags": []
   },
   "source": [
    "## Declare QuantumEnvironment object\n",
    "Running the box below declares the QuantumEnvironment instance.\n",
    "\n",
    "If selected backend is a ```DynamicsBackend```, this declaration launches a series of single qubit gate calibrations (to calibrate X and SX gate). The reason for this is that the Estimator primitive, which enables the computation of Pauli expectation values, requires calibrated single qubit gates for doing Pauli basis rotations (SX and RZ, to perform Hadamard and S gates)."
   ]
  },
  {
   "cell_type": "code",
   "execution_count": 19,
   "id": "4c73677c-1a71-4ace-8409-a42383f5c172",
   "metadata": {
    "tags": []
   },
   "outputs": [
    {
     "name": "stdout",
     "output_type": "stream",
     "text": [
      "CPU times: user 762 ms, sys: 50.8 ms, total: 813 ms\n",
      "Wall time: 898 ms\n"
     ]
    }
   ],
   "source": [
    "%%time\n",
    "q_env = QuantumEnvironment(target=target, abstraction_level=abstraction_level,\n",
    "                           Qiskit_config=Qiskit_setup,\n",
    "                           sampling_Pauli_space=sampling_Paulis, n_shots=N_shots, c_factor=0.5)"
   ]
  },
  {
   "cell_type": "code",
   "execution_count": 20,
   "id": "9c6f2f3b-4338-4ff2-8539-de8fe475d60d",
   "metadata": {
    "tags": []
   },
   "outputs": [
    {
     "name": "stdout",
     "output_type": "stream",
     "text": [
      "QuantumEnvironment composed of 2 qubits, \n",
      "Defined target: gate (Instruction(name='ecr', num_qubits=2, num_clbits=0, params=[]))\n",
      "Backend: <IBMBackend('ibm_nazca')>,\n",
      "Abstraction level: pulse,\n",
      "Run options: N_shots (200), Sampling_Pauli_space (10), \n",
      "\n"
     ]
    }
   ],
   "source": [
    "print(q_env)"
   ]
  },
  {
   "cell_type": "code",
   "execution_count": 21,
   "id": "7aa24025-5af0-4879-8fcd-0279286a1d48",
   "metadata": {
    "tags": []
   },
   "outputs": [
    {
     "data": {
      "image/png": "[encoded data removed]",
      "text/plain": [
       "<Figure size 500x500 with 1 Axes>"
      ]
     },
     "execution_count": 21,
     "metadata": {},
     "output_type": "execute_result"
    }
   ],
   "source": [
    "from qiskit.visualization import plot_coupling_map, plot_circuit_layout, gate_map, plot_gate_map\n",
    "from qiskit.visualization.pulse_v2 import IQXDebugging\n",
    "plot_gate_map(backend)"
   ]
  },
  {
   "cell_type": "markdown",
   "id": "f4659345-6834-4400-953b-7544f8ee1214",
   "metadata": {},
   "source": [
    "# Definition of Circuit context"
   ]
  },
  {
   "cell_type": "markdown",
   "id": "50f8b8cf-31f3-4484-84b5-d6b21c8f7814",
   "metadata": {},
   "source": [
    "Now that we have established our ```QuantumEnvironment```, we will now focus on the main research point of this paper, which is to calibrate the target gate based on its location within a specific circuit context. As we will use PyTorch to build the interface between our agent and our environment, we will wrap up our original environment within a ```TorchQuantumEnvironment``` object, which will build a suitable environment for dynamical and contextual gate calibration. But first, we define the quantum circuit in which our target operation will appear."
   ]
  },
  {
   "cell_type": "code",
   "execution_count": 22,
   "id": "ae893112-7c4c-484b-9477-8bee469cb033",
   "metadata": {
    "tags": []
   },
   "outputs": [
    {
     "data": {
      "image/png": "[encoded data removed]",
      "text/plain": [
       "<Figure size 454.517x200.667 with 1 Axes>"
      ]
     },
     "execution_count": 22,
     "metadata": {},
     "output_type": "execute_result"
    }
   ],
   "source": [
    "target_circuit = QuantumCircuit(2)\n",
    "target_circuit.h(0)\n",
    "target_circuit.cx(0,1)\n",
    "target_circuit.x([0,1])\n",
    "target_circuit.cx(0,1)\n",
    "target_circuit.draw(\"mpl\")"
   ]
  },
  {
   "cell_type": "markdown",
   "id": "3d2b6b7e-5132-41d2-a8a7-99ccfa7bf6b3",
   "metadata": {},
   "source": [
    "To be able to see where our ECR gate shall appear in the circuit, we have to transpile this logical circuit to the backend. To ease the visualization, we add small functions to see the circuit only on relevant physical qubits."
   ]
  },
  {
   "cell_type": "code",
   "execution_count": 23,
   "id": "7c90c369-7c67-48e8-be60-6a8a4ac7e9b8",
   "metadata": {
    "tags": []
   },
   "outputs": [
    {
     "data": {
      "image/png": "[encoded data removed]",
      "text/plain": [
       "<Figure size 757.83x200.667 with 1 Axes>"
      ]
     },
     "execution_count": 23,
     "metadata": {},
     "output_type": "execute_result"
    }
   ],
   "source": [
    "from helper_functions import remove_unused_wires\n",
    "transpiled_circ = transpile(target_circuit, backend, \n",
    "                              initial_layout=physical_qubits,\n",
    "                              basis_gates=[\"sx\",\"rz\",\"ecr\",\"x\"], \n",
    "                              optimization_level=1)\n",
    "remove_unused_wires(transpiled_circ).draw(\"mpl\")"
   ]
  },
  {
   "cell_type": "markdown",
   "id": "f0728780-bee0-4fc5-9522-cedb5977fd18",
   "metadata": {},
   "source": [
    "# Definition of TorchQuantumEnvironment"
   ]
  },
  {
   "cell_type": "markdown",
   "id": "4e189855-f1d3-4cc9-9d86-e80ef7db3b13",
   "metadata": {},
   "source": [
    "To define the ```TorchQuantumEnvironment``` wrapper, we follow the Gym like definition, where we provide the structure of the observation and action spaces.\n",
    "\n",
    "The class takes the following inputs:\n",
    "- ```q_env: QuantumEnvironment```: the baseline object where the information about the backend and the target gate is\n",
    "- ```circuit_context: QuantumCircuit```: The circuit in which the previously defined target operation is applied. Note that the class will automatically look for all instances of the gate within the circuit and build dedicated subcircuits (truncations) enabling the successive calibration of each gate instance. To be noted here: the gate calibration focuses only on the target qubits defined in the ```QuantumEnvironment```. In Qiskit, we typically look for the ```CircuitInstruction``` object composed of a ```Gate``` object and a set of target qubits on which the gate is applied (both defined in target).\n",
    "- ```action_space```/```observation_space```: Spaces defining the range and shapes of possible actions/observations.\n",
    "For now, the observation space is fixed to a set of two integers:\n",
    "    - the first one indicates which random input state was selected at the beginning of the episode, so that the network have an extra information on the randomness source coming from the reward.\n",
    "    - the second one indicates which instance of the gate it will calibrate. In the real-time use case, we would like the agent to generate on the fly random actions that will be applied directly for the next gate within the circuit execution. With Qiskit Runtime however, we are not able to generate those actions on the fly and will therefore load all actions associated to each instance of the gate prior to execution.\n",
    "\n",
    "\n",
    "Moreover, we apply for now a sequential training loop, meaning that we will force the agent to focus on the calibration of the first gate (truncating the circuit just behind its execution) before starting to calibrate the second one (and so forth). The number of iterations per gate instance must be provided with the number ```training_steps_per_gate```."
   ]
  },
  {
   "cell_type": "markdown",
   "id": "788ee29b-3840-40ec-8915-808d4d3607e8",
   "metadata": {},
   "source": [
    "Since we want to run a contextual gate calibration, we need to know exactly how the circuit will be transpiled on the backend. There is therefore an internal transpilation (without any optimization) that enables the retrieval of all timings of the logical gates indicated above. We also account for the local context happening on nearest neighbor qubits on the chip.\n",
    "\n",
    "Moreover, as we run this sequential gate calibration for each instance of the target gate within the circuit, one can check the different circuit truncations the agent will go over.\n",
    "\n",
    "Important note: The target type of the calibration must be a quantum Gate instance (it will not work if target is a quantum state)."
   ]
  },
  {
   "cell_type": "code",
   "execution_count": 24,
   "id": "e20355a7-6530-4459-9e03-d4bbf69daf3b",
   "metadata": {
    "tags": []
   },
   "outputs": [
    {
     "name": "stderr",
     "output_type": "stream",
     "text": [
      "/Users/arthurstrauss/opt/anaconda3/envs/rl_qoc/lib/python3.9/site-packages/gymnasium/spaces/box.py:130: UserWarning: \u001b[33mWARN: Box bound precision lowered by casting to float32\u001b[0m\n",
      "  gym.logger.warn(f\"Box bound precision lowered by casting to {self.dtype}\")\n"
     ]
    },
    {
     "name": "stdout",
     "output_type": "stream",
     "text": [
      "CPU times: user 56.7 s, sys: 697 ms, total: 57.4 s\n",
      "Wall time: 58.6 s\n"
     ]
    }
   ],
   "source": [
    "%%time\n",
    "# Circuit context\n",
    "from torch_quantum_environment import TorchQuantumEnvironment\n",
    "from gymnasium.spaces import Box, Space\n",
    "\n",
    "seed = 10\n",
    "training_steps_per_gate = 2000\n",
    "benchmark_cycle = 100\n",
    "# tgt_instruction_counts = target_circuit.data.count(CircuitInstruction(target_gate, tgt_qubits))\n",
    "tgt_instruction_counts = 2  # Number of times target Instruction is applied in Circuit\n",
    "batchsize = 300  # Batch size (iterate over a bunch of actions per policy to estimate expected return) default 100\n",
    "n_actions = 4 # Choose how many control parameters in pulse/circuit parametrization\n",
    "optimal_params = np.pi * np.array([0., 0., 0.5, 0.5, -0.5, 0.5, -0.5])\n",
    "min_bound_actions =  - 0.1\n",
    "max_bound_actions =  0.1\n",
    "scale_factor = 0.1\n",
    "observation_space = Box(low=np.array([0, 0]), high=np.array([1, tgt_instruction_counts]), shape=(2,),\n",
    "                        seed=seed)\n",
    "action_space = Box(low=min_bound_actions, high=max_bound_actions, shape=(n_actions,), seed=seed)\n",
    "\n",
    "torch_env = TorchQuantumEnvironment(q_env, target_circuit, action_space,\n",
    "                                    observation_space, batch_size=batchsize,\n",
    "                                    training_steps_per_gate=training_steps_per_gate,\n",
    "                                    benchmark_cycle = benchmark_cycle,\n",
    "                                    intermediate_rewards=False,\n",
    "                                    seed=None,)\n"
   ]
  },
  {
   "cell_type": "code",
   "execution_count": 25,
   "id": "2925d82f-a472-4358-ae46-20bb426dc85f",
   "metadata": {
    "tags": []
   },
   "outputs": [
    {
     "data": {
      "image/png": "[encoded data removed]",
      "text/plain": [
       "<Figure size 644.181x367.889 with 1 Axes>"
      ]
     },
     "execution_count": 25,
     "metadata": {},
     "output_type": "execute_result"
    }
   ],
   "source": [
    "torch_env.circuit_truncations[0].draw(\"mpl\")"
   ]
  },
  {
   "cell_type": "code",
   "execution_count": 26,
   "id": "c6087449-9dbf-4f2f-b083-40fe217a6d7f",
   "metadata": {
    "tags": []
   },
   "outputs": [
    {
     "data": {
      "image/png": "[encoded data removed]",
      "text/plain": [
       "<Figure size 1062.24x367.889 with 1 Axes>"
      ]
     },
     "execution_count": 26,
     "metadata": {},
     "output_type": "execute_result"
    }
   ],
   "source": [
    "torch_env.circuit_truncations[1].draw(\"mpl\")"
   ]
  },
  {
   "cell_type": "code",
   "execution_count": 27,
   "id": "1ac343b9-3338-4c66-b169-18a0a4901afc",
   "metadata": {
    "tags": []
   },
   "outputs": [
    {
     "data": {
      "image/png": "[encoded data removed]",
      "text/plain": [
       "<Figure size 727.792x367.889 with 1 Axes>"
      ]
     },
     "execution_count": 27,
     "metadata": {},
     "output_type": "execute_result"
    }
   ],
   "source": [
    "torch_env.baseline_truncations[1].draw(\"mpl\")"
   ]
  },
  {
   "cell_type": "code",
   "execution_count": 47,
   "id": "51f78006-11ab-4d8a-9ce9-1b1283fd7481",
   "metadata": {
    "tags": []
   },
   "outputs": [
    {
     "data": {
      "text/plain": [
       "Options(optimization_level=0, resilience_level=0, max_execution_time=None, transpilation={'skip_transpilation': False, 'initial_layout': [0, 1, 14, 2], 'layout_method': None, 'routing_method': None, 'approximation_degree': None}, resilience={'noise_amplifier': 'TwoQubitAmplifier', 'noise_factors': (1, 3, 5), 'extrapolator': 'LinearExtrapolator'}, execution={'shots': 2000, 'init_qubits': True}, environment={'log_level': 'WARNING', 'callback': None, 'job_tags': []}, simulator={'noise_model': None, 'seed_simulator': None, 'coupling_map': None, 'basis_gates': None})"
      ]
     },
     "execution_count": 47,
     "metadata": {},
     "output_type": "execute_result"
    }
   ],
   "source": [
    "torch_env.estimator.options"
   ]
  },
  {
   "cell_type": "markdown",
   "id": "5b4b6bdf-18c0-4695-b040-811d3c96a498",
   "metadata": {},
   "source": [
    "# Definition of the Agent"
   ]
  },
  {
   "cell_type": "code",
   "execution_count": 49,
   "id": "b3aee453-8139-47dd-8409-88aa72c31181",
   "metadata": {
    "tags": []
   },
   "outputs": [],
   "source": [
    "import torch\n",
    "import torch.nn as nn\n",
    "\n",
    "from agent import ActorNetwork, CriticNetwork, Agent\n",
    "#device = torch.device(\"cuda\" if torch.cuda.is_available() else \"cpu\")\n",
    "device = torch.device(\"cpu\")\n",
    "hidden_units = [64, 64]\n",
    "activation_functions = [nn.Tanh(), nn.Tanh(), nn.Tanh()]\n",
    "include_critic = False\n",
    "chkpt_dir = 'tmp/ppo'\n",
    "chkpt_dir_critic = 'tmp/critic_ppo'\n",
    "\n",
    "actor_net = ActorNetwork(observation_space, hidden_units, n_actions, activation_functions, include_critic, chkpt_dir).to(device)\n",
    "critic_net = CriticNetwork(observation_space, hidden_units, activation_functions, chkpt_dir_critic).to(device)\n",
    "agent = Agent(actor_net, critic_net=critic_net).to(device)"
   ]
  },
  {
   "cell_type": "markdown",
   "id": "f4c979c9-8d16-42fa-88d3-8810dc0f5758",
   "metadata": {},
   "source": [
    "## Hyperparameters for training"
   ]
  },
  {
   "cell_type": "code",
   "execution_count": 25,
   "id": "aa0544ad-7134-41f4-bc5e-4197c5750d4d",
   "metadata": {
    "tags": []
   },
   "outputs": [],
   "source": [
    "\"\"\"\n",
    "-----------------------------------------------------------------------------------------------------\n",
    "Hyperparameters for RL agent\n",
    "-----------------------------------------------------------------------------------------------------\n",
    "\"\"\"\n",
    "from torch.utils.tensorboard import SummaryWriter\n",
    "import torch.optim as optim\n",
    "run_name = \"test\"\n",
    "writer = SummaryWriter(f\"runs/{run_name}\")\n",
    "# writer.add_text(\n",
    "#     \"hyperparameters\",\n",
    "#     \"|param|value|\\n|-|-|\\n%s\" % (\"\\n\".join([f\"|{key}|{value}|\" for key, value in vars(args).items()])),\n",
    "# )\n",
    "# Hyperparameters for the agent\n",
    "n_epochs = 10  # Number of epochs : default 1500\n",
    "num_updates = 3000\n",
    "lr_actor = 0.001  # Learning rate for policy update step\n",
    "lr_critic = 0.001  # Learning rate for critic (value function) update step\n",
    "\n",
    "epsilon = 0.2  # Parameter for clipping value (PPO)\n",
    "critic_loss_coeff = 0.5\n",
    "optimizer = optim.Adam(agent.parameters(), lr=lr_actor, eps=1e-5)\n",
    "actor_optimizer = optim.Adam(actor_net.parameters(), lr=lr_actor, eps=1e-5)\n",
    "critic_optimizer = optim.Adam(critic_net.parameters(), lr=lr_critic, eps=1e-5)\n",
    "minibatch_size = 40\n",
    "gamma = 1.\n",
    "gae_lambda = 0.95\n",
    "\n",
    "# Clipping\n",
    "clip_vloss = True\n",
    "grad_clip = 0.5\n",
    "clip_coef = 0.5\n",
    "normalize_advantage = False\n",
    "\n",
    "# other coefficients\n",
    "ent_coef = 0."
   ]
  },
  {
   "cell_type": "markdown",
   "id": "fce12ee7-d62f-471a-8596-ef884dfa2a46",
   "metadata": {},
   "source": [
    "# Training\n",
    "## Storage setup"
   ]
  },
  {
   "cell_type": "code",
   "execution_count": 26,
   "id": "c0df2e66-a289-4e87-8df6-bf9b5a7419c6",
   "metadata": {
    "tags": []
   },
   "outputs": [],
   "source": [
    "global_step = 0\n",
    "torch_env.clear_history()\n",
    "obs = torch.zeros((tgt_instruction_counts, batchsize) + torch_env.observation_space.shape).to(device)\n",
    "actions = torch.zeros((tgt_instruction_counts, batchsize) + torch_env.action_space.shape).to(device)\n",
    "logprobs = torch.zeros((tgt_instruction_counts, batchsize)).to(device)\n",
    "rewards = torch.zeros((tgt_instruction_counts, batchsize)).to(device)\n",
    "dones = torch.zeros((tgt_instruction_counts, batchsize)).to(device)\n",
    "values = torch.zeros((tgt_instruction_counts, batchsize)).to(device)\n",
    "\n",
    "train_obs = torch.zeros((batchsize,) + torch_env.observation_space.shape, requires_grad=True).to(device)\n",
    "visualization_steps = 10"
   ]
  },
  {
   "cell_type": "markdown",
   "id": "10306c6a-de03-4ead-bc32-ffdcb1c0da20",
   "metadata": {},
   "source": [
    "## Main loop"
   ]
  },
  {
   "cell_type": "code",
   "execution_count": 27,
   "id": "c98ce6ee-b798-42aa-826d-eb773d051bbb",
   "metadata": {
    "tags": []
   },
   "outputs": [
    {
     "name": "stderr",
     "output_type": "stream",
     "text": [
      " 11%|███▋                               | 320/3000 [8:21:14<38:42:57, 52.01s/it]"
     ]
    },
    {
     "name": "stdout",
     "output_type": "stream",
     "text": [
      "Sending job...\n",
      "0\n",
      "1\n",
      "0\n",
      "1\n",
      "0\n",
      "1\n",
      "0\n",
      "1\n",
      "0\n",
      "1\n"
     ]
    },
    {
     "name": "stderr",
     "output_type": "stream",
     "text": [
      "runtime_job._start_websocket_client:WARNING:2023-08-23 08:32:15,899: An error occurred while streaming results from the server for job cjiqf5biept3ghto0si0:\n",
      "Traceback (most recent call last):\n",
      "  File \"/Users/arthurstrauss/opt/anaconda3/envs/rl_qoc/lib/python3.9/site-packages/qiskit_ibm_runtime/runtime_job.py\", line 534, in _start_websocket_client\n",
      "    self._ws_client.job_results()\n",
      "  File \"/Users/arthurstrauss/opt/anaconda3/envs/rl_qoc/lib/python3.9/site-packages/qiskit_ibm_provider/api/clients/runtime_ws.py\", line 70, in job_results\n",
      "    self.stream(url=url, retries=max_retries, backoff_factor=backoff_factor)\n",
      "  File \"/Users/arthurstrauss/opt/anaconda3/envs/rl_qoc/lib/python3.9/site-packages/qiskit_ibm_provider/api/clients/base.py\", line 230, in stream\n",
      "    raise WebsocketError(error_message)\n",
      "qiskit_ibm_provider.api.exceptions.WebsocketError: 'Max retries exceeded: Failed to establish a websocket connection.'\n",
      "\n",
      " 11%|███▋                               | 321/3000 [8:22:45<47:32:22, 63.88s/it]"
     ]
    },
    {
     "name": "stdout",
     "output_type": "stream",
     "text": [
      "Job done\n",
      "mean tensor([ 0.0030, -0.0088, -0.0167,  0.0286])\n",
      "sigma tensor([0.5199, 0.5564, 0.5055, 0.5229])\n",
      "Average return: 7.570399999999999\n",
      "{'reset_stage': False, 'step': 321, 'average return': 7.570399999999999, 'max return': 7.7072, 'arg_max return': 231, 'best action': array([-0.06      ,  0.00527896,  0.02      , -0.02      ]), 'truncation_index': 0, 'input_state': 'PauliPreparationBasis[2, 2]', 'observable': SparsePauliOp(['IIII', 'IIIZ', 'IIXI', 'IIXZ'],\n",
      "              coeffs=[ 0.5+0.j, -0.5+0.j,  0.5+0.j, -0.5+0.j])}\n",
      "Sending job...\n",
      "0\n",
      "1\n",
      "0\n",
      "1\n",
      "0\n",
      "1\n",
      "0\n",
      "1\n",
      "0\n",
      "1\n"
     ]
    },
    {
     "name": "stderr",
     "output_type": "stream",
     "text": [
      "runtime_job._start_websocket_client:WARNING:2023-08-23 08:33:12,437: An error occurred while streaming results from the server for job cjiqfscul2rlcpog86ug:\n",
      "Traceback (most recent call last):\n",
      "  File \"/Users/arthurstrauss/opt/anaconda3/envs/rl_qoc/lib/python3.9/site-packages/qiskit_ibm_runtime/runtime_job.py\", line 534, in _start_websocket_client\n",
      "    self._ws_client.job_results()\n",
      "  File \"/Users/arthurstrauss/opt/anaconda3/envs/rl_qoc/lib/python3.9/site-packages/qiskit_ibm_provider/api/clients/runtime_ws.py\", line 70, in job_results\n",
      "    self.stream(url=url, retries=max_retries, backoff_factor=backoff_factor)\n",
      "  File \"/Users/arthurstrauss/opt/anaconda3/envs/rl_qoc/lib/python3.9/site-packages/qiskit_ibm_provider/api/clients/base.py\", line 230, in stream\n",
      "    raise WebsocketError(error_message)\n",
      "qiskit_ibm_provider.api.exceptions.WebsocketError: 'Max retries exceeded: Failed to establish a websocket connection.'\n",
      "\n",
      " 11%|███▊                               | 322/3000 [8:23:42<45:52:59, 61.68s/it]"
     ]
    },
    {
     "name": "stdout",
     "output_type": "stream",
     "text": [
      "Job done\n",
      "mean tensor([ 0.0029, -0.0090, -0.0173,  0.0292])\n",
      "sigma tensor([0.5193, 0.5581, 0.5075, 0.5229])\n",
      "Average return: 5.9399999999999995\n",
      "{'reset_stage': False, 'step': 322, 'average return': 5.9399999999999995, 'max return': 7.7072, 'arg_max return': 231, 'best action': array([-0.06      ,  0.00527896,  0.02      , -0.02      ]), 'truncation_index': 0, 'input_state': 'PauliPreparationBasis[3, 1]', 'observable': SparsePauliOp(['IIII', 'IIXY', 'IIYX', 'IIZZ'],\n",
      "              coeffs=[0.5+0.j, 0.5+0.j, 0.5+0.j, 0.5+0.j])}\n",
      "Sending job...\n",
      "0\n",
      "1\n",
      "0\n",
      "1\n",
      "0\n",
      "1\n",
      "0\n",
      "1\n",
      "0\n",
      "1\n"
     ]
    },
    {
     "name": "stderr",
     "output_type": "stream",
     "text": [
      "runtime_job._start_websocket_client:WARNING:2023-08-23 08:34:03,496: An error occurred while streaming results from the server for job cjiqgajsogidtk7kf9u0:\n",
      "Traceback (most recent call last):\n",
      "  File \"/Users/arthurstrauss/opt/anaconda3/envs/rl_qoc/lib/python3.9/site-packages/qiskit_ibm_runtime/runtime_job.py\", line 534, in _start_websocket_client\n",
      "    self._ws_client.job_results()\n",
      "  File \"/Users/arthurstrauss/opt/anaconda3/envs/rl_qoc/lib/python3.9/site-packages/qiskit_ibm_provider/api/clients/runtime_ws.py\", line 70, in job_results\n",
      "    self.stream(url=url, retries=max_retries, backoff_factor=backoff_factor)\n",
      "  File \"/Users/arthurstrauss/opt/anaconda3/envs/rl_qoc/lib/python3.9/site-packages/qiskit_ibm_provider/api/clients/base.py\", line 230, in stream\n",
      "    raise WebsocketError(error_message)\n",
      "qiskit_ibm_provider.api.exceptions.WebsocketError: 'Max retries exceeded: Failed to establish a websocket connection.'\n",
      "\n",
      " 11%|███▊                               | 323/3000 [8:24:33<43:29:52, 58.50s/it]"
     ]
    },
    {
     "name": "stdout",
     "output_type": "stream",
     "text": [
      "Job done\n",
      "mean tensor([ 0.0030, -0.0090, -0.0170,  0.0288])\n",
      "sigma tensor([0.5202, 0.5577, 0.5068, 0.5232])\n",
      "Average return: 6.606399999999999\n",
      "{'reset_stage': False, 'step': 323, 'average return': 6.606399999999999, 'max return': 7.7072, 'arg_max return': 231, 'best action': array([-0.06      ,  0.00527896,  0.02      , -0.02      ]), 'truncation_index': 0, 'input_state': 'PauliPreparationBasis[2, 3]', 'observable': SparsePauliOp(['IIII', 'IIIZ', 'IIYI', 'IIYZ'],\n",
      "              coeffs=[ 0.5+0.j, -0.5+0.j,  0.5+0.j, -0.5+0.j])}\n",
      "Sending job...\n",
      "0\n",
      "1\n",
      "0\n",
      "1\n",
      "0\n",
      "1\n",
      "0\n",
      "1\n",
      "0\n",
      "1\n"
     ]
    },
    {
     "name": "stderr",
     "output_type": "stream",
     "text": [
      "runtime_job._start_websocket_client:WARNING:2023-08-23 08:41:33,587: An error occurred while streaming results from the server for job cjiqgncul2rlcpog8kf0:\n",
      "Traceback (most recent call last):\n",
      "  File \"/Users/arthurstrauss/opt/anaconda3/envs/rl_qoc/lib/python3.9/site-packages/qiskit_ibm_runtime/runtime_job.py\", line 534, in _start_websocket_client\n",
      "    self._ws_client.job_results()\n",
      "  File \"/Users/arthurstrauss/opt/anaconda3/envs/rl_qoc/lib/python3.9/site-packages/qiskit_ibm_provider/api/clients/runtime_ws.py\", line 70, in job_results\n",
      "    self.stream(url=url, retries=max_retries, backoff_factor=backoff_factor)\n",
      "  File \"/Users/arthurstrauss/opt/anaconda3/envs/rl_qoc/lib/python3.9/site-packages/qiskit_ibm_provider/api/clients/base.py\", line 230, in stream\n",
      "    raise WebsocketError(error_message)\n",
      "qiskit_ibm_provider.api.exceptions.WebsocketError: 'Max retries exceeded: Failed to establish a websocket connection.'\n",
      "\n",
      " 11%|███▌                             | 324/3000 [8:32:04<131:07:17, 176.40s/it]"
     ]
    },
    {
     "name": "stdout",
     "output_type": "stream",
     "text": [
      "Job done\n",
      "mean tensor([ 0.0029, -0.0088, -0.0174,  0.0296])\n",
      "sigma tensor([0.5180, 0.5578, 0.5077, 0.5223])\n",
      "Average return: 6.3024000000000004\n",
      "{'reset_stage': False, 'step': 324, 'average return': 6.3024000000000004, 'max return': 7.7072, 'arg_max return': 231, 'best action': array([-0.06      ,  0.00527896,  0.02      , -0.02      ]), 'truncation_index': 0, 'input_state': 'PauliPreparationBasis[3, 3]', 'observable': SparsePauliOp(['IIII', 'IIXY', 'IIYZ', 'IIZX'],\n",
      "              coeffs=[ 0.5+0.j,  0.5+0.j, -0.5+0.j,  0.5+0.j])}\n",
      "Sending job...\n",
      "0\n",
      "1\n",
      "0\n",
      "1\n",
      "0\n",
      "1\n",
      "0\n",
      "1\n",
      "0\n",
      "1\n"
     ]
    },
    {
     "name": "stderr",
     "output_type": "stream",
     "text": [
      " 11%|███▊                               | 324/3000 [8:32:18<70:31:17, 94.87s/it]\n"
     ]
    },
    {
     "ename": "KeyboardInterrupt",
     "evalue": "",
     "output_type": "error",
     "traceback": [
      "\u001b[0;31m---------------------------------------------------------------------------\u001b[0m",
      "\u001b[0;31mKeyboardInterrupt\u001b[0m                         Traceback (most recent call last)",
      "Cell \u001b[0;32mIn[27], line 25\u001b[0m\n\u001b[1;32m     23\u001b[0m logprobs[step] \u001b[38;5;241m=\u001b[39m logprob\n\u001b[1;32m     24\u001b[0m \u001b[38;5;66;03m# next_obs, reward, terminated, truncated, infos = torch_env.step(action.cpu().numpy())\u001b[39;00m\n\u001b[0;32m---> 25\u001b[0m next_obs, reward, terminated, truncated, infos \u001b[38;5;241m=\u001b[39m \u001b[43mtorch_env\u001b[49m\u001b[38;5;241;43m.\u001b[39;49m\u001b[43mstep\u001b[49m\u001b[43m(\u001b[49m\u001b[43maction\u001b[49m\u001b[38;5;241;43m.\u001b[39;49m\u001b[43mcpu\u001b[49m\u001b[43m(\u001b[49m\u001b[43m)\u001b[49m\u001b[38;5;241;43m.\u001b[39;49m\u001b[43mnumpy\u001b[49m\u001b[43m(\u001b[49m\u001b[43m)\u001b[49m\u001b[43m)\u001b[49m\n\u001b[1;32m     26\u001b[0m done \u001b[38;5;241m=\u001b[39m np\u001b[38;5;241m.\u001b[39mlogical_or(terminated, truncated)\n\u001b[1;32m     27\u001b[0m rewards[step] \u001b[38;5;241m=\u001b[39m torch\u001b[38;5;241m.\u001b[39mtensor(reward)\u001b[38;5;241m.\u001b[39mto(device)\n",
      "File \u001b[0;32m~/Library/CloudStorage/OneDrive-NationalUniversityofSingapore/Coding_projects/Quantum_Optimal_Control/torch_gate_calibration/torch_quantum_environment.py:595\u001b[0m, in \u001b[0;36mTorchQuantumEnvironment.step\u001b[0;34m(self, action)\u001b[0m\n\u001b[1;32m    593\u001b[0m terminated \u001b[38;5;241m=\u001b[39m \u001b[38;5;28;01mTrue\u001b[39;00m\n\u001b[1;32m    594\u001b[0m \u001b[38;5;28mself\u001b[39m\u001b[38;5;241m.\u001b[39m_episode_ended \u001b[38;5;241m=\u001b[39m terminated\n\u001b[0;32m--> 595\u001b[0m reward_table \u001b[38;5;241m=\u001b[39m \u001b[38;5;28;43mself\u001b[39;49m\u001b[38;5;241;43m.\u001b[39;49m\u001b[43mcompute_reward\u001b[49m\u001b[43m(\u001b[49m\u001b[43m)\u001b[49m\n\u001b[1;32m    596\u001b[0m \u001b[38;5;28;01mif\u001b[39;00m \u001b[38;5;28mself\u001b[39m\u001b[38;5;241m.\u001b[39m_intermediate_rewards:\n\u001b[1;32m    597\u001b[0m     obs \u001b[38;5;241m=\u001b[39m reward_table\n",
      "File \u001b[0;32m~/Library/CloudStorage/OneDrive-NationalUniversityofSingapore/Coding_projects/Quantum_Optimal_Control/torch_gate_calibration/torch_quantum_environment.py:509\u001b[0m, in \u001b[0;36mTorchQuantumEnvironment.compute_reward\u001b[0;34m(self, fidelity_access)\u001b[0m\n\u001b[1;32m    503\u001b[0m \u001b[38;5;28mprint\u001b[39m(\u001b[38;5;124m\"\u001b[39m\u001b[38;5;124mSending job...\u001b[39m\u001b[38;5;124m\"\u001b[39m)\n\u001b[1;32m    504\u001b[0m job \u001b[38;5;241m=\u001b[39m \u001b[38;5;28mself\u001b[39m\u001b[38;5;241m.\u001b[39mestimator\u001b[38;5;241m.\u001b[39mrun(circuits\u001b[38;5;241m=\u001b[39m[training_circ] \u001b[38;5;241m*\u001b[39m \u001b[38;5;28mself\u001b[39m\u001b[38;5;241m.\u001b[39mbatch_size,\n\u001b[1;32m    505\u001b[0m                          observables\u001b[38;5;241m=\u001b[39m[observables] \u001b[38;5;241m*\u001b[39m \u001b[38;5;28mself\u001b[39m\u001b[38;5;241m.\u001b[39mbatch_size,\n\u001b[1;32m    506\u001b[0m                          parameter_values\u001b[38;5;241m=\u001b[39mreshaped_params,\n\u001b[1;32m    507\u001b[0m                          shots\u001b[38;5;241m=\u001b[39m\u001b[38;5;28mself\u001b[39m\u001b[38;5;241m.\u001b[39msampling_Pauli_space \u001b[38;5;241m*\u001b[39m \u001b[38;5;28mself\u001b[39m\u001b[38;5;241m.\u001b[39mn_shots)\n\u001b[0;32m--> 509\u001b[0m reward_table \u001b[38;5;241m=\u001b[39m \u001b[43mjob\u001b[49m\u001b[38;5;241;43m.\u001b[39;49m\u001b[43mresult\u001b[49m\u001b[43m(\u001b[49m\u001b[43m)\u001b[49m\u001b[38;5;241m.\u001b[39mvalues\n\u001b[1;32m    510\u001b[0m scaling_reward_factor \u001b[38;5;241m=\u001b[39m \u001b[38;5;28mlen\u001b[39m(observables) \u001b[38;5;241m/\u001b[39m \u001b[38;5;241m4\u001b[39m\u001b[38;5;241m*\u001b[39m\u001b[38;5;241m*\u001b[39m\u001b[38;5;28mlen\u001b[39m(\u001b[38;5;28mself\u001b[39m\u001b[38;5;241m.\u001b[39mtgt_register)\n\u001b[1;32m    511\u001b[0m reward_table \u001b[38;5;241m/\u001b[39m\u001b[38;5;241m=\u001b[39m scaling_reward_factor\n",
      "File \u001b[0;32m~/opt/anaconda3/envs/rl_qoc/lib/python3.9/site-packages/qiskit_ibm_runtime/runtime_job.py:219\u001b[0m, in \u001b[0;36mRuntimeJob.result\u001b[0;34m(self, timeout, decoder)\u001b[0m\n\u001b[1;32m    217\u001b[0m _decoder \u001b[38;5;241m=\u001b[39m decoder \u001b[38;5;129;01mor\u001b[39;00m \u001b[38;5;28mself\u001b[39m\u001b[38;5;241m.\u001b[39m_final_result_decoder\n\u001b[1;32m    218\u001b[0m \u001b[38;5;28;01mif\u001b[39;00m \u001b[38;5;28mself\u001b[39m\u001b[38;5;241m.\u001b[39m_results \u001b[38;5;129;01mis\u001b[39;00m \u001b[38;5;28;01mNone\u001b[39;00m \u001b[38;5;129;01mor\u001b[39;00m (_decoder \u001b[38;5;241m!=\u001b[39m \u001b[38;5;28mself\u001b[39m\u001b[38;5;241m.\u001b[39m_final_result_decoder):\n\u001b[0;32m--> 219\u001b[0m     \u001b[38;5;28;43mself\u001b[39;49m\u001b[38;5;241;43m.\u001b[39;49m\u001b[43mwait_for_final_state\u001b[49m\u001b[43m(\u001b[49m\u001b[43mtimeout\u001b[49m\u001b[38;5;241;43m=\u001b[39;49m\u001b[43mtimeout\u001b[49m\u001b[43m)\u001b[49m\n\u001b[1;32m    220\u001b[0m     \u001b[38;5;28;01mif\u001b[39;00m \u001b[38;5;28mself\u001b[39m\u001b[38;5;241m.\u001b[39m_status \u001b[38;5;241m==\u001b[39m JobStatus\u001b[38;5;241m.\u001b[39mERROR:\n\u001b[1;32m    221\u001b[0m         error_message \u001b[38;5;241m=\u001b[39m \u001b[38;5;28mself\u001b[39m\u001b[38;5;241m.\u001b[39m_reason \u001b[38;5;28;01mif\u001b[39;00m \u001b[38;5;28mself\u001b[39m\u001b[38;5;241m.\u001b[39m_reason \u001b[38;5;28;01melse\u001b[39;00m \u001b[38;5;28mself\u001b[39m\u001b[38;5;241m.\u001b[39m_error_message\n",
      "File \u001b[0;32m~/opt/anaconda3/envs/rl_qoc/lib/python3.9/site-packages/qiskit_ibm_runtime/runtime_job.py:307\u001b[0m, in \u001b[0;36mRuntimeJob.wait_for_final_state\u001b[0;34m(self, timeout)\u001b[0m\n\u001b[1;32m    305\u001b[0m     \u001b[38;5;28mself\u001b[39m\u001b[38;5;241m.\u001b[39m_ws_client_future \u001b[38;5;241m=\u001b[39m \u001b[38;5;28mself\u001b[39m\u001b[38;5;241m.\u001b[39m_executor\u001b[38;5;241m.\u001b[39msubmit(\u001b[38;5;28mself\u001b[39m\u001b[38;5;241m.\u001b[39m_start_websocket_client)\n\u001b[1;32m    306\u001b[0m \u001b[38;5;28;01mif\u001b[39;00m \u001b[38;5;28mself\u001b[39m\u001b[38;5;241m.\u001b[39m_is_streaming():\n\u001b[0;32m--> 307\u001b[0m     \u001b[38;5;28;43mself\u001b[39;49m\u001b[38;5;241;43m.\u001b[39;49m\u001b[43m_ws_client_future\u001b[49m\u001b[38;5;241;43m.\u001b[39;49m\u001b[43mresult\u001b[49m\u001b[43m(\u001b[49m\u001b[43mtimeout\u001b[49m\u001b[43m)\u001b[49m\n\u001b[1;32m    308\u001b[0m \u001b[38;5;66;03m# poll for status after stream has closed until status is final\u001b[39;00m\n\u001b[1;32m    309\u001b[0m \u001b[38;5;66;03m# because status doesn't become final as soon as stream closes\u001b[39;00m\n\u001b[1;32m    310\u001b[0m status \u001b[38;5;241m=\u001b[39m \u001b[38;5;28mself\u001b[39m\u001b[38;5;241m.\u001b[39mstatus()\n",
      "File \u001b[0;32m~/opt/anaconda3/envs/rl_qoc/lib/python3.9/concurrent/futures/_base.py:441\u001b[0m, in \u001b[0;36mFuture.result\u001b[0;34m(self, timeout)\u001b[0m\n\u001b[1;32m    438\u001b[0m \u001b[38;5;28;01melif\u001b[39;00m \u001b[38;5;28mself\u001b[39m\u001b[38;5;241m.\u001b[39m_state \u001b[38;5;241m==\u001b[39m FINISHED:\n\u001b[1;32m    439\u001b[0m     \u001b[38;5;28;01mreturn\u001b[39;00m \u001b[38;5;28mself\u001b[39m\u001b[38;5;241m.\u001b[39m__get_result()\n\u001b[0;32m--> 441\u001b[0m \u001b[38;5;28;43mself\u001b[39;49m\u001b[38;5;241;43m.\u001b[39;49m\u001b[43m_condition\u001b[49m\u001b[38;5;241;43m.\u001b[39;49m\u001b[43mwait\u001b[49m\u001b[43m(\u001b[49m\u001b[43mtimeout\u001b[49m\u001b[43m)\u001b[49m\n\u001b[1;32m    443\u001b[0m \u001b[38;5;28;01mif\u001b[39;00m \u001b[38;5;28mself\u001b[39m\u001b[38;5;241m.\u001b[39m_state \u001b[38;5;129;01min\u001b[39;00m [CANCELLED, CANCELLED_AND_NOTIFIED]:\n\u001b[1;32m    444\u001b[0m     \u001b[38;5;28;01mraise\u001b[39;00m CancelledError()\n",
      "File \u001b[0;32m~/opt/anaconda3/envs/rl_qoc/lib/python3.9/threading.py:312\u001b[0m, in \u001b[0;36mCondition.wait\u001b[0;34m(self, timeout)\u001b[0m\n\u001b[1;32m    310\u001b[0m \u001b[38;5;28;01mtry\u001b[39;00m:    \u001b[38;5;66;03m# restore state no matter what (e.g., KeyboardInterrupt)\u001b[39;00m\n\u001b[1;32m    311\u001b[0m     \u001b[38;5;28;01mif\u001b[39;00m timeout \u001b[38;5;129;01mis\u001b[39;00m \u001b[38;5;28;01mNone\u001b[39;00m:\n\u001b[0;32m--> 312\u001b[0m         \u001b[43mwaiter\u001b[49m\u001b[38;5;241;43m.\u001b[39;49m\u001b[43macquire\u001b[49m\u001b[43m(\u001b[49m\u001b[43m)\u001b[49m\n\u001b[1;32m    313\u001b[0m         gotit \u001b[38;5;241m=\u001b[39m \u001b[38;5;28;01mTrue\u001b[39;00m\n\u001b[1;32m    314\u001b[0m     \u001b[38;5;28;01melse\u001b[39;00m:\n",
      "\u001b[0;31mKeyboardInterrupt\u001b[0m: "
     ]
    }
   ],
   "source": [
    "for update in tqdm.tqdm(range(1, num_updates + 1)):\n",
    "    next_obs, _ = torch_env.reset(seed=seed)\n",
    "    num_steps = torch_env.episode_length(global_step)\n",
    "    next_obs = torch.Tensor(np.array([next_obs] * batchsize)).to(device)\n",
    "    next_done = torch.zeros(batchsize).to(device)\n",
    "\n",
    "    # print(\"episode length:\", num_steps)\n",
    "\n",
    "    for step in range(num_steps):\n",
    "        global_step += 1\n",
    "        obs[step] = next_obs\n",
    "        dones[step] = next_done\n",
    "\n",
    "        with torch.no_grad():\n",
    "            mean_action, std_action, critic_value = agent(next_obs)\n",
    "            mean_action*=scale_factor\n",
    "            probs = Normal(mean_action, std_action)\n",
    "            action = torch.clip(probs.sample(), torch.Tensor(np.array(min_bound_actions)), torch.Tensor(np.array(max_bound_actions)))\n",
    "            logprob = probs.log_prob(action).sum(1)\n",
    "            values[step] = critic_value.flatten()\n",
    "\n",
    "        actions[step] = action\n",
    "        logprobs[step] = logprob\n",
    "        # next_obs, reward, terminated, truncated, infos = torch_env.step(action.cpu().numpy())\n",
    "        next_obs, reward, terminated, truncated, infos = torch_env.step(action.cpu().numpy())\n",
    "        done = np.logical_or(terminated, truncated)\n",
    "        rewards[step] = torch.tensor(reward).to(device)\n",
    "        next_obs = torch.Tensor(np.array([next_obs] * batchsize)).to(device)\n",
    "        next_done = torch.Tensor(np.array([int(done)] * batchsize)).to(device)\n",
    "        # Only print when at least 1 env is done\n",
    "\n",
    "        # print(f\"global_step={global_step}, episodic_return={np.mean(reward)}\")\n",
    "        writer.add_scalar(\"charts/episodic_return\", np.mean(reward), global_step)\n",
    "        writer.add_scalar(\"charts/episodic_length\", num_steps, global_step)\n",
    "\n",
    "    # bootstrap value if not done\n",
    "    with torch.no_grad():\n",
    "        next_value = agent.get_value(next_obs).reshape(1, -1)\n",
    "        advantages = torch.zeros_like(rewards).to(device)\n",
    "        lastgaelam = 0\n",
    "        for t in reversed(range(num_steps)):\n",
    "            if t == num_steps - 1:\n",
    "                nextnonterminal = 1.0 - next_done\n",
    "                nextvalues = next_value\n",
    "            else:\n",
    "                nextnonterminal = 1.0 - dones[t + 1]\n",
    "                nextvalues = values[t + 1]\n",
    "            delta = rewards[t] + gamma * nextvalues * nextnonterminal - values[t]\n",
    "            advantages[t] = lastgaelam = delta + gamma * gae_lambda * nextnonterminal * lastgaelam\n",
    "        returns = advantages + values\n",
    "\n",
    "    # flatten the batch\n",
    "    b_obs = obs.reshape((-1,) + torch_env.observation_space.shape)\n",
    "    b_logprobs = logprobs.reshape(-1)\n",
    "    b_actions = actions.reshape((-1,) + torch_env.action_space.shape)\n",
    "    b_advantages = advantages.reshape(-1)\n",
    "    b_returns = returns.reshape(-1)\n",
    "    b_values = values.reshape(-1)\n",
    "\n",
    "    # Optimizing the policy and value network\n",
    "    b_inds = np.arange(batchsize)\n",
    "    clipfracs = []\n",
    "    for epoch in range(n_epochs):\n",
    "        np.random.shuffle(b_inds)\n",
    "        for start in range(0, batchsize, minibatch_size):\n",
    "            end = start + minibatch_size\n",
    "            mb_inds = b_inds[start:end]\n",
    "            new_mean, new_sigma, new_value = agent(b_obs[mb_inds])\n",
    "            new_dist = Normal(new_mean, new_sigma)\n",
    "            new_logprob, entropy = new_dist.log_prob(b_actions[mb_inds]).sum(1), new_dist.entropy().sum(1)\n",
    "            logratio = new_logprob - b_logprobs[mb_inds] + torch.log(torch.Tensor([1e-6]))\n",
    "            ratio = logratio.exp()\n",
    "            with torch.no_grad():\n",
    "                # calculate approx_kl http://joschu.net/blog/kl-approx.html\n",
    "                old_approx_kl = (-logratio).mean()\n",
    "                approx_kl = ((ratio - 1) - logratio).mean()\n",
    "                clipfracs += [((ratio - 1.0).abs() > epsilon).float().mean().item()]\n",
    "\n",
    "            mb_advantages = b_advantages[mb_inds]\n",
    "            if normalize_advantage:  # Normalize advantage\n",
    "                mb_advantages = (mb_advantages - mb_advantages.mean()) / (mb_advantages.std() + 1e-8)\n",
    "\n",
    "            # Policy loss\n",
    "            pg_loss1 = -mb_advantages * ratio\n",
    "            pg_loss2 = -mb_advantages * torch.clamp(ratio, 1 - epsilon, 1 + epsilon)\n",
    "            pg_loss = torch.max(pg_loss1, pg_loss2).mean()\n",
    "\n",
    "            # Value loss\n",
    "            newvalue = new_value.view(-1)\n",
    "            if clip_vloss:\n",
    "                v_loss_unclipped = (newvalue - b_returns[mb_inds]) ** 2\n",
    "                v_clipped = b_values[mb_inds] + torch.clamp(\n",
    "                    newvalue - b_values[mb_inds],\n",
    "                    -clip_coef,\n",
    "                    clip_coef,\n",
    "                )\n",
    "                v_loss_clipped = (v_clipped - b_returns[mb_inds]) ** 2\n",
    "                v_loss_max = torch.max(v_loss_unclipped, v_loss_clipped)\n",
    "                v_loss = 0.5 * v_loss_max.mean()\n",
    "            else:\n",
    "                v_loss = 0.5 * ((newvalue - b_returns[mb_inds]) ** 2).mean()\n",
    "\n",
    "            entropy_loss = entropy.mean()\n",
    "            loss = pg_loss - ent_coef * entropy_loss + v_loss * critic_loss_coeff\n",
    "\n",
    "            optimizer.zero_grad()\n",
    "            loss.backward()\n",
    "            nn.utils.clip_grad_norm_(agent.parameters(), grad_clip)\n",
    "            optimizer.step()\n",
    "\n",
    "    y_pred, y_true = b_values.cpu().numpy(), b_returns.cpu().numpy()\n",
    "    var_y = np.var(y_true)\n",
    "    explained_var = np.nan if var_y == 0 else 1 - np.var(y_true - y_pred) / var_y\n",
    "    print(\"mean\", mean_action[0])\n",
    "    print(\"sigma\", std_action[0])\n",
    "    print(\"Average return:\", np.mean(torch_env.reward_history, axis=1)[-1])\n",
    "    # print(np.mean(torch_env.reward_history, axis =1)[-1])\n",
    "    #print(\"Circuit fidelity:\", torch_env.circuit_fidelity_history[-1])\n",
    "    #print(\"Avg gate fidelity:\", torch_env.avg_fidelity_history[-1])   \n",
    "    print(torch_env._get_info())\n",
    "    # TRY NOT TO MODIFY: record rewards for plotting purposes\n",
    "    writer.add_scalar(\"charts/learning_rate\", optimizer.param_groups[0][\"lr\"], global_step)\n",
    "    writer.add_scalar(\"losses/value_loss\", v_loss.item(), global_step)\n",
    "    writer.add_scalar(\"losses/avg_return\", np.mean(torch_env.reward_history, axis=1)[-1], global_step)\n",
    "    #for i in range(num_steps):\n",
    "     #   writer.add_scalar(f\"losses/avg_gate_{i}_fidelity\", torch_env.avg_fidelity_history[-1][i], global_step)\n",
    "    #writer.add_scalar(\"losses/circuit_fidelity\", torch_env.circuit_fidelity_history[-1], global_step)\n",
    "    writer.add_scalar(\"losses/policy_loss\", pg_loss.item(), global_step)\n",
    "    writer.add_scalar(\"losses/entropy\", entropy_loss.item(), global_step)\n",
    "    writer.add_scalar(\"losses/old_approx_kl\", old_approx_kl.item(), global_step)\n",
    "    writer.add_scalar(\"losses/approx_kl\", approx_kl.item(), global_step)\n",
    "    writer.add_scalar(\"losses/clipfrac\", np.mean(clipfracs), global_step)\n",
    "    writer.add_scalar(\"losses/explained_variance\", explained_var, global_step)\n",
    "    if global_step%visualization_steps == 0:\n",
    "        clear_output(wait=True) # for animation\n",
    "\n",
    "torch_env.close()\n",
    "writer.close()\n"
   ]
  },
  {
   "cell_type": "code",
   "execution_count": 50,
   "id": "6cfbbb8c-a6fa-430e-b3c8-1db14cf8f8ef",
   "metadata": {},
   "outputs": [],
   "source": [
    "torch_env.close()\n",
    "writer.close()"
   ]
  },
  {
   "cell_type": "code",
   "execution_count": null,
   "id": "eea0e566-e5f1-41b5-8c4f-b02d5b6fb3bd",
   "metadata": {
    "tags": []
   },
   "outputs": [],
   "source": [
    "import matplotlib.pyplot as plt\n",
    "plt.plot(torch_env.circuit_fidelity_history)"
   ]
  },
  {
   "cell_type": "code",
   "execution_count": null,
   "id": "7c51ed63-ec4d-4516-af1e-5920908109a5",
   "metadata": {
    "tags": []
   },
   "outputs": [],
   "source": [
    "plt.plot(torch_env.avg_fidelity_history)"
   ]
  },
  {
   "cell_type": "code",
   "execution_count": null,
   "id": "9b4df81d-506d-49cb-9127-3597b16745f0",
   "metadata": {
    "tags": []
   },
   "outputs": [],
   "source": [
    "plt.plot(np.mean(torch_env.reward_history, axis=1))"
   ]
  },
  {
   "cell_type": "markdown",
   "id": "f01c4c8e-3d12-418d-b179-ffd5ffe5ab8a",
   "metadata": {},
   "source": [
    "What is below is not relevant to this notebook"
   ]
  },
  {
   "cell_type": "code",
   "execution_count": null,
   "id": "a3d2a326-4ff6-49c4-b784-ceda85b095be",
   "metadata": {
    "tags": []
   },
   "outputs": [],
   "source": [
    "from qiskit.quantum_info import Operator, average_gate_fidelity\n",
    "from qiskit.circuit.library.standard_gates import CXGate\n",
    "my_qc = QuantumCircuit(2, name=\"custom_cx\")\n",
    "optimal_params = [0., 0., 0.5, 0.5, -0.5, 0.5, -0.5]\n",
    "params = [-0.0062,  0.2190,  0.9921,  0.9924, -0.9921,  0.9910, -0.9907]\n",
    "my_qc.u(np.pi * params[0], np.pi * params[1], np.pi * params[2], 0)\n",
    "my_qc.u(np.pi * params[3], np.pi * params[4], np.pi * params[5], 1)\n",
    "my_qc.rzx(np.pi * params[6], 0, 1)\n",
    "average_gate_fidelity(Operator(my_qc), Operator(CXGate()))"
   ]
  },
  {
   "cell_type": "code",
   "execution_count": null,
   "id": "621e1523-ca70-4080-8252-3172f14326ef",
   "metadata": {
    "tags": []
   },
   "outputs": [],
   "source": [
    "from qiskit import QuantumCircuit\n",
    "from qiskit.providers.fake_provider import FakePerth\n",
    "from qiskit_aer import AerSimulator\n",
    "from qiskit_experiments.library import ProcessTomography\n",
    "from qiskit_experiments.framework import BatchExperiment\n",
    "\n",
    "backend = AerSimulator.from_backend(FakePerth())\n",
    "qc = QuantumCircuit(1)\n",
    "qc.x(0)\n",
    "\n",
    "result = BatchExperiment([ProcessTomography(qc), ProcessTomography(qc)], \n",
    "                         backend=backend, flatten_results=True).run().block_for_results()\n",
    "print(result.analysis_results(\"process_fidelity\"))"
   ]
  },
  {
   "cell_type": "code",
   "execution_count": null,
   "id": "1f15f8f7-f2cb-4cbf-b651-903d1c8b88c5",
   "metadata": {
    "tags": []
   },
   "outputs": [],
   "source": [
    "result.analysis_results(\"process_fidelity\")[0].value"
   ]
  },
  {
   "cell_type": "code",
   "execution_count": null,
   "id": "1fcc3268-e2f5-4ba3-aa64-74d45a60ce41",
   "metadata": {
    "tags": []
   },
   "outputs": [],
   "source": [
    "result.analysis_results(\"process_fidelity\")[1].value"
   ]
  },
  {
   "cell_type": "code",
   "execution_count": null,
   "id": "60a61533-15e9-404b-98f7-13b4a5db609c",
   "metadata": {},
   "outputs": [],
   "source": []
  }
 ],
 "metadata": {
  "kernelspec": {
   "display_name": "Python 3 (ipykernel)",
   "language": "python",
   "name": "python3"
  },
  "language_info": {
   "codemirror_mode": {
    "name": "ipython",
    "version": 3
   },
   "file_extension": ".py",
   "mimetype": "text/x-python",
   "name": "python",
   "nbconvert_exporter": "python",
   "pygments_lexer": "ipython3",
   "version": "3.9.16"
  },
  "toc-autonumbering": true
 },
 "nbformat": 4,
 "nbformat_minor": 5
}
