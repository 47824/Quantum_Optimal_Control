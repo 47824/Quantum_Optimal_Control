{
 "cells": [
  {
   "cell_type": "code",
   "execution_count": null,
   "id": "a4291fae-1811-48c0-bbdc-2c064a73926f",
   "metadata": {},
   "outputs": [],
   "source": []
  },
  {
   "cell_type": "code",
   "execution_count": 1,
   "id": "67cd5f18-df95-4280-b366-e7cc83f28a3e",
   "metadata": {
    "tags": []
   },
   "outputs": [],
   "source": [
    "import os\n",
    "os.environ['KMP_DUPLICATE_LIB_OK'] = 'True'\n",
    "import sys\n",
    "module_path = os.path.abspath(os.path.join('/Users/arthurstrauss/Library/CloudStorage/OneDrive-NationalUniversityofSingapore/Coding_projects/Quantum_Optimal_Control'))\n",
    "if module_path not in sys.path:\n",
    "    sys.path.append(module_path)"
   ]
  },
  {
   "cell_type": "code",
   "execution_count": 2,
   "id": "f4d98d4e-4c74-4f75-ba43-0778bfd4daf0",
   "metadata": {
    "tags": []
   },
   "outputs": [
    {
     "name": "stderr",
     "output_type": "stream",
     "text": [
      "/Users/arthurstrauss/opt/anaconda3/envs/qiskit_env/lib/python3.9/site-packages/qiskit_dynamics/dispatch/backends/jax.py:34: UserWarning: The functionality in the perturbation module of Qiskit Dynamics requires a JAX version <= 0.4.6, due to a bug in JAX versions > 0.4.6. For versions 0.4.4, 0.4.5, and 0.4.6, using the perturbation module functionality requires setting os.environ['JAX_JIT_PJIT_API_MERGE'] = '0' before importing JAX or Dynamics.\n",
      "  warnings.warn(\n"
     ]
    }
   ],
   "source": [
    "# Qiskit imports\n",
    "from qiskit import pulse, transpile\n",
    "from qiskit.transpiler import InstructionDurations\n",
    "from qiskit.circuit import ParameterVector, QuantumCircuit, QuantumRegister, Gate, CircuitInstruction\n",
    "from dynamicsbackend_estimator import DynamicsBackendEstimator\n",
    "from qconfig import QiskitConfig\n",
    "from quantumenvironment import QuantumEnvironment\n",
    "from torch.distributions import Normal\n",
    "\n",
    "import numpy as np\n",
    "import tqdm\n",
    "import time\n",
    "from typing import Union, Optional, List, Sequence\n",
    "from IPython.display import clear_output\n",
    "import jax\n",
    "jax.config.update(\"jax_enable_x64\", True)\n",
    "# tell JAX we are using CPU\n",
    "jax.config.update(\"jax_platform_name\", \"cpu\")\n",
    "# import Array and set default backend\n",
    "from qiskit_dynamics.array import Array\n",
    "Array.set_default_backend('jax')"
   ]
  },
  {
   "cell_type": "markdown",
   "id": "8bb00102-c80f-475f-add4-1a3499e20c56",
   "metadata": {
    "tags": []
   },
   "source": [
    "# Circuit macros for environment"
   ]
  },
  {
   "cell_type": "markdown",
   "id": "1697af22-c004-4413-9f34-3823daed3700",
   "metadata": {},
   "source": [
    "Below we define functions defining our way of parametrizing the custom gate we intend to calibrate. In the pulse gate scenario, we define two functions for clearly separating the abstraction layers that are intertwined here.\n",
    "The function ```apply_parametrized_circuit``` creates a custom parametrized ```Gate``` (which can be derived from a predefined Qiskit gate to retrieve its logical effect) and appends it to a ```QuantumCircuit``` given in input. The parametrization of the gate is provided by the ```params: ParameterVector``` argument of the function and is used to build a custom calibration of the gate. This custom calibration is defined in the second function called ```custom_schedule```, which builds a custom parametrized pulse schedule that can be attached to the gate calibration (see this tutorial for more info: https://qiskit.org/documentation/tutorials/circuits_advanced/05_pulse_gates.html).\n",
    "In our approach, we design a custom schedule starting from the baseline calibration already available from IBMQ calibration results. The parameters of our custom schedule are in this framework deviations over baseline parameters of the original calibration, meant to evolve to address the particular circuit context in which the gate is going to be executed."
   ]
  },
  {
   "cell_type": "code",
   "execution_count": 3,
   "id": "76817287-acb9-4c3a-9610-9ae6cd8e6ba7",
   "metadata": {
    "tags": []
   },
   "outputs": [],
   "source": [
    "from qiskit.providers import Backend, BackendV1, BackendV2\n",
    "from qiskit_experiments.calibration_management import Calibrations\n",
    "from basis_gate_library import FixedFrequencyTransmon, EchoedCrossResonance\n",
    "from copy import deepcopy\n",
    "from helper_functions import determine_ecr_params\n",
    "def custom_schedule(backend: Backend, physical_qubits: list, params: ParameterVector, keep_symmetry:bool=True):\n",
    "    \"\"\"\n",
    "    Define parametrization of the pulse schedule characterizing the target gate.\n",
    "    This function can be customized at will, however one shall recall to make sure that number of actions match the \n",
    "    number of pulse parameters used within the function (throught the params argument).\n",
    "        :param backend: IBM Backend on which schedule shall be added\n",
    "        :param physical_qubits: Physical qubits on which custom gate is applied on\n",
    "        :param params: Parameters of the Schedule/Custom gate\n",
    "        :param keep_symmetry: Choose if the two parts of the ECR tone shall be jointly parametrized or not\n",
    "\n",
    "        :return: Parametrized Schedule\n",
    "    \"\"\"\n",
    "    # Load here all pulse parameters names that should be tuned during model-free calibration.\n",
    "    # Here we focus on real time tunable pulse parameters (amp, angle, duration)\n",
    "    pulse_features = [\"amp\", \"angle\", \"tgt_amp\", \"tgt_angle\"]\n",
    "    \n",
    "    # Uncomment lines below to include pulse duration as tunable parameter\n",
    "    # pulse_features.append(\"duration\")\n",
    "    # duration_window = 0\n",
    "    \n",
    "    global n_actions\n",
    "    assert n_actions == len(params), f\"Number of actions ({n_actions}) does not match length of ParameterVector {params.name} ({len(params)})\" \n",
    "    \n",
    "    new_params, _, _ = determine_ecr_params(backend, physical_qubits)\n",
    "    \n",
    "    qubits = tuple(physical_qubits)\n",
    "     \n",
    "    if keep_symmetry: # Maintain symmetry between the two GaussianSquare pulses\n",
    "        for sched in [\"cr45p\", \"cr45m\"]: \n",
    "            for i, feature in enumerate(pulse_features):\n",
    "                if feature != \"duration\":\n",
    "                    new_params[(feature, qubits, sched)] += params[i] \n",
    "                else:\n",
    "                    new_params[(feature, qubits, sched)] += pulse.builder.seconds_to_samples(duration_window * params[i])\n",
    "    else:\n",
    "        num_features =  len(pulse_features)\n",
    "        for i, sched in enumerate([\"cr45p\", \"cr45m\"]): \n",
    "            for j, feature in enumerate(pulse_features):\n",
    "                if feature != \"duration\":\n",
    "                    new_params[(feature, qubits, sched)] += params[i*num_features + j]\n",
    "                else:\n",
    "                    new_params[(feature, qubits, sched)] += pulse.builder.seconds_to_samples(duration_window * params[i*num_features + j])         \n",
    "    \n",
    "    cals = Calibrations.from_backend(backend,[FixedFrequencyTransmon([\"x\", \"sx\"]), \n",
    "                                              EchoedCrossResonance([\"cr45p\", \"cr45m\", \"ecr\"])],\n",
    "                                     add_parameter_defaults=True)\n",
    "\n",
    "    # Retrieve schedule (for now, works only with ECRGate(), as no library yet available for CX)\n",
    "    parametrized_schedule = cals.get_schedule(\"ecr\", physical_qubits, assign_params=new_params)\n",
    "    return parametrized_schedule"
   ]
  },
  {
   "cell_type": "code",
   "execution_count": 4,
   "id": "d73cc442-f1a9-44ea-aea2-bd56a7220a92",
   "metadata": {
    "tags": []
   },
   "outputs": [],
   "source": [
    "# Pulse gate ansatz\n",
    "\n",
    "def apply_parametrized_circuit(qc: QuantumCircuit, params: Optional[ParameterVector]=None, tgt_register: Optional[QuantumRegister]=None):\n",
    "    \"\"\"\n",
    "    Define ansatz circuit to be played on Quantum Computer. Should be parametrized with Qiskit ParameterVector\n",
    "    This function is used to run the QuantumCircuit instance on a Runtime backend\n",
    "    :param qc: Quantum Circuit instance to add the gate on\n",
    "    :param params: Parameters of the custom Gate\n",
    "    :param tgt_register: Quantum Register formed of target qubits\n",
    "    :return:\n",
    "    \"\"\"\n",
    "    global n_actions, backend, target\n",
    "    \n",
    "    if params is None:\n",
    "        params = ParameterVector('theta', n_actions)\n",
    "    if tgt_register is None:\n",
    "        tgt_register = qc.qregs[0]\n",
    "\n",
    "    # Choose below which target gate you'd like to calibrate\n",
    "    # parametrized_gate = Gate(\"custom_ecr\", 2, params=params.params)\n",
    "    gate, physical_qubits = target[\"gate\"], target[\"register\"]\n",
    "    parametrized_gate = gate.copy()\n",
    "    parametrized_gate.params = params.params\n",
    "    parametrized_schedule = custom_schedule(backend=backend, physical_qubits=physical_qubits, params=params)\n",
    "    qc.add_calibration(parametrized_gate, physical_qubits, parametrized_schedule)\n",
    "    qc.append(parametrized_gate, tgt_register)"
   ]
  },
  {
   "cell_type": "markdown",
   "id": "4059901a-ba2d-4752-85b3-71bef088f66c",
   "metadata": {},
   "source": [
    "## Generic information characterizing the quantum system\n",
    "\n",
    "The algorithm is built upon Qiskit modules. To specify how to address our quantum system of interest, we therefore adopt the IBM approach to define a quantum backend, on which qubits are defined and can be accessed via control actions and measurements.\n",
    "\n",
    "The cell below specifies:\n",
    "- ```physical_qubits```: List of qubit indices which are specifically addressed by controls , namely the ones for which we intend to calibrate a gate upon or steer them in a specific quantum state. Note that this list could include less qubits than the total number of qubits, which can be useful when one wants to take into account crosstalk effects emerging from nearest-neigbor coupling.\n",
    "- ```sampling_Paulis```: number of Pauli observables  to be sampled from the system: the algorithm relies on the ability to process measurement outcomes to estimate the expectation value of different Pauli operators. The more observables we provide for sampling, the more properties we are able to deduce with accuracy about the actual state that was created when applying our custom controls. For a single qubit, the possible Pauli operators are $\\sigma_0=I$, $\\sigma_x=X$, $\\sigma_y=Y$, $\\sigma_z=Z$. For a general multiqubit system, the Pauli observables are tensor products of those single qubit Pauli operators. The algorithm will automatically estimate which observables are the most relevant to sample based on the provided target. The probability distribution from which those observables are sampled is derived from the Direct Fidelity Estimation (equation 3, https://link.aps.org/doi/10.1103/PhysRevLett.106.230501) algorithm. \n",
    "- ```N_shots```: Indicates how many measurements shall be done for each provided circuit (that is a specific combination of an action vector and a Pauli observable to be sampled)\n",
    "- ```n_actions```: Indicates the number of pulse/circuit parameters that characterize our parametrized quantum circuit. For our pulse level ansatz, this number will depend on the number of parameters we are willing to tune in the original two-qubit gate calibration. \n",
    "- ```estimator_options```: Options of the Qiskit Estimator primitive. The Estimator is the Qiskit module enabling an easy computation of Pauli expectation values. One can set options to make this process more reliable (typically by doing some error mitigation techniques in post-processing). Works only with Runtime Backend at the moment\n",
    "- ```abstraction_level``` chosen to encode our quantum circuit. One can choose here to stick to the usual circuit model of quantum computing, by using the ```QuantumCircuit``` objects from Qiskit and therefore set the ```abstraction_level``` to ```\"circuit\"```. However, depending on the task at hand, one can also prefer to use a pulse description of all the operations in our circuit. This is possible for both real backends and simulators by using respectively Qiskit Runtime and Qiskit Dynamics. In this case, one should define the ansatz circuit above in a pulse level fashion, and the simulation done at the Hamiltonian level, and not only via statevector calculations. In this notebook we set the ```abstraction_level``` to ```\"pulse\"```. Another notebook at the gate level is available in the repo."
   ]
  },
  {
   "cell_type": "code",
   "execution_count": 5,
   "id": "b93c63f5-9d96-48a1-9cb0-e79c45cdcb4b",
   "metadata": {
    "tags": []
   },
   "outputs": [],
   "source": [
    "physical_qubits = [0, 1]\n",
    "sampling_Paulis = 50\n",
    "N_shots = 200\n",
    "n_actions = 4  # Cf number of parameters in custom_schedule function above\n",
    "abstraction_level = 'pulse'"
   ]
  },
  {
   "cell_type": "code",
   "execution_count": null,
   "id": "8ec8fd8c-e381-4068-ae6b-149dc3999f01",
   "metadata": {},
   "outputs": [],
   "source": []
  },
  {
   "cell_type": "markdown",
   "id": "0ff4a7b7-14cd-444b-9b89-fe456186af51",
   "metadata": {},
   "source": [
    "## Setting up Quantum Backend"
   ]
  },
  {
   "cell_type": "markdown",
   "id": "47f3f046-1ffb-40a2-a6a3-36edfe532e68",
   "metadata": {
    "tags": []
   },
   "source": [
    "### Simulation backend initialization: Qiskit Dynamics\n",
    "If you want to run the algorithm over a simulation, one can use Qiskit Dynamics for pulse level simulation of quantum circuits. Below we set the ground for declaring a ```DynamicsBackend```.\n",
    "\n",
    "This can be done in two ways: \n",
    "\n",
    "1. Declare a ```DynamicsBackend``` from a ```FakeBackend``` or ```IBMBackend``` instance and use the ```from_backend()``` method to retrieve the Hamiltonian description of such backend.\n",
    "2. Alternatively, you can define your own custom Hamiltonian/Linblad that should be used to simulate the multiqubit system of interest, and feed it to a ```Solver``` instance which can be used to declare the ```DynamicsBackend```.\n",
    "For more information you can check Qiskit Dynamics documentation (https://qiskit.org/documentation/dynamics/apidocs/backend.html)\n"
   ]
  },
  {
   "cell_type": "code",
   "execution_count": 6,
   "id": "636c6fc2-82cb-432a-8b7a-aa3aa7eade5b",
   "metadata": {
    "tags": []
   },
   "outputs": [
    {
     "name": "stdout",
     "output_type": "stream",
     "text": [
      "Coupling Map:  [(5, 4), (4, 5), (1, 3), (3, 1), (6, 5), (5, 6), (3, 5), (5, 3), (2, 1), (1, 2), (0, 1), (1, 0)]\n"
     ]
    }
   ],
   "source": [
    "from qiskit.providers.fake_provider import FakeHanoi, FakeJakarta, FakeJakartaV2\n",
    "from helper_functions import get_control_channel_map\n",
    "from qiskit_dynamics import DynamicsBackend, Solver\n",
    "from helper_functions import get_solver_and_freq_from_backend\n",
    "\n",
    "fake_backend = FakeJakarta()\n",
    "fake_backend_v2 = FakeJakartaV2()\n",
    "control_channel_map = get_control_channel_map(fake_backend, physical_qubits)\n",
    "dt = fake_backend_v2.target.dt\n",
    "print(\"Coupling Map: \",list(fake_backend_v2.coupling_map.get_edges()))"
   ]
  },
  {
   "cell_type": "code",
   "execution_count": 7,
   "id": "b25435b5-bb7d-4581-8d08-6f52956da67b",
   "metadata": {
    "tags": []
   },
   "outputs": [],
   "source": [
    "dynamics_options = {'seed_simulator': None, #\"configuration\": fake_backend.configuration(),\n",
    "                    'control_channel_map': control_channel_map, \n",
    "                    \"solver_options\": {\"method\": \"jax_odeint\", \"atol\": 1e-6, \"rtol\": 1e-8, \"hmax\":dt}\n",
    "                    }\n",
    "qubit_properties = fake_backend_v2.qubit_properties(physical_qubits)\n",
    "\n",
    "# Extract channel frequencies and Solver instance from backend to provide a pulse level simulation enabling\n",
    "# fidelity benchmarking\n",
    "channel_freq, solver = get_solver_and_freq_from_backend(\n",
    "    backend=fake_backend,\n",
    "    subsystem_list=physical_qubits,\n",
    "    rotating_frame=\"auto\",\n",
    "    evaluation_mode=\"dense\",\n",
    "    rwa_cutoff_freq=None,\n",
    "    static_dissipators=None,\n",
    "    dissipator_channels=None,\n",
    "    dissipator_operators=None\n",
    ")\n",
    "calibration_files=None"
   ]
  },
  {
   "cell_type": "code",
   "execution_count": 8,
   "id": "f99c6fa5-8c41-4d11-b295-a439f2720b13",
   "metadata": {
    "tags": []
   },
   "outputs": [],
   "source": [
    "# Using the from_backend method\n",
    "\n",
    "dynamics_backend = DynamicsBackend.from_backend(fake_backend, subsystem_list=physical_qubits, **dynamics_options)\n",
    "dynamics_backend.target.qubit_properties = qubit_properties"
   ]
  },
  {
   "cell_type": "code",
   "execution_count": 9,
   "id": "0be5bbc1-628a-4790-8e67-b083f5e0aeb4",
   "metadata": {
    "tags": []
   },
   "outputs": [
    {
     "name": "stdout",
     "output_type": "stream",
     "text": [
      "[QubitProperties(t1=0.00014344345919892887, t2=2.561315610407576e-05, frequency=5236351487.460436), QubitProperties(t1=0.00014443980054869816, t2=2.325239318431975e-05, frequency=5014160311.321986)]\n"
     ]
    }
   ],
   "source": [
    "print(qubit_properties)"
   ]
  },
  {
   "cell_type": "code",
   "execution_count": 10,
   "id": "57fb6148-590e-41cf-91f2-fb876a8fed32",
   "metadata": {
    "tags": []
   },
   "outputs": [],
   "source": [
    "from qiskit.quantum_info import Operator\n",
    "from qiskit_dynamics import Solver, Signal\n",
    "dim = 2\n",
    "dt = 1/4.5e9\n",
    "v0 = 4.86e9\n",
    "anharm0 = -0.32e9\n",
    "r0 = 0.22e9\n",
    "\n",
    "v1 = 4.97e9\n",
    "anharm1 = -0.32e9\n",
    "r1 = 0.26e9\n",
    "\n",
    "X = Operator.from_label('X')\n",
    "Y = Operator.from_label('Y')\n",
    "Z = Operator.from_label('Z')\n",
    "s_p = 0.5 * (X + 1j * Y)\n",
    "\n",
    "solver = Solver(\n",
    "    static_hamiltonian=.5 * 2 * np.pi * v0 * Z,\n",
    "    hamiltonian_operators=[2 * np.pi * r0 * X],\n",
    "    rotating_frame = .5 * 2 * np.pi * v0 * Z,\n",
    "    hamiltonian_channels=[\"d0\"],\n",
    "    channel_carrier_freqs={\"d0\": v0},\n",
    "    dt=dt,\n",
    "    evaluation_mode=\"dense\"\n",
    "    \n",
    ")\n"
   ]
  },
  {
   "cell_type": "code",
   "execution_count": 11,
   "id": "d0d3b05d-f80c-4d2e-844e-72e1d99e1585",
   "metadata": {
    "tags": []
   },
   "outputs": [],
   "source": [
    "dim = 2\n",
    "\n",
    "v = [prop.frequency for prop in qubit_properties]\n",
    "v0 = 4.86e9\n",
    "anharm0 = -0.32e9\n",
    "r0 = 0.22e9\n",
    "\n",
    "v1 = 4.97e9\n",
    "anharm1 = -0.32e9\n",
    "r1 = 0.26e9\n",
    "\n",
    "J = 0.002e9\n",
    "\n",
    "a = np.diag(np.sqrt(np.arange(1, dim)), 1)\n",
    "adag = np.diag(np.sqrt(np.arange(1, dim)), -1)\n",
    "N = np.diag(np.arange(dim))\n",
    "\n",
    "ident = np.eye(dim, dtype=complex)\n",
    "full_ident = np.eye(dim**2, dtype=complex)\n",
    "\n",
    "N0 = np.kron(ident, N)\n",
    "N1 = np.kron(N, ident)\n",
    "\n",
    "a0 = np.kron(ident, a)\n",
    "a1 = np.kron(a, ident)\n",
    "\n",
    "a0dag = np.kron(ident, adag)\n",
    "a1dag = np.kron(adag, ident)\n",
    "\n",
    "\n",
    "static_ham0 = 2 * np.pi * v0 * N0 + np.pi * anharm0 * N0 * (N0 - full_ident)\n",
    "static_ham1 = 2 * np.pi * v1 * N1 + np.pi * anharm1 * N1 * (N1 - full_ident)\n",
    "\n",
    "static_ham_full = static_ham0 + static_ham1 + 2 * np.pi * J * ((a0 + a0dag) @ (a1 + a1dag))\n",
    "\n",
    "drive_op0 = 2 * np.pi * r0 * (a0 + a0dag)\n",
    "drive_op1 = 2 * np.pi * r1 * (a1 + a1dag)\n",
    "\n",
    "# build solver\n",
    "dt = 1/4.5e9\n",
    "\n",
    "solver = Solver(\n",
    "    static_hamiltonian=static_ham_full,\n",
    "    hamiltonian_operators=[drive_op0, drive_op1, drive_op0, drive_op1, drive_op1, drive_op0],\n",
    "    rotating_frame=static_ham_full,\n",
    "    hamiltonian_channels=[\"d0\", \"d1\", \"u0\", \"u1\", \"u2\", \"u3\"],\n",
    "    channel_carrier_freqs={\"d0\": v0, \"d1\": v1, \"u0\": v1, \"u1\": v0, \"u2\":v0, \"u3\": v1},\n",
    "    dt=dt,\n",
    "    evaluation_mode=\"sparse\"\n",
    ")\n",
    "# Consistent solver option to use throughout notebook\n"
   ]
  },
  {
   "cell_type": "code",
   "execution_count": 12,
   "id": "fd04df6b-b988-4999-ab81-8cedc651d7e2",
   "metadata": {
    "tags": []
   },
   "outputs": [],
   "source": [
    "solver_options = {\"method\": \"jax_odeint\", \"atol\": 1e-6, \"rtol\": 1e-8, 'hmax':dt}\n",
    "\n",
    "custom_backend2 = DynamicsBackend(\n",
    "    solver=solver,\n",
    "    #target = fake_backend_v2.target,\n",
    "    subsystem_dims=[dim, dim], # for computing measurement data\n",
    "    solver_options=solver_options, # to be used every time run is called\n",
    ")\n",
    "backend_target = custom_backend2.target\n",
    "channel_freq = None\n",
    "calibration_files = None\n",
    "do_calibrations = True\n",
    "# qubit properties"
   ]
  },
  {
   "cell_type": "code",
   "execution_count": 13,
   "id": "a08c8cab-9f05-4a04-95b5-d02e2f6ab471",
   "metadata": {
    "tags": []
   },
   "outputs": [
    {
     "name": "stdout",
     "output_type": "stream",
     "text": [
      "Target\n",
      "Number of qubits: 2\n",
      "Instructions:\n",
      "\tmeasure\n",
      "\t\t(0,):\n",
      "\t\t\tWith pulse schedule calibration\n",
      "\t\t(1,):\n",
      "\t\t\tWith pulse schedule calibration\n",
      "\n"
     ]
    }
   ],
   "source": [
    "print(custom_backend2.target)"
   ]
  },
  {
   "cell_type": "markdown",
   "id": "bad4c817-0d09-4500-a9e7-a1491c012476",
   "metadata": {},
   "source": [
    "## Select backend"
   ]
  },
  {
   "cell_type": "code",
   "execution_count": 14,
   "id": "7abb3e24-ea90-4fd4-b018-5b1c0c8a2b2e",
   "metadata": {
    "tags": []
   },
   "outputs": [],
   "source": [
    "# Choose backend among the set defined above: {runtime_backend, dynamics_backend, custom_backend}\n",
    "backend = custom_backend2"
   ]
  },
  {
   "cell_type": "code",
   "execution_count": 15,
   "id": "197b496b-4f4f-4320-88a6-33e76e26512a",
   "metadata": {
    "tags": []
   },
   "outputs": [
    {
     "name": "stdout",
     "output_type": "stream",
     "text": [
      "{'gate': Instruction(name='ecr', num_qubits=2, num_clbits=0, params=[]), 'register': [0, 1]}\n"
     ]
    }
   ],
   "source": [
    "# Example of target gate\n",
    "from qiskit.circuit.library.standard_gates import ECRGate, XGate\n",
    "ECR_tgt = {\"gate\": ECRGate(), \"register\": physical_qubits}\n",
    "target = ECR_tgt\n",
    "print(target)"
   ]
  },
  {
   "cell_type": "code",
   "execution_count": 16,
   "id": "edb4e4e7-6320-40fe-8715-7aad1e69336a",
   "metadata": {
    "tags": []
   },
   "outputs": [
    {
     "name": "stdout",
     "output_type": "stream",
     "text": [
      "Starting Rabi experiment for qubit 0...\n",
      "Rabi experiment for qubit 0 done.\n",
      "Starting Drag experiment for qubit 0...\n",
      "Drag experiments done for qubit 0 done.\n",
      "Starting Rabi experiment for qubit 1...\n",
      "Rabi experiment for qubit 1 done.\n",
      "Starting Drag experiment for qubit 1...\n",
      "Drag experiments done for qubit 1 done.\n",
      "All single qubit calibrations are done\n",
      "{(0, 1): 0, (1, 0): 1}\n",
      "Updated Instruction Schedule Map <InstructionScheduleMap(1Q instructions:\n",
      "  q0: {'x', 'z', 'reset', 'id', 'sx', 's', 'tdg', 'h', 'rz', 't', 'measure', 'sdg'}\n",
      "  q1: {'x', 'z', 'reset', 'id', 'sx', 's', 'tdg', 'h', 'rz', 't', 'measure', 'sdg'}\n",
      "Multi qubit instructions:\n",
      "  (0, 1): {'cr45p', 'ecr', 'cr45m'}\n",
      "  (1, 0): {'cr45p', 'ecr', 'cr45m'}\n",
      ")>\n"
     ]
    }
   ],
   "source": [
    "from helper_functions import perform_standard_calibrations\n",
    "\n",
    "cals, results  = perform_standard_calibrations(backend)"
   ]
  },
  {
   "cell_type": "code",
   "execution_count": 28,
   "id": "00812676-db79-40cc-bc80-f1428fe4c509",
   "metadata": {
    "tags": []
   },
   "outputs": [
    {
     "data": {
      "image/png": "[encoded data removed]",
      "text/plain": [
       "<Figure size 203.683x200.667 with 1 Axes>"
      ]
     },
     "execution_count": 28,
     "metadata": {},
     "output_type": "execute_result"
    }
   ],
   "source": [
    "from qiskit.circuit import Parameter\n",
    "from qiskit.primitives import BackendEstimator\n",
    "estimator = BackendEstimator(backend)\n",
    "param = Parameter(\"theta\")\n",
    "qc = QuantumCircuit(2)\n",
    "qc.rzx(param, 0,1)\n",
    "qc.draw(\"mpl\")"
   ]
  },
  {
   "cell_type": "code",
   "execution_count": 29,
   "id": "2d86236b-d1d6-4400-8786-9c63e5ccfda9",
   "metadata": {
    "tags": []
   },
   "outputs": [],
   "source": [
    "from qiskit.quantum_info import SparsePauliOp\n",
    "obs = SparsePauliOp.from_list([(\"XX\" ,1.), ('YY', 1.)])"
   ]
  },
  {
   "cell_type": "code",
   "execution_count": 30,
   "id": "48e2af6c-a62a-4c3a-b5ab-433d50836c41",
   "metadata": {
    "tags": []
   },
   "outputs": [
    {
     "data": {
      "text/plain": [
       "<qiskit.primitives.primitive_job.PrimitiveJob at 0x7faf09cdbbb0>"
      ]
     },
     "execution_count": 30,
     "metadata": {},
     "output_type": "execute_result"
    }
   ],
   "source": [
    "estimator.run(qc, obs, [0.1])"
   ]
  },
  {
   "cell_type": "code",
   "execution_count": 34,
   "id": "a6e49b34-ed7b-4b1d-8e20-04936bba3e94",
   "metadata": {
    "tags": []
   },
   "outputs": [
    {
     "data": {
      "image/png": "[encoded data removed]",
      "text/plain": [
       "<Figure size 203.683x200.667 with 1 Axes>"
      ]
     },
     "execution_count": 34,
     "metadata": {},
     "output_type": "execute_result"
    }
   ],
   "source": [
    "estimator.preprocessed_circuits[0][0].draw(\"mpl\")"
   ]
  },
  {
   "cell_type": "code",
   "execution_count": 40,
   "id": "4dcd945f-3d36-4912-8d73-ac50efdf1966",
   "metadata": {
    "tags": []
   },
   "outputs": [
    {
     "data": {
      "image/png": "[encoded data removed]",
      "text/plain": [
       "<Figure size 370.906x284.278 with 1 Axes>"
      ]
     },
     "execution_count": 40,
     "metadata": {},
     "output_type": "execute_result"
    }
   ],
   "source": [
    "estimator.preprocessed_circuits[0][1][0].draw(\"mpl\")"
   ]
  },
  {
   "cell_type": "code",
   "execution_count": 39,
   "id": "4403a59d-2db1-4cc8-a19c-8c807aadb6cf",
   "metadata": {
    "tags": []
   },
   "outputs": [
    {
     "data": {
      "image/png": "[encoded data removed]",
      "text/plain": [
       "<Figure size 2262.83x618.722 with 1 Axes>"
      ]
     },
     "execution_count": 39,
     "metadata": {},
     "output_type": "execute_result"
    }
   ],
   "source": [
    "estimator.transpiled_circuits[0].draw(\"mpl\")"
   ]
  },
  {
   "cell_type": "code",
   "execution_count": 18,
   "id": "bb664c67-a408-4396-996c-32c25c80b7f6",
   "metadata": {
    "tags": []
   },
   "outputs": [
    {
     "data": {
      "text/plain": [
       "Schedule((0, Play(Drag(duration=160, sigma=40, beta=0, amp=0.05028928, angle=0), DriveChannel(1))), (160, ShiftPhase(1.5707963268, DriveChannel(0))), (160, ShiftPhase(-1.5707963268, DriveChannel(1))), (160, ShiftPhase(-1.5707963268, ControlChannel(0))), (160, ShiftPhase(1.5707963268, ControlChannel(1))), (160, Play(GaussianSquare(duration=1168, sigma=64, width=912, amp=0, angle=0), DriveChannel(1))), (160, Play(GaussianSquare(duration=1168, sigma=64, width=912, amp=0.5, angle=0), ControlChannel(0))), (1328, Play(Drag(duration=160, sigma=40, beta=6.0097120265, amp=0.1185599, angle=0), DriveChannel(0))), (1488, Play(GaussianSquare(duration=1168, sigma=64, width=912, amp=0, angle=3.1415926536), DriveChannel(1))), (1488, Play(GaussianSquare(duration=1168, sigma=64, width=912, amp=0.5, angle=3.1415926536), ControlChannel(0))), (2656, ShiftPhase(-1.0*theta, DriveChannel(1))), (2656, ShiftPhase(3.1415926536, DriveChannel(1))), (2656, ShiftPhase(-1.0*theta, ControlChannel(0))), (2656, ShiftPhase(3.1415926536, ControlChannel(0))), (2656, Play(Drag(duration=160, sigma=40, beta=6.0097120265, amp=0.1185599, angle=0), DriveChannel(0))), (2656, Play(Drag(duration=160, sigma=40, beta=0, amp=0.05028928, angle=0), DriveChannel(1))), (2816, ShiftPhase(1.5707963268, DriveChannel(0))), (2816, ShiftPhase(3.1415926536, DriveChannel(1))), (2816, ShiftPhase(3.1415926536, ControlChannel(0))), (2816, ShiftPhase(1.5707963268, ControlChannel(1))), (2816, Play(GaussianSquare(duration=1168, sigma=64, width=912, amp=0, angle=0), DriveChannel(1))), (2816, Play(GaussianSquare(duration=1168, sigma=64, width=912, amp=0.5, angle=0), ControlChannel(0))), (3984, Play(Drag(duration=160, sigma=40, beta=6.0097120265, amp=0.1185599, angle=0), DriveChannel(0))), (4144, Play(GaussianSquare(duration=1168, sigma=64, width=912, amp=0, angle=3.1415926536), DriveChannel(1))), (4144, Play(GaussianSquare(duration=1168, sigma=64, width=912, amp=0.5, angle=3.1415926536), ControlChannel(0))), (5312, ShiftPhase(-1.5707963268, DriveChannel(1))), (5312, ShiftPhase(-1.5707963268, ControlChannel(0))), (5312, Play(Drag(duration=160, sigma=40, beta=6.0097120265, amp=0.1185599, angle=0), DriveChannel(0))), (5312, Play(Drag(duration=160, sigma=40, beta=0, amp=0.05028928, angle=0), DriveChannel(1))), (5472, ShiftPhase(-1.5707963268, DriveChannel(1))), (5472, ShiftPhase(-1.5707963268, ControlChannel(0))), ..., name=\"circuit-817\")"
      ]
     },
     "execution_count": 18,
     "metadata": {},
     "output_type": "execute_result"
    }
   ],
   "source": [
    "from qiskit.compiler import schedule\n",
    "qc2 = transpile(qc,backend)\n",
    "schedule(qc2,backend)"
   ]
  },
  {
   "cell_type": "code",
   "execution_count": 19,
   "id": "04672482-2184-4ef4-85bb-4bf5207f30a9",
   "metadata": {
    "tags": []
   },
   "outputs": [],
   "source": [
    "from qiskit.quantum_info import SparsePauliOp\n",
    "obs = SparsePauliOp.from_list([(\"XX\", 1.), (\"ZZ\", 1),(\"IZ\",1)])\n"
   ]
  },
  {
   "cell_type": "code",
   "execution_count": 20,
   "id": "da54a30a-de67-4357-a35f-bcb8d487b4be",
   "metadata": {
    "tags": []
   },
   "outputs": [],
   "source": [
    "job = estimator.run(qc, obs, [3.14])"
   ]
  },
  {
   "cell_type": "code",
   "execution_count": 21,
   "id": "482035ce-72a7-44d3-815b-b13e0350afb3",
   "metadata": {
    "tags": []
   },
   "outputs": [],
   "source": [
    "with pulse.build() as sched:\n",
    "    pulse.play(pulse.Drag(param, 0.1, 20, 0.), pulse.DriveChannel(0))\n",
    "    pulse.delay(40, pulse.DriveChannel(0))\n",
    "    pulse.play(pulse.Drag(150, 0.1, 20, 0.), pulse.DriveChannel(0))\n"
   ]
  },
  {
   "cell_type": "code",
   "execution_count": 22,
   "id": "e0bcbec2-fff0-4536-bbdb-de751fbd11b1",
   "metadata": {
    "tags": []
   },
   "outputs": [
    {
     "name": "stdout",
     "output_type": "stream",
     "text": [
      "2\n"
     ]
    },
    {
     "ename": "UnassignedDurationError",
     "evalue": "'All instruction durations should be assigned before creating `Schedule`.Please check `.parameters` to find unassigned parameter objects.'",
     "output_type": "error",
     "traceback": [
      "\u001b[0;31m---------------------------------------------------------------------------\u001b[0m",
      "\u001b[0;31mUnassignedDurationError\u001b[0m                   Traceback (most recent call last)",
      "Input \u001b[0;32mIn [22]\u001b[0m, in \u001b[0;36m<cell line: 1>\u001b[0;34m()\u001b[0m\n\u001b[0;32m----> 1\u001b[0m \u001b[43msched\u001b[49m\u001b[38;5;241;43m.\u001b[39;49m\u001b[43mdraw\u001b[49m\u001b[43m(\u001b[49m\u001b[43m)\u001b[49m\n",
      "File \u001b[0;32m~/opt/anaconda3/envs/qiskit_env/lib/python3.9/site-packages/qiskit/pulse/schedule.py:1733\u001b[0m, in \u001b[0;36m_common_method.<locals>.decorator.<locals>.wrapper\u001b[0;34m(*args, **kwargs)\u001b[0m\n\u001b[1;32m   1731\u001b[0m \u001b[38;5;129m@functools\u001b[39m\u001b[38;5;241m.\u001b[39mwraps(method)\n\u001b[1;32m   1732\u001b[0m \u001b[38;5;28;01mdef\u001b[39;00m \u001b[38;5;21mwrapper\u001b[39m(\u001b[38;5;241m*\u001b[39margs, \u001b[38;5;241m*\u001b[39m\u001b[38;5;241m*\u001b[39mkwargs):\n\u001b[0;32m-> 1733\u001b[0m     \u001b[38;5;28;01mreturn\u001b[39;00m \u001b[43mmethod\u001b[49m\u001b[43m(\u001b[49m\u001b[38;5;241;43m*\u001b[39;49m\u001b[43margs\u001b[49m\u001b[43m,\u001b[49m\u001b[43m \u001b[49m\u001b[38;5;241;43m*\u001b[39;49m\u001b[38;5;241;43m*\u001b[39;49m\u001b[43mkwargs\u001b[49m\u001b[43m)\u001b[49m\n",
      "File \u001b[0;32m~/opt/anaconda3/envs/qiskit_env/lib/python3.9/site-packages/qiskit/pulse/schedule.py:1798\u001b[0m, in \u001b[0;36mdraw\u001b[0;34m(self, style, backend, time_range, time_unit, disable_channels, show_snapshot, show_framechange, show_waveform_info, show_barrier, plotter, axis)\u001b[0m\n\u001b[1;32m   1795\u001b[0m \u001b[38;5;66;03m# pylint: disable=cyclic-import\u001b[39;00m\n\u001b[1;32m   1796\u001b[0m \u001b[38;5;28;01mfrom\u001b[39;00m \u001b[38;5;21;01mqiskit\u001b[39;00m\u001b[38;5;21;01m.\u001b[39;00m\u001b[38;5;21;01mvisualization\u001b[39;00m \u001b[38;5;28;01mimport\u001b[39;00m pulse_drawer\n\u001b[0;32m-> 1798\u001b[0m \u001b[38;5;28;01mreturn\u001b[39;00m \u001b[43mpulse_drawer\u001b[49m\u001b[43m(\u001b[49m\n\u001b[1;32m   1799\u001b[0m \u001b[43m    \u001b[49m\u001b[43mprogram\u001b[49m\u001b[38;5;241;43m=\u001b[39;49m\u001b[38;5;28;43mself\u001b[39;49m\u001b[43m,\u001b[49m\n\u001b[1;32m   1800\u001b[0m \u001b[43m    \u001b[49m\u001b[43mstyle\u001b[49m\u001b[38;5;241;43m=\u001b[39;49m\u001b[43mstyle\u001b[49m\u001b[43m,\u001b[49m\n\u001b[1;32m   1801\u001b[0m \u001b[43m    \u001b[49m\u001b[43mbackend\u001b[49m\u001b[38;5;241;43m=\u001b[39;49m\u001b[43mbackend\u001b[49m\u001b[43m,\u001b[49m\n\u001b[1;32m   1802\u001b[0m \u001b[43m    \u001b[49m\u001b[43mtime_range\u001b[49m\u001b[38;5;241;43m=\u001b[39;49m\u001b[43mtime_range\u001b[49m\u001b[43m,\u001b[49m\n\u001b[1;32m   1803\u001b[0m \u001b[43m    \u001b[49m\u001b[43mtime_unit\u001b[49m\u001b[38;5;241;43m=\u001b[39;49m\u001b[43mtime_unit\u001b[49m\u001b[43m,\u001b[49m\n\u001b[1;32m   1804\u001b[0m \u001b[43m    \u001b[49m\u001b[43mdisable_channels\u001b[49m\u001b[38;5;241;43m=\u001b[39;49m\u001b[43mdisable_channels\u001b[49m\u001b[43m,\u001b[49m\n\u001b[1;32m   1805\u001b[0m \u001b[43m    \u001b[49m\u001b[43mshow_snapshot\u001b[49m\u001b[38;5;241;43m=\u001b[39;49m\u001b[43mshow_snapshot\u001b[49m\u001b[43m,\u001b[49m\n\u001b[1;32m   1806\u001b[0m \u001b[43m    \u001b[49m\u001b[43mshow_framechange\u001b[49m\u001b[38;5;241;43m=\u001b[39;49m\u001b[43mshow_framechange\u001b[49m\u001b[43m,\u001b[49m\n\u001b[1;32m   1807\u001b[0m \u001b[43m    \u001b[49m\u001b[43mshow_waveform_info\u001b[49m\u001b[38;5;241;43m=\u001b[39;49m\u001b[43mshow_waveform_info\u001b[49m\u001b[43m,\u001b[49m\n\u001b[1;32m   1808\u001b[0m \u001b[43m    \u001b[49m\u001b[43mshow_barrier\u001b[49m\u001b[38;5;241;43m=\u001b[39;49m\u001b[43mshow_barrier\u001b[49m\u001b[43m,\u001b[49m\n\u001b[1;32m   1809\u001b[0m \u001b[43m    \u001b[49m\u001b[43mplotter\u001b[49m\u001b[38;5;241;43m=\u001b[39;49m\u001b[43mplotter\u001b[49m\u001b[43m,\u001b[49m\n\u001b[1;32m   1810\u001b[0m \u001b[43m    \u001b[49m\u001b[43maxis\u001b[49m\u001b[38;5;241;43m=\u001b[39;49m\u001b[43maxis\u001b[49m\u001b[43m,\u001b[49m\n\u001b[1;32m   1811\u001b[0m \u001b[43m\u001b[49m\u001b[43m)\u001b[49m\n",
      "File \u001b[0;32m~/opt/anaconda3/envs/qiskit_env/lib/python3.9/site-packages/qiskit/visualization/pulse_v2/interface.py:393\u001b[0m, in \u001b[0;36mdraw\u001b[0;34m(program, style, backend, time_range, time_unit, disable_channels, show_snapshot, show_framechange, show_waveform_info, show_barrier, plotter, axis)\u001b[0m\n\u001b[1;32m    391\u001b[0m \u001b[38;5;66;03m# create empty canvas and load program\u001b[39;00m\n\u001b[1;32m    392\u001b[0m canvas \u001b[38;5;241m=\u001b[39m core\u001b[38;5;241m.\u001b[39mDrawerCanvas(stylesheet\u001b[38;5;241m=\u001b[39mtemp_style, device\u001b[38;5;241m=\u001b[39mdevice)\n\u001b[0;32m--> 393\u001b[0m \u001b[43mcanvas\u001b[49m\u001b[38;5;241;43m.\u001b[39;49m\u001b[43mload_program\u001b[49m\u001b[43m(\u001b[49m\u001b[43mprogram\u001b[49m\u001b[38;5;241;43m=\u001b[39;49m\u001b[43mprogram\u001b[49m\u001b[43m)\u001b[49m\n\u001b[1;32m    395\u001b[0m \u001b[38;5;66;03m#\u001b[39;00m\n\u001b[1;32m    396\u001b[0m \u001b[38;5;66;03m# update configuration\u001b[39;00m\n\u001b[1;32m    397\u001b[0m \u001b[38;5;66;03m#\u001b[39;00m\n\u001b[1;32m    398\u001b[0m \n\u001b[1;32m    399\u001b[0m \u001b[38;5;66;03m# time range\u001b[39;00m\n\u001b[1;32m    400\u001b[0m \u001b[38;5;28;01mif\u001b[39;00m time_range:\n",
      "File \u001b[0;32m~/opt/anaconda3/envs/qiskit_env/lib/python3.9/site-packages/qiskit/visualization/pulse_v2/core.py:223\u001b[0m, in \u001b[0;36mDrawerCanvas.load_program\u001b[0;34m(self, program)\u001b[0m\n\u001b[1;32m    214\u001b[0m \u001b[38;5;250m\u001b[39m\u001b[38;5;124;03m\"\"\"Load a program to draw.\u001b[39;00m\n\u001b[1;32m    215\u001b[0m \n\u001b[1;32m    216\u001b[0m \u001b[38;5;124;03mArgs:\u001b[39;00m\n\u001b[0;32m   (...)\u001b[0m\n\u001b[1;32m    220\u001b[0m \u001b[38;5;124;03m    VisualizationError: When input program is invalid data format.\u001b[39;00m\n\u001b[1;32m    221\u001b[0m \u001b[38;5;124;03m\"\"\"\u001b[39;00m\n\u001b[1;32m    222\u001b[0m \u001b[38;5;28;01mif\u001b[39;00m \u001b[38;5;28misinstance\u001b[39m(program, (pulse\u001b[38;5;241m.\u001b[39mSchedule, pulse\u001b[38;5;241m.\u001b[39mScheduleBlock)):\n\u001b[0;32m--> 223\u001b[0m     \u001b[38;5;28;43mself\u001b[39;49m\u001b[38;5;241;43m.\u001b[39;49m\u001b[43m_schedule_loader\u001b[49m\u001b[43m(\u001b[49m\u001b[43mprogram\u001b[49m\u001b[43m)\u001b[49m\n\u001b[1;32m    224\u001b[0m \u001b[38;5;28;01melif\u001b[39;00m \u001b[38;5;28misinstance\u001b[39m(program, (pulse\u001b[38;5;241m.\u001b[39mWaveform, pulse\u001b[38;5;241m.\u001b[39mParametricPulse, pulse\u001b[38;5;241m.\u001b[39mSymbolicPulse)):\n\u001b[1;32m    225\u001b[0m     \u001b[38;5;28mself\u001b[39m\u001b[38;5;241m.\u001b[39m_waveform_loader(program)\n",
      "File \u001b[0;32m~/opt/anaconda3/envs/qiskit_env/lib/python3.9/site-packages/qiskit/visualization/pulse_v2/core.py:272\u001b[0m, in \u001b[0;36mDrawerCanvas._schedule_loader\u001b[0;34m(self, program)\u001b[0m\n\u001b[1;32m    264\u001b[0m \u001b[38;5;28;01mdef\u001b[39;00m \u001b[38;5;21m_schedule_loader\u001b[39m(\u001b[38;5;28mself\u001b[39m, program: pulse\u001b[38;5;241m.\u001b[39mSchedule \u001b[38;5;241m|\u001b[39m pulse\u001b[38;5;241m.\u001b[39mScheduleBlock):\n\u001b[1;32m    265\u001b[0m \u001b[38;5;250m    \u001b[39m\u001b[38;5;124;03m\"\"\"Load Schedule instance.\u001b[39;00m\n\u001b[1;32m    266\u001b[0m \n\u001b[1;32m    267\u001b[0m \u001b[38;5;124;03m    This function is sub-routine of py:method:`load_program`.\u001b[39;00m\n\u001b[0;32m   (...)\u001b[0m\n\u001b[1;32m    270\u001b[0m \u001b[38;5;124;03m        program: `Schedule` to draw.\u001b[39;00m\n\u001b[1;32m    271\u001b[0m \u001b[38;5;124;03m    \"\"\"\u001b[39;00m\n\u001b[0;32m--> 272\u001b[0m     program \u001b[38;5;241m=\u001b[39m \u001b[43mtarget_qobj_transform\u001b[49m\u001b[43m(\u001b[49m\u001b[43mprogram\u001b[49m\u001b[43m,\u001b[49m\u001b[43m \u001b[49m\u001b[43mremove_directives\u001b[49m\u001b[38;5;241;43m=\u001b[39;49m\u001b[38;5;28;43;01mFalse\u001b[39;49;00m\u001b[43m)\u001b[49m\n\u001b[1;32m    274\u001b[0m     \u001b[38;5;66;03m# initialize scale values\u001b[39;00m\n\u001b[1;32m    275\u001b[0m     \u001b[38;5;28mself\u001b[39m\u001b[38;5;241m.\u001b[39mchan_scales \u001b[38;5;241m=\u001b[39m {}\n",
      "File \u001b[0;32m~/opt/anaconda3/envs/qiskit_env/lib/python3.9/site-packages/qiskit/pulse/transforms/base_transforms.py:41\u001b[0m, in \u001b[0;36mtarget_qobj_transform\u001b[0;34m(sched, remove_directives)\u001b[0m\n\u001b[1;32m     38\u001b[0m \u001b[38;5;28;01mif\u001b[39;00m \u001b[38;5;129;01mnot\u001b[39;00m \u001b[38;5;28misinstance\u001b[39m(sched, Schedule):\n\u001b[1;32m     39\u001b[0m     \u001b[38;5;66;03m# convert into schedule representation\u001b[39;00m\n\u001b[1;32m     40\u001b[0m     \u001b[38;5;28;01mif\u001b[39;00m \u001b[38;5;28misinstance\u001b[39m(sched, ScheduleBlock):\n\u001b[0;32m---> 41\u001b[0m         sched \u001b[38;5;241m=\u001b[39m \u001b[43mcanonicalization\u001b[49m\u001b[38;5;241;43m.\u001b[39;49m\u001b[43mblock_to_schedule\u001b[49m\u001b[43m(\u001b[49m\u001b[43msched\u001b[49m\u001b[43m)\u001b[49m\n\u001b[1;32m     42\u001b[0m     \u001b[38;5;28;01melse\u001b[39;00m:\n\u001b[1;32m     43\u001b[0m         sched \u001b[38;5;241m=\u001b[39m Schedule(\u001b[38;5;241m*\u001b[39m_format_schedule_component(sched))\n",
      "File \u001b[0;32m~/opt/anaconda3/envs/qiskit_env/lib/python3.9/site-packages/qiskit/pulse/transforms/canonicalization.py:45\u001b[0m, in \u001b[0;36mblock_to_schedule\u001b[0;34m(block)\u001b[0m\n\u001b[1;32m     30\u001b[0m \u001b[38;5;250m\u001b[39m\u001b[38;5;124;03m\"\"\"Convert ``ScheduleBlock`` to ``Schedule``.\u001b[39;00m\n\u001b[1;32m     31\u001b[0m \n\u001b[1;32m     32\u001b[0m \u001b[38;5;124;03mArgs:\u001b[39;00m\n\u001b[0;32m   (...)\u001b[0m\n\u001b[1;32m     42\u001b[0m \u001b[38;5;124;03m.. note:: This transform may insert barriers in between contexts.\u001b[39;00m\n\u001b[1;32m     43\u001b[0m \u001b[38;5;124;03m\"\"\"\u001b[39;00m\n\u001b[1;32m     44\u001b[0m \u001b[38;5;28;01mif\u001b[39;00m \u001b[38;5;129;01mnot\u001b[39;00m block\u001b[38;5;241m.\u001b[39mis_schedulable():\n\u001b[0;32m---> 45\u001b[0m     \u001b[38;5;28;01mraise\u001b[39;00m UnassignedDurationError(\n\u001b[1;32m     46\u001b[0m         \u001b[38;5;124m\"\u001b[39m\u001b[38;5;124mAll instruction durations should be assigned before creating `Schedule`.\u001b[39m\u001b[38;5;124m\"\u001b[39m\n\u001b[1;32m     47\u001b[0m         \u001b[38;5;124m\"\u001b[39m\u001b[38;5;124mPlease check `.parameters` to find unassigned parameter objects.\u001b[39m\u001b[38;5;124m\"\u001b[39m\n\u001b[1;32m     48\u001b[0m     )\n\u001b[1;32m     50\u001b[0m schedule \u001b[38;5;241m=\u001b[39m Schedule\u001b[38;5;241m.\u001b[39minitialize_from(block)\n\u001b[1;32m     52\u001b[0m \u001b[38;5;28;01mfor\u001b[39;00m op_data \u001b[38;5;129;01min\u001b[39;00m block\u001b[38;5;241m.\u001b[39mblocks:\n",
      "\u001b[0;31mUnassignedDurationError\u001b[0m: 'All instruction durations should be assigned before creating `Schedule`.Please check `.parameters` to find unassigned parameter objects.'"
     ]
    }
   ],
   "source": [
    "sched.draw()"
   ]
  },
  {
   "cell_type": "code",
   "execution_count": 9,
   "id": "6f35a00e-e101-4d03-bbb3-937b3765d036",
   "metadata": {},
   "outputs": [
    {
     "name": "stdout",
     "output_type": "stream",
     "text": [
      "{'hey': 'Well', 'ho': 'Ay', 'Yo': 'YI'}\n",
      "{'hey': 'Well', 'ho': 'Ay'}\n"
     ]
    },
    {
     "data": {
      "text/plain": [
       "{'hey': 'Well', 'ho': 'Ay'}"
      ]
     },
     "execution_count": 9,
     "metadata": {},
     "output_type": "execute_result"
    }
   ],
   "source": [
    "def concatenate2(**kwargs):\n",
    "    return kwargs\n",
    "def concatenate(**kwargs):\n",
    "    print(kwargs)\n",
    "    for key in kwargs:\n",
    "        if key == \"Yo\":\n",
    "            kwargs.pop(key)\n",
    "            break\n",
    "    print(concatenate2(**kwargs))\n",
    "    return kwargs\n",
    "\n",
    "concatenate(hey=\"Well\", ho= \"Ay\", Yo= \"YI\")\n",
    "\n"
   ]
  },
  {
   "cell_type": "code",
   "execution_count": null,
   "id": "0f70b251-485a-41dd-9ad0-215e2ea10078",
   "metadata": {},
   "outputs": [],
   "source": []
  }
 ],
 "metadata": {
  "kernelspec": {
   "display_name": "Python 3 (ipykernel)",
   "language": "python",
   "name": "python3"
  },
  "language_info": {
   "codemirror_mode": {
    "name": "ipython",
    "version": 3
   },
   "file_extension": ".py",
   "mimetype": "text/x-python",
   "name": "python",
   "nbconvert_exporter": "python",
   "pygments_lexer": "ipython3",
   "version": "3.9.16"
  }
 },
 "nbformat": 4,
 "nbformat_minor": 5
}
