{
 "cells": [
  {
   "cell_type": "code",
   "execution_count": 1,
   "metadata": {
    "ExecuteTime": {
     "end_time": "2024-01-26T02:25:16.952091Z",
     "start_time": "2024-01-26T02:25:16.949244Z"
    }
   },
   "outputs": [],
   "source": [
    "from __future__ import annotations\n",
    "\n",
    "import os\n",
    "\n",
    "os.environ[\"KMP_DUPLICATE_LIB_OK\"] = \"True\"\n",
    "import sys\n",
    "\n",
    "module_path = os.path.abspath(\n",
    "    os.path.join(\"/Users/chatt07/Desktop/cqt_env/Quantum_Optimal_Control\")\n",
    ")\n",
    "if module_path not in sys.path:\n",
    "    sys.path.append(module_path)\n",
    "sys.path.append(\n",
    "    os.path.abspath(\n",
    "        os.path.join(\"/Users/chatt07/Desktop/cqt_env/Quantum_Optimal_Control\")\n",
    "    )\n",
    ")"
   ]
  },
  {
   "cell_type": "code",
   "execution_count": 2,
   "metadata": {
    "ExecuteTime": {
     "end_time": "2024-01-26T02:25:22.568818Z",
     "start_time": "2024-01-26T02:25:17.601776Z"
    }
   },
   "outputs": [
    {
     "name": "stderr",
     "output_type": "stream",
     "text": [
      "/Users/arthurostrauss/anaconda3/envs/rl_qoc/lib/python3.11/site-packages/qiskit_dynamics/dispatch/backends/jax.py:34: UserWarning: The functionality in the perturbation module of Qiskit Dynamics requires a JAX version <= 0.4.6, due to a bug in JAX versions > 0.4.6. For versions 0.4.4, 0.4.5, and 0.4.6, using the perturbation module functionality requires setting os.environ['JAX_JIT_PJIT_API_MERGE'] = '0' before importing JAX or Dynamics.\n",
      "  warnings.warn(\n"
     ]
    },
    {
     "name": "stdout",
     "output_type": "stream",
     "text": [
      "Circuit context\n",
      "global phase: π/2\n",
      "                                           ┌───┐                         »\n",
      "      q_1 -> 0 ────────────────────────────┤ X ├─────────────────────────»\n",
      "               ┌─────────┐┌────┐┌─────────┐└─┬─┘                         »\n",
      "      q_0 -> 1 ┤ Rz(π/2) ├┤ √X ├┤ Rz(π/2) ├──■────■────■──────────────■──»\n",
      "               └─────────┘└────┘└─────────┘       │  ┌─┴─┐            │  »\n",
      "      q_3 -> 2 ───────────────────────────────────┼──┤ X ├────────────┼──»\n",
      "                                                ┌─┴─┐├───┤     ┌───┐┌─┴─┐»\n",
      "      q_2 -> 3 ─────────────────────────────────┤ X ├┤ X ├──■──┤ X ├┤ X ├»\n",
      "                                                └───┘└─┬─┘  │  └─┬─┘└───┘»\n",
      "ancilla_0 -> 4 ────────────────────────────────────────┼────┼────┼───────»\n",
      "                                                       │  ┌─┴─┐  │       »\n",
      "      q_4 -> 5 ────────────────────────────────────────■──┤ X ├──■───────»\n",
      "                                                          └───┘          »\n",
      "ancilla_1 -> 6 ──────────────────────────────────────────────────────────»\n",
      "                                                                         »\n",
      "«                                           \n",
      "«      q_1 -> 0 ────────────────────────────\n",
      "«               ┌─────────┐┌────┐┌─────────┐\n",
      "«      q_0 -> 1 ┤ Rz(π/2) ├┤ √X ├┤ Rz(π/2) ├\n",
      "«               └─────────┘└────┘└─────────┘\n",
      "«      q_3 -> 2 ────────────────────────────\n",
      "«                                           \n",
      "«      q_2 -> 3 ────────────────────────────\n",
      "«                                           \n",
      "«ancilla_0 -> 4 ────────────────────────────\n",
      "«                                           \n",
      "«      q_4 -> 5 ────────────────────────────\n",
      "«                                           \n",
      "«ancilla_1 -> 6 ────────────────────────────\n",
      "«                                           \n"
     ]
    }
   ],
   "source": [
    "from template_configurations.qiskit.q_env_config import (\n",
    "    q_env_config as gate_q_env_config,\n",
    "    circuit_context,\n",
    ")"
   ]
  },
  {
   "cell_type": "code",
   "execution_count": 3,
   "metadata": {
    "ExecuteTime": {
     "end_time": "2024-01-26T02:25:22.587938Z",
     "start_time": "2024-01-26T02:25:22.583622Z"
    }
   },
   "outputs": [],
   "source": [
    "from quantumenvironment import QuantumEnvironment\n",
    "from context_aware_quantum_environment import ContextAwareQuantumEnvironment\n",
    "from gymnasium.wrappers import RescaleAction, ClipAction"
   ]
  },
  {
   "cell_type": "code",
   "execution_count": 4,
   "metadata": {
    "ExecuteTime": {
     "end_time": "2024-01-26T02:25:22.833929Z",
     "start_time": "2024-01-26T02:25:22.615295Z"
    }
   },
   "outputs": [],
   "source": [
    "q_env = QuantumEnvironment(gate_q_env_config)\n",
    "from qiskit.primitives import Estimator\n",
    "\n",
    "# q_env = ContextAwareQuantumEnvironment(\n",
    "#     gate_q_env_config, circuit_context, training_steps_per_gate=250\n",
    "# )\n",
    "# q_env.estimator = Estimator()\n",
    "q_env = ClipAction(q_env)\n",
    "q_env = RescaleAction(q_env, -1.0, 1.0)"
   ]
  },
  {
   "cell_type": "code",
   "outputs": [
    {
     "name": "stdout",
     "output_type": "stream",
     "text": [
      "Statevector([0.+0.j, 1.+0.j, 0.+0.j, 0.+0.j],\n",
      "            dims=(2, 2))\n",
      "DensityMatrix([[0.+0.j, 0.+0.j, 0.+0.j, 0.+0.j],\n",
      "               [0.+0.j, 0.+0.j, 0.+0.j, 0.+0.j],\n",
      "               [0.+0.j, 0.+0.j, 0.+0.j, 0.+0.j],\n",
      "               [0.+0.j, 0.+0.j, 0.+0.j, 1.+0.j]],\n",
      "              dims=(2, 2))\n"
     ]
    }
   ],
   "source": [
    "from qiskit.quantum_info import Statevector, partial_trace\n",
    "from qiskit import QuantumCircuit\n",
    "\n",
    "qc = QuantumCircuit(3)\n",
    "qc.x(0)\n",
    "qc.x(1)\n",
    "print(Statevector.from_label(\"01\"))\n",
    "print(partial_trace(Statevector(qc), [2]))"
   ],
   "metadata": {
    "collapsed": false,
    "ExecuteTime": {
     "end_time": "2024-01-26T02:29:10.003002Z",
     "start_time": "2024-01-26T02:29:09.996514Z"
    }
   },
   "execution_count": 5
  },
  {
   "cell_type": "code",
   "outputs": [
    {
     "data": {
      "text/plain": "<Figure size 271.4x271.4 with 1 Axes>",
      "image/png": "[encoded data removed]"
     },
     "execution_count": 6,
     "metadata": {},
     "output_type": "execute_result"
    }
   ],
   "source": [
    "from qiskit.visualization import plot_gate_map\n",
    "\n",
    "plot_gate_map(q_env.backend)"
   ],
   "metadata": {
    "collapsed": false,
    "ExecuteTime": {
     "end_time": "2024-01-26T02:29:11.779569Z",
     "start_time": "2024-01-26T02:29:10.936526Z"
    }
   },
   "execution_count": 6
  },
  {
   "cell_type": "code",
   "execution_count": 7,
   "metadata": {
    "ExecuteTime": {
     "end_time": "2024-01-26T02:29:12.471999Z",
     "start_time": "2024-01-26T02:29:12.467375Z"
    }
   },
   "outputs": [],
   "source": [
    "import yaml\n",
    "\n",
    "with open(\n",
    "        \"/Users/arthurostrauss/Library/CloudStorage/OneDrive-NationalUniversityofSingapore/Coding_projects/Quantum_Optimal_Control/template_configurations/agent_config.yaml\",\n",
    "        \"r\",\n",
    ") as f:\n",
    "    agent_config = yaml.safe_load(f)"
   ]
  },
  {
   "cell_type": "code",
   "execution_count": 8,
   "metadata": {
    "ExecuteTime": {
     "end_time": "2024-01-26T02:29:13.339665Z",
     "start_time": "2024-01-26T02:29:12.985058Z"
    }
   },
   "outputs": [],
   "source": [
    "from ppo import make_train_ppo\n",
    "\n",
    "ppo_agent = make_train_ppo(agent_config, q_env)"
   ]
  },
  {
   "cell_type": "code",
   "execution_count": 9,
   "metadata": {},
   "outputs": [
    {
     "name": "stderr",
     "output_type": "stream",
     "text": [
      " 96%|█████████▌| 480/500 [01:25<00:03,  5.67it/s]"
     ]
    },
    {
     "name": "stdout",
     "output_type": "stream",
     "text": [
      "Starting benchmarking...\n",
      "Starting simulation benchmark...\n",
      "Finished simulation benchmark\n",
      "Finished benchmarking\n",
      "SparsePauliOp(['II', 'XX', 'YZ', 'ZY'],\n",
      "              coeffs=[0.25+0.j, 0.25+0.j, 0.25+0.j, 0.25+0.j])\n"
     ]
    },
    {
     "name": "stderr",
     "output_type": "stream",
     "text": [
      " 96%|█████████▌| 481/500 [01:25<00:03,  5.76it/s]"
     ]
    },
    {
     "name": "stdout",
     "output_type": "stream",
     "text": [
      "mean tensor([-0.0051,  0.5511, -1.0000,  0.5250,  0.5038, -0.5347,  0.4607])\n",
      "sigma tensor([0.0192, 0.0227, 0.0478, 0.0203, 0.0144, 0.0130, 0.0128])\n",
      "DFE Rewards Mean: 0.973631234831515\n",
      "DFE Rewards standard dev 0.026493482222002106\n",
      "Returns Mean: 4.858529\n",
      "Returns standard dev 3.1099064\n",
      "Advantages Mean: -2.0676365\n",
      "Advantages standard dev 3.1099064\n",
      "Starting benchmarking...\n",
      "Starting simulation benchmark...\n",
      "Finished simulation benchmark\n",
      "Finished benchmarking\n",
      "SparsePauliOp(['II', 'IY', 'XI', 'XY'],\n",
      "              coeffs=[0.25+0.j, 0.25+0.j, 0.25+0.j, 0.25+0.j])\n"
     ]
    },
    {
     "name": "stderr",
     "output_type": "stream",
     "text": [
      " 96%|█████████▋| 482/500 [01:25<00:03,  5.78it/s]"
     ]
    },
    {
     "name": "stdout",
     "output_type": "stream",
     "text": [
      "mean tensor([ 0.0031,  0.5425, -1.0000,  0.5426,  0.4922, -0.5352,  0.4743])\n",
      "sigma tensor([0.0309, 0.0189, 0.0238, 0.0195, 0.0187, 0.0156, 0.0151])\n",
      "DFE Rewards Mean: 0.9919156201245531\n",
      "DFE Rewards standard dev 0.012212046982900284\n",
      "Returns Mean: 7.164135\n",
      "Returns standard dev 4.1061254\n",
      "Advantages Mean: 0.82275146\n",
      "Advantages standard dev 4.1061254\n",
      "Starting benchmarking...\n",
      "Starting simulation benchmark...\n",
      "Finished simulation benchmark\n",
      "Finished benchmarking\n",
      "SparsePauliOp(['II', 'XY', 'YZ', 'ZX'],\n",
      "              coeffs=[ 0.25+0.j,  0.25+0.j,  0.25+0.j, -0.25+0.j])\n"
     ]
    },
    {
     "name": "stderr",
     "output_type": "stream",
     "text": [
      " 97%|█████████▋| 483/500 [01:25<00:02,  5.81it/s]"
     ]
    },
    {
     "name": "stdout",
     "output_type": "stream",
     "text": [
      "mean tensor([ 0.0039,  0.5448, -1.0000,  0.5484,  0.4913, -0.5317,  0.4799])\n",
      "sigma tensor([0.0316, 0.0163, 0.0189, 0.0192, 0.0188, 0.0147, 0.0165])\n",
      "DFE Rewards Mean: 0.9800434023286466\n",
      "DFE Rewards standard dev 0.019986044656612252\n",
      "Returns Mean: 5.404104\n",
      "Returns standard dev 3.5507565\n",
      "Advantages Mean: -1.0464181\n",
      "Advantages standard dev 3.5507567\n",
      "Starting benchmarking...\n",
      "Starting simulation benchmark...\n",
      "Finished simulation benchmark\n",
      "Finished benchmarking\n",
      "SparsePauliOp(['II', 'IZ', 'YI', 'YZ'],\n",
      "              coeffs=[ 0.25+0.j, -0.25+0.j, -0.25+0.j,  0.25+0.j])\n"
     ]
    },
    {
     "name": "stderr",
     "output_type": "stream",
     "text": [
      " 97%|█████████▋| 484/500 [01:26<00:02,  5.83it/s]"
     ]
    },
    {
     "name": "stdout",
     "output_type": "stream",
     "text": [
      "mean tensor([-0.0058,  0.4916, -1.0000,  0.5023,  0.4998, -0.5196,  0.4708])\n",
      "sigma tensor([0.0196, 0.0278, 0.0758, 0.0169, 0.0191, 0.0145, 0.0125])\n",
      "DFE Rewards Mean: 0.9943490564956009\n",
      "DFE Rewards standard dev 0.011030801877490838\n",
      "Returns Mean: 7.6984634\n",
      "Returns standard dev 4.142675\n",
      "Advantages Mean: 0.63694286\n",
      "Advantages standard dev 4.142675\n",
      "Starting benchmarking...\n",
      "Starting simulation benchmark...\n",
      "Finished simulation benchmark\n",
      "Finished benchmarking\n",
      "SparsePauliOp(['II', 'IZ', 'ZI', 'ZZ'],\n",
      "              coeffs=[0.25+0.j, 0.25+0.j, 0.25+0.j, 0.25+0.j])\n"
     ]
    },
    {
     "name": "stderr",
     "output_type": "stream",
     "text": [
      " 97%|█████████▋| 485/500 [01:26<00:02,  5.81it/s]"
     ]
    },
    {
     "name": "stdout",
     "output_type": "stream",
     "text": [
      "mean tensor([-0.0068,  0.4502, -1.0000,  0.4672,  0.5163, -0.4953,  0.4567])\n",
      "sigma tensor([0.0137, 0.0406, 0.2264, 0.0152, 0.0193, 0.0133, 0.0114])\n",
      "DFE Rewards Mean: 0.996981199989083\n",
      "DFE Rewards standard dev 0.00645365476632655\n",
      "Returns Mean: 8.057406\n",
      "Returns standard dev 3.8917494\n",
      "Advantages Mean: 0.14899339\n",
      "Advantages standard dev 3.8917494\n",
      "Starting benchmarking...\n",
      "Starting simulation benchmark...\n",
      "Finished simulation benchmark\n",
      "Finished benchmarking\n",
      "SparsePauliOp(['II', 'IZ', 'XI', 'XZ'],\n",
      "              coeffs=[ 0.25+0.j, -0.25+0.j,  0.25+0.j, -0.25+0.j])\n"
     ]
    },
    {
     "name": "stderr",
     "output_type": "stream",
     "text": [
      " 97%|█████████▋| 486/500 [01:26<00:02,  4.72it/s]"
     ]
    },
    {
     "name": "stdout",
     "output_type": "stream",
     "text": [
      "mean tensor([-0.0115,  0.4795, -1.0000,  0.5075,  0.5058, -0.5107,  0.4773])\n",
      "sigma tensor([0.0198, 0.0263, 0.0920, 0.0188, 0.0246, 0.0149, 0.0144])\n",
      "DFE Rewards Mean: 0.9970452573046675\n",
      "DFE Rewards standard dev 0.008605851105033886\n",
      "Returns Mean: 8.538205\n",
      "Returns standard dev 4.1998944\n",
      "Advantages Mean: 1.0979728\n",
      "Advantages standard dev 4.1998944\n",
      "Starting benchmarking...\n",
      "Starting simulation benchmark...\n",
      "Finished simulation benchmark\n",
      "Finished benchmarking\n",
      "SparsePauliOp(['II', 'IZ', 'YI', 'YZ'],\n",
      "              coeffs=[ 0.25+0.j, -0.25+0.j, -0.25+0.j,  0.25+0.j])\n"
     ]
    },
    {
     "name": "stderr",
     "output_type": "stream",
     "text": [
      " 97%|█████████▋| 487/500 [01:26<00:02,  5.06it/s]"
     ]
    },
    {
     "name": "stdout",
     "output_type": "stream",
     "text": [
      "mean tensor([-0.0082,  0.4879, -1.0000,  0.5130,  0.5071, -0.5042,  0.4812])\n",
      "sigma tensor([0.0200, 0.0283, 0.0812, 0.0188, 0.0233, 0.0146, 0.0139])\n",
      "DFE Rewards Mean: 0.9966811612981019\n",
      "DFE Rewards standard dev 0.007560653742701761\n",
      "Returns Mean: 8.283459\n",
      "Returns standard dev 4.066717\n",
      "Advantages Mean: 0.7632947\n",
      "Advantages standard dev 4.066717\n",
      "Starting benchmarking...\n",
      "Starting simulation benchmark...\n",
      "Finished simulation benchmark\n",
      "Finished benchmarking\n",
      "SparsePauliOp(['II', 'XX', 'YZ', 'ZY'],\n",
      "              coeffs=[0.25+0.j, 0.25+0.j, 0.25+0.j, 0.25+0.j])\n"
     ]
    },
    {
     "name": "stderr",
     "output_type": "stream",
     "text": [
      " 98%|█████████▊| 488/500 [01:26<00:02,  5.27it/s]"
     ]
    },
    {
     "name": "stdout",
     "output_type": "stream",
     "text": [
      "mean tensor([ 0.0036,  0.5019, -1.0000,  0.5379,  0.5092, -0.5104,  0.4871])\n",
      "sigma tensor([0.0230, 0.0253, 0.0424, 0.0180, 0.0246, 0.0135, 0.0128])\n",
      "DFE Rewards Mean: 0.9902061690052627\n",
      "DFE Rewards standard dev 0.014740946269372255\n",
      "Returns Mean: 7.046054\n",
      "Returns standard dev 4.2089787\n",
      "Advantages Mean: -0.27412224\n",
      "Advantages standard dev 4.2089787\n",
      "Starting benchmarking...\n"
     ]
    },
    {
     "name": "stderr",
     "output_type": "stream",
     "text": [
      " 98%|█████████▊| 489/500 [01:27<00:02,  5.33it/s]"
     ]
    },
    {
     "name": "stdout",
     "output_type": "stream",
     "text": [
      "Starting simulation benchmark...\n",
      "Finished simulation benchmark\n",
      "Finished benchmarking\n",
      "SparsePauliOp(['II', 'XX', 'YY', 'ZZ'],\n",
      "              coeffs=[ 0.25+0.j,  0.25+0.j,  0.25+0.j, -0.25+0.j])\n",
      "mean tensor([ 0.0048,  0.4754, -1.0000,  0.5390,  0.5050, -0.5111,  0.4726])\n",
      "sigma tensor([0.0188, 0.0276, 0.0580, 0.0162, 0.0224, 0.0155, 0.0143])\n",
      "DFE Rewards Mean: 0.9880740773420817\n",
      "DFE Rewards standard dev 0.014692914228936146\n",
      "Returns Mean: 6.4339437\n",
      "Returns standard dev 3.9487216\n",
      "Advantages Mean: -1.0111372\n",
      "Advantages standard dev 3.9487216\n",
      "Starting benchmarking...\n",
      "Starting simulation benchmark...\n",
      "Finished simulation benchmark\n",
      "Finished benchmarking\n",
      "SparsePauliOp(['II', 'IX', 'XI', 'XX'],\n",
      "              coeffs=[0.25+0.j, 0.25+0.j, 0.25+0.j, 0.25+0.j])\n"
     ]
    },
    {
     "name": "stderr",
     "output_type": "stream",
     "text": [
      " 98%|█████████▊| 490/500 [01:27<00:01,  5.39it/s]"
     ]
    },
    {
     "name": "stdout",
     "output_type": "stream",
     "text": [
      "mean tensor([ 0.0026,  0.4795, -1.0000,  0.5419,  0.4954, -0.5048,  0.4760])\n",
      "sigma tensor([0.0194, 0.0250, 0.0477, 0.0170, 0.0222, 0.0152, 0.0126])\n",
      "DFE Rewards Mean: 0.9916890295958986\n",
      "DFE Rewards standard dev 0.013151199343219861\n",
      "Returns Mean: 6.9676824\n",
      "Returns standard dev 3.9563062\n",
      "Advantages Mean: -0.13451166\n",
      "Advantages standard dev 3.9563062\n",
      "Starting benchmarking...\n",
      "Starting simulation benchmark...\n",
      "Finished simulation benchmark\n",
      "Finished benchmarking\n",
      "SparsePauliOp(['II', 'IZ', 'ZI', 'ZZ'],\n",
      "              coeffs=[ 0.25+0.j,  0.25+0.j, -0.25+0.j, -0.25+0.j])\n"
     ]
    },
    {
     "name": "stderr",
     "output_type": "stream",
     "text": [
      " 98%|█████████▊| 491/500 [01:27<00:01,  5.54it/s]"
     ]
    },
    {
     "name": "stdout",
     "output_type": "stream",
     "text": [
      "mean tensor([-0.0187,  0.4237, -1.0000,  0.5002,  0.5158, -0.4996,  0.4687])\n",
      "sigma tensor([0.0106, 0.0412, 0.1875, 0.0179, 0.0200, 0.0150, 0.0106])\n",
      "DFE Rewards Mean: 0.9932719489548024\n",
      "DFE Rewards standard dev 0.010638777116661387\n",
      "Returns Mean: 7.329673\n",
      "Returns standard dev 4.125359\n",
      "Advantages Mean: -0.5987049\n",
      "Advantages standard dev 4.125359\n",
      "Starting benchmarking...\n"
     ]
    },
    {
     "name": "stderr",
     "output_type": "stream",
     "text": [
      " 98%|█████████▊| 492/500 [01:27<00:01,  5.59it/s]"
     ]
    },
    {
     "name": "stdout",
     "output_type": "stream",
     "text": [
      "Starting simulation benchmark...\n",
      "Finished simulation benchmark\n",
      "Finished benchmarking\n",
      "SparsePauliOp(['II', 'IZ', 'YI', 'YZ'],\n",
      "              coeffs=[0.25+0.j, 0.25+0.j, 0.25+0.j, 0.25+0.j])\n",
      "mean tensor([-0.0156,  0.4321, -1.0000,  0.5090,  0.5053, -0.4995,  0.4709])\n",
      "sigma tensor([0.0117, 0.0384, 0.1507, 0.0170, 0.0214, 0.0152, 0.0101])\n",
      "DFE Rewards Mean: 0.9946388233490344\n",
      "DFE Rewards standard dev 0.011368703908668107\n",
      "Returns Mean: 7.9029922\n",
      "Returns standard dev 4.2686033\n",
      "Advantages Mean: 0.36823928\n",
      "Advantages standard dev 4.2686033\n",
      "Starting benchmarking...\n",
      "Starting simulation benchmark...\n",
      "Finished simulation benchmark\n",
      "Finished benchmarking\n",
      "SparsePauliOp(['II', 'IZ', 'ZI', 'ZZ'],\n",
      "              coeffs=[ 0.25+0.j, -0.25+0.j, -0.25+0.j,  0.25+0.j])\n"
     ]
    },
    {
     "name": "stderr",
     "output_type": "stream",
     "text": [
      " 99%|█████████▊| 493/500 [01:27<00:01,  5.64it/s]"
     ]
    },
    {
     "name": "stdout",
     "output_type": "stream",
     "text": [
      "mean tensor([-0.0130,  0.4400, -1.0000,  0.5112,  0.5064, -0.5047,  0.4732])\n",
      "sigma tensor([0.0135, 0.0336, 0.1337, 0.0171, 0.0218, 0.0141, 0.0102])\n",
      "DFE Rewards Mean: 0.9962640772937821\n",
      "DFE Rewards standard dev 0.008453152184165003\n",
      "Returns Mean: 8.346849\n",
      "Returns standard dev 4.223663\n",
      "Advantages Mean: 0.75933415\n",
      "Advantages standard dev 4.223663\n",
      "Starting benchmarking...\n",
      "Starting simulation benchmark...\n",
      "Finished simulation benchmark\n",
      "Finished benchmarking\n",
      "SparsePauliOp(['II', 'IZ', 'ZI', 'ZZ'],\n",
      "              coeffs=[ 0.25+0.j, -0.25+0.j, -0.25+0.j,  0.25+0.j])\n",
      "mean tensor([-0.0159,  0.4294, -1.0000,  0.5123,  0.5123, -0.4987,  0.4766])\n",
      "sigma tensor([0.0123, 0.0377, 0.1550, 0.0161, 0.0205, 0.0148, 0.0098])\n",
      "DFE Rewards Mean: 0.9966356107409347\n"
     ]
    },
    {
     "name": "stderr",
     "output_type": "stream",
     "text": [
      " 99%|█████████▉| 494/500 [01:27<00:01,  5.82it/s]"
     ]
    },
    {
     "name": "stdout",
     "output_type": "stream",
     "text": [
      "DFE Rewards standard dev 0.008461850440525902\n",
      "Returns Mean: 8.484068\n",
      "Returns standard dev 4.189054\n",
      "Advantages Mean: 0.71943647\n",
      "Advantages standard dev 4.189054\n",
      "Starting benchmarking...\n",
      "Starting simulation benchmark...\n",
      "Finished simulation benchmark\n",
      "Finished benchmarking\n",
      "SparsePauliOp(['II', 'IZ', 'ZI', 'ZZ'],\n",
      "              coeffs=[ 0.25+0.j, -0.25+0.j, -0.25+0.j,  0.25+0.j])\n"
     ]
    },
    {
     "name": "stderr",
     "output_type": "stream",
     "text": [
      " 99%|█████████▉| 495/500 [01:28<00:00,  5.84it/s]"
     ]
    },
    {
     "name": "stdout",
     "output_type": "stream",
     "text": [
      "mean tensor([-0.0173,  0.4327, -1.0000,  0.5140,  0.5141, -0.5000,  0.4757])\n",
      "sigma tensor([0.0135, 0.0379, 0.1557, 0.0134, 0.0207, 0.0171, 0.0107])\n",
      "DFE Rewards Mean: 0.9960185791220671\n",
      "DFE Rewards standard dev 0.009175064375934447\n",
      "Returns Mean: 8.221864\n",
      "Returns standard dev 4.21182\n",
      "Advantages Mean: 0.2670946\n",
      "Advantages standard dev 4.21182\n",
      "Starting benchmarking...\n"
     ]
    },
    {
     "name": "stderr",
     "output_type": "stream",
     "text": [
      " 99%|█████████▉| 496/500 [01:28<00:00,  5.75it/s]"
     ]
    },
    {
     "name": "stdout",
     "output_type": "stream",
     "text": [
      "Starting simulation benchmark...\n",
      "Finished simulation benchmark\n",
      "Finished benchmarking\n",
      "SparsePauliOp(['II', 'IZ', 'ZI', 'ZZ'],\n",
      "              coeffs=[ 0.25+0.j,  0.25+0.j, -0.25+0.j, -0.25+0.j])\n",
      "mean tensor([-0.0144,  0.4012, -1.0000,  0.5046,  0.5156, -0.5005,  0.4792])\n",
      "sigma tensor([0.0108, 0.0427, 0.2531, 0.0117, 0.0193, 0.0175, 0.0092])\n",
      "DFE Rewards Mean: 0.9950747214438653\n",
      "DFE Rewards standard dev 0.009561610013515125\n",
      "Returns Mean: 7.9089947\n",
      "Returns standard dev 4.211484\n",
      "Advantages Mean: -0.47155887\n",
      "Advantages standard dev 4.211484\n",
      "Starting benchmarking...\n",
      "Starting simulation benchmark...\n",
      "Finished simulation benchmark\n",
      "Finished benchmarking\n",
      "SparsePauliOp(['II', 'XX', 'YY', 'ZZ'],\n",
      "              coeffs=[ 0.25+0.j,  0.25+0.j,  0.25+0.j, -0.25+0.j])\n"
     ]
    },
    {
     "name": "stderr",
     "output_type": "stream",
     "text": [
      " 99%|█████████▉| 497/500 [01:28<00:00,  5.78it/s]"
     ]
    },
    {
     "name": "stdout",
     "output_type": "stream",
     "text": [
      "mean tensor([ 0.0021,  0.4612, -1.0000,  0.5516,  0.5090, -0.5074,  0.4880])\n",
      "sigma tensor([0.0189, 0.0271, 0.0755, 0.0128, 0.0181, 0.0167, 0.0099])\n",
      "DFE Rewards Mean: 0.9805042210463355\n",
      "DFE Rewards standard dev 0.018917914430232597\n",
      "Returns Mean: 5.3576837\n",
      "Returns standard dev 3.3828144\n",
      "Advantages Mean: -2.034657\n",
      "Advantages standard dev 3.3828144\n",
      "Starting benchmarking...\n",
      "Starting simulation benchmark...\n",
      "Finished simulation benchmark\n",
      "Finished benchmarking\n",
      "SparsePauliOp(['II', 'XY', 'YX', 'ZZ'],\n",
      "              coeffs=[0.25+0.j, 0.25+0.j, 0.25+0.j, 0.25+0.j])\n"
     ]
    },
    {
     "name": "stderr",
     "output_type": "stream",
     "text": [
      "100%|█████████▉| 498/500 [01:28<00:00,  5.90it/s]"
     ]
    },
    {
     "name": "stdout",
     "output_type": "stream",
     "text": [
      "mean tensor([ 0.0077,  0.4768, -1.0000,  0.5643,  0.5025, -0.5091,  0.4919])\n",
      "sigma tensor([0.0214, 0.0219, 0.0406, 0.0127, 0.0172, 0.0179, 0.0095])\n",
      "DFE Rewards Mean: 0.9854912087339549\n",
      "DFE Rewards standard dev 0.014455289391564076\n",
      "Returns Mean: 5.8163767\n",
      "Returns standard dev 3.6190045\n",
      "Advantages Mean: -1.0408183\n",
      "Advantages standard dev 3.6190042\n",
      "Starting benchmarking...\n",
      "Starting simulation benchmark...\n",
      "Finished simulation benchmark\n",
      "Finished benchmarking\n",
      "SparsePauliOp(['II', 'XX', 'YY', 'ZZ'],\n",
      "              coeffs=[ 0.25+0.j,  0.25+0.j, -0.25+0.j,  0.25+0.j])\n"
     ]
    },
    {
     "name": "stderr",
     "output_type": "stream",
     "text": [
      "100%|█████████▉| 499/500 [01:28<00:00,  4.89it/s]"
     ]
    },
    {
     "name": "stdout",
     "output_type": "stream",
     "text": [
      "mean tensor([-0.0047,  0.4567, -1.0000,  0.5418,  0.5052, -0.4979,  0.4850])\n",
      "sigma tensor([0.0164, 0.0266, 0.0902, 0.0145, 0.0190, 0.0174, 0.0094])\n",
      "DFE Rewards Mean: 0.984462808027081\n",
      "DFE Rewards standard dev 0.019375341894954518\n",
      "Returns Mean: 5.6188374\n",
      "Returns standard dev 3.3228602\n",
      "Advantages Mean: -1.5176741\n",
      "Advantages standard dev 3.3228602\n",
      "Starting benchmarking...\n",
      "Starting simulation benchmark...\n",
      "Finished simulation benchmark\n",
      "Finished benchmarking\n",
      "SparsePauliOp(['II', 'XY', 'YZ', 'ZX'],\n",
      "              coeffs=[ 0.25+0.j,  0.25+0.j,  0.25+0.j, -0.25+0.j])\n"
     ]
    },
    {
     "name": "stderr",
     "output_type": "stream",
     "text": [
      "100%|██████████| 500/500 [01:29<00:00,  5.62it/s]"
     ]
    },
    {
     "name": "stdout",
     "output_type": "stream",
     "text": [
      "mean tensor([ 0.0133,  0.4921, -1.0000,  0.5650,  0.5001, -0.4974,  0.4842])\n",
      "sigma tensor([0.0258, 0.0182, 0.0278, 0.0196, 0.0230, 0.0197, 0.0122])\n",
      "DFE Rewards Mean: 0.9871996898537145\n",
      "DFE Rewards standard dev 0.017448626626071533\n",
      "Returns Mean: 6.600585\n",
      "Returns standard dev 4.187696\n",
      "Advantages Mean: 0.5393844\n",
      "Advantages standard dev 4.187696\n"
     ]
    },
    {
     "name": "stderr",
     "output_type": "stream",
     "text": [
      "\n"
     ]
    }
   ],
   "source": [
    "ppo_agent(total_updates=500, print_debug=True, num_prints=40)"
   ]
  },
  {
   "cell_type": "code",
   "execution_count": 10,
   "metadata": {
    "ExecuteTime": {
     "end_time": "2024-01-26T02:31:08.371923Z",
     "start_time": "2024-01-26T02:31:08.304417Z"
    }
   },
   "outputs": [
    {
     "data": {
      "text/plain": "<Figure size 640x480 with 1 Axes>",
      "image/png": "[encoded data removed]"
     },
     "metadata": {},
     "output_type": "display_data"
    }
   ],
   "source": [
    "import numpy as np\n",
    "import matplotlib.pyplot as plt\n",
    "\n",
    "reward_history = np.array(q_env.reward_history)\n",
    "mean_rewards = np.mean(reward_history, axis=-1)\n",
    "max_mean = int(np.max(mean_rewards) * 1e4) / 1e4\n",
    "\n",
    "plt.plot(mean_rewards, label=f\"Mean Batch Rewards, max: {max_mean}\")\n",
    "plt.xlabel(\"Updates\")\n",
    "plt.ylabel(\"Reward\")\n",
    "plt.title(\"CX Learning Curve\")\n",
    "plt.legend()\n",
    "plt.show()"
   ]
  },
  {
   "cell_type": "code",
   "execution_count": 12,
   "metadata": {
    "ExecuteTime": {
     "end_time": "2024-01-26T02:32:36.355437Z",
     "start_time": "2024-01-26T02:32:36.308800Z"
    }
   },
   "outputs": [
    {
     "data": {
      "text/plain": "[<matplotlib.lines.Line2D at 0x2ea618810>]"
     },
     "execution_count": 12,
     "metadata": {},
     "output_type": "execute_result"
    },
    {
     "data": {
      "text/plain": "<Figure size 640x480 with 1 Axes>",
      "image/png": "[encoded data removed]"
     },
     "metadata": {},
     "output_type": "display_data"
    }
   ],
   "source": [
    "plt.plot(q_env.avg_fidelity_history)"
   ]
  },
  {
   "cell_type": "code",
   "outputs": [
    {
     "data": {
      "text/plain": "array([ 1.29259848e-01,  9.95042579e-02,  1.64459705e-01,  1.19317828e-01,\n        3.51218039e-02,  2.44988900e-05,  2.44982333e-01,  6.56575662e-03,\n       -5.87239351e-05,  1.90003646e-01,  2.25064383e-01,  2.19731492e-01,\n        3.50681135e-02,  1.55364750e-01,  1.78388921e-01,  2.07233380e-02,\n        5.56078711e-04,  5.70909649e-02, -3.27391708e-05,  8.76430542e-02,\n        2.12912664e-01,  1.16852769e-01,  2.14132213e-01,  6.82688321e-05,\n        9.23182098e-02,  1.68608686e-01,  1.20757522e-01,  1.75056506e-01,\n        2.00416961e-03, -1.17405389e-04,  1.08797387e-01,  1.29904657e-01,\n        1.46819011e-01,  2.02946072e-01,  1.80128271e-01, -4.47661959e-05,\n        2.00780267e-01,  3.12427314e-05,  1.21019864e-01, -4.34675824e-05,\n        1.02342358e-01,  1.69948818e-01,  2.02475482e-01,  2.25016107e-01,\n        1.13502184e-03,  2.19544712e-01,  1.05527098e-02,  1.53058630e-01,\n        1.25493430e-04,  7.72849895e-05, -6.90755732e-05,  1.80208578e-01,\n        1.98162937e-01,  2.15317374e-01,  5.07457041e-03, -2.84781534e-05,\n       -1.02664166e-04,  3.04341002e-02,  1.28101336e-01,  9.62031279e-06,\n       -3.04221269e-05,  8.40559857e-02,  1.59039213e-01,  3.06262816e-05,\n        7.61749153e-02,  1.14010268e-01,  2.50990192e-01, -6.36536721e-05,\n       -1.05040541e-03, -2.94682333e-05,  9.87970374e-03,  1.63436880e-01,\n        6.58844225e-05,  2.01349412e-01, -8.91476679e-05,  2.20273614e-05,\n        4.54313837e-02,  1.89777658e-01,  2.30620062e-01,  1.63891882e-01,\n       -1.46046897e-05, -6.00459859e-05,  1.06409026e-01,  1.40714927e-01,\n        9.52465832e-05,  2.71917126e-05,  1.46797176e-01,  2.09532331e-01,\n        6.83240740e-06,  1.61418084e-01, -8.55825667e-05, -3.91257462e-05,\n        2.42681883e-01,  2.50360060e-01, -4.88963673e-04, -5.22129710e-05,\n        2.04531849e-01,  2.47220217e-01,  4.83687373e-02,  2.42743101e-01,\n        1.60685877e-01,  2.19160565e-01,  3.18272292e-02,  2.04408575e-01,\n        1.50823270e-01,  2.25987691e-05,  1.41101996e-02, -1.27787704e-05,\n        8.75545560e-02,  3.32144595e-02,  5.39393525e-05,  1.41799697e-01,\n        5.21923621e-02,  1.85651353e-02,  1.53749432e-01,  7.39510539e-02,\n        2.50062738e-01,  1.19382711e-01,  1.74576553e-02,  1.64922674e-01,\n        2.46553943e-01, -5.53851184e-05,  5.04190140e-02,  3.04785955e-02,\n        1.11684249e-01,  2.24592518e-01,  6.33926025e-03,  2.52262404e-01,\n        1.18156614e-01,  1.13361764e-01, -1.67270958e-05,  8.67510956e-03,\n        1.14574897e-01,  2.06491240e-01,  2.45994808e-01,  2.43917661e-01,\n        1.20969839e-01,  2.47252714e-01,  8.42848053e-02,  2.51798798e-01,\n        2.39128807e-01,  6.73009129e-02,  2.12051444e-01,  3.75209535e-05,\n        3.60320663e-02,  2.22099292e-01,  1.59962667e-01,  3.30315789e-02,\n        2.14027843e-01,  9.72276708e-02,  1.00269857e-02, -6.58051489e-05,\n        1.24455704e-02, -1.32234948e-05,  3.88207707e-02, -2.57274029e-05,\n        9.48446285e-02,  3.13313149e-02,  7.32951638e-02,  2.40877592e-01,\n        9.72856566e-02,  1.48419463e-01,  2.50116024e-01,  2.22424233e-02,\n        7.66755826e-06,  9.84759456e-05,  2.50208143e-01,  2.03461575e-02,\n        2.30280897e-01, -4.49911927e-05, -6.76661267e-05,  1.85256950e-05,\n        2.50859454e-01,  8.13032682e-02,  2.51338187e-01,  2.50238467e-01,\n        1.21177679e-04,  1.08045164e-01,  2.50072228e-01,  1.36308088e-01,\n        1.99032903e-01,  1.97374411e-01,  2.48844516e-01,  1.18101149e-01,\n        5.62276727e-02,  2.11858160e-01,  1.22723866e-01,  7.25854617e-02,\n        1.65897788e-01,  1.30065271e-01,  7.76412239e-04,  1.47449773e-01,\n        2.63962150e-03,  1.53236477e-01,  1.85864941e-01,  1.22923806e-01,\n        9.13490334e-02,  4.43544279e-02,  3.01743355e-02, -1.41214101e-05,\n        2.33109376e-01,  6.17016302e-02,  2.42144942e-02,  2.33513246e-05,\n        1.40062494e-01,  4.14542521e-02,  2.35660883e-01,  2.13168953e-01,\n        2.49876129e-01,  1.43532821e-01,  8.91203798e-02,  1.68994826e-01,\n        9.86221250e-02,  2.15515103e-01,  9.95200651e-02,  7.21715783e-03,\n        2.49784135e-01,  7.80388550e-02,  1.60172805e-01,  1.01735415e-01,\n        1.78524966e-01,  2.03155741e-01,  2.43227099e-01,  2.31400424e-01,\n        2.06655295e-01, -5.50191903e-03,  2.38536203e-01,  1.52420798e-01,\n        1.42457790e-01,  7.12502793e-05,  2.21616650e-01,  2.23727395e-01,\n        1.16407053e-04,  1.31011281e-01, -1.12048204e-04,  1.42529874e-01,\n        2.50416780e-01,  1.56821112e-02,  1.54407187e-01,  1.31610218e-01,\n        1.28289956e-01,  1.92457718e-02,  2.02943848e-01,  1.71719451e-01,\n        9.74472272e-02,  8.79566465e-03,  2.45732650e-01,  1.10064553e-01,\n        1.29011006e-01,  2.50077160e-01,  1.57544841e-01,  1.83336500e-05,\n        1.56612644e-01,  1.32507369e-01,  4.13937490e-05,  1.15897228e-01])"
     },
     "execution_count": 11,
     "metadata": {},
     "output_type": "execute_result"
    }
   ],
   "source": [
    "q_env.reward_history[-1]"
   ],
   "metadata": {
    "collapsed": false,
    "ExecuteTime": {
     "end_time": "2024-01-11T09:16:38.511484Z",
     "start_time": "2024-01-11T09:16:38.508859Z"
    }
   },
   "execution_count": 11
  },
  {
   "cell_type": "code",
   "outputs": [],
   "source": [],
   "metadata": {
    "collapsed": false
   }
  }
 ],
 "metadata": {
  "kernelspec": {
   "display_name": "cqt_env",
   "language": "python",
   "name": "python3"
  },
  "language_info": {
   "codemirror_mode": {
    "name": "ipython",
    "version": 3
   },
   "file_extension": ".py",
   "mimetype": "text/x-python",
   "name": "python",
   "nbconvert_exporter": "python",
   "pygments_lexer": "ipython3",
   "version": "3.9.11"
  }
 },
 "nbformat": 4,
 "nbformat_minor": 2
}
