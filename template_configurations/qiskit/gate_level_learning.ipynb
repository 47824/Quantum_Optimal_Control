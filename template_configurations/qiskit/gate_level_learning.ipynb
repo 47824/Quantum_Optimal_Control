{
 "cells": [
  {
   "cell_type": "code",
   "execution_count": 1,
   "metadata": {
    "ExecuteTime": {
     "end_time": "2024-01-30T07:13:05.964502Z",
     "start_time": "2024-01-30T07:13:05.956654Z"
    }
   },
   "outputs": [],
   "source": [
    "from __future__ import annotations\n",
    "\n",
    "import os\n",
    "\n",
    "os.environ[\"KMP_DUPLICATE_LIB_OK\"] = \"True\"\n",
    "import sys\n",
    "\n",
    "module_path = os.path.abspath(\n",
    "    os.path.join(\"/Users/chatt07/Desktop/cqt_env/Quantum_Optimal_Control\")\n",
    ")\n",
    "if module_path not in sys.path:\n",
    "    sys.path.append(module_path)\n",
    "sys.path.append(\n",
    "    os.path.abspath(\n",
    "        os.path.join(\"/Users/chatt07/Desktop/cqt_env/Quantum_Optimal_Control\")\n",
    "    )\n",
    ")"
   ]
  },
  {
   "cell_type": "code",
   "execution_count": 1,
   "metadata": {
    "ExecuteTime": {
     "end_time": "2024-01-30T07:59:13.257213Z",
     "start_time": "2024-01-30T07:59:06.505844Z"
    }
   },
   "outputs": [
    {
     "name": "stderr",
     "output_type": "stream",
     "text": [
      "/Users/arthurostrauss/anaconda3/envs/rl_qoc/lib/python3.11/site-packages/qiskit_dynamics/dispatch/backends/jax.py:34: UserWarning: The functionality in the perturbation module of Qiskit Dynamics requires a JAX version <= 0.4.6, due to a bug in JAX versions > 0.4.6. For versions 0.4.4, 0.4.5, and 0.4.6, using the perturbation module functionality requires setting os.environ['JAX_JIT_PJIT_API_MERGE'] = '0' before importing JAX or Dynamics.\n",
      "  warnings.warn(\n"
     ]
    },
    {
     "name": "stdout",
     "output_type": "stream",
     "text": [
      "Circuit context\n",
      "global phase: π/2\n",
      "                                                                    ┌───┐     »\n",
      "      q_3 -> 0 ─────────────────────────────────────────────────────┤ X ├─────»\n",
      "                                           ┌───┐     ┌───┐     ┌───┐└─┬─┘     »\n",
      "      q_1 -> 1 ────────────────────────────┤ X ├─────┤ X ├──■──┤ X ├──■────■──»\n",
      "                                           └─┬─┘     └─┬─┘  │  └─┬─┘     ┌─┴─┐»\n",
      "      q_4 -> 2 ──────────────────────────────┼─────────┼────┼────┼───────┤ X ├»\n",
      "               ┌─────────┐┌────┐┌─────────┐  │         │  ┌─┴─┐  │       └───┘»\n",
      "      q_0 -> 3 ┤ Rz(π/2) ├┤ √X ├┤ Rz(π/2) ├──■────■────■──┤ X ├──■────────────»\n",
      "               └─────────┘└────┘└─────────┘       │       └───┘               »\n",
      "ancilla_0 -> 4 ───────────────────────────────────┼───────────────────────────»\n",
      "                                                ┌─┴─┐                         »\n",
      "      q_2 -> 5 ─────────────────────────────────┤ X ├─────────────────────────»\n",
      "                                                └───┘                         »\n",
      "ancilla_1 -> 6 ───────────────────────────────────────────────────────────────»\n",
      "                                                                              »\n",
      "«                                           \n",
      "«      q_3 -> 0 ────────────────────────────\n",
      "«               ┌─────────┐┌────┐┌─────────┐\n",
      "«      q_1 -> 1 ┤ Rz(π/2) ├┤ √X ├┤ Rz(π/2) ├\n",
      "«               └─────────┘└────┘└─────────┘\n",
      "«      q_4 -> 2 ────────────────────────────\n",
      "«                                           \n",
      "«      q_0 -> 3 ────────────────────────────\n",
      "«                                           \n",
      "«ancilla_0 -> 4 ────────────────────────────\n",
      "«                                           \n",
      "«      q_2 -> 5 ────────────────────────────\n",
      "«                                           \n",
      "«ancilla_1 -> 6 ────────────────────────────\n",
      "«                                           \n"
     ]
    }
   ],
   "source": [
    "from template_configurations.qiskit.q_env_config import (\n",
    "    q_env_config as gate_q_env_config,\n",
    "    circuit_context,\n",
    ")"
   ]
  },
  {
   "cell_type": "code",
   "execution_count": 2,
   "metadata": {
    "ExecuteTime": {
     "end_time": "2024-01-30T07:59:13.267472Z",
     "start_time": "2024-01-30T07:59:13.260924Z"
    }
   },
   "outputs": [],
   "source": [
    "from quantumenvironment import QuantumEnvironment\n",
    "from context_aware_quantum_environment import ContextAwareQuantumEnvironment\n",
    "from gymnasium.wrappers import RescaleAction, ClipAction"
   ]
  },
  {
   "cell_type": "code",
   "execution_count": 3,
   "metadata": {
    "ExecuteTime": {
     "end_time": "2024-01-30T07:59:13.544214Z",
     "start_time": "2024-01-30T07:59:13.286196Z"
    }
   },
   "outputs": [],
   "source": [
    "q_env = QuantumEnvironment(gate_q_env_config)\n",
    "from qiskit.primitives import Estimator\n",
    "\n",
    "# q_env = ContextAwareQuantumEnvironment(\n",
    "#     gate_q_env_config, circuit_context, training_steps_per_gate=250\n",
    "# )\n",
    "# q_env.estimator = Estimator()\n",
    "q_env = ClipAction(q_env)\n",
    "q_env = RescaleAction(q_env, -1.0, 1.0)"
   ]
  },
  {
   "cell_type": "code",
   "outputs": [
    {
     "name": "stdout",
     "output_type": "stream",
     "text": [
      "Statevector([0.+0.j, 1.+0.j, 0.+0.j, 0.+0.j],\n",
      "            dims=(2, 2))\n",
      "DensityMatrix([[0.+0.j, 0.+0.j, 0.+0.j, 0.+0.j],\n",
      "               [0.+0.j, 0.+0.j, 0.+0.j, 0.+0.j],\n",
      "               [0.+0.j, 0.+0.j, 0.+0.j, 0.+0.j],\n",
      "               [0.+0.j, 0.+0.j, 0.+0.j, 1.+0.j]],\n",
      "              dims=(2, 2))\n"
     ]
    }
   ],
   "source": [
    "from qiskit.quantum_info import Statevector, partial_trace\n",
    "from qiskit import QuantumCircuit\n",
    "\n",
    "qc = QuantumCircuit(3)\n",
    "qc.x(0)\n",
    "qc.x(1)\n",
    "print(Statevector.from_label(\"01\"))\n",
    "print(partial_trace(Statevector(qc), [2]))"
   ],
   "metadata": {
    "collapsed": false,
    "ExecuteTime": {
     "end_time": "2024-01-30T07:59:13.547158Z",
     "start_time": "2024-01-30T07:59:13.545287Z"
    }
   },
   "execution_count": 4
  },
  {
   "cell_type": "code",
   "outputs": [
    {
     "data": {
      "text/plain": "<Figure size 271.4x271.4 with 1 Axes>",
      "image/png": "[encoded data removed]"
     },
     "execution_count": 5,
     "metadata": {},
     "output_type": "execute_result"
    }
   ],
   "source": [
    "from qiskit.visualization import plot_gate_map\n",
    "\n",
    "plot_gate_map(q_env.backend)"
   ],
   "metadata": {
    "collapsed": false,
    "ExecuteTime": {
     "end_time": "2024-01-30T07:59:13.811835Z",
     "start_time": "2024-01-30T07:59:13.557870Z"
    }
   },
   "execution_count": 5
  },
  {
   "cell_type": "code",
   "execution_count": 6,
   "metadata": {
    "ExecuteTime": {
     "end_time": "2024-01-30T07:59:13.843902Z",
     "start_time": "2024-01-30T07:59:13.813724Z"
    }
   },
   "outputs": [],
   "source": [
    "import yaml\n",
    "\n",
    "with open(\n",
    "        \"/Users/arthurostrauss/Library/CloudStorage/OneDrive-NationalUniversityofSingapore/Coding_projects/Quantum_Optimal_Control/template_configurations/agent_config.yaml\",\n",
    "        \"r\",\n",
    ") as f:\n",
    "    agent_config = yaml.safe_load(f)"
   ]
  },
  {
   "cell_type": "code",
   "execution_count": 7,
   "metadata": {
    "ExecuteTime": {
     "end_time": "2024-01-30T07:59:14.192361Z",
     "start_time": "2024-01-30T07:59:13.842224Z"
    }
   },
   "outputs": [],
   "source": [
    "from ppo import make_train_ppo\n",
    "\n",
    "ppo_agent = make_train_ppo(agent_config, q_env)"
   ]
  },
  {
   "cell_type": "code",
   "execution_count": 8,
   "metadata": {},
   "outputs": [
    {
     "name": "stderr",
     "output_type": "stream",
     "text": [
      " 96%|█████████▌| 480/500 [01:49<00:04,  4.54it/s]"
     ]
    },
    {
     "name": "stdout",
     "output_type": "stream",
     "text": [
      "Starting benchmarking...\n",
      "Starting simulation benchmark...\n",
      "Avg gate fidelity: 0.9894791223070369\n",
      "Finished simulation benchmark\n",
      "Finished benchmarking\n",
      "SparsePauliOp(['II', 'IZ', 'XI', 'XZ'],\n",
      "              coeffs=[0.25+0.j, 0.25+0.j, 0.25+0.j, 0.25+0.j])\n"
     ]
    },
    {
     "name": "stderr",
     "output_type": "stream",
     "text": [
      " 96%|█████████▌| 481/500 [01:49<00:04,  4.55it/s]"
     ]
    },
    {
     "name": "stdout",
     "output_type": "stream",
     "text": [
      "mean tensor([-0.0054, -0.2426,  0.7775, -0.4946,  0.4920, -0.4754, -0.4866])\n",
      "sigma tensor([0.0175, 0.0368, 0.0277, 0.0135, 0.0179, 0.0191, 0.0165])\n",
      "DFE Rewards Mean: 0.9969140346789387\n",
      "DFE Rewards standard dev 0.008102977974354988\n",
      "Returns Mean: 8.528436\n",
      "Returns standard dev 4.1677155\n",
      "Advantages Mean: 0.29999864\n",
      "Advantages standard dev 4.1677155\n",
      "Starting benchmarking...\n",
      "Starting simulation benchmark...\n",
      "Avg gate fidelity: 0.9898159901861875\n",
      "Finished simulation benchmark\n",
      "Finished benchmarking\n",
      "SparsePauliOp(['II', 'IY', 'XI', 'XY'],\n",
      "              coeffs=[0.25+0.j, 0.25+0.j, 0.25+0.j, 0.25+0.j])\n"
     ]
    },
    {
     "name": "stderr",
     "output_type": "stream",
     "text": [
      " 96%|█████████▋| 482/500 [01:49<00:03,  4.57it/s]"
     ]
    },
    {
     "name": "stdout",
     "output_type": "stream",
     "text": [
      "mean tensor([-0.0132, -0.2787,  0.8013, -0.5314,  0.4897, -0.4667, -0.5002])\n",
      "sigma tensor([0.0201, 0.0225, 0.0102, 0.0166, 0.0212, 0.0187, 0.0162])\n",
      "DFE Rewards Mean: 0.9907778273864271\n",
      "DFE Rewards standard dev 0.013588686004327685\n",
      "Returns Mean: 6.7918844\n",
      "Returns standard dev 3.95157\n",
      "Advantages Mean: -0.8278408\n",
      "Advantages standard dev 3.95157\n",
      "Starting benchmarking...\n",
      "Starting simulation benchmark...\n",
      "Avg gate fidelity: 0.9919247845229546\n",
      "Finished simulation benchmark\n",
      "Finished benchmarking\n",
      "SparsePauliOp(['II', 'XX', 'YZ', 'ZY'],\n",
      "              coeffs=[0.25+0.j, 0.25+0.j, 0.25+0.j, 0.25+0.j])\n"
     ]
    },
    {
     "name": "stderr",
     "output_type": "stream",
     "text": [
      " 97%|█████████▋| 483/500 [01:50<00:04,  3.93it/s]"
     ]
    },
    {
     "name": "stdout",
     "output_type": "stream",
     "text": [
      "mean tensor([-0.0133, -0.2815,  0.7938, -0.5321,  0.4895, -0.4939, -0.4995])\n",
      "sigma tensor([0.0188, 0.0292, 0.0153, 0.0151, 0.0181, 0.0203, 0.0153])\n",
      "DFE Rewards Mean: 0.9913830535386354\n",
      "DFE Rewards standard dev 0.012666390247316972\n",
      "Returns Mean: 6.977524\n",
      "Returns standard dev 4.081965\n",
      "Advantages Mean: -0.6811799\n",
      "Advantages standard dev 4.081965\n",
      "Starting benchmarking...\n",
      "Starting simulation benchmark...\n",
      "Avg gate fidelity: 0.9909429179507363\n",
      "Finished simulation benchmark\n",
      "Finished benchmarking\n",
      "SparsePauliOp(['II', 'IZ', 'XI', 'XZ'],\n",
      "              coeffs=[0.25+0.j, 0.25+0.j, 0.25+0.j, 0.25+0.j])\n"
     ]
    },
    {
     "name": "stderr",
     "output_type": "stream",
     "text": [
      " 97%|█████████▋| 484/500 [01:50<00:03,  4.12it/s]"
     ]
    },
    {
     "name": "stdout",
     "output_type": "stream",
     "text": [
      "mean tensor([-0.0033, -0.2758,  0.7837, -0.5138,  0.4862, -0.5094, -0.4956])\n",
      "sigma tensor([0.0162, 0.0385, 0.0286, 0.0138, 0.0170, 0.0193, 0.0169])\n",
      "DFE Rewards Mean: 0.9978415542486013\n",
      "DFE Rewards standard dev 0.006464326789580967\n",
      "Returns Mean: 8.488218\n",
      "Returns standard dev 4.007708\n",
      "Advantages Mean: 0.32665405\n",
      "Advantages standard dev 4.0077076\n",
      "Starting benchmarking...\n",
      "Starting simulation benchmark...\n",
      "Avg gate fidelity: 0.9918960681136457\n",
      "Finished simulation benchmark\n",
      "Finished benchmarking\n",
      "SparsePauliOp(['II', 'IX', 'XI', 'XX'],\n",
      "              coeffs=[0.25+0.j, 0.25+0.j, 0.25+0.j, 0.25+0.j])\n"
     ]
    },
    {
     "name": "stderr",
     "output_type": "stream",
     "text": [
      " 97%|█████████▋| 485/500 [01:50<00:03,  4.27it/s]"
     ]
    },
    {
     "name": "stdout",
     "output_type": "stream",
     "text": [
      "mean tensor([-0.0092, -0.2955,  0.7948, -0.5365,  0.5014, -0.4996, -0.5023])\n",
      "sigma tensor([0.0172, 0.0297, 0.0161, 0.0174, 0.0206, 0.0168, 0.0167])\n",
      "DFE Rewards Mean: 0.9940165390494079\n",
      "DFE Rewards standard dev 0.011092321762573437\n",
      "Returns Mean: 7.4060307\n",
      "Returns standard dev 3.9998448\n",
      "Advantages Mean: -0.401376\n",
      "Advantages standard dev 3.9998448\n",
      "Starting benchmarking...\n",
      "Starting simulation benchmark...\n",
      "Avg gate fidelity: 0.9920136121257822\n",
      "Finished simulation benchmark\n",
      "Finished benchmarking\n",
      "SparsePauliOp(['II', 'IZ', 'YI', 'YZ'],\n",
      "              coeffs=[0.25+0.j, 0.25+0.j, 0.25+0.j, 0.25+0.j])\n"
     ]
    },
    {
     "name": "stderr",
     "output_type": "stream",
     "text": [
      " 97%|█████████▋| 486/500 [01:50<00:03,  4.38it/s]"
     ]
    },
    {
     "name": "stdout",
     "output_type": "stream",
     "text": [
      "mean tensor([-0.0039, -0.2808,  0.7848, -0.5234,  0.5044, -0.5184, -0.4999])\n",
      "sigma tensor([0.0134, 0.0358, 0.0232, 0.0152, 0.0161, 0.0208, 0.0148])\n",
      "DFE Rewards Mean: 0.9948914685080202\n",
      "DFE Rewards standard dev 0.010319855988493349\n",
      "Returns Mean: 8.103645\n",
      "Returns standard dev 4.2923675\n",
      "Advantages Mean: -0.1699394\n",
      "Advantages standard dev 4.2923675\n",
      "Starting benchmarking...\n",
      "Starting simulation benchmark...\n",
      "Avg gate fidelity: 0.9922825544793474\n",
      "Finished simulation benchmark\n",
      "Finished benchmarking\n",
      "SparsePauliOp(['II', 'XY', 'YX', 'ZZ'],\n",
      "              coeffs=[0.25+0.j, 0.25+0.j, 0.25+0.j, 0.25+0.j])\n"
     ]
    },
    {
     "name": "stderr",
     "output_type": "stream",
     "text": [
      " 97%|█████████▋| 487/500 [01:51<00:02,  4.46it/s]"
     ]
    },
    {
     "name": "stdout",
     "output_type": "stream",
     "text": [
      "mean tensor([-0.0223, -0.2951,  0.7963, -0.5312,  0.5087, -0.4934, -0.5039])\n",
      "sigma tensor([0.0176, 0.0243, 0.0125, 0.0195, 0.0200, 0.0213, 0.0158])\n",
      "DFE Rewards Mean: 0.9916066406886185\n",
      "DFE Rewards standard dev 0.012443973641753453\n",
      "Returns Mean: 6.888303\n",
      "Returns standard dev 4.015464\n",
      "Advantages Mean: -0.5232385\n",
      "Advantages standard dev 4.015464\n",
      "Starting benchmarking...\n",
      "Starting simulation benchmark...\n",
      "Avg gate fidelity: 0.9921607832131957\n",
      "Finished simulation benchmark\n",
      "Finished benchmarking\n",
      "SparsePauliOp(['II', 'XX', 'YY', 'ZZ'],\n",
      "              coeffs=[ 0.25+0.j,  0.25+0.j, -0.25+0.j,  0.25+0.j])\n"
     ]
    },
    {
     "name": "stderr",
     "output_type": "stream",
     "text": [
      " 98%|█████████▊| 488/500 [01:51<00:02,  4.52it/s]"
     ]
    },
    {
     "name": "stdout",
     "output_type": "stream",
     "text": [
      "mean tensor([-0.0213, -0.2938,  0.7923, -0.5227,  0.5112, -0.5006, -0.5101])\n",
      "sigma tensor([0.0177, 0.0250, 0.0162, 0.0184, 0.0161, 0.0221, 0.0153])\n",
      "DFE Rewards Mean: 0.991817960629872\n",
      "DFE Rewards standard dev 0.014221836951361092\n",
      "Returns Mean: 7.0844355\n",
      "Returns standard dev 4.0437517\n",
      "Advantages Mean: -0.48187807\n",
      "Advantages standard dev 4.0437517\n",
      "Starting benchmarking...\n",
      "Starting simulation benchmark...\n",
      "Avg gate fidelity: 0.9935232093701065\n",
      "Finished simulation benchmark\n",
      "Finished benchmarking\n",
      "SparsePauliOp(['II', 'IZ', 'ZI', 'ZZ'],\n",
      "              coeffs=[ 0.25+0.j,  0.25+0.j, -0.25+0.j, -0.25+0.j])\n"
     ]
    },
    {
     "name": "stderr",
     "output_type": "stream",
     "text": [
      " 98%|█████████▊| 489/500 [01:51<00:02,  4.51it/s]"
     ]
    },
    {
     "name": "stdout",
     "output_type": "stream",
     "text": [
      "mean tensor([ 0.0088, -0.2734,  0.7846, -0.4924,  0.5097, -0.5061, -0.5018])\n",
      "sigma tensor([0.0171, 0.0295, 0.0240, 0.0156, 0.0126, 0.0240, 0.0125])\n",
      "DFE Rewards Mean: 0.9979059249882183\n",
      "DFE Rewards standard dev 0.007306446973156507\n",
      "Returns Mean: 8.6717415\n",
      "Returns standard dev 4.0554886\n",
      "Advantages Mean: 0.6656119\n",
      "Advantages standard dev 4.0554886\n",
      "Starting benchmarking...\n",
      "Starting simulation benchmark...\n",
      "Avg gate fidelity: 0.9935731208610645\n",
      "Finished simulation benchmark\n",
      "Finished benchmarking\n",
      "SparsePauliOp(['II', 'IZ', 'XI', 'XZ'],\n",
      "              coeffs=[ 0.25+0.j, -0.25+0.j,  0.25+0.j, -0.25+0.j])\n"
     ]
    },
    {
     "name": "stderr",
     "output_type": "stream",
     "text": [
      " 98%|█████████▊| 490/500 [01:51<00:02,  4.56it/s]"
     ]
    },
    {
     "name": "stdout",
     "output_type": "stream",
     "text": [
      "mean tensor([ 6.2631e-04, -2.7795e-01,  7.9047e-01, -4.9888e-01,  5.0458e-01,\n",
      "        -5.1675e-01, -4.8638e-01])\n",
      "sigma tensor([0.0195, 0.0234, 0.0201, 0.0184, 0.0167, 0.0258, 0.0157])\n",
      "DFE Rewards Mean: 0.9967301053472964\n",
      "DFE Rewards standard dev 0.008296403320057702\n",
      "Returns Mean: 8.465449\n",
      "Returns standard dev 4.156354\n",
      "Advantages Mean: 0.72193605\n",
      "Advantages standard dev 4.156354\n",
      "Starting benchmarking...\n",
      "Starting simulation benchmark...\n",
      "Avg gate fidelity: 0.9941585502525312\n",
      "Finished simulation benchmark\n",
      "Finished benchmarking\n",
      "SparsePauliOp(['II', 'XY', 'YX', 'ZZ'],\n",
      "              coeffs=[ 0.25+0.j,  0.25+0.j, -0.25+0.j, -0.25+0.j])\n"
     ]
    },
    {
     "name": "stderr",
     "output_type": "stream",
     "text": [
      " 98%|█████████▊| 491/500 [01:51<00:01,  4.59it/s]"
     ]
    },
    {
     "name": "stdout",
     "output_type": "stream",
     "text": [
      "mean tensor([ 4.5262e-06, -3.0137e-01,  8.0190e-01, -5.1894e-01,  5.0557e-01,\n",
      "        -5.1046e-01, -4.8630e-01])\n",
      "sigma tensor([0.0185, 0.0189, 0.0128, 0.0222, 0.0170, 0.0218, 0.0183])\n",
      "DFE Rewards Mean: 0.994594255212648\n",
      "DFE Rewards standard dev 0.010286100023158778\n",
      "Returns Mean: 7.6084366\n",
      "Returns standard dev 4.0732255\n",
      "Advantages Mean: 0.19211802\n",
      "Advantages standard dev 4.0732255\n",
      "Starting benchmarking...\n",
      "Starting simulation benchmark...\n",
      "Avg gate fidelity: 0.9942686257694511\n",
      "Finished simulation benchmark\n",
      "Finished benchmarking\n",
      "SparsePauliOp(['II', 'XX', 'YZ', 'ZY'],\n",
      "              coeffs=[0.25+0.j, 0.25+0.j, 0.25+0.j, 0.25+0.j])\n"
     ]
    },
    {
     "name": "stderr",
     "output_type": "stream",
     "text": [
      " 98%|█████████▊| 492/500 [01:52<00:01,  4.46it/s]"
     ]
    },
    {
     "name": "stdout",
     "output_type": "stream",
     "text": [
      "mean tensor([-0.0036, -0.3021,  0.7959, -0.5107,  0.5071, -0.5175, -0.4892])\n",
      "sigma tensor([0.0165, 0.0198, 0.0164, 0.0195, 0.0159, 0.0226, 0.0170])\n",
      "DFE Rewards Mean: 0.9938963144903837\n",
      "DFE Rewards standard dev 0.009890956433908032\n",
      "Returns Mean: 7.407776\n",
      "Returns standard dev 4.037166\n",
      "Advantages Mean: -0.30073982\n",
      "Advantages standard dev 4.037166\n",
      "Starting benchmarking...\n",
      "Starting simulation benchmark...\n",
      "Avg gate fidelity: 0.9938884880089578\n",
      "Finished simulation benchmark\n",
      "Finished benchmarking\n",
      "SparsePauliOp(['II', 'XY', 'YX', 'ZZ'],\n",
      "              coeffs=[ 0.25+0.j,  0.25+0.j, -0.25+0.j, -0.25+0.j])\n"
     ]
    },
    {
     "name": "stderr",
     "output_type": "stream",
     "text": [
      " 99%|█████████▊| 493/500 [01:52<00:01,  4.45it/s]"
     ]
    },
    {
     "name": "stdout",
     "output_type": "stream",
     "text": [
      "mean tensor([-0.0080, -0.3049,  0.8021, -0.5222,  0.5129, -0.5136, -0.4901])\n",
      "sigma tensor([0.0166, 0.0174, 0.0132, 0.0195, 0.0160, 0.0195, 0.0168])\n",
      "DFE Rewards Mean: 0.9933142778824218\n",
      "DFE Rewards standard dev 0.010334006762674675\n",
      "Returns Mean: 6.974245\n",
      "Returns standard dev 3.8737261\n",
      "Advantages Mean: -0.40041316\n",
      "Advantages standard dev 3.873726\n",
      "Starting benchmarking...\n",
      "Starting simulation benchmark...\n",
      "Avg gate fidelity: 0.9940224555619587\n",
      "Finished simulation benchmark\n",
      "Finished benchmarking\n",
      "SparsePauliOp(['II', 'IX', 'XI', 'XX'],\n",
      "              coeffs=[0.25+0.j, 0.25+0.j, 0.25+0.j, 0.25+0.j])\n"
     ]
    },
    {
     "name": "stderr",
     "output_type": "stream",
     "text": [
      " 99%|█████████▉| 494/500 [01:52<00:01,  4.40it/s]"
     ]
    },
    {
     "name": "stdout",
     "output_type": "stream",
     "text": [
      "mean tensor([-0.0019, -0.3066,  0.7993, -0.5115,  0.5144, -0.5173, -0.4935])\n",
      "sigma tensor([0.0157, 0.0208, 0.0167, 0.0187, 0.0137, 0.0211, 0.0159])\n",
      "DFE Rewards Mean: 0.9945438292054445\n",
      "DFE Rewards standard dev 0.010698590235716038\n",
      "Returns Mean: 7.7737823\n",
      "Returns standard dev 4.1498866\n",
      "Advantages Mean: 0.33342865\n",
      "Advantages standard dev 4.1498866\n",
      "Starting benchmarking...\n",
      "Starting simulation benchmark...\n",
      "Avg gate fidelity: 0.9942090056022674\n",
      "Finished simulation benchmark\n",
      "Finished benchmarking\n",
      "SparsePauliOp(['II', 'IZ', 'ZI', 'ZZ'],\n",
      "              coeffs=[ 0.25+0.j, -0.25+0.j, -0.25+0.j,  0.25+0.j])\n"
     ]
    },
    {
     "name": "stderr",
     "output_type": "stream",
     "text": [
      " 99%|█████████▉| 495/500 [01:53<00:01,  3.80it/s]"
     ]
    },
    {
     "name": "stdout",
     "output_type": "stream",
     "text": [
      "mean tensor([ 0.0099, -0.2961,  0.7905, -0.4923,  0.5028, -0.5139, -0.4917])\n",
      "sigma tensor([0.0141, 0.0254, 0.0230, 0.0188, 0.0120, 0.0203, 0.0151])\n",
      "DFE Rewards Mean: 0.9965758456007114\n",
      "DFE Rewards standard dev 0.008920041368562249\n",
      "Returns Mean: 8.3561325\n",
      "Returns standard dev 4.0087695\n",
      "Advantages Mean: 0.36020738\n",
      "Advantages standard dev 4.0087695\n",
      "Starting benchmarking...\n",
      "Starting simulation benchmark...\n",
      "Avg gate fidelity: 0.9937434613738345\n",
      "Finished simulation benchmark\n",
      "Finished benchmarking\n",
      "SparsePauliOp(['II', 'IZ', 'XI', 'XZ'],\n",
      "              coeffs=[0.25+0.j, 0.25+0.j, 0.25+0.j, 0.25+0.j])\n"
     ]
    },
    {
     "name": "stderr",
     "output_type": "stream",
     "text": [
      " 99%|█████████▉| 496/500 [01:53<00:00,  4.02it/s]"
     ]
    },
    {
     "name": "stdout",
     "output_type": "stream",
     "text": [
      "mean tensor([ 0.0116, -0.2944,  0.7926, -0.4950,  0.4983, -0.5075, -0.4891])\n",
      "sigma tensor([0.0141, 0.0310, 0.0257, 0.0187, 0.0120, 0.0203, 0.0145])\n",
      "DFE Rewards Mean: 0.9978714497815662\n",
      "DFE Rewards standard dev 0.006515270832393372\n",
      "Returns Mean: 8.753897\n",
      "Returns standard dev 4.0410643\n",
      "Advantages Mean: 0.481704\n",
      "Advantages standard dev 4.0410647\n",
      "Starting benchmarking...\n",
      "Starting simulation benchmark...\n",
      "Avg gate fidelity: 0.9936396772496475\n",
      "Finished simulation benchmark\n",
      "Finished benchmarking\n",
      "SparsePauliOp(['II', 'IY', 'XI', 'XY'],\n",
      "              coeffs=[0.25+0.j, 0.25+0.j, 0.25+0.j, 0.25+0.j])\n"
     ]
    },
    {
     "name": "stderr",
     "output_type": "stream",
     "text": [
      " 99%|█████████▉| 497/500 [01:53<00:00,  4.18it/s]"
     ]
    },
    {
     "name": "stdout",
     "output_type": "stream",
     "text": [
      "mean tensor([-0.0068, -0.3203,  0.8138, -0.5308,  0.5137, -0.5030, -0.4900])\n",
      "sigma tensor([0.0184, 0.0158, 0.0111, 0.0205, 0.0155, 0.0162, 0.0143])\n",
      "DFE Rewards Mean: 0.9970084970988773\n",
      "DFE Rewards standard dev 0.007045403152760931\n",
      "Returns Mean: 8.275785\n",
      "Returns standard dev 4.0042596\n",
      "Advantages Mean: 0.69892955\n",
      "Advantages standard dev 4.0042596\n",
      "Starting benchmarking...\n",
      "Starting simulation benchmark...\n",
      "Avg gate fidelity: 0.9949474741363928\n",
      "Finished simulation benchmark\n",
      "Finished benchmarking\n",
      "SparsePauliOp(['II', 'IX', 'XI', 'XX'],\n",
      "              coeffs=[0.25+0.j, 0.25+0.j, 0.25+0.j, 0.25+0.j])\n"
     ]
    },
    {
     "name": "stderr",
     "output_type": "stream",
     "text": [
      "100%|█████████▉| 498/500 [01:53<00:00,  4.30it/s]"
     ]
    },
    {
     "name": "stdout",
     "output_type": "stream",
     "text": [
      "mean tensor([-0.0049, -0.3206,  0.8056, -0.5228,  0.5107, -0.5029, -0.4967])\n",
      "sigma tensor([0.0162, 0.0176, 0.0161, 0.0191, 0.0157, 0.0152, 0.0134])\n",
      "DFE Rewards Mean: 0.9969446980741348\n",
      "DFE Rewards standard dev 0.00819395064581594\n",
      "Returns Mean: 8.419748\n",
      "Returns standard dev 4.1704497\n",
      "Advantages Mean: 0.33295357\n",
      "Advantages standard dev 4.1704497\n",
      "Starting benchmarking...\n",
      "Starting simulation benchmark...\n",
      "Avg gate fidelity: 0.9938284322305664\n",
      "Finished simulation benchmark\n",
      "Finished benchmarking\n",
      "SparsePauliOp(['II', 'XY', 'YX', 'ZZ'],\n",
      "              coeffs=[0.25+0.j, 0.25+0.j, 0.25+0.j, 0.25+0.j])\n"
     ]
    },
    {
     "name": "stderr",
     "output_type": "stream",
     "text": [
      "100%|█████████▉| 499/500 [01:53<00:00,  4.38it/s]"
     ]
    },
    {
     "name": "stdout",
     "output_type": "stream",
     "text": [
      "mean tensor([-0.0066, -0.3262,  0.8103, -0.5302,  0.5128, -0.5002, -0.4932])\n",
      "sigma tensor([0.0163, 0.0150, 0.0137, 0.0231, 0.0165, 0.0144, 0.0130])\n",
      "DFE Rewards Mean: 0.9939399496424768\n",
      "DFE Rewards standard dev 0.01181977702726037\n",
      "Returns Mean: 7.73569\n",
      "Returns standard dev 4.239231\n",
      "Advantages Mean: -0.38689256\n",
      "Advantages standard dev 4.239231\n",
      "Starting benchmarking...\n",
      "Starting simulation benchmark...\n",
      "Avg gate fidelity: 0.9939688580677271\n",
      "Finished simulation benchmark\n",
      "Finished benchmarking\n",
      "SparsePauliOp(['II', 'IX', 'XI', 'XX'],\n",
      "              coeffs=[0.25+0.j, 0.25+0.j, 0.25+0.j, 0.25+0.j])\n"
     ]
    },
    {
     "name": "stderr",
     "output_type": "stream",
     "text": [
      "100%|██████████| 500/500 [01:54<00:00,  4.38it/s]"
     ]
    },
    {
     "name": "stdout",
     "output_type": "stream",
     "text": [
      "mean tensor([-0.0030, -0.3259,  0.8115, -0.5164,  0.5123, -0.5079, -0.5091])\n",
      "sigma tensor([0.0172, 0.0165, 0.0148, 0.0240, 0.0160, 0.0144, 0.0171])\n",
      "DFE Rewards Mean: 0.9944067172831077\n",
      "DFE Rewards standard dev 0.010585928571967433\n",
      "Returns Mean: 7.9636145\n",
      "Returns standard dev 4.268366\n",
      "Advantages Mean: -0.25271225\n",
      "Advantages standard dev 4.268366\n"
     ]
    },
    {
     "name": "stderr",
     "output_type": "stream",
     "text": [
      "\n"
     ]
    }
   ],
   "source": [
    "ppo_agent(total_updates=500, print_debug=True, num_prints=40)"
   ]
  },
  {
   "cell_type": "code",
   "execution_count": 9,
   "metadata": {
    "ExecuteTime": {
     "end_time": "2024-01-30T08:01:08.380881Z",
     "start_time": "2024-01-30T08:01:08.330744Z"
    }
   },
   "outputs": [
    {
     "data": {
      "text/plain": "<Figure size 640x480 with 1 Axes>",
      "image/png": "[encoded data removed]"
     },
     "metadata": {},
     "output_type": "display_data"
    }
   ],
   "source": [
    "import numpy as np\n",
    "import matplotlib.pyplot as plt\n",
    "\n",
    "reward_history = np.array(q_env.reward_history)\n",
    "mean_rewards = np.mean(reward_history, axis=-1)\n",
    "max_mean = int(np.max(mean_rewards) * 1e4) / 1e4\n",
    "\n",
    "plt.plot(mean_rewards, label=f\"Mean Batch Rewards, max: {max_mean}\")\n",
    "plt.xlabel(\"Updates\")\n",
    "plt.ylabel(\"Reward\")\n",
    "plt.title(\"CX Learning Curve\")\n",
    "plt.legend()\n",
    "plt.show()"
   ]
  },
  {
   "cell_type": "code",
   "execution_count": 10,
   "metadata": {
    "ExecuteTime": {
     "end_time": "2024-01-30T08:01:08.421426Z",
     "start_time": "2024-01-30T08:01:08.383716Z"
    }
   },
   "outputs": [
    {
     "data": {
      "text/plain": "[<matplotlib.lines.Line2D at 0x30f6c4510>]"
     },
     "execution_count": 10,
     "metadata": {},
     "output_type": "execute_result"
    },
    {
     "data": {
      "text/plain": "<Figure size 640x480 with 1 Axes>",
      "image/png": "[encoded data removed]"
     },
     "metadata": {},
     "output_type": "display_data"
    }
   ],
   "source": [
    "plt.plot(q_env.avg_fidelity_history)"
   ]
  },
  {
   "cell_type": "code",
   "outputs": [
    {
     "data": {
      "text/plain": "array([0.99472475, 0.97040169, 0.99227119, 1.00205527, 0.96765339,\n       0.9982696 , 0.99934555, 1.00227315, 1.00692095, 0.9912093 ,\n       0.96770958, 0.99752695, 0.99668459, 0.99826421, 1.0196347 ,\n       1.00339174, 1.00332284, 0.99309654, 0.9950593 , 0.99356917,\n       0.99934385, 1.01527247, 0.99151749, 0.97307096, 0.99663368,\n       0.97321677, 0.98059434, 1.00243352, 1.00412146, 0.99471446,\n       0.99990808, 1.00147495, 0.99348459, 0.99482797, 0.99462525,\n       0.99183624, 0.97331891, 1.00287496, 1.01133812, 0.99690216,\n       0.9964435 , 0.99271849, 0.99320788, 0.99230278, 0.99488625,\n       0.98536584, 0.97865318, 1.00014467, 0.99857627, 1.00816364,\n       1.00794538, 0.99166575, 0.98846085, 0.98357982, 1.00292494,\n       0.98141195, 1.00158366, 0.99001597, 1.00535409, 0.98819395,\n       0.98281658, 1.00194908, 0.99832761, 0.99940622, 1.00248518,\n       1.00558442, 0.99492202, 0.99427979, 0.98714457, 0.99474795,\n       1.01845935, 0.9973646 , 0.99087317, 1.01365709, 1.00129339,\n       0.98270784, 1.00544387, 0.98728478, 0.99648659, 0.99945164,\n       0.96777938, 0.99487989, 0.99841433, 1.00155944, 0.97577381,\n       0.99023961, 0.9898313 , 0.98244063, 1.00253793, 1.00182499,\n       0.98236627, 0.99548873, 0.9991094 , 1.00637483, 0.99635748,\n       0.99853761, 0.97529298, 1.00316344, 0.98501285, 1.00524265,\n       0.97618966, 0.97455385, 1.00178084, 0.98156859, 0.98059468,\n       0.99471536, 1.01002309, 0.99747011, 0.98464535, 1.00894025,\n       1.00049952, 1.01094002, 1.00023139, 0.99428641, 1.00179259,\n       0.99087128, 0.99731104, 1.00826766, 0.99123146, 1.00762328,\n       0.99102379, 0.98494166, 1.00608533, 0.96550761, 1.01416863,\n       0.97902319, 0.9936814 , 0.9973036 , 0.99376062, 1.00270168,\n       0.99331341, 0.99310871, 1.00260701, 0.97258685, 0.98944864,\n       0.99884045, 0.99169975, 1.00043563, 0.96019256, 1.00314629,\n       0.99059268, 1.01152704, 0.98644343, 1.00601123, 1.00534139,\n       0.98677177, 1.00018123, 0.99384519, 1.00383665, 1.00444011,\n       0.98282907, 0.99425236, 0.99906591, 0.99714014, 0.9997151 ,\n       1.00928914, 1.00089259, 0.99905049, 1.00209258, 0.99887384,\n       1.00743055, 0.99731108, 0.99017087, 0.99614593, 1.00190981,\n       0.98576431, 0.98750976, 1.00175376, 0.98811416, 0.99805444,\n       1.00182859, 1.00009145, 0.98877331, 0.98368909, 0.99583003,\n       1.00227769, 0.98279425, 0.99244878, 0.9853225 , 0.98787522,\n       0.98233593, 0.98698537, 0.98703861, 1.00030714, 0.99726369,\n       0.97935114, 0.97639525, 0.9861839 , 0.99604498, 1.01530207,\n       0.9957345 , 0.97597389, 0.99862372, 1.00021024, 0.98229327,\n       0.99911647, 1.00561293, 0.99790641, 0.96464677, 0.99369456,\n       1.00607281, 0.99637312, 0.99122193, 0.98720857, 0.99891252,\n       1.00024268, 0.97022809, 1.00039199, 0.97716493, 0.97714102,\n       0.99331349, 1.00654581, 0.96720878, 1.00258732, 1.00144687,\n       1.00110393, 0.99313551, 0.99993668, 0.99275101, 1.00266675,\n       0.98584803, 0.99205199, 1.00250277, 1.00031566, 0.99940033,\n       0.98700595, 0.9986792 , 1.00207903, 0.96566914, 0.99682915,\n       0.99965169, 0.99202332, 0.98544413, 0.98618808, 0.9940523 ,\n       1.00070216, 0.98309974, 1.00102638, 1.00176699, 1.01076119,\n       0.98553271, 1.00382638, 1.00532761, 0.99427084, 1.0004812 ,\n       1.0131087 , 0.98425163, 0.98545567, 0.98268525, 0.98938623,\n       1.0014912 , 1.0017834 , 0.99758093, 0.9918356 , 0.99802602,\n       0.99349678])"
     },
     "execution_count": 11,
     "metadata": {},
     "output_type": "execute_result"
    }
   ],
   "source": [
    "q_env.reward_history[-1]"
   ],
   "metadata": {
    "collapsed": false,
    "ExecuteTime": {
     "end_time": "2024-01-30T08:01:08.423972Z",
     "start_time": "2024-01-30T08:01:08.422450Z"
    }
   },
   "execution_count": 11
  },
  {
   "cell_type": "code",
   "outputs": [],
   "source": [],
   "metadata": {
    "collapsed": false
   }
  }
 ],
 "metadata": {
  "kernelspec": {
   "display_name": "cqt_env",
   "language": "python",
   "name": "python3"
  },
  "language_info": {
   "codemirror_mode": {
    "name": "ipython",
    "version": 3
   },
   "file_extension": ".py",
   "mimetype": "text/x-python",
   "name": "python",
   "nbconvert_exporter": "python",
   "pygments_lexer": "ipython3",
   "version": "3.9.11"
  }
 },
 "nbformat": 4,
 "nbformat_minor": 2
}
