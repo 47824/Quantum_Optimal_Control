{
 "cells": [
  {
   "attachments": {},
   "cell_type": "markdown",
   "metadata": {},
   "source": [
    "## CX Calibration with HPO"
   ]
  },
  {
   "attachments": {},
   "cell_type": "markdown",
   "metadata": {},
   "source": [
    "#### Imports"
   ]
  },
  {
   "cell_type": "code",
   "execution_count": 1,
   "metadata": {},
   "outputs": [
    {
     "name": "stderr",
     "output_type": "stream",
     "text": [
      "/Users/lukasvoss/Library/Python/3.9/lib/python/site-packages/qiskit_dynamics/dispatch/backends/jax.py:34: UserWarning: The functionality in the perturbation module of Qiskit Dynamics requires a JAX version <= 0.4.6, due to a bug in JAX versions > 0.4.6. For versions 0.4.4, 0.4.5, and 0.4.6, using the perturbation module functionality requires setting os.environ['JAX_JIT_PJIT_API_MERGE'] = '0' before importing JAX or Dynamics.\n",
      "  warnings.warn(\n"
     ]
    },
    {
     "name": "stdout",
     "output_type": "stream",
     "text": [
      "Starting Rabi experiment for qubit 0...\n",
      "Rabi experiment for qubit 0 done.\n",
      "Starting Drag experiment for qubit 0...\n",
      "Drag experiments done for qubit 0 done.\n",
      "Starting Rabi experiment for qubit 1...\n",
      "Rabi experiment for qubit 1 done.\n",
      "Starting Drag experiment for qubit 1...\n",
      "Drag experiments done for qubit 1 done.\n",
      "All single qubit calibrations are done\n",
      "Updated Instruction Schedule Map <InstructionScheduleMap(1Q instructions:\n",
      "  q0: {'reset', 'delay', 'h', 'x', 'sx', 'sdg', 'z', 's', 'id', 'tdg', 'measure', 't', 'rz'}\n",
      "  q1: {'reset', 'delay', 'h', 'x', 'sx', 'sdg', 'z', 's', 'id', 'tdg', 'measure', 't', 'rz'}\n",
      "Multi qubit instructions:\n",
      "  (0, 1): {'ecr', 'cr45m', 'cr45p'}\n",
      "  (1, 0): {'ecr', 'cr45m', 'cr45p'}\n",
      ")>\n"
     ]
    }
   ],
   "source": [
    "import sys\n",
    "import os\n",
    "os.environ[\"KMP_DUPLICATE_LIB_OK\"] = \"True\"\n",
    "module_path = os.path.abspath(os.path.join('/Users/lukasvoss/Documents/Master Wirtschaftsphysik/Masterarbeit Yale-NUS CQT/Quantum_Optimal_Control'))\n",
    "if module_path not in sys.path:\n",
    "    sys.path.append(module_path)\n",
    "\n",
    "from template_configurations import gate_q_env_config\n",
    "import logging\n",
    "logging.basicConfig(\n",
    "    level=logging.WARNING,\n",
    "    format=\"%(asctime)s INFO %(message)s\", # hardcoded INFO level\n",
    "    datefmt=\"%Y-%m-%d %H:%M:%S\",\n",
    "    stream=sys.stdout,\n",
    ")"
   ]
  },
  {
   "attachments": {},
   "cell_type": "markdown",
   "metadata": {},
   "source": [
    "Which gate is to be calibrated?"
   ]
  },
  {
   "cell_type": "code",
   "execution_count": 2,
   "metadata": {},
   "outputs": [
    {
     "data": {
      "text/plain": [
       "{'register': [0, 1],\n",
       " 'gate': Instruction(name='cx', num_qubits=2, num_clbits=0, params=[])}"
      ]
     },
     "execution_count": 2,
     "metadata": {},
     "output_type": "execute_result"
    }
   ],
   "source": [
    "gate_q_env_config.target"
   ]
  },
  {
   "attachments": {},
   "cell_type": "markdown",
   "metadata": {},
   "source": [
    "### Perform HPO"
   ]
  },
  {
   "cell_type": "code",
   "execution_count": 3,
   "metadata": {},
   "outputs": [],
   "source": [
    "from hyperparameter_optimization import HyperparameterOptimizer"
   ]
  },
  {
   "attachments": {},
   "cell_type": "markdown",
   "metadata": {},
   "source": [
    "Set path to the files specifying the RL agent and where to store the HPO results"
   ]
  },
  {
   "cell_type": "code",
   "execution_count": 4,
   "metadata": {},
   "outputs": [],
   "source": [
    "path_agent_config = '/Users/lukasvoss/Documents/Master Wirtschaftsphysik/Masterarbeit Yale-NUS CQT/Quantum_Optimal_Control/template_configurations/agent_config.yaml'\n",
    "save_results_path = 'hpo_results'"
   ]
  },
  {
   "cell_type": "code",
   "execution_count": 5,
   "metadata": {},
   "outputs": [],
   "source": [
    "from quantumenvironment import QuantumEnvironment"
   ]
  },
  {
   "cell_type": "code",
   "execution_count": 6,
   "metadata": {},
   "outputs": [
    {
     "name": "stdout",
     "output_type": "stream",
     "text": [
      "SparsePauliOp(['II', 'XX', 'YZ', 'ZY'],\n",
      "              coeffs=[0.25+0.j, 0.25+0.j, 0.25+0.j, 0.25+0.j])\n"
     ]
    }
   ],
   "source": [
    "q_env = QuantumEnvironment(gate_q_env_config)"
   ]
  },
  {
   "cell_type": "code",
   "execution_count": 7,
   "metadata": {},
   "outputs": [
    {
     "name": "stderr",
     "output_type": "stream",
     "text": [
      "\r 51%|█████     | 50/98 [00:13<00:13,  3.67it/s]"
     ]
    },
    {
     "name": "stdout",
     "output_type": "stream",
     "text": [
      "Fidelity History: []\n",
      "SparsePauliOp(['II', 'XX', 'YY', 'ZZ'],\n",
      "              coeffs=[ 0.25+0.j,  0.25+0.j, -0.25+0.j,  0.25+0.j])\n"
     ]
    },
    {
     "name": "stderr",
     "output_type": "stream",
     "text": [
      " 52%|█████▏    | 51/98 [00:13<00:12,  3.73it/s]"
     ]
    },
    {
     "name": "stdout",
     "output_type": "stream",
     "text": [
      "mean tensor([-0.1342,  0.9942,  0.3925,  0.2300, -0.2565,  0.2014, -0.9995])\n",
      "Average return: 0.4786426082804319\n",
      "DFE Rewards Mean: 0.4786426082804319\n",
      "DFE Rewards standard dev 0.08479575070399677\n",
      "Returns Mean: 0.6650793\n",
      "Returns standard dev 0.16827853\n",
      "Advantages Mean: -0.15827897\n",
      "Advantages standard dev 0.16827853\n",
      "Fidelity History: []\n",
      "SparsePauliOp(['II', 'IZ', 'XI', 'XZ'],\n",
      "              coeffs=[ 0.25+0.j, -0.25+0.j,  0.25+0.j, -0.25+0.j])\n"
     ]
    },
    {
     "name": "stderr",
     "output_type": "stream",
     "text": [
      " 53%|█████▎    | 52/98 [00:14<00:12,  3.67it/s]"
     ]
    },
    {
     "name": "stdout",
     "output_type": "stream",
     "text": [
      "mean tensor([-0.1208,  0.9927,  0.3734,  0.2226, -0.2601,  0.1794, -0.9991])\n",
      "Average return: 0.9449380488489839\n",
      "DFE Rewards Mean: 0.9449380488489839\n",
      "DFE Rewards standard dev 0.0543304648775156\n",
      "Returns Mean: 4.0688076\n",
      "Returns standard dev 3.0341127\n",
      "Advantages Mean: 3.438811\n",
      "Advantages standard dev 3.0341127\n",
      "Fidelity History: []\n",
      "SparsePauliOp(['II', 'IZ', 'ZI', 'ZZ'],\n",
      "              coeffs=[0.25+0.j, 0.25+0.j, 0.25+0.j, 0.25+0.j])\n"
     ]
    },
    {
     "name": "stderr",
     "output_type": "stream",
     "text": [
      " 54%|█████▍    | 53/98 [00:14<00:11,  3.81it/s]"
     ]
    },
    {
     "name": "stdout",
     "output_type": "stream",
     "text": [
      "mean tensor([-0.0488,  0.9669,  0.3053,  0.1135, -0.1579,  0.1137, -0.9925])\n",
      "Average return: 0.7872783474473322\n",
      "DFE Rewards Mean: 0.7872783474473322\n",
      "DFE Rewards standard dev 0.06926365020719413\n",
      "Returns Mean: 1.6110145\n",
      "Returns standard dev 0.3804485\n",
      "Advantages Mean: 0.68894\n",
      "Advantages standard dev 0.3804485\n",
      "Fidelity History: []\n",
      "SparsePauliOp(['II', 'XX', 'YY', 'ZZ'],\n",
      "              coeffs=[ 0.25+0.j,  0.25+0.j,  0.25+0.j, -0.25+0.j])\n"
     ]
    },
    {
     "name": "stderr",
     "output_type": "stream",
     "text": [
      " 55%|█████▌    | 54/98 [00:14<00:11,  3.94it/s]"
     ]
    },
    {
     "name": "stdout",
     "output_type": "stream",
     "text": [
      "mean tensor([-0.1442,  0.9967,  0.4055,  0.2592, -0.3275,  0.2354, -0.9913])\n",
      "Average return: 0.47820173164507235\n",
      "DFE Rewards Mean: 0.47820173164507235\n",
      "DFE Rewards standard dev 0.0818580192266128\n",
      "Returns Mean: 0.6632605\n",
      "Returns standard dev 0.16207957\n",
      "Advantages Mean: -0.9847506\n",
      "Advantages standard dev 0.16207957\n",
      "Fidelity History: []\n",
      "SparsePauliOp(['II', 'XX', 'YZ', 'ZY'],\n",
      "              coeffs=[0.25+0.j, 0.25+0.j, 0.25+0.j, 0.25+0.j])\n"
     ]
    },
    {
     "name": "stderr",
     "output_type": "stream",
     "text": [
      " 56%|█████▌    | 55/98 [00:14<00:10,  4.02it/s]"
     ]
    },
    {
     "name": "stdout",
     "output_type": "stream",
     "text": [
      "mean tensor([-0.1641,  0.9984,  0.4355,  0.2941, -0.3727,  0.2548, -0.9979])\n",
      "Average return: 0.49244277322938856\n",
      "DFE Rewards Mean: 0.49244277322938856\n",
      "DFE Rewards standard dev 0.06803186367630033\n",
      "Returns Mean: 0.6872922\n",
      "Returns standard dev 0.13621606\n",
      "Advantages Mean: -0.57427865\n",
      "Advantages standard dev 0.13621606\n",
      "Fidelity History: []\n",
      "SparsePauliOp(['II', 'XX', 'YZ', 'ZY'],\n",
      "              coeffs=[0.25+0.j, 0.25+0.j, 0.25+0.j, 0.25+0.j])\n"
     ]
    },
    {
     "name": "stderr",
     "output_type": "stream",
     "text": [
      " 57%|█████▋    | 56/98 [00:14<00:10,  4.07it/s]"
     ]
    },
    {
     "name": "stdout",
     "output_type": "stream",
     "text": [
      "mean tensor([-0.1673,  0.9986,  0.4387,  0.3210, -0.3844,  0.2961, -0.9986])\n",
      "Average return: 0.5032864119421556\n",
      "DFE Rewards Mean: 0.5032864119421556\n",
      "DFE Rewards standard dev 0.07896341706722584\n",
      "Returns Mean: 0.7128642\n",
      "Returns standard dev 0.16425022\n",
      "Advantages Mean: -0.20923802\n",
      "Advantages standard dev 0.16425022\n",
      "Fidelity History: []\n",
      "SparsePauliOp(['II', 'IZ', 'ZI', 'ZZ'],\n",
      "              coeffs=[0.25+0.j, 0.25+0.j, 0.25+0.j, 0.25+0.j])\n"
     ]
    },
    {
     "name": "stderr",
     "output_type": "stream",
     "text": [
      " 58%|█████▊    | 57/98 [00:15<00:09,  4.17it/s]"
     ]
    },
    {
     "name": "stdout",
     "output_type": "stream",
     "text": [
      "mean tensor([-0.0364,  0.9623,  0.3144,  0.1725, -0.2280,  0.1554, -0.9593])\n",
      "Average return: 0.8031600021321068\n",
      "DFE Rewards Mean: 0.8031600021321068\n",
      "DFE Rewards standard dev 0.07217794433250797\n",
      "Returns Mean: 1.7130952\n",
      "Returns standard dev 0.47108316\n",
      "Advantages Mean: 1.0877502\n",
      "Advantages standard dev 0.47108316\n",
      "Fidelity History: []\n",
      "SparsePauliOp(['II', 'XY', 'YX', 'ZZ'],\n",
      "              coeffs=[ 0.25+0.j,  0.25+0.j, -0.25+0.j, -0.25+0.j])\n"
     ]
    },
    {
     "name": "stderr",
     "output_type": "stream",
     "text": [
      " 59%|█████▉    | 58/98 [00:15<00:12,  3.18it/s]"
     ]
    },
    {
     "name": "stdout",
     "output_type": "stream",
     "text": [
      "mean tensor([-0.2045,  0.9991,  0.4444,  0.3625, -0.4320,  0.3441, -0.9955])\n",
      "Average return: 0.48518438147746207\n",
      "DFE Rewards Mean: 0.48518438147746207\n",
      "DFE Rewards standard dev 0.08579695774368906\n",
      "Returns Mean: 0.67806065\n",
      "Returns standard dev 0.16939554\n",
      "Advantages Mean: -0.6944443\n",
      "Advantages standard dev 0.16939554\n",
      "Fidelity History: []\n",
      "SparsePauliOp(['II', 'IZ', 'XI', 'XZ'],\n",
      "              coeffs=[ 0.25+0.j, -0.25+0.j,  0.25+0.j, -0.25+0.j])\n"
     ]
    },
    {
     "name": "stderr",
     "output_type": "stream",
     "text": [
      " 60%|██████    | 59/98 [00:15<00:11,  3.34it/s]"
     ]
    },
    {
     "name": "stdout",
     "output_type": "stream",
     "text": [
      "mean tensor([-0.1265,  0.9941,  0.3928,  0.2916, -0.3583,  0.2486, -0.9814])\n",
      "Average return: 0.9466896616184832\n",
      "DFE Rewards Mean: 0.9466896616184832\n",
      "DFE Rewards standard dev 0.04719704381588666\n",
      "Returns Mean: 3.839087\n",
      "Returns standard dev 2.6507182\n",
      "Advantages Mean: 2.8813884\n",
      "Advantages standard dev 2.6507182\n",
      "Fidelity History: []\n",
      "SparsePauliOp(['II', 'XY', 'YX', 'ZZ'],\n",
      "              coeffs=[ 0.25+0.j,  0.25+0.j, -0.25+0.j, -0.25+0.j])\n"
     ]
    },
    {
     "name": "stderr",
     "output_type": "stream",
     "text": [
      " 61%|██████    | 60/98 [00:16<00:10,  3.46it/s]"
     ]
    },
    {
     "name": "stdout",
     "output_type": "stream",
     "text": [
      "mean tensor([-0.2105,  0.9994,  0.4516,  0.3296, -0.4298,  0.3685, -0.9984])\n",
      "Average return: 0.48062795906840544\n",
      "DFE Rewards Mean: 0.48062795906840544\n",
      "DFE Rewards standard dev 0.0787841885575848\n",
      "Returns Mean: 0.66683984\n",
      "Returns standard dev 0.15418918\n",
      "Advantages Mean: -1.0650136\n",
      "Advantages standard dev 0.15418918\n",
      "Fidelity History: []\n",
      "SparsePauliOp(['II', 'XY', 'YX', 'ZZ'],\n",
      "              coeffs=[0.25+0.j, 0.25+0.j, 0.25+0.j, 0.25+0.j])\n"
     ]
    },
    {
     "name": "stderr",
     "output_type": "stream",
     "text": [
      " 62%|██████▏   | 61/98 [00:16<00:10,  3.52it/s]"
     ]
    },
    {
     "name": "stdout",
     "output_type": "stream",
     "text": [
      "mean tensor([-0.1964,  0.9993,  0.4565,  0.3385, -0.4324,  0.3600, -0.9983])\n",
      "Average return: 0.4986232091074373\n",
      "DFE Rewards Mean: 0.4986232091074373\n",
      "DFE Rewards standard dev 0.0780115629326254\n",
      "Returns Mean: 0.70297885\n",
      "Returns standard dev 0.16068035\n",
      "Advantages Mean: -0.5899296\n",
      "Advantages standard dev 0.16068035\n",
      "Fidelity History: []\n",
      "SparsePauliOp(['II', 'IZ', 'YI', 'YZ'],\n",
      "              coeffs=[ 0.25+0.j, -0.25+0.j, -0.25+0.j,  0.25+0.j])\n"
     ]
    },
    {
     "name": "stderr",
     "output_type": "stream",
     "text": [
      " 63%|██████▎   | 62/98 [00:16<00:10,  3.56it/s]"
     ]
    },
    {
     "name": "stdout",
     "output_type": "stream",
     "text": [
      "mean tensor([-0.1353,  0.9970,  0.4006,  0.2865, -0.3820,  0.2859, -0.9935])\n",
      "Average return: 0.24632246708176922\n",
      "DFE Rewards Mean: 0.24632246708176922\n",
      "DFE Rewards standard dev 0.07377379572912868\n",
      "Returns Mean: 0.28766403\n",
      "Returns standard dev 0.09928083\n",
      "Advantages Mean: -0.6862726\n",
      "Advantages standard dev 0.09928083\n",
      "Fidelity History: []\n",
      "SparsePauliOp(['II', 'XY', 'YX', 'ZZ'],\n",
      "              coeffs=[0.25+0.j, 0.25+0.j, 0.25+0.j, 0.25+0.j])\n"
     ]
    },
    {
     "name": "stderr",
     "output_type": "stream",
     "text": [
      " 64%|██████▍   | 63/98 [00:17<00:09,  3.55it/s]"
     ]
    },
    {
     "name": "stdout",
     "output_type": "stream",
     "text": [
      "mean tensor([-0.1923,  0.9995,  0.4408,  0.3622, -0.4598,  0.3797, -0.9995])\n",
      "Average return: 0.5080345737636741\n",
      "DFE Rewards Mean: 0.5080345737636741\n",
      "DFE Rewards standard dev 0.07585715227217556\n",
      "Returns Mean: 0.7216779\n",
      "Returns standard dev 0.15898131\n",
      "Advantages Mean: 0.26806805\n",
      "Advantages standard dev 0.15898131\n",
      "Fidelity History: []\n",
      "SparsePauliOp(['II', 'IY', 'XI', 'XY'],\n",
      "              coeffs=[0.25+0.j, 0.25+0.j, 0.25+0.j, 0.25+0.j])\n"
     ]
    },
    {
     "name": "stderr",
     "output_type": "stream",
     "text": [
      " 65%|██████▌   | 64/98 [00:17<00:09,  3.60it/s]"
     ]
    },
    {
     "name": "stdout",
     "output_type": "stream",
     "text": [
      "mean tensor([-0.2039,  0.9997,  0.4455,  0.4053, -0.4941,  0.3978, -0.9997])\n",
      "Average return: 0.9072340125045534\n",
      "DFE Rewards Mean: 0.9072340125045534\n",
      "DFE Rewards standard dev 0.05595277431347156\n",
      "Returns Mean: 2.801796\n",
      "Returns standard dev 1.801049\n",
      "Advantages Mean: 2.128969\n",
      "Advantages standard dev 1.8010489\n",
      "Fidelity History: []\n",
      "SparsePauliOp(['II', 'IZ', 'XI', 'XZ'],\n",
      "              coeffs=[ 0.25+0.j, -0.25+0.j,  0.25+0.j, -0.25+0.j])\n"
     ]
    },
    {
     "name": "stderr",
     "output_type": "stream",
     "text": [
      " 66%|██████▋   | 65/98 [00:17<00:09,  3.63it/s]"
     ]
    },
    {
     "name": "stdout",
     "output_type": "stream",
     "text": [
      "mean tensor([-0.1126,  0.9968,  0.3561,  0.2876, -0.3933,  0.2922, -0.9956])\n",
      "Average return: 0.9528352818637236\n",
      "DFE Rewards Mean: 0.9528352818637236\n",
      "DFE Rewards standard dev 0.04083662110022483\n",
      "Returns Mean: 4.149062\n",
      "Returns standard dev 3.0036829\n",
      "Advantages Mean: 2.9444387\n",
      "Advantages standard dev 3.0036829\n",
      "Fidelity History: []\n",
      "SparsePauliOp(['II', 'IZ', 'ZI', 'ZZ'],\n",
      "              coeffs=[ 0.25+0.j, -0.25+0.j, -0.25+0.j,  0.25+0.j])\n"
     ]
    },
    {
     "name": "stderr",
     "output_type": "stream",
     "text": [
      " 67%|██████▋   | 66/98 [00:17<00:08,  3.67it/s]"
     ]
    },
    {
     "name": "stdout",
     "output_type": "stream",
     "text": [
      "mean tensor([-0.0746,  0.9946,  0.3346,  0.2304, -0.3467,  0.2743, -0.9918])\n",
      "Average return: 0.2463781441483424\n",
      "DFE Rewards Mean: 0.2463781441483424\n",
      "DFE Rewards standard dev 0.07333093266102773\n",
      "Returns Mean: 0.28775653\n",
      "Returns standard dev 0.099883504\n",
      "Advantages Mean: -1.4221066\n",
      "Advantages standard dev 0.099883504\n",
      "Fidelity History: []\n",
      "SparsePauliOp(['II', 'IY', 'XI', 'XY'],\n",
      "              coeffs=[0.25+0.j, 0.25+0.j, 0.25+0.j, 0.25+0.j])\n"
     ]
    },
    {
     "name": "stderr",
     "output_type": "stream",
     "text": [
      " 68%|██████▊   | 67/98 [00:18<00:08,  3.61it/s]"
     ]
    },
    {
     "name": "stdout",
     "output_type": "stream",
     "text": [
      "mean tensor([-0.1877,  0.9999,  0.4207,  0.3803, -0.5009,  0.4098, -1.0000])\n",
      "Average return: 0.9170014365811089\n",
      "DFE Rewards Mean: 0.9170014365811089\n",
      "DFE Rewards standard dev 0.050439801640831256\n",
      "Returns Mean: 2.8496988\n",
      "Returns standard dev 1.4982318\n",
      "Advantages Mean: 1.4680829\n",
      "Advantages standard dev 1.4982319\n",
      "Fidelity History: []\n",
      "SparsePauliOp(['II', 'IX', 'XI', 'XX'],\n",
      "              coeffs=[0.25+0.j, 0.25+0.j, 0.25+0.j, 0.25+0.j])\n"
     ]
    },
    {
     "name": "stderr",
     "output_type": "stream",
     "text": [
      " 69%|██████▉   | 68/98 [00:18<00:08,  3.64it/s]"
     ]
    },
    {
     "name": "stdout",
     "output_type": "stream",
     "text": [
      "mean tensor([-0.1567,  0.9997,  0.3568,  0.3151, -0.4625,  0.3776, -0.9998])\n",
      "Average return: 0.9235252380037021\n",
      "DFE Rewards Mean: 0.9235252380037021\n",
      "DFE Rewards standard dev 0.056692653425126006\n",
      "Returns Mean: 3.2446706\n",
      "Returns standard dev 2.2909782\n",
      "Advantages Mean: 1.5807984\n",
      "Advantages standard dev 2.2909782\n",
      "Fidelity History: []\n",
      "SparsePauliOp(['II', 'XX', 'YZ', 'ZY'],\n",
      "              coeffs=[0.25+0.j, 0.25+0.j, 0.25+0.j, 0.25+0.j])\n"
     ]
    },
    {
     "name": "stderr",
     "output_type": "stream",
     "text": [
      " 70%|███████   | 69/98 [00:18<00:08,  3.53it/s]"
     ]
    },
    {
     "name": "stdout",
     "output_type": "stream",
     "text": [
      "mean tensor([-0.1717,  0.9998,  0.3403,  0.3184, -0.4769,  0.4037, -0.9999])\n",
      "Average return: 0.5103096374247232\n",
      "DFE Rewards Mean: 0.5103096374247232\n",
      "DFE Rewards standard dev 0.08146555052212019\n",
      "Returns Mean: 0.7282128\n",
      "Returns standard dev 0.17062844\n",
      "Advantages Mean: -1.2365177\n",
      "Advantages standard dev 0.17062844\n",
      "Fidelity History: []\n",
      "SparsePauliOp(['II', 'IZ', 'YI', 'YZ'],\n",
      "              coeffs=[ 0.25+0.j, -0.25+0.j, -0.25+0.j,  0.25+0.j])\n"
     ]
    },
    {
     "name": "stderr",
     "output_type": "stream",
     "text": [
      " 71%|███████▏  | 70/98 [00:19<00:08,  3.50it/s]"
     ]
    },
    {
     "name": "stdout",
     "output_type": "stream",
     "text": [
      "mean tensor([-0.1181,  0.9991,  0.3222,  0.2785, -0.4243,  0.3575, -0.9994])\n",
      "Average return: 0.258842527732447\n",
      "DFE Rewards Mean: 0.258842527732447\n",
      "DFE Rewards standard dev 0.06373321917090062\n",
      "Returns Mean: 0.3033023\n",
      "Returns standard dev 0.087155245\n",
      "Advantages Mean: -1.0455853\n",
      "Advantages standard dev 0.087155245\n",
      "Fidelity History: []\n",
      "SparsePauliOp(['II', 'IZ', 'YI', 'YZ'],\n",
      "              coeffs=[ 0.25+0.j, -0.25+0.j, -0.25+0.j,  0.25+0.j])\n"
     ]
    },
    {
     "name": "stderr",
     "output_type": "stream",
     "text": [
      " 72%|███████▏  | 71/98 [00:19<00:07,  3.47it/s]"
     ]
    },
    {
     "name": "stdout",
     "output_type": "stream",
     "text": [
      "mean tensor([-0.1229,  0.9992,  0.3220,  0.2893, -0.4317,  0.3726, -0.9996])\n",
      "Average return: 0.2653530624942752\n",
      "DFE Rewards Mean: 0.2653530624942752\n",
      "DFE Rewards standard dev 0.06977599250499988\n",
      "Returns Mean: 0.31297338\n",
      "Returns standard dev 0.096658856\n",
      "Advantages Mean: -0.59283626\n",
      "Advantages standard dev 0.096658856\n",
      "Fidelity History: []\n",
      "SparsePauliOp(['II', 'XX', 'YY', 'ZZ'],\n",
      "              coeffs=[ 0.25+0.j,  0.25+0.j,  0.25+0.j, -0.25+0.j])\n"
     ]
    },
    {
     "name": "stderr",
     "output_type": "stream",
     "text": [
      " 73%|███████▎  | 72/98 [00:19<00:07,  3.56it/s]"
     ]
    },
    {
     "name": "stdout",
     "output_type": "stream",
     "text": [
      "mean tensor([-0.1407,  0.9997,  0.3313,  0.3265, -0.4743,  0.4288, -0.9999])\n",
      "Average return: 0.4984612021268958\n",
      "DFE Rewards Mean: 0.4984612021268958\n",
      "DFE Rewards standard dev 0.08593313037178828\n",
      "Returns Mean: 0.7050667\n",
      "Returns standard dev 0.17465612\n",
      "Advantages Mean: 0.18718338\n",
      "Advantages standard dev 0.17465612\n",
      "Fidelity History: []\n",
      "SparsePauliOp(['II', 'IZ', 'ZI', 'ZZ'],\n",
      "              coeffs=[ 0.25+0.j, -0.25+0.j,  0.25+0.j, -0.25+0.j])\n"
     ]
    },
    {
     "name": "stderr",
     "output_type": "stream",
     "text": [
      " 74%|███████▍  | 73/98 [00:20<00:09,  2.69it/s]"
     ]
    },
    {
     "name": "stdout",
     "output_type": "stream",
     "text": [
      "mean tensor([-0.0994,  0.9986,  0.3201,  0.2780, -0.4299,  0.3542, -0.9992])\n",
      "Average return: 0.2735003514676217\n",
      "DFE Rewards Mean: 0.2735003514676217\n",
      "DFE Rewards standard dev 0.07184053201874151\n",
      "Returns Mean: 0.32458216\n",
      "Returns standard dev 0.10174065\n",
      "Advantages Mean: -0.36736205\n",
      "Advantages standard dev 0.10174065\n",
      "Fidelity History: []\n",
      "SparsePauliOp(['II', 'XX', 'YY', 'ZZ'],\n",
      "              coeffs=[ 0.25+0.j,  0.25+0.j, -0.25+0.j,  0.25+0.j])\n"
     ]
    },
    {
     "name": "stderr",
     "output_type": "stream",
     "text": [
      " 76%|███████▌  | 74/98 [00:20<00:08,  2.92it/s]"
     ]
    },
    {
     "name": "stdout",
     "output_type": "stream",
     "text": [
      "mean tensor([-0.1380,  0.9997,  0.3489,  0.3545, -0.4995,  0.4060, -0.9999])\n",
      "Average return: 0.531916452827129\n",
      "DFE Rewards Mean: 0.531916452827129\n",
      "DFE Rewards standard dev 0.07642323486364788\n",
      "Returns Mean: 0.7729333\n",
      "Returns standard dev 0.16838269\n",
      "Advantages Mean: 0.34649977\n",
      "Advantages standard dev 0.16838269\n",
      "Fidelity History: []\n",
      "SparsePauliOp(['II', 'IZ', 'YI', 'YZ'],\n",
      "              coeffs=[0.25+0.j, 0.25+0.j, 0.25+0.j, 0.25+0.j])\n"
     ]
    },
    {
     "name": "stderr",
     "output_type": "stream",
     "text": [
      " 77%|███████▋  | 75/98 [00:20<00:07,  3.09it/s]"
     ]
    },
    {
     "name": "stdout",
     "output_type": "stream",
     "text": [
      "mean tensor([-0.0704,  0.9976,  0.3128,  0.2858, -0.4249,  0.3052, -0.9986])\n",
      "Average return: 0.7997269709014321\n",
      "DFE Rewards Mean: 0.7997269709014321\n",
      "DFE Rewards standard dev 0.06948557925737939\n",
      "Returns Mean: 1.6762006\n",
      "Returns standard dev 0.38990483\n",
      "Advantages Mean: 1.0251297\n",
      "Advantages standard dev 0.38990483\n",
      "Fidelity History: []\n",
      "SparsePauliOp(['II', 'IZ', 'ZI', 'ZZ'],\n",
      "              coeffs=[0.25+0.j, 0.25+0.j, 0.25+0.j, 0.25+0.j])\n"
     ]
    },
    {
     "name": "stderr",
     "output_type": "stream",
     "text": [
      " 78%|███████▊  | 76/98 [00:20<00:06,  3.24it/s]"
     ]
    },
    {
     "name": "stdout",
     "output_type": "stream",
     "text": [
      "mean tensor([-0.0233,  0.9890,  0.2820,  0.2531, -0.3504,  0.2783, -0.9884])\n",
      "Average return: 0.8034799239108192\n",
      "DFE Rewards Mean: 0.8034799239108192\n",
      "DFE Rewards standard dev 0.06481233589015072\n",
      "Returns Mean: 1.6966344\n",
      "Returns standard dev 0.41656232\n",
      "Advantages Mean: 0.6211292\n",
      "Advantages standard dev 0.41656232\n",
      "Fidelity History: []\n",
      "SparsePauliOp(['II', 'IZ', 'ZI', 'ZZ'],\n",
      "              coeffs=[ 0.25+0.j,  0.25+0.j, -0.25+0.j, -0.25+0.j])\n"
     ]
    },
    {
     "name": "stderr",
     "output_type": "stream",
     "text": [
      " 79%|███████▊  | 77/98 [00:21<00:06,  3.35it/s]"
     ]
    },
    {
     "name": "stdout",
     "output_type": "stream",
     "text": [
      "mean tensor([-0.0433,  0.9918,  0.3037,  0.2991, -0.4136,  0.3083, -0.9671])\n",
      "Average return: 0.8221140555966712\n",
      "DFE Rewards Mean: 0.8221140555966712\n",
      "DFE Rewards standard dev 0.061069912308623485\n",
      "Returns Mean: 1.8002088\n",
      "Returns standard dev 0.42647985\n",
      "Advantages Mean: 0.4126063\n",
      "Advantages standard dev 0.42647988\n",
      "Fidelity History: []\n",
      "SparsePauliOp(['II', 'IX', 'XI', 'XX'],\n",
      "              coeffs=[0.25+0.j, 0.25+0.j, 0.25+0.j, 0.25+0.j])\n"
     ]
    },
    {
     "name": "stderr",
     "output_type": "stream",
     "text": [
      " 80%|███████▉  | 78/98 [00:21<00:05,  3.41it/s]"
     ]
    },
    {
     "name": "stdout",
     "output_type": "stream",
     "text": [
      "mean tensor([-0.1813,  0.9998,  0.3890,  0.4621, -0.6309,  0.4940, -0.9978])\n",
      "Average return: 0.9064567508326273\n",
      "DFE Rewards Mean: 0.9064567508326273\n",
      "DFE Rewards standard dev 0.0563223424919008\n",
      "Returns Mean: 2.783691\n",
      "Returns standard dev 1.7432573\n",
      "Advantages Mean: 0.77937734\n",
      "Advantages standard dev 1.7432573\n",
      "Fidelity History: []\n",
      "SparsePauliOp(['II', 'XY', 'YX', 'ZZ'],\n",
      "              coeffs=[0.25+0.j, 0.25+0.j, 0.25+0.j, 0.25+0.j])\n"
     ]
    },
    {
     "name": "stderr",
     "output_type": "stream",
     "text": [
      " 81%|████████  | 79/98 [00:21<00:05,  3.42it/s]"
     ]
    },
    {
     "name": "stdout",
     "output_type": "stream",
     "text": [
      "mean tensor([-0.2061,  0.9999,  0.3757,  0.4840, -0.6501,  0.5404, -0.9984])\n",
      "Average return: 0.5653007640119138\n",
      "DFE Rewards Mean: 0.5653007640119138\n",
      "DFE Rewards standard dev 0.07686875289484328\n",
      "Returns Mean: 0.84985733\n",
      "Returns standard dev 0.1876049\n",
      "Advantages Mean: -1.4847854\n",
      "Advantages standard dev 0.1876049\n",
      "Fidelity History: []\n",
      "SparsePauliOp(['II', 'IZ', 'ZI', 'ZZ'],\n",
      "              coeffs=[ 0.25+0.j, -0.25+0.j,  0.25+0.j, -0.25+0.j])\n"
     ]
    },
    {
     "name": "stderr",
     "output_type": "stream",
     "text": [
      " 82%|████████▏ | 80/98 [00:22<00:05,  3.40it/s]"
     ]
    },
    {
     "name": "stdout",
     "output_type": "stream",
     "text": [
      "mean tensor([-0.1085,  0.9989,  0.3192,  0.4035, -0.5517,  0.4253, -0.9863])\n",
      "Average return: 0.3185311022347601\n",
      "DFE Rewards Mean: 0.3185311022347601\n",
      "DFE Rewards standard dev 0.08186899604151597\n",
      "Returns Mean: 0.39100456\n",
      "Returns standard dev 0.123999156\n",
      "Advantages Mean: -1.2479049\n",
      "Advantages standard dev 0.123999156\n",
      "Fidelity History: []\n",
      "SparsePauliOp(['II', 'IZ', 'ZI', 'ZZ'],\n",
      "              coeffs=[ 0.25+0.j,  0.25+0.j, -0.25+0.j, -0.25+0.j])\n"
     ]
    },
    {
     "name": "stderr",
     "output_type": "stream",
     "text": [
      " 83%|████████▎ | 81/98 [00:22<00:05,  3.14it/s]"
     ]
    },
    {
     "name": "stdout",
     "output_type": "stream",
     "text": [
      "mean tensor([-0.0517,  0.9948,  0.2834,  0.3496, -0.4847,  0.3325, -0.9743])\n",
      "Average return: 0.832550147939393\n",
      "DFE Rewards Mean: 0.832550147939393\n",
      "DFE Rewards standard dev 0.06349499030856533\n",
      "Returns Mean: 1.8859859\n",
      "Returns standard dev 0.5953827\n",
      "Advantages Mean: 0.83064735\n",
      "Advantages standard dev 0.5953827\n",
      "Fidelity History: []\n",
      "SparsePauliOp(['II', 'IZ', 'ZI', 'ZZ'],\n",
      "              coeffs=[ 0.25+0.j, -0.25+0.j,  0.25+0.j, -0.25+0.j])\n"
     ]
    },
    {
     "name": "stderr",
     "output_type": "stream",
     "text": [
      " 84%|████████▎ | 82/98 [00:22<00:05,  3.18it/s]"
     ]
    },
    {
     "name": "stdout",
     "output_type": "stream",
     "text": [
      "mean tensor([-0.1138,  0.9990,  0.3201,  0.4394, -0.6153,  0.4302, -0.9901])\n",
      "Average return: 0.33665817277093973\n",
      "DFE Rewards Mean: 0.33665817277093973\n",
      "DFE Rewards standard dev 0.08031242400331155\n",
      "Returns Mean: 0.41805667\n",
      "Returns standard dev 0.12456376\n",
      "Advantages Mean: -1.0242404\n",
      "Advantages standard dev 0.12456376\n",
      "Fidelity History: []\n",
      "SparsePauliOp(['II', 'IZ', 'YI', 'YZ'],\n",
      "              coeffs=[ 0.25+0.j, -0.25+0.j, -0.25+0.j,  0.25+0.j])\n"
     ]
    },
    {
     "name": "stderr",
     "output_type": "stream",
     "text": [
      " 85%|████████▍ | 83/98 [00:23<00:04,  3.24it/s]"
     ]
    },
    {
     "name": "stdout",
     "output_type": "stream",
     "text": [
      "mean tensor([-0.1458,  0.9997,  0.3397,  0.4975, -0.6735,  0.4697, -0.9986])\n",
      "Average return: 0.31997202801532254\n",
      "DFE Rewards Mean: 0.31997202801532254\n",
      "DFE Rewards standard dev 0.07072098796898905\n",
      "Returns Mean: 0.39117044\n",
      "Returns standard dev 0.10621147\n",
      "Advantages Mean: -0.50200814\n",
      "Advantages standard dev 0.10621147\n",
      "Fidelity History: []\n",
      "SparsePauliOp(['II', 'XY', 'YX', 'ZZ'],\n",
      "              coeffs=[ 0.25+0.j,  0.25+0.j, -0.25+0.j, -0.25+0.j])\n"
     ]
    },
    {
     "name": "stderr",
     "output_type": "stream",
     "text": [
      " 86%|████████▌ | 84/98 [00:23<00:04,  3.31it/s]"
     ]
    },
    {
     "name": "stdout",
     "output_type": "stream",
     "text": [
      "mean tensor([-0.2076,  1.0000,  0.3807,  0.5858, -0.7621,  0.5781, -0.9999])\n",
      "Average return: 0.578513844172416\n",
      "DFE Rewards Mean: 0.578513844172416\n",
      "DFE Rewards standard dev 0.08658640602055595\n",
      "Returns Mean: 0.88609636\n",
      "Returns standard dev 0.2141806\n",
      "Advantages Mean: 0.48484024\n",
      "Advantages standard dev 0.2141806\n",
      "Fidelity History: []\n",
      "SparsePauliOp(['II', 'IZ', 'ZI', 'ZZ'],\n",
      "              coeffs=[0.25+0.j, 0.25+0.j, 0.25+0.j, 0.25+0.j])\n"
     ]
    },
    {
     "name": "stderr",
     "output_type": "stream",
     "text": [
      " 87%|████████▋ | 85/98 [00:23<00:03,  3.48it/s]"
     ]
    },
    {
     "name": "stdout",
     "output_type": "stream",
     "text": [
      "mean tensor([-0.0431,  0.9930,  0.2703,  0.3833, -0.5289,  0.3253, -0.9632])\n",
      "Average return: 0.8427707185011042\n",
      "DFE Rewards Mean: 0.8427707185011042\n",
      "DFE Rewards standard dev 0.06163644485776726\n",
      "Returns Mean: 1.9557443\n",
      "Returns standard dev 0.6100243\n",
      "Advantages Mean: 1.1146787\n",
      "Advantages standard dev 0.6100243\n",
      "Fidelity History: []\n",
      "SparsePauliOp(['II', 'IZ', 'ZI', 'ZZ'],\n",
      "              coeffs=[ 0.25+0.j, -0.25+0.j, -0.25+0.j,  0.25+0.j])\n"
     ]
    },
    {
     "name": "stderr",
     "output_type": "stream",
     "text": [
      " 88%|████████▊ | 86/98 [00:23<00:03,  3.58it/s]"
     ]
    },
    {
     "name": "stdout",
     "output_type": "stream",
     "text": [
      "mean tensor([-0.1020,  0.9991,  0.3061,  0.4834, -0.6722,  0.4239, -0.9903])\n",
      "Average return: 0.35875218660083635\n",
      "DFE Rewards Mean: 0.35875218660083635\n",
      "DFE Rewards standard dev 0.07941775661017154\n",
      "Returns Mean: 0.45230216\n",
      "Returns standard dev 0.12768854\n",
      "Advantages Mean: -0.8514927\n",
      "Advantages standard dev 0.12768854\n",
      "Fidelity History: []\n",
      "SparsePauliOp(['II', 'XY', 'YX', 'ZZ'],\n",
      "              coeffs=[ 0.25+0.j,  0.25+0.j, -0.25+0.j, -0.25+0.j])\n"
     ]
    },
    {
     "name": "stderr",
     "output_type": "stream",
     "text": [
      " 89%|████████▉ | 87/98 [00:24<00:03,  3.57it/s]"
     ]
    },
    {
     "name": "stdout",
     "output_type": "stream",
     "text": [
      "mean tensor([-0.2148,  1.0000,  0.3895,  0.6274, -0.8199,  0.5737, -1.0000])\n",
      "Average return: 0.6003341174627914\n",
      "DFE Rewards Mean: 0.6003341174627914\n",
      "DFE Rewards standard dev 0.08206981265335703\n",
      "Returns Mean: 0.93887043\n",
      "Returns standard dev 0.21121582\n",
      "Advantages Mean: 0.3892481\n",
      "Advantages standard dev 0.21121581\n",
      "Fidelity History: []\n",
      "SparsePauliOp(['II', 'IZ', 'ZI', 'ZZ'],\n",
      "              coeffs=[ 0.25+0.j,  0.25+0.j, -0.25+0.j, -0.25+0.j])\n"
     ]
    },
    {
     "name": "stderr",
     "output_type": "stream",
     "text": [
      " 90%|████████▉ | 88/98 [00:24<00:03,  2.79it/s]"
     ]
    },
    {
     "name": "stdout",
     "output_type": "stream",
     "text": [
      "mean tensor([-0.0636,  0.9974,  0.2914,  0.4455, -0.6431,  0.3556, -0.9835])\n",
      "Average return: 0.8607454174970629\n",
      "DFE Rewards Mean: 0.8607454174970629\n",
      "DFE Rewards standard dev 0.058636151820663986\n",
      "Returns Mean: 2.1034963\n",
      "Returns standard dev 0.6980666\n",
      "Advantages Mean: 1.1459721\n",
      "Advantages standard dev 0.69806665\n",
      "Fidelity History: []\n",
      "SparsePauliOp(['II', 'IZ', 'YI', 'YZ'],\n",
      "              coeffs=[0.25+0.j, 0.25+0.j, 0.25+0.j, 0.25+0.j])\n"
     ]
    },
    {
     "name": "stderr",
     "output_type": "stream",
     "text": [
      " 91%|█████████ | 89/98 [00:25<00:03,  2.98it/s]"
     ]
    },
    {
     "name": "stdout",
     "output_type": "stream",
     "text": [
      "mean tensor([-0.0975,  0.9989,  0.3188,  0.5085, -0.7354,  0.4210, -0.9844])\n",
      "Average return: 0.8318319670935649\n",
      "DFE Rewards Mean: 0.8318319670935649\n",
      "DFE Rewards standard dev 0.06970089136385957\n",
      "Returns Mean: 1.8915894\n",
      "Returns standard dev 0.51796657\n",
      "Advantages Mean: 0.43693855\n",
      "Advantages standard dev 0.5179666\n",
      "Fidelity History: []\n",
      "SparsePauliOp(['II', 'XX', 'YY', 'ZZ'],\n",
      "              coeffs=[ 0.25+0.j,  0.25+0.j,  0.25+0.j, -0.25+0.j])\n"
     ]
    },
    {
     "name": "stderr",
     "output_type": "stream",
     "text": [
      " 92%|█████████▏| 90/98 [00:25<00:02,  3.15it/s]"
     ]
    },
    {
     "name": "stdout",
     "output_type": "stream",
     "text": [
      "mean tensor([-0.1815,  0.9999,  0.3692,  0.6091, -0.8205,  0.6041, -0.9973])\n",
      "Average return: 0.6190536311091085\n",
      "DFE Rewards Mean: 0.6190536311091085\n",
      "DFE Rewards standard dev 0.08261039932416589\n",
      "Returns Mean: 0.98916537\n",
      "Returns standard dev 0.2222236\n",
      "Advantages Mean: -0.796971\n",
      "Advantages standard dev 0.2222236\n",
      "Fidelity History: []\n",
      "SparsePauliOp(['II', 'IZ', 'ZI', 'ZZ'],\n",
      "              coeffs=[ 0.25+0.j, -0.25+0.j, -0.25+0.j,  0.25+0.j])\n"
     ]
    },
    {
     "name": "stderr",
     "output_type": "stream",
     "text": [
      " 93%|█████████▎| 91/98 [00:25<00:02,  3.30it/s]"
     ]
    },
    {
     "name": "stdout",
     "output_type": "stream",
     "text": [
      "mean tensor([-0.1118,  0.9993,  0.3483,  0.5521, -0.7625,  0.5125, -0.9850])\n",
      "Average return: 0.39647651520740296\n",
      "DFE Rewards Mean: 0.39647651520740296\n",
      "DFE Rewards standard dev 0.07856450785310724\n",
      "Returns Mean: 0.5137047\n",
      "Returns standard dev 0.13351542\n",
      "Advantages Mean: -0.9389915\n",
      "Advantages standard dev 0.13351542\n",
      "Fidelity History: []\n",
      "SparsePauliOp(['II', 'IX', 'XI', 'XX'],\n",
      "              coeffs=[0.25+0.j, 0.25+0.j, 0.25+0.j, 0.25+0.j])\n"
     ]
    },
    {
     "name": "stderr",
     "output_type": "stream",
     "text": [
      " 94%|█████████▍| 92/98 [00:25<00:01,  3.42it/s]"
     ]
    },
    {
     "name": "stdout",
     "output_type": "stream",
     "text": [
      "mean tensor([-0.1891,  1.0000,  0.4011,  0.6564, -0.8569,  0.6268, -0.9998])\n",
      "Average return: 0.8865539565908855\n",
      "DFE Rewards Mean: 0.8865539565908855\n",
      "DFE Rewards standard dev 0.05583156453870682\n",
      "Returns Mean: 2.4370315\n",
      "Returns standard dev 1.3611611\n",
      "Advantages Mean: 1.6840376\n",
      "Advantages standard dev 1.3611611\n",
      "Fidelity History: []\n",
      "SparsePauliOp(['II', 'XX', 'YZ', 'ZY'],\n",
      "              coeffs=[0.25+0.j, 0.25+0.j, 0.25+0.j, 0.25+0.j])\n"
     ]
    },
    {
     "name": "stderr",
     "output_type": "stream",
     "text": [
      " 95%|█████████▍| 93/98 [00:26<00:01,  3.50it/s]"
     ]
    },
    {
     "name": "stdout",
     "output_type": "stream",
     "text": [
      "mean tensor([-0.1942,  1.0000,  0.3950,  0.6581, -0.8636,  0.6575, -0.9998])\n",
      "Average return: 0.6336437420266404\n",
      "DFE Rewards Mean: 0.6336437420266404\n",
      "DFE Rewards standard dev 0.07198924299085548\n",
      "Returns Mean: 1.0244476\n",
      "Returns standard dev 0.20543653\n",
      "Advantages Mean: -0.34630108\n",
      "Advantages standard dev 0.20543653\n",
      "Fidelity History: []\n",
      "SparsePauliOp(['II', 'IY', 'XI', 'XY'],\n",
      "              coeffs=[0.25+0.j, 0.25+0.j, 0.25+0.j, 0.25+0.j])\n"
     ]
    },
    {
     "name": "stderr",
     "output_type": "stream",
     "text": [
      " 96%|█████████▌| 94/98 [00:26<00:01,  3.56it/s]"
     ]
    },
    {
     "name": "stdout",
     "output_type": "stream",
     "text": [
      "mean tensor([-0.2395,  1.0000,  0.4158,  0.6956, -0.8875,  0.7098, -1.0000])\n",
      "Average return: 0.89969050794476\n",
      "DFE Rewards Mean: 0.89969050794476\n",
      "DFE Rewards standard dev 0.04914424631685466\n",
      "Returns Mean: 2.5318632\n",
      "Returns standard dev 1.2062451\n",
      "Advantages Mean: 1.4337481\n",
      "Advantages standard dev 1.206245\n",
      "Fidelity History: []\n",
      "SparsePauliOp(['II', 'IZ', 'ZI', 'ZZ'],\n",
      "              coeffs=[ 0.25+0.j,  0.25+0.j, -0.25+0.j, -0.25+0.j])\n"
     ]
    },
    {
     "name": "stderr",
     "output_type": "stream",
     "text": [
      " 97%|█████████▋| 95/98 [00:26<00:00,  3.57it/s]"
     ]
    },
    {
     "name": "stdout",
     "output_type": "stream",
     "text": [
      "mean tensor([-0.0612,  0.9976,  0.3033,  0.5052, -0.7067,  0.4651, -0.9682])\n",
      "Average return: 0.87719247776807\n",
      "DFE Rewards Mean: 0.87719247776807\n",
      "DFE Rewards standard dev 0.054863970195668216\n",
      "Returns Mean: 2.2575505\n",
      "Returns standard dev 0.86838174\n",
      "Advantages Mean: 0.7938992\n",
      "Advantages standard dev 0.86838174\n",
      "Fidelity History: []\n",
      "SparsePauliOp(['II', 'IZ', 'XI', 'XZ'],\n",
      "              coeffs=[ 0.25+0.j, -0.25+0.j,  0.25+0.j, -0.25+0.j])\n"
     ]
    },
    {
     "name": "stderr",
     "output_type": "stream",
     "text": [
      " 98%|█████████▊| 96/98 [00:26<00:00,  3.40it/s]"
     ]
    },
    {
     "name": "stdout",
     "output_type": "stream",
     "text": [
      "mean tensor([-0.1293,  0.9998,  0.3432,  0.6015, -0.8422,  0.5960, -0.9958])\n",
      "Average return: 0.9221187329563117\n",
      "DFE Rewards Mean: 0.9221187329563117\n",
      "DFE Rewards standard dev 0.043913480397827706\n",
      "Returns Mean: 2.9855967\n",
      "Returns standard dev 1.888985\n",
      "Advantages Mean: 1.1515622\n",
      "Advantages standard dev 1.8889853\n",
      "Fidelity History: []\n",
      "SparsePauliOp(['II', 'XX', 'YY', 'ZZ'],\n",
      "              coeffs=[ 0.25+0.j,  0.25+0.j, -0.25+0.j,  0.25+0.j])\n"
     ]
    },
    {
     "name": "stderr",
     "output_type": "stream",
     "text": [
      " 99%|█████████▉| 97/98 [00:27<00:00,  3.41it/s]"
     ]
    },
    {
     "name": "stdout",
     "output_type": "stream",
     "text": [
      "mean tensor([-0.1515,  0.9999,  0.3613,  0.6247, -0.8599,  0.6766, -0.9984])\n",
      "Average return: 0.6544562346459825\n",
      "DFE Rewards Mean: 0.6544562346459825\n",
      "DFE Rewards standard dev 0.0742091384603806\n",
      "Returns Mean: 1.0877975\n",
      "Returns standard dev 0.2315501\n",
      "Advantages Mean: -1.0886683\n",
      "Advantages standard dev 0.23155008\n",
      "Fidelity History: []\n",
      "SparsePauliOp(['II', 'IZ', 'ZI', 'ZZ'],\n",
      "              coeffs=[ 0.25+0.j,  0.25+0.j, -0.25+0.j, -0.25+0.j])\n"
     ]
    },
    {
     "name": "stderr",
     "output_type": "stream",
     "text": [
      "100%|██████████| 98/98 [00:27<00:00,  3.56it/s]\n",
      "[I 2024-01-25 15:03:37,716] Trial 0 finished with value: 0.6190536311091085 and parameters: {'N_UPDATES': 98, 'N_EPOCHS': 17, 'MINIBATCH_SIZE': 96, 'BATCHSIZE_MULTIPLIER': 10, 'LR': 0.00042023154103451897, 'GAMMA': 0.9670099769157185, 'GAE_LAMBDA': 0.9087475540398442, 'ENT_COEF': 0.00010745841175495839, 'V_COEF': 0.3779768820449133, 'GRADIENT_CLIP': 0.503131379582895, 'CLIP_VALUE_COEF': 0.23786622162463758, 'CLIP_RATIO': 0.17325524513585705}. Best is trial 0 with value: 0.6190536311091085.\n"
     ]
    },
    {
     "name": "stdout",
     "output_type": "stream",
     "text": [
      "mean tensor([-0.0572,  0.9982,  0.2989,  0.5102, -0.7543,  0.4952, -0.9582])\n",
      "Average return: 0.8862122193822908\n",
      "DFE Rewards Mean: 0.8862122193822908\n",
      "DFE Rewards standard dev 0.04967758667792034\n",
      "Returns Mean: 2.3776822\n",
      "Returns standard dev 1.1805786\n",
      "Advantages Mean: 0.79685616\n",
      "Advantages standard dev 1.1805786\n",
      "Fidelity History: []\n"
     ]
    },
    {
     "name": "stderr",
     "output_type": "stream",
     "text": [
      " 11%|█         | 3/28 [00:00<00:01, 20.82it/s]"
     ]
    },
    {
     "name": "stdout",
     "output_type": "stream",
     "text": [
      "SparsePauliOp(['II', 'IZ', 'XI', 'XZ'],\n",
      "              coeffs=[ 0.25+0.j, -0.25+0.j,  0.25+0.j, -0.25+0.j])\n",
      "mean tensor([ 0.0890, -0.1357, -0.0516,  0.0200,  0.0564,  0.0075,  0.0998])\n",
      "Average return: 0.7886305983243335\n",
      "DFE Rewards Mean: 0.7886305983243335\n",
      "DFE Rewards standard dev 0.15528169620247942\n",
      "Returns Mean: 2.0480933\n",
      "Returns standard dev 1.5202376\n",
      "Advantages Mean: 1.9921441\n",
      "Advantages standard dev 1.5202378\n",
      "Fidelity History: []\n",
      "SparsePauliOp(['II', 'IZ', 'XI', 'XZ'],\n",
      "              coeffs=[0.25+0.j, 0.25+0.j, 0.25+0.j, 0.25+0.j])\n",
      "mean tensor([ 0.0131, -0.0870, -0.0870,  0.0243, -0.0242,  0.0262,  0.0658])\n",
      "Average return: 0.8319365435183712\n",
      "DFE Rewards Mean: 0.8319365435183712\n",
      "DFE Rewards standard dev 0.12588220617007845\n",
      "Returns Mean: 2.2029352\n",
      "Returns standard dev 1.3787714\n",
      "Advantages Mean: 1.643926\n",
      "Advantages standard dev 1.3787714\n",
      "Fidelity History: []\n",
      "SparsePauliOp(['II', 'IZ', 'YI', 'YZ'],\n",
      "              coeffs=[0.25+0.j, 0.25+0.j, 0.25+0.j, 0.25+0.j])\n",
      "mean tensor([ 0.0143, -0.1708, -0.1786, -0.0448, -0.0472,  0.0175,  0.1178])\n",
      "Average return: 0.8692231755013186\n",
      "DFE Rewards Mean: 0.8692231755013186\n",
      "DFE Rewards standard dev 0.10254054275377027\n",
      "Returns Mean: 2.6112914\n",
      "Returns standard dev 1.8255068\n",
      "Advantages Mean: 1.2708378\n",
      "Advantages standard dev 1.8255068\n",
      "Fidelity History: []\n",
      "SparsePauliOp(['II', 'XY', 'YX', 'ZZ'],\n",
      "              coeffs=[0.25+0.j, 0.25+0.j, 0.25+0.j, 0.25+0.j])\n",
      "mean tensor([-0.0961, -0.2878, -0.1907, -0.2339, -0.1102,  0.1075, -0.0595])\n",
      "Average return: 0.20534436759276734\n",
      "DFE Rewards Mean: 0.20534436759276734\n",
      "DFE Rewards standard dev 0.10661275058322048\n",
      "Returns Mean: 0.24025667\n",
      "Returns standard dev 0.13743336\n",
      "Advantages Mean: -2.4927197\n",
      "Advantages standard dev 0.13743336\n",
      "Fidelity History: []\n",
      "SparsePauliOp(['II', 'XY', 'YZ', 'ZX'],\n",
      "              coeffs=[ 0.25+0.j,  0.25+0.j,  0.25+0.j, -0.25+0.j])\n"
     ]
    },
    {
     "name": "stderr",
     "output_type": "stream",
     "text": [
      " 21%|██▏       | 6/28 [00:00<00:01, 17.97it/s]"
     ]
    },
    {
     "name": "stdout",
     "output_type": "stream",
     "text": [
      "mean tensor([-0.1401, -0.4674, -0.2443, -0.2312, -0.1736,  0.1327, -0.0052])\n",
      "Average return: 0.254936416933273\n",
      "DFE Rewards Mean: 0.254936416933273\n",
      "DFE Rewards standard dev 0.10139344542201907\n",
      "Returns Mean: 0.30427116\n",
      "Returns standard dev 0.13816465\n",
      "Advantages Mean: -1.2841386\n",
      "Advantages standard dev 0.13816465\n",
      "Fidelity History: []\n",
      "SparsePauliOp(['II', 'IZ', 'XI', 'XZ'],\n",
      "              coeffs=[0.25+0.j, 0.25+0.j, 0.25+0.j, 0.25+0.j])\n",
      "mean tensor([-0.0467, -0.2330, -0.1335, -0.1026, -0.1341, -0.0694,  0.0761])\n",
      "Average return: 0.9038893571777306\n",
      "DFE Rewards Mean: 0.9038893571777306\n",
      "DFE Rewards standard dev 0.08101633393605186\n",
      "Returns Mean: 3.5392766\n",
      "Returns standard dev 3.1920633\n",
      "Advantages Mean: 3.049429\n",
      "Advantages standard dev 3.1920636\n",
      "Fidelity History: []\n",
      "SparsePauliOp(['II', 'IY', 'XI', 'XY'],\n",
      "              coeffs=[0.25+0.j, 0.25+0.j, 0.25+0.j, 0.25+0.j])\n",
      "mean tensor([-0.0854, -0.3700, -0.1925, -0.1654, -0.2091,  0.1906,  0.3605])\n",
      "Average return: 0.8428320795271744\n",
      "DFE Rewards Mean: 0.8428320795271744\n",
      "DFE Rewards standard dev 0.17079372611254484\n",
      "Returns Mean: 2.976101\n",
      "Returns standard dev 2.7344306\n",
      "Advantages Mean: 1.0157754\n",
      "Advantages standard dev 2.7344306\n",
      "Fidelity History: []\n",
      "SparsePauliOp(['II', 'XY', 'YZ', 'ZX'],\n",
      "              coeffs=[ 0.25+0.j,  0.25+0.j,  0.25+0.j, -0.25+0.j])\n",
      "mean tensor([-0.0858, -0.2754, -0.1040, -0.1603, -0.2050,  0.2020,  0.3641])\n",
      "Average return: 0.2796115896595708\n",
      "DFE Rewards Mean: 0.2796115896595708\n",
      "DFE Rewards standard dev 0.10386530697014293\n",
      "Returns Mean: 0.33849567\n",
      "Returns standard dev 0.14297973\n",
      "Advantages Mean: -1.9233128\n",
      "Advantages standard dev 0.14297973\n",
      "Fidelity History: []\n",
      "SparsePauliOp(['II', 'IY', 'XI', 'XY'],\n",
      "              coeffs=[0.25+0.j, 0.25+0.j, 0.25+0.j, 0.25+0.j])\n"
     ]
    },
    {
     "name": "stderr",
     "output_type": "stream",
     "text": [
      " 43%|████▎     | 12/28 [00:00<00:00, 19.92it/s]"
     ]
    },
    {
     "name": "stdout",
     "output_type": "stream",
     "text": [
      "mean tensor([-0.0319, -0.5805, -0.2785, -0.1141, -0.2165,  0.1359,  0.4638])\n",
      "Average return: 0.8667570321596002\n",
      "DFE Rewards Mean: 0.8667570321596002\n",
      "DFE Rewards standard dev 0.13476669623746795\n",
      "Returns Mean: 3.0759034\n",
      "Returns standard dev 2.6754436\n",
      "Advantages Mean: 1.8256679\n",
      "Advantages standard dev 2.6754436\n",
      "Fidelity History: []\n",
      "SparsePauliOp(['II', 'IZ', 'YI', 'YZ'],\n",
      "              coeffs=[0.25+0.j, 0.25+0.j, 0.25+0.j, 0.25+0.j])\n",
      "mean tensor([-0.0612, -0.4054, -0.1484, -0.0724, -0.0380,  0.0277,  0.4081])\n",
      "Average return: 0.8975983029615472\n",
      "DFE Rewards Mean: 0.8975983029615472\n",
      "DFE Rewards standard dev 0.08680303378221967\n",
      "Returns Mean: 3.231656\n",
      "Returns standard dev 2.7413638\n",
      "Advantages Mean: 2.0134144\n",
      "Advantages standard dev 2.7413638\n",
      "Fidelity History: []\n",
      "SparsePauliOp(['II', 'XY', 'YX', 'ZZ'],\n",
      "              coeffs=[0.25+0.j, 0.25+0.j, 0.25+0.j, 0.25+0.j])\n",
      "mean tensor([-0.0352, -0.6423, -0.2158, -0.1885, -0.1281,  0.0404,  0.3342])\n",
      "Average return: 0.27634812749690885\n",
      "DFE Rewards Mean: 0.27634812749690885\n",
      "DFE Rewards standard dev 0.10567761621675836\n",
      "Returns Mean: 0.3347774\n",
      "Returns standard dev 0.15336089\n",
      "Advantages Mean: -1.5964298\n",
      "Advantages standard dev 0.15336089\n",
      "Fidelity History: []\n",
      "SparsePauliOp(['II', 'IZ', 'YI', 'YZ'],\n",
      "              coeffs=[ 0.25+0.j, -0.25+0.j, -0.25+0.j,  0.25+0.j])\n",
      "mean tensor([-0.0300, -0.7276, -0.2776, -0.1051, -0.1150,  0.0405,  0.3782])\n",
      "Average return: 0.08319254209714042\n",
      "DFE Rewards Mean: 0.08319254209714042\n",
      "DFE Rewards standard dev 0.07347382233989826\n",
      "Returns Mean: 0.09089484\n",
      "Returns standard dev 0.08369171\n",
      "Advantages Mean: -0.9145243\n",
      "Advantages standard dev 0.08369171\n",
      "Fidelity History: []\n",
      "SparsePauliOp(['II', 'IZ', 'XI', 'XZ'],\n",
      "              coeffs=[0.25+0.j, 0.25+0.j, 0.25+0.j, 0.25+0.j])\n",
      "mean tensor([ 0.0037, -0.6129, -0.1684, -0.0822, -0.0702,  0.0424,  0.7090])\n",
      "Average return: 0.9352244698267943\n",
      "DFE Rewards Mean: 0.9352244698267943\n",
      "DFE Rewards standard dev 0.0604261419705345\n",
      "Returns Mean: 3.956305\n",
      "Returns standard dev 3.0650892\n",
      "Advantages Mean: 3.5917673\n",
      "Advantages standard dev 3.0650895\n",
      "Fidelity History: []\n",
      "SparsePauliOp(['II', 'IZ', 'YI', 'YZ'],\n",
      "              coeffs=[ 0.25+0.j, -0.25+0.j, -0.25+0.j,  0.25+0.j])\n"
     ]
    },
    {
     "name": "stderr",
     "output_type": "stream",
     "text": [
      " 54%|█████▎    | 15/28 [00:00<00:00, 20.94it/s]"
     ]
    },
    {
     "name": "stdout",
     "output_type": "stream",
     "text": [
      "mean tensor([-0.0534, -0.7948, -0.1920,  0.0042, -0.1672,  0.0407,  0.8125])\n",
      "Average return: 0.16727675649073315\n",
      "DFE Rewards Mean: 0.16727675649073315\n",
      "DFE Rewards standard dev 0.09462338792484938\n",
      "Returns Mean: 0.19007418\n",
      "Returns standard dev 0.11356823\n",
      "Advantages Mean: -1.2509104\n",
      "Advantages standard dev 0.11356824\n",
      "Fidelity History: []\n",
      "SparsePauliOp(['II', 'XX', 'YZ', 'ZY'],\n",
      "              coeffs=[0.25+0.j, 0.25+0.j, 0.25+0.j, 0.25+0.j])\n",
      "mean tensor([-0.0455, -0.8184, -0.1956,  0.0477, -0.2234,  0.0482,  0.9548])\n",
      "Average return: 0.41786701155707406\n",
      "DFE Rewards Mean: 0.41786701155707406\n",
      "DFE Rewards standard dev 0.08427014596041751\n",
      "Returns Mean: 0.5515899\n",
      "Returns standard dev 0.14566733\n",
      "Advantages Mean: -0.16728824\n",
      "Advantages standard dev 0.14566733\n",
      "Fidelity History: []\n",
      "SparsePauliOp(['II', 'IZ', 'ZI', 'ZZ'],\n",
      "              coeffs=[ 0.25+0.j, -0.25+0.j, -0.25+0.j,  0.25+0.j])\n",
      "mean tensor([-0.0581, -0.8686, -0.2358,  0.0505, -0.1687,  0.0687,  0.9330])\n",
      "Average return: 0.18683902659434673\n",
      "DFE Rewards Mean: 0.18683902659434673\n",
      "DFE Rewards standard dev 0.07351477850523669\n",
      "Returns Mean: 0.21097243\n",
      "Returns standard dev 0.0914723\n",
      "Advantages Mean: -0.3715384\n",
      "Advantages standard dev 0.0914723\n",
      "Fidelity History: []\n",
      "SparsePauliOp(['II', 'XY', 'YX', 'ZZ'],\n",
      "              coeffs=[ 0.25+0.j,  0.25+0.j, -0.25+0.j, -0.25+0.j])\n",
      "mean tensor([-0.0474, -0.9665, -0.3528, -0.0029, -0.2492,  0.0140,  0.9933])\n",
      "Average return: 0.42985002445123105\n",
      "DFE Rewards Mean: 0.42985002445123105\n",
      "DFE Rewards standard dev 0.08079825553416557\n",
      "Returns Mean: 0.5723289\n",
      "Returns standard dev 0.14658037\n",
      "Advantages Mean: 0.59235924\n",
      "Advantages standard dev 0.14658037\n",
      "Fidelity History: []\n",
      "SparsePauliOp(['II', 'XX', 'YY', 'ZZ'],\n",
      "              coeffs=[ 0.25+0.j,  0.25+0.j,  0.25+0.j, -0.25+0.j])\n"
     ]
    },
    {
     "name": "stderr",
     "output_type": "stream",
     "text": [
      " 64%|██████▍   | 18/28 [00:00<00:00, 21.47it/s]"
     ]
    },
    {
     "name": "stdout",
     "output_type": "stream",
     "text": [
      "mean tensor([-0.1090, -0.9650, -0.3251, -0.0300, -0.2157,  0.0645,  0.9914])\n",
      "Average return: 0.4376911025953747\n",
      "DFE Rewards Mean: 0.4376911025953747\n",
      "DFE Rewards standard dev 0.08008355837234188\n",
      "Returns Mean: 0.5856712\n",
      "Returns standard dev 0.14095695\n",
      "Advantages Mean: 0.013277244\n",
      "Advantages standard dev 0.14095695\n",
      "Fidelity History: []\n",
      "SparsePauliOp(['II', 'XY', 'YX', 'ZZ'],\n",
      "              coeffs=[ 0.25+0.j,  0.25+0.j, -0.25+0.j, -0.25+0.j])\n"
     ]
    },
    {
     "name": "stderr",
     "output_type": "stream",
     "text": [
      " 75%|███████▌  | 21/28 [00:00<00:00, 22.39it/s]"
     ]
    },
    {
     "name": "stdout",
     "output_type": "stream",
     "text": [
      "mean tensor([-0.1433, -0.9831, -0.4276, -0.0282, -0.2645,  0.0739,  0.9960])\n",
      "Average return: 0.4404762415296227\n",
      "DFE Rewards Mean: 0.4404762415296227\n",
      "DFE Rewards standard dev 0.07772887359414853\n",
      "Returns Mean: 0.5904192\n",
      "Returns standard dev 0.14041059\n",
      "Advantages Mean: -0.030319642\n",
      "Advantages standard dev 0.14041059\n",
      "Fidelity History: []\n",
      "SparsePauliOp(['II', 'XX', 'YY', 'ZZ'],\n",
      "              coeffs=[ 0.25+0.j,  0.25+0.j,  0.25+0.j, -0.25+0.j])\n",
      "mean tensor([-0.1313, -0.9791, -0.4831, -0.0558, -0.2373,  0.1418,  0.9933])\n",
      "Average return: 0.4609760164580915\n",
      "DFE Rewards Mean: 0.4609760164580915\n",
      "DFE Rewards standard dev 0.0839312112440755\n",
      "Returns Mean: 0.63017654\n",
      "Returns standard dev 0.15671413\n",
      "Advantages Mean: 0.05866526\n",
      "Advantages standard dev 0.15671413\n",
      "Fidelity History: []\n",
      "SparsePauliOp(['II', 'XY', 'YX', 'ZZ'],\n",
      "              coeffs=[ 0.25+0.j,  0.25+0.j, -0.25+0.j, -0.25+0.j])\n",
      "mean tensor([-0.1769, -0.9861, -0.5739, -0.1259, -0.2483,  0.1334,  0.9960])\n",
      "Average return: 0.46452991265886473\n",
      "DFE Rewards Mean: 0.46452991265886473\n",
      "DFE Rewards standard dev 0.08185977713063088\n",
      "Returns Mean: 0.63665164\n",
      "Returns standard dev 0.15671091\n",
      "Advantages Mean: -0.00900037\n",
      "Advantages standard dev 0.15671091\n",
      "Fidelity History: []\n",
      "SparsePauliOp(['II', 'IZ', 'XI', 'XZ'],\n",
      "              coeffs=[ 0.25+0.j, -0.25+0.j,  0.25+0.j, -0.25+0.j])\n",
      "mean tensor([-0.1496, -0.9679, -0.4966, -0.1323, -0.2044,  0.0869,  0.9869])\n",
      "Average return: 0.9674805586834705\n",
      "DFE Rewards Mean: 0.9674805586834705\n",
      "DFE Rewards standard dev 0.03379401166109624\n",
      "Returns Mean: 4.954075\n",
      "Returns standard dev 3.5939724\n",
      "Advantages Mean: 4.3603673\n",
      "Advantages standard dev 3.5939727\n",
      "Fidelity History: []\n",
      "SparsePauliOp(['II', 'XX', 'YY', 'ZZ'],\n",
      "              coeffs=[ 0.25+0.j,  0.25+0.j, -0.25+0.j,  0.25+0.j])\n",
      "mean tensor([-0.1098, -0.9780, -0.5435, -0.1358, -0.2215,  0.1102,  0.9913])\n",
      "Average return: 0.46776187133114566\n",
      "DFE Rewards Mean: 0.46776187133114566\n",
      "DFE Rewards standard dev 0.06847746973220328\n",
      "Returns Mean: 0.638976\n",
      "Returns standard dev 0.12936486\n",
      "Advantages Mean: -1.0753746\n",
      "Advantages standard dev 0.12936486\n",
      "Fidelity History: []\n"
     ]
    },
    {
     "name": "stderr",
     "output_type": "stream",
     "text": [
      " 86%|████████▌ | 24/28 [00:01<00:00, 23.34it/s]"
     ]
    },
    {
     "name": "stdout",
     "output_type": "stream",
     "text": [
      "SparsePauliOp(['II', 'IZ', 'ZI', 'ZZ'],\n",
      "              coeffs=[0.25+0.j, 0.25+0.j, 0.25+0.j, 0.25+0.j])\n",
      "mean tensor([-0.1038, -0.9312, -0.4238, -0.2090, -0.1308,  0.1166,  0.9514])\n",
      "Average return: 0.7848736448255664\n",
      "DFE Rewards Mean: 0.7848736448255664\n",
      "DFE Rewards standard dev 0.07036264541774971\n",
      "Returns Mean: 1.601016\n",
      "Returns standard dev 0.38379776\n",
      "Advantages Mean: 0.7712362\n",
      "Advantages standard dev 0.3837978\n",
      "Fidelity History: []\n"
     ]
    },
    {
     "name": "stderr",
     "output_type": "stream",
     "text": [
      "100%|██████████| 28/28 [00:01<00:00, 21.98it/s]\n",
      "[I 2024-01-25 15:03:38,996] Trial 1 finished with value: 0.4963349345701975 and parameters: {'N_UPDATES': 28, 'N_EPOCHS': 12, 'MINIBATCH_SIZE': 64, 'BATCHSIZE_MULTIPLIER': 2, 'LR': 0.004247062447252421, 'GAMMA': 0.9791207939698907, 'GAE_LAMBDA': 0.9670613772766286, 'ENT_COEF': 0.0008484573907645138, 'V_COEF': 0.6212487024971437, 'GRADIENT_CLIP': 0.689859388192491, 'CLIP_VALUE_COEF': 0.27387145109536043, 'CLIP_RATIO': 0.23395881031735236}. Best is trial 0 with value: 0.6190536311091085.\n"
     ]
    },
    {
     "name": "stdout",
     "output_type": "stream",
     "text": [
      "SparsePauliOp(['II', 'IZ', 'ZI', 'ZZ'],\n",
      "              coeffs=[0.25+0.j, 0.25+0.j, 0.25+0.j, 0.25+0.j])\n",
      "mean tensor([-0.0932, -0.9332, -0.3921, -0.2298, -0.1255,  0.1313,  0.9091])\n",
      "Average return: 0.8187080175232382\n",
      "DFE Rewards Mean: 0.8187080175232382\n",
      "DFE Rewards standard dev 0.07102336046384021\n",
      "Returns Mean: 1.8181818\n",
      "Returns standard dev 0.5307631\n",
      "Advantages Mean: 0.4203944\n",
      "Advantages standard dev 0.5307631\n",
      "Fidelity History: []\n",
      "SparsePauliOp(['II', 'IZ', 'YI', 'YZ'],\n",
      "              coeffs=[ 0.25+0.j, -0.25+0.j, -0.25+0.j,  0.25+0.j])\n",
      "mean tensor([-0.0908, -0.9752, -0.4985, -0.2634, -0.2843,  0.1043,  0.8877])\n",
      "Average return: 0.18869863808165044\n",
      "DFE Rewards Mean: 0.18869863808165044\n",
      "DFE Rewards standard dev 0.07070649318630991\n",
      "Returns Mean: 0.21299955\n",
      "Returns standard dev 0.088712\n",
      "Advantages Mean: -1.6569061\n",
      "Advantages standard dev 0.088712\n",
      "Fidelity History: []\n",
      "SparsePauliOp(['II', 'XY', 'YX', 'ZZ'],\n",
      "              coeffs=[ 0.25+0.j,  0.25+0.j, -0.25+0.j, -0.25+0.j])\n",
      "mean tensor([-0.0659, -0.9817, -0.5307, -0.2457, -0.3657,  0.1441,  0.9829])\n",
      "Average return: 0.4963349345701975\n",
      "DFE Rewards Mean: 0.4963349345701975\n",
      "DFE Rewards standard dev 0.06471545306338919\n",
      "Returns Mean: 0.6944028\n",
      "Returns standard dev 0.13229133\n",
      "Advantages Mean: -0.52335846\n",
      "Advantages standard dev 0.13229133\n",
      "Fidelity History: []\n",
      "SparsePauliOp(['II', 'IZ', 'ZI', 'ZZ'],\n",
      "              coeffs=[ 0.25+0.j,  0.25+0.j, -0.25+0.j, -0.25+0.j])\n",
      "mean tensor([-0.0873, -0.9362, -0.4412, -0.2786, -0.3246,  0.1432,  0.9182])\n",
      "Average return: 0.822466799528369\n",
      "DFE Rewards Mean: 0.822466799528369\n",
      "DFE Rewards standard dev 0.06181307902193214\n",
      "Returns Mean: 1.8047128\n",
      "Returns standard dev 0.43362355\n",
      "Advantages Mean: 1.0309927\n",
      "Advantages standard dev 0.43362355\n",
      "Fidelity History: []\n",
      "2024-01-25 15:03:38 INFO ---------------- FINISHED HPO ----------------\n",
      "2024-01-25 15:03:38 INFO HPO completed in 28.86 seconds.\n",
      "2024-01-25 15:03:38 INFO Best trial:\n",
      "2024-01-25 15:03:38 INFO -------------------------\n",
      "2024-01-25 15:03:38 INFO   Value: 0.6190536311091085\n",
      "2024-01-25 15:03:38 INFO   Parameters: \n",
      "2024-01-25 15:03:38 INFO     N_UPDATES: 98\n",
      "2024-01-25 15:03:38 INFO     N_EPOCHS: 17\n",
      "2024-01-25 15:03:39 INFO     MINIBATCH_SIZE: 96\n",
      "2024-01-25 15:03:39 INFO     BATCHSIZE_MULTIPLIER: 10\n",
      "2024-01-25 15:03:39 INFO     LR: 0.00042023154103451897\n",
      "2024-01-25 15:03:39 INFO     GAMMA: 0.9670099769157185\n",
      "2024-01-25 15:03:39 INFO     GAE_LAMBDA: 0.9087475540398442\n",
      "2024-01-25 15:03:39 INFO     ENT_COEF: 0.00010745841175495839\n",
      "2024-01-25 15:03:39 INFO     V_COEF: 0.3779768820449133\n",
      "2024-01-25 15:03:39 INFO     GRADIENT_CLIP: 0.503131379582895\n",
      "2024-01-25 15:03:39 INFO     CLIP_VALUE_COEF: 0.23786622162463758\n",
      "2024-01-25 15:03:39 INFO     CLIP_RATIO: 0.17325524513585705\n",
      "2024-01-25 15:03:39 INFO The best action vector is [-0.11477676  0.87349164  0.3609552   0.2857976  -0.3804693   0.28867638\n",
      " -0.9438569 ]\n",
      "2024-01-25 15:03:39 INFO Best configuration saved to hpo_results/reward_0.619054.pickle\n"
     ]
    }
   ],
   "source": [
    "optimizer = HyperparameterOptimizer(q_env=q_env,\n",
    "                                    path_agent_config=path_agent_config, \n",
    "                                    save_results_path=save_results_path, \n",
    "                                    log_progress=True,\n",
    "                                    num_hpo_trials=2)\n",
    "optimizer.optimize_hyperparameters()"
   ]
  },
  {
   "attachments": {},
   "cell_type": "markdown",
   "metadata": {},
   "source": [
    "#### Quick Summary of HPO Task"
   ]
  },
  {
   "cell_type": "code",
   "execution_count": 8,
   "metadata": {},
   "outputs": [
    {
     "data": {
      "text/plain": [
       "{'target_gate': Instruction(name='cx', num_qubits=2, num_clbits=0, params=[]),\n",
       " 'target_register': [0, 1]}"
      ]
     },
     "execution_count": 8,
     "metadata": {},
     "output_type": "execute_result"
    }
   ],
   "source": [
    "optimizer.target_gate"
   ]
  },
  {
   "cell_type": "code",
   "execution_count": 9,
   "metadata": {},
   "outputs": [
    {
     "data": {
      "text/plain": [
       "['N_UPDATES',\n",
       " 'N_EPOCHS',\n",
       " 'MINIBATCH_SIZE',\n",
       " 'BATCHSIZE_MULTIPLIER',\n",
       " 'LR',\n",
       " 'GAMMA',\n",
       " 'GAE_LAMBDA',\n",
       " 'ENT_COEF',\n",
       " 'V_COEF',\n",
       " 'GRADIENT_CLIP',\n",
       " 'CLIP_VALUE_COEF',\n",
       " 'CLIP_RATIO',\n",
       " 'BATCHSIZE']"
      ]
     },
     "execution_count": 9,
     "metadata": {},
     "output_type": "execute_result"
    }
   ],
   "source": [
    "optimizer.hyperparams"
   ]
  },
  {
   "cell_type": "code",
   "execution_count": 10,
   "metadata": {},
   "outputs": [
    {
     "data": {
      "text/plain": [
       "2"
      ]
     },
     "execution_count": 10,
     "metadata": {},
     "output_type": "execute_result"
    }
   ],
   "source": [
    "optimizer.num_hpo_trials"
   ]
  },
  {
   "cell_type": "code",
   "execution_count": 11,
   "metadata": {},
   "outputs": [
    {
     "data": {
      "text/plain": [
       "{'best_avg_reward': 0.6190536311091085,\n",
       " 'best_hyperparams': {'N_UPDATES': 98,\n",
       "  'N_EPOCHS': 17,\n",
       "  'MINIBATCH_SIZE': 96,\n",
       "  'BATCHSIZE_MULTIPLIER': 10,\n",
       "  'LR': 0.00042023154103451897,\n",
       "  'GAMMA': 0.9670099769157185,\n",
       "  'GAE_LAMBDA': 0.9087475540398442,\n",
       "  'ENT_COEF': 0.00010745841175495839,\n",
       "  'V_COEF': 0.3779768820449133,\n",
       "  'GRADIENT_CLIP': 0.503131379582895,\n",
       "  'CLIP_VALUE_COEF': 0.23786622162463758,\n",
       "  'CLIP_RATIO': 0.17325524513585705}}"
      ]
     },
     "execution_count": 11,
     "metadata": {},
     "output_type": "execute_result"
    }
   ],
   "source": [
    "optimizer.best_hpo_configuration"
   ]
  }
 ],
 "metadata": {
  "kernelspec": {
   "display_name": "Python 3",
   "language": "python",
   "name": "python3"
  },
  "language_info": {
   "codemirror_mode": {
    "name": "ipython",
    "version": 3
   },
   "file_extension": ".py",
   "mimetype": "text/x-python",
   "name": "python",
   "nbconvert_exporter": "python",
   "pygments_lexer": "ipython3",
   "version": "3.9.6"
  },
  "orig_nbformat": 4
 },
 "nbformat": 4,
 "nbformat_minor": 2
}
