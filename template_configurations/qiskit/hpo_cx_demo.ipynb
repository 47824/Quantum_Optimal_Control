{
 "cells": [
  {
   "attachments": {},
   "cell_type": "markdown",
   "metadata": {},
   "source": [
    "## CX Calibration with HPO"
   ]
  },
  {
   "attachments": {},
   "cell_type": "markdown",
   "metadata": {},
   "source": [
    "#### Imports"
   ]
  },
  {
   "cell_type": "code",
   "execution_count": 1,
   "metadata": {},
   "outputs": [
    {
     "name": "stderr",
     "output_type": "stream",
     "text": [
      "/Users/lukasvoss/Library/Python/3.9/lib/python/site-packages/qiskit_dynamics/dispatch/backends/jax.py:34: UserWarning: The functionality in the perturbation module of Qiskit Dynamics requires a JAX version <= 0.4.6, due to a bug in JAX versions > 0.4.6. For versions 0.4.4, 0.4.5, and 0.4.6, using the perturbation module functionality requires setting os.environ['JAX_JIT_PJIT_API_MERGE'] = '0' before importing JAX or Dynamics.\n",
      "  warnings.warn(\n"
     ]
    },
    {
     "name": "stdout",
     "output_type": "stream",
     "text": [
      "Starting Rabi experiment for qubit 0...\n",
      "Rabi experiment for qubit 0 done.\n",
      "Starting Drag experiment for qubit 0...\n",
      "Drag experiments done for qubit 0 done.\n",
      "Starting Rabi experiment for qubit 1...\n",
      "Rabi experiment for qubit 1 done.\n",
      "Starting Drag experiment for qubit 1...\n",
      "Drag experiments done for qubit 1 done.\n",
      "All single qubit calibrations are done\n",
      "Updated Instruction Schedule Map <InstructionScheduleMap(1Q instructions:\n",
      "  q0: {'measure', 'x', 'sx', 'rz', 'sdg', 'reset', 'z', 't', 'h', 'delay', 'id', 'tdg', 's'}\n",
      "  q1: {'measure', 'x', 'sx', 'rz', 'sdg', 'reset', 'z', 't', 'h', 'delay', 'id', 'tdg', 's'}\n",
      "Multi qubit instructions:\n",
      "  (0, 1): {'ecr', 'cr45p', 'cr45m'}\n",
      "  (1, 0): {'ecr', 'cr45p', 'cr45m'}\n",
      ")>\n"
     ]
    }
   ],
   "source": [
    "import sys\n",
    "import os\n",
    "os.environ[\"KMP_DUPLICATE_LIB_OK\"] = \"True\"\n",
    "module_path = os.path.abspath(os.path.join('/Users/lukasvoss/Documents/Master Wirtschaftsphysik/Masterarbeit Yale-NUS CQT/Quantum_Optimal_Control'))\n",
    "if module_path not in sys.path:\n",
    "    sys.path.append(module_path)\n",
    "\n",
    "from template_configurations import gate_q_env_config\n",
    "import logging\n",
    "logging.basicConfig(\n",
    "    level=logging.WARNING,\n",
    "    format=\"%(asctime)s INFO %(message)s\", # hardcoded INFO level\n",
    "    datefmt=\"%Y-%m-%d %H:%M:%S\",\n",
    "    stream=sys.stdout,\n",
    ")"
   ]
  },
  {
   "attachments": {},
   "cell_type": "markdown",
   "metadata": {},
   "source": [
    "Which gate is to be calibrated?"
   ]
  },
  {
   "cell_type": "code",
   "execution_count": 2,
   "metadata": {},
   "outputs": [
    {
     "data": {
      "text/plain": [
       "{'register': [0, 1],\n",
       " 'training_with_cal': True,\n",
       " 'gate': Instruction(name='cx', num_qubits=2, num_clbits=0, params=[])}"
      ]
     },
     "execution_count": 2,
     "metadata": {},
     "output_type": "execute_result"
    }
   ],
   "source": [
    "gate_q_env_config.target"
   ]
  },
  {
   "attachments": {},
   "cell_type": "markdown",
   "metadata": {},
   "source": [
    "### Perform HPO"
   ]
  },
  {
   "cell_type": "code",
   "execution_count": 3,
   "metadata": {},
   "outputs": [],
   "source": [
    "from hyperparameter_optimization import HyperparameterOptimizer"
   ]
  },
  {
   "attachments": {},
   "cell_type": "markdown",
   "metadata": {},
   "source": [
    "Set path to the files specifying the RL agent and where to store the HPO results"
   ]
  },
  {
   "cell_type": "code",
   "execution_count": 4,
   "metadata": {},
   "outputs": [],
   "source": [
    "path_agent_config = '/Users/lukasvoss/Documents/Master Wirtschaftsphysik/Masterarbeit Yale-NUS CQT/Quantum_Optimal_Control/template_configurations/agent_config.yaml'\n",
    "save_results_path = 'hpo_results'"
   ]
  },
  {
   "cell_type": "code",
   "execution_count": 5,
   "metadata": {},
   "outputs": [],
   "source": [
    "from quantumenvironment import QuantumEnvironment"
   ]
  },
  {
   "cell_type": "code",
   "execution_count": 6,
   "metadata": {},
   "outputs": [
    {
     "name": "stdout",
     "output_type": "stream",
     "text": [
      "SparsePauliOp(['II', 'XX', 'YY', 'ZZ'],\n",
      "              coeffs=[ 0.25+0.j,  0.25+0.j, -0.25+0.j,  0.25+0.j])\n"
     ]
    }
   ],
   "source": [
    "q_env = QuantumEnvironment(gate_q_env_config)"
   ]
  },
  {
   "cell_type": "code",
   "execution_count": 7,
   "metadata": {},
   "outputs": [
    {
     "name": "stderr",
     "output_type": "stream",
     "text": [
      "\r 74%|███████▎  | 50/68 [00:03<00:01, 16.23it/s]"
     ]
    },
    {
     "name": "stdout",
     "output_type": "stream",
     "text": [
      "Fidelity History: []\n",
      "SparsePauliOp(['II', 'IZ', 'XI', 'XZ'],\n",
      "              coeffs=[ 0.25+0.j, -0.25+0.j,  0.25+0.j, -0.25+0.j])\n"
     ]
    },
    {
     "name": "stderr",
     "output_type": "stream",
     "text": [
      " 76%|███████▋  | 52/68 [00:03<00:01, 14.91it/s]"
     ]
    },
    {
     "name": "stdout",
     "output_type": "stream",
     "text": [
      "mean tensor([ 0.0750,  0.6735,  0.7910, -0.6247,  0.7638, -0.6541, -0.9989])\n",
      "Average return: 0.9347003264851431\n",
      "DFE Rewards Mean: 0.9347003264851431\n",
      "DFE Rewards standard dev 0.04047756103204292\n",
      "Returns Mean: 3.2487006\n",
      "Returns standard dev 2.0468278\n",
      "Advantages Mean: 2.767055\n",
      "Advantages standard dev 2.0468278\n",
      "Fidelity History: []\n",
      "SparsePauliOp(['II', 'IZ', 'XI', 'XZ'],\n",
      "              coeffs=[ 0.25+0.j, -0.25+0.j,  0.25+0.j, -0.25+0.j])\n",
      "mean tensor([ 0.0638,  0.6398,  0.7732, -0.6072,  0.7475, -0.6873, -0.9990])\n",
      "Average return: 0.9420733075355697\n",
      "DFE Rewards Mean: 0.9420733075355697\n",
      "DFE Rewards standard dev 0.03326324444395158\n",
      "Returns Mean: 3.3836396\n",
      "Returns standard dev 2.1923835\n",
      "Advantages Mean: 1.740511\n",
      "Advantages standard dev 2.1923835\n",
      "Fidelity History: []\n",
      "SparsePauliOp(['II', 'XY', 'YX', 'ZZ'],\n",
      "              coeffs=[ 0.25+0.j,  0.25+0.j, -0.25+0.j, -0.25+0.j])\n",
      "mean tensor([ 0.0844,  0.5675,  0.7118, -0.5645,  0.7835, -0.7409, -0.9991])\n",
      "Average return: 0.6118837638364263\n",
      "DFE Rewards Mean: 0.6118837638364263\n",
      "DFE Rewards standard dev 0.07935991460603382\n",
      "Returns Mean: 0.9681095\n",
      "Returns standard dev 0.21161234\n",
      "Advantages Mean: -1.2708789\n",
      "Advantages standard dev 0.21161234\n",
      "Fidelity History: []\n",
      "SparsePauliOp(['II', 'XX', 'YY', 'ZZ'],\n",
      "              coeffs=[ 0.25+0.j,  0.25+0.j,  0.25+0.j, -0.25+0.j])\n"
     ]
    },
    {
     "name": "stderr",
     "output_type": "stream",
     "text": [
      " 79%|███████▉  | 54/68 [00:03<00:00, 14.83it/s]"
     ]
    },
    {
     "name": "stdout",
     "output_type": "stream",
     "text": [
      "mean tensor([ 0.0806,  0.6085,  0.8411, -0.5765,  0.8000, -0.7331, -0.9992])\n",
      "Average return: 0.623427138046993\n",
      "DFE Rewards Mean: 0.623427138046993\n",
      "DFE Rewards standard dev 0.07760838219548179\n",
      "Returns Mean: 0.99985135\n",
      "Returns standard dev 0.22168387\n",
      "Advantages Mean: -0.5145892\n",
      "Advantages standard dev 0.22168387\n",
      "Fidelity History: []\n",
      "SparsePauliOp(['II', 'XX', 'YZ', 'ZY'],\n",
      "              coeffs=[0.25+0.j, 0.25+0.j, 0.25+0.j, 0.25+0.j])\n",
      "mean tensor([ 0.0658,  0.5999,  0.9082, -0.6017,  0.8171, -0.7193, -0.9993])\n",
      "Average return: 0.6013287852999497\n",
      "DFE Rewards Mean: 0.6013287852999497\n",
      "DFE Rewards standard dev 0.08548477105279019\n",
      "Returns Mean: 0.94352514\n",
      "Returns standard dev 0.2219056\n",
      "Advantages Mean: -0.26308107\n",
      "Advantages standard dev 0.2219056\n",
      "Fidelity History: []\n",
      "SparsePauliOp(['II', 'IZ', 'ZI', 'ZZ'],\n",
      "              coeffs=[ 0.25+0.j, -0.25+0.j,  0.25+0.j, -0.25+0.j])\n"
     ]
    },
    {
     "name": "stderr",
     "output_type": "stream",
     "text": [
      " 82%|████████▏ | 56/68 [00:03<00:00, 14.78it/s]"
     ]
    },
    {
     "name": "stdout",
     "output_type": "stream",
     "text": [
      "mean tensor([ 0.0690,  0.6038,  0.9081, -0.6154,  0.8061, -0.7491, -0.9991])\n",
      "Average return: 0.4456438977150365\n",
      "DFE Rewards Mean: 0.4456438977150365\n",
      "DFE Rewards standard dev 0.0748667608550797\n",
      "Returns Mean: 0.5990904\n",
      "Returns standard dev 0.13566236\n",
      "Advantages Mean: -0.3256042\n",
      "Advantages standard dev 0.13566238\n",
      "Fidelity History: []\n",
      "SparsePauliOp(['II', 'IX', 'XI', 'XX'],\n",
      "              coeffs=[0.25+0.j, 0.25+0.j, 0.25+0.j, 0.25+0.j])\n"
     ]
    },
    {
     "name": "stderr",
     "output_type": "stream",
     "text": [
      " 85%|████████▌ | 58/68 [00:03<00:00, 14.61it/s]"
     ]
    },
    {
     "name": "stdout",
     "output_type": "stream",
     "text": [
      "mean tensor([ 0.0637,  0.6162,  0.9003, -0.6536,  0.8287, -0.7335, -0.9990])\n",
      "Average return: 0.874353881939966\n",
      "DFE Rewards Mean: 0.874353881939966\n",
      "DFE Rewards standard dev 0.06763617898950096\n",
      "Returns Mean: 2.409033\n",
      "Returns standard dev 1.5795321\n",
      "Advantages Mean: 1.7378569\n",
      "Advantages standard dev 1.579532\n",
      "Fidelity History: []\n",
      "SparsePauliOp(['II', 'XX', 'YY', 'ZZ'],\n",
      "              coeffs=[ 0.25+0.j,  0.25+0.j,  0.25+0.j, -0.25+0.j])\n",
      "mean tensor([ 0.0697,  0.5466,  0.8443, -0.6442,  0.8357, -0.7473, -0.9993])\n",
      "Average return: 0.6368519254086393\n",
      "DFE Rewards Mean: 0.6368519254086393\n",
      "DFE Rewards standard dev 0.07143121563938254\n",
      "Returns Mean: 1.0327594\n",
      "Returns standard dev 0.20141749\n",
      "Advantages Mean: -0.48637497\n",
      "Advantages standard dev 0.20141749\n",
      "Fidelity History: []\n",
      "SparsePauliOp(['II', 'IY', 'XI', 'XY'],\n",
      "              coeffs=[0.25+0.j, 0.25+0.j, 0.25+0.j, 0.25+0.j])\n",
      "mean tensor([ 0.0561,  0.5349,  0.8465, -0.6652,  0.8404, -0.7573, -0.9991])\n",
      "Average return: 0.8967825443878499\n",
      "DFE Rewards Mean: 0.8967825443878499\n",
      "DFE Rewards standard dev 0.056876429958874986\n",
      "Returns Mean: 2.5249128\n",
      "Returns standard dev 1.18684\n",
      "Advantages Mean: 1.3803561\n",
      "Advantages standard dev 1.18684\n",
      "Fidelity History: []\n",
      "SparsePauliOp(['II', 'IZ', 'XI', 'XZ'],\n",
      "              coeffs=[ 0.25+0.j, -0.25+0.j,  0.25+0.j, -0.25+0.j])\n"
     ]
    },
    {
     "name": "stderr",
     "output_type": "stream",
     "text": [
      " 88%|████████▊ | 60/68 [00:03<00:00, 14.74it/s]"
     ]
    },
    {
     "name": "stdout",
     "output_type": "stream",
     "text": [
      "mean tensor([ 0.0423,  0.4984,  0.7215, -0.6634,  0.8604, -0.7785, -0.9992])\n",
      "Average return: 0.9434143630959113\n",
      "DFE Rewards Mean: 0.9434143630959113\n",
      "DFE Rewards standard dev 0.03275834864622241\n",
      "Returns Mean: 3.3344991\n",
      "Returns standard dev 1.9101185\n",
      "Advantages Mean: 1.6685581\n",
      "Advantages standard dev 1.9101185\n",
      "Fidelity History: []\n",
      "SparsePauliOp(['II', 'XX', 'YZ', 'ZY'],\n",
      "              coeffs=[0.25+0.j, 0.25+0.j, 0.25+0.j, 0.25+0.j])\n",
      "mean tensor([ 0.0274,  0.5035,  0.6412, -0.6045,  0.8283, -0.8020, -0.9989])\n",
      "Average return: 0.594691599834992\n",
      "DFE Rewards Mean: 0.594691599834992\n",
      "DFE Rewards standard dev 0.0803051402138088\n",
      "Returns Mean: 0.9231242\n",
      "Returns standard dev 0.20197651\n",
      "Advantages Mean: -1.198074\n",
      "Advantages standard dev 0.20197651\n",
      "Fidelity History: []\n",
      "SparsePauliOp(['II', 'IZ', 'XI', 'XZ'],\n",
      "              coeffs=[ 0.25+0.j, -0.25+0.j,  0.25+0.j, -0.25+0.j])\n",
      "mean tensor([ 0.0201,  0.5502,  0.6735, -0.6178,  0.8290, -0.8254, -0.9988])\n"
     ]
    },
    {
     "name": "stderr",
     "output_type": "stream",
     "text": [
      " 91%|█████████ | 62/68 [00:03<00:00, 14.73it/s]"
     ]
    },
    {
     "name": "stdout",
     "output_type": "stream",
     "text": [
      "Average return: 0.9485193084441998\n",
      "DFE Rewards Mean: 0.9485193084441998\n",
      "DFE Rewards standard dev 0.03448063373199144\n",
      "Returns Mean: 3.6126475\n",
      "Returns standard dev 2.368196\n",
      "Advantages Mean: 1.9682946\n",
      "Advantages standard dev 2.368196\n",
      "Fidelity History: []\n",
      "SparsePauliOp(['II', 'IY', 'XI', 'XY'],\n",
      "              coeffs=[0.25+0.j, 0.25+0.j, 0.25+0.j, 0.25+0.j])\n"
     ]
    },
    {
     "name": "stderr",
     "output_type": "stream",
     "text": [
      " 94%|█████████▍| 64/68 [00:04<00:00, 14.81it/s]"
     ]
    },
    {
     "name": "stdout",
     "output_type": "stream",
     "text": [
      "mean tensor([ 0.0083,  0.5032,  0.6645, -0.5990,  0.8350, -0.8257, -0.9993])\n",
      "Average return: 0.9336041790899063\n",
      "DFE Rewards Mean: 0.9336041790899063\n",
      "DFE Rewards standard dev 0.050608366881239104\n",
      "Returns Mean: 3.5953822\n",
      "Returns standard dev 2.7324088\n",
      "Advantages Mean: 1.589987\n",
      "Advantages standard dev 2.7324088\n",
      "Fidelity History: []\n",
      "SparsePauliOp(['II', 'IZ', 'ZI', 'ZZ'],\n",
      "              coeffs=[ 0.25+0.j, -0.25+0.j,  0.25+0.j, -0.25+0.j])\n",
      "mean tensor([ 0.0120,  0.5050,  0.6287, -0.5714,  0.8526, -0.8642, -0.9995])\n",
      "Average return: 0.4411439806510686\n",
      "DFE Rewards Mean: 0.4411439806510686\n",
      "DFE Rewards standard dev 0.07940619745152531\n",
      "Returns Mean: 0.59234935\n",
      "Returns standard dev 0.14655466\n",
      "Advantages Mean: -1.8447348\n",
      "Advantages standard dev 0.14655466\n",
      "Fidelity History: []\n",
      "SparsePauliOp(['II', 'IY', 'XI', 'XY'],\n",
      "              coeffs=[0.25+0.j, 0.25+0.j, 0.25+0.j, 0.25+0.j])\n"
     ]
    },
    {
     "name": "stderr",
     "output_type": "stream",
     "text": [
      " 97%|█████████▋| 66/68 [00:04<00:00, 14.96it/s]"
     ]
    },
    {
     "name": "stdout",
     "output_type": "stream",
     "text": [
      "mean tensor([ 0.0330,  0.5164,  0.6033, -0.6322,  0.8741, -0.8614, -0.9992])\n",
      "Average return: 0.9365744979635207\n",
      "DFE Rewards Mean: 0.9365744979635207\n",
      "DFE Rewards standard dev 0.037347382618789476\n",
      "Returns Mean: 3.2534652\n",
      "Returns standard dev 2.0238926\n",
      "Advantages Mean: 1.4698286\n",
      "Advantages standard dev 2.0238924\n",
      "Fidelity History: []\n",
      "SparsePauliOp(['II', 'IZ', 'ZI', 'ZZ'],\n",
      "              coeffs=[ 0.25+0.j, -0.25+0.j, -0.25+0.j,  0.25+0.j])\n",
      "mean tensor([ 0.0337,  0.4733,  0.5969, -0.5721,  0.8534, -0.8799, -0.9992])\n",
      "Average return: 0.4421020584017211\n",
      "DFE Rewards Mean: 0.4421020584017211\n",
      "DFE Rewards standard dev 0.0743043023060969\n",
      "Returns Mean: 0.5926306\n",
      "Returns standard dev 0.13553926\n",
      "Advantages Mean: -1.4299307\n",
      "Advantages standard dev 0.13553926\n",
      "Fidelity History: []\n"
     ]
    },
    {
     "name": "stderr",
     "output_type": "stream",
     "text": [
      "100%|██████████| 68/68 [00:04<00:00, 15.55it/s]\n",
      "[I 2024-01-25 14:21:00,936] Trial 1 finished with value: 0.9336041790899063 and parameters: {'N_UPDATES': 68, 'N_EPOCHS': 18, 'MINIBATCH_SIZE': 128, 'BATCHSIZE_MULTIPLIER': 2, 'LR': 0.011776220348663938, 'GAMMA': 0.9702862813536117, 'GAE_LAMBDA': 0.9732695019122799, 'ENT_COEF': 0.0009998599680299297, 'V_COEF': 0.7410407169349126, 'GRADIENT_CLIP': 0.6777460157196542, 'CLIP_VALUE_COEF': 0.27699800684314385, 'CLIP_RATIO': 0.26819523877450924}. Best is trial 1 with value: 0.9336041790899063.\n"
     ]
    },
    {
     "name": "stdout",
     "output_type": "stream",
     "text": [
      "SparsePauliOp(['II', 'XX', 'YY', 'ZZ'],\n",
      "              coeffs=[ 0.25+0.j,  0.25+0.j,  0.25+0.j, -0.25+0.j])\n",
      "mean tensor([ 0.0360,  0.4774,  0.5698, -0.6316,  0.8592, -0.8851, -0.9987])\n",
      "Average return: 0.6332286268766122\n",
      "DFE Rewards Mean: 0.6332286268766122\n",
      "DFE Rewards standard dev 0.07954881450210058\n",
      "Returns Mean: 1.0291827\n",
      "Returns standard dev 0.23698948\n",
      "Advantages Mean: -0.6058016\n",
      "Advantages standard dev 0.23698948\n",
      "Fidelity History: []\n",
      "SparsePauliOp(['II', 'IY', 'XI', 'XY'],\n",
      "              coeffs=[0.25+0.j, 0.25+0.j, 0.25+0.j, 0.25+0.j])\n",
      "mean tensor([ 0.0425,  0.5041,  0.6108, -0.6713,  0.8682, -0.8874, -0.9985])\n",
      "Average return: 0.9358427469106854\n",
      "DFE Rewards Mean: 0.9358427469106854\n",
      "DFE Rewards standard dev 0.03457956001345867\n",
      "Returns Mean: 3.17633\n",
      "Returns standard dev 1.8916634\n",
      "Advantages Mean: 1.8492317\n",
      "Advantages standard dev 1.8916632\n",
      "Fidelity History: []\n",
      "2024-01-25 14:21:00 INFO ---------------- FINISHED HPO ----------------\n",
      "2024-01-25 14:21:00 INFO HPO completed in 7.45 seconds.\n",
      "2024-01-25 14:21:00 INFO Best trial:\n",
      "2024-01-25 14:21:00 INFO -------------------------\n",
      "2024-01-25 14:21:00 INFO   Value: 0.9336041790899063\n",
      "2024-01-25 14:21:00 INFO   Parameters: \n",
      "2024-01-25 14:21:00 INFO     N_UPDATES: 68\n",
      "2024-01-25 14:21:00 INFO     N_EPOCHS: 18\n",
      "2024-01-25 14:21:00 INFO     MINIBATCH_SIZE: 128\n",
      "2024-01-25 14:21:00 INFO     BATCHSIZE_MULTIPLIER: 2\n",
      "2024-01-25 14:21:00 INFO     LR: 0.011776220348663938\n",
      "2024-01-25 14:21:00 INFO     GAMMA: 0.9702862813536117\n",
      "2024-01-25 14:21:00 INFO     GAE_LAMBDA: 0.9732695019122799\n",
      "2024-01-25 14:21:00 INFO     ENT_COEF: 0.0009998599680299297\n",
      "2024-01-25 14:21:00 INFO     V_COEF: 0.7410407169349126\n",
      "2024-01-25 14:21:00 INFO     GRADIENT_CLIP: 0.6777460157196542\n",
      "2024-01-25 14:21:00 INFO     CLIP_VALUE_COEF: 0.27699800684314385\n",
      "2024-01-25 14:21:00 INFO     CLIP_RATIO: 0.26819523877450924\n",
      "2024-01-25 14:21:00 INFO The best action vector is [-6.2603503e-04  4.6463302e-01  5.1742285e-01 -2.4769181e-01\n",
      "  4.0107846e-01 -4.0439221e-01 -9.3412411e-01]\n",
      "Best configuration saved to hpo_results/reward_0.933604.pickle\n"
     ]
    }
   ],
   "source": [
    "optimizer = HyperparameterOptimizer(q_env=q_env,\n",
    "                                    path_agent_config=path_agent_config, \n",
    "                                    save_results_path=save_results_path, \n",
    "                                    log_progress=True,\n",
    "                                    num_hpo_trials=2)\n",
    "optimizer.optimize_hyperparameters()"
   ]
  },
  {
   "attachments": {},
   "cell_type": "markdown",
   "metadata": {},
   "source": [
    "#### Quick Summary of HPO Task"
   ]
  },
  {
   "cell_type": "code",
   "execution_count": 8,
   "metadata": {},
   "outputs": [
    {
     "data": {
      "text/plain": [
       "{'target_gate': Instruction(name='cx', num_qubits=2, num_clbits=0, params=[]),\n",
       " 'target_register': [0, 1]}"
      ]
     },
     "execution_count": 8,
     "metadata": {},
     "output_type": "execute_result"
    }
   ],
   "source": [
    "optimizer.target_gate"
   ]
  },
  {
   "cell_type": "code",
   "execution_count": 9,
   "metadata": {},
   "outputs": [
    {
     "data": {
      "text/plain": [
       "['N_UPDATES',\n",
       " 'N_EPOCHS',\n",
       " 'MINIBATCH_SIZE',\n",
       " 'BATCHSIZE_MULTIPLIER',\n",
       " 'LR',\n",
       " 'GAMMA',\n",
       " 'GAE_LAMBDA',\n",
       " 'ENT_COEF',\n",
       " 'V_COEF',\n",
       " 'GRADIENT_CLIP',\n",
       " 'CLIP_VALUE_COEF',\n",
       " 'CLIP_RATIO',\n",
       " 'BATCHSIZE']"
      ]
     },
     "execution_count": 9,
     "metadata": {},
     "output_type": "execute_result"
    }
   ],
   "source": [
    "optimizer.hyperparams"
   ]
  },
  {
   "cell_type": "code",
   "execution_count": 10,
   "metadata": {},
   "outputs": [
    {
     "data": {
      "text/plain": [
       "2"
      ]
     },
     "execution_count": 10,
     "metadata": {},
     "output_type": "execute_result"
    }
   ],
   "source": [
    "optimizer.num_hpo_trials"
   ]
  },
  {
   "cell_type": "code",
   "execution_count": 11,
   "metadata": {},
   "outputs": [
    {
     "data": {
      "text/plain": [
       "{'best_avg_return': 0.9336041790899063,\n",
       " 'best_hyperparams': {'N_UPDATES': 68,\n",
       "  'N_EPOCHS': 18,\n",
       "  'MINIBATCH_SIZE': 128,\n",
       "  'BATCHSIZE_MULTIPLIER': 2,\n",
       "  'LR': 0.011776220348663938,\n",
       "  'GAMMA': 0.9702862813536117,\n",
       "  'GAE_LAMBDA': 0.9732695019122799,\n",
       "  'ENT_COEF': 0.0009998599680299297,\n",
       "  'V_COEF': 0.7410407169349126,\n",
       "  'GRADIENT_CLIP': 0.6777460157196542,\n",
       "  'CLIP_VALUE_COEF': 0.27699800684314385,\n",
       "  'CLIP_RATIO': 0.26819523877450924}}"
      ]
     },
     "execution_count": 11,
     "metadata": {},
     "output_type": "execute_result"
    }
   ],
   "source": [
    "optimizer.best_hpo_configuration"
   ]
  }
 ],
 "metadata": {
  "kernelspec": {
   "display_name": "Python 3",
   "language": "python",
   "name": "python3"
  },
  "language_info": {
   "codemirror_mode": {
    "name": "ipython",
    "version": 3
   },
   "file_extension": ".py",
   "mimetype": "text/x-python",
   "name": "python",
   "nbconvert_exporter": "python",
   "pygments_lexer": "ipython3",
   "version": "3.9.6"
  },
  "orig_nbformat": 4
 },
 "nbformat": 4,
 "nbformat_minor": 2
}
