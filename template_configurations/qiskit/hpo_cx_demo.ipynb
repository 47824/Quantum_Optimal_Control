{
 "cells": [
  {
   "attachments": {},
   "cell_type": "markdown",
   "metadata": {},
   "source": [
    "## CX Calibration with HPO"
   ]
  },
  {
   "attachments": {},
   "cell_type": "markdown",
   "metadata": {},
   "source": [
    "#### Imports"
   ]
  },
  {
   "cell_type": "code",
   "execution_count": 1,
   "metadata": {},
   "outputs": [
    {
     "name": "stderr",
     "output_type": "stream",
     "text": [
      "/Users/lukasvoss/Library/Python/3.9/lib/python/site-packages/qiskit_dynamics/dispatch/backends/jax.py:34: UserWarning: The functionality in the perturbation module of Qiskit Dynamics requires a JAX version <= 0.4.6, due to a bug in JAX versions > 0.4.6. For versions 0.4.4, 0.4.5, and 0.4.6, using the perturbation module functionality requires setting os.environ['JAX_JIT_PJIT_API_MERGE'] = '0' before importing JAX or Dynamics.\n",
      "  warnings.warn(\n"
     ]
    },
    {
     "name": "stdout",
     "output_type": "stream",
     "text": [
      "Starting Rabi experiment for qubit 0...\n",
      "Rabi experiment for qubit 0 done.\n",
      "Starting Drag experiment for qubit 0...\n",
      "Drag experiments done for qubit 0 done.\n",
      "Starting Rabi experiment for qubit 1...\n",
      "Rabi experiment for qubit 1 done.\n",
      "Starting Drag experiment for qubit 1...\n",
      "Drag experiments done for qubit 1 done.\n",
      "All single qubit calibrations are done\n",
      "Updated Instruction Schedule Map <InstructionScheduleMap(1Q instructions:\n",
      "  q0: {'h', 'reset', 'rz', 'x', 'id', 'measure', 'delay', 'z', 't', 'sx', 's', 'sdg', 'tdg'}\n",
      "  q1: {'h', 'reset', 'rz', 'x', 'id', 'measure', 'delay', 'z', 't', 'sx', 's', 'sdg', 'tdg'}\n",
      "Multi qubit instructions:\n",
      "  (0, 1): {'cr45p', 'ecr', 'cr45m'}\n",
      "  (1, 0): {'cr45p', 'ecr', 'cr45m'}\n",
      ")>\n"
     ]
    }
   ],
   "source": [
    "import sys\n",
    "import os\n",
    "os.environ[\"KMP_DUPLICATE_LIB_OK\"] = \"True\"\n",
    "module_path = os.path.abspath(os.path.join('/Users/lukasvoss/Documents/Master Wirtschaftsphysik/Masterarbeit Yale-NUS CQT/Quantum_Optimal_Control'))\n",
    "if module_path not in sys.path:\n",
    "    sys.path.append(module_path)\n",
    "\n",
    "from template_configurations import gate_q_env_config\n",
    "import logging\n",
    "logging.basicConfig(\n",
    "    level=logging.WARNING,\n",
    "    format=\"%(asctime)s INFO %(message)s\", # hardcoded INFO level\n",
    "    datefmt=\"%Y-%m-%d %H:%M:%S\",\n",
    "    stream=sys.stdout,\n",
    ")"
   ]
  },
  {
   "attachments": {},
   "cell_type": "markdown",
   "metadata": {},
   "source": [
    "Which gate is to be calibrated?"
   ]
  },
  {
   "cell_type": "code",
   "execution_count": 2,
   "metadata": {},
   "outputs": [
    {
     "data": {
      "text/plain": [
       "{'register': [0, 1],\n",
       " 'gate': Instruction(name='cx', num_qubits=2, num_clbits=0, params=[])}"
      ]
     },
     "execution_count": 2,
     "metadata": {},
     "output_type": "execute_result"
    }
   ],
   "source": [
    "gate_q_env_config.target"
   ]
  },
  {
   "attachments": {},
   "cell_type": "markdown",
   "metadata": {},
   "source": [
    "### Perform HPO"
   ]
  },
  {
   "cell_type": "code",
   "execution_count": 3,
   "metadata": {},
   "outputs": [],
   "source": [
    "from hyperparameter_optimization import HyperparameterOptimizer"
   ]
  },
  {
   "attachments": {},
   "cell_type": "markdown",
   "metadata": {},
   "source": [
    "Set path to the files specifying the RL agent and where to store the HPO results"
   ]
  },
  {
   "cell_type": "code",
   "execution_count": null,
   "metadata": {},
   "outputs": [],
   "source": []
  },
  {
   "cell_type": "code",
   "execution_count": 4,
   "metadata": {},
   "outputs": [],
   "source": [
    "current_dir = os.getcwd()\n",
    "\n",
    "path_agent_config = os.path.join(os.path.dirname(current_dir), 'agent_config.yaml')\n",
    "path_hpo_config = os.path.join(current_dir, 'config_yamls', 'hpo_config.yaml')\n",
    "save_results_path = 'hpo_results'"
   ]
  },
  {
   "cell_type": "code",
   "execution_count": 5,
   "metadata": {},
   "outputs": [],
   "source": [
    "from quantumenvironment import QuantumEnvironment"
   ]
  },
  {
   "cell_type": "code",
   "execution_count": 6,
   "metadata": {},
   "outputs": [
    {
     "name": "stdout",
     "output_type": "stream",
     "text": [
      "SparsePauliOp(['II', 'IY', 'XI', 'XY'],\n",
      "              coeffs=[0.25+0.j, 0.25+0.j, 0.25+0.j, 0.25+0.j])\n"
     ]
    }
   ],
   "source": [
    "q_env = QuantumEnvironment(gate_q_env_config)"
   ]
  },
  {
   "cell_type": "code",
   "execution_count": 7,
   "metadata": {},
   "outputs": [
    {
     "name": "stderr",
     "output_type": "stream",
     "text": [
      "\r 63%|██████▎   | 50/79 [00:19<00:10,  2.72it/s]"
     ]
    },
    {
     "name": "stdout",
     "output_type": "stream",
     "text": [
      "Fidelity History: []\n",
      "SparsePauliOp(['II', 'IZ', 'YI', 'YZ'],\n",
      "              coeffs=[ 0.25+0.j, -0.25+0.j, -0.25+0.j,  0.25+0.j])\n"
     ]
    },
    {
     "name": "stderr",
     "output_type": "stream",
     "text": [
      " 65%|██████▍   | 51/79 [00:20<00:10,  2.72it/s]"
     ]
    },
    {
     "name": "stdout",
     "output_type": "stream",
     "text": [
      "mean tensor([-0.0948, -0.2298, -0.0084, -0.1805, -0.3260, -0.1416,  0.2550])\n",
      "Average return: 0.08623351852344785\n",
      "DFE Rewards Mean: 0.08623351852344785\n",
      "DFE Rewards standard dev 0.06441803121150665\n",
      "Returns Mean: 0.093155846\n",
      "Returns standard dev 0.0733189\n",
      "Advantages Mean: -0.1689402\n",
      "Advantages standard dev 0.0733189\n",
      "Fidelity History: []\n",
      "SparsePauliOp(['II', 'IZ', 'ZI', 'ZZ'],\n",
      "              coeffs=[ 0.25+0.j, -0.25+0.j,  0.25+0.j, -0.25+0.j])\n"
     ]
    },
    {
     "name": "stderr",
     "output_type": "stream",
     "text": [
      " 66%|██████▌   | 52/79 [00:20<00:10,  2.67it/s]"
     ]
    },
    {
     "name": "stdout",
     "output_type": "stream",
     "text": [
      "mean tensor([-0.1023, -0.2310,  0.0065, -0.1664, -0.4040, -0.2034,  0.3123])\n",
      "Average return: 0.05800285599974268\n",
      "DFE Rewards Mean: 0.05800285599974268\n",
      "DFE Rewards standard dev 0.05554726183459821\n",
      "Returns Mean: 0.06217348\n",
      "Returns standard dev 0.06084631\n",
      "Advantages Mean: -0.04934904\n",
      "Advantages standard dev 0.06084631\n",
      "Fidelity History: []\n",
      "SparsePauliOp(['II', 'XX', 'YZ', 'ZY'],\n",
      "              coeffs=[0.25+0.j, 0.25+0.j, 0.25+0.j, 0.25+0.j])\n"
     ]
    },
    {
     "name": "stderr",
     "output_type": "stream",
     "text": [
      " 67%|██████▋   | 53/79 [00:21<00:10,  2.56it/s]"
     ]
    },
    {
     "name": "stdout",
     "output_type": "stream",
     "text": [
      "mean tensor([-0.0932, -0.2353, -0.0070, -0.2011, -0.4341, -0.2045,  0.4961])\n",
      "Average return: 0.39768813900106026\n",
      "DFE Rewards Mean: 0.39768813900106026\n",
      "DFE Rewards standard dev 0.08450706213097618\n",
      "Returns Mean: 0.51696765\n",
      "Returns standard dev 0.14221147\n",
      "Advantages Mean: 0.43783465\n",
      "Advantages standard dev 0.14221147\n",
      "Fidelity History: []\n",
      "SparsePauliOp(['II', 'IY', 'XI', 'XY'],\n",
      "              coeffs=[0.25+0.j, 0.25+0.j, 0.25+0.j, 0.25+0.j])\n"
     ]
    },
    {
     "name": "stderr",
     "output_type": "stream",
     "text": [
      " 68%|██████▊   | 54/79 [00:21<00:10,  2.50it/s]"
     ]
    },
    {
     "name": "stdout",
     "output_type": "stream",
     "text": [
      "mean tensor([-0.1019, -0.2623, -0.0251, -0.1919, -0.4718, -0.2329,  0.5001])\n",
      "Average return: 0.8375720157089879\n",
      "DFE Rewards Mean: 0.8375720157089879\n",
      "DFE Rewards standard dev 0.09061943637923894\n",
      "Returns Mean: 2.078568\n",
      "Returns standard dev 1.1664224\n",
      "Advantages Mean: 1.7465966\n",
      "Advantages standard dev 1.1664224\n",
      "Fidelity History: []\n",
      "SparsePauliOp(['II', 'IZ', 'ZI', 'ZZ'],\n",
      "              coeffs=[0.25+0.j, 0.25+0.j, 0.25+0.j, 0.25+0.j])\n"
     ]
    },
    {
     "name": "stderr",
     "output_type": "stream",
     "text": [
      " 70%|██████▉   | 55/79 [00:21<00:09,  2.55it/s]"
     ]
    },
    {
     "name": "stdout",
     "output_type": "stream",
     "text": [
      "mean tensor([-0.1087, -0.2959, -0.0427, -0.1850, -0.3649, -0.1912,  0.4816])\n",
      "Average return: 0.9373029819112022\n",
      "DFE Rewards Mean: 0.9373029819112022\n",
      "DFE Rewards standard dev 0.04988677481720689\n",
      "Returns Mean: 3.719474\n",
      "Returns standard dev 2.822083\n",
      "Advantages Mean: 2.8201447\n",
      "Advantages standard dev 2.822083\n",
      "Fidelity History: []\n",
      "SparsePauliOp(['II', 'XY', 'YZ', 'ZX'],\n",
      "              coeffs=[ 0.25+0.j,  0.25+0.j,  0.25+0.j, -0.25+0.j])\n"
     ]
    },
    {
     "name": "stderr",
     "output_type": "stream",
     "text": [
      " 71%|███████   | 56/79 [00:22<00:10,  2.14it/s]"
     ]
    },
    {
     "name": "stdout",
     "output_type": "stream",
     "text": [
      "mean tensor([-0.0828, -0.3200, -0.0443, -0.2015, -0.3851, -0.2001,  0.3792])\n",
      "Average return: 0.383624533498902\n",
      "DFE Rewards Mean: 0.383624533498902\n",
      "DFE Rewards standard dev 0.08134916160324847\n",
      "Returns Mean: 0.49282607\n",
      "Returns standard dev 0.134744\n",
      "Advantages Mean: -1.0652945\n",
      "Advantages standard dev 0.13474402\n",
      "Fidelity History: []\n",
      "SparsePauliOp(['II', 'XX', 'YY', 'ZZ'],\n",
      "              coeffs=[ 0.25+0.j,  0.25+0.j, -0.25+0.j,  0.25+0.j])\n"
     ]
    },
    {
     "name": "stderr",
     "output_type": "stream",
     "text": [
      " 72%|███████▏  | 57/79 [00:22<00:09,  2.27it/s]"
     ]
    },
    {
     "name": "stdout",
     "output_type": "stream",
     "text": [
      "mean tensor([-0.0952, -0.3272, -0.0540, -0.1939, -0.4235, -0.2319,  0.3719])\n",
      "Average return: 0.2786446024232412\n",
      "DFE Rewards Mean: 0.2786446024232412\n",
      "DFE Rewards standard dev 0.08892953424046346\n",
      "Returns Mean: 0.33430904\n",
      "Returns standard dev 0.12427524\n",
      "Advantages Mean: -0.8127969\n",
      "Advantages standard dev 0.12427524\n",
      "Fidelity History: []\n",
      "SparsePauliOp(['II', 'XX', 'YY', 'ZZ'],\n",
      "              coeffs=[ 0.25+0.j,  0.25+0.j,  0.25+0.j, -0.25+0.j])\n"
     ]
    },
    {
     "name": "stderr",
     "output_type": "stream",
     "text": [
      " 73%|███████▎  | 58/79 [00:23<00:09,  2.30it/s]"
     ]
    },
    {
     "name": "stdout",
     "output_type": "stream",
     "text": [
      "mean tensor([-0.1128, -0.3571, -0.0767, -0.1812, -0.4369, -0.2184,  0.3902])\n",
      "Average return: 0.36275845458526507\n",
      "DFE Rewards Mean: 0.36275845458526507\n",
      "DFE Rewards standard dev 0.08762648820088287\n",
      "Returns Mean: 0.46057278\n",
      "Returns standard dev 0.14363594\n",
      "Advantages Mean: -0.25637645\n",
      "Advantages standard dev 0.14363594\n",
      "Fidelity History: []\n",
      "SparsePauliOp(['II', 'IX', 'XI', 'XX'],\n",
      "              coeffs=[0.25+0.j, 0.25+0.j, 0.25+0.j, 0.25+0.j])\n"
     ]
    },
    {
     "name": "stderr",
     "output_type": "stream",
     "text": [
      " 75%|███████▍  | 59/79 [00:23<00:08,  2.45it/s]"
     ]
    },
    {
     "name": "stdout",
     "output_type": "stream",
     "text": [
      "mean tensor([-0.1202, -0.3845, -0.0896, -0.1966, -0.4516, -0.2147,  0.4194])\n",
      "Average return: 0.8502170273786185\n",
      "DFE Rewards Mean: 0.8502170273786185\n",
      "DFE Rewards standard dev 0.08513209203386292\n",
      "Returns Mean: 2.1959653\n",
      "Returns standard dev 1.3464804\n",
      "Advantages Mean: 1.7147003\n",
      "Advantages standard dev 1.3464804\n",
      "Fidelity History: []\n",
      "SparsePauliOp(['II', 'IZ', 'ZI', 'ZZ'],\n",
      "              coeffs=[ 0.25+0.j,  0.25+0.j, -0.25+0.j, -0.25+0.j])\n"
     ]
    },
    {
     "name": "stderr",
     "output_type": "stream",
     "text": [
      " 76%|███████▌  | 60/79 [00:24<00:07,  2.58it/s]"
     ]
    },
    {
     "name": "stdout",
     "output_type": "stream",
     "text": [
      "mean tensor([-0.1225, -0.3743, -0.0843, -0.2022, -0.3569, -0.1366,  0.4269])\n",
      "Average return: 0.9481998649034642\n",
      "DFE Rewards Mean: 0.9481998649034642\n",
      "DFE Rewards standard dev 0.03822152215483758\n",
      "Returns Mean: 3.8225887\n",
      "Returns standard dev 2.7135618\n",
      "Advantages Mean: 2.835403\n",
      "Advantages standard dev 2.7135618\n",
      "Fidelity History: []\n",
      "SparsePauliOp(['II', 'IY', 'XI', 'XY'],\n",
      "              coeffs=[0.25+0.j, 0.25+0.j, 0.25+0.j, 0.25+0.j])\n"
     ]
    },
    {
     "name": "stderr",
     "output_type": "stream",
     "text": [
      " 77%|███████▋  | 61/79 [00:24<00:06,  2.69it/s]"
     ]
    },
    {
     "name": "stdout",
     "output_type": "stream",
     "text": [
      "mean tensor([-0.0992, -0.3711, -0.0736, -0.2004, -0.3713, -0.1334,  0.3534])\n",
      "Average return: 0.8991278797744691\n",
      "DFE Rewards Mean: 0.8991278797744691\n",
      "DFE Rewards standard dev 0.06917235854805365\n",
      "Returns Mean: 2.846194\n",
      "Returns standard dev 2.0191085\n",
      "Advantages Mean: 1.135307\n",
      "Advantages standard dev 2.0191085\n",
      "Fidelity History: []\n",
      "SparsePauliOp(['II', 'XY', 'YX', 'ZZ'],\n",
      "              coeffs=[ 0.25+0.j,  0.25+0.j, -0.25+0.j, -0.25+0.j])\n"
     ]
    },
    {
     "name": "stderr",
     "output_type": "stream",
     "text": [
      " 78%|███████▊  | 62/79 [00:24<00:06,  2.75it/s]"
     ]
    },
    {
     "name": "stdout",
     "output_type": "stream",
     "text": [
      "mean tensor([-0.0936, -0.3609, -0.0672, -0.1889, -0.2771, -0.0329,  0.3431])\n",
      "Average return: 0.3323121401206835\n",
      "DFE Rewards Mean: 0.3323121401206835\n",
      "DFE Rewards standard dev 0.08182868836232005\n",
      "Returns Mean: 0.41157228\n",
      "Returns standard dev 0.124331795\n",
      "Advantages Mean: -1.5045376\n",
      "Advantages standard dev 0.124331795\n",
      "Fidelity History: []\n",
      "SparsePauliOp(['II', 'IZ', 'YI', 'YZ'],\n",
      "              coeffs=[ 0.25+0.j, -0.25+0.j, -0.25+0.j,  0.25+0.j])\n"
     ]
    },
    {
     "name": "stderr",
     "output_type": "stream",
     "text": [
      " 80%|███████▉  | 63/79 [00:25<00:05,  2.82it/s]"
     ]
    },
    {
     "name": "stdout",
     "output_type": "stream",
     "text": [
      "mean tensor([-0.1034, -0.3752, -0.0890, -0.2057, -0.2732, -0.0221,  0.3591])\n",
      "Average return: 0.06780351082996652\n",
      "DFE Rewards Mean: 0.06780351082996652\n",
      "DFE Rewards standard dev 0.05100600211111313\n",
      "Returns Mean: 0.07239615\n",
      "Returns standard dev 0.0553662\n",
      "Advantages Mean: -1.4746977\n",
      "Advantages standard dev 0.0553662\n",
      "Fidelity History: []\n",
      "SparsePauliOp(['II', 'IZ', 'ZI', 'ZZ'],\n",
      "              coeffs=[ 0.25+0.j,  0.25+0.j, -0.25+0.j, -0.25+0.j])\n"
     ]
    },
    {
     "name": "stderr",
     "output_type": "stream",
     "text": [
      " 81%|████████  | 64/79 [00:25<00:05,  2.87it/s]"
     ]
    },
    {
     "name": "stdout",
     "output_type": "stream",
     "text": [
      "mean tensor([-0.1001, -0.3758, -0.0832, -0.1973, -0.3077, -0.0580,  0.4001])\n",
      "Average return: 0.9513583294321574\n",
      "DFE Rewards Mean: 0.9513583294321574\n",
      "DFE Rewards standard dev 0.03911905538117926\n",
      "Returns Mean: 3.8985333\n",
      "Returns standard dev 2.6622965\n",
      "Advantages Mean: 2.7577007\n",
      "Advantages standard dev 2.6622965\n",
      "Fidelity History: []\n",
      "SparsePauliOp(['II', 'IZ', 'ZI', 'ZZ'],\n",
      "              coeffs=[0.25+0.j, 0.25+0.j, 0.25+0.j, 0.25+0.j])\n"
     ]
    },
    {
     "name": "stderr",
     "output_type": "stream",
     "text": [
      " 82%|████████▏ | 65/79 [00:25<00:04,  2.91it/s]"
     ]
    },
    {
     "name": "stdout",
     "output_type": "stream",
     "text": [
      "mean tensor([-0.1023, -0.3862, -0.0696, -0.2079, -0.3198, -0.0620,  0.3351])\n",
      "Average return: 0.9633532783766174\n",
      "DFE Rewards Mean: 0.9633532783766174\n",
      "DFE Rewards standard dev 0.0332503944582041\n",
      "Returns Mean: 4.487298\n",
      "Returns standard dev 3.1376514\n",
      "Advantages Mean: 2.9516978\n",
      "Advantages standard dev 3.1376514\n",
      "Fidelity History: []\n",
      "SparsePauliOp(['II', 'IZ', 'ZI', 'ZZ'],\n",
      "              coeffs=[ 0.25+0.j,  0.25+0.j, -0.25+0.j, -0.25+0.j])\n"
     ]
    },
    {
     "name": "stderr",
     "output_type": "stream",
     "text": [
      " 84%|████████▎ | 66/79 [00:26<00:04,  2.62it/s]"
     ]
    },
    {
     "name": "stdout",
     "output_type": "stream",
     "text": [
      "mean tensor([-0.0984, -0.3893, -0.0513, -0.2066, -0.3290, -0.0517,  0.2814])\n",
      "Average return: 0.9693386881139988\n",
      "DFE Rewards Mean: 0.9693386881139988\n",
      "DFE Rewards standard dev 0.027018721018084776\n",
      "Returns Mean: 4.5735273\n",
      "Returns standard dev 2.9614894\n",
      "Advantages Mean: 2.6136625\n",
      "Advantages standard dev 2.9614894\n",
      "Fidelity History: []\n",
      "SparsePauliOp(['II', 'XY', 'YX', 'ZZ'],\n",
      "              coeffs=[ 0.25+0.j,  0.25+0.j, -0.25+0.j, -0.25+0.j])\n"
     ]
    },
    {
     "name": "stderr",
     "output_type": "stream",
     "text": [
      " 85%|████████▍ | 67/79 [00:26<00:04,  2.66it/s]"
     ]
    },
    {
     "name": "stdout",
     "output_type": "stream",
     "text": [
      "mean tensor([-0.0942, -0.3883, -0.0595, -0.1893, -0.3425, -0.0463,  0.2510])\n",
      "Average return: 0.32811343383704816\n",
      "DFE Rewards Mean: 0.32811343383704816\n",
      "DFE Rewards standard dev 0.0815351018098454\n",
      "Returns Mean: 0.40519157\n",
      "Returns standard dev 0.12359081\n",
      "Advantages Mean: -1.9468321\n",
      "Advantages standard dev 0.123590805\n",
      "Fidelity History: []\n",
      "SparsePauliOp(['II', 'IY', 'XI', 'XY'],\n",
      "              coeffs=[0.25+0.j, 0.25+0.j, 0.25+0.j, 0.25+0.j])\n"
     ]
    },
    {
     "name": "stderr",
     "output_type": "stream",
     "text": [
      " 86%|████████▌ | 68/79 [00:26<00:04,  2.72it/s]"
     ]
    },
    {
     "name": "stdout",
     "output_type": "stream",
     "text": [
      "mean tensor([-0.0938, -0.3986, -0.0704, -0.1981, -0.3485, -0.0413,  0.2574])\n",
      "Average return: 0.9161925709025474\n",
      "DFE Rewards Mean: 0.9161925709025474\n",
      "DFE Rewards standard dev 0.06512675330417438\n",
      "Returns Mean: 3.2025483\n",
      "Returns standard dev 2.3372078\n",
      "Advantages Mean: 1.2742395\n",
      "Advantages standard dev 2.3372078\n",
      "Fidelity History: []\n",
      "SparsePauliOp(['II', 'IZ', 'ZI', 'ZZ'],\n",
      "              coeffs=[ 0.25+0.j, -0.25+0.j, -0.25+0.j,  0.25+0.j])\n"
     ]
    },
    {
     "name": "stderr",
     "output_type": "stream",
     "text": [
      " 87%|████████▋ | 69/79 [00:27<00:03,  2.71it/s]"
     ]
    },
    {
     "name": "stdout",
     "output_type": "stream",
     "text": [
      "mean tensor([-0.0968, -0.3818, -0.0593, -0.1870, -0.2576,  0.0022,  0.2744])\n",
      "Average return: 0.04024898729995725\n",
      "DFE Rewards Mean: 0.04024898729995725\n",
      "DFE Rewards standard dev 0.035792405382589466\n",
      "Returns Mean: 0.042865146\n",
      "Returns standard dev 0.036478106\n",
      "Advantages Mean: -2.145287\n",
      "Advantages standard dev 0.036478102\n",
      "Fidelity History: []\n",
      "SparsePauliOp(['II', 'IZ', 'ZI', 'ZZ'],\n",
      "              coeffs=[ 0.25+0.j,  0.25+0.j, -0.25+0.j, -0.25+0.j])\n"
     ]
    },
    {
     "name": "stderr",
     "output_type": "stream",
     "text": [
      " 89%|████████▊ | 70/79 [00:27<00:03,  2.72it/s]"
     ]
    },
    {
     "name": "stdout",
     "output_type": "stream",
     "text": [
      "mean tensor([-0.0933, -0.3790, -0.0632, -0.2099, -0.2722,  0.0049,  0.3229])\n",
      "Average return: 0.9650047768819799\n",
      "DFE Rewards Mean: 0.9650047768819799\n",
      "DFE Rewards standard dev 0.030598658332066504\n",
      "Returns Mean: 4.5760055\n",
      "Returns standard dev 3.2238252\n",
      "Advantages Mean: 2.8140578\n",
      "Advantages standard dev 3.2238252\n",
      "Fidelity History: []\n",
      "SparsePauliOp(['II', 'IZ', 'YI', 'YZ'],\n",
      "              coeffs=[ 0.25+0.j, -0.25+0.j, -0.25+0.j,  0.25+0.j])\n"
     ]
    },
    {
     "name": "stderr",
     "output_type": "stream",
     "text": [
      " 90%|████████▉ | 71/79 [00:27<00:02,  2.68it/s]"
     ]
    },
    {
     "name": "stdout",
     "output_type": "stream",
     "text": [
      "mean tensor([-0.0898, -0.3966, -0.0852, -0.1836, -0.2865,  0.0143,  0.2763])\n",
      "Average return: 0.05363451491880631\n",
      "DFE Rewards Mean: 0.05363451491880631\n",
      "DFE Rewards standard dev 0.04933265930247869\n",
      "Returns Mean: 0.0575333\n",
      "Returns standard dev 0.05318302\n",
      "Advantages Mean: -2.1353564\n",
      "Advantages standard dev 0.05318302\n",
      "Fidelity History: []\n",
      "SparsePauliOp(['II', 'IZ', 'ZI', 'ZZ'],\n",
      "              coeffs=[ 0.25+0.j,  0.25+0.j, -0.25+0.j, -0.25+0.j])\n"
     ]
    },
    {
     "name": "stderr",
     "output_type": "stream",
     "text": [
      " 91%|█████████ | 72/79 [00:28<00:02,  2.35it/s]"
     ]
    },
    {
     "name": "stdout",
     "output_type": "stream",
     "text": [
      "mean tensor([-0.0920, -0.4105, -0.0777, -0.1872, -0.3422, -0.0341,  0.3128])\n",
      "Average return: 0.9686519548987041\n",
      "DFE Rewards Mean: 0.9686519548987041\n",
      "DFE Rewards standard dev 0.02881826190492043\n",
      "Returns Mean: 4.6925855\n",
      "Returns standard dev 3.1818798\n",
      "Advantages Mean: 2.887838\n",
      "Advantages standard dev 3.1818798\n",
      "Fidelity History: []\n",
      "SparsePauliOp(['II', 'XX', 'YZ', 'ZY'],\n",
      "              coeffs=[0.25+0.j, 0.25+0.j, 0.25+0.j, 0.25+0.j])\n"
     ]
    },
    {
     "name": "stderr",
     "output_type": "stream",
     "text": [
      " 92%|█████████▏| 73/79 [00:28<00:02,  2.39it/s]"
     ]
    },
    {
     "name": "stdout",
     "output_type": "stream",
     "text": [
      "mean tensor([-0.0806, -0.4188, -0.0785, -0.1833, -0.3500, -0.0473,  0.2702])\n",
      "Average return: 0.37664885672370224\n",
      "DFE Rewards Mean: 0.37664885672370224\n",
      "DFE Rewards standard dev 0.09132868379310649\n",
      "Returns Mean: 0.48360616\n",
      "Returns standard dev 0.14928524\n",
      "Advantages Mean: -1.6886717\n",
      "Advantages standard dev 0.14928523\n",
      "Fidelity History: []\n",
      "SparsePauliOp(['II', 'XX', 'YZ', 'ZY'],\n",
      "              coeffs=[0.25+0.j, 0.25+0.j, 0.25+0.j, 0.25+0.j])\n"
     ]
    },
    {
     "name": "stderr",
     "output_type": "stream",
     "text": [
      " 94%|█████████▎| 74/79 [00:29<00:02,  2.46it/s]"
     ]
    },
    {
     "name": "stdout",
     "output_type": "stream",
     "text": [
      "mean tensor([-0.0908, -0.4171, -0.0903, -0.1810, -0.3972, -0.0887,  0.2828])\n",
      "Average return: 0.38514264770160195\n",
      "DFE Rewards Mean: 0.38514264770160195\n",
      "DFE Rewards standard dev 0.08315909293574324\n",
      "Returns Mean: 0.49564862\n",
      "Returns standard dev 0.13706267\n",
      "Advantages Mean: -1.2036583\n",
      "Advantages standard dev 0.13706267\n",
      "Fidelity History: []\n",
      "SparsePauliOp(['II', 'XY', 'YX', 'ZZ'],\n",
      "              coeffs=[0.25+0.j, 0.25+0.j, 0.25+0.j, 0.25+0.j])\n"
     ]
    },
    {
     "name": "stderr",
     "output_type": "stream",
     "text": [
      " 95%|█████████▍| 75/79 [00:29<00:01,  2.51it/s]"
     ]
    },
    {
     "name": "stdout",
     "output_type": "stream",
     "text": [
      "mean tensor([-0.0904, -0.4033, -0.0808, -0.1848, -0.4504, -0.1336,  0.2790])\n",
      "Average return: 0.26318830258799336\n",
      "DFE Rewards Mean: 0.26318830258799336\n",
      "DFE Rewards standard dev 0.08143673819191638\n",
      "Returns Mean: 0.31171352\n",
      "Returns standard dev 0.11325153\n",
      "Advantages Mean: -0.7978136\n",
      "Advantages standard dev 0.11325153\n",
      "Fidelity History: []\n",
      "SparsePauliOp(['II', 'IZ', 'XI', 'XZ'],\n",
      "              coeffs=[ 0.25+0.j, -0.25+0.j,  0.25+0.j, -0.25+0.j])\n"
     ]
    },
    {
     "name": "stderr",
     "output_type": "stream",
     "text": [
      " 96%|█████████▌| 76/79 [00:30<00:01,  2.54it/s]"
     ]
    },
    {
     "name": "stdout",
     "output_type": "stream",
     "text": [
      "mean tensor([-0.0856, -0.4090, -0.0937, -0.1718, -0.4654, -0.1129,  0.2895])\n",
      "Average return: 0.8926596021963629\n",
      "DFE Rewards Mean: 0.8926596021963629\n",
      "DFE Rewards standard dev 0.08537340558702876\n",
      "Returns Mean: 2.8512533\n",
      "Returns standard dev 2.011879\n",
      "Advantages Mean: 2.1793783\n",
      "Advantages standard dev 2.011879\n",
      "Fidelity History: []\n",
      "SparsePauliOp(['II', 'IZ', 'YI', 'YZ'],\n",
      "              coeffs=[0.25+0.j, 0.25+0.j, 0.25+0.j, 0.25+0.j])\n"
     ]
    },
    {
     "name": "stderr",
     "output_type": "stream",
     "text": [
      " 97%|█████████▋| 77/79 [00:30<00:00,  2.04it/s]"
     ]
    },
    {
     "name": "stdout",
     "output_type": "stream",
     "text": [
      "mean tensor([-0.0850, -0.4098, -0.1024, -0.1654, -0.3769, -0.0059,  0.2836])\n",
      "Average return: 0.9262095083381088\n",
      "DFE Rewards Mean: 0.9262095083381088\n",
      "DFE Rewards standard dev 0.06350473503962621\n",
      "Returns Mean: 3.5300941\n",
      "Returns standard dev 2.6830754\n",
      "Advantages Mean: 2.5256863\n",
      "Advantages standard dev 2.6830752\n",
      "Fidelity History: []\n",
      "SparsePauliOp(['II', 'XX', 'YY', 'ZZ'],\n",
      "              coeffs=[ 0.25+0.j,  0.25+0.j, -0.25+0.j,  0.25+0.j])\n"
     ]
    },
    {
     "name": "stderr",
     "output_type": "stream",
     "text": [
      " 99%|█████████▊| 78/79 [00:31<00:00,  2.17it/s]"
     ]
    },
    {
     "name": "stdout",
     "output_type": "stream",
     "text": [
      "mean tensor([-0.0802, -0.4180, -0.0972, -0.1407, -0.2925,  0.0854,  0.2452])\n",
      "Average return: 0.27666450999104225\n",
      "DFE Rewards Mean: 0.27666450999104225\n",
      "DFE Rewards standard dev 0.08494051378056168\n",
      "Returns Mean: 0.33096328\n",
      "Returns standard dev 0.12002354\n",
      "Advantages Mean: -1.0688443\n",
      "Advantages standard dev 0.12002354\n",
      "Fidelity History: []\n",
      "SparsePauliOp(['II', 'IX', 'XI', 'XX'],\n",
      "              coeffs=[0.25+0.j, 0.25+0.j, 0.25+0.j, 0.25+0.j])\n"
     ]
    },
    {
     "name": "stderr",
     "output_type": "stream",
     "text": [
      "100%|██████████| 79/79 [00:31<00:00,  2.50it/s]\n",
      "[I 2024-01-25 15:25:12,002] Trial 1 finished with value: 0.37664885672370224 and parameters: {'N_UPDATES': 79, 'N_EPOCHS': 25, 'MINIBATCH_SIZE': 128, 'BATCHSIZE_MULTIPLIER': 10, 'LR': 0.014944055379446496, 'GAMMA': 0.9545702557404366, 'GAE_LAMBDA': 0.9097758555679725, 'ENT_COEF': 0.0003943546155431256, 'V_COEF': 0.4888562367663966, 'GRADIENT_CLIP': 0.5562320347644294, 'CLIP_VALUE_COEF': 0.21746508094432535, 'CLIP_RATIO': 0.2588943918914861}. Best is trial 0 with value: 0.8380874939958372.\n"
     ]
    },
    {
     "name": "stdout",
     "output_type": "stream",
     "text": [
      "mean tensor([-0.0749, -0.4392, -0.1310, -0.1119, -0.3032,  0.0781,  0.2573])\n",
      "Average return: 0.9305399790039847\n",
      "DFE Rewards Mean: 0.9305399790039847\n",
      "DFE Rewards standard dev 0.05927282071532869\n",
      "Returns Mean: 3.6229293\n",
      "Returns standard dev 2.7375402\n",
      "Advantages Mean: 2.6236868\n",
      "Advantages standard dev 2.7375402\n",
      "Fidelity History: []\n",
      "2024-01-25 15:25:12 INFO ---------------- FINISHED HPO ----------------\n",
      "2024-01-25 15:25:12 INFO HPO completed in 39.71 seconds.\n",
      "2024-01-25 15:25:12 INFO Best trial:\n",
      "2024-01-25 15:25:12 INFO -------------------------\n",
      "2024-01-25 15:25:12 INFO   Value: 0.8380874939958372\n",
      "2024-01-25 15:25:12 INFO   Parameters: \n",
      "2024-01-25 15:25:12 INFO     N_UPDATES: 59\n",
      "2024-01-25 15:25:12 INFO     N_EPOCHS: 19\n",
      "2024-01-25 15:25:12 INFO     MINIBATCH_SIZE: 10\n",
      "2024-01-25 15:25:12 INFO     BATCHSIZE_MULTIPLIER: 8\n",
      "2024-01-25 15:25:12 INFO     LR: 0.00025200736268065753\n",
      "2024-01-25 15:25:12 INFO     GAMMA: 0.9598486994011194\n",
      "2024-01-25 15:25:12 INFO     GAE_LAMBDA: 0.9023413983152173\n",
      "2024-01-25 15:25:12 INFO     ENT_COEF: 0.00013578916457065266\n",
      "2024-01-25 15:25:12 INFO     V_COEF: 0.5303366609068325\n",
      "2024-01-25 15:25:12 INFO     GRADIENT_CLIP: 0.5585457404521005\n",
      "2024-01-25 15:25:12 INFO     CLIP_VALUE_COEF: 0.17844644710924704\n",
      "2024-01-25 15:25:12 INFO     CLIP_RATIO: 0.1180042374151018\n",
      "2024-01-25 15:25:12 INFO The best action vector is [ 0.00537489  0.38388115 -0.04335242  0.06371172 -0.15237097  0.02442097\n",
      " -0.6132666 ]\n",
      "2024-01-25 15:25:12 INFO Best configuration saved to hpo_results/reward_0.838087.pickle\n"
     ]
    }
   ],
   "source": [
    "optimizer = HyperparameterOptimizer(q_env=q_env,\n",
    "                                    path_agent_config=path_agent_config,\n",
    "                                    path_hpo_config=path_hpo_config, \n",
    "                                    save_results_path=save_results_path, \n",
    "                                    log_progress=True,\n",
    "                                    num_hpo_trials=2)\n",
    "optimizer.optimize_hyperparameters()"
   ]
  },
  {
   "attachments": {},
   "cell_type": "markdown",
   "metadata": {},
   "source": [
    "#### Quick Summary of HPO Task"
   ]
  },
  {
   "cell_type": "code",
   "execution_count": 8,
   "metadata": {},
   "outputs": [
    {
     "data": {
      "text/plain": [
       "{'target_gate': Instruction(name='cx', num_qubits=2, num_clbits=0, params=[]),\n",
       " 'target_register': [0, 1]}"
      ]
     },
     "execution_count": 8,
     "metadata": {},
     "output_type": "execute_result"
    }
   ],
   "source": [
    "optimizer.target_gate"
   ]
  },
  {
   "cell_type": "code",
   "execution_count": 9,
   "metadata": {},
   "outputs": [
    {
     "data": {
      "text/plain": [
       "['N_UPDATES',\n",
       " 'N_EPOCHS',\n",
       " 'MINIBATCH_SIZE',\n",
       " 'BATCHSIZE_MULTIPLIER',\n",
       " 'LR',\n",
       " 'GAMMA',\n",
       " 'GAE_LAMBDA',\n",
       " 'ENT_COEF',\n",
       " 'V_COEF',\n",
       " 'GRADIENT_CLIP',\n",
       " 'CLIP_VALUE_COEF',\n",
       " 'CLIP_RATIO',\n",
       " 'BATCHSIZE']"
      ]
     },
     "execution_count": 9,
     "metadata": {},
     "output_type": "execute_result"
    }
   ],
   "source": [
    "optimizer.hyperparams"
   ]
  },
  {
   "cell_type": "code",
   "execution_count": 10,
   "metadata": {},
   "outputs": [
    {
     "data": {
      "text/plain": [
       "2"
      ]
     },
     "execution_count": 10,
     "metadata": {},
     "output_type": "execute_result"
    }
   ],
   "source": [
    "optimizer.num_hpo_trials"
   ]
  },
  {
   "cell_type": "code",
   "execution_count": 11,
   "metadata": {},
   "outputs": [
    {
     "data": {
      "text/plain": [
       "{'best_avg_reward': 0.8380874939958372,\n",
       " 'best_hyperparams': {'N_UPDATES': 59,\n",
       "  'N_EPOCHS': 19,\n",
       "  'MINIBATCH_SIZE': 10,\n",
       "  'BATCHSIZE_MULTIPLIER': 8,\n",
       "  'LR': 0.00025200736268065753,\n",
       "  'GAMMA': 0.9598486994011194,\n",
       "  'GAE_LAMBDA': 0.9023413983152173,\n",
       "  'ENT_COEF': 0.00013578916457065266,\n",
       "  'V_COEF': 0.5303366609068325,\n",
       "  'GRADIENT_CLIP': 0.5585457404521005,\n",
       "  'CLIP_VALUE_COEF': 0.17844644710924704,\n",
       "  'CLIP_RATIO': 0.1180042374151018}}"
      ]
     },
     "execution_count": 11,
     "metadata": {},
     "output_type": "execute_result"
    }
   ],
   "source": [
    "optimizer.best_hpo_configuration"
   ]
  }
 ],
 "metadata": {
  "kernelspec": {
   "display_name": "Python 3",
   "language": "python",
   "name": "python3"
  },
  "language_info": {
   "codemirror_mode": {
    "name": "ipython",
    "version": 3
   },
   "file_extension": ".py",
   "mimetype": "text/x-python",
   "name": "python",
   "nbconvert_exporter": "python",
   "pygments_lexer": "ipython3",
   "version": "3.9.6"
  },
  "orig_nbformat": 4
 },
 "nbformat": 4,
 "nbformat_minor": 2
}
