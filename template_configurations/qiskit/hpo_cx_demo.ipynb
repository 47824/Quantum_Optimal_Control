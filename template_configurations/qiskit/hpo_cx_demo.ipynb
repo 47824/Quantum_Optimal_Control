{
 "cells": [
  {
   "attachments": {},
   "cell_type": "markdown",
   "metadata": {},
   "source": [
    "## CX Calibration with HPO"
   ]
  },
  {
   "attachments": {},
   "cell_type": "markdown",
   "metadata": {},
   "source": [
    "#### Imports"
   ]
  },
  {
   "cell_type": "code",
   "execution_count": 1,
   "metadata": {},
   "outputs": [
    {
     "name": "stderr",
     "output_type": "stream",
     "text": [
      "/Users/lukasvoss/Library/Python/3.9/lib/python/site-packages/qiskit_dynamics/dispatch/backends/jax.py:34: UserWarning: The functionality in the perturbation module of Qiskit Dynamics requires a JAX version <= 0.4.6, due to a bug in JAX versions > 0.4.6. For versions 0.4.4, 0.4.5, and 0.4.6, using the perturbation module functionality requires setting os.environ['JAX_JIT_PJIT_API_MERGE'] = '0' before importing JAX or Dynamics.\n",
      "  warnings.warn(\n"
     ]
    },
    {
     "name": "stdout",
     "output_type": "stream",
     "text": [
      "Starting Rabi experiment for qubit 0...\n",
      "Rabi experiment for qubit 0 done.\n",
      "Starting Drag experiment for qubit 0...\n",
      "Drag experiments done for qubit 0 done.\n",
      "Starting Rabi experiment for qubit 1...\n",
      "Rabi experiment for qubit 1 done.\n",
      "Starting Drag experiment for qubit 1...\n",
      "Drag experiments done for qubit 1 done.\n",
      "All single qubit calibrations are done\n",
      "Updated Instruction Schedule Map <InstructionScheduleMap(1Q instructions:\n",
      "  q0: {'h', 'sdg', 'measure', 'z', 't', 'sx', 'tdg', 'x', 'delay', 'id', 'rz', 'reset', 's'}\n",
      "  q1: {'h', 'sdg', 'measure', 'z', 't', 'sx', 'tdg', 'x', 'delay', 'id', 'rz', 'reset', 's'}\n",
      "Multi qubit instructions:\n",
      "  (0, 1): {'ecr', 'cr45p', 'cr45m'}\n",
      "  (1, 0): {'ecr', 'cr45p', 'cr45m'}\n",
      ")>\n"
     ]
    }
   ],
   "source": [
    "import sys\n",
    "import os\n",
    "os.environ[\"KMP_DUPLICATE_LIB_OK\"] = \"True\"\n",
    "module_path = os.path.abspath(os.path.join('/Users/lukasvoss/Documents/Master Wirtschaftsphysik/Masterarbeit Yale-NUS CQT/Quantum_Optimal_Control'))\n",
    "if module_path not in sys.path:\n",
    "    sys.path.append(module_path)\n",
    "\n",
    "from template_configurations import gate_q_env_config\n",
    "import logging\n",
    "logging.basicConfig(\n",
    "    level=logging.WARNING,\n",
    "    format=\"%(asctime)s INFO %(message)s\", # hardcoded INFO level\n",
    "    datefmt=\"%Y-%m-%d %H:%M:%S\",\n",
    "    stream=sys.stdout,\n",
    ")"
   ]
  },
  {
   "attachments": {},
   "cell_type": "markdown",
   "metadata": {},
   "source": [
    "Which gate is to be calibrated?"
   ]
  },
  {
   "cell_type": "code",
   "execution_count": 2,
   "metadata": {},
   "outputs": [
    {
     "data": {
      "text/plain": [
       "{'register': [0, 1],\n",
       " 'training_with_cal': True,\n",
       " 'gate': Instruction(name='cx', num_qubits=2, num_clbits=0, params=[])}"
      ]
     },
     "execution_count": 2,
     "metadata": {},
     "output_type": "execute_result"
    }
   ],
   "source": [
    "gate_q_env_config.target"
   ]
  },
  {
   "attachments": {},
   "cell_type": "markdown",
   "metadata": {},
   "source": [
    "### Perform HPO"
   ]
  },
  {
   "cell_type": "code",
   "execution_count": 3,
   "metadata": {},
   "outputs": [],
   "source": [
    "from hyperparameter_optimization import HyperparameterOptimizer"
   ]
  },
  {
   "attachments": {},
   "cell_type": "markdown",
   "metadata": {},
   "source": [
    "Set path to the files specifying the RL agent and where to store the HPO results|"
   ]
  },
  {
   "cell_type": "code",
   "execution_count": 4,
   "metadata": {},
   "outputs": [],
   "source": [
    "path_agent_config = '/Users/lukasvoss/Documents/Master Wirtschaftsphysik/Masterarbeit Yale-NUS CQT/Quantum_Optimal_Control/template_configurations/agent_config.yaml'\n",
    "save_results_path = 'hpo_results'"
   ]
  },
  {
   "cell_type": "code",
   "execution_count": 5,
   "metadata": {},
   "outputs": [
    {
     "name": "stdout",
     "output_type": "stream",
     "text": [
      "SparsePauliOp(['II', 'IZ', 'YI', 'YZ'],\n",
      "              coeffs=[0.25+0.j, 0.25+0.j, 0.25+0.j, 0.25+0.j])\n",
      "2023-12-28 13:22:03 INFO num_HPO_trials: 1\n",
      "2023-12-28 13:22:03 INFO ---------------- STARTING HPO ----------------\n"
     ]
    },
    {
     "name": "stderr",
     "output_type": "stream",
     "text": [
      "[I 2023-12-28 13:22:03,333] A new study created in memory with name: no-name-6b95916e-d0a1-49b5-94e3-9ef5455e12b3\n"
     ]
    },
    {
     "name": "stdout",
     "output_type": "stream",
     "text": [
      "SparsePauliOp(['II', 'IY', 'XI', 'XY'],\n",
      "              coeffs=[0.25+0.j, 0.25+0.j, 0.25+0.j, 0.25+0.j])\n"
     ]
    },
    {
     "name": "stderr",
     "output_type": "stream",
     "text": [
      "  0%|          | 0/43 [00:00<?, ?it/s]"
     ]
    },
    {
     "name": "stdout",
     "output_type": "stream",
     "text": [
      "SparsePauliOp(['II', 'IZ', 'ZI', 'ZZ'],\n",
      "              coeffs=[ 0.25+0.j, -0.25+0.j, -0.25+0.j,  0.25+0.j])\n"
     ]
    },
    {
     "name": "stderr",
     "output_type": "stream",
     "text": [
      "  2%|▏         | 1/43 [00:00<00:08,  4.67it/s]"
     ]
    },
    {
     "name": "stdout",
     "output_type": "stream",
     "text": [
      "mean tensor([0.0733, 0.1214, 0.0364, 0.0350, 0.0348, 0.1169, 0.0748])\n",
      "Average return: 0.7932033859813018\n",
      "DFE Rewards Mean: 0.7932033859813018\n",
      "DFE Rewards standard dev 0.1450912307292657\n",
      "Returns Mean: 1.9965386\n",
      "Returns standard dev 1.4928375\n",
      "Advantages Mean: 2.0438228\n",
      "Advantages standard dev 1.4928375\n",
      "Fidelity History: []\n"
     ]
    },
    {
     "name": "stderr",
     "output_type": "stream",
     "text": [
      "  5%|▍         | 2/43 [00:00<00:07,  5.17it/s]"
     ]
    },
    {
     "name": "stdout",
     "output_type": "stream",
     "text": [
      "SparsePauliOp(['II', 'IZ', 'ZI', 'ZZ'],\n",
      "              coeffs=[0.25+0.j, 0.25+0.j, 0.25+0.j, 0.25+0.j])\n",
      "mean tensor([0.0180, 0.1173, 0.0088, 0.0409, 0.0214, 0.1171, 0.0629])\n",
      "Average return: 0.8325556937255028\n",
      "DFE Rewards Mean: 0.8325556937255028\n",
      "DFE Rewards standard dev 0.13807577771559\n",
      "Returns Mean: 2.4175286\n",
      "Returns standard dev 2.0306807\n",
      "Advantages Mean: 2.198555\n",
      "Advantages standard dev 2.0306807\n",
      "Fidelity History: []\n",
      "SparsePauliOp(['II', 'XX', 'YY', 'ZZ'],\n",
      "              coeffs=[ 0.25+0.j,  0.25+0.j,  0.25+0.j, -0.25+0.j])\n"
     ]
    },
    {
     "name": "stderr",
     "output_type": "stream",
     "text": [
      "  9%|▉         | 4/43 [00:00<00:07,  5.30it/s]"
     ]
    },
    {
     "name": "stdout",
     "output_type": "stream",
     "text": [
      "mean tensor([ 0.0083,  0.1592,  0.0260, -0.0219,  0.0455,  0.1245, -0.0086])\n",
      "Average return: 0.8432917758180216\n",
      "DFE Rewards Mean: 0.8432917758180216\n",
      "DFE Rewards standard dev 0.12762134878328055\n",
      "Returns Mean: 2.4277823\n",
      "Returns standard dev 1.9341273\n",
      "Advantages Mean: 1.0211478\n",
      "Advantages standard dev 1.9341273\n",
      "Fidelity History: []\n",
      "SparsePauliOp(['II', 'XY', 'YX', 'ZZ'],\n",
      "              coeffs=[ 0.25+0.j,  0.25+0.j, -0.25+0.j, -0.25+0.j])\n",
      "mean tensor([ 0.0109,  0.1448, -0.0533, -0.0400,  0.0337,  0.0959, -0.0284])\n",
      "Average return: 0.887038565686135\n",
      "DFE Rewards Mean: 0.887038565686135\n",
      "DFE Rewards standard dev 0.1024481068849365\n",
      "Returns Mean: 2.869763\n",
      "Returns standard dev 2.13862\n",
      "Advantages Mean: 0.82926047\n",
      "Advantages standard dev 2.13862\n",
      "Fidelity History: []\n",
      "SparsePauliOp(['II', 'XY', 'YZ', 'ZX'],\n",
      "              coeffs=[ 0.25+0.j,  0.25+0.j,  0.25+0.j, -0.25+0.j])\n"
     ]
    },
    {
     "name": "stderr",
     "output_type": "stream",
     "text": [
      " 14%|█▍        | 6/43 [00:01<00:06,  5.37it/s]"
     ]
    },
    {
     "name": "stdout",
     "output_type": "stream",
     "text": [
      "mean tensor([ 0.0267,  0.0613, -0.0577, -0.0391,  0.0167,  0.0574, -0.0170])\n",
      "Average return: 0.8882999207008024\n",
      "DFE Rewards Mean: 0.8882999207008024\n",
      "DFE Rewards standard dev 0.08758455118466299\n",
      "Returns Mean: 2.8406634\n",
      "Returns standard dev 2.1328888\n",
      "Advantages Mean: 0.34687048\n",
      "Advantages standard dev 2.1328888\n",
      "Fidelity History: []\n",
      "SparsePauliOp(['II', 'XX', 'YY', 'ZZ'],\n",
      "              coeffs=[ 0.25+0.j,  0.25+0.j, -0.25+0.j,  0.25+0.j])\n",
      "mean tensor([ 0.0127,  0.0653, -0.0520,  0.0065,  0.0555,  0.0597, -0.0093])\n",
      "Average return: 0.9207596624755595\n",
      "DFE Rewards Mean: 0.9207596624755595\n",
      "DFE Rewards standard dev 0.07368413173294013\n",
      "Returns Mean: 3.5507493\n",
      "Returns standard dev 2.8153455\n",
      "Advantages Mean: 1.5577595\n",
      "Advantages standard dev 2.8153458\n",
      "Fidelity History: []\n",
      "SparsePauliOp(['II', 'IZ', 'ZI', 'ZZ'],\n",
      "              coeffs=[0.25+0.j, 0.25+0.j, 0.25+0.j, 0.25+0.j])\n"
     ]
    },
    {
     "name": "stderr",
     "output_type": "stream",
     "text": [
      " 19%|█▊        | 8/43 [00:01<00:06,  5.41it/s]"
     ]
    },
    {
     "name": "stdout",
     "output_type": "stream",
     "text": [
      "mean tensor([-2.7020e-05,  9.9462e-02, -7.2678e-02,  2.9703e-02,  5.4768e-02,\n",
      "         1.1600e-01,  1.0808e-02])\n",
      "Average return: 0.9039426390323783\n",
      "DFE Rewards Mean: 0.9039426390323783\n",
      "DFE Rewards standard dev 0.08709212022367603\n",
      "Returns Mean: 3.2858968\n",
      "Returns standard dev 2.6098614\n",
      "Advantages Mean: 2.084497\n",
      "Advantages standard dev 2.6098614\n",
      "Fidelity History: []\n",
      "SparsePauliOp(['II', 'IZ', 'ZI', 'ZZ'],\n",
      "              coeffs=[ 0.25+0.j, -0.25+0.j,  0.25+0.j, -0.25+0.j])\n",
      "mean tensor([ 0.0165,  0.0921, -0.0630, -0.0024,  0.0286,  0.1218, -0.0355])\n",
      "Average return: 0.9623034108148922\n",
      "DFE Rewards Mean: 0.9623034108148922\n",
      "DFE Rewards standard dev 0.04376280809208593\n",
      "Returns Mean: 5.029927\n",
      "Returns standard dev 3.6862307\n",
      "Advantages Mean: 2.8444586\n",
      "Advantages standard dev 3.6862304\n",
      "Fidelity History: []\n",
      "SparsePauliOp(['II', 'XY', 'YX', 'ZZ'],\n",
      "              coeffs=[ 0.25+0.j,  0.25+0.j, -0.25+0.j, -0.25+0.j])\n"
     ]
    },
    {
     "name": "stderr",
     "output_type": "stream",
     "text": [
      " 23%|██▎       | 10/43 [00:01<00:06,  5.43it/s]"
     ]
    },
    {
     "name": "stdout",
     "output_type": "stream",
     "text": [
      "mean tensor([ 0.0195,  0.0942, -0.0365, -0.0445,  0.0519,  0.0851, -0.0424])\n",
      "Average return: 0.9643644196691071\n",
      "DFE Rewards Mean: 0.9643644196691071\n",
      "DFE Rewards standard dev 0.041802927036821556\n",
      "Returns Mean: 4.7683425\n",
      "Returns standard dev 3.2109616\n",
      "Advantages Mean: 1.2547338\n",
      "Advantages standard dev 3.2109613\n",
      "Fidelity History: []\n",
      "SparsePauliOp(['II', 'IZ', 'XI', 'XZ'],\n",
      "              coeffs=[0.25+0.j, 0.25+0.j, 0.25+0.j, 0.25+0.j])\n",
      "mean tensor([ 0.0060,  0.0923, -0.0420,  0.0132,  0.0398,  0.1157, -0.0034])\n",
      "Average return: 0.9371696417710144\n",
      "DFE Rewards Mean: 0.9371696417710144\n",
      "DFE Rewards standard dev 0.06724449552960872\n",
      "Returns Mean: 4.094883\n",
      "Returns standard dev 3.1783016\n",
      "Advantages Mean: 1.9162228\n",
      "Advantages standard dev 3.178302\n",
      "Fidelity History: []\n",
      "SparsePauliOp(['II', 'XX', 'YY', 'ZZ'],\n",
      "              coeffs=[ 0.25+0.j,  0.25+0.j,  0.25+0.j, -0.25+0.j])\n"
     ]
    },
    {
     "name": "stderr",
     "output_type": "stream",
     "text": [
      " 28%|██▊       | 12/43 [00:02<00:05,  5.52it/s]"
     ]
    },
    {
     "name": "stdout",
     "output_type": "stream",
     "text": [
      "mean tensor([ 0.0108,  0.0655, -0.0488, -0.0299,  0.0466,  0.0074,  0.0091])\n",
      "Average return: 0.9558292045329679\n",
      "DFE Rewards Mean: 0.9558292045329679\n",
      "DFE Rewards standard dev 0.04984668387134528\n",
      "Returns Mean: 4.6245155\n",
      "Returns standard dev 3.3495753\n",
      "Advantages Mean: 1.0278373\n",
      "Advantages standard dev 3.349575\n",
      "Fidelity History: []\n",
      "SparsePauliOp(['II', 'XY', 'YZ', 'ZX'],\n",
      "              coeffs=[ 0.25+0.j,  0.25+0.j,  0.25+0.j, -0.25+0.j])\n",
      "mean tensor([ 0.0211,  0.0502, -0.0356, -0.0485,  0.0403, -0.0114,  0.0062])\n",
      "Average return: 0.9737826801913382\n",
      "DFE Rewards Mean: 0.9737826801913382\n",
      "DFE Rewards standard dev 0.03389250154316218\n",
      "Returns Mean: 5.5918045\n",
      "Returns standard dev 3.8906431\n",
      "Advantages Mean: 0.8985843\n",
      "Advantages standard dev 3.8906431\n",
      "Fidelity History: []\n",
      "SparsePauliOp(['II', 'IZ', 'YI', 'YZ'],\n",
      "              coeffs=[0.25+0.j, 0.25+0.j, 0.25+0.j, 0.25+0.j])\n"
     ]
    },
    {
     "name": "stderr",
     "output_type": "stream",
     "text": [
      " 33%|███▎      | 14/43 [00:02<00:05,  5.49it/s]"
     ]
    },
    {
     "name": "stdout",
     "output_type": "stream",
     "text": [
      "mean tensor([ 0.0185,  0.0723, -0.0639,  0.0049,  0.0571,  0.0381, -0.0002])\n",
      "Average return: 0.9626907589586546\n",
      "DFE Rewards Mean: 0.9626907589586546\n",
      "DFE Rewards standard dev 0.03874368108122902\n",
      "Returns Mean: 4.6819344\n",
      "Returns standard dev 3.260071\n",
      "Advantages Mean: 1.6669319\n",
      "Advantages standard dev 3.260071\n",
      "Fidelity History: []\n",
      "SparsePauliOp(['II', 'XY', 'YZ', 'ZX'],\n",
      "              coeffs=[ 0.25+0.j,  0.25+0.j,  0.25+0.j, -0.25+0.j])\n",
      "mean tensor([ 0.0044,  0.0691, -0.0963, -0.0280,  0.0572, -0.0113, -0.0174])\n",
      "Average return: 0.9821499282080691\n",
      "DFE Rewards Mean: 0.9821499282080691\n",
      "DFE Rewards standard dev 0.024526248492464018\n",
      "Returns Mean: 5.87078\n",
      "Returns standard dev 3.7551227\n",
      "Advantages Mean: 0.5790686\n",
      "Advantages standard dev 3.7551227\n",
      "Fidelity History: []\n",
      "SparsePauliOp(['II', 'IX', 'XI', 'XX'],\n",
      "              coeffs=[0.25+0.j, 0.25+0.j, 0.25+0.j, 0.25+0.j])\n"
     ]
    },
    {
     "name": "stderr",
     "output_type": "stream",
     "text": [
      " 37%|███▋      | 16/43 [00:02<00:04,  5.48it/s]"
     ]
    },
    {
     "name": "stdout",
     "output_type": "stream",
     "text": [
      "mean tensor([ 0.0166,  0.0820, -0.0806, -0.0264,  0.0598,  0.0168, -0.0335])\n",
      "Average return: 0.9743676863911024\n",
      "DFE Rewards Mean: 0.9743676863911024\n",
      "DFE Rewards standard dev 0.03652536283301175\n",
      "Returns Mean: 5.8081183\n",
      "Returns standard dev 3.9454813\n",
      "Advantages Mean: 1.0222323\n",
      "Advantages standard dev 3.945481\n",
      "Fidelity History: []\n",
      "SparsePauliOp(['II', 'IZ', 'ZI', 'ZZ'],\n",
      "              coeffs=[ 0.25+0.j, -0.25+0.j, -0.25+0.j,  0.25+0.j])\n",
      "mean tensor([ 0.0184,  0.0898, -0.0547, -0.0051,  0.0523,  0.0416, -0.0143])\n",
      "Average return: 0.9790650087911607\n",
      "DFE Rewards Mean: 0.9790650087911607\n",
      "DFE Rewards standard dev 0.024251982676254513\n",
      "Returns Mean: 5.5661497\n",
      "Returns standard dev 3.5939696\n",
      "Advantages Mean: 1.6944307\n",
      "Advantages standard dev 3.5939698\n",
      "Fidelity History: []\n",
      "SparsePauliOp(['II', 'IY', 'XI', 'XY'],\n",
      "              coeffs=[0.25+0.j, 0.25+0.j, 0.25+0.j, 0.25+0.j])\n"
     ]
    },
    {
     "name": "stderr",
     "output_type": "stream",
     "text": [
      " 42%|████▏     | 18/43 [00:03<00:04,  5.48it/s]"
     ]
    },
    {
     "name": "stdout",
     "output_type": "stream",
     "text": [
      "mean tensor([ 1.0947e-02,  9.5225e-02, -5.5441e-02, -1.5042e-02,  3.6220e-02,\n",
      "        -7.7181e-05,  1.0271e-02])\n",
      "Average return: 0.9865771682556068\n",
      "DFE Rewards Mean: 0.9865771682556068\n",
      "DFE Rewards standard dev 0.02182886112088382\n",
      "Returns Mean: 6.7427797\n",
      "Returns standard dev 4.1336927\n",
      "Advantages Mean: 0.737718\n",
      "Advantages standard dev 4.1336927\n",
      "Fidelity History: []\n",
      "SparsePauliOp(['II', 'IY', 'XI', 'XY'],\n",
      "              coeffs=[0.25+0.j, 0.25+0.j, 0.25+0.j, 0.25+0.j])\n",
      "mean tensor([ 0.0107,  0.0847, -0.0780,  0.0036,  0.0263, -0.0134,  0.0295])\n",
      "Average return: 0.9872930565382149\n",
      "DFE Rewards Mean: 0.9872930565382149\n",
      "DFE Rewards standard dev 0.016983454467141973\n",
      "Returns Mean: 6.3932467\n",
      "Returns standard dev 3.8272398\n",
      "Advantages Mean: 0.11299678\n",
      "Advantages standard dev 3.8272398\n",
      "Fidelity History: []\n",
      "SparsePauliOp(['II', 'XX', 'YY', 'ZZ'],\n",
      "              coeffs=[ 0.25+0.j,  0.25+0.j, -0.25+0.j,  0.25+0.j])\n"
     ]
    },
    {
     "name": "stderr",
     "output_type": "stream",
     "text": [
      " 47%|████▋     | 20/43 [00:03<00:04,  5.45it/s]"
     ]
    },
    {
     "name": "stdout",
     "output_type": "stream",
     "text": [
      "mean tensor([ 0.0248,  0.0897, -0.0898,  0.0080,  0.0313,  0.0002,  0.0233])\n",
      "Average return: 0.9833069137371914\n",
      "DFE Rewards Mean: 0.9833069137371914\n",
      "DFE Rewards standard dev 0.023332247059968766\n",
      "Returns Mean: 6.210702\n",
      "Returns standard dev 3.9740133\n",
      "Advantages Mean: 0.8984923\n",
      "Advantages standard dev 3.9740133\n",
      "Fidelity History: []\n",
      "SparsePauliOp(['II', 'IZ', 'XI', 'XZ'],\n",
      "              coeffs=[0.25+0.j, 0.25+0.j, 0.25+0.j, 0.25+0.j])\n",
      "mean tensor([ 0.0267,  0.1012, -0.0962,  0.0269,  0.0321,  0.0263,  0.0071])\n",
      "Average return: 0.9831574363666833\n",
      "DFE Rewards Mean: 0.9831574363666833\n",
      "DFE Rewards standard dev 0.02042083534450103\n",
      "Returns Mean: 5.7688627\n",
      "Returns standard dev 3.5113595\n",
      "Advantages Mean: 1.6354091\n",
      "Advantages standard dev 3.5113595\n",
      "Fidelity History: []\n",
      "SparsePauliOp(['II', 'IZ', 'ZI', 'ZZ'],\n",
      "              coeffs=[ 0.25+0.j,  0.25+0.j, -0.25+0.j, -0.25+0.j])\n"
     ]
    },
    {
     "name": "stderr",
     "output_type": "stream",
     "text": [
      " 51%|█████     | 22/43 [00:04<00:03,  5.31it/s]"
     ]
    },
    {
     "name": "stdout",
     "output_type": "stream",
     "text": [
      "mean tensor([ 0.0138,  0.1120, -0.1120,  0.0284,  0.0243,  0.0146,  0.0018])\n",
      "Average return: 0.9767266753026833\n",
      "DFE Rewards Mean: 0.9767266753026833\n",
      "DFE Rewards standard dev 0.027422557331797635\n",
      "Returns Mean: 5.5975685\n",
      "Returns standard dev 3.720968\n",
      "Advantages Mean: 1.464298\n",
      "Advantages standard dev 3.720968\n",
      "Fidelity History: []\n",
      "SparsePauliOp(['II', 'XY', 'YX', 'ZZ'],\n",
      "              coeffs=[0.25+0.j, 0.25+0.j, 0.25+0.j, 0.25+0.j])\n",
      "mean tensor([ 0.0132,  0.1308, -0.1239, -0.0016,  0.0083, -0.0323, -0.0047])\n",
      "Average return: 0.9896203115827209\n",
      "DFE Rewards Mean: 0.9896203115827209\n",
      "DFE Rewards standard dev 0.018257782641085307\n",
      "Returns Mean: 7.196213\n",
      "Returns standard dev 4.2409186\n",
      "Advantages Mean: 0.2523086\n",
      "Advantages standard dev 4.2409186\n",
      "Fidelity History: []\n"
     ]
    },
    {
     "name": "stderr",
     "output_type": "stream",
     "text": [
      " 53%|█████▎    | 23/43 [00:04<00:03,  5.33it/s]"
     ]
    },
    {
     "name": "stdout",
     "output_type": "stream",
     "text": [
      "SparsePauliOp(['II', 'IZ', 'ZI', 'ZZ'],\n",
      "              coeffs=[ 0.25+0.j, -0.25+0.j, -0.25+0.j,  0.25+0.j])\n",
      "mean tensor([ 0.0217,  0.1216, -0.1273,  0.0214,  0.0276, -0.0092, -0.0126])\n",
      "Average return: 0.991256187770718\n",
      "DFE Rewards Mean: 0.991256187770718\n",
      "DFE Rewards standard dev 0.014236891714790251\n",
      "Returns Mean: 7.154313\n",
      "Returns standard dev 4.1574287\n",
      "Advantages Mean: 1.6983478\n",
      "Advantages standard dev 4.1574287\n",
      "Fidelity History: []\n",
      "SparsePauliOp(['II', 'XX', 'YY', 'ZZ'],\n",
      "              coeffs=[ 0.25+0.j,  0.25+0.j,  0.25+0.j, -0.25+0.j])\n"
     ]
    },
    {
     "name": "stderr",
     "output_type": "stream",
     "text": [
      " 56%|█████▌    | 24/43 [00:04<00:03,  5.28it/s]"
     ]
    },
    {
     "name": "stdout",
     "output_type": "stream",
     "text": [
      "mean tensor([ 0.0080,  0.1400, -0.1166, -0.0126,  0.0111, -0.0315,  0.0022])\n",
      "Average return: 0.9881138601998476\n",
      "DFE Rewards Mean: 0.9881138601998476\n",
      "DFE Rewards standard dev 0.01877610807215894\n",
      "Returns Mean: 6.817088\n",
      "Returns standard dev 4.0446477\n",
      "Advantages Mean: -0.09926596\n",
      "Advantages standard dev 4.0446477\n",
      "Fidelity History: []\n",
      "SparsePauliOp(['II', 'XY', 'YX', 'ZZ'],\n",
      "              coeffs=[0.25+0.j, 0.25+0.j, 0.25+0.j, 0.25+0.j])\n"
     ]
    },
    {
     "name": "stderr",
     "output_type": "stream",
     "text": [
      " 60%|██████    | 26/43 [00:04<00:03,  5.07it/s]"
     ]
    },
    {
     "name": "stdout",
     "output_type": "stream",
     "text": [
      "mean tensor([-0.0078,  0.1485, -0.1099, -0.0265,  0.0063, -0.0525,  0.0178])\n",
      "Average return: 0.9909813655609064\n",
      "DFE Rewards Mean: 0.9909813655609064\n",
      "DFE Rewards standard dev 0.015527814362266112\n",
      "Returns Mean: 7.152548\n",
      "Returns standard dev 4.117673\n",
      "Advantages Mean: -0.22391763\n",
      "Advantages standard dev 4.117673\n",
      "Fidelity History: []\n",
      "SparsePauliOp(['II', 'IY', 'XI', 'XY'],\n",
      "              coeffs=[0.25+0.j, 0.25+0.j, 0.25+0.j, 0.25+0.j])\n",
      "mean tensor([-0.0054,  0.1285, -0.0980, -0.0306,  0.0042, -0.0651,  0.0276])\n",
      "Average return: 0.9922856006888707\n",
      "DFE Rewards Mean: 0.9922856006888707\n",
      "DFE Rewards standard dev 0.014617177579278303\n",
      "Returns Mean: 7.449723\n",
      "Returns standard dev 4.1315904\n",
      "Advantages Mean: -0.043766744\n",
      "Advantages standard dev 4.1315904\n",
      "Fidelity History: []\n"
     ]
    },
    {
     "name": "stderr",
     "output_type": "stream",
     "text": [
      " 63%|██████▎   | 27/43 [00:05<00:03,  5.08it/s]"
     ]
    },
    {
     "name": "stdout",
     "output_type": "stream",
     "text": [
      "SparsePauliOp(['II', 'IY', 'XI', 'XY'],\n",
      "              coeffs=[0.25+0.j, 0.25+0.j, 0.25+0.j, 0.25+0.j])\n",
      "mean tensor([-0.0071,  0.1079, -0.1101, -0.0325, -0.0036, -0.0612,  0.0339])\n",
      "Average return: 0.9932283371832582\n",
      "DFE Rewards Mean: 0.9932283371832582\n",
      "DFE Rewards standard dev 0.013474534309310681\n",
      "Returns Mean: 7.574351\n",
      "Returns standard dev 4.1552215\n",
      "Advantages Mean: 0.13330343\n",
      "Advantages standard dev 4.155221\n",
      "Fidelity History: []\n",
      "SparsePauliOp(['II', 'IZ', 'XI', 'XZ'],\n",
      "              coeffs=[0.25+0.j, 0.25+0.j, 0.25+0.j, 0.25+0.j])\n"
     ]
    },
    {
     "name": "stderr",
     "output_type": "stream",
     "text": [
      " 67%|██████▋   | 29/43 [00:05<00:02,  5.12it/s]"
     ]
    },
    {
     "name": "stdout",
     "output_type": "stream",
     "text": [
      "mean tensor([ 0.0079,  0.1159, -0.0985,  0.0015,  0.0160,  0.0032,  0.0017])\n",
      "Average return: 0.9893232537790662\n",
      "DFE Rewards Mean: 0.9893232537790662\n",
      "DFE Rewards standard dev 0.01523427568690607\n",
      "Returns Mean: 6.7219133\n",
      "Returns standard dev 3.9311776\n",
      "Advantages Mean: 1.7532282\n",
      "Advantages standard dev 3.9311776\n",
      "Fidelity History: []\n",
      "SparsePauliOp(['II', 'IX', 'XI', 'XX'],\n",
      "              coeffs=[0.25+0.j, 0.25+0.j, 0.25+0.j, 0.25+0.j])\n",
      "mean tensor([-0.0016,  0.1277, -0.0888, -0.0108, -0.0024, -0.0325,  0.0136])\n",
      "Average return: 0.9924730893386023\n",
      "DFE Rewards Mean: 0.9924730893386023\n",
      "DFE Rewards standard dev 0.014322838557112555\n",
      "Returns Mean: 7.5577345\n",
      "Returns standard dev 4.1189895\n",
      "Advantages Mean: 0.40488943\n",
      "Advantages standard dev 4.1189895\n",
      "Fidelity History: []\n",
      "SparsePauliOp(['II', 'IZ', 'ZI', 'ZZ'],\n",
      "              coeffs=[0.25+0.j, 0.25+0.j, 0.25+0.j, 0.25+0.j])\n"
     ]
    },
    {
     "name": "stderr",
     "output_type": "stream",
     "text": [
      " 72%|███████▏  | 31/43 [00:05<00:02,  5.15it/s]"
     ]
    },
    {
     "name": "stdout",
     "output_type": "stream",
     "text": [
      "mean tensor([-0.0059,  0.1285, -0.1055,  0.0220,  0.0256,  0.0158, -0.0048])\n",
      "Average return: 0.9869448748618697\n",
      "DFE Rewards Mean: 0.9869448748618697\n",
      "DFE Rewards standard dev 0.018663991110375526\n",
      "Returns Mean: 6.6656733\n",
      "Returns standard dev 4.0954895\n",
      "Advantages Mean: 1.8618169\n",
      "Advantages standard dev 4.09549\n",
      "Fidelity History: []\n",
      "SparsePauliOp(['II', 'XY', 'YX', 'ZZ'],\n",
      "              coeffs=[ 0.25+0.j,  0.25+0.j, -0.25+0.j, -0.25+0.j])\n",
      "mean tensor([-0.0100,  0.1678, -0.0850, -0.0249, -0.0083, -0.0424,  0.0211])\n",
      "Average return: 0.9943831533818286\n",
      "DFE Rewards Mean: 0.9943831533818286\n",
      "DFE Rewards standard dev 0.01160312507112242\n",
      "Returns Mean: 7.7988343\n",
      "Returns standard dev 4.0823946\n",
      "Advantages Mean: -0.40447605\n",
      "Advantages standard dev 4.0823946\n",
      "Fidelity History: []\n",
      "SparsePauliOp(['II', 'IZ', 'ZI', 'ZZ'],\n",
      "              coeffs=[ 0.25+0.j, -0.25+0.j, -0.25+0.j,  0.25+0.j])\n"
     ]
    },
    {
     "name": "stderr",
     "output_type": "stream",
     "text": [
      " 77%|███████▋  | 33/43 [00:06<00:01,  5.17it/s]"
     ]
    },
    {
     "name": "stdout",
     "output_type": "stream",
     "text": [
      "mean tensor([ 0.0011,  0.1371, -0.1076, -0.0023,  0.0089, -0.0205,  0.0031])\n",
      "Average return: 0.9951148020501064\n",
      "DFE Rewards Mean: 0.9951148020501064\n",
      "DFE Rewards standard dev 0.009613534341205265\n",
      "Returns Mean: 7.9149866\n",
      "Returns standard dev 4.0927887\n",
      "Advantages Mean: 1.7970867\n",
      "Advantages standard dev 4.0927887\n",
      "Fidelity History: []\n",
      "SparsePauliOp(['II', 'IZ', 'ZI', 'ZZ'],\n",
      "              coeffs=[ 0.25+0.j, -0.25+0.j,  0.25+0.j, -0.25+0.j])\n",
      "mean tensor([-0.0075,  0.1462, -0.1201, -0.0013,  0.0161, -0.0296, -0.0055])\n",
      "Average return: 0.9969884873221919\n",
      "DFE Rewards Mean: 0.9969884873221919\n",
      "DFE Rewards standard dev 0.00726596154450199\n",
      "Returns Mean: 8.373357\n",
      "Returns standard dev 4.053884\n",
      "Advantages Mean: 1.7180634\n",
      "Advantages standard dev 4.053884\n",
      "Fidelity History: []\n",
      "SparsePauliOp(['II', 'IZ', 'ZI', 'ZZ'],\n",
      "              coeffs=[ 0.25+0.j, -0.25+0.j,  0.25+0.j, -0.25+0.j])\n"
     ]
    },
    {
     "name": "stderr",
     "output_type": "stream",
     "text": [
      " 81%|████████▏ | 35/43 [00:06<00:01,  5.18it/s]"
     ]
    },
    {
     "name": "stdout",
     "output_type": "stream",
     "text": [
      "mean tensor([-0.0047,  0.1388, -0.1014,  0.0027,  0.0130, -0.0367,  0.0041])\n",
      "Average return: 0.9970895745351123\n",
      "DFE Rewards Mean: 0.9970895745351123\n",
      "DFE Rewards standard dev 0.0071671436292744225\n",
      "Returns Mean: 8.520998\n",
      "Returns standard dev 4.0544896\n",
      "Advantages Mean: 1.5961981\n",
      "Advantages standard dev 4.05449\n",
      "Fidelity History: []\n",
      "SparsePauliOp(['II', 'XY', 'YX', 'ZZ'],\n",
      "              coeffs=[ 0.25+0.j,  0.25+0.j, -0.25+0.j, -0.25+0.j])\n",
      "mean tensor([-0.0215,  0.1632, -0.0898, -0.0143,  0.0092, -0.0552,  0.0403])\n",
      "Average return: 0.9945734803904094\n",
      "DFE Rewards Mean: 0.9945734803904094\n",
      "DFE Rewards standard dev 0.010948960377131138\n",
      "Returns Mean: 7.8303003\n",
      "Returns standard dev 4.1928253\n",
      "Advantages Mean: -1.0310986\n",
      "Advantages standard dev 4.1928253\n",
      "Fidelity History: []\n",
      "SparsePauliOp(['II', 'XY', 'YZ', 'ZX'],\n",
      "              coeffs=[ 0.25+0.j,  0.25+0.j,  0.25+0.j, -0.25+0.j])\n"
     ]
    },
    {
     "name": "stderr",
     "output_type": "stream",
     "text": [
      " 86%|████████▌ | 37/43 [00:07<00:01,  5.10it/s]"
     ]
    },
    {
     "name": "stdout",
     "output_type": "stream",
     "text": [
      "mean tensor([-0.0207,  0.1575, -0.1018, -0.0142,  0.0101, -0.0618,  0.0415])\n",
      "Average return: 0.9941996070622895\n",
      "DFE Rewards Mean: 0.9941996070622895\n",
      "DFE Rewards standard dev 0.01075731365690249\n",
      "Returns Mean: 7.655052\n",
      "Returns standard dev 4.128578\n",
      "Advantages Mean: -1.2303602\n",
      "Advantages standard dev 4.128578\n",
      "Fidelity History: []\n",
      "SparsePauliOp(['II', 'XY', 'YX', 'ZZ'],\n",
      "              coeffs=[0.25+0.j, 0.25+0.j, 0.25+0.j, 0.25+0.j])\n",
      "mean tensor([-0.0043,  0.1398, -0.1051,  0.0016,  0.0069, -0.0656,  0.0277])\n",
      "Average return: 0.9967144141524054\n",
      "DFE Rewards Mean: 0.9967144141524054\n",
      "DFE Rewards standard dev 0.008382187482778873\n",
      "Returns Mean: 8.350496\n",
      "Returns standard dev 4.079971\n",
      "Advantages Mean: 0.17675245\n",
      "Advantages standard dev 4.079971\n",
      "Fidelity History: []\n",
      "SparsePauliOp(['II', 'IZ', 'ZI', 'ZZ'],\n",
      "              coeffs=[ 0.25+0.j, -0.25+0.j,  0.25+0.j, -0.25+0.j])\n"
     ]
    },
    {
     "name": "stderr",
     "output_type": "stream",
     "text": [
      " 91%|█████████ | 39/43 [00:07<00:00,  5.04it/s]"
     ]
    },
    {
     "name": "stdout",
     "output_type": "stream",
     "text": [
      "mean tensor([ 0.0015,  0.1329, -0.1311,  0.0272,  0.0136, -0.0503,  0.0124])\n",
      "Average return: 0.9974888860657846\n",
      "DFE Rewards Mean: 0.9974888860657846\n",
      "DFE Rewards standard dev 0.00685962416604966\n",
      "Returns Mean: 8.56094\n",
      "Returns standard dev 4.063852\n",
      "Advantages Mean: 1.6686499\n",
      "Advantages standard dev 4.063852\n",
      "Fidelity History: []\n",
      "SparsePauliOp(['II', 'XX', 'YY', 'ZZ'],\n",
      "              coeffs=[ 0.25+0.j,  0.25+0.j, -0.25+0.j,  0.25+0.j])\n",
      "mean tensor([ 0.0104,  0.1483, -0.1334,  0.0169,  0.0035, -0.0784,  0.0262])\n",
      "Average return: 0.9955536855316093\n",
      "DFE Rewards Mean: 0.9955536855316093\n",
      "DFE Rewards standard dev 0.010627405443760727\n",
      "Returns Mean: 8.110927\n",
      "Returns standard dev 4.1181273\n",
      "Advantages Mean: 0.26985645\n",
      "Advantages standard dev 4.1181273\n",
      "Fidelity History: []\n",
      "SparsePauliOp(['II', 'IZ', 'YI', 'YZ'],\n",
      "              coeffs=[ 0.25+0.j, -0.25+0.j, -0.25+0.j,  0.25+0.j])\n"
     ]
    },
    {
     "name": "stderr",
     "output_type": "stream",
     "text": [
      " 95%|█████████▌| 41/43 [00:07<00:00,  5.09it/s]"
     ]
    },
    {
     "name": "stdout",
     "output_type": "stream",
     "text": [
      "mean tensor([ 0.0041,  0.1374, -0.1317,  0.0046,  0.0090, -0.0689,  0.0167])\n",
      "Average return: 0.9964602319278635\n",
      "DFE Rewards Mean: 0.9964602319278635\n",
      "DFE Rewards standard dev 0.009748359322466918\n",
      "Returns Mean: 8.474197\n",
      "Returns standard dev 4.2148657\n",
      "Advantages Mean: 0.6100998\n",
      "Advantages standard dev 4.2148657\n",
      "Fidelity History: []\n",
      "SparsePauliOp(['II', 'XY', 'YZ', 'ZX'],\n",
      "              coeffs=[ 0.25+0.j,  0.25+0.j,  0.25+0.j, -0.25+0.j])\n",
      "mean tensor([-0.0097,  0.1465, -0.1133, -0.0101,  0.0013, -0.0875,  0.0573])\n",
      "Average return: 0.9939928386160024\n",
      "DFE Rewards Mean: 0.9939928386160024\n",
      "DFE Rewards standard dev 0.010585379548428841\n",
      "Returns Mean: 7.3813868\n",
      "Returns standard dev 3.993982\n",
      "Advantages Mean: -2.218976\n",
      "Advantages standard dev 3.993982\n",
      "Fidelity History: []\n"
     ]
    },
    {
     "name": "stderr",
     "output_type": "stream",
     "text": [
      " 98%|█████████▊| 42/43 [00:07<00:00,  5.10it/s]"
     ]
    },
    {
     "name": "stdout",
     "output_type": "stream",
     "text": [
      "SparsePauliOp(['II', 'XY', 'YX', 'ZZ'],\n",
      "              coeffs=[ 0.25+0.j,  0.25+0.j, -0.25+0.j, -0.25+0.j])\n",
      "mean tensor([ 0.1602,  0.0984, -0.0278, -0.1097,  0.0162, -0.0835,  0.1759])\n",
      "Average return: 0.9801019273785491\n",
      "DFE Rewards Mean: 0.9801019273785491\n",
      "DFE Rewards standard dev 0.019881651046539082\n",
      "Returns Mean: 5.475973\n",
      "Returns standard dev 3.6006305\n",
      "Advantages Mean: -3.552191\n",
      "Advantages standard dev 3.6006305\n",
      "Fidelity History: []\n",
      "SparsePauliOp(['II', 'IX', 'XI', 'XX'],\n",
      "              coeffs=[0.25+0.j, 0.25+0.j, 0.25+0.j, 0.25+0.j])\n"
     ]
    },
    {
     "name": "stderr",
     "output_type": "stream",
     "text": [
      "100%|██████████| 43/43 [00:08<00:00,  5.25it/s]\n",
      "[I 2023-12-28 13:22:11,613] Trial 0 finished with value: 0.9964602319278635 and parameters: {'N_UPDATES': 43, 'N_EPOCHS': 17, 'MINIBATCH_SIZE': 64, 'BATCHSIZE_MULTIPLIER': 8, 'LR': 0.0005312903188214253, 'GAMMA': 0.957871667947108, 'GAE_LAMBDA': 0.926980000641327, 'ENT_COEF': 0.0004666949853103508, 'V_COEF': 0.7191427432064341, 'GRADIENT_CLIP': 0.6916205631780755, 'CLIP_VALUE_COEF': 0.26968123929183463, 'CLIP_RATIO': 0.2575578187131302}. Best is trial 0 with value: 0.9964602319278635.\n"
     ]
    },
    {
     "name": "stdout",
     "output_type": "stream",
     "text": [
      "mean tensor([ 0.1684,  0.1025, -0.0394, -0.0992,  0.0165, -0.0798,  0.1423])\n",
      "Average return: 0.9852241018132802\n",
      "DFE Rewards Mean: 0.9852241018132802\n",
      "DFE Rewards standard dev 0.021012929107562202\n",
      "Returns Mean: 6.6467333\n",
      "Returns standard dev 4.249171\n",
      "Advantages Mean: -1.5802355\n",
      "Advantages standard dev 4.249171\n",
      "Fidelity History: []\n",
      "2023-12-28 13:22:11 INFO ---------------- FINISHED HPO ----------------\n",
      "2023-12-28 13:22:11 INFO HPO completed in 8.28 seconds.\n",
      "2023-12-28 13:22:11 INFO Best trial:\n",
      "2023-12-28 13:22:11 INFO -------------------------\n",
      "2023-12-28 13:22:11 INFO   Value: 0.9964602319278635\n",
      "2023-12-28 13:22:11 INFO   Parameters: \n",
      "2023-12-28 13:22:11 INFO     N_UPDATES: 43\n",
      "2023-12-28 13:22:11 INFO     N_EPOCHS: 17\n",
      "2023-12-28 13:22:11 INFO     MINIBATCH_SIZE: 64\n",
      "2023-12-28 13:22:11 INFO     BATCHSIZE_MULTIPLIER: 8\n",
      "2023-12-28 13:22:11 INFO     LR: 0.0005312903188214253\n",
      "2023-12-28 13:22:11 INFO     GAMMA: 0.957871667947108\n",
      "2023-12-28 13:22:11 INFO     GAE_LAMBDA: 0.926980000641327\n",
      "2023-12-28 13:22:11 INFO     ENT_COEF: 0.0004666949853103508\n",
      "2023-12-28 13:22:11 INFO     V_COEF: 0.7191427432064341\n",
      "2023-12-28 13:22:11 INFO     GRADIENT_CLIP: 0.6916205631780755\n",
      "2023-12-28 13:22:11 INFO     CLIP_VALUE_COEF: 0.26968123929183463\n",
      "2023-12-28 13:22:11 INFO     CLIP_RATIO: 0.2575578187131302\n",
      "2023-12-28 13:22:11 INFO The best action vector is [ 0.00273298  0.13535404 -0.12757604  0.02488202  0.01382914 -0.05321798\n",
      "  0.0133736 ]\n",
      "Best configuration saved to hpo_results/reward_0.99646.pickle\n"
     ]
    }
   ],
   "source": [
    "optimizer = HyperparameterOptimizer(gate_q_env_config, path_agent_config, save_results_path, log_progress=True, num_hpo_trials=1)\n",
    "optimizer.optimize_hyperparameters()"
   ]
  },
  {
   "attachments": {},
   "cell_type": "markdown",
   "metadata": {},
   "source": [
    "#### Quick Summary of HPO Task"
   ]
  },
  {
   "cell_type": "code",
   "execution_count": 6,
   "metadata": {},
   "outputs": [
    {
     "data": {
      "text/plain": [
       "{'target_gate': Instruction(name='cx', num_qubits=2, num_clbits=0, params=[]),\n",
       " 'target_register': [0, 1]}"
      ]
     },
     "execution_count": 6,
     "metadata": {},
     "output_type": "execute_result"
    }
   ],
   "source": [
    "optimizer.target_gate"
   ]
  },
  {
   "cell_type": "code",
   "execution_count": 7,
   "metadata": {},
   "outputs": [
    {
     "data": {
      "text/plain": [
       "['N_UPDATES',\n",
       " 'N_EPOCHS',\n",
       " 'MINIBATCH_SIZE',\n",
       " 'BATCHSIZE_MULTIPLIER',\n",
       " 'LR',\n",
       " 'GAMMA',\n",
       " 'GAE_LAMBDA',\n",
       " 'ENT_COEF',\n",
       " 'V_COEF',\n",
       " 'GRADIENT_CLIP',\n",
       " 'CLIP_VALUE_COEF',\n",
       " 'CLIP_RATIO',\n",
       " 'BATCHSIZE']"
      ]
     },
     "execution_count": 7,
     "metadata": {},
     "output_type": "execute_result"
    }
   ],
   "source": [
    "optimizer.hyperparams"
   ]
  },
  {
   "cell_type": "code",
   "execution_count": 8,
   "metadata": {},
   "outputs": [
    {
     "data": {
      "text/plain": [
       "1"
      ]
     },
     "execution_count": 8,
     "metadata": {},
     "output_type": "execute_result"
    }
   ],
   "source": [
    "optimizer.num_hpo_trials"
   ]
  },
  {
   "cell_type": "code",
   "execution_count": 9,
   "metadata": {},
   "outputs": [
    {
     "data": {
      "text/plain": [
       "{'best_avg_return': 0.9964602319278635,\n",
       " 'best_hyperparams': {'N_UPDATES': 43,\n",
       "  'N_EPOCHS': 17,\n",
       "  'MINIBATCH_SIZE': 64,\n",
       "  'BATCHSIZE_MULTIPLIER': 8,\n",
       "  'LR': 0.0005312903188214253,\n",
       "  'GAMMA': 0.957871667947108,\n",
       "  'GAE_LAMBDA': 0.926980000641327,\n",
       "  'ENT_COEF': 0.0004666949853103508,\n",
       "  'V_COEF': 0.7191427432064341,\n",
       "  'GRADIENT_CLIP': 0.6916205631780755,\n",
       "  'CLIP_VALUE_COEF': 0.26968123929183463,\n",
       "  'CLIP_RATIO': 0.2575578187131302}}"
      ]
     },
     "execution_count": 9,
     "metadata": {},
     "output_type": "execute_result"
    }
   ],
   "source": [
    "optimizer.best_hpo_configuration"
   ]
  }
 ],
 "metadata": {
  "kernelspec": {
   "display_name": "Python 3",
   "language": "python",
   "name": "python3"
  },
  "language_info": {
   "codemirror_mode": {
    "name": "ipython",
    "version": 3
   },
   "file_extension": ".py",
   "mimetype": "text/x-python",
   "name": "python",
   "nbconvert_exporter": "python",
   "pygments_lexer": "ipython3",
   "version": "3.9.6"
  },
  "orig_nbformat": 4
 },
 "nbformat": 4,
 "nbformat_minor": 2
}
