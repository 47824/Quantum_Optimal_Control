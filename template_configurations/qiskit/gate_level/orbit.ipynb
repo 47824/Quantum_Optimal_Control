{
 "cells": [
  {
   "metadata": {},
   "cell_type": "markdown",
   "source": [
    "# ORBIT Calibration\n",
    "\n",
    "This notebook demonstrates how to use the ORBIT calibration method to estimate the fidelity of a quantum device. The ORBIT method is a variant of the randomized benchmarking protocol that uses a single qubit to estimate the fidelity of a multi-qubit device. The method is described in detail in this [paper](https://journals.aps.org/prl/abstract/10.1103/PhysRevLett.112.240504).\n",
    "\n",
    "ORBIT consists in preparing an interleaved randomized benchmarking sequence (of fixed length), and then measuring the fidelity of the device by comparing the output of the interleaved sequence with the output of the reference sequence. The fidelity is then estimated as the probability of measuring the ground state of the qubit after the interleaved sequence. This estimation is then used as a cost function for a model-free optimizer to tune the parameters of the gate set as an interleaved element.\n",
    "\n",
    "In this notebook, we show how to leverage our defined interface for `QuantumEnvironment` to perform ORBIT. "
   ],
   "id": "777378b4f8313819"
  },
  {
   "metadata": {
    "ExecuteTime": {
     "end_time": "2024-05-30T09:37:01.215284Z",
     "start_time": "2024-05-30T09:36:56.435899Z"
    }
   },
   "cell_type": "code",
   "source": [
    "from qiskit import QuantumCircuit, transpile\n",
    "from qiskit_experiments.library.randomized_benchmarking import InterleavedRB\n",
    "from qiskit.quantum_info import Clifford, random_clifford, Operator\n",
    "from q_env_config import q_env_config as gate_q_env_config, circuit_context\n",
    "from quantumenvironment import QuantumEnvironmentV2\n",
    "from context_aware_quantum_environment import ContextAwareQuantumEnvironmentV2\n",
    "from orbit import ORBIT\n",
    "import numpy as np\n",
    "from typing import Callable"
   ],
   "id": "initial_id",
   "outputs": [
    {
     "name": "stdout",
     "output_type": "stream",
     "text": [
      "2024-05-30 17:37:00,427 - qm - INFO     - Starting session: faba908e-3b73-478c-9b6c-a43b86e555f8\n",
      "Circuit context\n"
     ]
    }
   ],
   "execution_count": 1
  },
  {
   "metadata": {
    "ExecuteTime": {
     "end_time": "2024-05-30T09:37:01.300758Z",
     "start_time": "2024-05-30T09:37:01.216088Z"
    }
   },
   "cell_type": "code",
   "source": [
    "use_context = False\n",
    "if use_context:\n",
    "    q_env = ContextAwareQuantumEnvironmentV2(\n",
    "        gate_q_env_config, circuit_context, training_steps_per_gate=250\n",
    "    )\n",
    "else:\n",
    "    q_env = QuantumEnvironmentV2(gate_q_env_config)"
   ],
   "id": "ab5af876c6b01a55",
   "outputs": [
    {
     "name": "stdout",
     "output_type": "stream",
     "text": [
      "Aer Backend created out of backend <qiskit_ibm_runtime.fake_provider.backends.jakarta.fake_jakarta.FakeJakartaV2 object at 0x3544e7010>\n"
     ]
    },
    {
     "name": "stderr",
     "output_type": "stream",
     "text": [
      "/Users/arthurostrauss/anaconda3/envs/rl_qoc/lib/python3.11/site-packages/qiskit_ibm_runtime/session.py:157: UserWarning: Session is not supported in local testing mode or when using a simulator.\n",
      "  warnings.warn(\n"
     ]
    }
   ],
   "execution_count": 2
  },
  {
   "metadata": {
    "ExecuteTime": {
     "end_time": "2024-05-30T09:37:01.372508Z",
     "start_time": "2024-05-30T09:37:01.301329Z"
    }
   },
   "cell_type": "code",
   "source": "q_env.circuits[0].draw(\"mpl\")",
   "id": "f7c639cc38a7e958",
   "outputs": [
    {
     "data": {
      "text/plain": [
       "<Figure size 476.959x200.667 with 1 Axes>"
      ],
      "image/png": "[encoded data removed]"
     },
     "execution_count": 3,
     "metadata": {},
     "output_type": "execute_result"
    }
   ],
   "execution_count": 3
  },
  {
   "metadata": {
    "ExecuteTime": {
     "end_time": "2024-05-30T09:37:01.375025Z",
     "start_time": "2024-05-30T09:37:01.373532Z"
    }
   },
   "cell_type": "code",
   "source": [
    "num_qubits = 2\n",
    "rb_length = 1\n",
    "num_sequences = 3"
   ],
   "id": "fece3872c86ef0ba",
   "outputs": [],
   "execution_count": 4
  },
  {
   "metadata": {
    "ExecuteTime": {
     "end_time": "2024-05-30T09:37:06.651721Z",
     "start_time": "2024-05-30T09:37:01.375517Z"
    }
   },
   "cell_type": "code",
   "source": [
    "lengths = [1, 5, 10, 15, 20, 25, 30, 35, 40, 45, 50, 60, 70, 80, 90, 100]\n",
    "orbits = [ORBIT(rb_length, num_sequences, q_env) for rb_length in lengths]"
   ],
   "id": "3ac1deaa02e16b35",
   "outputs": [],
   "execution_count": 5
  },
  {
   "metadata": {
    "ExecuteTime": {
     "end_time": "2024-05-30T09:44:28.409841Z",
     "start_time": "2024-05-30T09:37:06.652385Z"
    }
   },
   "cell_type": "code",
   "source": [
    "x0 = [0.0, 0.0, 0.0, 0.0, 0.0, 0.0, -0.0]\n",
    "orbits[8].optimize(x0)"
   ],
   "id": "719341ca8b3f8055",
   "outputs": [
    {
     "data": {
      "text/plain": [
       "       message: Maximum number of function evaluations has been exceeded.\n",
       "       success: False\n",
       "        status: 1\n",
       "           fun: 0.75390625\n",
       "             x: [-1.482e-04  1.332e-04  1.332e-04  3.933e-05 -1.036e-04\n",
       "                  7.201e-05  5.889e-05]\n",
       "           nit: 499\n",
       "          nfev: 1400\n",
       " final_simplex: (array([[-1.482e-04,  1.332e-04, ...,  7.201e-05,\n",
       "                         5.889e-05],\n",
       "                       [-1.482e-04,  1.332e-04, ...,  7.201e-05,\n",
       "                         5.889e-05],\n",
       "                       ...,\n",
       "                       [-1.482e-04,  1.332e-04, ...,  7.201e-05,\n",
       "                         5.889e-05],\n",
       "                       [-1.482e-04,  1.332e-04, ...,  7.201e-05,\n",
       "                         5.889e-05]]), array([ 7.539e-01,  7.738e-01,  7.751e-01,  7.773e-01,\n",
       "                        7.780e-01,  7.786e-01,  7.799e-01,  7.812e-01]))"
      ]
     },
     "execution_count": 6,
     "metadata": {},
     "output_type": "execute_result"
    }
   ],
   "execution_count": 6
  },
  {
   "metadata": {
    "ExecuteTime": {
     "end_time": "2024-05-30T09:26:13.105988Z",
     "start_time": "2024-05-30T09:26:13.004263Z"
    }
   },
   "cell_type": "code",
   "source": [
    "import matplotlib.pyplot as plt\n",
    "\n",
    "plt.plot(orbits[2].fidelities)"
   ],
   "id": "3023ad378ba69a8b",
   "outputs": [
    {
     "data": {
      "text/plain": [
       "[<matplotlib.lines.Line2D at 0x34b4d0990>]"
      ]
     },
     "execution_count": 6,
     "metadata": {},
     "output_type": "execute_result"
    },
    {
     "data": {
      "text/plain": [
       "<Figure size 640x480 with 1 Axes>"
      ],
      "image/png": "[encoded data removed]"
     },
     "metadata": {},
     "output_type": "display_data"
    }
   ],
   "execution_count": 6
  },
  {
   "metadata": {
    "ExecuteTime": {
     "end_time": "2024-05-09T08:40:00.517381Z",
     "start_time": "2024-05-09T08:39:58.237627Z"
    }
   },
   "cell_type": "code",
   "source": [
    "# import warnings\n",
    "#\n",
    "# warnings.filterwarnings('error', category=RuntimeWarning)\n",
    "\n",
    "# Your code here\n",
    "fidelities = []\n",
    "for orbit in orbits:\n",
    "    fidelities.append(\n",
    "        orbit.run_orbit_circuits(\n",
    "            np.pi * np.array([0.0, 0.0, 0.5, 0.5, -0.5, 0.5, -0.5])\n",
    "        )\n",
    "    )"
   ],
   "id": "23b12f8150d414e2",
   "execution_count": 6,
   "outputs": []
  },
  {
   "metadata": {
    "ExecuteTime": {
     "end_time": "2024-05-09T08:41:08.810773Z",
     "start_time": "2024-05-09T08:41:08.691746Z"
    }
   },
   "cell_type": "code",
   "source": [
    "import numpy as np\n",
    "from scipy.optimize import curve_fit\n",
    "import matplotlib.pyplot as plt\n",
    "\n",
    "\n",
    "# Define the form of the exponential decay function\n",
    "def exp_decay(x, a, b, c):\n",
    "    return a * np.exp(-b * x) + c\n",
    "\n",
    "\n",
    "# Use curve_fit to fit the exp_decay function to your data\n",
    "popt, pcov = curve_fit(exp_decay, lengths, fidelities)\n",
    "\n",
    "# Print the optimal parameters a, b, c\n",
    "print(f\"a = {popt[0]}, b = {popt[1]}, c = {popt[2]}\")\n",
    "\n",
    "# Plot the original data (in blue) and the fitted data (in red)\n",
    "plt.scatter(lengths, fidelities, marker=\"o\", label=\"Original data\")\n",
    "plt.plot(lengths, exp_decay(np.array(lengths), *popt), \"r\", label=\"Fitted data\")\n",
    "plt.xlabel(\"RB Length\")\n",
    "plt.ylabel(\"Fidelity\")\n",
    "plt.legend()\n",
    "plt.show()"
   ],
   "id": "9e2feeacc88e5aef",
   "execution_count": 7,
   "outputs": []
  },
  {
   "metadata": {
    "ExecuteTime": {
     "end_time": "2024-05-07T05:44:27.544835Z",
     "start_time": "2024-05-07T05:44:27.482643Z"
    }
   },
   "cell_type": "code",
   "source": [
    "import matplotlib.pyplot as plt\n",
    "\n",
    "plt.plot([orbit.rb_length for orbit in orbits], fidelities)"
   ],
   "id": "a89fdc315c026e5f",
   "execution_count": 7,
   "outputs": []
  },
  {
   "metadata": {
    "ExecuteTime": {
     "end_time": "2024-05-21T05:52:01.702680Z",
     "start_time": "2024-05-21T05:52:01.176040Z"
    }
   },
   "cell_type": "code",
   "source": [
    "orbits[0].ref_circuits[0].draw(\"mpl\")"
   ],
   "id": "4f5a5e8630ede184",
   "execution_count": 7,
   "outputs": []
  },
  {
   "metadata": {
    "ExecuteTime": {
     "end_time": "2024-05-21T05:52:14.666098Z",
     "start_time": "2024-05-21T05:52:14.588405Z"
    }
   },
   "cell_type": "code",
   "source": [
    "orbits[0].ref_interleaved_circuits[0].draw(\"mpl\")"
   ],
   "id": "ad9e6e87a5e49d32",
   "execution_count": 8,
   "outputs": []
  },
  {
   "metadata": {
    "ExecuteTime": {
     "end_time": "2024-05-21T05:53:00.615240Z",
     "start_time": "2024-05-21T05:53:00.546550Z"
    }
   },
   "cell_type": "code",
   "source": "orbits[0].run_circuits[0].draw(\"mpl\")",
   "id": "3635bc4d78d30e01",
   "execution_count": 13,
   "outputs": []
  },
  {
   "metadata": {
    "ExecuteTime": {
     "end_time": "2024-05-21T05:53:10.065821Z",
     "start_time": "2024-05-21T05:53:09.817425Z"
    }
   },
   "cell_type": "code",
   "source": [
    "orbits[0].transpiled_circuits[0].draw(\"mpl\")"
   ],
   "id": "11195bb20ba6cf37",
   "execution_count": 14,
   "outputs": []
  },
  {
   "metadata": {
    "ExecuteTime": {
     "end_time": "2024-05-21T05:53:52.168634Z",
     "start_time": "2024-05-21T05:53:52.007540Z"
    }
   },
   "cell_type": "code",
   "source": [
    "Operator(\n",
    "    orbits[3]\n",
    "    .transpiled_circuits[0]\n",
    "    .assign_parameters(\n",
    "        np.pi * np.array([0.0, 0.0, 0.5, 0.5, -0.5, 0.5, -0.5]), inplace=False\n",
    "    )\n",
    "    .remove_final_measurements(inplace=False)\n",
    ").draw(\"latex\")"
   ],
   "id": "5154a785e6e9757e",
   "execution_count": 17,
   "outputs": []
  },
  {
   "metadata": {
    "ExecuteTime": {
     "end_time": "2024-05-03T09:11:41.044564Z",
     "start_time": "2024-05-03T09:11:41.018107Z"
    }
   },
   "cell_type": "code",
   "source": [
    "exp = InterleavedRB(\n",
    "    q_env.target.gate, q_env.physical_target_qubits, lengths=[2, 3, 4], num_samples=2\n",
    ")"
   ],
   "id": "6a06911e59203775",
   "execution_count": 11,
   "outputs": []
  },
  {
   "metadata": {
    "ExecuteTime": {
     "end_time": "2024-05-03T09:12:07.254795Z",
     "start_time": "2024-05-03T09:12:07.177016Z"
    }
   },
   "cell_type": "code",
   "source": [
    "exp.circuits()[7].draw(\"mpl\")"
   ],
   "id": "959f7c02fbb20df4",
   "execution_count": 18,
   "outputs": []
  },
  {
   "metadata": {
    "ExecuteTime": {
     "end_time": "2024-05-03T06:45:17.925855Z",
     "start_time": "2024-05-03T06:45:17.923392Z"
    }
   },
   "cell_type": "code",
   "source": [],
   "id": "643096e1f3bba9f2",
   "execution_count": 45,
   "outputs": []
  },
  {
   "metadata": {
    "ExecuteTime": {
     "end_time": "2024-05-03T06:45:47.364053Z",
     "start_time": "2024-05-03T06:45:47.082156Z"
    }
   },
   "cell_type": "code",
   "source": [
    "circ.draw(\"mpl\")"
   ],
   "id": "88cd7c9ef39e86d2",
   "execution_count": 49,
   "outputs": []
  },
  {
   "metadata": {
    "ExecuteTime": {
     "end_time": "2024-05-09T08:41:28.049342Z",
     "start_time": "2024-05-09T08:41:27.990747Z"
    }
   },
   "cell_type": "code",
   "source": "plt.plot(orbits[2].fidelities)",
   "id": "1805d93c69f0d295",
   "execution_count": 8,
   "outputs": []
  },
  {
   "metadata": {},
   "cell_type": "code",
   "execution_count": null,
   "source": "",
   "id": "82658ead5cd03335",
   "outputs": []
  }
 ],
 "metadata": {
  "kernelspec": {
   "display_name": "Python 3",
   "language": "python",
   "name": "python3"
  },
  "language_info": {
   "codemirror_mode": {
    "name": "ipython",
    "version": 2
   },
   "file_extension": ".py",
   "mimetype": "text/x-python",
   "name": "python",
   "nbconvert_exporter": "python",
   "pygments_lexer": "ipython2",
   "version": "2.7.6"
  }
 },
 "nbformat": 4,
 "nbformat_minor": 5
}
