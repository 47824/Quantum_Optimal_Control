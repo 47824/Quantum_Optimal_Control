{
 "cells": [
  {
   "cell_type": "code",
   "execution_count": 1,
   "metadata": {
    "ExecuteTime": {
     "end_time": "2024-02-21T10:58:13.616402Z",
     "start_time": "2024-02-21T10:58:07.087630Z"
    }
   },
   "outputs": [
    {
     "name": "stderr",
     "output_type": "stream",
     "text": [
      "/Users/arthurostrauss/anaconda3/envs/rl_qoc_v1/lib/python3.11/site-packages/qiskit_dynamics/dispatch/backends/jax.py:34: UserWarning: The functionality in the perturbation module of Qiskit Dynamics requires a JAX version <= 0.4.6, due to a bug in JAX versions > 0.4.6. For versions 0.4.4, 0.4.5, and 0.4.6, using the perturbation module functionality requires setting os.environ['JAX_JIT_PJIT_API_MERGE'] = '0' before importing JAX or Dynamics.\n",
      "  warnings.warn(\n"
     ]
    },
    {
     "name": "stdout",
     "output_type": "stream",
     "text": [
      "Circuit context global phase: π/2\n",
      "                                           ┌───┐                              »\n",
      "      q_1 -> 0 ────────────────────────────┤ X ├──────────────────────────────»\n",
      "               ┌─────────┐┌────┐┌─────────┐└─┬─┘                              »\n",
      "      q_0 -> 1 ┤ Rz(π/2) ├┤ √X ├┤ Rz(π/2) ├──■────■───────────────────■────■──»\n",
      "               └─────────┘└────┘└─────────┘       │                   │  ┌─┴─┐»\n",
      "      q_4 -> 2 ───────────────────────────────────┼───────────────────┼──┤ X ├»\n",
      "                                                ┌─┴─┐┌───┐     ┌───┐┌─┴─┐└───┘»\n",
      "      q_2 -> 3 ─────────────────────────────────┤ X ├┤ X ├──■──┤ X ├┤ X ├─────»\n",
      "                                                └───┘└─┬─┘  │  └─┬─┘└───┘     »\n",
      "ancilla_0 -> 4 ────────────────────────────────────────┼────┼────┼────────────»\n",
      "                                                       │  ┌─┴─┐  │            »\n",
      "      q_3 -> 5 ────────────────────────────────────────■──┤ X ├──■────────────»\n",
      "                                                          └───┘               »\n",
      "ancilla_1 -> 6 ───────────────────────────────────────────────────────────────»\n",
      "                                                                              »\n",
      "«                                           \n",
      "«      q_1 -> 0 ────────────────────────────\n",
      "«               ┌─────────┐┌────┐┌─────────┐\n",
      "«      q_0 -> 1 ┤ Rz(π/2) ├┤ √X ├┤ Rz(π/2) ├\n",
      "«               └─────────┘└────┘└─────────┘\n",
      "«      q_4 -> 2 ────────────────────────────\n",
      "«                                           \n",
      "«      q_2 -> 3 ────────────────────────────\n",
      "«                                           \n",
      "«ancilla_0 -> 4 ────────────────────────────\n",
      "«                                           \n",
      "«      q_3 -> 5 ────────────────────────────\n",
      "«                                           \n",
      "«ancilla_1 -> 6 ────────────────────────────\n",
      "«                                           \n"
     ]
    }
   ],
   "source": [
    "from template_configurations.qiskit.gate_level import (\n",
    "    q_env_config as gate_q_env_config,\n",
    "    circuit_context,\n",
    ")"
   ]
  },
  {
   "cell_type": "code",
   "execution_count": 2,
   "metadata": {
    "ExecuteTime": {
     "end_time": "2024-02-21T10:58:13.619974Z",
     "start_time": "2024-02-21T10:58:13.615317Z"
    }
   },
   "outputs": [],
   "source": [
    "from quantumenvironment import QuantumEnvironment\n",
    "from context_aware_quantum_environment import ContextAwareQuantumEnvironment\n",
    "from gymnasium.wrappers import RescaleAction, ClipAction"
   ]
  },
  {
   "cell_type": "code",
   "execution_count": 3,
   "metadata": {
    "ExecuteTime": {
     "end_time": "2024-02-21T10:58:13.876373Z",
     "start_time": "2024-02-21T10:58:13.625204Z"
    }
   },
   "outputs": [],
   "source": [
    "q_env = QuantumEnvironment(gate_q_env_config)\n",
    "# from qiskit.primitives import Estimator\n",
    "\n",
    "# q_env = ContextAwareQuantumEnvironment(\n",
    "#     gate_q_env_config, circuit_context, training_steps_per_gate=250\n",
    "# )\n",
    "# q_env.estimator = Estimator()\n",
    "rescaled_env = RescaleAction(ClipAction(q_env), -1.0, 1.0)"
   ]
  },
  {
   "cell_type": "code",
   "outputs": [
    {
     "data": {
      "text/plain": "<Figure size 291.506x117.056 with 1 Axes>",
      "image/png": "[encoded data removed]"
     },
     "execution_count": 4,
     "metadata": {},
     "output_type": "execute_result"
    }
   ],
   "source": [
    "q_env.circuit_truncations[0].draw(\"mpl\")"
   ],
   "metadata": {
    "collapsed": false,
    "ExecuteTime": {
     "end_time": "2024-02-21T10:58:14.037072Z",
     "start_time": "2024-02-21T10:58:13.874544Z"
    }
   },
   "execution_count": 4
  },
  {
   "cell_type": "code",
   "outputs": [
    {
     "data": {
      "text/plain": "<Figure size 271.4x271.4 with 1 Axes>",
      "image/png": "[encoded data removed]"
     },
     "execution_count": 5,
     "metadata": {},
     "output_type": "execute_result"
    }
   ],
   "source": [
    "from qiskit.visualization import plot_gate_map\n",
    "\n",
    "plot_gate_map(q_env.backend)"
   ],
   "metadata": {
    "collapsed": false,
    "ExecuteTime": {
     "end_time": "2024-02-21T10:58:14.375930Z",
     "start_time": "2024-02-21T10:58:14.038842Z"
    }
   },
   "execution_count": 5
  },
  {
   "cell_type": "code",
   "execution_count": 6,
   "metadata": {
    "ExecuteTime": {
     "end_time": "2024-02-21T10:58:14.387551Z",
     "start_time": "2024-02-21T10:58:14.380986Z"
    }
   },
   "outputs": [],
   "source": [
    "import yaml\n",
    "\n",
    "with open(\n",
    "        \"/Users/arthurostrauss/Library/CloudStorage/OneDrive-NationalUniversityofSingapore/Coding_projects/Quantum_Optimal_Control/template_configurations/agent_config.yaml\",\n",
    "        \"r\",\n",
    ") as f:\n",
    "    agent_config = yaml.safe_load(f)"
   ]
  },
  {
   "cell_type": "code",
   "execution_count": 7,
   "metadata": {
    "ExecuteTime": {
     "end_time": "2024-02-21T10:58:14.643243Z",
     "start_time": "2024-02-21T10:58:14.387617Z"
    }
   },
   "outputs": [],
   "source": [
    "from ppo import CustomPPO\n",
    "\n",
    "ppo_agent = CustomPPO(agent_config, rescaled_env)"
   ]
  },
  {
   "cell_type": "code",
   "execution_count": 8,
   "metadata": {},
   "outputs": [
    {
     "name": "stderr",
     "output_type": "stream",
     "text": [
      "/Users/arthurostrauss/anaconda3/envs/rl_qoc_v1/lib/python3.11/site-packages/gymnasium/core.py:311: UserWarning: \u001B[33mWARN: env.circuit_fidelity_history to get variables from other wrappers is deprecated and will be removed in v1.0, to get this variable you can do `env.unwrapped.circuit_fidelity_history` for environment variables or `env.get_wrapper_attr('circuit_fidelity_history')` that will search the reminding wrappers.\u001B[0m\n",
      "  logger.warn(\n",
      " 64%|██████▍   | 320/500 [01:59<01:02,  2.87it/s]"
     ]
    },
    {
     "name": "stdout",
     "output_type": "stream",
     "text": [
      "Average gate fidelity of last gate: 0.9913291471017026\n",
      "Starting benchmarking...\n",
      "Starting simulation benchmark...\n"
     ]
    },
    {
     "name": "stderr",
     "output_type": "stream",
     "text": [
      "/Users/arthurostrauss/anaconda3/envs/rl_qoc_v1/lib/python3.11/site-packages/gymnasium/core.py:311: UserWarning: \u001B[33mWARN: env.circuit_fidelity_history to get variables from other wrappers is deprecated and will be removed in v1.0, to get this variable you can do `env.unwrapped.circuit_fidelity_history` for environment variables or `env.get_wrapper_attr('circuit_fidelity_history')` that will search the reminding wrappers.\u001B[0m\n",
      "  logger.warn(\n",
      " 64%|██████▍   | 321/500 [02:00<01:10,  2.55it/s]"
     ]
    },
    {
     "name": "stdout",
     "output_type": "stream",
     "text": [
      "Avg gate fidelity: 0.991324533582949\n",
      "Finished simulation benchmark\n",
      "Finished benchmarking\n",
      "Sending Estimator job...\n",
      "SparsePauliOp(['I', 'X'],\n",
      "              coeffs=[0.25+0.j, 0.25+0.j])\n",
      "Finished Estimator job\n",
      "mean tensor([-0.5482,  0.5421, -0.4766])\n",
      "sigma tensor([0.0154, 0.0158, 0.0163])\n",
      "DFE Rewards Mean: 0.4964230655240889\n",
      "DFE Rewards standard dev 0.00561916358814367\n",
      "Returns Mean: 0.6860807\n",
      "Returns standard dev 0.011117635\n",
      "Advantages Mean: -0.0045334343\n",
      "Advantages standard dev 0.011117635\n",
      "Average gate fidelity of last gate: 0.991324533582949\n",
      "Starting benchmarking...\n",
      "Starting simulation benchmark...\n"
     ]
    },
    {
     "name": "stderr",
     "output_type": "stream",
     "text": [
      "/Users/arthurostrauss/anaconda3/envs/rl_qoc_v1/lib/python3.11/site-packages/gymnasium/core.py:311: UserWarning: \u001B[33mWARN: env.circuit_fidelity_history to get variables from other wrappers is deprecated and will be removed in v1.0, to get this variable you can do `env.unwrapped.circuit_fidelity_history` for environment variables or `env.get_wrapper_attr('circuit_fidelity_history')` that will search the reminding wrappers.\u001B[0m\n",
      "  logger.warn(\n",
      " 64%|██████▍   | 322/500 [02:00<01:05,  2.72it/s]"
     ]
    },
    {
     "name": "stdout",
     "output_type": "stream",
     "text": [
      "Avg gate fidelity: 0.9777755993116892\n",
      "Finished simulation benchmark\n",
      "Finished benchmarking\n",
      "Sending Estimator job...\n",
      "SparsePauliOp(['I', 'Z'],\n",
      "              coeffs=[0.25+0.j, 0.25+0.j])\n",
      "Finished Estimator job\n",
      "mean tensor([-0.5913,  0.5615, -0.5168])\n",
      "sigma tensor([0.0166, 0.0179, 0.0125])\n",
      "DFE Rewards Mean: 0.48887019104343155\n",
      "DFE Rewards standard dev 0.010857949059332428\n",
      "Returns Mean: 0.6713567\n",
      "Returns standard dev 0.021199875\n",
      "Advantages Mean: 0.012691336\n",
      "Advantages standard dev 0.021199875\n",
      "Average gate fidelity of last gate: 0.9777755993116892\n",
      "Starting benchmarking...\n",
      "Starting simulation benchmark...\n"
     ]
    },
    {
     "name": "stderr",
     "output_type": "stream",
     "text": [
      "/Users/arthurostrauss/anaconda3/envs/rl_qoc_v1/lib/python3.11/site-packages/gymnasium/core.py:311: UserWarning: \u001B[33mWARN: env.circuit_fidelity_history to get variables from other wrappers is deprecated and will be removed in v1.0, to get this variable you can do `env.unwrapped.circuit_fidelity_history` for environment variables or `env.get_wrapper_attr('circuit_fidelity_history')` that will search the reminding wrappers.\u001B[0m\n",
      "  logger.warn(\n",
      " 65%|██████▍   | 323/500 [02:01<01:01,  2.86it/s]"
     ]
    },
    {
     "name": "stdout",
     "output_type": "stream",
     "text": [
      "Avg gate fidelity: 0.9922368944934766\n",
      "Finished simulation benchmark\n",
      "Finished benchmarking\n",
      "Sending Estimator job...\n",
      "SparsePauliOp(['I', 'X'],\n",
      "              coeffs=[0.25+0.j, 0.25+0.j])\n",
      "Finished Estimator job\n",
      "mean tensor([-0.5487,  0.5302, -0.4692])\n",
      "sigma tensor([0.0171, 0.0180, 0.0181])\n",
      "DFE Rewards Mean: 0.497563222817471\n",
      "DFE Rewards standard dev 0.004886646633952034\n",
      "Returns Mean: 0.68833244\n",
      "Returns standard dev 0.009686417\n",
      "Advantages Mean: -0.004591877\n",
      "Advantages standard dev 0.009686417\n",
      "Average gate fidelity of last gate: 0.9922368944934766\n",
      "Starting benchmarking...\n",
      "Starting simulation benchmark...\n"
     ]
    },
    {
     "name": "stderr",
     "output_type": "stream",
     "text": [
      "/Users/arthurostrauss/anaconda3/envs/rl_qoc_v1/lib/python3.11/site-packages/gymnasium/core.py:311: UserWarning: \u001B[33mWARN: env.circuit_fidelity_history to get variables from other wrappers is deprecated and will be removed in v1.0, to get this variable you can do `env.unwrapped.circuit_fidelity_history` for environment variables or `env.get_wrapper_attr('circuit_fidelity_history')` that will search the reminding wrappers.\u001B[0m\n",
      "  logger.warn(\n",
      " 65%|██████▍   | 324/500 [02:01<01:11,  2.46it/s]"
     ]
    },
    {
     "name": "stdout",
     "output_type": "stream",
     "text": [
      "Avg gate fidelity: 0.9933926855841423\n",
      "Finished simulation benchmark\n",
      "Finished benchmarking\n",
      "Sending Estimator job...\n",
      "SparsePauliOp(['I', 'X'],\n",
      "              coeffs=[0.25+0.j, 0.25+0.j])\n",
      "Finished Estimator job\n",
      "mean tensor([-0.5503,  0.5249, -0.4822])\n",
      "sigma tensor([0.0161, 0.0177, 0.0185])\n",
      "DFE Rewards Mean: 0.49880544353667877\n",
      "DFE Rewards standard dev 0.0041010927803441614\n",
      "Returns Mean: 0.6907942\n",
      "Returns standard dev 0.008158167\n",
      "Advantages Mean: 0.00047567696\n",
      "Advantages standard dev 0.008158168\n",
      "Average gate fidelity of last gate: 0.9933926855841423\n",
      "Starting benchmarking...\n",
      "Starting simulation benchmark...\n"
     ]
    },
    {
     "name": "stderr",
     "output_type": "stream",
     "text": [
      "/Users/arthurostrauss/anaconda3/envs/rl_qoc_v1/lib/python3.11/site-packages/gymnasium/core.py:311: UserWarning: \u001B[33mWARN: env.circuit_fidelity_history to get variables from other wrappers is deprecated and will be removed in v1.0, to get this variable you can do `env.unwrapped.circuit_fidelity_history` for environment variables or `env.get_wrapper_attr('circuit_fidelity_history')` that will search the reminding wrappers.\u001B[0m\n",
      "  logger.warn(\n",
      " 65%|██████▌   | 325/500 [02:01<01:06,  2.63it/s]"
     ]
    },
    {
     "name": "stdout",
     "output_type": "stream",
     "text": [
      "Avg gate fidelity: 0.9931047175911385\n",
      "Finished simulation benchmark\n",
      "Finished benchmarking\n",
      "Sending Estimator job...\n",
      "SparsePauliOp(['I', 'X'],\n",
      "              coeffs=[0.25+0.j, 0.25+0.j])\n",
      "Finished Estimator job\n",
      "mean tensor([-0.5499,  0.5239, -0.4911])\n",
      "sigma tensor([0.0166, 0.0162, 0.0186])\n",
      "DFE Rewards Mean: 0.49875590967018457\n",
      "DFE Rewards standard dev 0.003941783933683115\n",
      "Returns Mean: 0.69069296\n",
      "Returns standard dev 0.007854648\n",
      "Advantages Mean: -0.0002502799\n",
      "Advantages standard dev 0.007854648\n",
      "Average gate fidelity of last gate: 0.9931047175911385\n",
      "Starting benchmarking...\n",
      "Starting simulation benchmark...\n"
     ]
    },
    {
     "name": "stderr",
     "output_type": "stream",
     "text": [
      "/Users/arthurostrauss/anaconda3/envs/rl_qoc_v1/lib/python3.11/site-packages/gymnasium/core.py:311: UserWarning: \u001B[33mWARN: env.circuit_fidelity_history to get variables from other wrappers is deprecated and will be removed in v1.0, to get this variable you can do `env.unwrapped.circuit_fidelity_history` for environment variables or `env.get_wrapper_attr('circuit_fidelity_history')` that will search the reminding wrappers.\u001B[0m\n",
      "  logger.warn(\n",
      " 65%|██████▌   | 326/500 [02:02<01:02,  2.78it/s]"
     ]
    },
    {
     "name": "stdout",
     "output_type": "stream",
     "text": [
      "Avg gate fidelity: 0.9689992513734791\n",
      "Finished simulation benchmark\n",
      "Finished benchmarking\n",
      "Sending Estimator job...\n",
      "SparsePauliOp(['I', 'Y'],\n",
      "              coeffs=[ 0.25+0.j, -0.25+0.j])\n",
      "Finished Estimator job\n",
      "mean tensor([-0.4571,  0.4460, -0.3850])\n",
      "sigma tensor([0.0189, 0.0164, 0.0338])\n",
      "DFE Rewards Mean: 0.4931458487289969\n",
      "DFE Rewards standard dev 0.008289542225530546\n",
      "Returns Mean: 0.67966527\n",
      "Returns standard dev 0.01631243\n",
      "Advantages Mean: -0.044069476\n",
      "Advantages standard dev 0.01631243\n",
      "Average gate fidelity of last gate: 0.9689992513734791\n",
      "Starting benchmarking...\n",
      "Starting simulation benchmark...\n"
     ]
    },
    {
     "name": "stderr",
     "output_type": "stream",
     "text": [
      "/Users/arthurostrauss/anaconda3/envs/rl_qoc_v1/lib/python3.11/site-packages/gymnasium/core.py:311: UserWarning: \u001B[33mWARN: env.circuit_fidelity_history to get variables from other wrappers is deprecated and will be removed in v1.0, to get this variable you can do `env.unwrapped.circuit_fidelity_history` for environment variables or `env.get_wrapper_attr('circuit_fidelity_history')` that will search the reminding wrappers.\u001B[0m\n",
      "  logger.warn(\n",
      " 65%|██████▌   | 327/500 [02:02<00:59,  2.91it/s]"
     ]
    },
    {
     "name": "stdout",
     "output_type": "stream",
     "text": [
      "Avg gate fidelity: 0.9782490418881614\n",
      "Finished simulation benchmark\n",
      "Finished benchmarking\n",
      "Sending Estimator job...\n",
      "SparsePauliOp(['I', 'Z'],\n",
      "              coeffs=[0.25+0.j, 0.25+0.j])\n",
      "Finished Estimator job\n",
      "mean tensor([-0.5929,  0.5365, -0.5534])\n",
      "sigma tensor([0.0158, 0.0166, 0.0127])\n",
      "DFE Rewards Mean: 0.48713607529134473\n",
      "DFE Rewards standard dev 0.011998880425906244\n",
      "Returns Mean: 0.6680173\n",
      "Returns standard dev 0.02332788\n",
      "Advantages Mean: 0.046873793\n",
      "Advantages standard dev 0.023327878\n",
      "Average gate fidelity of last gate: 0.9782490418881614\n",
      "Starting benchmarking...\n",
      "Starting simulation benchmark...\n"
     ]
    },
    {
     "name": "stderr",
     "output_type": "stream",
     "text": [
      "/Users/arthurostrauss/anaconda3/envs/rl_qoc_v1/lib/python3.11/site-packages/gymnasium/core.py:311: UserWarning: \u001B[33mWARN: env.circuit_fidelity_history to get variables from other wrappers is deprecated and will be removed in v1.0, to get this variable you can do `env.unwrapped.circuit_fidelity_history` for environment variables or `env.get_wrapper_attr('circuit_fidelity_history')` that will search the reminding wrappers.\u001B[0m\n",
      "  logger.warn(\n",
      " 66%|██████▌   | 328/500 [02:03<01:08,  2.53it/s]"
     ]
    },
    {
     "name": "stdout",
     "output_type": "stream",
     "text": [
      "Avg gate fidelity: 0.9946240869757653\n",
      "Finished simulation benchmark\n",
      "Finished benchmarking\n",
      "Sending Estimator job...\n",
      "SparsePauliOp(['I', 'Y'],\n",
      "              coeffs=[0.25+0.j, 0.25+0.j])\n",
      "Finished Estimator job\n",
      "mean tensor([-0.5127,  0.4811, -0.4612])\n",
      "sigma tensor([0.0180, 0.0155, 0.0244])\n",
      "DFE Rewards Mean: 0.49889508414638345\n",
      "DFE Rewards standard dev 0.0036351769024297047\n",
      "Returns Mean: 0.69096607\n",
      "Returns standard dev 0.007244569\n",
      "Advantages Mean: -0.016829628\n",
      "Advantages standard dev 0.007244569\n",
      "Average gate fidelity of last gate: 0.9946240869757653\n",
      "Starting benchmarking...\n",
      "Starting simulation benchmark...\n"
     ]
    },
    {
     "name": "stderr",
     "output_type": "stream",
     "text": [
      "/Users/arthurostrauss/anaconda3/envs/rl_qoc_v1/lib/python3.11/site-packages/gymnasium/core.py:311: UserWarning: \u001B[33mWARN: env.circuit_fidelity_history to get variables from other wrappers is deprecated and will be removed in v1.0, to get this variable you can do `env.unwrapped.circuit_fidelity_history` for environment variables or `env.get_wrapper_attr('circuit_fidelity_history')` that will search the reminding wrappers.\u001B[0m\n",
      "  logger.warn(\n",
      " 66%|██████▌   | 329/500 [02:03<01:03,  2.70it/s]"
     ]
    },
    {
     "name": "stdout",
     "output_type": "stream",
     "text": [
      "Avg gate fidelity: 0.976151184641721\n",
      "Finished simulation benchmark\n",
      "Finished benchmarking\n",
      "Sending Estimator job...\n",
      "SparsePauliOp(['I', 'Y'],\n",
      "              coeffs=[ 0.25+0.j, -0.25+0.j])\n",
      "Finished Estimator job\n",
      "mean tensor([-0.4594,  0.4508, -0.4052])\n",
      "sigma tensor([0.0188, 0.0162, 0.0338])\n",
      "DFE Rewards Mean: 0.4944749836064847\n",
      "DFE Rewards standard dev 0.0071786990635118305\n",
      "Returns Mean: 0.68225825\n",
      "Returns standard dev 0.014165634\n",
      "Advantages Mean: -0.012702286\n",
      "Advantages standard dev 0.014165634\n",
      "Average gate fidelity of last gate: 0.976151184641721\n",
      "Starting benchmarking...\n",
      "Starting simulation benchmark...\n"
     ]
    },
    {
     "name": "stderr",
     "output_type": "stream",
     "text": [
      "/Users/arthurostrauss/anaconda3/envs/rl_qoc_v1/lib/python3.11/site-packages/gymnasium/core.py:311: UserWarning: \u001B[33mWARN: env.circuit_fidelity_history to get variables from other wrappers is deprecated and will be removed in v1.0, to get this variable you can do `env.unwrapped.circuit_fidelity_history` for environment variables or `env.get_wrapper_attr('circuit_fidelity_history')` that will search the reminding wrappers.\u001B[0m\n",
      "  logger.warn(\n",
      " 66%|██████▌   | 330/500 [02:03<00:59,  2.85it/s]"
     ]
    },
    {
     "name": "stdout",
     "output_type": "stream",
     "text": [
      "Avg gate fidelity: 0.9759167005495627\n",
      "Finished simulation benchmark\n",
      "Finished benchmarking\n",
      "Sending Estimator job...\n",
      "SparsePauliOp(['I', 'Y'],\n",
      "              coeffs=[ 0.25+0.j, -0.25+0.j])\n",
      "Finished Estimator job\n",
      "mean tensor([-0.4635,  0.4516, -0.4036])\n",
      "sigma tensor([0.0172, 0.0155, 0.0334])\n",
      "DFE Rewards Mean: 0.4948617235920142\n",
      "DFE Rewards standard dev 0.006877366043356328\n",
      "Returns Mean: 0.68301535\n",
      "Returns standard dev 0.013572102\n",
      "Advantages Mean: -0.0025707306\n",
      "Advantages standard dev 0.013572102\n",
      "Average gate fidelity of last gate: 0.9759167005495627\n",
      "Starting benchmarking...\n",
      "Starting simulation benchmark...\n"
     ]
    },
    {
     "name": "stderr",
     "output_type": "stream",
     "text": [
      "/Users/arthurostrauss/anaconda3/envs/rl_qoc_v1/lib/python3.11/site-packages/gymnasium/core.py:311: UserWarning: \u001B[33mWARN: env.circuit_fidelity_history to get variables from other wrappers is deprecated and will be removed in v1.0, to get this variable you can do `env.unwrapped.circuit_fidelity_history` for environment variables or `env.get_wrapper_attr('circuit_fidelity_history')` that will search the reminding wrappers.\u001B[0m\n",
      "  logger.warn(\n",
      " 66%|██████▌   | 331/500 [02:04<01:07,  2.51it/s]"
     ]
    },
    {
     "name": "stdout",
     "output_type": "stream",
     "text": [
      "Avg gate fidelity: 0.9767665930267848\n",
      "Finished simulation benchmark\n",
      "Finished benchmarking\n",
      "Sending Estimator job...\n",
      "SparsePauliOp(['I', 'Y'],\n",
      "              coeffs=[ 0.25+0.j, -0.25+0.j])\n",
      "Finished Estimator job\n",
      "mean tensor([-0.4636,  0.4568, -0.4010])\n",
      "sigma tensor([0.0171, 0.0144, 0.0324])\n",
      "DFE Rewards Mean: 0.4955028784438509\n",
      "DFE Rewards standard dev 0.007112604964441681\n",
      "Returns Mean: 0.6842923\n",
      "Returns standard dev 0.014081356\n",
      "Advantages Mean: 0.0034118178\n",
      "Advantages standard dev 0.014081356\n",
      "Average gate fidelity of last gate: 0.9767665930267848\n",
      "Starting benchmarking...\n",
      "Starting simulation benchmark...\n"
     ]
    },
    {
     "name": "stderr",
     "output_type": "stream",
     "text": [
      "/Users/arthurostrauss/anaconda3/envs/rl_qoc_v1/lib/python3.11/site-packages/gymnasium/core.py:311: UserWarning: \u001B[33mWARN: env.circuit_fidelity_history to get variables from other wrappers is deprecated and will be removed in v1.0, to get this variable you can do `env.unwrapped.circuit_fidelity_history` for environment variables or `env.get_wrapper_attr('circuit_fidelity_history')` that will search the reminding wrappers.\u001B[0m\n",
      "  logger.warn(\n",
      " 66%|██████▋   | 332/500 [02:04<01:02,  2.69it/s]"
     ]
    },
    {
     "name": "stdout",
     "output_type": "stream",
     "text": [
      "Avg gate fidelity: 0.99429758947956\n",
      "Finished simulation benchmark\n",
      "Finished benchmarking\n",
      "Sending Estimator job...\n",
      "SparsePauliOp(['I', 'X'],\n",
      "              coeffs=[0.25+0.j, 0.25+0.j])\n",
      "Finished Estimator job\n",
      "mean tensor([-0.5505,  0.5059, -0.4993])\n",
      "sigma tensor([0.0170, 0.0155, 0.0193])\n",
      "DFE Rewards Mean: 0.4990357212658596\n",
      "DFE Rewards standard dev 0.0029822789301602913\n",
      "Returns Mean: 0.69123805\n",
      "Returns standard dev 0.0059132515\n",
      "Advantages Mean: 0.049794726\n",
      "Advantages standard dev 0.0059132515\n",
      "Average gate fidelity of last gate: 0.99429758947956\n",
      "Starting benchmarking...\n",
      "Starting simulation benchmark...\n"
     ]
    },
    {
     "name": "stderr",
     "output_type": "stream",
     "text": [
      "/Users/arthurostrauss/anaconda3/envs/rl_qoc_v1/lib/python3.11/site-packages/gymnasium/core.py:311: UserWarning: \u001B[33mWARN: env.circuit_fidelity_history to get variables from other wrappers is deprecated and will be removed in v1.0, to get this variable you can do `env.unwrapped.circuit_fidelity_history` for environment variables or `env.get_wrapper_attr('circuit_fidelity_history')` that will search the reminding wrappers.\u001B[0m\n",
      "  logger.warn(\n",
      " 67%|██████▋   | 333/500 [02:04<00:58,  2.84it/s]"
     ]
    },
    {
     "name": "stdout",
     "output_type": "stream",
     "text": [
      "Avg gate fidelity: 0.9930641723705806\n",
      "Finished simulation benchmark\n",
      "Finished benchmarking\n",
      "Sending Estimator job...\n",
      "SparsePauliOp(['I', 'Y'],\n",
      "              coeffs=[0.25+0.j, 0.25+0.j])\n",
      "Finished Estimator job\n",
      "mean tensor([-0.5149,  0.4804, -0.4529])\n",
      "sigma tensor([0.0170, 0.0136, 0.0236])\n",
      "DFE Rewards Mean: 0.49848875164146256\n",
      "DFE Rewards standard dev 0.0036948882900145505\n",
      "Returns Mean: 0.69015634\n",
      "Returns standard dev 0.0073611774\n",
      "Advantages Mean: -0.024393428\n",
      "Advantages standard dev 0.0073611774\n",
      "Average gate fidelity of last gate: 0.9930641723705806\n",
      "Starting benchmarking...\n",
      "Starting simulation benchmark...\n"
     ]
    },
    {
     "name": "stderr",
     "output_type": "stream",
     "text": [
      " 67%|██████▋   | 333/500 [02:05<01:02,  2.66it/s]"
     ]
    },
    {
     "name": "stdout",
     "output_type": "stream",
     "text": [
      "Avg gate fidelity: 0.9826215182406843\n",
      "Finished simulation benchmark\n",
      "Finished benchmarking\n",
      "Sending Estimator job...\n",
      "SparsePauliOp(['I', 'Z'],\n",
      "              coeffs=[0.25+0.j, 0.25+0.j])\n",
      "Finished Estimator job\n"
     ]
    },
    {
     "name": "stderr",
     "output_type": "stream",
     "text": [
      "\n"
     ]
    },
    {
     "ename": "KeyboardInterrupt",
     "evalue": "",
     "output_type": "error",
     "traceback": [
      "\u001B[0;31m---------------------------------------------------------------------------\u001B[0m",
      "\u001B[0;31mKeyboardInterrupt\u001B[0m                         Traceback (most recent call last)",
      "Cell \u001B[0;32mIn[8], line 1\u001B[0m\n\u001B[0;32m----> 1\u001B[0m ppo_agent\u001B[38;5;241m.\u001B[39mtrain(total_updates\u001B[38;5;241m=\u001B[39m\u001B[38;5;241m500\u001B[39m, print_debug\u001B[38;5;241m=\u001B[39m\u001B[38;5;28;01mTrue\u001B[39;00m, num_prints\u001B[38;5;241m=\u001B[39m\u001B[38;5;241m40\u001B[39m)\n",
      "File \u001B[0;32m~/Library/CloudStorage/OneDrive-NationalUniversityofSingapore/Coding_projects/Quantum_Optimal_Control/ppo.py:303\u001B[0m, in \u001B[0;36mCustomPPO.train\u001B[0;34m(self, total_updates, print_debug, num_prints, clear_history)\u001B[0m\n\u001B[1;32m    301\u001B[0m mb_inds \u001B[38;5;241m=\u001B[39m b_inds[start:end]\n\u001B[1;32m    302\u001B[0m new_mean, new_sigma, new_value \u001B[38;5;241m=\u001B[39m \u001B[38;5;28mself\u001B[39m\u001B[38;5;241m.\u001B[39magent(b_obs[mb_inds])\n\u001B[0;32m--> 303\u001B[0m new_dist \u001B[38;5;241m=\u001B[39m Normal(new_mean, new_sigma)\n\u001B[1;32m    304\u001B[0m new_logprob, entropy \u001B[38;5;241m=\u001B[39m new_dist\u001B[38;5;241m.\u001B[39mlog_prob(b_actions[mb_inds])\u001B[38;5;241m.\u001B[39msum(\n\u001B[1;32m    305\u001B[0m     \u001B[38;5;241m1\u001B[39m\n\u001B[1;32m    306\u001B[0m ), new_dist\u001B[38;5;241m.\u001B[39mentropy()\u001B[38;5;241m.\u001B[39msum(\u001B[38;5;241m1\u001B[39m)\n\u001B[1;32m    307\u001B[0m logratio \u001B[38;5;241m=\u001B[39m new_logprob \u001B[38;5;241m-\u001B[39m b_logprobs[mb_inds]\n",
      "File \u001B[0;32m~/anaconda3/envs/rl_qoc_v1/lib/python3.11/site-packages/torch/distributions/normal.py:56\u001B[0m, in \u001B[0;36mNormal.__init__\u001B[0;34m(self, loc, scale, validate_args)\u001B[0m\n\u001B[1;32m     54\u001B[0m \u001B[38;5;28;01melse\u001B[39;00m:\n\u001B[1;32m     55\u001B[0m     batch_shape \u001B[38;5;241m=\u001B[39m \u001B[38;5;28mself\u001B[39m\u001B[38;5;241m.\u001B[39mloc\u001B[38;5;241m.\u001B[39msize()\n\u001B[0;32m---> 56\u001B[0m \u001B[38;5;28msuper\u001B[39m()\u001B[38;5;241m.\u001B[39m\u001B[38;5;21m__init__\u001B[39m(batch_shape, validate_args\u001B[38;5;241m=\u001B[39mvalidate_args)\n",
      "File \u001B[0;32m~/anaconda3/envs/rl_qoc_v1/lib/python3.11/site-packages/torch/distributions/distribution.py:65\u001B[0m, in \u001B[0;36mDistribution.__init__\u001B[0;34m(self, batch_shape, event_shape, validate_args)\u001B[0m\n\u001B[1;32m     61\u001B[0m \u001B[38;5;28;01mif\u001B[39;00m param \u001B[38;5;129;01mnot\u001B[39;00m \u001B[38;5;129;01min\u001B[39;00m \u001B[38;5;28mself\u001B[39m\u001B[38;5;241m.\u001B[39m\u001B[38;5;18m__dict__\u001B[39m \u001B[38;5;129;01mand\u001B[39;00m \u001B[38;5;28misinstance\u001B[39m(\n\u001B[1;32m     62\u001B[0m     \u001B[38;5;28mgetattr\u001B[39m(\u001B[38;5;28mtype\u001B[39m(\u001B[38;5;28mself\u001B[39m), param), lazy_property\n\u001B[1;32m     63\u001B[0m ):\n\u001B[1;32m     64\u001B[0m     \u001B[38;5;28;01mcontinue\u001B[39;00m  \u001B[38;5;66;03m# skip checking lazily-constructed args\u001B[39;00m\n\u001B[0;32m---> 65\u001B[0m value \u001B[38;5;241m=\u001B[39m \u001B[38;5;28mgetattr\u001B[39m(\u001B[38;5;28mself\u001B[39m, param)\n\u001B[1;32m     66\u001B[0m valid \u001B[38;5;241m=\u001B[39m constraint\u001B[38;5;241m.\u001B[39mcheck(value)\n\u001B[1;32m     67\u001B[0m \u001B[38;5;28;01mif\u001B[39;00m \u001B[38;5;129;01mnot\u001B[39;00m valid\u001B[38;5;241m.\u001B[39mall():\n",
      "\u001B[0;31mKeyboardInterrupt\u001B[0m: "
     ]
    }
   ],
   "source": [
    "ppo_agent.train(total_updates=500, print_debug=True, num_prints=40)"
   ]
  },
  {
   "cell_type": "code",
   "execution_count": 9,
   "metadata": {
    "ExecuteTime": {
     "end_time": "2024-02-21T11:00:24.788356Z",
     "start_time": "2024-02-21T11:00:24.682655Z"
    }
   },
   "outputs": [
    {
     "data": {
      "text/plain": "<Figure size 640x480 with 1 Axes>",
      "image/png": "[encoded data removed]"
     },
     "metadata": {},
     "output_type": "display_data"
    }
   ],
   "source": [
    "import numpy as np\n",
    "import matplotlib.pyplot as plt\n",
    "\n",
    "reward_history = np.array(q_env.reward_history)\n",
    "mean_rewards = np.mean(reward_history, axis=-1)\n",
    "max_mean = int(np.max(mean_rewards) * 1e4) / 1e4\n",
    "\n",
    "plt.plot(mean_rewards, label=f\"Mean Batch Rewards, max: {max_mean}\")\n",
    "plt.plot(q_env.avg_fidelity_history, label=\"Fidelity\")\n",
    "plt.xlabel(\"Updates\")\n",
    "plt.ylabel(\"Reward\")\n",
    "plt.title(\"CX Learning Curve\")\n",
    "plt.legend()\n",
    "plt.show()"
   ]
  },
  {
   "cell_type": "code",
   "outputs": [
    {
     "data": {
      "text/plain": "array([0.98577215, 0.98269161, 0.9770032 , 1.00381589, 0.99464816,\n       0.99614199, 0.99388827, 0.9908762 , 1.00032835, 0.96701994,\n       1.0012544 , 0.99035181, 0.99011019, 0.99099242, 0.98197096,\n       0.99724645, 0.98640712, 0.9975815 , 0.99622847, 0.96367083,\n       0.98645437, 0.9745653 , 0.99259415, 0.99695726, 1.0083116 ,\n       0.99515677, 1.00002689, 0.99713967, 1.00542447, 0.96345547,\n       1.01316043, 0.97839209, 1.01126469, 0.99474219, 0.97356848,\n       0.98854963, 0.99873406, 0.98964519, 0.99328275, 0.96579673,\n       0.99297023, 0.99002227, 0.98757819, 0.98402543, 0.97717181,\n       0.98910435, 0.97219712, 1.00254252, 1.00062845, 1.00911881,\n       0.99898141, 0.98583234, 0.99821034, 0.99831515, 0.97257491,\n       0.99818424, 0.98088215, 0.9538733 , 0.98843683, 0.99766243,\n       0.984397  , 0.9984744 , 1.00886698, 0.98966858, 0.95525611,\n       0.9862518 , 0.97311731, 0.99196584, 1.00047605, 0.99574317,\n       0.99634192, 0.9693134 , 0.97981102, 1.0078596 , 1.00125395,\n       0.98010506, 0.99398497, 0.99967841, 0.9920163 , 1.00378473,\n       0.9965784 , 0.99435981, 0.98776239, 0.98945188, 1.00039366,\n       0.93269822, 1.00865058, 0.97964832, 0.98997785, 0.99691554,\n       0.98136536, 0.9750258 , 0.99025604, 0.9981922 , 0.99994509,\n       0.98714198, 0.99182109, 0.98477011, 0.97403475, 0.97662356,\n       0.99500996, 0.99730497, 0.98533025, 0.98408559, 1.01170115,\n       0.99493651, 0.98388102, 0.9980714 , 1.01031855, 1.0048157 ,\n       0.98843834, 0.99197081, 1.00123372, 0.96719831, 0.98076583,\n       0.96989381, 0.98794176, 0.984544  , 1.00169078, 0.9924446 ,\n       0.96668083, 0.99733859, 1.00650511, 0.96239015, 0.98724401,\n       0.99965949, 0.99397679, 0.99342858, 0.99794924, 0.98687968,\n       0.98988003, 0.99911926, 0.9947645 , 1.00627486, 0.99660168,\n       0.99289325, 0.98866451, 0.95237692, 0.97778594, 0.99311521,\n       0.99091345, 0.95413311, 1.00860034, 1.01466383, 0.99677911,\n       1.00330186, 0.99570575, 1.00062675, 1.00714516, 0.98330683,\n       0.96692606, 0.98207734, 0.98774383, 0.98723538, 1.00342938,\n       0.98698211, 0.98955268, 1.00526178, 0.98691853, 0.99723548,\n       0.98886418, 0.99469385, 0.99829317, 1.00756085, 0.97883285,\n       0.99993155, 1.00327099, 1.00455361, 0.99302136, 0.99592479,\n       0.99745243, 0.99110212, 0.96363873, 0.98056623, 1.00491874,\n       1.00308691, 0.98453354, 0.99306456, 0.98786591, 0.95645033,\n       0.97172326, 0.97281115, 0.99234011, 0.9967331 , 0.99756176,\n       0.9836047 , 0.96902655, 0.98672495, 0.98122626, 0.98308257,\n       0.99319493, 0.98366791, 0.99208496, 1.00178311, 1.00190935,\n       0.95872295, 0.95677763, 0.99359377, 1.00312579, 1.00233438,\n       0.97442546, 0.98910602, 0.99117392, 0.99903982, 0.97761685,\n       0.98474232, 0.98064103, 1.00249482, 0.9829772 , 0.98931782,\n       0.99589497, 0.98081565, 0.96136901, 0.99261694, 0.97861834,\n       0.97503526, 0.99078419, 0.97228338, 0.98623887, 0.98212575,\n       0.98025774, 0.95940657, 0.9729739 , 0.98489374, 0.97451744,\n       0.97113672, 0.98224595, 1.00838283, 1.01332228, 0.99996186,\n       0.99182418, 0.9932192 , 0.9753251 , 0.98924963, 1.00214323,\n       1.02435741, 0.99298072, 0.99438628, 0.97743816, 0.98769609,\n       1.00545392, 1.00311694, 0.96437037, 0.99286824, 0.99378556,\n       1.00623723, 0.99454322, 0.98916384, 1.01385527, 0.99246687,\n       1.00485323, 1.00217161, 1.00073773, 0.97652563, 0.99649478,\n       0.9994924 ])"
     },
     "execution_count": 12,
     "metadata": {},
     "output_type": "execute_result"
    }
   ],
   "source": [
    "q_env.reward_history[-1]"
   ],
   "metadata": {
    "collapsed": false,
    "ExecuteTime": {
     "end_time": "2024-02-11T16:43:50.980553Z",
     "start_time": "2024-02-11T16:43:50.972263Z"
    }
   },
   "execution_count": 12
  },
  {
   "cell_type": "code",
   "outputs": [],
   "source": [],
   "metadata": {
    "collapsed": false
   }
  }
 ],
 "metadata": {
  "kernelspec": {
   "display_name": "cqt_env",
   "language": "python",
   "name": "python3"
  },
  "language_info": {
   "codemirror_mode": {
    "name": "ipython",
    "version": 3
   },
   "file_extension": ".py",
   "mimetype": "text/x-python",
   "name": "python",
   "nbconvert_exporter": "python",
   "pygments_lexer": "ipython3",
   "version": "3.9.11"
  }
 },
 "nbformat": 4,
 "nbformat_minor": 2
}
