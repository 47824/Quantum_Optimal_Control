{
 "cells": [
  {
   "cell_type": "code",
   "execution_count": 1,
   "metadata": {
    "ExecuteTime": {
     "end_time": "2024-03-10T11:06:58.658137Z",
     "start_time": "2024-03-10T11:06:49.851856Z"
    }
   },
   "outputs": [
    {
     "name": "stderr",
     "output_type": "stream",
     "text": [
      "/Users/arthurostrauss/anaconda3/envs/rl_qoc_v1/lib/python3.11/site-packages/qiskit_dynamics/dispatch/backends/jax.py:34: UserWarning: The functionality in the perturbation module of Qiskit Dynamics requires a JAX version <= 0.4.6, due to a bug in JAX versions > 0.4.6. For versions 0.4.4, 0.4.5, and 0.4.6, using the perturbation module functionality requires setting os.environ['JAX_JIT_PJIT_API_MERGE'] = '0' before importing JAX or Dynamics.\n",
      "  warnings.warn(\n"
     ]
    },
    {
     "name": "stdout",
     "output_type": "stream",
     "text": [
      "{'optimization_level': 3, 'resilience_level': None, 'max_execution_time': None, 'execution': {'init_qubits': True, 'rep_delay': None}, 'resilience': {'measure_mitigation': None, 'measure_noise_learning': {'num_randomizations': None, 'shots_per_randomization': None}, 'zne_mitigation': False, 'zne': {'noise_factors': None, 'extrapolator': None}, 'pec_mitigation': False, 'pec': {'max_overhead': None, 'noise_gain': None}, 'layer_noise_learning': {'max_layers_to_learn': None, 'shots_per_randomization': None, 'num_randomizations': None, 'layer_pair_depths': None}}, 'environment': {'log_level': 'WARNING', 'job_tags': None}, 'simulator': {'seed_simulator': 100, 'coupling_map': None, 'basis_gates': None}}\n",
      "Circuit context\n"
     ]
    },
    {
     "name": "stderr",
     "output_type": "stream",
     "text": [
      "/Users/arthurostrauss/Library/CloudStorage/OneDrive-NationalUniversityofSingapore/Coding_projects/Quantum_Optimal_Control/template_configurations/qiskit/gate_level/q_env_config.py:105: UserWarning: No backend was provided, State vector simulation will be used\n",
      "  warnings.warn(\"No backend was provided, State vector simulation will be used\")\n"
     ]
    },
    {
     "data": {
      "text/plain": "<Figure size 621.941x451.5 with 1 Axes>",
      "image/png": "[encoded data removed]"
     },
     "execution_count": 1,
     "metadata": {},
     "output_type": "execute_result"
    }
   ],
   "source": [
    "%matplotlib inline\n",
    "import matplotlib.pyplot as plt\n",
    "from template_configurations.qiskit.gate_level import (\n",
    "    q_env_config as gate_q_env_config,\n",
    "    circuit_context,\n",
    ")\n",
    "from quantumenvironment import QuantumEnvironment\n",
    "from context_aware_quantum_environment import ContextAwareQuantumEnvironment\n",
    "from gymnasium.wrappers import RescaleAction, ClipAction\n",
    "\n",
    "circuit_context.draw(\"mpl\")"
   ]
  },
  {
   "cell_type": "code",
   "outputs": [],
   "source": [
    "from qiskit.visualization import plot_gate_map, plot_circuit_layout\n",
    "\n",
    "if (\n",
    "        gate_q_env_config.backend_config.backend is not None\n",
    "        and circuit_context.layout is not None\n",
    "):\n",
    "    plot_circuit_layout(\n",
    "        circuit_context, gate_q_env_config.backend_config.backend, view=\"physical\"\n",
    "    )"
   ],
   "metadata": {
    "collapsed": false,
    "ExecuteTime": {
     "end_time": "2024-03-10T11:06:58.665495Z",
     "start_time": "2024-03-10T11:06:58.661305Z"
    }
   },
   "execution_count": 2
  },
  {
   "cell_type": "code",
   "outputs": [],
   "source": [
    "# gate_q_env_config.target[\"register\"] = [8, 11]"
   ],
   "metadata": {
    "collapsed": false,
    "ExecuteTime": {
     "end_time": "2024-03-10T11:06:58.669921Z",
     "start_time": "2024-03-10T11:06:58.667247Z"
    }
   },
   "execution_count": 3
  },
  {
   "cell_type": "code",
   "execution_count": 4,
   "metadata": {
    "ExecuteTime": {
     "end_time": "2024-03-10T11:06:58.691120Z",
     "start_time": "2024-03-10T11:06:58.672010Z"
    }
   },
   "outputs": [
    {
     "name": "stderr",
     "output_type": "stream",
     "text": [
      "/Users/arthurostrauss/Library/CloudStorage/OneDrive-NationalUniversityofSingapore/Coding_projects/Quantum_Optimal_Control/helper_functions.py:1699: UserWarning: No Backend was provided, using default values for dt, coupling_map, basis_gates and instruction_durations\n",
      "  warnings.warn(\n"
     ]
    }
   ],
   "source": [
    "use_context = False\n",
    "if use_context:\n",
    "    q_env = ContextAwareQuantumEnvironment(\n",
    "        gate_q_env_config, circuit_context, training_steps_per_gate=250\n",
    "    )\n",
    "else:\n",
    "    q_env = QuantumEnvironment(gate_q_env_config)\n",
    "rescaled_env = RescaleAction(ClipAction(q_env), -1.0, 1.0)"
   ]
  },
  {
   "cell_type": "code",
   "outputs": [
    {
     "data": {
      "text/plain": "<Figure size 291.506x117.056 with 1 Axes>",
      "image/png": "[encoded data removed]"
     },
     "execution_count": 5,
     "metadata": {},
     "output_type": "execute_result"
    }
   ],
   "source": [
    "q_env.circuit_truncations[0].draw(\"mpl\", style=\"iqp\")"
   ],
   "metadata": {
    "collapsed": false,
    "ExecuteTime": {
     "end_time": "2024-03-10T11:06:58.736241Z",
     "start_time": "2024-03-10T11:06:58.692023Z"
    }
   },
   "execution_count": 5
  },
  {
   "cell_type": "code",
   "outputs": [
    {
     "data": {
      "text/plain": "<Figure size 291.506x117.056 with 1 Axes>",
      "image/png": "[encoded data removed]"
     },
     "execution_count": 6,
     "metadata": {},
     "output_type": "execute_result"
    }
   ],
   "source": [
    "from qiskit import transpile\n",
    "\n",
    "circuit = transpile(q_env.circuit_truncations[0], q_env.backend, optimization_level=1)\n",
    "circuit.draw(\"mpl\")"
   ],
   "metadata": {
    "collapsed": false,
    "ExecuteTime": {
     "end_time": "2024-03-10T11:06:58.803271Z",
     "start_time": "2024-03-10T11:06:58.737252Z"
    }
   },
   "execution_count": 6
  },
  {
   "cell_type": "code",
   "outputs": [
    {
     "data": {
      "text/plain": "True"
     },
     "execution_count": 7,
     "metadata": {},
     "output_type": "execute_result"
    }
   ],
   "source": [
    "from qiskit.transpiler.preset_passmanagers import generate_preset_pass_manager\n",
    "\n",
    "q_env.backend.simulator"
   ],
   "metadata": {
    "collapsed": false,
    "ExecuteTime": {
     "end_time": "2024-03-10T01:51:19.772358Z",
     "start_time": "2024-03-10T01:51:19.292Z"
    }
   },
   "execution_count": 7
  },
  {
   "cell_type": "code",
   "outputs": [],
   "source": [
    "if use_context:\n",
    "    q_env.circuit_context.draw(\"mpl\")"
   ],
   "metadata": {
    "collapsed": false,
    "ExecuteTime": {
     "end_time": "2024-03-10T11:07:02.138895Z",
     "start_time": "2024-03-10T11:07:02.135397Z"
    }
   },
   "execution_count": 7
  },
  {
   "cell_type": "code",
   "outputs": [],
   "source": [
    "from qiskit.visualization import plot_gate_map\n",
    "\n",
    "if q_env.backend is not None and q_env.backend_info.coupling_map.size() != 0:\n",
    "    plot_gate_map(q_env.backend)"
   ],
   "metadata": {
    "collapsed": false,
    "ExecuteTime": {
     "end_time": "2024-03-10T11:07:02.398714Z",
     "start_time": "2024-03-10T11:07:02.395862Z"
    }
   },
   "execution_count": 8
  },
  {
   "cell_type": "code",
   "execution_count": 9,
   "metadata": {
    "ExecuteTime": {
     "end_time": "2024-03-10T11:07:03.017197Z",
     "start_time": "2024-03-10T11:07:03.011316Z"
    }
   },
   "outputs": [],
   "source": [
    "import yaml\n",
    "\n",
    "with open(\n",
    "        \"/Users/arthurostrauss/Library/CloudStorage/OneDrive-NationalUniversityofSingapore/Coding_projects/Quantum_Optimal_Control/template_configurations/agent_config.yaml\",\n",
    "        \"r\",\n",
    ") as f:\n",
    "    agent_config = yaml.safe_load(f)"
   ]
  },
  {
   "cell_type": "code",
   "execution_count": 10,
   "metadata": {
    "ExecuteTime": {
     "end_time": "2024-03-10T11:07:04.449716Z",
     "start_time": "2024-03-10T11:07:03.730947Z"
    }
   },
   "outputs": [],
   "source": [
    "from ppo import CustomPPO\n",
    "\n",
    "ppo_agent = CustomPPO(agent_config, rescaled_env)"
   ]
  },
  {
   "cell_type": "code",
   "outputs": [
    {
     "ename": "AttributeError",
     "evalue": "'NoneType' object has no attribute 'target'",
     "output_type": "error",
     "traceback": [
      "\u001B[0;31m---------------------------------------------------------------------------\u001B[0m",
      "\u001B[0;31mAttributeError\u001B[0m                            Traceback (most recent call last)",
      "Cell \u001B[0;32mIn[11], line 1\u001B[0m\n\u001B[0;32m----> 1\u001B[0m \u001B[38;5;28mprint\u001B[39m(q_env\u001B[38;5;241m.\u001B[39mbackend\u001B[38;5;241m.\u001B[39mtarget)\n",
      "\u001B[0;31mAttributeError\u001B[0m: 'NoneType' object has no attribute 'target'"
     ]
    }
   ],
   "source": [
    "print(q_env.backend.target)"
   ],
   "metadata": {
    "collapsed": false,
    "ExecuteTime": {
     "end_time": "2024-03-10T11:07:06.050303Z",
     "start_time": "2024-03-10T11:07:05.809299Z"
    }
   },
   "execution_count": 11
  },
  {
   "cell_type": "code",
   "outputs": [
    {
     "data": {
      "text/plain": "<Figure size 291.506x117.056 with 1 Axes>",
      "image/png": "[encoded data removed]"
     },
     "execution_count": 12,
     "metadata": {},
     "output_type": "execute_result"
    }
   ],
   "source": [
    "from qiskit import transpile\n",
    "\n",
    "transpile(q_env.circuit_truncations[0], q_env.backend, optimization_level=1).draw(\"mpl\")"
   ],
   "metadata": {
    "collapsed": false,
    "ExecuteTime": {
     "end_time": "2024-03-10T11:07:09.920205Z",
     "start_time": "2024-03-10T11:07:09.871236Z"
    }
   },
   "execution_count": 12
  },
  {
   "cell_type": "code",
   "outputs": [
    {
     "ename": "AttributeError",
     "evalue": "'StatevectorEstimator' object has no attribute 'session'",
     "output_type": "error",
     "traceback": [
      "\u001B[0;31m---------------------------------------------------------------------------\u001B[0m",
      "\u001B[0;31mAttributeError\u001B[0m                            Traceback (most recent call last)",
      "Cell \u001B[0;32mIn[13], line 1\u001B[0m\n\u001B[0;32m----> 1\u001B[0m q_env\u001B[38;5;241m.\u001B[39mestimator\u001B[38;5;241m.\u001B[39msession\u001B[38;5;241m.\u001B[39mstatus()\n",
      "\u001B[0;31mAttributeError\u001B[0m: 'StatevectorEstimator' object has no attribute 'session'"
     ]
    }
   ],
   "source": [
    "q_env.estimator.session.status()"
   ],
   "metadata": {
    "collapsed": false,
    "ExecuteTime": {
     "end_time": "2024-03-10T11:07:10.912153Z",
     "start_time": "2024-03-10T11:07:10.888028Z"
    }
   },
   "execution_count": 13
  },
  {
   "cell_type": "code",
   "execution_count": 15,
   "metadata": {},
   "outputs": [
    {
     "data": {
      "text/plain": "<Figure size 640x480 with 1 Axes>",
      "image/png": "[encoded data removed]"
     },
     "metadata": {},
     "output_type": "display_data"
    },
    {
     "name": "stderr",
     "output_type": "stream",
     "text": [
      "  8%|▊         | 39/500 [00:15<03:30,  2.19it/s]"
     ]
    },
    {
     "name": "stdout",
     "output_type": "stream",
     "text": [
      "Average fidelity of last gate: 0.9849440131077786\n",
      "Starting benchmarking...\n",
      "Starting simulation benchmark...\n",
      "Avg gate fidelity: 0.9988606827970768\n",
      "Finished simulation benchmark\n",
      "Finished benchmarking\n",
      "Sending Estimator job...\n",
      "{}\n",
      "SparsePauliOp(['I', 'Y'],\n",
      "              coeffs=[ 0.25+0.j, -0.25+0.j])\n"
     ]
    },
    {
     "name": "stderr",
     "output_type": "stream",
     "text": [
      "  8%|▊         | 40/500 [00:15<03:11,  2.40it/s]"
     ]
    },
    {
     "name": "stdout",
     "output_type": "stream",
     "text": [
      "Finished Estimator job\n",
      "Time taken 0.2520923614501953\n",
      "Average fidelity of last gate: 0.9988606827970768\n",
      "Starting benchmarking...\n",
      "Starting simulation benchmark...\n",
      "Avg gate fidelity: 0.9838840730376817\n",
      "Finished simulation benchmark\n",
      "Finished benchmarking\n",
      "Sending Estimator job...\n",
      "{}\n",
      "SparsePauliOp(['I', 'Z'],\n",
      "              coeffs=[0.25+0.j, 0.25+0.j])\n"
     ]
    },
    {
     "name": "stderr",
     "output_type": "stream",
     "text": [
      "  8%|▊         | 41/500 [00:15<02:56,  2.60it/s]"
     ]
    },
    {
     "name": "stdout",
     "output_type": "stream",
     "text": [
      "Finished Estimator job\n",
      "Time taken 0.24211788177490234\n",
      "Average fidelity of last gate: 0.9838840730376817\n",
      "Starting benchmarking...\n",
      "Starting simulation benchmark...\n",
      "Avg gate fidelity: 0.9862000594505642\n",
      "Finished simulation benchmark\n",
      "Finished benchmarking\n",
      "Sending Estimator job...\n",
      "{}\n",
      "SparsePauliOp(['I', 'Z'],\n",
      "              coeffs=[0.25+0.j, 0.25+0.j])\n"
     ]
    },
    {
     "name": "stderr",
     "output_type": "stream",
     "text": [
      "  8%|▊         | 42/500 [00:16<02:45,  2.76it/s]"
     ]
    },
    {
     "name": "stdout",
     "output_type": "stream",
     "text": [
      "Finished Estimator job\n",
      "Time taken 0.23755288124084473\n",
      "Average fidelity of last gate: 0.9862000594505642\n",
      "Starting benchmarking...\n",
      "Starting simulation benchmark...\n",
      "Avg gate fidelity: 0.998928496400976\n",
      "Finished simulation benchmark\n",
      "Finished benchmarking\n",
      "Sending Estimator job...\n",
      "{}\n",
      "SparsePauliOp(['I', 'Y'],\n",
      "              coeffs=[ 0.25+0.j, -0.25+0.j])\n"
     ]
    },
    {
     "name": "stderr",
     "output_type": "stream",
     "text": [
      "  9%|▊         | 43/500 [00:16<02:38,  2.89it/s]"
     ]
    },
    {
     "name": "stdout",
     "output_type": "stream",
     "text": [
      "Finished Estimator job\n",
      "Time taken 0.2404789924621582\n",
      "Average fidelity of last gate: 0.998928496400976\n",
      "Starting benchmarking...\n",
      "Starting simulation benchmark...\n",
      "Avg gate fidelity: 0.9881270607037569\n",
      "Finished simulation benchmark\n",
      "Finished benchmarking\n",
      "Sending Estimator job...\n",
      "{}\n",
      "SparsePauliOp(['I', 'Z'],\n",
      "              coeffs=[0.25+0.j, 0.25+0.j])\n"
     ]
    },
    {
     "name": "stderr",
     "output_type": "stream",
     "text": [
      "  9%|▉         | 44/500 [00:16<02:32,  2.99it/s]"
     ]
    },
    {
     "name": "stdout",
     "output_type": "stream",
     "text": [
      "Finished Estimator job\n",
      "Time taken 0.23896384239196777\n",
      "Average fidelity of last gate: 0.9881270607037569\n",
      "Starting benchmarking...\n",
      "Starting simulation benchmark...\n",
      "Avg gate fidelity: 0.9968308199504781\n",
      "Finished simulation benchmark\n",
      "Finished benchmarking\n",
      "Sending Estimator job...\n",
      "{}\n",
      "SparsePauliOp(['I', 'Y'],\n",
      "              coeffs=[ 0.25+0.j, -0.25+0.j])\n"
     ]
    },
    {
     "name": "stderr",
     "output_type": "stream",
     "text": [
      "  9%|▉         | 45/500 [00:17<02:29,  3.04it/s]"
     ]
    },
    {
     "name": "stdout",
     "output_type": "stream",
     "text": [
      "Finished Estimator job\n",
      "Time taken 0.2412738800048828\n",
      "Average fidelity of last gate: 0.9968308199504781\n",
      "Starting benchmarking...\n",
      "Starting simulation benchmark...\n",
      "Avg gate fidelity: 0.9735521841220293\n",
      "Finished simulation benchmark\n",
      "Finished benchmarking\n",
      "Sending Estimator job...\n",
      "{}\n",
      "SparsePauliOp(['I', 'Z'],\n",
      "              coeffs=[ 0.25+0.j, -0.25+0.j])\n"
     ]
    },
    {
     "name": "stderr",
     "output_type": "stream",
     "text": [
      "  9%|▉         | 46/500 [00:17<02:25,  3.13it/s]"
     ]
    },
    {
     "name": "stdout",
     "output_type": "stream",
     "text": [
      "Finished Estimator job\n",
      "Time taken 0.22640490531921387\n",
      "Average fidelity of last gate: 0.9735521841220293\n",
      "Starting benchmarking...\n",
      "Starting simulation benchmark...\n",
      "Avg gate fidelity: 0.9978511948105042\n",
      "Finished simulation benchmark\n",
      "Finished benchmarking\n",
      "Sending Estimator job...\n",
      "{}\n",
      "SparsePauliOp(['I', 'X'],\n",
      "              coeffs=[0.25+0.j, 0.25+0.j])\n"
     ]
    },
    {
     "name": "stderr",
     "output_type": "stream",
     "text": [
      "  9%|▉         | 47/500 [00:17<02:24,  3.13it/s]"
     ]
    },
    {
     "name": "stdout",
     "output_type": "stream",
     "text": [
      "Finished Estimator job\n",
      "Time taken 0.24114203453063965\n",
      "Average fidelity of last gate: 0.9978511948105042\n",
      "Starting benchmarking...\n"
     ]
    },
    {
     "name": "stderr",
     "output_type": "stream",
     "text": [
      " 10%|▉         | 48/500 [00:18<03:22,  2.23it/s]"
     ]
    },
    {
     "name": "stdout",
     "output_type": "stream",
     "text": [
      "Starting simulation benchmark...\n",
      "Avg gate fidelity: 0.9980479231088107\n",
      "Finished simulation benchmark\n",
      "Finished benchmarking\n",
      "Sending Estimator job...\n",
      "{}\n",
      "SparsePauliOp(['I', 'Y'],\n",
      "              coeffs=[ 0.25+0.j, -0.25+0.j])\n",
      "Finished Estimator job\n",
      "Time taken 0.6753199100494385\n",
      "Average fidelity of last gate: 0.9980479231088107\n"
     ]
    },
    {
     "name": "stderr",
     "output_type": "stream",
     "text": [
      " 10%|▉         | 48/500 [00:18<02:53,  2.60it/s]\n"
     ]
    },
    {
     "name": "stdout",
     "output_type": "stream",
     "text": [
      "Starting benchmarking...\n"
     ]
    },
    {
     "ename": "KeyboardInterrupt",
     "evalue": "",
     "output_type": "error",
     "traceback": [
      "\u001B[0;31m---------------------------------------------------------------------------\u001B[0m",
      "\u001B[0;31mKeyboardInterrupt\u001B[0m                         Traceback (most recent call last)",
      "Cell \u001B[0;32mIn[15], line 1\u001B[0m\n\u001B[0;32m----> 1\u001B[0m ppo_agent\u001B[38;5;241m.\u001B[39mtrain(\n\u001B[1;32m      2\u001B[0m     total_updates\u001B[38;5;241m=\u001B[39m\u001B[38;5;241m500\u001B[39m, print_debug\u001B[38;5;241m=\u001B[39m\u001B[38;5;28;01mFalse\u001B[39;00m, num_prints\u001B[38;5;241m=\u001B[39m\u001B[38;5;241m10\u001B[39m, clear_history\u001B[38;5;241m=\u001B[39m\u001B[38;5;28;01mFalse\u001B[39;00m\n\u001B[1;32m      3\u001B[0m )\n",
      "File \u001B[0;32m~/Library/CloudStorage/OneDrive-NationalUniversityofSingapore/Coding_projects/Quantum_Optimal_Control/ppo.py:240\u001B[0m, in \u001B[0;36mCustomPPO.train\u001B[0;34m(self, total_updates, print_debug, num_prints, clear_history)\u001B[0m\n\u001B[1;32m    238\u001B[0m logprobs[step] \u001B[38;5;241m=\u001B[39m logprob\n\u001B[1;32m    239\u001B[0m start_time \u001B[38;5;241m=\u001B[39m time\u001B[38;5;241m.\u001B[39mtime()\n\u001B[0;32m--> 240\u001B[0m next_obs, reward, terminated, truncated, infos \u001B[38;5;241m=\u001B[39m \u001B[38;5;28mself\u001B[39m\u001B[38;5;241m.\u001B[39menv\u001B[38;5;241m.\u001B[39mstep(\n\u001B[1;32m    241\u001B[0m     action\u001B[38;5;241m.\u001B[39mcpu()\u001B[38;5;241m.\u001B[39mnumpy()\n\u001B[1;32m    242\u001B[0m )\n\u001B[1;32m    243\u001B[0m \u001B[38;5;28mprint\u001B[39m(\u001B[38;5;124m\"\u001B[39m\u001B[38;5;124mTime taken\u001B[39m\u001B[38;5;124m\"\u001B[39m, time\u001B[38;5;241m.\u001B[39mtime() \u001B[38;5;241m-\u001B[39m start_time)\n\u001B[1;32m    244\u001B[0m next_obs \u001B[38;5;241m=\u001B[39m torch\u001B[38;5;241m.\u001B[39mTensor(next_obs)\n",
      "File \u001B[0;32m~/anaconda3/envs/rl_qoc_v1/lib/python3.11/site-packages/gymnasium/core.py:591\u001B[0m, in \u001B[0;36mActionWrapper.step\u001B[0;34m(self, action)\u001B[0m\n\u001B[1;32m    587\u001B[0m \u001B[38;5;28;01mdef\u001B[39;00m \u001B[38;5;21mstep\u001B[39m(\n\u001B[1;32m    588\u001B[0m     \u001B[38;5;28mself\u001B[39m, action: WrapperActType\n\u001B[1;32m    589\u001B[0m ) \u001B[38;5;241m-\u001B[39m\u001B[38;5;241m>\u001B[39m \u001B[38;5;28mtuple\u001B[39m[ObsType, SupportsFloat, \u001B[38;5;28mbool\u001B[39m, \u001B[38;5;28mbool\u001B[39m, \u001B[38;5;28mdict\u001B[39m[\u001B[38;5;28mstr\u001B[39m, Any]]:\n\u001B[1;32m    590\u001B[0m \u001B[38;5;250m    \u001B[39m\u001B[38;5;124;03m\"\"\"Runs the :attr:`env` :meth:`env.step` using the modified ``action`` from :meth:`self.action`.\"\"\"\u001B[39;00m\n\u001B[0;32m--> 591\u001B[0m     \u001B[38;5;28;01mreturn\u001B[39;00m \u001B[38;5;28mself\u001B[39m\u001B[38;5;241m.\u001B[39menv\u001B[38;5;241m.\u001B[39mstep(\u001B[38;5;28mself\u001B[39m\u001B[38;5;241m.\u001B[39maction(action))\n",
      "File \u001B[0;32m~/anaconda3/envs/rl_qoc_v1/lib/python3.11/site-packages/gymnasium/core.py:591\u001B[0m, in \u001B[0;36mActionWrapper.step\u001B[0;34m(self, action)\u001B[0m\n\u001B[1;32m    587\u001B[0m \u001B[38;5;28;01mdef\u001B[39;00m \u001B[38;5;21mstep\u001B[39m(\n\u001B[1;32m    588\u001B[0m     \u001B[38;5;28mself\u001B[39m, action: WrapperActType\n\u001B[1;32m    589\u001B[0m ) \u001B[38;5;241m-\u001B[39m\u001B[38;5;241m>\u001B[39m \u001B[38;5;28mtuple\u001B[39m[ObsType, SupportsFloat, \u001B[38;5;28mbool\u001B[39m, \u001B[38;5;28mbool\u001B[39m, \u001B[38;5;28mdict\u001B[39m[\u001B[38;5;28mstr\u001B[39m, Any]]:\n\u001B[1;32m    590\u001B[0m \u001B[38;5;250m    \u001B[39m\u001B[38;5;124;03m\"\"\"Runs the :attr:`env` :meth:`env.step` using the modified ``action`` from :meth:`self.action`.\"\"\"\u001B[39;00m\n\u001B[0;32m--> 591\u001B[0m     \u001B[38;5;28;01mreturn\u001B[39;00m \u001B[38;5;28mself\u001B[39m\u001B[38;5;241m.\u001B[39menv\u001B[38;5;241m.\u001B[39mstep(\u001B[38;5;28mself\u001B[39m\u001B[38;5;241m.\u001B[39maction(action))\n",
      "File \u001B[0;32m~/Library/CloudStorage/OneDrive-NationalUniversityofSingapore/Coding_projects/Quantum_Optimal_Control/quantumenvironment.py:481\u001B[0m, in \u001B[0;36mQuantumEnvironment.step\u001B[0;34m(self, action)\u001B[0m\n\u001B[1;32m    472\u001B[0m     \u001B[38;5;28;01mreturn\u001B[39;00m (\n\u001B[1;32m    473\u001B[0m         \u001B[38;5;28mself\u001B[39m\u001B[38;5;241m.\u001B[39mreset()[\u001B[38;5;241m0\u001B[39m],\n\u001B[1;32m    474\u001B[0m         np\u001B[38;5;241m.\u001B[39mzeros(\u001B[38;5;28mself\u001B[39m\u001B[38;5;241m.\u001B[39mbatch_size),\n\u001B[0;32m   (...)\u001B[0m\n\u001B[1;32m    477\u001B[0m         \u001B[38;5;28mself\u001B[39m\u001B[38;5;241m.\u001B[39m_get_info(),\n\u001B[1;32m    478\u001B[0m     )\n\u001B[1;32m    480\u001B[0m terminated \u001B[38;5;241m=\u001B[39m \u001B[38;5;28mself\u001B[39m\u001B[38;5;241m.\u001B[39m_episode_ended \u001B[38;5;241m=\u001B[39m \u001B[38;5;28;01mTrue\u001B[39;00m\n\u001B[0;32m--> 481\u001B[0m reward \u001B[38;5;241m=\u001B[39m \u001B[38;5;28mself\u001B[39m\u001B[38;5;241m.\u001B[39mperform_action(action)\n\u001B[1;32m    483\u001B[0m \u001B[38;5;66;03m# Using Negative Log Error as the Reward\u001B[39;00m\n\u001B[1;32m    484\u001B[0m optimal_error_precision \u001B[38;5;241m=\u001B[39m \u001B[38;5;241m1e-6\u001B[39m\n",
      "File \u001B[0;32m~/Library/CloudStorage/OneDrive-NationalUniversityofSingapore/Coding_projects/Quantum_Optimal_Control/quantumenvironment.py:526\u001B[0m, in \u001B[0;36mQuantumEnvironment.perform_action\u001B[0;34m(self, actions)\u001B[0m\n\u001B[1;32m    524\u001B[0m \u001B[38;5;28;01mif\u001B[39;00m \u001B[38;5;28mself\u001B[39m\u001B[38;5;241m.\u001B[39mdo_benchmark():\n\u001B[1;32m    525\u001B[0m     \u001B[38;5;28mprint\u001B[39m(\u001B[38;5;124m\"\u001B[39m\u001B[38;5;124mStarting benchmarking...\u001B[39m\u001B[38;5;124m\"\u001B[39m)\n\u001B[0;32m--> 526\u001B[0m     \u001B[38;5;28mself\u001B[39m\u001B[38;5;241m.\u001B[39mstore_benchmarks(params)\n\u001B[1;32m    527\u001B[0m     \u001B[38;5;28mprint\u001B[39m(\u001B[38;5;124m\"\u001B[39m\u001B[38;5;124mFinished benchmarking\u001B[39m\u001B[38;5;124m\"\u001B[39m)\n\u001B[1;32m    528\u001B[0m \u001B[38;5;28mprint\u001B[39m(\u001B[38;5;124m\"\u001B[39m\u001B[38;5;124mSending Estimator job...\u001B[39m\u001B[38;5;124m\"\u001B[39m)\n",
      "File \u001B[0;32m~/Library/CloudStorage/OneDrive-NationalUniversityofSingapore/Coding_projects/Quantum_Optimal_Control/quantumenvironment.py:611\u001B[0m, in \u001B[0;36mQuantumEnvironment.store_benchmarks\u001B[0;34m(self, params)\u001B[0m\n\u001B[1;32m    608\u001B[0m \u001B[38;5;28;01melse\u001B[39;00m:  \u001B[38;5;66;03m# Gate calibration task\u001B[39;00m\n\u001B[1;32m    609\u001B[0m     target \u001B[38;5;241m=\u001B[39m Operator(\u001B[38;5;28mself\u001B[39m\u001B[38;5;241m.\u001B[39mtarget[\u001B[38;5;124m\"\u001B[39m\u001B[38;5;124mgate\u001B[39m\u001B[38;5;124m\"\u001B[39m])\n\u001B[0;32m--> 611\u001B[0m qc_list \u001B[38;5;241m=\u001B[39m [qc\u001B[38;5;241m.\u001B[39massign_parameters(angle_set) \u001B[38;5;28;01mfor\u001B[39;00m angle_set \u001B[38;5;129;01min\u001B[39;00m params]\n\u001B[1;32m    612\u001B[0m \u001B[38;5;28;01mif\u001B[39;00m \u001B[38;5;28mself\u001B[39m\u001B[38;5;241m.\u001B[39mcheck_on_exp:\n\u001B[1;32m    613\u001B[0m     \u001B[38;5;66;03m# Experiment based fidelity estimation\u001B[39;00m\n\u001B[1;32m    614\u001B[0m     \u001B[38;5;28;01mtry\u001B[39;00m:\n",
      "File \u001B[0;32m~/Library/CloudStorage/OneDrive-NationalUniversityofSingapore/Coding_projects/Quantum_Optimal_Control/quantumenvironment.py:611\u001B[0m, in \u001B[0;36m<listcomp>\u001B[0;34m(.0)\u001B[0m\n\u001B[1;32m    608\u001B[0m \u001B[38;5;28;01melse\u001B[39;00m:  \u001B[38;5;66;03m# Gate calibration task\u001B[39;00m\n\u001B[1;32m    609\u001B[0m     target \u001B[38;5;241m=\u001B[39m Operator(\u001B[38;5;28mself\u001B[39m\u001B[38;5;241m.\u001B[39mtarget[\u001B[38;5;124m\"\u001B[39m\u001B[38;5;124mgate\u001B[39m\u001B[38;5;124m\"\u001B[39m])\n\u001B[0;32m--> 611\u001B[0m qc_list \u001B[38;5;241m=\u001B[39m [qc\u001B[38;5;241m.\u001B[39massign_parameters(angle_set) \u001B[38;5;28;01mfor\u001B[39;00m angle_set \u001B[38;5;129;01min\u001B[39;00m params]\n\u001B[1;32m    612\u001B[0m \u001B[38;5;28;01mif\u001B[39;00m \u001B[38;5;28mself\u001B[39m\u001B[38;5;241m.\u001B[39mcheck_on_exp:\n\u001B[1;32m    613\u001B[0m     \u001B[38;5;66;03m# Experiment based fidelity estimation\u001B[39;00m\n\u001B[1;32m    614\u001B[0m     \u001B[38;5;28;01mtry\u001B[39;00m:\n",
      "File \u001B[0;32m~/anaconda3/envs/rl_qoc_v1/lib/python3.11/site-packages/qiskit/circuit/quantumcircuit.py:2765\u001B[0m, in \u001B[0;36mQuantumCircuit.assign_parameters\u001B[0;34m(self, parameters, inplace, flat_input, strict)\u001B[0m\n\u001B[1;32m   2761\u001B[0m \u001B[38;5;28;01mfor\u001B[39;00m operation \u001B[38;5;129;01min\u001B[39;00m seen_operations\u001B[38;5;241m.\u001B[39mvalues():\n\u001B[1;32m   2762\u001B[0m     \u001B[38;5;28;01mif\u001B[39;00m (\n\u001B[1;32m   2763\u001B[0m         definition \u001B[38;5;241m:=\u001B[39m \u001B[38;5;28mgetattr\u001B[39m(operation, \u001B[38;5;124m\"\u001B[39m\u001B[38;5;124m_definition\u001B[39m\u001B[38;5;124m\"\u001B[39m, \u001B[38;5;28;01mNone\u001B[39;00m)\n\u001B[1;32m   2764\u001B[0m     ) \u001B[38;5;129;01mis\u001B[39;00m \u001B[38;5;129;01mnot\u001B[39;00m \u001B[38;5;28;01mNone\u001B[39;00m \u001B[38;5;129;01mand\u001B[39;00m definition\u001B[38;5;241m.\u001B[39mnum_parameters:\n\u001B[0;32m-> 2765\u001B[0m         definition\u001B[38;5;241m.\u001B[39massign_parameters(\n\u001B[1;32m   2766\u001B[0m             parameter_binds\u001B[38;5;241m.\u001B[39mmapping, inplace\u001B[38;5;241m=\u001B[39m\u001B[38;5;28;01mTrue\u001B[39;00m, flat_input\u001B[38;5;241m=\u001B[39m\u001B[38;5;28;01mTrue\u001B[39;00m, strict\u001B[38;5;241m=\u001B[39m\u001B[38;5;28;01mFalse\u001B[39;00m\n\u001B[1;32m   2767\u001B[0m         )\n\u001B[1;32m   2769\u001B[0m \u001B[38;5;66;03m# Finally, assign the parameters inside any of the calibrations.  We don't track these in\u001B[39;00m\n\u001B[1;32m   2770\u001B[0m \u001B[38;5;66;03m# the `ParameterTable`, so we manually reconstruct things.\u001B[39;00m\n\u001B[1;32m   2771\u001B[0m \u001B[38;5;28;01mdef\u001B[39;00m \u001B[38;5;21mmap_calibration\u001B[39m(qubits, parameters, schedule):\n",
      "File \u001B[0;32m~/anaconda3/envs/rl_qoc_v1/lib/python3.11/site-packages/qiskit/circuit/quantumcircuit.py:2736\u001B[0m, in \u001B[0;36mQuantumCircuit.assign_parameters\u001B[0;34m(self, parameters, inplace, flat_input, strict)\u001B[0m\n\u001B[1;32m   2734\u001B[0m     validate \u001B[38;5;241m=\u001B[39m operation\u001B[38;5;241m.\u001B[39mvalidate_parameter\n\u001B[1;32m   2735\u001B[0m \u001B[38;5;28;01mif\u001B[39;00m \u001B[38;5;28misinstance\u001B[39m(assignee, ParameterExpression):\n\u001B[0;32m-> 2736\u001B[0m     new_parameter \u001B[38;5;241m=\u001B[39m assignee\u001B[38;5;241m.\u001B[39massign(to_bind, bound_value)\n\u001B[1;32m   2737\u001B[0m     \u001B[38;5;28;01mfor\u001B[39;00m parameter \u001B[38;5;129;01min\u001B[39;00m update_parameters:\n\u001B[1;32m   2738\u001B[0m         \u001B[38;5;28;01mif\u001B[39;00m parameter \u001B[38;5;129;01mnot\u001B[39;00m \u001B[38;5;129;01min\u001B[39;00m target\u001B[38;5;241m.\u001B[39m_parameter_table:\n",
      "File \u001B[0;32m~/anaconda3/envs/rl_qoc_v1/lib/python3.11/site-packages/qiskit/circuit/parameterexpression.py:94\u001B[0m, in \u001B[0;36mParameterExpression.assign\u001B[0;34m(self, parameter, value)\u001B[0m\n\u001B[1;32m     92\u001B[0m \u001B[38;5;28;01mif\u001B[39;00m \u001B[38;5;28misinstance\u001B[39m(value, ParameterExpression):\n\u001B[1;32m     93\u001B[0m     \u001B[38;5;28;01mreturn\u001B[39;00m \u001B[38;5;28mself\u001B[39m\u001B[38;5;241m.\u001B[39msubs({parameter: value})\n\u001B[0;32m---> 94\u001B[0m \u001B[38;5;28;01mreturn\u001B[39;00m \u001B[38;5;28mself\u001B[39m\u001B[38;5;241m.\u001B[39mbind({parameter: value})\n",
      "File \u001B[0;32m~/anaconda3/envs/rl_qoc_v1/lib/python3.11/site-packages/qiskit/circuit/parameterexpression.py:121\u001B[0m, in \u001B[0;36mParameterExpression.bind\u001B[0;34m(self, parameter_values, allow_unknown_parameters)\u001B[0m\n\u001B[1;32m    119\u001B[0m \u001B[38;5;28;01mif\u001B[39;00m \u001B[38;5;129;01mnot\u001B[39;00m allow_unknown_parameters:\n\u001B[1;32m    120\u001B[0m     \u001B[38;5;28mself\u001B[39m\u001B[38;5;241m.\u001B[39m_raise_if_passed_unknown_parameters(parameter_values\u001B[38;5;241m.\u001B[39mkeys())\n\u001B[0;32m--> 121\u001B[0m jax_tracer \u001B[38;5;241m=\u001B[39m \u001B[38;5;28misinstance\u001B[39m(jnp\u001B[38;5;241m.\u001B[39marray(\u001B[38;5;241m0\u001B[39m), core\u001B[38;5;241m.\u001B[39mTracer)\n\u001B[1;32m    122\u001B[0m \u001B[38;5;28;01mif\u001B[39;00m \u001B[38;5;129;01mnot\u001B[39;00m jax_tracer:\n\u001B[1;32m    123\u001B[0m     \u001B[38;5;28mself\u001B[39m\u001B[38;5;241m.\u001B[39m_raise_if_passed_nan(parameter_values)\n",
      "File \u001B[0;32m~/anaconda3/envs/rl_qoc_v1/lib/python3.11/site-packages/jax/_src/numpy/lax_numpy.py:2172\u001B[0m, in \u001B[0;36marray\u001B[0;34m(object, dtype, copy, order, ndmin)\u001B[0m\n\u001B[1;32m   2169\u001B[0m \u001B[38;5;28;01melse\u001B[39;00m:\n\u001B[1;32m   2170\u001B[0m   \u001B[38;5;28;01mraise\u001B[39;00m \u001B[38;5;167;01mTypeError\u001B[39;00m(\u001B[38;5;124mf\u001B[39m\u001B[38;5;124m\"\u001B[39m\u001B[38;5;124mUnexpected input type for array: \u001B[39m\u001B[38;5;132;01m{\u001B[39;00m\u001B[38;5;28mtype\u001B[39m(\u001B[38;5;28mobject\u001B[39m)\u001B[38;5;132;01m}\u001B[39;00m\u001B[38;5;124m\"\u001B[39m)\n\u001B[0;32m-> 2172\u001B[0m out_array: Array \u001B[38;5;241m=\u001B[39m lax_internal\u001B[38;5;241m.\u001B[39m_convert_element_type(\n\u001B[1;32m   2173\u001B[0m     out, dtype, weak_type\u001B[38;5;241m=\u001B[39mweak_type)\n\u001B[1;32m   2174\u001B[0m \u001B[38;5;28;01mif\u001B[39;00m ndmin \u001B[38;5;241m>\u001B[39m ndim(out_array):\n\u001B[1;32m   2175\u001B[0m   out_array \u001B[38;5;241m=\u001B[39m lax\u001B[38;5;241m.\u001B[39mexpand_dims(out_array, \u001B[38;5;28mrange\u001B[39m(ndmin \u001B[38;5;241m-\u001B[39m ndim(out_array)))\n",
      "File \u001B[0;32m~/anaconda3/envs/rl_qoc_v1/lib/python3.11/site-packages/jax/_src/lax/lax.py:560\u001B[0m, in \u001B[0;36m_convert_element_type\u001B[0;34m(operand, new_dtype, weak_type)\u001B[0m\n\u001B[1;32m    558\u001B[0m   \u001B[38;5;28;01mreturn\u001B[39;00m type_cast(Array, operand)\n\u001B[1;32m    559\u001B[0m \u001B[38;5;28;01melse\u001B[39;00m:\n\u001B[0;32m--> 560\u001B[0m   \u001B[38;5;28;01mreturn\u001B[39;00m convert_element_type_p\u001B[38;5;241m.\u001B[39mbind(operand, new_dtype\u001B[38;5;241m=\u001B[39mnew_dtype,\n\u001B[1;32m    561\u001B[0m                                      weak_type\u001B[38;5;241m=\u001B[39m\u001B[38;5;28mbool\u001B[39m(weak_type))\n",
      "File \u001B[0;32m~/anaconda3/envs/rl_qoc_v1/lib/python3.11/site-packages/jax/_src/core.py:444\u001B[0m, in \u001B[0;36mPrimitive.bind\u001B[0;34m(self, *args, **params)\u001B[0m\n\u001B[1;32m    441\u001B[0m \u001B[38;5;28;01mdef\u001B[39;00m \u001B[38;5;21mbind\u001B[39m(\u001B[38;5;28mself\u001B[39m, \u001B[38;5;241m*\u001B[39margs, \u001B[38;5;241m*\u001B[39m\u001B[38;5;241m*\u001B[39mparams):\n\u001B[1;32m    442\u001B[0m   \u001B[38;5;28;01massert\u001B[39;00m (\u001B[38;5;129;01mnot\u001B[39;00m config\u001B[38;5;241m.\u001B[39menable_checks\u001B[38;5;241m.\u001B[39mvalue \u001B[38;5;129;01mor\u001B[39;00m\n\u001B[1;32m    443\u001B[0m           \u001B[38;5;28mall\u001B[39m(\u001B[38;5;28misinstance\u001B[39m(arg, Tracer) \u001B[38;5;129;01mor\u001B[39;00m valid_jaxtype(arg) \u001B[38;5;28;01mfor\u001B[39;00m arg \u001B[38;5;129;01min\u001B[39;00m args)), args\n\u001B[0;32m--> 444\u001B[0m   \u001B[38;5;28;01mreturn\u001B[39;00m \u001B[38;5;28mself\u001B[39m\u001B[38;5;241m.\u001B[39mbind_with_trace(find_top_trace(args), args, params)\n",
      "File \u001B[0;32m~/anaconda3/envs/rl_qoc_v1/lib/python3.11/site-packages/jax/_src/core.py:447\u001B[0m, in \u001B[0;36mPrimitive.bind_with_trace\u001B[0;34m(self, trace, args, params)\u001B[0m\n\u001B[1;32m    446\u001B[0m \u001B[38;5;28;01mdef\u001B[39;00m \u001B[38;5;21mbind_with_trace\u001B[39m(\u001B[38;5;28mself\u001B[39m, trace, args, params):\n\u001B[0;32m--> 447\u001B[0m   out \u001B[38;5;241m=\u001B[39m trace\u001B[38;5;241m.\u001B[39mprocess_primitive(\u001B[38;5;28mself\u001B[39m, \u001B[38;5;28mmap\u001B[39m(trace\u001B[38;5;241m.\u001B[39mfull_raise, args), params)\n\u001B[1;32m    448\u001B[0m   \u001B[38;5;28;01mreturn\u001B[39;00m \u001B[38;5;28mmap\u001B[39m(full_lower, out) \u001B[38;5;28;01mif\u001B[39;00m \u001B[38;5;28mself\u001B[39m\u001B[38;5;241m.\u001B[39mmultiple_results \u001B[38;5;28;01melse\u001B[39;00m full_lower(out)\n",
      "File \u001B[0;32m~/anaconda3/envs/rl_qoc_v1/lib/python3.11/site-packages/jax/_src/core.py:935\u001B[0m, in \u001B[0;36mEvalTrace.process_primitive\u001B[0;34m(self, primitive, tracers, params)\u001B[0m\n\u001B[1;32m    934\u001B[0m \u001B[38;5;28;01mdef\u001B[39;00m \u001B[38;5;21mprocess_primitive\u001B[39m(\u001B[38;5;28mself\u001B[39m, primitive, tracers, params):\n\u001B[0;32m--> 935\u001B[0m   \u001B[38;5;28;01mreturn\u001B[39;00m primitive\u001B[38;5;241m.\u001B[39mimpl(\u001B[38;5;241m*\u001B[39mtracers, \u001B[38;5;241m*\u001B[39m\u001B[38;5;241m*\u001B[39mparams)\n",
      "File \u001B[0;32m~/anaconda3/envs/rl_qoc_v1/lib/python3.11/site-packages/jax/_src/dispatch.py:81\u001B[0m, in \u001B[0;36mapply_primitive\u001B[0;34m(prim, *args, **params)\u001B[0m\n\u001B[1;32m     79\u001B[0m \u001B[38;5;28;01mdef\u001B[39;00m \u001B[38;5;21mapply_primitive\u001B[39m(prim, \u001B[38;5;241m*\u001B[39margs, \u001B[38;5;241m*\u001B[39m\u001B[38;5;241m*\u001B[39mparams):\n\u001B[1;32m     80\u001B[0m \u001B[38;5;250m  \u001B[39m\u001B[38;5;124;03m\"\"\"Impl rule that compiles and runs a single primitive 'prim' using XLA.\"\"\"\u001B[39;00m\n\u001B[0;32m---> 81\u001B[0m   fun \u001B[38;5;241m=\u001B[39m xla_primitive_callable(prim, \u001B[38;5;241m*\u001B[39m\u001B[38;5;241m*\u001B[39mparams)\n\u001B[1;32m     82\u001B[0m   \u001B[38;5;66;03m# TODO(yashkatariya): Investigate adding is_primitive to jit and never\u001B[39;00m\n\u001B[1;32m     83\u001B[0m   \u001B[38;5;66;03m# triggering the disable jit path instead of messing around with it here.\u001B[39;00m\n\u001B[1;32m     84\u001B[0m   \u001B[38;5;28;01mif\u001B[39;00m xla_extension_version \u001B[38;5;241m>\u001B[39m\u001B[38;5;241m=\u001B[39m \u001B[38;5;241m218\u001B[39m:\n",
      "File \u001B[0;32m~/anaconda3/envs/rl_qoc_v1/lib/python3.11/site-packages/jax/_src/util.py:287\u001B[0m, in \u001B[0;36mcache.<locals>.wrap.<locals>.wrapper\u001B[0;34m(*args, **kwargs)\u001B[0m\n\u001B[1;32m    285\u001B[0m   \u001B[38;5;28;01mreturn\u001B[39;00m f(\u001B[38;5;241m*\u001B[39margs, \u001B[38;5;241m*\u001B[39m\u001B[38;5;241m*\u001B[39mkwargs)\n\u001B[1;32m    286\u001B[0m \u001B[38;5;28;01melse\u001B[39;00m:\n\u001B[0;32m--> 287\u001B[0m   \u001B[38;5;28;01mreturn\u001B[39;00m cached(config\u001B[38;5;241m.\u001B[39mconfig\u001B[38;5;241m.\u001B[39m_trace_context(), \u001B[38;5;241m*\u001B[39margs, \u001B[38;5;241m*\u001B[39m\u001B[38;5;241m*\u001B[39mkwargs)\n",
      "File \u001B[0;32m~/anaconda3/envs/rl_qoc_v1/lib/python3.11/site-packages/jax/_src/config.py:232\u001B[0m, in \u001B[0;36mConfig._trace_context\u001B[0;34m(self)\u001B[0m\n\u001B[1;32m    224\u001B[0m \u001B[38;5;28;01mdef\u001B[39;00m \u001B[38;5;21m_trace_context\u001B[39m(\u001B[38;5;28mself\u001B[39m):\n\u001B[1;32m    225\u001B[0m \u001B[38;5;250m  \u001B[39m\u001B[38;5;124;03m\"\"\"Returns a tuple of configuration values that affect tracing.\u001B[39;00m\n\u001B[1;32m    226\u001B[0m \n\u001B[1;32m    227\u001B[0m \u001B[38;5;124;03m  These values are included in the cache key for linear_util.cache.\u001B[39;00m\n\u001B[0;32m   (...)\u001B[0m\n\u001B[1;32m    230\u001B[0m \u001B[38;5;124;03m  the C++ JIT state, which is handled separately.\u001B[39;00m\n\u001B[1;32m    231\u001B[0m \u001B[38;5;124;03m  \"\"\"\u001B[39;00m\n\u001B[0;32m--> 232\u001B[0m   tls \u001B[38;5;241m=\u001B[39m jax_jit\u001B[38;5;241m.\u001B[39mthread_local_state()\n\u001B[1;32m    233\u001B[0m   axis_env_state \u001B[38;5;241m=\u001B[39m ()\n\u001B[1;32m    234\u001B[0m   mesh_context_manager \u001B[38;5;241m=\u001B[39m ()\n",
      "\u001B[0;31mKeyboardInterrupt\u001B[0m: "
     ]
    }
   ],
   "source": [
    "ppo_agent.train(\n",
    "    total_updates=500, print_debug=False, num_prints=10, clear_history=False\n",
    ")"
   ]
  },
  {
   "cell_type": "code",
   "execution_count": null,
   "metadata": {},
   "outputs": [],
   "source": [
    "import numpy as np\n",
    "import matplotlib.pyplot as plt\n",
    "\n",
    "reward_history = np.array(q_env.reward_history)\n",
    "mean_rewards = np.mean(reward_history, axis=-1)\n",
    "max_mean = int(np.max(mean_rewards) * 1e4) / 1e4\n",
    "\n",
    "plt.plot(mean_rewards, label=f\"Mean Batch Rewards, max: {max_mean}\")\n",
    "if isinstance(q_env, ContextAwareQuantumEnvironment):\n",
    "    plt.plot(q_env.circuit_fidelity_history, label=\"Fidelity\")\n",
    "else:\n",
    "    plt.plot(q_env.avg_fidelity_history, label=\"Fidelity\")\n",
    "plt.xlabel(\"Updates\")\n",
    "plt.ylabel(\"Reward\")\n",
    "plt.title(f\"{q_env.target['gate'].name.upper()} Learning Curve\")\n",
    "plt.legend()\n",
    "plt.show()"
   ]
  },
  {
   "cell_type": "code",
   "outputs": [],
   "source": [
    "q_env.reward_history[49]"
   ],
   "metadata": {
    "collapsed": false
   },
   "execution_count": null
  },
  {
   "cell_type": "code",
   "outputs": [],
   "source": [
    "q_env.optimal_action"
   ],
   "metadata": {
    "collapsed": false
   },
   "execution_count": null
  },
  {
   "cell_type": "code",
   "outputs": [],
   "source": [
    "q_env.target[\"input_states\"][0][3][\"target_state\"][\"circuit\"].draw(\"mpl\")"
   ],
   "metadata": {
    "collapsed": false
   },
   "execution_count": null
  },
  {
   "cell_type": "code",
   "outputs": [],
   "source": [
    "from qiskit.quantum_info import average_gate_fidelity\n",
    "from qiskit import QuantumCircuit, QuantumRegister\n",
    "from qiskit.circuit.library import CXGate\n",
    "from qiskit.circuit import ParameterVector\n",
    "\n",
    "qr = QuantumRegister(2)\n",
    "qc = QuantumCircuit(qr)\n",
    "theta = ParameterVector(\"θ\", 7)\n",
    "q_env.parametrized_circuit_func(qc, theta, qr, target={\"gate\": CXGate()})\n",
    "qc.draw(\"mpl\")"
   ],
   "metadata": {
    "collapsed": false
   },
   "execution_count": null
  },
  {
   "cell_type": "code",
   "outputs": [],
   "source": [
    "qc.assign_parameters(q_env.optimal_action, inplace=True)\n",
    "qc.draw(\"mpl\")"
   ],
   "metadata": {
    "collapsed": false
   },
   "execution_count": null
  },
  {
   "cell_type": "code",
   "outputs": [],
   "source": [
    "from qiskit.quantum_info import Operator\n",
    "\n",
    "average_gate_fidelity(Operator(qc), q_env.target[\"gate\"])"
   ],
   "metadata": {
    "collapsed": false
   },
   "execution_count": null
  },
  {
   "cell_type": "code",
   "outputs": [],
   "source": [],
   "metadata": {
    "collapsed": false
   }
  }
 ],
 "metadata": {
  "kernelspec": {
   "display_name": "cqt_env",
   "language": "python",
   "name": "python3"
  },
  "language_info": {
   "codemirror_mode": {
    "name": "ipython",
    "version": 3
   },
   "file_extension": ".py",
   "mimetype": "text/x-python",
   "name": "python",
   "nbconvert_exporter": "python",
   "pygments_lexer": "ipython3",
   "version": "3.9.11"
  }
 },
 "nbformat": 4,
 "nbformat_minor": 2
}
