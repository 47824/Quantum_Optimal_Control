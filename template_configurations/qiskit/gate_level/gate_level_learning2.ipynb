{
 "cells": [
  {
   "cell_type": "code",
   "metadata": {
    "ExecuteTime": {
     "end_time": "2024-04-15T03:21:09.611675Z",
     "start_time": "2024-04-15T03:21:09.372083Z"
    }
   },
   "source": [
    "%matplotlib inline\n",
    "import numpy as np\n",
    "import matplotlib.pyplot as plt\n",
    "from template_configurations.qiskit.gate_level import (\n",
    "    q_env_config as gate_q_env_config,\n",
    "    circuit_context,\n",
    ")\n",
    "from quantumenvironment import QuantumEnvironment\n",
    "from context_aware_quantum_environment import ContextAwareQuantumEnvironment\n",
    "from gymnasium.wrappers import RescaleAction, ClipAction\n",
    "\n",
    "circuit_context.draw(\"mpl\")"
   ],
   "execution_count": 3,
   "outputs": []
  },
  {
   "metadata": {
    "ExecuteTime": {
     "end_time": "2024-04-18T07:37:46.090138Z",
     "start_time": "2024-04-18T07:37:07.404618Z"
    }
   },
   "cell_type": "code",
   "source": [
    "from qiskit_aer import AerSimulator\n",
    "from qiskit_aer.noise import NoiseModel\n",
    "from qiskit_ibm_runtime.fake_provider import FakeOsaka\n",
    "import numpy as np\n",
    "\n",
    "backend = FakeOsaka()\n",
    "print(backend.operation_names)\n",
    "noise_model = NoiseModel.from_backend(backend) if backend is not None else None\n",
    "print(noise_model.basis_gates)\n",
    "aer_backend = AerSimulator(method=\"superop\", noise_model=noise_model)\n",
    "print(aer_backend)\n",
    "print(aer_backend.operation_names)\n",
    "\n",
    "from qiskit import transpile\n",
    "from qiskit.circuit import QuantumCircuit\n",
    "\n",
    "test_qc = QuantumCircuit(2)\n",
    "test_qc.u(np.pi / 2, np.pi / 2, np.pi / 2, 0)\n",
    "test_qc.u(np.pi / 2, np.pi / 2, np.pi / 2, 1)\n",
    "test_qc.ecr(0, 1)\n",
    "\n",
    "print(test_qc)\n",
    "\n",
    "transpiled_test_qc = transpile(test_qc, backend=aer_backend, optimization_level=0)\n",
    "result = aer_backend.run(transpiled_test_qc).result()"
   ],
   "execution_count": 11,
   "outputs": []
  },
  {
   "cell_type": "code",
   "metadata": {
    "collapsed": false,
    "ExecuteTime": {
     "end_time": "2024-04-15T03:21:10.354977Z",
     "start_time": "2024-04-15T03:21:10.352502Z"
    }
   },
   "source": [
    "from qiskit.visualization import plot_circuit_layout\n",
    "\n",
    "if (\n",
    "    gate_q_env_config.backend_config.backend is not None\n",
    "    and circuit_context.layout is not None\n",
    "):\n",
    "    fig = plot_circuit_layout(\n",
    "        circuit_context, gate_q_env_config.backend_config.backend, view=\"physical\"\n",
    "    )"
   ],
   "execution_count": 4,
   "outputs": []
  },
  {
   "cell_type": "code",
   "metadata": {
    "ExecuteTime": {
     "end_time": "2024-04-15T03:21:10.814773Z",
     "start_time": "2024-04-15T03:21:10.770071Z"
    }
   },
   "source": [
    "use_context = False\n",
    "if use_context:\n",
    "    q_env = ContextAwareQuantumEnvironment(\n",
    "        gate_q_env_config, circuit_context, training_steps_per_gate=250\n",
    "    )\n",
    "else:\n",
    "    q_env = QuantumEnvironment(gate_q_env_config)\n",
    "rescaled_env = RescaleAction(ClipAction(q_env), -1.0, 1.0)"
   ],
   "execution_count": 5,
   "outputs": []
  },
  {
   "cell_type": "code",
   "metadata": {
    "collapsed": false,
    "ExecuteTime": {
     "end_time": "2024-04-15T03:21:11.675562Z",
     "start_time": "2024-04-15T03:21:11.627504Z"
    }
   },
   "source": [
    "q_env.circuit_truncations[0].draw(\"mpl\", style=\"iqp\")"
   ],
   "execution_count": 6,
   "outputs": []
  },
  {
   "cell_type": "code",
   "metadata": {
    "collapsed": false,
    "ExecuteTime": {
     "end_time": "2024-04-15T03:21:12.003257Z",
     "start_time": "2024-04-15T03:21:12.001142Z"
    }
   },
   "source": [
    "fig = None\n",
    "if use_context:\n",
    "    fig = q_env.circuit_context.draw(\"mpl\")\n",
    "fig"
   ],
   "execution_count": 7,
   "outputs": []
  },
  {
   "cell_type": "code",
   "metadata": {
    "collapsed": false,
    "ExecuteTime": {
     "end_time": "2024-04-15T03:21:12.440663Z",
     "start_time": "2024-04-15T03:21:12.438332Z"
    }
   },
   "source": [
    "from qiskit.visualization import plot_gate_map\n",
    "\n",
    "fig = None\n",
    "if q_env.backend is not None and q_env.backend_info.coupling_map.size() != 0:\n",
    "    fig = plot_gate_map(q_env.backend)\n",
    "fig"
   ],
   "execution_count": 8,
   "outputs": []
  },
  {
   "cell_type": "code",
   "metadata": {
    "ExecuteTime": {
     "end_time": "2024-04-15T03:21:12.915906Z",
     "start_time": "2024-04-15T03:21:12.911862Z"
    }
   },
   "source": [
    "from helper_functions import load_from_yaml_file\n",
    "from pathlib import Path\n",
    "\n",
    "# Change the file_name to the name of the agent configuration file and specify the file location\n",
    "file_name = \"agent_config.yaml\"\n",
    "file_location = Path.cwd().parent.parent.parent / \"template_configurations\" / file_name\n",
    "\n",
    "agent_config = load_from_yaml_file(file_location)"
   ],
   "execution_count": 9,
   "outputs": []
  },
  {
   "cell_type": "code",
   "metadata": {
    "ExecuteTime": {
     "end_time": "2024-04-15T03:21:13.731689Z",
     "start_time": "2024-04-15T03:21:13.495404Z"
    }
   },
   "source": [
    "from ppo import CustomPPO\n",
    "\n",
    "ppo_agent = CustomPPO(agent_config, rescaled_env)"
   ],
   "execution_count": 10,
   "outputs": []
  },
  {
   "cell_type": "code",
   "metadata": {
    "jupyter": {
     "is_executing": true
    }
   },
   "source": "ppo_agent.train(total_updates=500, print_debug=False, num_prints=2, clear_history=False)",
   "execution_count": null,
   "outputs": []
  },
  {
   "cell_type": "code",
   "metadata": {
    "ExecuteTime": {
     "end_time": "2024-04-15T03:52:45.269251Z",
     "start_time": "2024-04-15T03:52:45.168799Z"
    }
   },
   "source": [
    "# Plotting the learning curve\n",
    "\n",
    "reward_history = np.array(q_env.reward_history)\n",
    "mean_rewards = np.mean(reward_history, axis=-1)\n",
    "max_mean = int(np.max(mean_rewards) * 1e4) / 1e4\n",
    "\n",
    "plt.plot(mean_rewards, label=f\"Mean Batch Rewards, max: {max_mean}\")\n",
    "plt.plot(\n",
    "    q_env.fidelity_history,\n",
    "    label=f\"Fidelity, max: {int(np.max(q_env.fidelity_history) * 1e4) / 1e4}\",\n",
    ")\n",
    "plt.xlabel(\"Updates\")\n",
    "plt.ylabel(\"Reward\")\n",
    "plt.title(\n",
    "    f\"{q_env.target.gate.name.upper()} Learning Curve, channel_estimator: {q_env.channel_estimator}\"\n",
    ")\n",
    "plt.legend()\n",
    "plt.show()"
   ],
   "execution_count": 12,
   "outputs": []
  },
  {
   "metadata": {},
   "cell_type": "code",
   "execution_count": 10,
   "source": [
    "# Plotting the learning curve\n",
    "\n",
    "reward_history = np.array(q_env.reward_history)\n",
    "mean_rewards = np.mean(reward_history, axis=-1)\n",
    "max_mean = int(np.max(mean_rewards) * 1e4) / 1e4\n",
    "\n",
    "plt.plot(mean_rewards, label=f\"Mean Batch Rewards, max: {max_mean}\")\n",
    "plt.plot(\n",
    "    q_env.fidelity_history,\n",
    "    label=f\"Fidelity, max: {int(np.max(q_env.fidelity_history) * 1e4) / 1e4}\",\n",
    ")\n",
    "plt.xlabel(\"Updates\")\n",
    "plt.ylabel(\"Reward\")\n",
    "plt.title(\n",
    "    f\"{q_env.target.gate.name.upper()} Learning Curve, channel_estimator: {q_env.channel_estimator}\"\n",
    ")\n",
    "plt.legend()\n",
    "plt.show()"
   ],
   "outputs": []
  },
  {
   "metadata": {},
   "cell_type": "code",
   "execution_count": 11,
   "source": [
    "# Plotting the learning curve\n",
    "\n",
    "reward_history = np.array(q_env.reward_history)\n",
    "mean_rewards = np.mean(reward_history, axis=-1)\n",
    "max_mean = int(np.max(mean_rewards) * 1e4) / 1e4\n",
    "\n",
    "plt.plot(mean_rewards, label=f\"Mean Batch Rewards, max: {max_mean}\")\n",
    "plt.plot(\n",
    "    q_env.fidelity_history,\n",
    "    label=f\"Fidelity, max: {int(np.max(q_env.fidelity_history) * 1e4) / 1e4}\",\n",
    ")\n",
    "plt.xlabel(\"Updates\")\n",
    "plt.ylabel(\"Reward\")\n",
    "plt.title(\n",
    "    f\"{q_env.target.gate.name.upper()} Learning Curve, channel_estimator: {q_env.channel_estimator}\"\n",
    ")\n",
    "plt.legend()\n",
    "plt.show()"
   ],
   "outputs": []
  },
  {
   "cell_type": "code",
   "metadata": {
    "collapsed": false,
    "ExecuteTime": {
     "end_time": "2024-04-11T09:25:12.747302Z",
     "start_time": "2024-04-11T09:25:12.680154Z"
    }
   },
   "source": [
    "plt.plot(np.cumsum(q_env.total_shots), label=\"Number of shots\")\n",
    "plt.xlabel(\"Updates\")\n",
    "plt.ylabel(\"Shots\")\n",
    "plt.title(f\"Shots Learning Curve, channel_estimator: {q_env.channel_estimator}\")\n",
    "plt.legend()"
   ],
   "execution_count": 12,
   "outputs": []
  },
  {
   "cell_type": "code",
   "metadata": {
    "collapsed": false,
    "ExecuteTime": {
     "end_time": "2024-04-11T09:26:21.023275Z",
     "start_time": "2024-04-11T09:26:21.019385Z"
    }
   },
   "source": [
    "convergence_iteration = 200\n",
    "print(\n",
    "    \"Number of shots required for convergence:\",\n",
    "    np.cumsum(q_env.total_shots[:convergence_iteration]),\n",
    ")"
   ],
   "execution_count": 14,
   "outputs": []
  },
  {
   "cell_type": "code",
   "execution_count": null,
   "metadata": {
    "collapsed": false
   },
   "source": [
    "q_env.optimal_action / np.pi"
   ],
   "outputs": []
  },
  {
   "cell_type": "code",
   "execution_count": null,
   "metadata": {
    "collapsed": false
   },
   "source": [
    "from torchsummary import summary\n",
    "\n",
    "summary(ppo_agent.agent, q_env.observation_space.shape)"
   ],
   "outputs": []
  },
  {
   "cell_type": "code",
   "execution_count": null,
   "metadata": {
    "collapsed": false
   },
   "source": [
    "q_env.target[\"input_states\"][0][3][\"target_state\"][\"circuit\"].draw(\"mpl\")"
   ],
   "outputs": []
  },
  {
   "cell_type": "code",
   "execution_count": null,
   "metadata": {
    "collapsed": false
   },
   "source": [
    "q_env.target[\"input_states\"][0][3][\"target_state\"][\"dm\"].dims()"
   ],
   "outputs": []
  },
  {
   "cell_type": "code",
   "execution_count": null,
   "metadata": {
    "collapsed": false
   },
   "source": [
    "from qiskit.quantum_info import average_gate_fidelity\n",
    "from qiskit import QuantumCircuit, QuantumRegister\n",
    "from qiskit.circuit.library import CXGate\n",
    "from qiskit.circuit import ParameterVector\n",
    "\n",
    "qr = QuantumRegister(2, \"q\")\n",
    "qc = QuantumCircuit(qr)\n",
    "theta = ParameterVector(\"θ\", 7)\n",
    "q_env.parametrized_circuit_func(\n",
    "    qc, theta, qr, target=q_env.target, backend=q_env.backend\n",
    ")\n",
    "qc.draw(\"mpl\")"
   ],
   "outputs": []
  },
  {
   "cell_type": "code",
   "execution_count": null,
   "metadata": {
    "collapsed": false
   },
   "source": [
    "qc.assign_parameters(q_env.optimal_action, inplace=True)\n",
    "qc.draw(\"mpl\")"
   ],
   "outputs": []
  },
  {
   "cell_type": "code",
   "execution_count": null,
   "metadata": {
    "collapsed": false
   },
   "source": [
    "from qiskit.quantum_info import Operator\n",
    "\n",
    "average_gate_fidelity(Operator(qc), q_env.target[\"gate\"])"
   ],
   "outputs": []
  },
  {
   "cell_type": "code",
   "source": [],
   "metadata": {
    "collapsed": false
   },
   "execution_count": null,
   "outputs": []
  }
 ],
 "metadata": {
  "kernelspec": {
   "display_name": "cqt_env",
   "language": "python",
   "name": "python3"
  },
  "language_info": {
   "codemirror_mode": {
    "name": "ipython",
    "version": 3
   },
   "file_extension": ".py",
   "mimetype": "text/x-python",
   "name": "python",
   "nbconvert_exporter": "python",
   "pygments_lexer": "ipython3",
   "version": "3.11.5"
  }
 },
 "nbformat": 4,
 "nbformat_minor": 2
}
