{
 "cells": [
  {
   "cell_type": "code",
   "execution_count": 1,
   "id": "initial_id",
   "metadata": {
    "collapsed": true,
    "ExecuteTime": {
     "end_time": "2023-12-14T11:16:12.573656Z",
     "start_time": "2023-12-14T11:15:42.950224Z"
    }
   },
   "outputs": [
    {
     "name": "stderr",
     "output_type": "stream",
     "text": [
      "/Users/arthurostrauss/anaconda3/envs/rl_qoc/lib/python3.11/site-packages/qiskit_dynamics/dispatch/backends/jax.py:34: UserWarning: The functionality in the perturbation module of Qiskit Dynamics requires a JAX version <= 0.4.6, due to a bug in JAX versions > 0.4.6. For versions 0.4.4, 0.4.5, and 0.4.6, using the perturbation module functionality requires setting os.environ['JAX_JIT_PJIT_API_MERGE'] = '0' before importing JAX or Dynamics.\n",
      "  warnings.warn(\n",
      "/Users/arthurostrauss/anaconda3/envs/rl_qoc/lib/python3.11/site-packages/gymnasium/spaces/box.py:130: UserWarning: \u001B[33mWARN: Box bound precision lowered by casting to float32\u001B[0m\n",
      "  gym.logger.warn(f\"Box bound precision lowered by casting to {self.dtype}\")\n"
     ]
    },
    {
     "name": "stdout",
     "output_type": "stream",
     "text": [
      "Starting Rabi experiment for qubit 0...\n",
      "Rabi experiment for qubit 0 done.\n",
      "Starting Drag experiment for qubit 0...\n",
      "Drag experiments done for qubit 0 done.\n",
      "Starting Rabi experiment for qubit 1...\n",
      "Rabi experiment for qubit 1 done.\n",
      "Starting Drag experiment for qubit 1...\n",
      "Drag experiments done for qubit 1 done.\n",
      "All single qubit calibrations are done\n",
      "Updated Instruction Schedule Map <InstructionScheduleMap(1Q instructions:\n",
      "  q0: {'z', 'tdg', 'delay', 's', 'id', 'h', 'sdg', 'rz', 't', 'reset', 'x', 'measure', 'sx'}\n",
      "  q1: {'z', 'tdg', 'delay', 's', 'id', 'h', 'sdg', 'rz', 't', 'reset', 'x', 'measure', 'sx'}\n",
      "Multi qubit instructions:\n",
      "  (0, 1): {'ecr', 'cr45m', 'cr45p'}\n",
      "  (1, 0): {'ecr', 'cr45m', 'cr45p'}\n",
      ")>\n",
      "Starting Rabi experiment for qubit 0...\n",
      "Rabi experiment for qubit 0 done.\n",
      "Starting Drag experiment for qubit 0...\n",
      "Drag experiments done for qubit 0 done.\n",
      "Starting Rabi experiment for qubit 1...\n",
      "Rabi experiment for qubit 1 done.\n",
      "Starting Drag experiment for qubit 1...\n",
      "Drag experiments done for qubit 1 done.\n",
      "All single qubit calibrations are done\n",
      "Updated Instruction Schedule Map <InstructionScheduleMap(1Q instructions:\n",
      "  q0: {'z', 'tdg', 'delay', 's', 'id', 'h', 'sdg', 'rz', 't', 'reset', 'x', 'measure', 'sx'}\n",
      "  q1: {'z', 'tdg', 'delay', 's', 'id', 'h', 'sdg', 'rz', 't', 'reset', 'x', 'measure', 'sx'}\n",
      "Multi qubit instructions:\n",
      "  (0, 1): {'ecr', 'cr45m', 'cr45p'}\n",
      "  (1, 0): {'ecr', 'cr45m', 'cr45p'}\n",
      ")>\n"
     ]
    }
   ],
   "source": [
    "from template_configurations import pulse_q_env_config, pulse_circuit_context\n"
   ]
  },
  {
   "cell_type": "code",
   "execution_count": 2,
   "outputs": [],
   "source": [
    "from quantumenvironment import QuantumEnvironment\n",
    "from context_aware_quantum_environment import ContextAwareQuantumEnvironment\n",
    "from agent import Agent\n",
    "import torch\n",
    "import torch.nn as nn\n",
    "from torch.utils.tensorboard import SummaryWriter\n",
    "import torch.optim as optim\n",
    "from torch.distributions import Normal\n",
    "\n",
    "import numpy as np\n",
    "import tqdm\n",
    "import time\n",
    "from typing import Union, Optional, List, Sequence\n",
    "from IPython.display import clear_output"
   ],
   "metadata": {
    "collapsed": false,
    "ExecuteTime": {
     "end_time": "2023-12-14T11:16:12.779744Z",
     "start_time": "2023-12-14T11:16:12.576080Z"
    }
   },
   "id": "fb1742066410293a"
  },
  {
   "cell_type": "code",
   "execution_count": 3,
   "outputs": [],
   "source": [
    "q_env = QuantumEnvironment(pulse_q_env_config)"
   ],
   "metadata": {
    "collapsed": false,
    "ExecuteTime": {
     "end_time": "2023-12-14T11:16:12.867872Z",
     "start_time": "2023-12-14T11:16:12.780102Z"
    }
   },
   "id": "713630c59461fbb8"
  },
  {
   "cell_type": "code",
   "execution_count": 4,
   "outputs": [],
   "source": [
    "import yaml\n",
    "\n",
    "with open(\n",
    "        '/Users/arthurostrauss/Library/CloudStorage/OneDrive-NationalUniversityofSingapore/Coding_projects/Quantum_Optimal_Control/template_configurations/agent_config.yaml',\n",
    "        'r') as f:\n",
    "    agent_config = yaml.safe_load(f)"
   ],
   "metadata": {
    "collapsed": false,
    "ExecuteTime": {
     "end_time": "2023-12-14T11:16:12.871316Z",
     "start_time": "2023-12-14T11:16:12.868138Z"
    }
   },
   "id": "960dff591175fad7"
  },
  {
   "cell_type": "code",
   "execution_count": 5,
   "outputs": [],
   "source": [
    "from ppo import make_train_ppo\n",
    "\n",
    "ppo_agent = make_train_ppo(agent_config, q_env)"
   ],
   "metadata": {
    "collapsed": false,
    "ExecuteTime": {
     "end_time": "2023-12-14T11:16:13.022259Z",
     "start_time": "2023-12-14T11:16:12.872503Z"
    }
   },
   "id": "7ea578dc8a8ceb20"
  },
  {
   "cell_type": "code",
   "execution_count": 6,
   "outputs": [
    {
     "name": "stderr",
     "output_type": "stream",
     "text": [
      "  0%|          | 0/3 [00:00<?, ?it/s]\n"
     ]
    },
    {
     "ename": "ValueError",
     "evalue": "Expected parameter loc (Tensor of shape (1, 7)) of distribution Normal(loc: torch.Size([1, 7]), scale: torch.Size([1, 7])) to satisfy the constraint Real(), but found invalid values:\ntensor([[nan, nan, nan, nan, nan, nan, nan]], grad_fn=<TanhBackward0>)",
     "output_type": "error",
     "traceback": [
      "\u001B[0;31m---------------------------------------------------------------------------\u001B[0m",
      "\u001B[0;31mValueError\u001B[0m                                Traceback (most recent call last)",
      "Cell \u001B[0;32mIn[6], line 1\u001B[0m\n\u001B[0;32m----> 1\u001B[0m ppo_agent(total_updates\u001B[38;5;241m=\u001B[39m\u001B[38;5;241m3\u001B[39m, print_debug\u001B[38;5;241m=\u001B[39m\u001B[38;5;28;01mTrue\u001B[39;00m)\n",
      "File \u001B[0;32m~/Library/CloudStorage/OneDrive-NationalUniversityofSingapore/Coding_projects/Quantum_Optimal_Control/ppo.py:227\u001B[0m, in \u001B[0;36mmake_train_ppo.<locals>.train\u001B[0;34m(total_updates, print_debug)\u001B[0m\n\u001B[1;32m    225\u001B[0m mb_inds \u001B[38;5;241m=\u001B[39m b_inds[start:end]\n\u001B[1;32m    226\u001B[0m new_mean, new_sigma, new_value \u001B[38;5;241m=\u001B[39m agent(b_obs[mb_inds])\n\u001B[0;32m--> 227\u001B[0m new_dist \u001B[38;5;241m=\u001B[39m Normal(new_mean, new_sigma)\n\u001B[1;32m    228\u001B[0m new_logprob, entropy \u001B[38;5;241m=\u001B[39m new_dist\u001B[38;5;241m.\u001B[39mlog_prob(b_actions[mb_inds])\u001B[38;5;241m.\u001B[39msum(\n\u001B[1;32m    229\u001B[0m     \u001B[38;5;241m1\u001B[39m\n\u001B[1;32m    230\u001B[0m ), new_dist\u001B[38;5;241m.\u001B[39mentropy()\u001B[38;5;241m.\u001B[39msum(\u001B[38;5;241m1\u001B[39m)\n\u001B[1;32m    231\u001B[0m logratio \u001B[38;5;241m=\u001B[39m new_logprob \u001B[38;5;241m-\u001B[39m b_logprobs[mb_inds]\n",
      "File \u001B[0;32m~/anaconda3/envs/rl_qoc/lib/python3.11/site-packages/torch/distributions/normal.py:56\u001B[0m, in \u001B[0;36mNormal.__init__\u001B[0;34m(self, loc, scale, validate_args)\u001B[0m\n\u001B[1;32m     54\u001B[0m \u001B[38;5;28;01melse\u001B[39;00m:\n\u001B[1;32m     55\u001B[0m     batch_shape \u001B[38;5;241m=\u001B[39m \u001B[38;5;28mself\u001B[39m\u001B[38;5;241m.\u001B[39mloc\u001B[38;5;241m.\u001B[39msize()\n\u001B[0;32m---> 56\u001B[0m \u001B[38;5;28msuper\u001B[39m()\u001B[38;5;241m.\u001B[39m\u001B[38;5;21m__init__\u001B[39m(batch_shape, validate_args\u001B[38;5;241m=\u001B[39mvalidate_args)\n",
      "File \u001B[0;32m~/anaconda3/envs/rl_qoc/lib/python3.11/site-packages/torch/distributions/distribution.py:68\u001B[0m, in \u001B[0;36mDistribution.__init__\u001B[0;34m(self, batch_shape, event_shape, validate_args)\u001B[0m\n\u001B[1;32m     66\u001B[0m         valid \u001B[38;5;241m=\u001B[39m constraint\u001B[38;5;241m.\u001B[39mcheck(value)\n\u001B[1;32m     67\u001B[0m         \u001B[38;5;28;01mif\u001B[39;00m \u001B[38;5;129;01mnot\u001B[39;00m valid\u001B[38;5;241m.\u001B[39mall():\n\u001B[0;32m---> 68\u001B[0m             \u001B[38;5;28;01mraise\u001B[39;00m \u001B[38;5;167;01mValueError\u001B[39;00m(\n\u001B[1;32m     69\u001B[0m                 \u001B[38;5;124mf\u001B[39m\u001B[38;5;124m\"\u001B[39m\u001B[38;5;124mExpected parameter \u001B[39m\u001B[38;5;132;01m{\u001B[39;00mparam\u001B[38;5;132;01m}\u001B[39;00m\u001B[38;5;124m \u001B[39m\u001B[38;5;124m\"\u001B[39m\n\u001B[1;32m     70\u001B[0m                 \u001B[38;5;124mf\u001B[39m\u001B[38;5;124m\"\u001B[39m\u001B[38;5;124m(\u001B[39m\u001B[38;5;132;01m{\u001B[39;00m\u001B[38;5;28mtype\u001B[39m(value)\u001B[38;5;241m.\u001B[39m\u001B[38;5;18m__name__\u001B[39m\u001B[38;5;132;01m}\u001B[39;00m\u001B[38;5;124m of shape \u001B[39m\u001B[38;5;132;01m{\u001B[39;00m\u001B[38;5;28mtuple\u001B[39m(value\u001B[38;5;241m.\u001B[39mshape)\u001B[38;5;132;01m}\u001B[39;00m\u001B[38;5;124m) \u001B[39m\u001B[38;5;124m\"\u001B[39m\n\u001B[1;32m     71\u001B[0m                 \u001B[38;5;124mf\u001B[39m\u001B[38;5;124m\"\u001B[39m\u001B[38;5;124mof distribution \u001B[39m\u001B[38;5;132;01m{\u001B[39;00m\u001B[38;5;28mrepr\u001B[39m(\u001B[38;5;28mself\u001B[39m)\u001B[38;5;132;01m}\u001B[39;00m\u001B[38;5;124m \u001B[39m\u001B[38;5;124m\"\u001B[39m\n\u001B[1;32m     72\u001B[0m                 \u001B[38;5;124mf\u001B[39m\u001B[38;5;124m\"\u001B[39m\u001B[38;5;124mto satisfy the constraint \u001B[39m\u001B[38;5;132;01m{\u001B[39;00m\u001B[38;5;28mrepr\u001B[39m(constraint)\u001B[38;5;132;01m}\u001B[39;00m\u001B[38;5;124m, \u001B[39m\u001B[38;5;124m\"\u001B[39m\n\u001B[1;32m     73\u001B[0m                 \u001B[38;5;124mf\u001B[39m\u001B[38;5;124m\"\u001B[39m\u001B[38;5;124mbut found invalid values:\u001B[39m\u001B[38;5;130;01m\\n\u001B[39;00m\u001B[38;5;132;01m{\u001B[39;00mvalue\u001B[38;5;132;01m}\u001B[39;00m\u001B[38;5;124m\"\u001B[39m\n\u001B[1;32m     74\u001B[0m             )\n\u001B[1;32m     75\u001B[0m \u001B[38;5;28msuper\u001B[39m()\u001B[38;5;241m.\u001B[39m\u001B[38;5;21m__init__\u001B[39m()\n",
      "\u001B[0;31mValueError\u001B[0m: Expected parameter loc (Tensor of shape (1, 7)) of distribution Normal(loc: torch.Size([1, 7]), scale: torch.Size([1, 7])) to satisfy the constraint Real(), but found invalid values:\ntensor([[nan, nan, nan, nan, nan, nan, nan]], grad_fn=<TanhBackward0>)"
     ]
    }
   ],
   "source": [
    "ppo_agent(total_updates=3, print_debug=True)"
   ],
   "metadata": {
    "collapsed": false,
    "ExecuteTime": {
     "end_time": "2023-12-14T11:16:14.005329Z",
     "start_time": "2023-12-14T11:16:13.022338Z"
    }
   },
   "id": "8d40af0ee8030779"
  }
 ],
 "metadata": {
  "kernelspec": {
   "display_name": "Python 3",
   "language": "python",
   "name": "python3"
  },
  "language_info": {
   "codemirror_mode": {
    "name": "ipython",
    "version": 2
   },
   "file_extension": ".py",
   "mimetype": "text/x-python",
   "name": "python",
   "nbconvert_exporter": "python",
   "pygments_lexer": "ipython2",
   "version": "2.7.6"
  }
 },
 "nbformat": 4,
 "nbformat_minor": 5
}
