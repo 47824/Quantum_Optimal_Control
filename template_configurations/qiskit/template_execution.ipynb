{
 "cells": [
  {
   "cell_type": "code",
   "execution_count": 1,
   "id": "initial_id",
   "metadata": {
    "collapsed": true,
    "ExecuteTime": {
     "end_time": "2023-12-20T09:22:56.992579Z",
     "start_time": "2023-12-20T09:22:25.484100Z"
    }
   },
   "outputs": [
    {
     "name": "stderr",
     "output_type": "stream",
     "text": [
      "/Users/arthurostrauss/anaconda3/envs/rl_qoc/lib/python3.11/site-packages/qiskit_dynamics/dispatch/backends/jax.py:34: UserWarning: The functionality in the perturbation module of Qiskit Dynamics requires a JAX version <= 0.4.6, due to a bug in JAX versions > 0.4.6. For versions 0.4.4, 0.4.5, and 0.4.6, using the perturbation module functionality requires setting os.environ['JAX_JIT_PJIT_API_MERGE'] = '0' before importing JAX or Dynamics.\n",
      "  warnings.warn(\n",
      "/Users/arthurostrauss/anaconda3/envs/rl_qoc/lib/python3.11/site-packages/gymnasium/spaces/box.py:130: UserWarning: \u001b[33mWARN: Box bound precision lowered by casting to float32\u001b[0m\n",
      "  gym.logger.warn(f\"Box bound precision lowered by casting to {self.dtype}\")\n"
     ]
    },
    {
     "name": "stdout",
     "output_type": "stream",
     "text": [
      "Starting Rabi experiment for qubit 0...\n",
      "Rabi experiment for qubit 0 done.\n",
      "Starting Drag experiment for qubit 0...\n",
      "Drag experiments done for qubit 0 done.\n",
      "Starting Rabi experiment for qubit 1...\n",
      "Rabi experiment for qubit 1 done.\n",
      "Starting Drag experiment for qubit 1...\n",
      "Drag experiments done for qubit 1 done.\n",
      "All single qubit calibrations are done\n",
      "Updated Instruction Schedule Map <InstructionScheduleMap(1Q instructions:\n",
      "  q0: {'x', 'tdg', 'measure', 'rz', 'reset', 's', 'h', 'delay', 'sx', 'z', 'sdg', 't', 'id'}\n",
      "  q1: {'x', 'tdg', 'measure', 'rz', 'reset', 's', 'h', 'delay', 'sx', 'z', 'sdg', 't', 'id'}\n",
      "Multi qubit instructions:\n",
      "  (0, 1): {'ecr', 'cr45m', 'cr45p'}\n",
      "  (1, 0): {'ecr', 'cr45m', 'cr45p'}\n",
      ")>\n",
      "Starting Rabi experiment for qubit 0...\n",
      "Rabi experiment for qubit 0 done.\n",
      "Starting Drag experiment for qubit 0...\n",
      "Drag experiments done for qubit 0 done.\n",
      "Starting Rabi experiment for qubit 1...\n",
      "Rabi experiment for qubit 1 done.\n",
      "Starting Drag experiment for qubit 1...\n",
      "Drag experiments done for qubit 1 done.\n",
      "All single qubit calibrations are done\n",
      "Updated Instruction Schedule Map <InstructionScheduleMap(1Q instructions:\n",
      "  q0: {'x', 'tdg', 'measure', 'rz', 'reset', 's', 'h', 'delay', 'sx', 'z', 'sdg', 't', 'id'}\n",
      "  q1: {'x', 'tdg', 'measure', 'rz', 'reset', 's', 'h', 'delay', 'sx', 'z', 'sdg', 't', 'id'}\n",
      "Multi qubit instructions:\n",
      "  (0, 1): {'ecr', 'cr45m', 'cr45p'}\n",
      "  (1, 0): {'ecr', 'cr45m', 'cr45p'}\n",
      ")>\n"
     ]
    }
   ],
   "source": [
    "import numpy as np\n",
    "\n",
    "from template_configurations import pulse_q_env_config, pulse_circuit_context"
   ]
  },
  {
   "cell_type": "code",
   "execution_count": 2,
   "outputs": [],
   "source": [
    "from quantumenvironment import QuantumEnvironment\n",
    "from context_aware_quantum_environment import ContextAwareQuantumEnvironment\n",
    "from agent import Agent"
   ],
   "metadata": {
    "collapsed": false,
    "ExecuteTime": {
     "end_time": "2023-12-20T09:22:56.992973Z",
     "start_time": "2023-12-20T09:22:56.987724Z"
    }
   },
   "id": "fb1742066410293a"
  },
  {
   "cell_type": "code",
   "execution_count": 3,
   "outputs": [
    {
     "data": {
      "text/plain": "QuantumEnvironment composed of 2 qubits, \nDefined target: gate (Instruction(name='cx', num_qubits=2, num_clbits=0, params=[]))\nPhysical qubits: [0, 1]\nBackend: <qiskit_dynamics.backend.dynamics_backend.DynamicsBackend object at 0x2c6c15250>,\nAbstraction level: pulse,\nRun options: N_shots (1), Sampling_Pauli_space (100), \nBatchsize: 96, "
     },
     "execution_count": 3,
     "metadata": {},
     "output_type": "execute_result"
    }
   ],
   "source": [
    "q_env = QuantumEnvironment(pulse_q_env_config)\n",
    "q_env"
   ],
   "metadata": {
    "collapsed": false,
    "ExecuteTime": {
     "end_time": "2023-12-20T09:22:57.093840Z",
     "start_time": "2023-12-20T09:22:57.002683Z"
    }
   },
   "id": "713630c59461fbb8"
  },
  {
   "cell_type": "code",
   "execution_count": 4,
   "outputs": [],
   "source": [
    "import yaml\n",
    "\n",
    "with open(\n",
    "    \"/Users/arthurostrauss/Library/CloudStorage/OneDrive-NationalUniversityofSingapore/Coding_projects/Quantum_Optimal_Control/template_configurations/agent_config.yaml\",\n",
    "    \"r\",\n",
    ") as f:\n",
    "    agent_config = yaml.safe_load(f)"
   ],
   "metadata": {
    "collapsed": false,
    "ExecuteTime": {
     "end_time": "2023-12-20T09:22:57.094557Z",
     "start_time": "2023-12-20T09:22:57.087505Z"
    }
   },
   "id": "960dff591175fad7"
  },
  {
   "cell_type": "code",
   "execution_count": 5,
   "outputs": [],
   "source": [
    "from ppo import make_train_ppo\n",
    "\n",
    "ppo_agent = make_train_ppo(agent_config, q_env)"
   ],
   "metadata": {
    "collapsed": false,
    "ExecuteTime": {
     "end_time": "2023-12-20T09:22:57.273220Z",
     "start_time": "2023-12-20T09:22:57.091633Z"
    }
   },
   "id": "7ea578dc8a8ceb20"
  },
  {
   "cell_type": "code",
   "execution_count": 6,
   "outputs": [
    {
     "name": "stderr",
     "output_type": "stream",
     "text": [
      "  0%|          | 0/8 [00:00<?, ?it/s]"
     ]
    },
    {
     "name": "stdout",
     "output_type": "stream",
     "text": [
      "SparsePauliOp(['II', 'IX', 'XI', 'XX'],\n",
      "              coeffs=[1.+0.j, 1.+0.j, 1.+0.j, 1.+0.j])\n"
     ]
    },
    {
     "name": "stderr",
     "output_type": "stream",
     "text": [
      " 12%|█▎        | 1/8 [00:06<00:43,  6.21s/it]/Users/arthurostrauss/Library/CloudStorage/OneDrive-NationalUniversityofSingapore/Coding_projects/Quantum_Optimal_Control/quantumenvironment.py:122: FutureWarning: Setting an item of incompatible dtype is deprecated and will raise in a future error of pandas. Value '(1+0j)' has dtype incompatible with float64, please explicitly cast to a compatible dtype first.\n",
      "  qudit_op_df.at[index, column_name] = value\n",
      "/Users/arthurostrauss/Library/CloudStorage/OneDrive-NationalUniversityofSingapore/Coding_projects/Quantum_Optimal_Control/quantumenvironment.py:122: FutureWarning: Setting an item of incompatible dtype is deprecated and will raise in a future error of pandas. Value '0j' has dtype incompatible with float64, please explicitly cast to a compatible dtype first.\n",
      "  qudit_op_df.at[index, column_name] = value\n",
      "/Users/arthurostrauss/Library/CloudStorage/OneDrive-NationalUniversityofSingapore/Coding_projects/Quantum_Optimal_Control/quantumenvironment.py:122: FutureWarning: Setting an item of incompatible dtype is deprecated and will raise in a future error of pandas. Value '0j' has dtype incompatible with float64, please explicitly cast to a compatible dtype first.\n",
      "  qudit_op_df.at[index, column_name] = value\n",
      "/Users/arthurostrauss/Library/CloudStorage/OneDrive-NationalUniversityofSingapore/Coding_projects/Quantum_Optimal_Control/quantumenvironment.py:122: FutureWarning: Setting an item of incompatible dtype is deprecated and will raise in a future error of pandas. Value '0j' has dtype incompatible with float64, please explicitly cast to a compatible dtype first.\n",
      "  qudit_op_df.at[index, column_name] = value\n",
      " 12%|█▎        | 1/8 [00:06<00:44,  6.34s/it]"
     ]
    },
    {
     "name": "stdout",
     "output_type": "stream",
     "text": [
      "mean tensor([-0.1324, -0.1356, -0.0568,  0.0473])\n",
      "sigma tensor([0.4729, 0.5265, 0.4692, 0.4994])\n",
      "Average return: 1.4671717171717171\n",
      "Starting benchmarking...\n",
      "Starting simulation benchmark...\n",
      "Unitaries [[[ 0.00000000e+00-5.00000000e-01j  0.00000000e+00-5.00000000e-01j\n",
      "    0.00000000e+00-8.07061688e-17j ...  0.00000000e+00+2.42113859e-17j\n",
      "    0.00000000e+00+1.05059226e-16j  0.00000000e+00+1.87024875e-17j]\n",
      "  [-3.57585316e-01-1.16963053e-01j  4.89007869e-01-3.78515280e-01j\n",
      "    2.89322255e-03+2.26641993e-03j ...  8.67176798e-03+4.56515164e-04j\n",
      "    4.93229836e-03-6.35210105e-03j -2.90265084e-05+2.56534474e-04j]]\n",
      "\n",
      " [[ 0.00000000e+00-5.00000000e-01j  0.00000000e+00-5.00000000e-01j\n",
      "    0.00000000e+00-8.07061688e-17j ...  0.00000000e+00+2.42113859e-17j\n",
      "    0.00000000e+00+1.05059226e-16j  0.00000000e+00+1.87024875e-17j]\n",
      "  [ 3.42347899e-01-3.02093215e-01j  4.99128020e-01-2.22688911e-01j\n",
      "    5.40742819e-03-3.24242478e-03j ...  8.10652689e-03+3.40034912e-03j\n",
      "    5.54209896e-03+2.11429800e-03j -1.66929840e-05-7.74728933e-05j]]\n",
      "\n",
      " [[ 0.00000000e+00-5.00000000e-01j  0.00000000e+00-5.00000000e-01j\n",
      "    0.00000000e+00-8.07061688e-17j ...  0.00000000e+00+2.42113859e-17j\n",
      "    0.00000000e+00+1.05059226e-16j  0.00000000e+00+1.87024875e-17j]\n",
      "  [-4.36048007e-01-5.21324222e-02j  3.66719775e-01+4.84722819e-01j\n",
      "    9.33139649e-03+3.88738269e-03j ...  8.47764383e-03+7.34812429e-03j\n",
      "    4.17263655e-03+7.22764906e-04j  4.75146540e-04+8.00910617e-04j]]\n",
      "\n",
      " ...\n",
      "\n",
      " [[ 0.00000000e+00-5.00000000e-01j  0.00000000e+00-5.00000000e-01j\n",
      "    0.00000000e+00-8.07061688e-17j ...  0.00000000e+00+2.42113859e-17j\n",
      "    0.00000000e+00+1.05059226e-16j  0.00000000e+00+1.87024875e-17j]\n",
      "  [-2.79460140e-01+2.85941148e-01j -5.12517094e-02-7.67252489e-01j\n",
      "   -1.00747116e-04-2.33178628e-03j ...  1.42192822e-03+1.79413569e-03j\n",
      "    6.04755785e-03-2.05417793e-03j -2.62074932e-04-6.23526677e-06j]]\n",
      "\n",
      " [[ 0.00000000e+00-5.00000000e-01j  0.00000000e+00-5.00000000e-01j\n",
      "    0.00000000e+00-8.07061688e-17j ...  0.00000000e+00+2.42113859e-17j\n",
      "    0.00000000e+00+1.05059226e-16j  0.00000000e+00+1.87024875e-17j]\n",
      "  [-3.72889391e-01+8.55913301e-02j  3.05762390e-01-5.80951388e-01j\n",
      "    9.37717267e-03+7.45661741e-07j ...  7.73852540e-03+3.80574805e-04j\n",
      "   -7.08869456e-03-4.55255462e-03j -3.21749532e-04+4.12280923e-04j]]\n",
      "\n",
      " [[ 0.00000000e+00-5.00000000e-01j  0.00000000e+00-5.00000000e-01j\n",
      "    0.00000000e+00-8.07061688e-17j ...  0.00000000e+00+2.42113859e-17j\n",
      "    0.00000000e+00+1.05059226e-16j  0.00000000e+00+1.87024875e-17j]\n",
      "  [ 4.53194104e-01+8.83341269e-02j  8.87397690e-03-5.43926270e-01j\n",
      "    4.39438326e-03-3.41204447e-03j ...  2.61681284e-03-8.00974781e-03j\n",
      "    3.66581959e-03-4.04200473e-03j -8.90118497e-05+7.11532172e-04j]]]\n",
      "[[1.+0.j 0.+0.j 0.+0.j 0.+0.j 0.+0.j 0.+0.j 0.+0.j 0.+0.j 0.+0.j]\n",
      " [0.+0.j 0.+0.j 0.+0.j 0.+0.j 1.+0.j 0.+0.j 0.+0.j 0.+0.j 0.+0.j]\n",
      " [0.+0.j 0.+0.j 1.+0.j 0.+0.j 0.+0.j 0.+0.j 0.+0.j 0.+0.j 0.+0.j]\n",
      " [0.+0.j 0.+0.j 0.+0.j 1.+0.j 0.+0.j 0.+0.j 0.+0.j 0.+0.j 0.+0.j]\n",
      " [0.+0.j 1.+0.j 0.+0.j 0.+0.j 0.+0.j 0.+0.j 0.+0.j 0.+0.j 0.+0.j]\n",
      " [0.+0.j 0.+0.j 0.+0.j 0.+0.j 0.+0.j 1.+0.j 0.+0.j 0.+0.j 0.+0.j]\n",
      " [0.+0.j 0.+0.j 0.+0.j 0.+0.j 0.+0.j 0.+0.j 1.+0.j 0.+0.j 0.+0.j]\n",
      " [0.+0.j 0.+0.j 0.+0.j 0.+0.j 0.+0.j 0.+0.j 0.+0.j 1.+0.j 0.+0.j]\n",
      " [0.+0.j 0.+0.j 0.+0.j 0.+0.j 0.+0.j 0.+0.j 0.+0.j 0.+0.j 1.+0.j]]\n",
      "(2, 9)\n",
      "[[ 0.00000000e+00-5.00000000e-01j  0.00000000e+00-5.00000000e-01j\n",
      "   0.00000000e+00-8.07061688e-17j  0.00000000e+00-5.00000000e-01j\n",
      "   0.00000000e+00-5.00000000e-01j  0.00000000e+00+1.74610759e-16j\n",
      "   0.00000000e+00+2.42113859e-17j  0.00000000e+00+1.05059226e-16j\n",
      "   0.00000000e+00+1.87024875e-17j]\n",
      " [-3.57585316e-01-1.16963053e-01j  4.89007869e-01-3.78515280e-01j\n",
      "   2.89322255e-03+2.26641993e-03j -2.65811025e-01-4.36784849e-01j\n",
      "   5.45779682e-01-1.12115502e-02j -1.87206814e-04-4.74678171e-04j\n",
      "   8.67176798e-03+4.56515164e-04j  4.93229836e-03-6.35210105e-03j\n",
      "  -2.90265084e-05+2.56534474e-04j]]\n"
     ]
    },
    {
     "name": "stderr",
     "output_type": "stream",
     "text": [
      "\n"
     ]
    },
    {
     "ename": "ValueError",
     "evalue": "Operators must be a square matrix. 2 != 9",
     "output_type": "error",
     "traceback": [
      "\u001b[0;31m---------------------------------------------------------------------------\u001b[0m",
      "\u001b[0;31mValueError\u001b[0m                                Traceback (most recent call last)",
      "Cell \u001b[0;32mIn[6], line 1\u001b[0m\n\u001b[0;32m----> 1\u001b[0m ppo_agent(total_updates\u001b[38;5;241m=\u001b[39m\u001b[38;5;241m8\u001b[39m, print_debug\u001b[38;5;241m=\u001b[39m\u001b[38;5;28;01mTrue\u001b[39;00m)\n",
      "File \u001b[0;32m~/Library/CloudStorage/OneDrive-NationalUniversityofSingapore/Coding_projects/Quantum_Optimal_Control/ppo.py:178\u001b[0m, in \u001b[0;36mmake_train_ppo.<locals>.train\u001b[0;34m(total_updates, print_debug, num_prints)\u001b[0m\n\u001b[1;32m    175\u001b[0m actions[step] \u001b[38;5;241m=\u001b[39m action\n\u001b[1;32m    176\u001b[0m logprobs[step] \u001b[38;5;241m=\u001b[39m logprob\n\u001b[0;32m--> 178\u001b[0m next_obs, reward, terminated, truncated, infos \u001b[38;5;241m=\u001b[39m env\u001b[38;5;241m.\u001b[39mstep(\n\u001b[1;32m    179\u001b[0m     action\u001b[38;5;241m.\u001b[39mcpu()\u001b[38;5;241m.\u001b[39mnumpy()\n\u001b[1;32m    180\u001b[0m )\n\u001b[1;32m    181\u001b[0m next_obs \u001b[38;5;241m=\u001b[39m torch\u001b[38;5;241m.\u001b[39mTensor(next_obs)\n\u001b[1;32m    182\u001b[0m done \u001b[38;5;241m=\u001b[39m \u001b[38;5;28mint\u001b[39m(np\u001b[38;5;241m.\u001b[39mlogical_or(terminated, truncated))\n",
      "File \u001b[0;32m~/Library/CloudStorage/OneDrive-NationalUniversityofSingapore/Coding_projects/Quantum_Optimal_Control/quantumenvironment.py:451\u001b[0m, in \u001b[0;36mQuantumEnvironment.step\u001b[0;34m(self, action)\u001b[0m\n\u001b[1;32m    449\u001b[0m \u001b[38;5;28mself\u001b[39m\u001b[38;5;241m.\u001b[39m_param_values \u001b[38;5;241m=\u001b[39m params\n\u001b[1;32m    450\u001b[0m terminated \u001b[38;5;241m=\u001b[39m \u001b[38;5;28mself\u001b[39m\u001b[38;5;241m.\u001b[39m_episode_ended \u001b[38;5;241m=\u001b[39m \u001b[38;5;28;01mTrue\u001b[39;00m\n\u001b[0;32m--> 451\u001b[0m reward \u001b[38;5;241m=\u001b[39m \u001b[38;5;28mself\u001b[39m\u001b[38;5;241m.\u001b[39mperform_action(\u001b[38;5;28mself\u001b[39m\u001b[38;5;241m.\u001b[39m_param_values)\n\u001b[1;32m    453\u001b[0m \u001b[38;5;66;03m# Using Negative Log Error as the Reward\u001b[39;00m\n\u001b[1;32m    454\u001b[0m optimal_error_precision \u001b[38;5;241m=\u001b[39m \u001b[38;5;241m1e-6\u001b[39m\n",
      "File \u001b[0;32m~/Library/CloudStorage/OneDrive-NationalUniversityofSingapore/Coding_projects/Quantum_Optimal_Control/quantumenvironment.py:514\u001b[0m, in \u001b[0;36mQuantumEnvironment.perform_action\u001b[0;34m(self, actions)\u001b[0m\n\u001b[1;32m    512\u001b[0m \u001b[38;5;28;01mif\u001b[39;00m \u001b[38;5;28mself\u001b[39m\u001b[38;5;241m.\u001b[39mdo_benchmark():\n\u001b[1;32m    513\u001b[0m     \u001b[38;5;28mprint\u001b[39m(\u001b[38;5;124m\"\u001b[39m\u001b[38;5;124mStarting benchmarking...\u001b[39m\u001b[38;5;124m\"\u001b[39m)\n\u001b[0;32m--> 514\u001b[0m     \u001b[38;5;28mself\u001b[39m\u001b[38;5;241m.\u001b[39mstore_benchmarks(params)\n\u001b[1;32m    515\u001b[0m     \u001b[38;5;28mprint\u001b[39m(\u001b[38;5;124m\"\u001b[39m\u001b[38;5;124mFinished benchmarking\u001b[39m\u001b[38;5;124m\"\u001b[39m)\n\u001b[1;32m    517\u001b[0m \u001b[38;5;28;01mtry\u001b[39;00m:\n",
      "File \u001b[0;32m~/Library/CloudStorage/OneDrive-NationalUniversityofSingapore/Coding_projects/Quantum_Optimal_Control/quantumenvironment.py:672\u001b[0m, in \u001b[0;36mQuantumEnvironment.store_benchmarks\u001b[0;34m(self, params)\u001b[0m\n\u001b[1;32m    668\u001b[0m     \u001b[38;5;28;01mfor\u001b[39;00m unitary \u001b[38;5;129;01min\u001b[39;00m unitaries:\n\u001b[1;32m    669\u001b[0m         unitary \u001b[38;5;241m=\u001b[39m np\u001b[38;5;241m.\u001b[39marray(unitary)\n\u001b[1;32m    670\u001b[0m         qubitized_unitaries\u001b[38;5;241m.\u001b[39mappend(\n\u001b[1;32m    671\u001b[0m             Operator(\n\u001b[0;32m--> 672\u001b[0m                 extract_qubit_unitary_from_qudit_operator(\n\u001b[1;32m    673\u001b[0m                     unitary, dims[\u001b[38;5;241m0\u001b[39m]\n\u001b[1;32m    674\u001b[0m                 )\n\u001b[1;32m    675\u001b[0m             )\n\u001b[1;32m    676\u001b[0m         )\n\u001b[1;32m    678\u001b[0m     \u001b[38;5;28mself\u001b[39m\u001b[38;5;241m.\u001b[39mavg_fidelity_history\u001b[38;5;241m.\u001b[39mappend(\n\u001b[1;32m    679\u001b[0m         np\u001b[38;5;241m.\u001b[39mmean(\n\u001b[1;32m    680\u001b[0m             [\n\u001b[0;32m   (...)\u001b[0m\n\u001b[1;32m    684\u001b[0m         )\n\u001b[1;32m    685\u001b[0m     )\n\u001b[1;32m    686\u001b[0m \u001b[38;5;28mself\u001b[39m\u001b[38;5;241m.\u001b[39mbuilt_unitaries\u001b[38;5;241m.\u001b[39mappend(unitaries)\n",
      "File \u001b[0;32m~/Library/CloudStorage/OneDrive-NationalUniversityofSingapore/Coding_projects/Quantum_Optimal_Control/quantumenvironment.py:131\u001b[0m, in \u001b[0;36mextract_qubit_unitary_from_qudit_operator\u001b[0;34m(operator, n_levels)\u001b[0m\n\u001b[1;32m    129\u001b[0m \u001b[38;5;28mprint\u001b[39m(operator)\n\u001b[1;32m    130\u001b[0m \u001b[38;5;28;01mif\u001b[39;00m operator\u001b[38;5;241m.\u001b[39mshape[\u001b[38;5;241m0\u001b[39m] \u001b[38;5;241m!=\u001b[39m operator\u001b[38;5;241m.\u001b[39mshape[\u001b[38;5;241m1\u001b[39m]:\n\u001b[0;32m--> 131\u001b[0m     \u001b[38;5;28;01mraise\u001b[39;00m \u001b[38;5;167;01mValueError\u001b[39;00m(\n\u001b[1;32m    132\u001b[0m         \u001b[38;5;124mf\u001b[39m\u001b[38;5;124m\"\u001b[39m\u001b[38;5;124mOperators must be a square matrix. \u001b[39m\u001b[38;5;132;01m{\u001b[39;00moperator\u001b[38;5;241m.\u001b[39mshape[\u001b[38;5;241m0\u001b[39m]\u001b[38;5;132;01m}\u001b[39;00m\u001b[38;5;124m != \u001b[39m\u001b[38;5;132;01m{\u001b[39;00moperator\u001b[38;5;241m.\u001b[39mshape[\u001b[38;5;241m1\u001b[39m]\u001b[38;5;132;01m}\u001b[39;00m\u001b[38;5;124m\"\u001b[39m\n\u001b[1;32m    133\u001b[0m     )\n\u001b[1;32m    134\u001b[0m n_systems \u001b[38;5;241m=\u001b[39m \u001b[38;5;28mint\u001b[39m(np\u001b[38;5;241m.\u001b[39memath\u001b[38;5;241m.\u001b[39mlogn(n_levels, operator\u001b[38;5;241m.\u001b[39mshape[\u001b[38;5;241m0\u001b[39m]))\n\u001b[1;32m    135\u001b[0m row_and_column_indices \u001b[38;5;241m=\u001b[39m [\n\u001b[1;32m    136\u001b[0m     positive_int_to_base(index, base\u001b[38;5;241m=\u001b[39mn_levels, padding\u001b[38;5;241m=\u001b[39mn_systems)\n\u001b[1;32m    137\u001b[0m     \u001b[38;5;28;01mfor\u001b[39;00m index \u001b[38;5;129;01min\u001b[39;00m \u001b[38;5;28mrange\u001b[39m(operator\u001b[38;5;241m.\u001b[39mshape[\u001b[38;5;241m0\u001b[39m])\n\u001b[1;32m    138\u001b[0m ]\n",
      "\u001b[0;31mValueError\u001b[0m: Operators must be a square matrix. 2 != 9"
     ]
    }
   ],
   "source": [
    "ppo_agent(total_updates=8, print_debug=True)"
   ],
   "metadata": {
    "collapsed": false,
    "ExecuteTime": {
     "end_time": "2023-12-20T09:23:04.082423Z",
     "start_time": "2023-12-20T09:22:57.259419Z"
    }
   },
   "id": "8d40af0ee8030779"
  },
  {
   "cell_type": "code",
   "execution_count": null,
   "outputs": [],
   "source": [
    "q_env.circuit_truncations[0].calibrations"
   ],
   "metadata": {
    "collapsed": false,
    "ExecuteTime": {
     "start_time": "2023-12-20T09:23:04.073415Z"
    }
   },
   "id": "d99ea0a7eb96155b"
  },
  {
   "cell_type": "code",
   "execution_count": null,
   "outputs": [],
   "source": [
    "sched = q_env.backend.options.solver.circuit_macro().assign_parameters(\n",
    "    {q_env._parameters[0]: 0.0, q_env._parameters[1]: 0.0}\n",
    ")"
   ],
   "metadata": {
    "collapsed": false,
    "ExecuteTime": {
     "start_time": "2023-12-20T09:23:04.074320Z"
    }
   },
   "id": "9aaa7b8b4627c54d"
  },
  {
   "cell_type": "code",
   "execution_count": null,
   "outputs": [],
   "source": [
    "sched"
   ],
   "metadata": {
    "collapsed": false,
    "ExecuteTime": {
     "start_time": "2023-12-20T09:23:04.075257Z"
    }
   },
   "id": "ef8792b7938f3241"
  },
  {
   "cell_type": "code",
   "execution_count": null,
   "outputs": [],
   "source": [
    "from qiskit.circuit import QuantumCircuit\n",
    "\n",
    "q_env.backend.set_options(initial_state=\"ground_state\")\n",
    "q_env.backend.target.get_calibration(\"x\", qargs=(0,))"
   ],
   "metadata": {
    "collapsed": false,
    "ExecuteTime": {
     "start_time": "2023-12-20T09:23:04.075984Z"
    }
   },
   "id": "deb20453581fe9b"
  },
  {
   "cell_type": "code",
   "execution_count": null,
   "outputs": [],
   "source": [
    "q_env.backend.options.solver_options"
   ],
   "metadata": {
    "collapsed": false,
    "ExecuteTime": {
     "start_time": "2023-12-20T09:23:04.076885Z"
    }
   },
   "id": "92f954dd2cf5586c"
  },
  {
   "cell_type": "code",
   "execution_count": null,
   "outputs": [],
   "source": [
    "from qiskit.circuit.library import CXGate\n",
    "from qiskit import QuantumCircuit, transpile\n",
    "\n",
    "backend = q_env.backend\n",
    "qc = QuantumCircuit(1)\n",
    "qc.x(0)\n",
    "qc.measure_all()\n",
    "backend.run(transpile(qc, backend), shots=1000).result().get_counts()"
   ],
   "metadata": {
    "collapsed": false,
    "ExecuteTime": {
     "start_time": "2023-12-20T09:23:04.077649Z"
    }
   },
   "id": "7ad5e3beb9521a4b"
  },
  {
   "cell_type": "code",
   "execution_count": null,
   "outputs": [],
   "source": [
    "batchsize = q_env.batch_size\n",
    "action = np.tile(np.array([0.0, 0.0]), (batchsize, 1))\n",
    "q_env.step(action)"
   ],
   "metadata": {
    "collapsed": false,
    "ExecuteTime": {
     "start_time": "2023-12-20T09:23:04.078187Z"
    }
   },
   "id": "2d7b7f7b4e278343"
  },
  {
   "cell_type": "code",
   "execution_count": null,
   "outputs": [],
   "source": [
    "q_env.store_benchmarks(action)"
   ],
   "metadata": {
    "collapsed": false,
    "ExecuteTime": {
     "start_time": "2023-12-20T09:23:04.078666Z"
    }
   },
   "id": "171c00f052f1aabf"
  },
  {
   "cell_type": "code",
   "execution_count": null,
   "outputs": [],
   "source": [
    "q_env.avg_fidelity_history"
   ],
   "metadata": {
    "collapsed": false,
    "ExecuteTime": {
     "start_time": "2023-12-20T09:23:04.079219Z"
    }
   },
   "id": "24b2644af9083437"
  },
  {
   "cell_type": "code",
   "execution_count": null,
   "outputs": [],
   "source": [],
   "metadata": {
    "collapsed": false,
    "ExecuteTime": {
     "start_time": "2023-12-20T09:23:04.079746Z"
    }
   },
   "id": "95043d599de69e5c"
  }
 ],
 "metadata": {
  "kernelspec": {
   "display_name": "Python 3",
   "language": "python",
   "name": "python3"
  },
  "language_info": {
   "codemirror_mode": {
    "name": "ipython",
    "version": 2
   },
   "file_extension": ".py",
   "mimetype": "text/x-python",
   "name": "python",
   "nbconvert_exporter": "python",
   "pygments_lexer": "ipython2",
   "version": "2.7.6"
  }
 },
 "nbformat": 4,
 "nbformat_minor": 5
}
