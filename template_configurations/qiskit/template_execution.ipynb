{
 "cells": [
  {
   "cell_type": "code",
   "execution_count": 1,
   "id": "initial_id",
   "metadata": {
    "collapsed": true,
    "ExecuteTime": {
     "end_time": "2023-12-24T20:49:51.884964Z",
     "start_time": "2023-12-24T20:49:30.575095Z"
    }
   },
   "outputs": [
    {
     "name": "stderr",
     "output_type": "stream",
     "text": [
      "/Users/arthurostrauss/anaconda3/envs/rl_qoc/lib/python3.11/site-packages/qiskit_dynamics/dispatch/backends/jax.py:34: UserWarning: The functionality in the perturbation module of Qiskit Dynamics requires a JAX version <= 0.4.6, due to a bug in JAX versions > 0.4.6. For versions 0.4.4, 0.4.5, and 0.4.6, using the perturbation module functionality requires setting os.environ['JAX_JIT_PJIT_API_MERGE'] = '0' before importing JAX or Dynamics.\n",
      "  warnings.warn(\n"
     ]
    },
    {
     "name": "stdout",
     "output_type": "stream",
     "text": [
      "Starting Rabi experiment for qubit 0...\n",
      "Rabi experiment for qubit 0 done.\n",
      "Starting Drag experiment for qubit 0...\n",
      "Drag experiments done for qubit 0 done.\n",
      "Starting Rabi experiment for qubit 1...\n",
      "Rabi experiment for qubit 1 done.\n",
      "Starting Drag experiment for qubit 1...\n",
      "Drag experiments done for qubit 1 done.\n",
      "All single qubit calibrations are done\n",
      "Updated Instruction Schedule Map <InstructionScheduleMap(1Q instructions:\n",
      "  q0: {'measure', 'tdg', 't', 'rz', 'sx', 'z', 'delay', 'h', 'x', 's', 'reset', 'id', 'sdg'}\n",
      "  q1: {'measure', 'tdg', 't', 'rz', 'sx', 'z', 'delay', 'h', 'x', 's', 'reset', 'id', 'sdg'}\n",
      "Multi qubit instructions:\n",
      "  (0, 1): {'cr45p', 'ecr', 'cr45m'}\n",
      "  (1, 0): {'cr45p', 'ecr', 'cr45m'}\n",
      ")>\n"
     ]
    }
   ],
   "source": [
    "import numpy as np\n",
    "\n",
    "from template_configurations.qiskit.pulse_config import (\n",
    "    q_env_config as pulse_q_env_config,\n",
    "    circuit_context as pulse_circuit_context,\n",
    ")"
   ]
  },
  {
   "cell_type": "code",
   "execution_count": 2,
   "outputs": [],
   "source": [
    "from quantumenvironment import QuantumEnvironment\n",
    "from context_aware_quantum_environment import ContextAwareQuantumEnvironment\n",
    "from agent import Agent"
   ],
   "metadata": {
    "collapsed": false,
    "ExecuteTime": {
     "end_time": "2023-12-24T20:49:51.886106Z",
     "start_time": "2023-12-24T20:49:51.883565Z"
    }
   },
   "id": "fb1742066410293a"
  },
  {
   "cell_type": "code",
   "execution_count": 3,
   "outputs": [
    {
     "name": "stdout",
     "output_type": "stream",
     "text": [
      "SparsePauliOp(['I', 'Z'],\n",
      "              coeffs=[ 0.5+0.j, -0.5+0.j])\n"
     ]
    },
    {
     "data": {
      "text/plain": "QuantumEnvironment composed of 1 qubits, \nDefined target: gate (Instruction(name='x', num_qubits=1, num_clbits=0, params=[]))\nPhysical qubits: [0]\nBackend: <qiskit_dynamics.backend.dynamics_backend.DynamicsBackend object at 0x2d8dde210>,\nAbstraction level: pulse,\nRun options: N_shots (1), Sampling_Pauli_space (100), \nBatchsize: 256, "
     },
     "execution_count": 3,
     "metadata": {},
     "output_type": "execute_result"
    }
   ],
   "source": [
    "q_env = QuantumEnvironment(pulse_q_env_config)\n",
    "q_env"
   ],
   "metadata": {
    "collapsed": false,
    "ExecuteTime": {
     "end_time": "2023-12-24T20:49:53.817097Z",
     "start_time": "2023-12-24T20:49:51.886654Z"
    }
   },
   "id": "713630c59461fbb8"
  },
  {
   "cell_type": "code",
   "execution_count": 4,
   "outputs": [],
   "source": [
    "import yaml\n",
    "\n",
    "with open(\n",
    "        \"/Users/arthurostrauss/Library/CloudStorage/OneDrive-NationalUniversityofSingapore/Coding_projects/Quantum_Optimal_Control/template_configurations/agent_config.yaml\",\n",
    "        \"r\",\n",
    ") as f:\n",
    "    agent_config = yaml.safe_load(f)"
   ],
   "metadata": {
    "collapsed": false,
    "ExecuteTime": {
     "end_time": "2023-12-24T20:49:53.817802Z",
     "start_time": "2023-12-24T20:49:53.814282Z"
    }
   },
   "id": "960dff591175fad7"
  },
  {
   "cell_type": "code",
   "execution_count": 5,
   "outputs": [],
   "source": [
    "from ppo import make_train_ppo\n",
    "\n",
    "ppo_agent = make_train_ppo(agent_config, q_env)"
   ],
   "metadata": {
    "collapsed": false,
    "ExecuteTime": {
     "end_time": "2023-12-24T20:49:54.003888Z",
     "start_time": "2023-12-24T20:49:53.818684Z"
    }
   },
   "id": "7ea578dc8a8ceb20"
  },
  {
   "cell_type": "code",
   "execution_count": 26,
   "outputs": [
    {
     "name": "stderr",
     "output_type": "stream",
     "text": [
      "  0%|          | 0/8 [00:00<?, ?it/s]"
     ]
    },
    {
     "name": "stdout",
     "output_type": "stream",
     "text": [
      "Starting benchmarking...\n",
      "Starting simulation benchmark...\n",
      "Finished simulation benchmark\n",
      "Finished benchmarking\n",
      "SparsePauliOp(['I', 'Z'],\n",
      "              coeffs=[ 0.5+0.j, -0.5+0.j])\n"
     ]
    },
    {
     "name": "stderr",
     "output_type": "stream",
     "text": [
      " 12%|█▎        | 1/8 [00:03<00:22,  3.26s/it]"
     ]
    },
    {
     "name": "stdout",
     "output_type": "stream",
     "text": [
      "mean tensor([ 0.0078, -0.1183])\n",
      "sigma tensor([0.5517, 0.4481])\n",
      "DFE Rewards Mean: 0.5114397321428572\n",
      "DFE Rewards standard dev 0.34896992170241475\n",
      "Returns Mean: 1.453639\n",
      "Returns standard dev 2.3360648\n",
      "Advantages Mean: 0.7963765\n",
      "Advantages standard dev 2.336065\n",
      "Starting benchmarking...\n",
      "Starting simulation benchmark...\n",
      "Finished simulation benchmark\n",
      "Finished benchmarking\n",
      "SparsePauliOp(['I', 'Z'],\n",
      "              coeffs=[ 0.5+0.j, -0.5+0.j])\n"
     ]
    },
    {
     "name": "stderr",
     "output_type": "stream",
     "text": [
      " 25%|██▌       | 2/8 [00:07<00:21,  3.55s/it]"
     ]
    },
    {
     "name": "stdout",
     "output_type": "stream",
     "text": [
      "mean tensor([-0.0131, -0.1828])\n",
      "sigma tensor([0.5431, 0.4120])\n",
      "DFE Rewards Mean: 0.46182839912280704\n",
      "DFE Rewards standard dev 0.35322693521300413\n",
      "Returns Mean: 1.2392784\n",
      "Returns standard dev 2.0726392\n",
      "Advantages Mean: 0.392782\n",
      "Advantages standard dev 2.0726392\n",
      "Starting benchmarking...\n",
      "Starting simulation benchmark...\n",
      "Finished simulation benchmark\n",
      "Finished benchmarking\n",
      "SparsePauliOp(['I', 'Z'],\n",
      "              coeffs=[0.5+0.j, 0.5+0.j])\n"
     ]
    },
    {
     "name": "stderr",
     "output_type": "stream",
     "text": [
      " 38%|███▊      | 3/8 [00:11<00:19,  3.84s/it]"
     ]
    },
    {
     "name": "stdout",
     "output_type": "stream",
     "text": [
      "mean tensor([ 0.0374, -0.2458])\n",
      "sigma tensor([0.5755, 0.3623])\n",
      "DFE Rewards Mean: 0.4618749999999999\n",
      "DFE Rewards standard dev 0.34914572083157486\n",
      "Returns Mean: 1.7981741\n",
      "Returns standard dev 3.4563155\n",
      "Advantages Mean: 0.406703\n",
      "Advantages standard dev 3.4563155\n",
      "Starting benchmarking...\n",
      "Starting simulation benchmark...\n",
      "Finished simulation benchmark\n",
      "Finished benchmarking\n",
      "SparsePauliOp(['I', 'X'],\n",
      "              coeffs=[0.5+0.j, 0.5+0.j])\n"
     ]
    },
    {
     "name": "stderr",
     "output_type": "stream",
     "text": [
      " 50%|█████     | 4/8 [00:16<00:17,  4.35s/it]"
     ]
    },
    {
     "name": "stdout",
     "output_type": "stream",
     "text": [
      "mean tensor([-0.0031, -0.2735])\n",
      "sigma tensor([0.5358, 0.3561])\n",
      "DFE Rewards Mean: 0.4895833333333333\n",
      "DFE Rewards standard dev 0.33829377201350835\n",
      "Returns Mean: 1.7962179\n",
      "Returns standard dev 3.3566916\n",
      "Advantages Mean: -0.18427967\n",
      "Advantages standard dev 3.3566916\n",
      "Starting benchmarking...\n",
      "Starting simulation benchmark...\n",
      "Finished simulation benchmark\n",
      "Finished benchmarking\n",
      "SparsePauliOp(['I', 'X'],\n",
      "              coeffs=[0.5+0.j, 0.5+0.j])\n"
     ]
    },
    {
     "name": "stderr",
     "output_type": "stream",
     "text": [
      " 62%|██████▎   | 5/8 [00:21<00:13,  4.63s/it]"
     ]
    },
    {
     "name": "stdout",
     "output_type": "stream",
     "text": [
      "mean tensor([ 0.0038, -0.2770])\n",
      "sigma tensor([0.4445, 0.3532])\n",
      "DFE Rewards Mean: 0.47337962962962965\n",
      "DFE Rewards standard dev 0.3384085881205106\n",
      "Returns Mean: 1.6110543\n",
      "Returns standard dev 3.0880165\n",
      "Advantages Mean: -0.19630775\n",
      "Advantages standard dev 3.0880167\n",
      "Starting benchmarking...\n",
      "Starting simulation benchmark...\n",
      "Finished simulation benchmark\n",
      "Finished benchmarking\n",
      "SparsePauliOp(['I', 'Y'],\n",
      "              coeffs=[ 0.5+0.j, -0.5+0.j])\n"
     ]
    },
    {
     "name": "stderr",
     "output_type": "stream",
     "text": [
      " 75%|███████▌  | 6/8 [00:26<00:09,  4.78s/it]"
     ]
    },
    {
     "name": "stdout",
     "output_type": "stream",
     "text": [
      "mean tensor([ 0.0080, -0.3062])\n",
      "sigma tensor([0.4078, 0.3333])\n",
      "DFE Rewards Mean: 0.4441474780701754\n",
      "DFE Rewards standard dev 0.3400879764760898\n",
      "Returns Mean: 1.1473502\n",
      "Returns standard dev 2.041151\n",
      "Advantages Mean: -0.74870074\n",
      "Advantages standard dev 2.041151\n",
      "Starting benchmarking...\n",
      "Starting simulation benchmark...\n",
      "Finished simulation benchmark\n",
      "Finished benchmarking\n",
      "SparsePauliOp(['I', 'Y'],\n",
      "              coeffs=[ 0.5+0.j, -0.5+0.j])\n"
     ]
    },
    {
     "name": "stderr",
     "output_type": "stream",
     "text": [
      " 88%|████████▊ | 7/8 [00:31<00:04,  4.95s/it]"
     ]
    },
    {
     "name": "stdout",
     "output_type": "stream",
     "text": [
      "mean tensor([ 0.0182, -0.3163])\n",
      "sigma tensor([0.4464, 0.2949])\n",
      "DFE Rewards Mean: 0.48647836538461536\n",
      "DFE Rewards standard dev 0.33943515871631774\n",
      "Returns Mean: 1.377107\n",
      "Returns standard dev 2.3496032\n",
      "Advantages Mean: -0.3454213\n",
      "Advantages standard dev 2.3496032\n",
      "Starting benchmarking...\n",
      "Starting simulation benchmark...\n",
      "Finished simulation benchmark\n",
      "Finished benchmarking\n",
      "SparsePauliOp(['I', 'Y'],\n",
      "              coeffs=[ 0.5+0.j, -0.5+0.j])\n"
     ]
    },
    {
     "name": "stderr",
     "output_type": "stream",
     "text": [
      "100%|██████████| 8/8 [01:25<00:00, 10.64s/it]"
     ]
    },
    {
     "name": "stdout",
     "output_type": "stream",
     "text": [
      "mean tensor([-0.0005, -0.2833])\n",
      "sigma tensor([0.4698, 0.2906])\n",
      "DFE Rewards Mean: 0.5011792452830189\n",
      "DFE Rewards standard dev 0.346021593186362\n",
      "Returns Mean: 1.5707753\n",
      "Returns standard dev 2.7857368\n",
      "Advantages Mean: 0.037891448\n",
      "Advantages standard dev 2.785737\n"
     ]
    },
    {
     "name": "stderr",
     "output_type": "stream",
     "text": [
      "\n"
     ]
    }
   ],
   "source": [
    "ppo_agent(total_updates=8, print_debug=True)"
   ],
   "metadata": {
    "collapsed": false,
    "ExecuteTime": {
     "end_time": "2023-12-24T21:20:23.904693Z",
     "start_time": "2023-12-24T21:18:58.771088Z"
    }
   },
   "id": "8d40af0ee8030779"
  },
  {
   "cell_type": "code",
   "execution_count": 7,
   "outputs": [
    {
     "data": {
      "text/plain": "{'custom_x': {((0,),\n   (ParameterVectorElement(a[0]),\n    ParameterVectorElement(a[1]))): ScheduleBlock(Play(Drag(duration=160, sigma=40, beta=5.5788393326, amp=a[0] + 0.118643, angle=a[1]), DriveChannel(0)), name=\"x\", transform=AlignLeft())}}"
     },
     "execution_count": 7,
     "metadata": {},
     "output_type": "execute_result"
    }
   ],
   "source": [
    "q_env.circuit_truncations[0].calibrations"
   ],
   "metadata": {
    "collapsed": false,
    "ExecuteTime": {
     "end_time": "2023-12-24T20:50:30.164463Z",
     "start_time": "2023-12-24T20:50:30.162820Z"
    }
   },
   "id": "d99ea0a7eb96155b"
  },
  {
   "cell_type": "code",
   "outputs": [
    {
     "data": {
      "text/plain": "[0.9812347865078143,\n 0.5440500190295494,\n 0.5027941824891667,\n 0.5657334059304393,\n 0.5319601218682205,\n 0.5453171553573737,\n 0.4900237307666435,\n 0.5279773573518566]"
     },
     "execution_count": 29,
     "metadata": {},
     "output_type": "execute_result"
    }
   ],
   "source": [
    "q_env.avg_fidelity_history"
   ],
   "metadata": {
    "collapsed": false,
    "ExecuteTime": {
     "end_time": "2023-12-24T21:20:40.028362Z",
     "start_time": "2023-12-24T21:20:39.958511Z"
    }
   },
   "id": "4d201fec0fce42c7",
   "execution_count": 29
  },
  {
   "cell_type": "code",
   "execution_count": null,
   "outputs": [],
   "source": [
    "sched = q_env.backend.options.solver.circuit_macro().assign_parameters(\n",
    "    {q_env._parameters[0]: 0.0, q_env._parameters[1]: 0.0}\n",
    ")"
   ],
   "metadata": {
    "collapsed": false,
    "ExecuteTime": {
     "start_time": "2023-12-20T09:23:04.074320Z"
    }
   },
   "id": "9aaa7b8b4627c54d"
  },
  {
   "cell_type": "code",
   "execution_count": null,
   "outputs": [],
   "source": [
    "sched"
   ],
   "metadata": {
    "collapsed": false,
    "ExecuteTime": {
     "start_time": "2023-12-20T09:23:04.075257Z"
    }
   },
   "id": "ef8792b7938f3241"
  },
  {
   "cell_type": "code",
   "execution_count": null,
   "outputs": [],
   "source": [
    "from qiskit.circuit import QuantumCircuit\n",
    "\n",
    "q_env.backend.set_options(initial_state=\"ground_state\")\n",
    "q_env.backend.target.get_calibration(\"x\", qargs=(0,))"
   ],
   "metadata": {
    "collapsed": false,
    "ExecuteTime": {
     "start_time": "2023-12-20T09:23:04.075984Z"
    }
   },
   "id": "deb20453581fe9b"
  },
  {
   "cell_type": "code",
   "execution_count": null,
   "outputs": [],
   "source": [
    "q_env.backend.options.solver_options"
   ],
   "metadata": {
    "collapsed": false,
    "ExecuteTime": {
     "start_time": "2023-12-20T09:23:04.076885Z"
    }
   },
   "id": "92f954dd2cf5586c"
  },
  {
   "cell_type": "code",
   "execution_count": null,
   "outputs": [],
   "source": [
    "from qiskit.circuit.library import CXGate\n",
    "from qiskit import QuantumCircuit, transpile\n",
    "\n",
    "backend = q_env.backend\n",
    "qc = QuantumCircuit(1)\n",
    "qc.x(0)\n",
    "qc.measure_all()\n",
    "backend.run(transpile(qc, backend), shots=1000).result().get_counts()"
   ],
   "metadata": {
    "collapsed": false,
    "ExecuteTime": {
     "start_time": "2023-12-20T09:23:04.077649Z"
    }
   },
   "id": "7ad5e3beb9521a4b"
  },
  {
   "cell_type": "code",
   "execution_count": 18,
   "outputs": [
    {
     "name": "stdout",
     "output_type": "stream",
     "text": [
      "Starting benchmarking...\n",
      "Starting simulation benchmark...\n",
      "Finished simulation benchmark\n",
      "Finished benchmarking\n",
      "SparsePauliOp(['I', 'Z'],\n",
      "              coeffs=[ 0.5+0.j, -0.5+0.j])\n"
     ]
    },
    {
     "data": {
      "text/plain": "(array([0.]),\n array([ 2.52572864, 13.81551056, 13.81551056, 13.81551056, 13.81551056,\n        13.81551056,  3.91202301,  2.81341072, 13.81551056,  3.91202301,\n         3.21887582, 13.81551056,  3.91202301,  2.81341072,  3.91202301,\n        13.81551056,  2.81341072, 13.81551056, 13.81551056,  3.91202301,\n         3.91202301,  3.91202301,  3.91202301, 13.81551056, 13.81551056,\n         3.91202301,  2.81341072,  3.21887582,  3.21887582, 13.81551056,\n         2.81341072,  3.21887582,  3.21887582, 13.81551056,  3.21887582,\n         3.91202301,  3.21887582,  3.21887582,  3.91202301,  3.21887582,\n         2.12026354, 13.81551056, 13.81551056, 13.81551056,  3.21887582,\n         3.91202301,  2.81341072,  3.91202301,  3.91202301,  3.21887582,\n         3.91202301,  3.91202301, 13.81551056,  3.91202301, 13.81551056,\n         2.81341072, 13.81551056, 13.81551056,  3.21887582,  3.91202301,\n        13.81551056, 13.81551056, 13.81551056, 13.81551056,  3.91202301,\n         3.21887582,  2.81341072, 13.81551056,  3.21887582,  3.91202301,\n         3.21887582,  3.21887582,  3.21887582,  2.81341072,  2.81341072,\n         3.91202301,  3.21887582,  3.21887582, 13.81551056,  3.91202301,\n        13.81551056, 13.81551056,  3.91202301,  3.21887582,  3.21887582,\n         3.21887582, 13.81551056, 13.81551056,  3.91202301,  3.21887582,\n         3.91202301,  3.21887582,  3.91202301,  3.91202301, 13.81551056,\n         2.52572864,  3.21887582,  3.91202301,  3.91202301, 13.81551056,\n        13.81551056, 13.81551056, 13.81551056, 13.81551056,  3.91202301,\n        13.81551056,  3.91202301,  3.91202301,  3.91202301,  3.91202301,\n         2.52572864,  3.91202301,  2.81341072,  3.91202301,  3.91202301,\n         3.21887582,  2.81341072,  3.91202301,  3.21887582, 13.81551056,\n        13.81551056,  3.91202301,  2.52572864,  3.21887582,  3.91202301,\n         3.91202301, 13.81551056,  3.91202301,  3.21887582,  3.91202301,\n         3.21887582,  3.91202301, 13.81551056,  3.21887582,  2.81341072,\n         3.91202301,  3.21887582, 13.81551056,  3.91202301,  3.91202301,\n         3.91202301,  3.21887582,  3.91202301, 13.81551056, 13.81551056,\n         3.21887582,  3.21887582,  2.81341072,  3.91202301,  3.91202301,\n         3.91202301,  3.91202301, 13.81551056,  3.91202301, 13.81551056,\n         3.21887582, 13.81551056,  3.91202301,  3.91202301,  3.21887582,\n         3.91202301, 13.81551056, 13.81551056, 13.81551056,  3.21887582,\n         3.91202301,  3.91202301, 13.81551056,  3.91202301,  3.91202301,\n         3.91202301, 13.81551056,  3.91202301,  3.21887582,  3.91202301,\n         3.91202301,  2.52572864, 13.81551056,  3.91202301,  2.52572864,\n        13.81551056, 13.81551056,  3.21887582, 13.81551056,  3.21887582,\n         3.21887582,  3.21887582, 13.81551056,  3.91202301,  3.91202301,\n         3.21887582,  3.21887582,  3.21887582, 13.81551056,  3.91202301,\n         3.21887582,  3.91202301,  3.21887582,  3.91202301,  3.91202301,\n        13.81551056,  3.91202301,  2.81341072,  3.91202301, 13.81551056,\n        13.81551056,  2.81341072, 13.81551056, 13.81551056,  3.91202301,\n        13.81551056,  3.91202301,  3.91202301,  3.91202301, 13.81551056,\n         3.91202301,  3.91202301, 13.81551056, 13.81551056,  2.52572864,\n        13.81551056,  3.91202301,  3.21887582,  3.21887582,  3.21887582,\n        13.81551056,  3.21887582,  3.91202301,  3.21887582,  3.91202301,\n         3.91202301,  3.91202301, 13.81551056, 13.81551056,  3.91202301,\n        13.81551056, 13.81551056,  3.91202301, 13.81551056,  3.21887582,\n         3.91202301,  3.21887582,  2.81341072,  3.21887582,  3.21887582,\n         3.91202301, 13.81551056, 13.81551056,  3.91202301,  3.91202301,\n         3.91202301,  3.91202301,  2.52572864,  3.91202301,  3.91202301,\n         3.91202301]),\n True,\n False,\n {'episode': 10, 'step': 12})"
     },
     "execution_count": 18,
     "metadata": {},
     "output_type": "execute_result"
    }
   ],
   "source": [
    "batchsize = q_env.batch_size\n",
    "action = np.tile(np.array([0.0, 0.0]), (batchsize, 1))\n",
    "q_env.step(action)"
   ],
   "metadata": {
    "collapsed": false,
    "ExecuteTime": {
     "end_time": "2023-12-24T21:16:35.155214Z",
     "start_time": "2023-12-24T21:16:31.490675Z"
    }
   },
   "id": "2d7b7f7b4e278343"
  },
  {
   "cell_type": "code",
   "execution_count": 22,
   "outputs": [
    {
     "name": "stdout",
     "output_type": "stream",
     "text": [
      "Starting simulation benchmark...\n",
      "Finished simulation benchmark\n"
     ]
    }
   ],
   "source": [
    "q_env.store_benchmarks(action)"
   ],
   "metadata": {
    "collapsed": false,
    "ExecuteTime": {
     "end_time": "2023-12-24T21:16:54.007394Z",
     "start_time": "2023-12-24T21:16:52.401492Z"
    }
   },
   "id": "171c00f052f1aabf"
  },
  {
   "cell_type": "code",
   "execution_count": 28,
   "outputs": [
    {
     "data": {
      "text/plain": "[0.9812347865078143,\n 0.5440500190295494,\n 0.5027941824891667,\n 0.5657334059304393,\n 0.5319601218682205,\n 0.5453171553573737,\n 0.4900237307666435,\n 0.5279773573518566]"
     },
     "execution_count": 28,
     "metadata": {},
     "output_type": "execute_result"
    }
   ],
   "source": [
    "q_env.avg_fidelity_history"
   ],
   "metadata": {
    "collapsed": false,
    "ExecuteTime": {
     "end_time": "2023-12-24T21:20:24.044245Z",
     "start_time": "2023-12-24T21:20:23.926731Z"
    }
   },
   "id": "24b2644af9083437"
  },
  {
   "cell_type": "code",
   "execution_count": null,
   "outputs": [],
   "source": [],
   "metadata": {
    "collapsed": false,
    "ExecuteTime": {
     "start_time": "2023-12-20T09:23:04.079746Z"
    }
   },
   "id": "95043d599de69e5c"
  }
 ],
 "metadata": {
  "kernelspec": {
   "display_name": "Python 3",
   "language": "python",
   "name": "python3"
  },
  "language_info": {
   "codemirror_mode": {
    "name": "ipython",
    "version": 2
   },
   "file_extension": ".py",
   "mimetype": "text/x-python",
   "name": "python",
   "nbconvert_exporter": "python",
   "pygments_lexer": "ipython2",
   "version": "2.7.6"
  }
 },
 "nbformat": 4,
 "nbformat_minor": 5
}
