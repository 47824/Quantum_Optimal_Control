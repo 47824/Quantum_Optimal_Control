{
 "cells": [
  {
   "cell_type": "code",
   "execution_count": 1,
   "id": "initial_id",
   "metadata": {
    "collapsed": true,
    "ExecuteTime": {
     "end_time": "2023-12-24T20:49:51.884964Z",
     "start_time": "2023-12-24T20:49:30.575095Z"
    }
   },
   "outputs": [
    {
     "name": "stderr",
     "output_type": "stream",
     "text": [
      "/Users/arthurostrauss/anaconda3/envs/rl_qoc/lib/python3.11/site-packages/qiskit_dynamics/dispatch/backends/jax.py:34: UserWarning: The functionality in the perturbation module of Qiskit Dynamics requires a JAX version <= 0.4.6, due to a bug in JAX versions > 0.4.6. For versions 0.4.4, 0.4.5, and 0.4.6, using the perturbation module functionality requires setting os.environ['JAX_JIT_PJIT_API_MERGE'] = '0' before importing JAX or Dynamics.\n",
      "  warnings.warn(\n"
     ]
    },
    {
     "name": "stdout",
     "output_type": "stream",
     "text": [
      "Starting Rabi experiment for qubit 0...\n",
      "Rabi experiment for qubit 0 done.\n",
      "Starting Drag experiment for qubit 0...\n",
      "Drag experiments done for qubit 0 done.\n",
      "Starting Rabi experiment for qubit 1...\n",
      "Rabi experiment for qubit 1 done.\n",
      "Starting Drag experiment for qubit 1...\n",
      "Drag experiments done for qubit 1 done.\n",
      "All single qubit calibrations are done\n",
      "Updated Instruction Schedule Map <InstructionScheduleMap(1Q instructions:\n",
      "  q0: {'delay', 'id', 'x', 's', 'measure', 'h', 't', 'z', 'tdg', 'sx', 'rz', 'reset', 'sdg'}\n",
      "  q1: {'delay', 'id', 'x', 's', 'measure', 'h', 't', 'z', 'tdg', 'sx', 'rz', 'reset', 'sdg'}\n",
      "Multi qubit instructions:\n",
      "  (0, 1): {'cr45m', 'ecr', 'cr45p'}\n",
      "  (1, 0): {'cr45m', 'ecr', 'cr45p'}\n",
      ")>\n"
     ]
    }
   ],
   "source": [
    "import numpy as np\n",
    "\n",
    "from template_configurations.qiskit.pulse_config import (\n",
    "    q_env_config as pulse_q_env_config,\n",
    "    circuit_context as pulse_circuit_context,\n",
    ")"
   ]
  },
  {
   "cell_type": "code",
   "execution_count": 2,
   "outputs": [],
   "source": [
    "from quantumenvironment import QuantumEnvironment\n",
    "from context_aware_quantum_environment import ContextAwareQuantumEnvironment\n",
    "from agent import Agent"
   ],
   "metadata": {
    "collapsed": false,
    "ExecuteTime": {
     "end_time": "2023-12-24T20:49:51.886106Z",
     "start_time": "2023-12-24T20:49:51.883565Z"
    }
   },
   "id": "fb1742066410293a"
  },
  {
   "cell_type": "code",
   "execution_count": 3,
   "outputs": [
    {
     "name": "stdout",
     "output_type": "stream",
     "text": [
      "SparsePauliOp(['II', 'XY', 'YZ', 'ZX'],\n",
      "              coeffs=[ 0.5+0.j,  0.5+0.j,  0.5+0.j, -0.5+0.j])\n"
     ]
    },
    {
     "data": {
      "text/plain": "QuantumEnvironment composed of 1 qubits, \nDefined target: gate (Instruction(name='x', num_qubits=1, num_clbits=0, params=[]))\nPhysical qubits: [0]\nBackend: <qiskit_dynamics.backend.dynamics_backend.DynamicsBackend object at 0x2d8dde210>,\nAbstraction level: pulse,\nRun options: N_shots (1), Sampling_Pauli_space (100), \nBatchsize: 256, "
     },
     "execution_count": 3,
     "metadata": {},
     "output_type": "execute_result"
    }
   ],
   "source": [
    "q_env = QuantumEnvironment(pulse_q_env_config)\n",
    "q_env"
   ],
   "metadata": {
    "collapsed": false,
    "ExecuteTime": {
     "end_time": "2023-12-24T20:49:53.817097Z",
     "start_time": "2023-12-24T20:49:51.886654Z"
    }
   },
   "id": "713630c59461fbb8"
  },
  {
   "cell_type": "code",
   "execution_count": 4,
   "outputs": [],
   "source": [
    "import yaml\n",
    "\n",
    "with open(\n",
    "        \"/Users/arthurostrauss/Library/CloudStorage/OneDrive-NationalUniversityofSingapore/Coding_projects/Quantum_Optimal_Control/template_configurations/agent_config.yaml\",\n",
    "        \"r\",\n",
    ") as f:\n",
    "    agent_config = yaml.safe_load(f)"
   ],
   "metadata": {
    "collapsed": false,
    "ExecuteTime": {
     "end_time": "2023-12-24T20:49:53.817802Z",
     "start_time": "2023-12-24T20:49:53.814282Z"
    }
   },
   "id": "960dff591175fad7"
  },
  {
   "cell_type": "code",
   "execution_count": 5,
   "outputs": [],
   "source": [
    "from ppo import make_train_ppo\n",
    "\n",
    "ppo_agent = make_train_ppo(agent_config, q_env)"
   ],
   "metadata": {
    "collapsed": false,
    "ExecuteTime": {
     "end_time": "2023-12-24T20:49:54.003888Z",
     "start_time": "2023-12-24T20:49:53.818684Z"
    }
   },
   "id": "7ea578dc8a8ceb20"
  },
  {
   "cell_type": "code",
   "execution_count": 26,
   "outputs": [
    {
     "name": "stderr",
     "output_type": "stream",
     "text": [
      "  0%|          | 0/8 [00:00<?, ?it/s]"
     ]
    },
    {
     "name": "stdout",
     "output_type": "stream",
     "text": [
      "SparsePauliOp(['II', 'IZ', 'ZI', 'ZZ'],\n",
      "              coeffs=[0.5+0.j, 0.5+0.j, 0.5+0.j, 0.5+0.j])\n"
     ]
    },
    {
     "name": "stderr",
     "output_type": "stream",
     "text": [
      " 12%|█▎        | 1/8 [00:16<01:52, 16.01s/it]"
     ]
    },
    {
     "name": "stdout",
     "output_type": "stream",
     "text": [
      "mean tensor([0.1112, 0.1127, 0.1161, 0.1063])\n",
      "sigma tensor([0.5023, 0.4889, 0.4942, 0.5036])\n",
      "DFE Rewards Mean: 0.05517578125\n",
      "DFE Rewards standard dev 0.06634698354825296\n",
      "Returns Mean: 0.059413143\n",
      "Returns standard dev 0.074345976\n",
      "Advantages Mean: 0.026541568\n",
      "Advantages standard dev 0.074345976\n",
      "Starting benchmarking...\n",
      "Starting simulation benchmark...\n",
      "Finished simulation benchmark\n",
      "Finished benchmarking\n",
      "SparsePauliOp(['II', 'XX', 'YZ', 'ZY'],\n",
      "              coeffs=[0.5+0.j, 0.5+0.j, 0.5+0.j, 0.5+0.j])\n"
     ]
    },
    {
     "name": "stderr",
     "output_type": "stream",
     "text": [
      " 25%|██▌       | 2/8 [01:17<04:16, 42.75s/it]"
     ]
    },
    {
     "name": "stdout",
     "output_type": "stream",
     "text": [
      "mean tensor([0.0494, 0.2020, 0.1124, 0.1583])\n",
      "sigma tensor([0.4939, 0.4913, 0.4867, 0.5016])\n",
      "DFE Rewards Mean: 0.3900146484375\n",
      "DFE Rewards standard dev 0.3403255292361659\n",
      "Returns Mean: 1.1544571\n",
      "Returns standard dev 2.5421338\n",
      "Advantages Mean: 1.1282973\n",
      "Advantages standard dev 2.542134\n",
      "Starting benchmarking...\n",
      "Starting simulation benchmark...\n",
      "Finished simulation benchmark\n",
      "Finished benchmarking\n",
      "SparsePauliOp(['II', 'IZ', 'YI', 'YZ'],\n",
      "              coeffs=[0.5+0.j, 0.5+0.j, 0.5+0.j, 0.5+0.j])\n"
     ]
    },
    {
     "name": "stderr",
     "output_type": "stream",
     "text": [
      " 38%|███▊      | 3/8 [02:08<03:52, 46.44s/it]"
     ]
    },
    {
     "name": "stdout",
     "output_type": "stream",
     "text": [
      "mean tensor([0.1319, 0.1758, 0.1126, 0.1223])\n",
      "sigma tensor([0.5437, 0.4880, 0.4880, 0.4843])\n",
      "DFE Rewards Mean: 0.05810546875\n",
      "DFE Rewards standard dev 0.06234531333703259\n",
      "Returns Mean: 0.06217242\n",
      "Returns standard dev 0.06891789\n",
      "Advantages Mean: -0.079156876\n",
      "Advantages standard dev 0.068917885\n",
      "Starting benchmarking...\n",
      "Starting simulation benchmark...\n",
      "Finished simulation benchmark\n",
      "Finished benchmarking\n",
      "SparsePauliOp(['II', 'XY', 'YX', 'ZZ'],\n",
      "              coeffs=[0.5+0.j, 0.5+0.j, 0.5+0.j, 0.5+0.j])\n"
     ]
    },
    {
     "name": "stderr",
     "output_type": "stream",
     "text": [
      " 50%|█████     | 4/8 [05:04<06:30, 97.66s/it]"
     ]
    },
    {
     "name": "stdout",
     "output_type": "stream",
     "text": [
      "mean tensor([0.2316, 0.2575, 0.1440, 0.2335])\n",
      "sigma tensor([0.6306, 0.4592, 0.5045, 0.4347])\n",
      "DFE Rewards Mean: 0.5151515151515151\n",
      "DFE Rewards standard dev 0.32938214344243494\n",
      "Returns Mean: 1.8954772\n",
      "Returns standard dev 3.6353896\n",
      "Advantages Mean: 1.7478219\n",
      "Advantages standard dev 3.6353896\n",
      "Starting benchmarking...\n",
      "Starting simulation benchmark...\n",
      "Finished simulation benchmark\n",
      "Finished benchmarking\n",
      "SparsePauliOp(['II', 'IZ', 'YI', 'YZ'],\n",
      "              coeffs=[ 0.5+0.j, -0.5+0.j, -0.5+0.j,  0.5+0.j])\n"
     ]
    },
    {
     "name": "stderr",
     "output_type": "stream",
     "text": [
      " 62%|██████▎   | 5/8 [20:55<20:16, 405.46s/it]"
     ]
    },
    {
     "name": "stdout",
     "output_type": "stream",
     "text": [
      "mean tensor([0.2651, 0.2373, 0.1474, 0.1677])\n",
      "sigma tensor([0.6392, 0.4437, 0.4853, 0.4387])\n",
      "DFE Rewards Mean: 0.5393229166666667\n",
      "DFE Rewards standard dev 0.3226661284471127\n",
      "Returns Mean: 2.0703042\n",
      "Returns standard dev 3.838746\n",
      "Advantages Mean: 1.8277097\n",
      "Advantages standard dev 3.838746\n",
      "Starting benchmarking...\n",
      "Starting simulation benchmark...\n",
      "Finished simulation benchmark\n",
      "Finished benchmarking\n",
      "SparsePauliOp(['II', 'IZ', 'ZI', 'ZZ'],\n",
      "              coeffs=[ 0.5+0.j,  0.5+0.j, -0.5+0.j, -0.5+0.j])\n"
     ]
    },
    {
     "name": "stderr",
     "output_type": "stream",
     "text": [
      " 75%|███████▌  | 6/8 [21:46<09:29, 284.90s/it]"
     ]
    },
    {
     "name": "stdout",
     "output_type": "stream",
     "text": [
      "mean tensor([0.2859, 0.2227, 0.1411, 0.1159])\n",
      "sigma tensor([0.6019, 0.4596, 0.4669, 0.4708])\n",
      "DFE Rewards Mean: 0.09732142857142859\n",
      "DFE Rewards standard dev 0.1296304352569178\n",
      "Returns Mean: 0.118703246\n",
      "Returns standard dev 0.20751995\n",
      "Advantages Mean: -0.113164626\n",
      "Advantages standard dev 0.20751995\n",
      "Starting benchmarking...\n",
      "Starting simulation benchmark...\n",
      "Finished simulation benchmark\n",
      "Finished benchmarking\n",
      "SparsePauliOp(['II', 'IZ', 'YI', 'YZ'],\n",
      "              coeffs=[0.5+0.j, 0.5+0.j, 0.5+0.j, 0.5+0.j])\n"
     ]
    },
    {
     "name": "stderr",
     "output_type": "stream",
     "text": [
      " 88%|████████▊ | 7/8 [22:35<03:27, 207.91s/it]"
     ]
    },
    {
     "name": "stdout",
     "output_type": "stream",
     "text": [
      "mean tensor([0.5031, 0.2763, 0.1372, 0.1491])\n",
      "sigma tensor([0.7305, 0.4346, 0.4393, 0.4488])\n",
      "DFE Rewards Mean: 0.06529017857142856\n",
      "DFE Rewards standard dev 0.07337055608674584\n",
      "Returns Mean: 0.07087753\n",
      "Returns standard dev 0.083857164\n",
      "Advantages Mean: -0.121576786\n",
      "Advantages standard dev 0.083857164\n",
      "Starting benchmarking...\n",
      "Starting simulation benchmark...\n",
      "Finished simulation benchmark\n",
      "Finished benchmarking\n",
      "SparsePauliOp(['II', 'IZ', 'ZI', 'ZZ'],\n",
      "              coeffs=[ 0.5+0.j, -0.5+0.j,  0.5+0.j, -0.5+0.j])\n"
     ]
    },
    {
     "name": "stderr",
     "output_type": "stream",
     "text": [
      "100%|██████████| 8/8 [23:26<00:00, 175.77s/it]"
     ]
    },
    {
     "name": "stdout",
     "output_type": "stream",
     "text": [
      "mean tensor([0.5759, 0.3573, 0.1794, 0.1556])\n",
      "sigma tensor([0.7915, 0.4278, 0.4584, 0.4280])\n",
      "DFE Rewards Mean: 0.008649553571428572\n",
      "DFE Rewards standard dev 0.02650375923576187\n",
      "Returns Mean: 0.009066743\n",
      "Returns standard dev 0.027973263\n",
      "Advantages Mean: -0.09260419\n",
      "Advantages standard dev 0.027973263\n"
     ]
    },
    {
     "name": "stderr",
     "output_type": "stream",
     "text": [
      "\n"
     ]
    }
   ],
   "source": [
    "ppo_agent(total_updates=8, print_debug=True)"
   ],
   "metadata": {
    "collapsed": false,
    "ExecuteTime": {
     "end_time": "2023-12-24T21:20:23.904693Z",
     "start_time": "2023-12-24T21:18:58.771088Z"
    }
   },
   "id": "8d40af0ee8030779"
  },
  {
   "cell_type": "code",
   "execution_count": 7,
   "outputs": [
    {
     "data": {
      "text/plain": "{'custom_x': {((0,),\n   (ParameterVectorElement(a[0]),\n    ParameterVectorElement(a[1]))): ScheduleBlock(Play(Drag(duration=160, sigma=40, beta=5.5788393326, amp=a[0] + 0.118643, angle=a[1]), DriveChannel(0)), name=\"x\", transform=AlignLeft())}}"
     },
     "execution_count": 7,
     "metadata": {},
     "output_type": "execute_result"
    }
   ],
   "source": [
    "q_env.circuit_truncations[0].calibrations"
   ],
   "metadata": {
    "collapsed": false,
    "ExecuteTime": {
     "end_time": "2023-12-24T20:50:30.164463Z",
     "start_time": "2023-12-24T20:50:30.162820Z"
    }
   },
   "id": "d99ea0a7eb96155b"
  },
  {
   "cell_type": "code",
   "outputs": [
    {
     "data": {
      "text/plain": "[0.9812347865078143,\n 0.5440500190295494,\n 0.5027941824891667,\n 0.5657334059304393,\n 0.5319601218682205,\n 0.5453171553573737,\n 0.4900237307666435,\n 0.5279773573518566]"
     },
     "execution_count": 8,
     "metadata": {},
     "output_type": "execute_result"
    }
   ],
   "source": [
    "q_env.avg_fidelity_history"
   ],
   "metadata": {
    "collapsed": false,
    "ExecuteTime": {
     "end_time": "2023-12-24T21:20:40.028362Z",
     "start_time": "2023-12-24T21:20:39.958511Z"
    }
   },
   "id": "4d201fec0fce42c7",
   "execution_count": 29
  },
  {
   "cell_type": "code",
   "execution_count": null,
   "outputs": [],
   "source": [
    "sched = q_env.backend.options.solver.circuit_macro().assign_parameters(\n",
    "    {q_env._parameters[0]: 0.0, q_env._parameters[1]: 0.0}\n",
    ")"
   ],
   "metadata": {
    "collapsed": false,
    "ExecuteTime": {
     "start_time": "2023-12-20T09:23:04.074320Z"
    }
   },
   "id": "9aaa7b8b4627c54d"
  },
  {
   "cell_type": "code",
   "execution_count": null,
   "outputs": [],
   "source": [
    "sched"
   ],
   "metadata": {
    "collapsed": false,
    "ExecuteTime": {
     "start_time": "2023-12-20T09:23:04.075257Z"
    }
   },
   "id": "ef8792b7938f3241"
  },
  {
   "cell_type": "code",
   "execution_count": null,
   "outputs": [],
   "source": [
    "from qiskit.circuit import QuantumCircuit\n",
    "\n",
    "q_env.backend.set_options(initial_state=\"ground_state\")\n",
    "q_env.backend.target.get_calibration(\"x\", qargs=(0,))"
   ],
   "metadata": {
    "collapsed": false,
    "ExecuteTime": {
     "start_time": "2023-12-20T09:23:04.075984Z"
    }
   },
   "id": "deb20453581fe9b"
  },
  {
   "cell_type": "code",
   "execution_count": null,
   "outputs": [],
   "source": [
    "q_env.backend.options.solver_options"
   ],
   "metadata": {
    "collapsed": false,
    "ExecuteTime": {
     "start_time": "2023-12-20T09:23:04.076885Z"
    }
   },
   "id": "92f954dd2cf5586c"
  },
  {
   "cell_type": "code",
   "execution_count": null,
   "outputs": [],
   "source": [
    "from qiskit.circuit.library import CXGate\n",
    "from qiskit import QuantumCircuit, transpile\n",
    "\n",
    "backend = q_env.backend\n",
    "qc = QuantumCircuit(2)\n",
    "qc.x(0)\n",
    "qc.x(1)\n",
    "qc.measure_all()\n",
    "backend.run(transpile(qc, backend), shots=1000).result().get_counts()"
   ],
   "metadata": {
    "collapsed": false,
    "ExecuteTime": {
     "start_time": "2023-12-20T09:23:04.077649Z"
    }
   },
   "id": "7ad5e3beb9521a4b"
  },
  {
   "cell_type": "code",
   "execution_count": 18,
   "outputs": [
    {
     "ename": "NameError",
     "evalue": "name 'q_env' is not defined",
     "output_type": "error",
     "traceback": [
      "\u001B[0;31m---------------------------------------------------------------------------\u001B[0m",
      "\u001B[0;31mNameError\u001B[0m                                 Traceback (most recent call last)",
      "Cell \u001B[0;32mIn[1], line 1\u001B[0m\n\u001B[0;32m----> 1\u001B[0m batchsize \u001B[38;5;241m=\u001B[39m q_env\u001B[38;5;241m.\u001B[39mbatch_size\n\u001B[1;32m      2\u001B[0m action \u001B[38;5;241m=\u001B[39m np\u001B[38;5;241m.\u001B[39mtile(np\u001B[38;5;241m.\u001B[39marray([\u001B[38;5;241m0.0\u001B[39m, \u001B[38;5;241m0.0\u001B[39m, \u001B[38;5;241m0.\u001B[39m, \u001B[38;5;241m0.\u001B[39m]), (batchsize, \u001B[38;5;241m1\u001B[39m))\n\u001B[1;32m      3\u001B[0m q_env\u001B[38;5;241m.\u001B[39mstep(action)\n",
      "\u001B[0;31mNameError\u001B[0m: name 'q_env' is not defined"
     ]
    },
    {
     "data": {
      "text/plain": "(array([0.]),\n array([ 2.52572864, 13.81551056, 13.81551056, 13.81551056, 13.81551056,\n        13.81551056,  3.91202301,  2.81341072, 13.81551056,  3.91202301,\n         3.21887582, 13.81551056,  3.91202301,  2.81341072,  3.91202301,\n        13.81551056,  2.81341072, 13.81551056, 13.81551056,  3.91202301,\n         3.91202301,  3.91202301,  3.91202301, 13.81551056, 13.81551056,\n         3.91202301,  2.81341072,  3.21887582,  3.21887582, 13.81551056,\n         2.81341072,  3.21887582,  3.21887582, 13.81551056,  3.21887582,\n         3.91202301,  3.21887582,  3.21887582,  3.91202301,  3.21887582,\n         2.12026354, 13.81551056, 13.81551056, 13.81551056,  3.21887582,\n         3.91202301,  2.81341072,  3.91202301,  3.91202301,  3.21887582,\n         3.91202301,  3.91202301, 13.81551056,  3.91202301, 13.81551056,\n         2.81341072, 13.81551056, 13.81551056,  3.21887582,  3.91202301,\n        13.81551056, 13.81551056, 13.81551056, 13.81551056,  3.91202301,\n         3.21887582,  2.81341072, 13.81551056,  3.21887582,  3.91202301,\n         3.21887582,  3.21887582,  3.21887582,  2.81341072,  2.81341072,\n         3.91202301,  3.21887582,  3.21887582, 13.81551056,  3.91202301,\n        13.81551056, 13.81551056,  3.91202301,  3.21887582,  3.21887582,\n         3.21887582, 13.81551056, 13.81551056,  3.91202301,  3.21887582,\n         3.91202301,  3.21887582,  3.91202301,  3.91202301, 13.81551056,\n         2.52572864,  3.21887582,  3.91202301,  3.91202301, 13.81551056,\n        13.81551056, 13.81551056, 13.81551056, 13.81551056,  3.91202301,\n        13.81551056,  3.91202301,  3.91202301,  3.91202301,  3.91202301,\n         2.52572864,  3.91202301,  2.81341072,  3.91202301,  3.91202301,\n         3.21887582,  2.81341072,  3.91202301,  3.21887582, 13.81551056,\n        13.81551056,  3.91202301,  2.52572864,  3.21887582,  3.91202301,\n         3.91202301, 13.81551056,  3.91202301,  3.21887582,  3.91202301,\n         3.21887582,  3.91202301, 13.81551056,  3.21887582,  2.81341072,\n         3.91202301,  3.21887582, 13.81551056,  3.91202301,  3.91202301,\n         3.91202301,  3.21887582,  3.91202301, 13.81551056, 13.81551056,\n         3.21887582,  3.21887582,  2.81341072,  3.91202301,  3.91202301,\n         3.91202301,  3.91202301, 13.81551056,  3.91202301, 13.81551056,\n         3.21887582, 13.81551056,  3.91202301,  3.91202301,  3.21887582,\n         3.91202301, 13.81551056, 13.81551056, 13.81551056,  3.21887582,\n         3.91202301,  3.91202301, 13.81551056,  3.91202301,  3.91202301,\n         3.91202301, 13.81551056,  3.91202301,  3.21887582,  3.91202301,\n         3.91202301,  2.52572864, 13.81551056,  3.91202301,  2.52572864,\n        13.81551056, 13.81551056,  3.21887582, 13.81551056,  3.21887582,\n         3.21887582,  3.21887582, 13.81551056,  3.91202301,  3.91202301,\n         3.21887582,  3.21887582,  3.21887582, 13.81551056,  3.91202301,\n         3.21887582,  3.91202301,  3.21887582,  3.91202301,  3.91202301,\n        13.81551056,  3.91202301,  2.81341072,  3.91202301, 13.81551056,\n        13.81551056,  2.81341072, 13.81551056, 13.81551056,  3.91202301,\n        13.81551056,  3.91202301,  3.91202301,  3.91202301, 13.81551056,\n         3.91202301,  3.91202301, 13.81551056, 13.81551056,  2.52572864,\n        13.81551056,  3.91202301,  3.21887582,  3.21887582,  3.21887582,\n        13.81551056,  3.21887582,  3.91202301,  3.21887582,  3.91202301,\n         3.91202301,  3.91202301, 13.81551056, 13.81551056,  3.91202301,\n        13.81551056, 13.81551056,  3.91202301, 13.81551056,  3.21887582,\n         3.91202301,  3.21887582,  2.81341072,  3.21887582,  3.21887582,\n         3.91202301, 13.81551056, 13.81551056,  3.91202301,  3.91202301,\n         3.91202301,  3.91202301,  2.52572864,  3.91202301,  3.91202301,\n         3.91202301]),\n True,\n False,\n {'episode': 10, 'step': 12})"
     },
     "execution_count": 18,
     "metadata": {},
     "output_type": "execute_result"
    }
   ],
   "source": [
    "batchsize = q_env.batch_size\n",
    "action = np.tile(np.array([0.0, 0.0, 0.0, 0.0]), (batchsize, 1))\n",
    "q_env.step(action)"
   ],
   "metadata": {
    "collapsed": false,
    "ExecuteTime": {
     "end_time": "2023-12-24T21:16:35.155214Z",
     "start_time": "2023-12-24T21:16:31.490675Z"
    }
   },
   "id": "2d7b7f7b4e278343"
  },
  {
   "cell_type": "code",
   "execution_count": 22,
   "outputs": [
    {
     "name": "stdout",
     "output_type": "stream",
     "text": [
      "Starting simulation benchmark...\n",
      "Finished simulation benchmark\n"
     ]
    }
   },
   "id": "24b2644af9083437"
  },
  {
   "cell_type": "code",
   "execution_count": null,
   "outputs": [],
   "source": [
    "sims = np.array(q_env.backend.options.solver.unitary_solve(action))"
   ],
   "metadata": {
    "collapsed": false,
    "ExecuteTime": {
     "start_time": "2023-12-26T08:22:25.973695Z"
    }
   },
   "id": "95043d599de69e5c"
  },
  {
   "cell_type": "code",
   "outputs": [],
   "source": [
    "q_env.store_benchmarks(action)"
   ],
   "metadata": {
    "collapsed": false,
    "ExecuteTime": {
     "end_time": "2023-12-24T21:16:54.007394Z",
     "start_time": "2023-12-24T21:16:52.401492Z"
    }
   },
   "id": "171c00f052f1aabf"
  },
  {
   "cell_type": "code",
   "execution_count": 28,
   "outputs": [
    {
     "data": {
      "text/plain": "[0.9812347865078143,\n 0.5440500190295494,\n 0.5027941824891667,\n 0.5657334059304393,\n 0.5319601218682205,\n 0.5453171553573737,\n 0.4900237307666435,\n 0.5279773573518566]"
     },
     "execution_count": 28,
     "metadata": {},
     "output_type": "execute_result"
    }
   ],
   "source": [
    "q_env.avg_fidelity_history"
   ],
   "metadata": {
    "collapsed": false,
    "ExecuteTime": {
     "end_time": "2023-12-24T21:20:24.044245Z",
     "start_time": "2023-12-24T21:20:23.926731Z"
    }
   },
   "id": "24b2644af9083437"
  },
  {
   "cell_type": "code",
   "execution_count": null,
   "outputs": [],
   "source": [],
   "metadata": {
    "collapsed": false,
    "ExecuteTime": {
     "start_time": "2023-12-20T09:23:04.079746Z"
    }
   },
   "id": "95043d599de69e5c"
  }
 ],
 "metadata": {
  "kernelspec": {
   "display_name": "Python 3",
   "language": "python",
   "name": "python3"
  },
  "language_info": {
   "codemirror_mode": {
    "name": "ipython",
    "version": 2
   },
   "file_extension": ".py",
   "mimetype": "text/x-python",
   "name": "python",
   "nbconvert_exporter": "python",
   "pygments_lexer": "ipython2",
   "version": "2.7.6"
  }
 },
 "nbformat": 4,
 "nbformat_minor": 5
}
