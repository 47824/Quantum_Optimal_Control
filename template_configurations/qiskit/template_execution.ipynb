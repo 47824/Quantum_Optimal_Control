{
 "cells": [
  {
   "cell_type": "code",
   "execution_count": 1,
   "id": "initial_id",
   "metadata": {
    "collapsed": true,
    "ExecuteTime": {
     "end_time": "2023-12-15T04:13:08.869089Z",
     "start_time": "2023-12-15T04:12:38.285111Z"
    }
   },
   "outputs": [
    {
     "name": "stderr",
     "output_type": "stream",
     "text": [
      "/Users/arthurostrauss/anaconda3/envs/rl_qoc/lib/python3.11/site-packages/qiskit_dynamics/dispatch/backends/jax.py:34: UserWarning: The functionality in the perturbation module of Qiskit Dynamics requires a JAX version <= 0.4.6, due to a bug in JAX versions > 0.4.6. For versions 0.4.4, 0.4.5, and 0.4.6, using the perturbation module functionality requires setting os.environ['JAX_JIT_PJIT_API_MERGE'] = '0' before importing JAX or Dynamics.\n",
      "  warnings.warn(\n",
      "/Users/arthurostrauss/anaconda3/envs/rl_qoc/lib/python3.11/site-packages/gymnasium/spaces/box.py:130: UserWarning: \u001B[33mWARN: Box bound precision lowered by casting to float32\u001B[0m\n",
      "  gym.logger.warn(f\"Box bound precision lowered by casting to {self.dtype}\")\n"
     ]
    },
    {
     "name": "stdout",
     "output_type": "stream",
     "text": [
      "Starting Rabi experiment for qubit 0...\n",
      "Rabi experiment for qubit 0 done.\n",
      "Starting Drag experiment for qubit 0...\n",
      "Drag experiments done for qubit 0 done.\n",
      "Starting Rabi experiment for qubit 1...\n",
      "Rabi experiment for qubit 1 done.\n",
      "Starting Drag experiment for qubit 1...\n",
      "Drag experiments done for qubit 1 done.\n",
      "All single qubit calibrations are done\n",
      "Updated Instruction Schedule Map <InstructionScheduleMap(1Q instructions:\n",
      "  q0: {'sdg', 'delay', 'id', 't', 'measure', 'x', 'sx', 'rz', 'tdg', 'z', 's', 'reset', 'h'}\n",
      "  q1: {'sdg', 'delay', 'id', 't', 'measure', 'x', 'sx', 'rz', 'tdg', 'z', 's', 'reset', 'h'}\n",
      "Multi qubit instructions:\n",
      "  (0, 1): {'cr45m', 'cr45p', 'ecr'}\n",
      "  (1, 0): {'cr45m', 'cr45p', 'ecr'}\n",
      ")>\n",
      "Starting Rabi experiment for qubit 0...\n",
      "Rabi experiment for qubit 0 done.\n",
      "Starting Drag experiment for qubit 0...\n",
      "Drag experiments done for qubit 0 done.\n",
      "Starting Rabi experiment for qubit 1...\n",
      "Rabi experiment for qubit 1 done.\n",
      "Starting Drag experiment for qubit 1...\n",
      "Drag experiments done for qubit 1 done.\n",
      "All single qubit calibrations are done\n",
      "Updated Instruction Schedule Map <InstructionScheduleMap(1Q instructions:\n",
      "  q0: {'sdg', 'delay', 'id', 't', 'measure', 'x', 'sx', 'rz', 'tdg', 'z', 's', 'reset', 'h'}\n",
      "  q1: {'sdg', 'delay', 'id', 't', 'measure', 'x', 'sx', 'rz', 'tdg', 'z', 's', 'reset', 'h'}\n",
      "Multi qubit instructions:\n",
      "  (0, 1): {'cr45m', 'cr45p', 'ecr'}\n",
      "  (1, 0): {'cr45m', 'cr45p', 'ecr'}\n",
      ")>\n"
     ]
    }
   ],
   "source": [
    "from template_configurations import pulse_q_env_config, pulse_circuit_context\n"
   ]
  },
  {
   "cell_type": "code",
   "execution_count": 2,
   "outputs": [],
   "source": [
    "from quantumenvironment import QuantumEnvironment\n",
    "from context_aware_quantum_environment import ContextAwareQuantumEnvironment\n",
    "from agent import Agent\n",
    "import torch\n",
    "import torch.nn as nn\n",
    "from torch.utils.tensorboard import SummaryWriter\n",
    "import torch.optim as optim\n",
    "from torch.distributions import Normal\n",
    "\n",
    "import numpy as np\n",
    "import tqdm\n",
    "import time\n",
    "from typing import Union, Optional, List, Sequence\n",
    "from IPython.display import clear_output"
   ],
   "metadata": {
    "collapsed": false,
    "ExecuteTime": {
     "end_time": "2023-12-15T04:13:09.078793Z",
     "start_time": "2023-12-15T04:13:08.871478Z"
    }
   },
   "id": "fb1742066410293a"
  },
  {
   "cell_type": "code",
   "execution_count": 3,
   "outputs": [],
   "source": [
    "q_env = QuantumEnvironment(pulse_q_env_config)"
   ],
   "metadata": {
    "collapsed": false,
    "ExecuteTime": {
     "end_time": "2023-12-15T04:13:09.159308Z",
     "start_time": "2023-12-15T04:13:09.079638Z"
    }
   },
   "id": "713630c59461fbb8"
  },
  {
   "cell_type": "code",
   "execution_count": 4,
   "outputs": [],
   "source": [
    "import yaml\n",
    "\n",
    "with open(\n",
    "        '/Users/arthurostrauss/Library/CloudStorage/OneDrive-NationalUniversityofSingapore/Coding_projects/Quantum_Optimal_Control/template_configurations/agent_config.yaml',\n",
    "        'r') as f:\n",
    "    agent_config = yaml.safe_load(f)"
   ],
   "metadata": {
    "collapsed": false,
    "ExecuteTime": {
     "end_time": "2023-12-15T04:13:09.162036Z",
     "start_time": "2023-12-15T04:13:09.159721Z"
    }
   },
   "id": "960dff591175fad7"
  },
  {
   "cell_type": "code",
   "execution_count": 5,
   "outputs": [],
   "source": [
    "from ppo import make_train_ppo\n",
    "\n",
    "ppo_agent = make_train_ppo(agent_config, q_env)"
   ],
   "metadata": {
    "collapsed": false,
    "ExecuteTime": {
     "end_time": "2023-12-15T04:13:09.302921Z",
     "start_time": "2023-12-15T04:13:09.163182Z"
    }
   },
   "id": "7ea578dc8a8ceb20"
  },
  {
   "cell_type": "code",
   "execution_count": 6,
   "outputs": [
    {
     "name": "stderr",
     "output_type": "stream",
     "text": [
      "  0%|          | 0/3 [00:00<?, ?it/s]"
     ]
    },
    {
     "name": "stdout",
     "output_type": "stream",
     "text": [
      "SparsePauliOp(['II', 'XY', 'YX', 'ZZ'],\n",
      "              coeffs=[1.+0.j, 1.+0.j, 1.+0.j, 1.+0.j])\n"
     ]
    },
    {
     "name": "stderr",
     "output_type": "stream",
     "text": [
      " 33%|███▎      | 1/3 [00:14<00:28, 14.36s/it]"
     ]
    },
    {
     "name": "stdout",
     "output_type": "stream",
     "text": [
      "mean tensor([-0.2114,  0.0556,  0.0782, -0.1716,  0.0143, -0.0080, -0.1658])\n",
      "sigma tensor([0.5215, 0.4869, 0.4829, 0.5023, 0.4516, 0.4524, 0.4515])\n",
      "Average return: 1.927890625\n"
     ]
    },
    {
     "name": "stderr",
     "output_type": "stream",
     "text": [
      " 33%|███▎      | 1/3 [01:00<02:01, 60.85s/it]\n"
     ]
    },
    {
     "ename": "QiskitError",
     "evalue": "'Input quantum channel and target unitary must have the same dimensions ((1, 9) != (4, 4)).'",
     "output_type": "error",
     "traceback": [
      "\u001B[0;31m---------------------------------------------------------------------------\u001B[0m",
      "\u001B[0;31mQiskitError\u001B[0m                               Traceback (most recent call last)",
      "Cell \u001B[0;32mIn[6], line 1\u001B[0m\n\u001B[0;32m----> 1\u001B[0m ppo_agent(total_updates\u001B[38;5;241m=\u001B[39m\u001B[38;5;241m3\u001B[39m, print_debug\u001B[38;5;241m=\u001B[39m\u001B[38;5;28;01mTrue\u001B[39;00m)\n",
      "File \u001B[0;32m~/Library/CloudStorage/OneDrive-NationalUniversityofSingapore/Coding_projects/Quantum_Optimal_Control/ppo.py:173\u001B[0m, in \u001B[0;36mmake_train_ppo.<locals>.train\u001B[0;34m(total_updates, print_debug)\u001B[0m\n\u001B[1;32m    170\u001B[0m actions[step] \u001B[38;5;241m=\u001B[39m action\n\u001B[1;32m    171\u001B[0m logprobs[step] \u001B[38;5;241m=\u001B[39m logprob\n\u001B[0;32m--> 173\u001B[0m next_obs, reward, terminated, truncated, infos \u001B[38;5;241m=\u001B[39m env\u001B[38;5;241m.\u001B[39mstep(\n\u001B[1;32m    174\u001B[0m     action\u001B[38;5;241m.\u001B[39mcpu()\u001B[38;5;241m.\u001B[39mnumpy()\n\u001B[1;32m    175\u001B[0m )\n\u001B[1;32m    176\u001B[0m next_obs \u001B[38;5;241m=\u001B[39m torch\u001B[38;5;241m.\u001B[39mTensor(next_obs)\n\u001B[1;32m    177\u001B[0m done \u001B[38;5;241m=\u001B[39m \u001B[38;5;28mint\u001B[39m(np\u001B[38;5;241m.\u001B[39mlogical_or(terminated, truncated))\n",
      "File \u001B[0;32m~/Library/CloudStorage/OneDrive-NationalUniversityofSingapore/Coding_projects/Quantum_Optimal_Control/quantumenvironment.py:372\u001B[0m, in \u001B[0;36mQuantumEnvironment.step\u001B[0;34m(self, action)\u001B[0m\n\u001B[1;32m    370\u001B[0m params \u001B[38;5;241m=\u001B[39m np\u001B[38;5;241m.\u001B[39marray(action)\n\u001B[1;32m    371\u001B[0m terminated \u001B[38;5;241m=\u001B[39m \u001B[38;5;28mself\u001B[39m\u001B[38;5;241m.\u001B[39m_episode_ended \u001B[38;5;241m=\u001B[39m \u001B[38;5;28;01mTrue\u001B[39;00m\n\u001B[0;32m--> 372\u001B[0m reward \u001B[38;5;241m=\u001B[39m \u001B[38;5;28mself\u001B[39m\u001B[38;5;241m.\u001B[39mperform_action(params, \u001B[38;5;28mself\u001B[39m\u001B[38;5;241m.\u001B[39mdo_benchmark())\n\u001B[1;32m    373\u001B[0m \u001B[38;5;28;01mreturn\u001B[39;00m \u001B[38;5;28mself\u001B[39m\u001B[38;5;241m.\u001B[39m_get_obs(), reward, terminated, \u001B[38;5;28;01mFalse\u001B[39;00m, \u001B[38;5;28mself\u001B[39m\u001B[38;5;241m.\u001B[39m_get_info()\n",
      "File \u001B[0;32m~/Library/CloudStorage/OneDrive-NationalUniversityofSingapore/Coding_projects/Quantum_Optimal_Control/quantumenvironment.py:463\u001B[0m, in \u001B[0;36mQuantumEnvironment.perform_action\u001B[0;34m(self, actions, do_benchmark)\u001B[0m\n\u001B[1;32m    461\u001B[0m \u001B[38;5;28mself\u001B[39m\u001B[38;5;241m.\u001B[39mqc_history\u001B[38;5;241m.\u001B[39mappend(qc_list)\n\u001B[1;32m    462\u001B[0m \u001B[38;5;28;01mif\u001B[39;00m do_benchmark:\n\u001B[0;32m--> 463\u001B[0m     \u001B[38;5;28mself\u001B[39m\u001B[38;5;241m.\u001B[39mstore_benchmarks(qc_list)\n\u001B[1;32m    465\u001B[0m \u001B[38;5;66;03m# Build full quantum circuit: concatenate input state prep and parametrized unitary\u001B[39;00m\n\u001B[1;32m    466\u001B[0m \u001B[38;5;28mself\u001B[39m\u001B[38;5;241m.\u001B[39mparametrized_circuit_func(\n\u001B[1;32m    467\u001B[0m     qc, \u001B[38;5;28mself\u001B[39m\u001B[38;5;241m.\u001B[39m_parameters, \u001B[38;5;28mself\u001B[39m\u001B[38;5;241m.\u001B[39mtgt_register, \u001B[38;5;241m*\u001B[39m\u001B[38;5;241m*\u001B[39m\u001B[38;5;28mself\u001B[39m\u001B[38;5;241m.\u001B[39m_func_args\n\u001B[1;32m    468\u001B[0m )\n",
      "File \u001B[0;32m~/Library/CloudStorage/OneDrive-NationalUniversityofSingapore/Coding_projects/Quantum_Optimal_Control/quantumenvironment.py:563\u001B[0m, in \u001B[0;36mQuantumEnvironment.store_benchmarks\u001B[0;34m(self, qc_list)\u001B[0m\n\u001B[1;32m    557\u001B[0m     \u001B[38;5;28mself\u001B[39m\u001B[38;5;241m.\u001B[39mstate_fidelity_history\u001B[38;5;241m.\u001B[39mappend(\n\u001B[1;32m    558\u001B[0m         state_fidelity(\u001B[38;5;28mself\u001B[39m\u001B[38;5;241m.\u001B[39mtarget[\u001B[38;5;124m\"\u001B[39m\u001B[38;5;124mdm\u001B[39m\u001B[38;5;124m\"\u001B[39m], density_matrix)\n\u001B[1;32m    559\u001B[0m     )\n\u001B[1;32m    560\u001B[0m \u001B[38;5;28;01melse\u001B[39;00m:\n\u001B[1;32m    561\u001B[0m     \u001B[38;5;28mself\u001B[39m\u001B[38;5;241m.\u001B[39mprocess_fidelity_history\u001B[38;5;241m.\u001B[39mappend(\n\u001B[1;32m    562\u001B[0m         np\u001B[38;5;241m.\u001B[39mmean(\n\u001B[0;32m--> 563\u001B[0m             [\n\u001B[1;32m    564\u001B[0m                 process_fidelity(unitary, \u001B[38;5;28mself\u001B[39m\u001B[38;5;241m.\u001B[39mtarget[\u001B[38;5;124m\"\u001B[39m\u001B[38;5;124mgate\u001B[39m\u001B[38;5;124m\"\u001B[39m])\n\u001B[1;32m    565\u001B[0m                 \u001B[38;5;28;01mfor\u001B[39;00m unitary \u001B[38;5;129;01min\u001B[39;00m unitaries\n\u001B[1;32m    566\u001B[0m             ]\n\u001B[1;32m    567\u001B[0m         )\n\u001B[1;32m    568\u001B[0m     )\n\u001B[1;32m    569\u001B[0m     \u001B[38;5;28mself\u001B[39m\u001B[38;5;241m.\u001B[39mavg_fidelity_history\u001B[38;5;241m.\u001B[39mappend(\n\u001B[1;32m    570\u001B[0m         np\u001B[38;5;241m.\u001B[39mmean(\n\u001B[1;32m    571\u001B[0m             [\n\u001B[0;32m   (...)\u001B[0m\n\u001B[1;32m    575\u001B[0m         )\n\u001B[1;32m    576\u001B[0m     )\n\u001B[1;32m    577\u001B[0m \u001B[38;5;28mself\u001B[39m\u001B[38;5;241m.\u001B[39mbuilt_unitaries\u001B[38;5;241m.\u001B[39mappend(unitaries)\n",
      "File \u001B[0;32m~/Library/CloudStorage/OneDrive-NationalUniversityofSingapore/Coding_projects/Quantum_Optimal_Control/quantumenvironment.py:564\u001B[0m, in \u001B[0;36m<listcomp>\u001B[0;34m(.0)\u001B[0m\n\u001B[1;32m    557\u001B[0m     \u001B[38;5;28mself\u001B[39m\u001B[38;5;241m.\u001B[39mstate_fidelity_history\u001B[38;5;241m.\u001B[39mappend(\n\u001B[1;32m    558\u001B[0m         state_fidelity(\u001B[38;5;28mself\u001B[39m\u001B[38;5;241m.\u001B[39mtarget[\u001B[38;5;124m\"\u001B[39m\u001B[38;5;124mdm\u001B[39m\u001B[38;5;124m\"\u001B[39m], density_matrix)\n\u001B[1;32m    559\u001B[0m     )\n\u001B[1;32m    560\u001B[0m \u001B[38;5;28;01melse\u001B[39;00m:\n\u001B[1;32m    561\u001B[0m     \u001B[38;5;28mself\u001B[39m\u001B[38;5;241m.\u001B[39mprocess_fidelity_history\u001B[38;5;241m.\u001B[39mappend(\n\u001B[1;32m    562\u001B[0m         np\u001B[38;5;241m.\u001B[39mmean(\n\u001B[1;32m    563\u001B[0m             [\n\u001B[0;32m--> 564\u001B[0m                 process_fidelity(unitary, \u001B[38;5;28mself\u001B[39m\u001B[38;5;241m.\u001B[39mtarget[\u001B[38;5;124m\"\u001B[39m\u001B[38;5;124mgate\u001B[39m\u001B[38;5;124m\"\u001B[39m])\n\u001B[1;32m    565\u001B[0m                 \u001B[38;5;28;01mfor\u001B[39;00m unitary \u001B[38;5;129;01min\u001B[39;00m unitaries\n\u001B[1;32m    566\u001B[0m             ]\n\u001B[1;32m    567\u001B[0m         )\n\u001B[1;32m    568\u001B[0m     )\n\u001B[1;32m    569\u001B[0m     \u001B[38;5;28mself\u001B[39m\u001B[38;5;241m.\u001B[39mavg_fidelity_history\u001B[38;5;241m.\u001B[39mappend(\n\u001B[1;32m    570\u001B[0m         np\u001B[38;5;241m.\u001B[39mmean(\n\u001B[1;32m    571\u001B[0m             [\n\u001B[0;32m   (...)\u001B[0m\n\u001B[1;32m    575\u001B[0m         )\n\u001B[1;32m    576\u001B[0m     )\n\u001B[1;32m    577\u001B[0m \u001B[38;5;28mself\u001B[39m\u001B[38;5;241m.\u001B[39mbuilt_unitaries\u001B[38;5;241m.\u001B[39mappend(unitaries)\n",
      "File \u001B[0;32m~/anaconda3/envs/rl_qoc/lib/python3.11/site-packages/qiskit/quantum_info/operators/measures.py:95\u001B[0m, in \u001B[0;36mprocess_fidelity\u001B[0;34m(channel, target, require_cp, require_tp)\u001B[0m\n\u001B[1;32m     92\u001B[0m \u001B[38;5;28;01mif\u001B[39;00m target:\n\u001B[1;32m     93\u001B[0m     \u001B[38;5;66;03m# Validate dimensions\u001B[39;00m\n\u001B[1;32m     94\u001B[0m     \u001B[38;5;28;01mif\u001B[39;00m channel\u001B[38;5;241m.\u001B[39mdim \u001B[38;5;241m!=\u001B[39m target\u001B[38;5;241m.\u001B[39mdim:\n\u001B[0;32m---> 95\u001B[0m         \u001B[38;5;28;01mraise\u001B[39;00m QiskitError(\n\u001B[1;32m     96\u001B[0m             \u001B[38;5;124m\"\u001B[39m\u001B[38;5;124mInput quantum channel and target unitary must have the same \u001B[39m\u001B[38;5;124m\"\u001B[39m\n\u001B[1;32m     97\u001B[0m             \u001B[38;5;124m\"\u001B[39m\u001B[38;5;124mdimensions (\u001B[39m\u001B[38;5;132;01m{}\u001B[39;00m\u001B[38;5;124m != \u001B[39m\u001B[38;5;132;01m{}\u001B[39;00m\u001B[38;5;124m).\u001B[39m\u001B[38;5;124m\"\u001B[39m\u001B[38;5;241m.\u001B[39mformat(channel\u001B[38;5;241m.\u001B[39mdim, target\u001B[38;5;241m.\u001B[39mdim)\n\u001B[1;32m     98\u001B[0m         )\n\u001B[1;32m    100\u001B[0m \u001B[38;5;66;03m# Validate complete-positivity and trace-preserving\u001B[39;00m\n\u001B[1;32m    101\u001B[0m \u001B[38;5;28;01mfor\u001B[39;00m label, chan \u001B[38;5;129;01min\u001B[39;00m [(\u001B[38;5;124m\"\u001B[39m\u001B[38;5;124mInput\u001B[39m\u001B[38;5;124m\"\u001B[39m, channel), (\u001B[38;5;124m\"\u001B[39m\u001B[38;5;124mTarget\u001B[39m\u001B[38;5;124m\"\u001B[39m, target)]:\n",
      "\u001B[0;31mQiskitError\u001B[0m: 'Input quantum channel and target unitary must have the same dimensions ((1, 9) != (4, 4)).'"
     ]
    }
   ],
   "source": [
    "ppo_agent(total_updates=3, print_debug=True)"
   ],
   "metadata": {
    "collapsed": false,
    "ExecuteTime": {
     "end_time": "2023-12-15T04:14:10.639073Z",
     "start_time": "2023-12-15T04:13:09.303435Z"
    }
   },
   "id": "8d40af0ee8030779"
  }
 ],
 "metadata": {
  "kernelspec": {
   "display_name": "Python 3",
   "language": "python",
   "name": "python3"
  },
  "language_info": {
   "codemirror_mode": {
    "name": "ipython",
    "version": 2
   },
   "file_extension": ".py",
   "mimetype": "text/x-python",
   "name": "python",
   "nbconvert_exporter": "python",
   "pygments_lexer": "ipython2",
   "version": "2.7.6"
  }
 },
 "nbformat": 4,
 "nbformat_minor": 5
}
