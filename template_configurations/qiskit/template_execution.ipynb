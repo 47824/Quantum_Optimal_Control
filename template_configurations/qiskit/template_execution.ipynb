{
 "cells": [
  {
   "cell_type": "code",
   "execution_count": 2,
   "id": "initial_id",
   "metadata": {
    "collapsed": true,
    "ExecuteTime": {
     "end_time": "2023-12-14T07:09:14.591223Z",
     "start_time": "2023-12-14T07:08:48.666352Z"
    }
   },
   "outputs": [
    {
     "name": "stderr",
     "output_type": "stream",
     "text": [
      "/Users/arthurostrauss/anaconda3/envs/rl_qoc/lib/python3.11/site-packages/gymnasium/spaces/box.py:130: UserWarning: \u001B[33mWARN: Box bound precision lowered by casting to float32\u001B[0m\n",
      "  gym.logger.warn(f\"Box bound precision lowered by casting to {self.dtype}\")\n"
     ]
    },
    {
     "name": "stdout",
     "output_type": "stream",
     "text": [
      "Starting Rabi experiment for qubit 0...\n",
      "Rabi experiment for qubit 0 done.\n",
      "Starting Drag experiment for qubit 0...\n",
      "Drag experiments done for qubit 0 done.\n",
      "Starting Rabi experiment for qubit 1...\n",
      "Rabi experiment for qubit 1 done.\n",
      "Starting Drag experiment for qubit 1...\n",
      "Drag experiments done for qubit 1 done.\n",
      "All single qubit calibrations are done\n",
      "Updated Instruction Schedule Map <InstructionScheduleMap(1Q instructions:\n",
      "  q0: {'id', 'h', 'reset', 't', 'delay', 'rz', 'z', 's', 'measure', 'sx', 'tdg', 'x', 'sdg'}\n",
      "  q1: {'id', 'h', 'reset', 't', 'delay', 'rz', 'z', 's', 'measure', 'sx', 'tdg', 'x', 'sdg'}\n",
      "Multi qubit instructions:\n",
      "  (0, 1): {'cr45m', 'ecr', 'cr45p'}\n",
      "  (1, 0): {'cr45m', 'ecr', 'cr45p'}\n",
      ")>\n",
      "Starting Rabi experiment for qubit 0...\n",
      "Rabi experiment for qubit 0 done.\n",
      "Starting Drag experiment for qubit 0...\n",
      "Drag experiments done for qubit 0 done.\n",
      "Starting Rabi experiment for qubit 1...\n",
      "Rabi experiment for qubit 1 done.\n",
      "Starting Drag experiment for qubit 1...\n",
      "Drag experiments done for qubit 1 done.\n",
      "All single qubit calibrations are done\n",
      "Updated Instruction Schedule Map <InstructionScheduleMap(1Q instructions:\n",
      "  q0: {'id', 'h', 'reset', 't', 'delay', 'rz', 'z', 's', 'measure', 'sx', 'tdg', 'x', 'sdg'}\n",
      "  q1: {'id', 'h', 'reset', 't', 'delay', 'rz', 'z', 's', 'measure', 'sx', 'tdg', 'x', 'sdg'}\n",
      "Multi qubit instructions:\n",
      "  (0, 1): {'cr45m', 'ecr', 'cr45p'}\n",
      "  (1, 0): {'cr45m', 'ecr', 'cr45p'}\n",
      ")>\n"
     ]
    }
   ],
   "source": [
    "from template_configurations import pulse_q_env_config, pulse_circuit_context\n"
   ]
  },
  {
   "cell_type": "code",
   "execution_count": 3,
   "outputs": [],
   "source": [
    "from quantumenvironment import QuantumEnvironment\n",
    "from context_aware_quantum_environment import ContextAwareQuantumEnvironment\n",
    "from agent import Agent\n",
    "import torch\n",
    "import torch.nn as nn\n",
    "from torch.utils.tensorboard import SummaryWriter\n",
    "import torch.optim as optim\n",
    "from torch.distributions import Normal\n",
    "\n",
    "import numpy as np\n",
    "import tqdm\n",
    "import time\n",
    "from typing import Union, Optional, List, Sequence\n",
    "from IPython.display import clear_output"
   ],
   "metadata": {
    "collapsed": false,
    "ExecuteTime": {
     "end_time": "2023-12-14T07:09:14.830578Z",
     "start_time": "2023-12-14T07:09:14.592149Z"
    }
   },
   "id": "fb1742066410293a"
  },
  {
   "cell_type": "code",
   "execution_count": 4,
   "outputs": [],
   "source": [
    "q_env = QuantumEnvironment(pulse_q_env_config)"
   ],
   "metadata": {
    "collapsed": false,
    "ExecuteTime": {
     "end_time": "2023-12-14T07:09:14.910444Z",
     "start_time": "2023-12-14T07:09:14.831507Z"
    }
   },
   "id": "713630c59461fbb8"
  },
  {
   "cell_type": "code",
   "execution_count": null,
   "outputs": [],
   "source": [],
   "metadata": {
    "collapsed": false,
    "ExecuteTime": {
     "end_time": "2023-12-14T07:08:36.486346Z",
     "start_time": "2023-12-14T07:08:36.486221Z"
    }
   },
   "id": "960dff591175fad7"
  },
  {
   "cell_type": "code",
   "execution_count": null,
   "outputs": [],
   "source": [],
   "metadata": {
    "collapsed": false
   },
   "id": "7ea578dc8a8ceb20"
  }
 ],
 "metadata": {
  "kernelspec": {
   "display_name": "Python 3",
   "language": "python",
   "name": "python3"
  },
  "language_info": {
   "codemirror_mode": {
    "name": "ipython",
    "version": 2
   },
   "file_extension": ".py",
   "mimetype": "text/x-python",
   "name": "python",
   "nbconvert_exporter": "python",
   "pygments_lexer": "ipython2",
   "version": "2.7.6"
  }
 },
 "nbformat": 4,
 "nbformat_minor": 5
}
