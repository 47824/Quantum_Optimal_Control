{
 "cells": [
  {
   "cell_type": "code",
   "execution_count": 1,
   "metadata": {
    "ExecuteTime": {
     "end_time": "2024-02-11T18:41:03.706698Z",
     "start_time": "2024-02-11T18:40:57.264448Z"
    }
   },
   "outputs": [
    {
     "name": "stderr",
     "output_type": "stream",
     "text": [
      "/Users/arthurostrauss/anaconda3/envs/rl_qoc/lib/python3.11/site-packages/qiskit_dynamics/dispatch/backends/jax.py:34: UserWarning: The functionality in the perturbation module of Qiskit Dynamics requires a JAX version <= 0.4.6, due to a bug in JAX versions > 0.4.6. For versions 0.4.4, 0.4.5, and 0.4.6, using the perturbation module functionality requires setting os.environ['JAX_JIT_PJIT_API_MERGE'] = '0' before importing JAX or Dynamics.\n",
      "  warnings.warn(\n"
     ]
    },
    {
     "name": "stdout",
     "output_type": "stream",
     "text": [
      "All single qubit calibrations are done\n",
      "Updated Instruction Schedule Map <InstructionScheduleMap(1Q instructions:\n",
      "  q0: {'x', 'tdg', 'id', 'delay', 's', 'rz', 'measure', 't', 'sdg', 'reset', 'z', 'sx', 'h'}\n",
      "  q1: {'x', 'tdg', 'id', 'delay', 's', 'rz', 'measure', 't', 'sdg', 'reset', 'z', 'sx', 'h'}\n",
      "  q2: {'x', 'tdg', 'id', 'delay', 's', 'rz', 'measure', 't', 'sdg', 'reset', 'z', 'sx', 'h'}\n",
      "  q3: {'x', 'tdg', 'id', 'delay', 's', 'rz', 'measure', 't', 'sdg', 'reset', 'z', 'sx', 'h'}\n",
      "  q4: {'tdg', 'id', 'delay', 's', 'rz', 'measure', 't', 'sdg', 'reset', 'z', 'h'}\n",
      "  q5: {'tdg', 'id', 'delay', 's', 'rz', 'measure', 't', 'sdg', 'reset', 'z', 'h'}\n",
      "  q6: {'tdg', 'id', 'delay', 's', 'rz', 'measure', 't', 'sdg', 'reset', 'z', 'h'}\n",
      "Multi qubit instructions:\n",
      "  (0, 1): {'ecr', 'cr45p', 'cr45m'}\n",
      "  (1, 0): {'ecr', 'cr45p', 'cr45m'}\n",
      "  (1, 2): {'ecr', 'cr45p', 'cr45m'}\n",
      "  (1, 3): {'ecr', 'cr45p', 'cr45m'}\n",
      ")>\n",
      "Circuit context:                 ┌───┐┌─────┐     ┌──────┐┌───┐\n",
      "      q_0 -> 0 ┤ H ├┤ Sdg ├─────┤0     ├┤ X ├\n",
      "               ├───┤└┬───┬┘┌───┐│  Ecr │└───┘\n",
      "      q_1 -> 1 ┤ S ├─┤ H ├─┤ S ├┤1     ├─────\n",
      "               └───┘ └───┘ └───┘└──────┘     \n",
      "ancilla_0 -> 2 ──────────────────────────────\n",
      "                                             \n",
      "ancilla_1 -> 3 ──────────────────────────────\n",
      "                                             \n",
      "ancilla_2 -> 4 ──────────────────────────────\n",
      "                                             \n",
      "ancilla_3 -> 5 ──────────────────────────────\n",
      "                                             \n",
      "ancilla_4 -> 6 ──────────────────────────────\n",
      "                                             \n"
     ]
    }
   ],
   "source": [
    "from template_configurations.qiskit.pulse_level.pulse_config import (\n",
    "    q_env_config as pulse_q_env_config,\n",
    ")\n",
    "\n",
    "%matplotlib inline"
   ]
  },
  {
   "cell_type": "code",
   "execution_count": 2,
   "metadata": {
    "ExecuteTime": {
     "end_time": "2024-02-11T18:41:04.660968Z",
     "start_time": "2024-02-11T18:41:04.654171Z"
    }
   },
   "outputs": [],
   "source": [
    "from quantumenvironment import QuantumEnvironment\n",
    "from context_aware_quantum_environment import ContextAwareQuantumEnvironment\n",
    "from gymnasium.wrappers import RescaleAction, ClipAction\n",
    "from helper_functions import perform_standard_calibrations"
   ]
  },
  {
   "cell_type": "code",
   "execution_count": 3,
   "metadata": {
    "ExecuteTime": {
     "end_time": "2024-02-11T18:41:05.692399Z",
     "start_time": "2024-02-11T18:41:05.406855Z"
    }
   },
   "outputs": [],
   "source": [
    "q_env = QuantumEnvironment(pulse_q_env_config)\n",
    "from qiskit.primitives import Estimator\n",
    "\n",
    "# q_env = ContextAwareQuantumEnvironment(\n",
    "#     gate_q_env_config, circuit_context, training_steps_per_gate=250\n",
    "# )\n",
    "# q_env.estimator = Estimator()\n",
    "q_env = ClipAction(q_env)\n",
    "q_env = RescaleAction(q_env, -1.0, 1.0)"
   ]
  },
  {
   "cell_type": "code",
   "outputs": [
    {
     "data": {
      "text/plain": "<Figure size 238.05x253 with 1 Axes>",
      "image/png": "[encoded data removed]"
     },
     "execution_count": 4,
     "metadata": {},
     "output_type": "execute_result"
    }
   ],
   "source": [
    "from qiskit.visualization import plot_gate_map\n",
    "\n",
    "# print(\"Subsystem dims\", q_env.backend.options.subsystem_dims)\n",
    "plot_gate_map(q_env.backend)"
   ],
   "metadata": {
    "collapsed": false,
    "ExecuteTime": {
     "end_time": "2024-02-11T18:41:06.821039Z",
     "start_time": "2024-02-11T18:41:06.460407Z"
    }
   },
   "execution_count": 4
  },
  {
   "cell_type": "code",
   "outputs": [
    {
     "name": "stdout",
     "output_type": "stream",
     "text": [
      "[3, 3, 1, 1, 1, 1, 1]\n",
      "State fidelity 0.9999063464360084\n",
      "Gate fidelity 0.200003783928865\n"
     ]
    },
    {
     "data": {
      "text/plain": "array([[ 0.5 +0.j  , -0.5 +0.j  , -0.5 +0.j  ,  0.5 -0.02j],\n       [ 0.5 -0.j  ,  0.51-0.01j, -0.5 +0.01j, -0.49+0.02j],\n       [ 0.5 -0.01j, -0.5 +0.02j,  0.49-0.01j, -0.5 +0.03j],\n       [ 0.5 -0.j  ,  0.49-0.02j,  0.5 -0.01j,  0.5 -0.03j]])"
     },
     "execution_count": 5,
     "metadata": {},
     "output_type": "execute_result"
    }
   ],
   "source": [
    "from qiskit.circuit import QuantumCircuit\n",
    "from helper_functions import simulate_pulse_schedule\n",
    "from qiskit.quantum_info import Operator, Statevector\n",
    "from qiskit import pulse\n",
    "import numpy as np\n",
    "\n",
    "print(q_env.backend.options.subsystem_dims)\n",
    "cal_h0 = q_env.backend.target.get_calibration(\"h\", (0,))\n",
    "cal_h1 = q_env.backend.target.get_calibration(\"h\", (1,))\n",
    "cal_x0 = q_env.backend.target.get_calibration(\"x\", (0,))\n",
    "cal_x1 = q_env.backend.target.get_calibration(\"x\", (1,))\n",
    "with pulse.build(backend=q_env.backend) as cal:\n",
    "    # pulse.call(cal_x0)\n",
    "    pulse.call(cal_h0)\n",
    "    pulse.call(cal_h1)\n",
    "\n",
    "results = simulate_pulse_schedule(\n",
    "    q_env.backend,\n",
    "    cal,\n",
    "    target_unitary=Operator.from_label(\"HH\"),\n",
    "    target_state=Statevector.from_label(\"++\"),\n",
    ")\n",
    "print(\"State fidelity\", results[\"state_fidelity\"])\n",
    "print(\"Gate fidelity\", results[\"gate_fidelity\"])\n",
    "np.round(results[\"projected_unitary\"].data, 2)"
   ],
   "metadata": {
    "collapsed": false,
    "ExecuteTime": {
     "end_time": "2024-02-11T18:41:07.622048Z",
     "start_time": "2024-02-11T18:41:07.206018Z"
    }
   },
   "execution_count": 5
  },
  {
   "cell_type": "code",
   "execution_count": 6,
   "metadata": {
    "ExecuteTime": {
     "end_time": "2024-02-11T18:41:10.970641Z",
     "start_time": "2024-02-11T18:41:10.962455Z"
    }
   },
   "outputs": [],
   "source": [
    "import yaml\n",
    "\n",
    "with open(\n",
    "        \"/Users/arthurostrauss/Library/CloudStorage/OneDrive-NationalUniversityofSingapore/Coding_projects/Quantum_Optimal_Control/template_configurations/agent_config.yaml\",\n",
    "        \"r\",\n",
    ") as f:\n",
    "    agent_config = yaml.safe_load(f)"
   ]
  },
  {
   "cell_type": "code",
   "execution_count": 7,
   "metadata": {
    "ExecuteTime": {
     "end_time": "2024-02-11T18:41:12.620437Z",
     "start_time": "2024-02-11T18:41:12.432560Z"
    }
   },
   "outputs": [],
   "source": [
    "from ppo import make_train_ppo, CustomPPO\n",
    "\n",
    "ppo_agent = CustomPPO(agent_config, q_env)"
   ]
  },
  {
   "cell_type": "code",
   "outputs": [
    {
     "name": "stderr",
     "output_type": "stream",
     "text": [
      "/Users/arthurostrauss/anaconda3/envs/rl_qoc/lib/python3.11/site-packages/qiskit/visualization/circuit/matplotlib.py:266: FutureWarning: The default matplotlib drawer scheme will be changed to \"iqp\" in a following release. To silence this warning, specify the current default explicitly as style=\"clifford\", or the new default as style=\"iqp\".\n",
      "  self._style, def_font_ratio = load_style(self._style)\n"
     ]
    },
    {
     "data": {
      "text/plain": "<Figure size 393.348x200.667 with 1 Axes>",
      "image/png": "[encoded data removed]"
     },
     "execution_count": 8,
     "metadata": {},
     "output_type": "execute_result"
    }
   ],
   "source": [
    "q_env.circuit_truncations[0].draw(\"mpl\")"
   ],
   "metadata": {
    "collapsed": false,
    "ExecuteTime": {
     "end_time": "2024-02-11T18:41:15.858927Z",
     "start_time": "2024-02-11T18:41:15.757585Z"
    }
   },
   "execution_count": 8
  },
  {
   "cell_type": "code",
   "execution_count": 9,
   "metadata": {
    "ExecuteTime": {
     "end_time": "2024-02-11T18:42:26.812697Z",
     "start_time": "2024-02-11T18:41:26.864349Z"
    }
   },
   "outputs": [
    {
     "name": "stderr",
     "output_type": "stream",
     "text": [
      "  0%|          | 0/300 [00:00<?, ?it/s]"
     ]
    },
    {
     "name": "stdout",
     "output_type": "stream",
     "text": [
      "Sending Estimator job...\n",
      "SparsePauliOp(['II', 'IZ', 'YI', 'YZ'],\n",
      "              coeffs=[ 0.5+0.j, -0.5+0.j,  0.5+0.j, -0.5+0.j])\n",
      "Time to run simulation:  12.054927825927734\n"
     ]
    },
    {
     "name": "stderr",
     "output_type": "stream",
     "text": [
      "  0%|          | 1/300 [00:14<1:10:08, 14.08s/it]"
     ]
    },
    {
     "name": "stdout",
     "output_type": "stream",
     "text": [
      "Finished Estimator job\n",
      "Sending Estimator job...\n",
      "SparsePauliOp(['II', 'IZ', 'YI', 'YZ'],\n",
      "              coeffs=[ 0.5+0.j, -0.5+0.j, -0.5+0.j,  0.5+0.j])\n",
      "Time to run simulation:  11.107215166091919\n"
     ]
    },
    {
     "name": "stderr",
     "output_type": "stream",
     "text": [
      "  1%|          | 2/300 [00:26<1:04:37, 13.01s/it]"
     ]
    },
    {
     "name": "stdout",
     "output_type": "stream",
     "text": [
      "Finished Estimator job\n",
      "Sending Estimator job...\n",
      "SparsePauliOp(['II', 'XY', 'YX', 'ZZ'],\n",
      "              coeffs=[ 0.5+0.j, -0.5+0.j,  0.5+0.j, -0.5+0.j])\n",
      "Time to run simulation:  11.491467714309692\n"
     ]
    },
    {
     "name": "stderr",
     "output_type": "stream",
     "text": [
      "  1%|          | 3/300 [00:42<1:10:46, 14.30s/it]"
     ]
    },
    {
     "name": "stdout",
     "output_type": "stream",
     "text": [
      "Finished Estimator job\n",
      "Sending Estimator job...\n",
      "SparsePauliOp(['II', 'IZ', 'ZI', 'ZZ'],\n",
      "              coeffs=[ 0.5+0.j,  0.5+0.j, -0.5+0.j, -0.5+0.j])\n",
      "Time to run simulation:  10.745199918746948\n",
      "Finished Estimator job\n"
     ]
    },
    {
     "name": "stderr",
     "output_type": "stream",
     "text": [
      "  1%|▏         | 4/300 [00:54<1:06:17, 13.44s/it]"
     ]
    },
    {
     "name": "stdout",
     "output_type": "stream",
     "text": [
      "Sending Estimator job...\n",
      "SparsePauliOp(['II', 'IZ', 'ZI', 'ZZ'],\n",
      "              coeffs=[ 0.5+0.j,  0.5+0.j, -0.5+0.j, -0.5+0.j])\n"
     ]
    },
    {
     "name": "stderr",
     "output_type": "stream",
     "text": [
      "  1%|▏         | 4/300 [00:59<1:13:16, 14.85s/it]\n"
     ]
    },
    {
     "ename": "KeyboardInterrupt",
     "evalue": "",
     "output_type": "error",
     "traceback": [
      "\u001B[0;31m---------------------------------------------------------------------------\u001B[0m",
      "\u001B[0;31mKeyboardInterrupt\u001B[0m                         Traceback (most recent call last)",
      "Cell \u001B[0;32mIn[9], line 1\u001B[0m\n\u001B[0;32m----> 1\u001B[0m ppo_agent\u001B[38;5;241m.\u001B[39mtrain(\n\u001B[1;32m      2\u001B[0m     total_updates\u001B[38;5;241m=\u001B[39m\u001B[38;5;241m300\u001B[39m, print_debug\u001B[38;5;241m=\u001B[39m\u001B[38;5;28;01mFalse\u001B[39;00m, num_prints\u001B[38;5;241m=\u001B[39m\u001B[38;5;241m40\u001B[39m, clear_history\u001B[38;5;241m=\u001B[39m\u001B[38;5;28;01mFalse\u001B[39;00m\n\u001B[1;32m      3\u001B[0m )\n",
      "File \u001B[0;32m~/Library/CloudStorage/OneDrive-NationalUniversityofSingapore/Coding_projects/Quantum_Optimal_Control/ppo.py:238\u001B[0m, in \u001B[0;36mCustomPPO.train\u001B[0;34m(self, total_updates, print_debug, num_prints, clear_history)\u001B[0m\n\u001B[1;32m    235\u001B[0m actions[step] \u001B[38;5;241m=\u001B[39m action\n\u001B[1;32m    236\u001B[0m logprobs[step] \u001B[38;5;241m=\u001B[39m logprob\n\u001B[0;32m--> 238\u001B[0m next_obs, reward, terminated, truncated, infos \u001B[38;5;241m=\u001B[39m \u001B[38;5;28mself\u001B[39m\u001B[38;5;241m.\u001B[39menv\u001B[38;5;241m.\u001B[39mstep(\n\u001B[1;32m    239\u001B[0m     action\u001B[38;5;241m.\u001B[39mcpu()\u001B[38;5;241m.\u001B[39mnumpy()\n\u001B[1;32m    240\u001B[0m )\n\u001B[1;32m    241\u001B[0m next_obs \u001B[38;5;241m=\u001B[39m torch\u001B[38;5;241m.\u001B[39mTensor(next_obs)\n\u001B[1;32m    242\u001B[0m done \u001B[38;5;241m=\u001B[39m \u001B[38;5;28mint\u001B[39m(np\u001B[38;5;241m.\u001B[39mlogical_or(terminated, truncated))\n",
      "File \u001B[0;32m~/anaconda3/envs/rl_qoc/lib/python3.11/site-packages/gymnasium/core.py:538\u001B[0m, in \u001B[0;36mActionWrapper.step\u001B[0;34m(self, action)\u001B[0m\n\u001B[1;32m    534\u001B[0m \u001B[38;5;28;01mdef\u001B[39;00m \u001B[38;5;21mstep\u001B[39m(\n\u001B[1;32m    535\u001B[0m     \u001B[38;5;28mself\u001B[39m, action: WrapperActType\n\u001B[1;32m    536\u001B[0m ) \u001B[38;5;241m-\u001B[39m\u001B[38;5;241m>\u001B[39m \u001B[38;5;28mtuple\u001B[39m[ObsType, SupportsFloat, \u001B[38;5;28mbool\u001B[39m, \u001B[38;5;28mbool\u001B[39m, \u001B[38;5;28mdict\u001B[39m[\u001B[38;5;28mstr\u001B[39m, Any]]:\n\u001B[1;32m    537\u001B[0m \u001B[38;5;250m    \u001B[39m\u001B[38;5;124;03m\"\"\"Runs the :attr:`env` :meth:`env.step` using the modified ``action`` from :meth:`self.action`.\"\"\"\u001B[39;00m\n\u001B[0;32m--> 538\u001B[0m     \u001B[38;5;28;01mreturn\u001B[39;00m \u001B[38;5;28mself\u001B[39m\u001B[38;5;241m.\u001B[39menv\u001B[38;5;241m.\u001B[39mstep(\u001B[38;5;28mself\u001B[39m\u001B[38;5;241m.\u001B[39maction(action))\n",
      "File \u001B[0;32m~/anaconda3/envs/rl_qoc/lib/python3.11/site-packages/gymnasium/core.py:538\u001B[0m, in \u001B[0;36mActionWrapper.step\u001B[0;34m(self, action)\u001B[0m\n\u001B[1;32m    534\u001B[0m \u001B[38;5;28;01mdef\u001B[39;00m \u001B[38;5;21mstep\u001B[39m(\n\u001B[1;32m    535\u001B[0m     \u001B[38;5;28mself\u001B[39m, action: WrapperActType\n\u001B[1;32m    536\u001B[0m ) \u001B[38;5;241m-\u001B[39m\u001B[38;5;241m>\u001B[39m \u001B[38;5;28mtuple\u001B[39m[ObsType, SupportsFloat, \u001B[38;5;28mbool\u001B[39m, \u001B[38;5;28mbool\u001B[39m, \u001B[38;5;28mdict\u001B[39m[\u001B[38;5;28mstr\u001B[39m, Any]]:\n\u001B[1;32m    537\u001B[0m \u001B[38;5;250m    \u001B[39m\u001B[38;5;124;03m\"\"\"Runs the :attr:`env` :meth:`env.step` using the modified ``action`` from :meth:`self.action`.\"\"\"\u001B[39;00m\n\u001B[0;32m--> 538\u001B[0m     \u001B[38;5;28;01mreturn\u001B[39;00m \u001B[38;5;28mself\u001B[39m\u001B[38;5;241m.\u001B[39menv\u001B[38;5;241m.\u001B[39mstep(\u001B[38;5;28mself\u001B[39m\u001B[38;5;241m.\u001B[39maction(action))\n",
      "File \u001B[0;32m~/Library/CloudStorage/OneDrive-NationalUniversityofSingapore/Coding_projects/Quantum_Optimal_Control/quantumenvironment.py:433\u001B[0m, in \u001B[0;36mQuantumEnvironment.step\u001B[0;34m(self, action)\u001B[0m\n\u001B[1;32m    431\u001B[0m \u001B[38;5;28mself\u001B[39m\u001B[38;5;241m.\u001B[39m_param_values \u001B[38;5;241m=\u001B[39m params\n\u001B[1;32m    432\u001B[0m terminated \u001B[38;5;241m=\u001B[39m \u001B[38;5;28mself\u001B[39m\u001B[38;5;241m.\u001B[39m_episode_ended \u001B[38;5;241m=\u001B[39m \u001B[38;5;28;01mTrue\u001B[39;00m\n\u001B[0;32m--> 433\u001B[0m reward \u001B[38;5;241m=\u001B[39m \u001B[38;5;28mself\u001B[39m\u001B[38;5;241m.\u001B[39mperform_action(\u001B[38;5;28mself\u001B[39m\u001B[38;5;241m.\u001B[39m_param_values)\n\u001B[1;32m    435\u001B[0m \u001B[38;5;66;03m# Using Negative Log Error as the Reward\u001B[39;00m\n\u001B[1;32m    436\u001B[0m optimal_error_precision \u001B[38;5;241m=\u001B[39m \u001B[38;5;241m1e-6\u001B[39m\n",
      "File \u001B[0;32m~/Library/CloudStorage/OneDrive-NationalUniversityofSingapore/Coding_projects/Quantum_Optimal_Control/quantumenvironment.py:539\u001B[0m, in \u001B[0;36mQuantumEnvironment.perform_action\u001B[0;34m(self, actions)\u001B[0m\n\u001B[1;32m    531\u001B[0m     \u001B[38;5;28mprint\u001B[39m(observables)\n\u001B[1;32m    532\u001B[0m     job \u001B[38;5;241m=\u001B[39m \u001B[38;5;28mself\u001B[39m\u001B[38;5;241m.\u001B[39mestimator\u001B[38;5;241m.\u001B[39mrun(\n\u001B[1;32m    533\u001B[0m         circuits\u001B[38;5;241m=\u001B[39m[full_circ] \u001B[38;5;241m*\u001B[39m batch_size,\n\u001B[1;32m    534\u001B[0m         observables\u001B[38;5;241m=\u001B[39m[observables] \u001B[38;5;241m*\u001B[39m batch_size,\n\u001B[1;32m    535\u001B[0m         parameter_values\u001B[38;5;241m=\u001B[39mparams,\n\u001B[1;32m    536\u001B[0m         shots\u001B[38;5;241m=\u001B[39m\u001B[38;5;28mint\u001B[39m(np\u001B[38;5;241m.\u001B[39mmax(pauli_shots) \u001B[38;5;241m*\u001B[39m \u001B[38;5;28mself\u001B[39m\u001B[38;5;241m.\u001B[39mn_shots),\n\u001B[1;32m    537\u001B[0m     )\n\u001B[0;32m--> 539\u001B[0m     reward_table \u001B[38;5;241m=\u001B[39m job\u001B[38;5;241m.\u001B[39mresult()\u001B[38;5;241m.\u001B[39mvalues\n\u001B[1;32m    540\u001B[0m \u001B[38;5;28;01mexcept\u001B[39;00m \u001B[38;5;167;01mException\u001B[39;00m \u001B[38;5;28;01mas\u001B[39;00m e:\n\u001B[1;32m    541\u001B[0m     \u001B[38;5;28mself\u001B[39m\u001B[38;5;241m.\u001B[39mclose()\n",
      "File \u001B[0;32m~/anaconda3/envs/rl_qoc/lib/python3.11/site-packages/qiskit/primitives/primitive_job.py:55\u001B[0m, in \u001B[0;36mPrimitiveJob.result\u001B[0;34m(self)\u001B[0m\n\u001B[1;32m     53\u001B[0m \u001B[38;5;250m\u001B[39m\u001B[38;5;124;03m\"\"\"Return the results of the job.\"\"\"\u001B[39;00m\n\u001B[1;32m     54\u001B[0m \u001B[38;5;28mself\u001B[39m\u001B[38;5;241m.\u001B[39m_check_submitted()\n\u001B[0;32m---> 55\u001B[0m \u001B[38;5;28;01mreturn\u001B[39;00m \u001B[38;5;28mself\u001B[39m\u001B[38;5;241m.\u001B[39m_future\u001B[38;5;241m.\u001B[39mresult()\n",
      "File \u001B[0;32m~/anaconda3/envs/rl_qoc/lib/python3.11/concurrent/futures/_base.py:451\u001B[0m, in \u001B[0;36mFuture.result\u001B[0;34m(self, timeout)\u001B[0m\n\u001B[1;32m    448\u001B[0m \u001B[38;5;28;01melif\u001B[39;00m \u001B[38;5;28mself\u001B[39m\u001B[38;5;241m.\u001B[39m_state \u001B[38;5;241m==\u001B[39m FINISHED:\n\u001B[1;32m    449\u001B[0m     \u001B[38;5;28;01mreturn\u001B[39;00m \u001B[38;5;28mself\u001B[39m\u001B[38;5;241m.\u001B[39m__get_result()\n\u001B[0;32m--> 451\u001B[0m \u001B[38;5;28mself\u001B[39m\u001B[38;5;241m.\u001B[39m_condition\u001B[38;5;241m.\u001B[39mwait(timeout)\n\u001B[1;32m    453\u001B[0m \u001B[38;5;28;01mif\u001B[39;00m \u001B[38;5;28mself\u001B[39m\u001B[38;5;241m.\u001B[39m_state \u001B[38;5;129;01min\u001B[39;00m [CANCELLED, CANCELLED_AND_NOTIFIED]:\n\u001B[1;32m    454\u001B[0m     \u001B[38;5;28;01mraise\u001B[39;00m CancelledError()\n",
      "File \u001B[0;32m~/anaconda3/envs/rl_qoc/lib/python3.11/threading.py:320\u001B[0m, in \u001B[0;36mCondition.wait\u001B[0;34m(self, timeout)\u001B[0m\n\u001B[1;32m    318\u001B[0m \u001B[38;5;28;01mtry\u001B[39;00m:    \u001B[38;5;66;03m# restore state no matter what (e.g., KeyboardInterrupt)\u001B[39;00m\n\u001B[1;32m    319\u001B[0m     \u001B[38;5;28;01mif\u001B[39;00m timeout \u001B[38;5;129;01mis\u001B[39;00m \u001B[38;5;28;01mNone\u001B[39;00m:\n\u001B[0;32m--> 320\u001B[0m         waiter\u001B[38;5;241m.\u001B[39macquire()\n\u001B[1;32m    321\u001B[0m         gotit \u001B[38;5;241m=\u001B[39m \u001B[38;5;28;01mTrue\u001B[39;00m\n\u001B[1;32m    322\u001B[0m     \u001B[38;5;28;01melse\u001B[39;00m:\n",
      "\u001B[0;31mKeyboardInterrupt\u001B[0m: "
     ]
    }
   ],
   "source": [
    "ppo_agent.train(\n",
    "    total_updates=300, print_debug=False, num_prints=40, clear_history=False\n",
    ")"
   ]
  },
  {
   "cell_type": "code",
   "execution_count": null,
   "metadata": {
    "ExecuteTime": {
     "end_time": "2024-02-10T04:03:21.688019Z",
     "start_time": "2024-02-10T04:03:21.687216Z"
    }
   },
   "outputs": [],
   "source": [
    "import numpy as np\n",
    "import matplotlib.pyplot as plt\n",
    "\n",
    "reward_history = np.array(q_env.reward_history)\n",
    "mean_rewards = np.mean(reward_history, axis=-1)\n",
    "max_mean = int(np.max(mean_rewards) * 1e4) / 1e4\n",
    "n_epochs = len(mean_rewards)\n",
    "fidelity_range = np.arange(0, n_epochs - 1, q_env.benchmark_cycle)\n",
    "plt.plot(mean_rewards / 2, label=f\"Mean Batch Rewards, max: {max_mean}\")\n",
    "plt.plot(\n",
    "    fidelity_range,\n",
    "    np.array(q_env.avg_fidelity_history)[:, 0],\n",
    "    label=\"Average Fidelity (mean over batch)\",\n",
    ")\n",
    "plt.plot(\n",
    "    fidelity_range,\n",
    "    np.array(q_env.avg_fidelity_history)[:, 1],\n",
    "    label=\"Average Fidelity)\",\n",
    ")\n",
    "plt.xlabel(\"Updates\")\n",
    "plt.ylabel(\"Reward\")\n",
    "plt.title(f\"{q_env.target['gate'].name} Learning Curve\")\n",
    "plt.legend()\n",
    "plt.show()"
   ]
  },
  {
   "cell_type": "code",
   "execution_count": null,
   "metadata": {
    "ExecuteTime": {
     "start_time": "2024-02-10T04:03:21.688192Z"
    }
   },
   "outputs": [],
   "source": [
    "import matplotlib.pyplot as plt\n",
    "import matplotlib\n",
    "\n",
    "plt.plot(q_env.avg_fidelity_history)\n",
    "plt.show()"
   ]
  },
  {
   "cell_type": "code",
   "outputs": [],
   "source": [
    "from torch import Tensor\n",
    "\n",
    "params = ppo_agent.agent(Tensor([0]))\n",
    "params"
   ],
   "metadata": {
    "collapsed": false,
    "ExecuteTime": {
     "start_time": "2024-02-10T04:03:21.688799Z"
    }
   },
   "execution_count": null
  },
  {
   "cell_type": "code",
   "outputs": [],
   "source": [
    "q_env.backend.target.get_calibration(\"h\", (0,))"
   ],
   "metadata": {
    "collapsed": false,
    "ExecuteTime": {
     "end_time": "2024-02-10T04:03:21.689573Z",
     "start_time": "2024-02-10T04:03:21.689455Z"
    }
   },
   "execution_count": null
  },
  {
   "cell_type": "code",
   "outputs": [],
   "source": [
    "from helper_functions import simulate_pulse_schedule\n",
    "\n",
    "data = simulate_pulse_schedule(\n",
    "    q_env.backend,\n",
    "    q_env.backend.target.get_calibration(\"h\", (0,)),\n",
    "    target_unitary=Operator.from_label(\"IH\"),\n",
    "    target_state=Statevector.from_label(\"0+\"),\n",
    ")\n",
    "\n",
    "data"
   ],
   "metadata": {
    "collapsed": false,
    "ExecuteTime": {
     "start_time": "2024-02-10T04:03:21.690104Z"
    }
   },
   "execution_count": null
  },
  {
   "cell_type": "code",
   "outputs": [],
   "source": [
    "data[\"projected_unitary\"].draw(\"latex\")"
   ],
   "metadata": {
    "collapsed": false,
    "ExecuteTime": {
     "start_time": "2024-02-10T04:03:21.691216Z"
    }
   },
   "execution_count": null
  },
  {
   "cell_type": "code",
   "outputs": [],
   "source": [
    "Operator(q_env.target[\"gate\"]).draw(\"latex\")"
   ],
   "metadata": {
    "collapsed": false,
    "ExecuteTime": {
     "start_time": "2024-02-10T04:03:21.692566Z"
    }
   },
   "execution_count": null
  },
  {
   "cell_type": "code",
   "outputs": [],
   "source": [
    "from qiskit import pulse\n",
    "\n",
    "with pulse.build(backend=q_env.backend) as cal:\n",
    "    pulse.call(q_env.backend.target.get_calibration(\"s\", (0,)))\n",
    "pulse.play(\n",
    "    pulse.Drag(\n",
    "        duration=160,\n",
    "        amp=params[0],\n",
    "        sigma=40,\n",
    "        beta=0,\n",
    "    ),\n",
    "    pulse.DriveChannel(0),\n",
    ")\n",
    "pulse.call(q_env.backend.target.get_calibration(\"s\", (0,)))\n",
    "\n",
    "data2 = simulate_pulse_schedule(\n",
    "    q_env.backend,\n",
    "    cal,\n",
    "    target_unitary=Operator.from_label(\"H\"),\n",
    "    target_state=Statevector.from_label(\"+\"),\n",
    ")"
   ],
   "metadata": {
    "collapsed": false,
    "ExecuteTime": {
     "start_time": "2024-02-10T04:03:21.693349Z"
    }
   },
   "execution_count": null
  },
  {
   "cell_type": "code",
   "outputs": [],
   "source": [
    "data2[\"projected_unitary\"].draw(\"latex\")\n",
    "data2"
   ],
   "metadata": {
    "collapsed": false,
    "ExecuteTime": {
     "start_time": "2024-02-10T04:03:21.693959Z"
    }
   },
   "execution_count": null
  },
  {
   "cell_type": "code",
   "outputs": [],
   "source": [],
   "metadata": {
    "collapsed": false,
    "ExecuteTime": {
     "start_time": "2024-02-10T04:03:21.694459Z"
    }
   }
  }
 ],
 "metadata": {
  "kernelspec": {
   "display_name": "cqt_env",
   "language": "python",
   "name": "python3"
  },
  "language_info": {
   "codemirror_mode": {
    "name": "ipython",
    "version": 3
   },
   "file_extension": ".py",
   "mimetype": "text/x-python",
   "name": "python",
   "nbconvert_exporter": "python",
   "pygments_lexer": "ipython3",
   "version": "3.9.11"
  }
 },
 "nbformat": 4,
 "nbformat_minor": 2
}
