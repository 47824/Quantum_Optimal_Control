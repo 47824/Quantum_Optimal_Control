{
 "cells": [
  {
   "attachments": {},
   "cell_type": "markdown",
   "metadata": {
    "collapsed": false
   },
   "source": [
    "# Pulse Level Learning\n",
    "\n",
    "In this notebook, we will train a reinforcement learning agent to learn pulse level control of a quantum system. The configuration is drawn from two dedicated yaml files respectively describing the quantum environment and the agent. The quantum environment is a `QuantumEnvironment` object, which is a subclass of `gym.Env ` and is designed to be compatible with standard RL libraries. The agent on the other hand, is specifically hard coded for our need because of the need to be able to send to the same resource (the Estimator primitive) a batch of quantum circuits (in contrast with usual RL frameworks where actions can be evaluated in parallel)."
   ]
  },
  {
   "cell_type": "code",
   "execution_count": 2,
   "metadata": {
    "ExecuteTime": {
     "end_time": "2024-03-10T11:15:41.789871Z",
     "start_time": "2024-03-10T11:15:11.818938Z"
    }
   },
   "source": [
    "%matplotlib inline\n",
    "from template_configurations.qiskit.pulse_level.pulse_config import (\n",
    "    q_env_config as pulse_q_env_config,\n",
    "    circuit_context,\n",
    ")\n",
    "from quantumenvironment import QuantumEnvironment\n",
    "from context_aware_quantum_environment import ContextAwareQuantumEnvironment\n",
    "from gymnasium.wrappers import RescaleAction, ClipAction\n",
    "from qiskit.circuit import QuantumCircuit\n",
    "from helper_functions import simulate_pulse_schedule\n",
    "from qiskit.quantum_info import Operator, Statevector\n",
    "from qiskit import pulse\n",
    "import numpy as np"
   ],
   "outputs": []
  },
  {
   "metadata": {},
   "cell_type": "markdown",
   "source": ""
  },
  {
   "cell_type": "code",
   "metadata": {
    "ExecuteTime": {
     "end_time": "2024-05-09T03:50:55.042026Z",
     "start_time": "2024-05-09T03:50:54.764146Z"
    }
   },
   "source": [
    "use_context = False\n",
    "if use_context:\n",
    "    q_env = ContextAwareQuantumEnvironment(\n",
    "        pulse_q_env_config, circuit_context, training_steps_per_gate=250\n",
    "    )\n",
    "else:\n",
    "    q_env = QuantumEnvironment(pulse_q_env_config)\n",
    "# from qiskit.primitives import Estimator\n",
    "# q_env.estimator = Estimator()\n",
    "rescaled_env = RescaleAction(ClipAction(q_env), -1.0, 1.0)"
   ],
   "execution_count": 2,
   "outputs": []
  },
  {
   "cell_type": "code",
   "metadata": {},
   "source": [
    "from qiskit.visualization import plot_gate_map\n",
    "\n",
    "print(q_env.backend)\n",
    "plot_gate_map(q_env.backend)"
   ],
   "execution_count": null,
   "outputs": []
  },
  {
   "cell_type": "code",
   "metadata": {},
   "source": [
    "from helper_functions import load_from_yaml_file\n",
    "from pathlib import Path\n",
    "\n",
    "# Change the file_name to the name of the agent configuration file and specify the file location\n",
    "file_name = \"agent_config.yaml\"\n",
    "file_location = Path.cwd().parent.parent.parent / \"template_configurations\" / file_name\n",
    "\n",
    "agent_config = load_from_yaml_file(file_location)"
   ],
   "execution_count": null,
   "outputs": []
  },
  {
   "cell_type": "code",
   "metadata": {},
   "source": [
    "from ppo import CustomPPO\n",
    "\n",
    "ppo_agent = CustomPPO(agent_config, rescaled_env)"
   ],
   "execution_count": null,
   "outputs": []
  },
  {
   "cell_type": "code",
   "metadata": {},
   "source": [
    "circuit = q_env.circuit_truncations[0]\n",
    "circuit.draw(\"mpl\")"
   ],
   "execution_count": null,
   "outputs": []
  },
  {
   "cell_type": "code",
   "metadata": {},
   "source": [
    "ppo_agent.train(\n",
    "    total_updates=300, print_debug=False, num_prints=10, clear_history=False\n",
    ")"
   ],
   "execution_count": null,
   "outputs": []
  },
  {
   "cell_type": "code",
   "metadata": {},
   "source": [
    "from quantumenvironment import GateTarget\n",
    "import matplotlib.pyplot as plt\n",
    "\n",
    "reward_history = np.array(q_env.reward_history)\n",
    "mean_rewards = np.mean(reward_history, axis=-1)\n",
    "max_mean = int(np.max(mean_rewards) * 1e4) / 1e4\n",
    "n_epochs = len(mean_rewards)\n",
    "if q_env.benchmark_cycle != 0:\n",
    "    fidelity_range = np.arange(0, n_epochs, q_env.benchmark_cycle)\n",
    "    plt.plot(\n",
    "        fidelity_range,\n",
    "        np.array(q_env.fidelity_history),\n",
    "        label=\"Average Fidelity (mean over batch)\",\n",
    "    )\n",
    "plt.plot(mean_rewards / 2, label=f\"Mean Batch Rewards, max: {max_mean}\")\n",
    "\n",
    "plt.xlabel(\"Updates\")\n",
    "plt.ylabel(\"Reward\")\n",
    "plt.title(\n",
    "    f\"{q_env.target.gate.name if isinstance(q_env.target, GateTarget) else ''} Learning Curve\"\n",
    ")\n",
    "plt.legend()\n",
    "plt.show()"
   ],
   "execution_count": null,
   "outputs": []
  },
  {
   "cell_type": "code",
   "metadata": {
    "collapsed": false
   },
   "source": [
    "print(\"Optimal action\", q_env.optimal_action)\n",
    "print(\"Best fidelity:\", np.max(q_env.fidelity_history))"
   ],
   "execution_count": null,
   "outputs": []
  },
  {
   "cell_type": "code",
   "source": [
    "cal = q_env.backend.target.get_calibration(\"x\", (0,))\n",
    "from helper_functions import simulate_pulse_schedule\n",
    "from qiskit.circuit.library import CXGate, HGate, RZGate, ECRGate\n",
    "from qiskit.quantum_info import average_gate_fidelity, Operator, Statevector\n",
    "\n",
    "data = simulate_pulse_schedule(q_env.backend, cal)\n",
    "\n",
    "print(data)"
   ],
   "metadata": {
    "collapsed": false
   },
   "execution_count": null,
   "outputs": []
  },
  {
   "cell_type": "code",
   "metadata": {
    "collapsed": false
   },
   "source": [
    "# Update the gate calibration in the backend target and retrieve the calibration\n",
    "optimal_calibration = q_env.update_gate_calibration()\n",
    "q_env.backend.target.get_calibration(\"x\", (0,)).draw()"
   ],
   "execution_count": null,
   "outputs": []
  },
  {
   "cell_type": "code",
   "metadata": {
    "collapsed": false
   },
   "source": [
    "from helper_functions import simulate_pulse_schedule\n",
    "from qiskit.circuit.library import CXGate, HGate, RZGate, ECRGate\n",
    "from qiskit.quantum_info import average_gate_fidelity, Operator, Statevector\n",
    "\n",
    "data = simulate_pulse_schedule(\n",
    "    q_env.backend,\n",
    "    optimal_calibration,\n",
    "    target_unitary=Operator(q_env.target[\"gate\"]),\n",
    ")\n",
    "\n",
    "print(data)"
   ],
   "execution_count": null,
   "outputs": []
  },
  {
   "cell_type": "code",
   "metadata": {
    "collapsed": false
   },
   "source": [
    "# Testing gate in a quantum circuit\n",
    "from qiskit.providers.basic_provider import BasicSimulator\n",
    "from qiskit import transpile\n",
    "\n",
    "qc = QuantumCircuit(2)\n",
    "qc.h(0)\n",
    "qc.cx(0, 1)\n",
    "qc.measure_all()\n",
    "qc.draw(\"mpl\")\n",
    "\n",
    "basic_simulator = BasicSimulator()\n",
    "basic_result = basic_simulator.run(qc).result()\n",
    "\n",
    "pulse_circ = transpile(qc, q_env.backend)\n",
    "q_env.backend.options.shots = 1000\n",
    "pulse_results = q_env.backend.run(pulse_circ).result()\n",
    "\n",
    "print(\"BasicProvider: \", basic_result.get_counts())\n",
    "print(\"Custom Backend:\", pulse_results.get_counts())"
   ],
   "execution_count": null,
   "outputs": []
  },
  {
   "cell_type": "code",
   "metadata": {
    "collapsed": false
   },
   "source": [
    "pulse_circ.draw(\"mpl\")"
   ],
   "execution_count": null,
   "outputs": []
  },
  {
   "cell_type": "code",
   "metadata": {
    "collapsed": false
   },
   "source": [
    "# Testing the pulse schedule\n",
    "from qiskit import schedule\n",
    "\n",
    "pulse_schedule = schedule(\n",
    "    pulse_circ.remove_final_measurements(inplace=False), q_env.backend\n",
    ")\n",
    "pulse_schedule.draw()"
   ],
   "execution_count": null,
   "outputs": []
  },
  {
   "cell_type": "code",
   "metadata": {
    "collapsed": false
   },
   "source": [
    "# Testing the pulse schedule\n",
    "pulse_sim_results = simulate_pulse_schedule(\n",
    "    q_env.backend,\n",
    "    pulse_schedule,\n",
    "    target_unitary=Operator(pulse_circ.remove_final_measurements(inplace=False)),\n",
    "    target_state=(Statevector.from_label(\"00\") + Statevector.from_label(\"11\"))\n",
    "                 / np.sqrt(2),\n",
    ")\n",
    "print(pulse_sim_results)"
   ],
   "execution_count": null,
   "outputs": []
  },
  {
   "cell_type": "code",
   "metadata": {
    "collapsed": false
   },
   "source": [
    "new_circ = transpile(\n",
    "    pulse_circ.remove_final_measurements(inplace=False),\n",
    "    q_env.backend,\n",
    "    scheduling_method=\"asap\",\n",
    ")\n",
    "new_circ.draw(\"mpl\")"
   ],
   "execution_count": null,
   "outputs": []
  },
  {
   "cell_type": "code",
   "metadata": {
    "collapsed": false
   },
   "source": [
    "new_circ.op_start_times"
   ],
   "execution_count": null,
   "outputs": []
  },
  {
   "cell_type": "code",
   "metadata": {
    "collapsed": false
   },
   "source": [
    "instruction_list = []\n",
    "for instruction in new_circ.data:\n",
    "    instruction_list.append(instruction.operation.name)\n",
    "instruction_list"
   ],
   "execution_count": null,
   "outputs": []
  },
  {
   "cell_type": "code",
   "source": [],
   "metadata": {
    "collapsed": false
   },
   "execution_count": null,
   "outputs": []
  }
 ],
 "metadata": {
  "kernelspec": {
   "display_name": "Python 3 (ipykernel)",
   "language": "python",
   "name": "python3"
  },
  "language_info": {
   "codemirror_mode": {
    "name": "ipython",
    "version": 3
   },
   "file_extension": ".py",
   "mimetype": "text/x-python",
   "name": "python",
   "nbconvert_exporter": "python",
   "pygments_lexer": "ipython3",
   "version": "3.11.5"
  }
 },
 "nbformat": 4,
 "nbformat_minor": 4
}
