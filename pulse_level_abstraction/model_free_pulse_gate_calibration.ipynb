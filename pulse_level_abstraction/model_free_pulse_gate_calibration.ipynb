{
 "cells": [
  {
   "cell_type": "markdown",
   "id": "66ee09f1-80da-4b9f-b724-c8288fceaf5a",
   "metadata": {},
   "source": [
    "# Model-free Pulse Gate Calibration using Reinforcement Learning\n",
    "\n",
    "In this notebook, we adjust the definition of the gate to be a custom pulse sequence to be simulated by Qiskit-Dynamics package.\n",
    "\n",
    "This notebook combines previously introduced modules of Qiskit and Tensorflow, combined to the usage of Qiskit-Dynamics to handle a pulse level simulation."
   ]
  },
  {
   "cell_type": "code",
   "execution_count": 1,
   "id": "51684300-b733-4ac6-bfbc-512f027e7ec4",
   "metadata": {},
   "outputs": [
    {
     "name": "stdout",
     "output_type": "stream",
     "text": [
      "WARNING:tensorflow:Please fix your imports. Module tensorflow.python.training.tracking.base has been moved to tensorflow.python.trackable.base. The old module will be deleted in version 2.11.\n"
     ]
    }
   ],
   "source": [
    "import numpy as np\n",
    "import os\n",
    "import sys\n",
    "module_path = os.path.abspath(os.path.join('/Users/arthurstrauss/Library/CloudStorage/OneDrive-NationalUniversityofSingapore/Coding_projects/Quantum_Optimal_Control'))\n",
    "if module_path not in sys.path:\n",
    "    sys.path.append(module_path)\n",
    "from quantumenvironment import QuantumEnvironment, get_solver_and_freq_from_backend\n",
    "from helper_functions import select_optimizer, generate_model, get_control_channel_map\n",
    "\n",
    "# Qiskit imports for building RL environment (circuit level)\n",
    "from qiskit import pulse, transpile\n",
    "from qiskit.quantum_info import Operator\n",
    "from qiskit.providers.options import Options\n",
    "from qiskit.providers.fake_provider import FakeHanoi, FakeJakarta\n",
    "from qiskit.providers import QubitProperties, BackendV1, BackendV2\n",
    "from qiskit_ibm_runtime import QiskitRuntimeService\n",
    "from qiskit_dynamics import DynamicsBackend, Solver\n",
    "from qiskit_dynamics.array import Array\n",
    "from qiskit.circuit import ParameterVector, QuantumCircuit, QuantumRegister, Gate\n",
    "from qiskit.extensions import CXGate, XGate, SXGate, RZGate\n",
    "from qiskit.opflow import H, I, X, S, Z, Zero, One\n",
    "\n",
    "# Tensorflow imports for building RL agent and framework\n",
    "import tensorflow as tf\n",
    "from tensorflow_probability.python.distributions import MultivariateNormalDiag\n",
    "\n",
    "# Additional imports\n",
    "from tqdm import tqdm\n",
    "from IPython.display import clear_output\n",
    "import matplotlib.pyplot as plt\n",
    "from typing import Optional, Union, List\n",
    "# configure jax to use 64 bit mode\n",
    "import jax\n",
    "\n",
    "jax.config.update(\"jax_enable_x64\", True)\n",
    "# tell JAX we are using CPU\n",
    "jax.config.update(\"jax_platform_name\", \"cpu\")\n",
    "# import Array and set default backend\n",
    "\n",
    "Array.set_default_backend('jax')"
   ]
  },
  {
   "cell_type": "markdown",
   "id": "fee8f687-75a9-46ff-b7e6-fc21498abc97",
   "metadata": {},
   "source": [
    "# Defining QuantumEnvironment features\n",
    "\n",
    "We provide below the details of our custom Quantum Processing Unit (QPU) we are controlling."
   ]
  },
  {
   "cell_type": "markdown",
   "id": "0e5fd4b9-4f0b-4b0b-bdd1-b75bdc466bb2",
   "metadata": {},
   "source": [
    "## Generic information characterizing the quantum system\n",
    "\n",
    "The algorithm is built upon Qiskit modules. To specify how to address our quantum system of interest, we therefore adopt the IBM approach to define a quantum backend, on which qubits are defined and can be accessed via control actions and measurements.\n",
    "\n",
    "The cell below specifies:\n",
    "- ```n_qubits```: Number of qubits characterizing the system of interest \n",
    "- ```qubit_tgt_register```: List of qubit indices which are specifically addressed by controls , namely the ones for which we intend to calibrate a gate upon or steer them in a specific quantum state. Note that this list could include less qubits than the total number of qubits, which can be useful when one wants to take into account crosstalk effects emerging from nearest-neigbor coupling.\n",
    "- ```sampling_Paulis```: number of Pauli observables  to be sampled from the system: the algorithm relies on the ability to process measurement outcomes to estimate the expectation value of different Pauli operators. The more observables we provide for sampling, the more properties we are able to deduce with accuracy about the actual state that was created when applying our custom controls. For a single qubit, the possible Pauli operators are $\\sigma_0=I$, $\\sigma_x=X$, $\\sigma_y=Y$, $\\sigma_z=Z$. For a general multiqubit system, the Pauli observables are tensor products of those single qubit Pauli operators. The algorithm will automatically estimate which observables are the most relevant to sample based on the provided target. The probability distribution from which those observables are sampled is derived from the Direct Fidelity Estimation (equation 3, https://link.aps.org/doi/10.1103/PhysRevLett.106.230501) algorithm. \n",
    "- ```N_shots```: Indicates how many measurements shall be done for each provided circuit (that is a specific combination of an action vector and a Pauli observable to be sampled)\n",
    "- The dimension of the action vector: Indicates the number of pulse/circuit parameters that characterize our parametrized quantum circuit.\n",
    "- ```estimator_options```: Options of the Qiskit Estimator primitive. The Estimator is the Qiskit module enabling an easy computation of Pauli expectation values. One can set options to make this process more reliable (typically by doing some error mitigation techniques in post-processing).\n",
    "- ```abstraction_level``` chosen to encode our quantum circuit. One can choose here to stick to the usual circuit model of quantum computing, by using the ```QuantumCircuit``` objects from Qiskit and therefore set the ```abstraction_level``` to ```\"circuit\"```. However, depending on the task at hand, one can also prefer to use a pulse description of all the operations in our circuit. This is possible by using resources of another module of Qiskit called Qiskit Dynamics. In this case, one should define the ansatz circuit above in a pulse level fashion, and the simulation done at the Hamiltonian level, and not only via statevector calculations. In this notebook we set the ```abstraction_level``` to ```\"pulse\"```. Another notebook at the gate level is available in the repo."
   ]
  },
  {
   "cell_type": "code",
   "execution_count": 2,
   "id": "ca092dce-71e1-4534-b05e-f575c80b125b",
   "metadata": {},
   "outputs": [],
   "source": [
    "def custom_pulse_schedule(backend: Union[BackendV1, BackendV2], qubit_tgt_register: Union[List[int],\n",
    "                          QuantumRegister], params: ParameterVector,\n",
    "                          default_schedule: Optional[Union[pulse.ScheduleBlock, pulse.Schedule]] = None):\n",
    "    \"\"\"\n",
    "    Define parametrization of the pulse schedule characterizing the target gate\n",
    "        :param backend: IBM Backend on which schedule shall be added\n",
    "        :param qubit_tgt_register: Qubit register on which\n",
    "        :param params: Parameters of the Schedule\n",
    "        :param default_schedule:  baseline from which one can customize the pulse parameters\n",
    "\n",
    "        :return: Parametrized Schedule\n",
    "    \"\"\"\n",
    "\n",
    "    if default_schedule is None:  # No baseline pulse, full waveform builder\n",
    "        pass\n",
    "    else:\n",
    "\n",
    "        # Look here for the pulse features to specifically optimize upon, for the x gate here, simply retrieve relevant\n",
    "        # parameters for the Drag pulse\n",
    "        pulse_ref = default_schedule.instructions[0][1].pulse\n",
    "\n",
    "        with pulse.build(backend=backend, name='param_schedule') as parametrized_schedule:\n",
    "\n",
    "            pulse.play(pulse.Drag(duration=pulse_ref.duration, amp=params[0], sigma=pulse_ref.sigma,\n",
    "                                  beta=pulse_ref.beta, angle=pulse_ref.angle),\n",
    "                       channel=pulse.DriveChannel(qubit_tgt_register[0]))\n",
    "\n",
    "        return parametrized_schedule"
   ]
  },
  {
   "cell_type": "code",
   "execution_count": 3,
   "id": "af3f2aef-6244-4604-92a9-db67e1243cc8",
   "metadata": {},
   "outputs": [],
   "source": [
    "# Pulse gate ansatz\n",
    "\n",
    "def apply_parametrized_circuit(qc: QuantumCircuit):\n",
    "    \"\"\"\n",
    "    Define ansatz circuit to be played on Quantum Computer. Should be parametrized with Qiskit ParameterVector\n",
    "    This function is used to run the QuantumCircuit instance on a Runtime backend\n",
    "    :param qc: Quantum Circuit instance to add the gate on\n",
    "    :return:\n",
    "    \"\"\"\n",
    "    # qc.num_qubits\n",
    "    global n_actions, fake_backend, backend, qubit_tgt_register, target\n",
    "\n",
    "    # x_pulse = backend.defaults().instruction_schedule_map.get('x', (qubit_tgt_register,)).instructions[0][1].pulse\n",
    "    params = ParameterVector('theta', n_actions)\n",
    "\n",
    "    # original_calibration = backend.instruction_schedule_map.get(target[\"name\"])\n",
    "\n",
    "    parametrized_gate = Gate(\"custom_gate\", 1, params=[params[0]])\n",
    "    default_schedule = fake_backend.defaults().instruction_schedule_map.get('x', qubit_tgt_register)\n",
    "    parametrized_schedule = custom_pulse_schedule(backend=backend, qubit_tgt_register=qubit_tgt_register,\n",
    "                                                  params=params, default_schedule=default_schedule)\n",
    "    qc.add_calibration(parametrized_gate, qubit_tgt_register, parametrized_schedule)\n",
    "    qc.append(parametrized_gate, qubit_tgt_register)"
   ]
  },
  {
   "cell_type": "code",
   "execution_count": 4,
   "id": "18a1ade6-8fca-4635-98e8-0322e7a024f2",
   "metadata": {},
   "outputs": [],
   "source": [
    "n_qubits = 1  # Set number of qubits to set the simulation details\n",
    "qubit_tgt_register = [0]  # Choose which qubits of the QPU you want to address \n",
    "sampling_Paulis = 10\n",
    "N_shots = 1  # Number of shots for sampling the quantum computer for each action vector\n",
    "n_actions = 1  # Choose how many control parameters in pulse/circuit parametrization\n",
    "abstraction_level = 'pulse' # Choose at which abstraction level the circuit ansatz is written\n",
    "estimator_options = {'resilience_level': 0}"
   ]
  },
  {
   "cell_type": "markdown",
   "id": "3b086066-11bd-40de-a362-e1b8e969364f",
   "metadata": {
    "tags": []
   },
   "source": [
    "Choose below which IBM Backend to use. As we are dealing with pulse level implementation, we can either simulate a backend using QiskitDynamics, or use a real backend that supports OpenPulse features."
   ]
  },
  {
   "cell_type": "markdown",
   "id": "4d031340-598c-4198-b340-13b1099a64cb",
   "metadata": {},
   "source": [
    "## 1. Setting up a Quantum Backend"
   ]
  },
  {
   "cell_type": "markdown",
   "id": "5aa74a2d-520e-45c6-b3bc-d39bd360b0b7",
   "metadata": {
    "tags": []
   },
   "source": [
    "### Real backend initialization\n",
    "\n",
    "Uncomment the cell below to declare a Qiskit Runtime backend. You need an internet connection and an IBM Id account to access this."
   ]
  },
  {
   "cell_type": "code",
   "execution_count": 5,
   "id": "3b95cba2-bcf0-4137-9b15-45c348b5e5bc",
   "metadata": {},
   "outputs": [],
   "source": [
    "\"\"\"\n",
    "Real backend initialization:\n",
    "Run this cell only if intending to use a real backend, where Qiskit Runtime is enabled\n",
    "\"\"\"\n",
    "backend_name = 'ibm_perth'\n",
    "\n",
    "#service = QiskitRuntimeService(channel='ibm_quantum')\n",
    "#runtime_backend = service.get_backend(backend_name)"
   ]
  },
  {
   "cell_type": "markdown",
   "id": "8f19e9cf-d1ad-497d-b916-7967bbd1b589",
   "metadata": {
    "tags": []
   },
   "source": [
    "### Simulation backend initialization\n",
    "If you want to run the algorithm over a simulation, you can rely on Qiskit Dynamics for pulse level simulation of quantum circuits. Below we set the ground for declaring a ```DynamicsBackend```.\n",
    "\n",
    "This can be done in two ways: \n",
    "\n",
    "1. Declare a ```DynamicsBackend``` from a ```FakeBackend``` or ```IBMBackend``` instance and use the ```from_backend()``` method to retrieve the Hamiltonian description of such backend.\n",
    "2. Alternatively, you can define your own custom Hamiltonian/Linblad that should be used to simulate the multiqubit system of interest, and feed it to a ```Solver``` instance which can be used to declare the ```DynamicsBackend```.\n",
    "For more information you can check Qiskit Dynamics documentation (https://qiskit.org/documentation/dynamics/apidocs/backend.html)\n"
   ]
  },
  {
   "cell_type": "markdown",
   "id": "bb7081fc-5239-45f3-9bb8-daf5a76a6122",
   "metadata": {},
   "source": [
    "#### 1. Using ```FakeBackend``` as starting point"
   ]
  },
  {
   "cell_type": "code",
   "execution_count": 6,
   "id": "29f3ae17-fc3a-43ba-bdf2-eb82dafb947e",
   "metadata": {},
   "outputs": [],
   "source": [
    "from qiskit.providers.fake_provider import FakeHanoi, FakeJakarta, FakeJakartaV2\n",
    "fake_backend = FakeJakarta()\n",
    "fake_backend_v2 = FakeJakartaV2()\n",
    "control_channel_map = get_control_channel_map(fake_backend, qubit_tgt_register)\n",
    "dt = fake_backend_v2.target.dt"
   ]
  },
  {
   "cell_type": "code",
   "execution_count": 7,
   "id": "bc10f9bd-92db-4f17-91f9-f9164a816290",
   "metadata": {},
   "outputs": [],
   "source": [
    "dynamics_options = {'seed_simulator': None, #\"configuration\": fake_backend.configuration(),\n",
    "                    'control_channel_map': control_channel_map,\n",
    "                    # Control channels to play CR tones, should match connectivity of device\n",
    "                    \"solver_options\": {\"method\": \"jax_odeint\", \"atol\": 1e-6, \"rtol\": 1e-8, \"hmax\":dt}\n",
    "                    }\n",
    "dynamics_backend = DynamicsBackend.from_backend(fake_backend, subsystem_list=qubit_tgt_register, **dynamics_options)\n",
    "\n",
    "target = dynamics_backend.target\n",
    "target.qubit_properties = fake_backend_v2.qubit_properties(qubit_tgt_register)\n",
    "\n",
    "# Extract channel frequencies and Solver instance from backend to provide a pulse level simulation enabling\n",
    "# fidelity benchmarking\n",
    "channel_freq, solver = get_solver_and_freq_from_backend(\n",
    "    backend=fake_backend,\n",
    "    subsystem_list=qubit_tgt_register,\n",
    "    rotating_frame=\"auto\",\n",
    "    evaluation_mode=\"dense\",\n",
    "    rwa_cutoff_freq=None,\n",
    "    static_dissipators=None,\n",
    "    dissipator_channels=None,\n",
    "    dissipator_operators=None\n",
    ")\n",
    "calibration_files=None"
   ]
  },
  {
   "cell_type": "markdown",
   "id": "90bb5d1b-79d1-4d1c-94fd-e3aed6831809",
   "metadata": {},
   "source": [
    "#### 2. Using a custom Hamiltonian model"
   ]
  },
  {
   "cell_type": "code",
   "execution_count": 8,
   "id": "e9fcfc14-8e54-4f80-93d5-95be15104015",
   "metadata": {},
   "outputs": [],
   "source": [
    "r = 0.1\n",
    "\n",
    "# Frequency of the qubit transition in GHz.\n",
    "w = 5.\n",
    "\n",
    "# Sample rate of the backend in ns.\n",
    "dt = 2.2222222e-10\n",
    "\n",
    "# Define gaussian envelope function to have a pi rotation.\n",
    "amp = 1.\n",
    "area = 1\n",
    "sig = area*0.399128/r/amp\n",
    "T = 4*sig\n",
    "duration = int(T / dt)\n",
    "beta = 2.0\n",
    "\n",
    "drift = 2 * np.pi * w *Operator(Z)/2\n",
    "operators = [2 * np.pi * r * Operator(X)/2]\n",
    "\n",
    "hamiltonian_solver = Solver(\n",
    "    static_hamiltonian=drift,\n",
    "hamiltonian_operators=operators,\n",
    "rotating_frame=drift,\n",
    "rwa_cutoff_freq=2 * 5.0,\n",
    "hamiltonian_channels=['d0'],\n",
    "channel_carrier_freqs={'d0': w},\n",
    "dt=dt\n",
    ")\n",
    "\n",
    "custom_pulse_backend = DynamicsBackend(hamiltonian_solver, **dynamics_options)"
   ]
  },
  {
   "cell_type": "markdown",
   "id": "eca4e4fd-a2a8-4151-be05-3a34aa52f327",
   "metadata": {},
   "source": [
    "### Choose backend and define Qiskit config dictionary\n",
    "Below, set the Backend that you would like to run among the above defined backend.\n",
    "Then define the config gathering all the components enabling the definition of the ```QuantumEnvironment```.\n",
    "\n"
   ]
  },
  {
   "cell_type": "code",
   "execution_count": 9,
   "id": "ebfa0bdb-dffe-4f13-992d-998f7b3c4325",
   "metadata": {},
   "outputs": [],
   "source": [
    "# Choose backend among the set defined above: {runtime_backend, real_backend, dynamics_backend}\n",
    "backend = custom_pulse_backend"
   ]
  },
  {
   "cell_type": "code",
   "execution_count": 10,
   "id": "d6fe7beb-22f9-4213-afc9-330789acf9ba",
   "metadata": {},
   "outputs": [],
   "source": [
    "# Wrap all info in one dict Qiskit_setup\n",
    "Qiskit_setup = {\n",
    "    \"backend\": backend,\n",
    "    \"parametrized_circuit\": apply_parametrized_circuit, # Ansatz circuit for target prep\n",
    "    \"estimator_options\": estimator_options,\n",
    "    # Below are optional keys for pulse simulation\n",
    "    # Relevant only if backend is not a DynamicsBackend\n",
    "    \"qubits\": qubit_tgt_register,\n",
    "    \"channel_freq\": channel_freq,\n",
    "    \"solver\": solver,\n",
    "}"
   ]
  },
  {
   "cell_type": "markdown",
   "id": "f1121512-21c2-4245-9f73-2ffa8788a6b2",
   "metadata": {
    "tags": []
   },
   "source": [
    "## 2. Define quantum target: State preparation or Gate calibration\n",
    "\n",
    "The target of our optimal control task can be of two different types:\n",
    "1.  An arbitrary quantum state to prepare with high accuracy\n",
    "2. A Quantum Gate to be calibrated in a noise-robust manner\n",
    "\n",
    "Both targets are dictionaries that are identified with a key stating their ```target_type```, which can be either ```\"state\"``` or ```\"gate\"```.\n",
    "\n",
    "For a gate target $G$, one can add the target quantum gate with a ```\"gate\"``` argument specifying a specific instance of a Qiskit ```Gate``` object. Here, we settle for calibrating a ```XGate()```.\n",
    "Moreover, a gate calibration requires a set of input states $\\{|s_i\\rangle \\}$ to be provided, such that the agent can try to set the actions such that the fidelity between the anticipated ideal target state (calculated as  $G|s_i\\rangle$) and the output state are simultaneously maximized. To ensure a correlation between the average reward computed from the measurement outcomes and the average gate fidelity, the provided set of input states must be tomographically complete.\n",
    "\n",
    "For a state target, one can provide, similarly to an input state, an ideal circuit to prepare it (```\"circuit\": CircuitOp```, or a density matrix (key ```\"dm\": DensityMatrix```).\n",
    "\n",
    "Another important key that should figure in the dictionary is the ```\"register\"``` indicating the qubits indices that should be addressed by this target, i.e. upon which qubits should the target be engineered.\n"
   ]
  },
  {
   "cell_type": "code",
   "execution_count": 11,
   "id": "acb03d23-d682-4ff1-b6af-1adb3061b4a9",
   "metadata": {},
   "outputs": [],
   "source": [
    "# Example of target gate\n",
    "X_tgt = {\n",
    "    \"target_type\": 'gate',\n",
    "    \"gate\": XGate(\"X\"),\n",
    "    \"register\": qubit_tgt_register,\n",
    "    \"input_states\": [\n",
    "        {\"name\": '|0>',\n",
    "         \"circuit\": I},\n",
    "\n",
    "        {\"name\": '|1>',\n",
    "         \"circuit\": X},\n",
    "\n",
    "        {\"name\": '|+>',\n",
    "         \"circuit\": H},\n",
    "        {\"name\": '|->',\n",
    "         \"circuit\": H @ X},\n",
    "    ]\n",
    "\n",
    "}\n",
    "\n",
    "# Example of target state\n",
    "\n",
    "excited_tgt = {\n",
    "    \"target_type\": 'state',\n",
    "    \"circuit\": X,\n",
    "    \"register\": qubit_tgt_register\n",
    "}"
   ]
  },
  {
   "cell_type": "code",
   "execution_count": 12,
   "id": "3220f58f-677b-4c79-82bc-a76f3869cc55",
   "metadata": {},
   "outputs": [],
   "source": [
    "# Choose which target to use\n",
    "target = excited_tgt"
   ]
  },
  {
   "cell_type": "markdown",
   "id": "2eb21e5f-ccb6-43c9-90e9-1fbe2f41e30d",
   "metadata": {},
   "source": [
    "## 3. Declare QuantumEnvironment object\n",
    "Running the box below declares the QuantumEnvironment instance.\n",
    "\n",
    "If selected backend is a ```DynamicsBackend```, this declaration launches a series of single qubit gate calibrations (to calibrate X and SX gate). The reason for this is that the Estimator primitive, which enables the easy calculation of Pauli expectation values, needs to append gates for doing Pauli basis rotations (SX and Rz gate)."
   ]
  },
  {
   "cell_type": "code",
   "execution_count": 13,
   "id": "67ab0679-3481-4feb-aeb4-8d5232898419",
   "metadata": {},
   "outputs": [
    {
     "name": "stdout",
     "output_type": "stream",
     "text": [
      "Starting Rabi experiments...\n",
      "Starting Rabi experiment for qubit 0...\n",
      "Rabi experiment for qubit 0 done.\n",
      "Starting Drag experiment for qubit 0...\n"
     ]
    },
    {
     "name": "stderr",
     "output_type": "stream",
     "text": [
      "Analysis callback failed [Experiment ID: c15ef177-9b9f-4b12-b971-e36c3e235a11][Analysis Callback ID: e622b70ef7924006ab9dbeebabdaf95b]:\n",
      "Traceback (most recent call last):\n",
      "  File \"/Users/arthurstrauss/opt/anaconda3/envs/qiskit_env/lib/python3.9/site-packages/qiskit_experiments/framework/experiment_data.py\", line 897, in _run_analysis_callback\n",
      "    callback(self, **kwargs)\n",
      "  File \"/Users/arthurstrauss/opt/anaconda3/envs/qiskit_env/lib/python3.9/site-packages/qiskit_experiments/framework/base_analysis.py\", line 169, in run_analysis\n",
      "    results, figures = analysis._run_analysis(expdata)\n",
      "  File \"/Users/arthurstrauss/opt/anaconda3/envs/qiskit_env/lib/python3.9/site-packages/qiskit_experiments/curve_analysis/curve_analysis.py\", line 411, in _run_analysis\n",
      "    fit_data = self._run_curve_fit(\n",
      "  File \"/Users/arthurstrauss/opt/anaconda3/envs/qiskit_env/lib/python3.9/site-packages/qiskit_experiments/library/characterization/analysis/drag_analysis.py\", line 196, in _run_curve_fit\n",
      "    fit_result = super()._run_curve_fit(curve_data, models)\n",
      "  File \"/Users/arthurstrauss/opt/anaconda3/envs/qiskit_env/lib/python3.9/site-packages/qiskit_experiments/curve_analysis/curve_analysis.py\", line 312, in _run_curve_fit\n",
      "    fit_options = self._generate_fit_guesses(default_fit_opt, curve_data)\n",
      "  File \"/Users/arthurstrauss/opt/anaconda3/envs/qiskit_env/lib/python3.9/site-packages/qiskit_experiments/library/characterization/analysis/drag_analysis.py\", line 134, in _generate_fit_guesses\n",
      "    user_opt.bounds.set_if_empty(\n",
      "  File \"/Users/arthurstrauss/opt/anaconda3/envs/qiskit_env/lib/python3.9/site-packages/qiskit_experiments/curve_analysis/curve_data.py\", line 467, in set_if_empty\n",
      "    self[key] = value\n",
      "  File \"/Users/arthurstrauss/opt/anaconda3/envs/qiskit_env/lib/python3.9/site-packages/qiskit_experiments/curve_analysis/curve_data.py\", line 454, in __setitem__\n",
      "    super().__setitem__(key, self.format(value))\n",
      "  File \"/Users/arthurstrauss/opt/anaconda3/envs/qiskit_env/lib/python3.9/site-packages/qiskit_experiments/curve_analysis/curve_data.py\", line 531, in format\n",
      "    raise AnalysisError(\n",
      "qiskit_experiments.exceptions.AnalysisError: 'The first value is greater than the second value -0.0 >= 0.'\n",
      "\n"
     ]
    },
    {
     "name": "stdout",
     "output_type": "stream",
     "text": [
      "Drag experiments done for qubit 0 done.\n",
      "All calibrations are done\n",
      "Updated Instruction Schedule Map <InstructionScheduleMap(1Q instructions:\n",
      "  q0: {'rz', 's', 'measure', 'z', 'sdg', 'h', 'tdg', 't', 'id', 'reset'}\n",
      "Multi qubit instructions:\n",
      ")>\n",
      "CPU times: user 13.4 s, sys: 168 ms, total: 13.6 s\n",
      "Wall time: 14 s\n"
     ]
    }
   ],
   "source": [
    "%%time\n",
    "q_env = QuantumEnvironment(n_qubits=n_qubits, target=target, abstraction_level=abstraction_level,\n",
    "                           Qiskit_config=Qiskit_setup,\n",
    "                           sampling_Pauli_space=sampling_Paulis, n_shots=N_shots, c_factor=0.5)"
   ]
  },
  {
   "cell_type": "code",
   "execution_count": 14,
   "id": "0a1429f2-4d5f-492d-9b2e-ad203eba66fe",
   "metadata": {},
   "outputs": [
    {
     "name": "stdout",
     "output_type": "stream",
     "text": [
      "<InstructionScheduleMap(1Q instructions:\n",
      "  q0: {'rz', 's', 'measure', 'x', 'z', 'sdg', 'h', 'tdg', 't', 'id', 'sx', 'reset'}\n",
      "Multi qubit instructions:\n",
      ")>\n"
     ]
    }
   ],
   "source": [
    "print(backend.target.instruction_schedule_map())\n"
   ]
  },
  {
   "cell_type": "markdown",
   "id": "0e4d62cd-aece-4d1f-822b-d262cd254134",
   "metadata": {},
   "source": [
    "# Defining the RL agent: PPO"
   ]
  },
  {
   "cell_type": "code",
   "execution_count": 15,
   "id": "f8dda7fc-da3f-41ca-bdc1-300880c078c5",
   "metadata": {},
   "outputs": [
    {
     "name": "stdout",
     "output_type": "stream",
     "text": [
      "CPU times: user 2 µs, sys: 1e+03 ns, total: 3 µs\n",
      "Wall time: 6.91 µs\n"
     ]
    }
   ],
   "source": [
    "\"\"\"\n",
    "-----------------------------------------------------------------------------------------------------\n",
    "Hyperparameters for RL agent\n",
    "-----------------------------------------------------------------------------------------------------\n",
    "\"\"\"\n",
    "%time\n",
    "# Hyperparameters for the agent\n",
    "n_epochs = 200  # Number of epochs\n",
    "batchsize = 50  # Batch size (iterate over a bunch of actions per policy to estimate expected return)\n",
    "opti = \"Adam\"\n",
    "eta = 0.001  # Learning rate for policy update step\n",
    "eta_2 = None  # Learning rate for critic (value function) update step\n",
    "\n",
    "use_PPO = True\n",
    "epsilon = 0.1  # Parameter for clipping value (PPO)\n",
    "grad_clip = 0.01\n",
    "critic_loss_coeff = 0.5\n",
    "optimizer = select_optimizer(lr=eta, optimizer=opti, grad_clip=grad_clip, concurrent_optimization=True, lr2=eta_2)\n",
    "sigma_eps = 1e-3  # for numerical stability"
   ]
  },
  {
   "cell_type": "code",
   "execution_count": 16,
   "id": "8f5df469-a5a3-441f-a58c-e63a78e1e803",
   "metadata": {},
   "outputs": [
    {
     "name": "stdout",
     "output_type": "stream",
     "text": [
      "Model: \"model\"\n",
      "__________________________________________________________________________________________________\n",
      "Layer (type)                    Output Shape         Param #     Connected to                     \n",
      "==================================================================================================\n",
      "input_1 (InputLayer)            [(None, 2)]          0                                            \n",
      "__________________________________________________________________________________________________\n",
      "hidden_0 (Dense)                (None, 82)           246         input_1[0][0]                    \n",
      "__________________________________________________________________________________________________\n",
      "hidden_1 (Dense)                (None, 82)           6806        hidden_0[0][0]                   \n",
      "__________________________________________________________________________________________________\n",
      "mean_vec (Dense)                (None, 1)            83          hidden_1[0][0]                   \n",
      "__________________________________________________________________________________________________\n",
      "sigma_vec (Dense)               (None, 1)            83          hidden_1[0][0]                   \n",
      "__________________________________________________________________________________________________\n",
      "critic_output (Dense)           (None, 1)            83          hidden_1[0][0]                   \n",
      "==================================================================================================\n",
      "Total params: 7,301\n",
      "Trainable params: 7,301\n",
      "Non-trainable params: 0\n",
      "__________________________________________________________________________________________________\n"
     ]
    }
   ],
   "source": [
    "\"\"\"\n",
    "-----------------------------------------------------------------------------------------------------\n",
    "Policy parameters\n",
    "-----------------------------------------------------------------------------------------------------\n",
    "\"\"\"\n",
    "# Policy parameters\n",
    "N_in = n_qubits + 1  # One input for each measured qubit state (0 or 1 input for each neuron)\n",
    "hidden_units = [82, 82]  # List containing number of units in each hidden layer\n",
    "\n",
    "network = generate_model((N_in,), hidden_units, n_actions, actor_critic_together=True)\n",
    "network.summary()\n",
    "init_msmt = np.zeros((1, N_in))  # Here no feedback involved, so measurement sequence is always the same"
   ]
  },
  {
   "cell_type": "code",
   "execution_count": 17,
   "id": "597d3ca1-9f9b-4b27-940d-7688f48e47a8",
   "metadata": {},
   "outputs": [],
   "source": [
    "# Plotting tools\n",
    "plt.rcParams['figure.dpi'] = 300\n",
    "plt.rcParams['savefig.dpi'] = 300\n",
    "avg_return = np.zeros(n_epochs)\n",
    "fidelities = np.zeros(n_epochs)\n",
    "visualization_steps = 5\n",
    "%matplotlib inline\n",
    "do_benchmark = False"
   ]
  },
  {
   "cell_type": "markdown",
   "id": "43b91628-7dc7-4f5d-b211-c1d204347e29",
   "metadata": {},
   "source": [
    "## Run algorithm"
   ]
  },
  {
   "cell_type": "code",
   "execution_count": null,
   "id": "cf1166d2-87fe-4c5e-a8d6-3376ef96bdcb",
   "metadata": {},
   "outputs": [
    {
     "data": {
      "image/png": "[encoded data removed]",
      "text/plain": [
       "<Figure size 1920x1440 with 1 Axes>"
      ]
     },
     "metadata": {},
     "output_type": "display_data"
    },
    {
     "name": "stderr",
     "output_type": "stream",
     "text": [
      "  3%|█▎                                         | 6/200 [00:19<11:37,  3.59s/it]"
     ]
    },
    {
     "name": "stdout",
     "output_type": "stream",
     "text": [
      "Maximum return reached so far: 0.0 at Epoch 0\n",
      "\n",
      " Epoch 6\n",
      "Policy params [-0.19317451] +- [0.5904173]\n"
     ]
    },
    {
     "name": "stderr",
     "output_type": "stream",
     "text": [
      "  4%|█▌                                         | 7/200 [00:22<10:43,  3.33s/it]"
     ]
    },
    {
     "name": "stdout",
     "output_type": "stream",
     "text": [
      "Policy params [-0.19317451] +- [0.5904173]\n",
      "Average reward 0.0\n",
      "Action batch [[-0.5       ]\n",
      " [-0.5       ]\n",
      " [-0.2650444 ]\n",
      " [-0.5       ]\n",
      " [-0.5       ]\n",
      " [-0.19112189]\n",
      " [ 0.5       ]\n",
      " [-0.5       ]\n",
      " [ 0.01830943]\n",
      " [-0.5       ]\n",
      " [-0.5       ]\n",
      " [ 0.5       ]\n",
      " [ 0.5       ]\n",
      " [-0.5       ]\n",
      " [-0.28032228]\n",
      " [-0.5       ]\n",
      " [ 0.08371615]\n",
      " [ 0.1566813 ]\n",
      " [ 0.5       ]\n",
      " [-0.5       ]\n",
      " [-0.5       ]\n",
      " [-0.5       ]\n",
      " [-0.40764716]\n",
      " [ 0.0858061 ]\n",
      " [ 0.11274642]\n",
      " [ 0.1461902 ]\n",
      " [ 0.30975714]\n",
      " [-0.3708151 ]\n",
      " [-0.08002456]\n",
      " [-0.40583843]\n",
      " [-0.5       ]\n",
      " [ 0.5       ]\n",
      " [-0.5       ]\n",
      " [-0.03132923]\n",
      " [ 0.12764022]\n",
      " [-0.5       ]\n",
      " [ 0.27004534]\n",
      " [ 0.23290354]\n",
      " [-0.5       ]\n",
      " [-0.5       ]\n",
      " [ 0.5       ]\n",
      " [-0.5       ]\n",
      " [-0.5       ]\n",
      " [-0.5       ]\n",
      " [-0.05910358]\n",
      " [-0.5       ]\n",
      " [-0.2179392 ]\n",
      " [-0.5       ]\n",
      " [ 0.03422017]\n",
      " [-0.16131225]]\n",
      "\n",
      " Epoch 7\n",
      "Policy params [-0.15897253] +- [0.5649158]\n"
     ]
    }
   ],
   "source": [
    "\"\"\"\n",
    "-----------------------------------------------------------------------------------------------------\n",
    "Training loop\n",
    "-----------------------------------------------------------------------------------------------------\n",
    "\"\"\"\n",
    "\n",
    "q_env.clear_history()\n",
    "mu_old = tf.Variable(initial_value=network(init_msmt)[0][0], trainable=False)\n",
    "sigma_old = tf.Variable(initial_value=network(init_msmt)[1][0], trainable=False)\n",
    "\n",
    "\n",
    "for i in tqdm(range(n_epochs)):\n",
    "\n",
    "    Old_distrib = MultivariateNormalDiag(loc=mu_old, scale_diag=sigma_old,\n",
    "                                         validate_args=True, allow_nan_stats=False)\n",
    "    print('\\n Epoch', i)\n",
    "    \n",
    "    with tf.GradientTape(persistent=True) as tape:\n",
    "\n",
    "        mu, sigma, b = network(init_msmt, training=True)\n",
    "        mu = tf.squeeze(mu, axis=0)\n",
    "        sigma = tf.squeeze(sigma, axis=0)\n",
    "        b = tf.squeeze(b, axis=0)\n",
    "        \n",
    "        Policy_distrib = MultivariateNormalDiag(loc=mu, scale_diag=sigma,\n",
    "                                                validate_args=True, allow_nan_stats=False)\n",
    "\n",
    "        action_vector = tf.stop_gradient(tf.clip_by_value(Policy_distrib.sample(batchsize), -0.5, 0.5))\n",
    "        # Adjust the action vector according to params physical significance\n",
    "        print(\"Policy params\", np.array(mu), \"+-\", np.array(sigma))\n",
    "        reward = q_env.perform_action(action_vector, do_benchmark)\n",
    "        advantage = reward - b\n",
    "\n",
    "        if use_PPO:\n",
    "            ratio = Policy_distrib.prob(action_vector) / (tf.stop_gradient(Old_distrib.prob(action_vector)) + 1e-6)\n",
    "            actor_loss = - tf.reduce_mean(tf.minimum(advantage * ratio,\n",
    "                                                     advantage * tf.clip_by_value(ratio, 1 - epsilon, 1 + epsilon)))\n",
    "        else:  # REINFORCE algorithm\n",
    "            actor_loss = - tf.reduce_mean(advantage * Policy_distrib.log_prob(action_vector))\n",
    "\n",
    "        critic_loss = tf.reduce_mean(advantage ** 2)\n",
    "        combined_loss = actor_loss + critic_loss_coeff * critic_loss\n",
    "\n",
    "    grads = tape.gradient(combined_loss, network.trainable_variables)\n",
    "    print(\"Policy params\", np.array(mu), \"+-\", np.array(sigma))\n",
    "    # For PPO, update old parameters to have access to \"old\" policy\n",
    "    if use_PPO:\n",
    "        mu_old.assign(mu)\n",
    "        sigma_old.assign(sigma)\n",
    "    \n",
    "    avg_return[i] = np.mean(q_env.reward_history, axis =1)[i]\n",
    "    print(\"Average reward\", avg_return[i])\n",
    "    if do_benchmark:\n",
    "        if target['target_type'] == 'gate':\n",
    "            fidelities[i] = q_env.avg_fidelity_history[i]\n",
    "            print(\"Average Gate fidelity\", fidelities[i])\n",
    "        else:\n",
    "            fidelities[i] = q_env.state_fidelity_history[i]\n",
    "            print(\"State fidelity\", fidelities[i])\n",
    "    print(\"Action batch\", q_env.action_history[i])\n",
    "    if i%visualization_steps == 0:\n",
    "        clear_output(wait=True) # for animation\n",
    "        fig, ax = plt.subplots()\n",
    "        ax.plot(np.arange(1, n_epochs, visualization_steps),avg_return[0:-1:visualization_steps], '-.', label='Average return')\n",
    "        if do_benchmark:\n",
    "            ax.plot(np.arange(1, n_epochs, visualization_steps),fidelities[0:-1:visualization_steps], label='Average Gate Fidelity')\n",
    "        ax.set_xlabel(\"Epoch\")\n",
    "        ax.set_ylabel(\"Reward/Gate Fidelity\")\n",
    "        ax.legend()\n",
    "        plt.show()\n",
    "        if do_benchmark:\n",
    "            print(\"Maximum fidelity reached so far:\", np.max(fidelities), \"at Epoch\", np.argmax(fidelities))\n",
    "        print(\"Maximum return reached so far:\", np.max(avg_return), \"at Epoch\", np.argmax(avg_return))\n",
    "        # Apply gradients\n",
    "    optimizer.apply_gradients(zip(grads, network.trainable_variables))\n",
    "\n",
    "%time "
   ]
  },
  {
   "cell_type": "code",
   "execution_count": null,
   "id": "5144d309-e57a-4ea8-9b0b-59e0ea246e5a",
   "metadata": {},
   "outputs": [],
   "source": [
    "q_env.action_history"
   ]
  },
  {
   "cell_type": "code",
   "execution_count": null,
   "id": "c8f91196-2a4f-4240-9e9b-76883d717f38",
   "metadata": {},
   "outputs": [],
   "source": [
    "backend.options.solver.model.dim"
   ]
  },
  {
   "cell_type": "raw",
   "id": "91afe5c1-61f7-44c8-ba88-a6a7c9fbe9b6",
   "metadata": {},
   "source": []
  }
 ],
 "metadata": {
  "kernelspec": {
   "display_name": "Python 3 (ipykernel)",
   "language": "python",
   "name": "python3"
  },
  "language_info": {
   "codemirror_mode": {
    "name": "ipython",
    "version": 3
   },
   "file_extension": ".py",
   "mimetype": "text/x-python",
   "name": "python",
   "nbconvert_exporter": "python",
   "pygments_lexer": "ipython3",
   "version": "3.9.13"
  }
 },
 "nbformat": 4,
 "nbformat_minor": 5
}
